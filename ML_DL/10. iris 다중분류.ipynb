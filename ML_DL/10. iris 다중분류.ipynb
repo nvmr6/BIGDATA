{
 "cells": [
  {
   "cell_type": "code",
   "execution_count": 1,
   "metadata": {
    "ExecuteTime": {
     "end_time": "2021-03-24T08:09:40.594813Z",
     "start_time": "2021-03-24T08:09:40.570878Z"
    }
   },
   "outputs": [
    {
     "data": {
      "text/html": [
       "\n",
       "<style>\n",
       "div.container{width:80% !important;}\n"
      ],
      "text/plain": [
       "<IPython.core.display.HTML object>"
      ]
     },
     "metadata": {},
     "output_type": "display_data"
    }
   ],
   "source": [
    "from IPython.display import display, HTML\n",
    "display(HTML(\"\"\"\n",
    "<style>\n",
    "div.container{width:80% !important;}\n",
    "\"\"\"))"
   ]
  },
  {
   "cell_type": "markdown",
   "metadata": {},
   "source": [
    "<font size=6>iris 다중분류</font>"
   ]
  },
  {
   "cell_type": "code",
   "execution_count": 8,
   "metadata": {
    "ExecuteTime": {
     "end_time": "2021-03-24T08:22:35.618013Z",
     "start_time": "2021-03-24T08:22:34.849962Z"
    }
   },
   "outputs": [],
   "source": [
    "from tensorflow.keras.models import Sequential\n",
    "from tensorflow.keras.layers import Input, Dense, Dropout\n",
    "from sklearn.model_selection import train_test_split #셋 분리\n",
    "import seaborn as sns\n",
    "import pandas as pd\n",
    "import matplotlib.pyplot as plt\n",
    "# import numpy as np\n",
    "# import tensorflow.keras.utils as utils\n",
    "# from tensorflow.keras import metrics\n",
    "# from tensorflow.keras.callbacks import EarlyStopping"
   ]
  },
  {
   "cell_type": "code",
   "execution_count": 10,
   "metadata": {
    "ExecuteTime": {
     "end_time": "2021-03-24T08:25:12.557006Z",
     "start_time": "2021-03-24T08:25:12.530054Z"
    }
   },
   "outputs": [
    {
     "name": "stdout",
     "output_type": "stream",
     "text": [
      "<class 'pandas.core.frame.DataFrame'>\n",
      "RangeIndex: 150 entries, 0 to 149\n",
      "Data columns (total 5 columns):\n",
      " #   Column        Non-Null Count  Dtype  \n",
      "---  ------        --------------  -----  \n",
      " 0   sepal_length  150 non-null    float64\n",
      " 1   sepal_width   150 non-null    float64\n",
      " 2   petal_length  150 non-null    float64\n",
      " 3   petal_width   150 non-null    float64\n",
      " 4   species       150 non-null    object \n",
      "dtypes: float64(4), object(1)\n",
      "memory usage: 6.0+ KB\n"
     ]
    },
    {
     "data": {
      "text/plain": [
       "((105, 4), (45, 4), (105, 3), (45, 3))"
      ]
     },
     "execution_count": 10,
     "metadata": {},
     "output_type": "execute_result"
    }
   ],
   "source": [
    "#1. 데이터 셋\n",
    "iris = sns.load_dataset(\"iris\")\n",
    "iris.info()\n",
    "iris_X = iris.iloc[:,:-1].to_numpy()\n",
    "iris_Y = iris.iloc[:,-1]\n",
    "iris_Y = pd.get_dummies(iris_Y).to_numpy()#라벨링 (숫자 아니라 utils 불가)\n",
    "train_X, test_X, train_Y, test_Y = train_test_split(iris_X, iris_Y, test_size=0.3, random_state = 1)\n",
    "train_X.shape, test_X.shape, train_Y.shape, test_Y.shape"
   ]
  },
  {
   "cell_type": "code",
   "execution_count": 13,
   "metadata": {
    "ExecuteTime": {
     "end_time": "2021-03-24T08:45:13.963400Z",
     "start_time": "2021-03-24T08:45:09.328364Z"
    }
   },
   "outputs": [
    {
     "name": "stdout",
     "output_type": "stream",
     "text": [
      "Epoch 1/100\n",
      "2/2 [==============================] - 1s 195ms/step - loss: 1.2572 - accuracy: 0.3594 - val_loss: 1.2703 - val_accuracy: 0.2381\n",
      "Epoch 2/100\n",
      "2/2 [==============================] - 0s 36ms/step - loss: 1.1659 - accuracy: 0.3594 - val_loss: 1.2041 - val_accuracy: 0.2381\n",
      "Epoch 3/100\n",
      "2/2 [==============================] - 0s 35ms/step - loss: 1.0982 - accuracy: 0.4892 - val_loss: 1.1679 - val_accuracy: 0.3810\n",
      "Epoch 4/100\n",
      "2/2 [==============================] - 0s 35ms/step - loss: 1.0563 - accuracy: 0.4016 - val_loss: 1.1386 - val_accuracy: 0.4286\n",
      "Epoch 5/100\n",
      "2/2 [==============================] - 0s 34ms/step - loss: 1.0144 - accuracy: 0.5384 - val_loss: 1.1208 - val_accuracy: 0.5238\n",
      "Epoch 6/100\n",
      "2/2 [==============================] - 0s 36ms/step - loss: 0.9985 - accuracy: 0.6670 - val_loss: 1.0969 - val_accuracy: 0.5238\n",
      "Epoch 7/100\n",
      "2/2 [==============================] - 0s 37ms/step - loss: 0.9678 - accuracy: 0.7308 - val_loss: 1.0736 - val_accuracy: 0.5238\n",
      "Epoch 8/100\n",
      "2/2 [==============================] - 0s 35ms/step - loss: 0.9758 - accuracy: 0.7054 - val_loss: 1.0469 - val_accuracy: 0.5238\n",
      "Epoch 9/100\n",
      "2/2 [==============================] - 0s 35ms/step - loss: 0.9118 - accuracy: 0.7654 - val_loss: 1.0289 - val_accuracy: 0.5238\n",
      "Epoch 10/100\n",
      "2/2 [==============================] - 0s 37ms/step - loss: 0.9074 - accuracy: 0.7321 - val_loss: 1.0049 - val_accuracy: 0.5238\n",
      "Epoch 11/100\n",
      "2/2 [==============================] - 0s 35ms/step - loss: 0.8933 - accuracy: 0.7254 - val_loss: 0.9809 - val_accuracy: 0.5238\n",
      "Epoch 12/100\n",
      "2/2 [==============================] - 0s 37ms/step - loss: 0.8559 - accuracy: 0.7454 - val_loss: 0.9590 - val_accuracy: 0.5238\n",
      "Epoch 13/100\n",
      "2/2 [==============================] - 0s 41ms/step - loss: 0.8365 - accuracy: 0.7321 - val_loss: 0.9323 - val_accuracy: 0.5238\n",
      "Epoch 14/100\n",
      "2/2 [==============================] - 0s 37ms/step - loss: 0.7948 - accuracy: 0.7454 - val_loss: 0.9068 - val_accuracy: 0.5238\n",
      "Epoch 15/100\n",
      "2/2 [==============================] - 0s 40ms/step - loss: 0.7626 - accuracy: 0.7521 - val_loss: 0.8813 - val_accuracy: 0.5238\n",
      "Epoch 16/100\n",
      "2/2 [==============================] - 0s 37ms/step - loss: 0.7445 - accuracy: 0.7321 - val_loss: 0.8525 - val_accuracy: 0.5238\n",
      "Epoch 17/100\n",
      "2/2 [==============================] - 0s 37ms/step - loss: 0.7014 - accuracy: 0.7454 - val_loss: 0.8273 - val_accuracy: 0.5238\n",
      "Epoch 18/100\n",
      "2/2 [==============================] - 0s 37ms/step - loss: 0.6764 - accuracy: 0.7387 - val_loss: 0.8026 - val_accuracy: 0.5238\n",
      "Epoch 19/100\n",
      "2/2 [==============================] - 0s 36ms/step - loss: 0.6526 - accuracy: 0.7254 - val_loss: 0.7775 - val_accuracy: 0.5238\n",
      "Epoch 20/100\n",
      "2/2 [==============================] - 0s 35ms/step - loss: 0.6230 - accuracy: 0.7254 - val_loss: 0.7545 - val_accuracy: 0.5238\n",
      "Epoch 21/100\n",
      "2/2 [==============================] - 0s 35ms/step - loss: 0.5767 - accuracy: 0.7521 - val_loss: 0.7325 - val_accuracy: 0.5714\n",
      "Epoch 22/100\n",
      "2/2 [==============================] - 0s 37ms/step - loss: 0.5472 - accuracy: 0.7521 - val_loss: 0.7074 - val_accuracy: 0.5714\n",
      "Epoch 23/100\n",
      "2/2 [==============================] - 0s 34ms/step - loss: 0.5309 - accuracy: 0.7387 - val_loss: 0.6795 - val_accuracy: 0.5714\n",
      "Epoch 24/100\n",
      "2/2 [==============================] - 0s 35ms/step - loss: 0.5156 - accuracy: 0.7400 - val_loss: 0.6515 - val_accuracy: 0.6190\n",
      "Epoch 25/100\n",
      "2/2 [==============================] - 0s 37ms/step - loss: 0.4755 - accuracy: 0.7759 - val_loss: 0.6263 - val_accuracy: 0.6667\n",
      "Epoch 26/100\n",
      "2/2 [==============================] - 0s 36ms/step - loss: 0.4581 - accuracy: 0.8210 - val_loss: 0.6001 - val_accuracy: 0.7143\n",
      "Epoch 27/100\n",
      "2/2 [==============================] - 0s 37ms/step - loss: 0.4417 - accuracy: 0.8156 - val_loss: 0.5737 - val_accuracy: 0.7143\n",
      "Epoch 28/100\n",
      "2/2 [==============================] - 0s 37ms/step - loss: 0.4201 - accuracy: 0.8727 - val_loss: 0.5481 - val_accuracy: 0.7619\n",
      "Epoch 29/100\n",
      "2/2 [==============================] - 0s 36ms/step - loss: 0.3988 - accuracy: 0.9032 - val_loss: 0.5220 - val_accuracy: 0.8571\n",
      "Epoch 30/100\n",
      "2/2 [==============================] - 0s 38ms/step - loss: 0.3865 - accuracy: 0.9190 - val_loss: 0.5011 - val_accuracy: 0.8571\n",
      "Epoch 31/100\n",
      "2/2 [==============================] - 0s 38ms/step - loss: 0.3502 - accuracy: 0.9324 - val_loss: 0.4858 - val_accuracy: 0.8571\n",
      "Epoch 32/100\n",
      "2/2 [==============================] - 0s 36ms/step - loss: 0.3356 - accuracy: 0.9470 - val_loss: 0.4649 - val_accuracy: 0.8571\n",
      "Epoch 33/100\n",
      "2/2 [==============================] - 0s 35ms/step - loss: 0.3467 - accuracy: 0.9416 - val_loss: 0.4420 - val_accuracy: 0.8571\n",
      "Epoch 34/100\n",
      "2/2 [==============================] - 0s 35ms/step - loss: 0.3062 - accuracy: 0.9695 - val_loss: 0.4293 - val_accuracy: 0.8571\n",
      "Epoch 35/100\n",
      "2/2 [==============================] - 0s 35ms/step - loss: 0.2980 - accuracy: 0.9695 - val_loss: 0.4138 - val_accuracy: 0.8571\n",
      "Epoch 36/100\n",
      "2/2 [==============================] - 0s 37ms/step - loss: 0.2901 - accuracy: 0.9695 - val_loss: 0.4017 - val_accuracy: 0.8571\n",
      "Epoch 37/100\n",
      "2/2 [==============================] - 0s 36ms/step - loss: 0.2831 - accuracy: 0.9562 - val_loss: 0.3899 - val_accuracy: 0.8571\n",
      "Epoch 38/100\n",
      "2/2 [==============================] - 0s 37ms/step - loss: 0.2662 - accuracy: 0.9695 - val_loss: 0.3822 - val_accuracy: 0.8571\n",
      "Epoch 39/100\n",
      "2/2 [==============================] - 0s 38ms/step - loss: 0.2631 - accuracy: 0.9629 - val_loss: 0.3655 - val_accuracy: 0.9048\n",
      "Epoch 40/100\n",
      "2/2 [==============================] - 0s 37ms/step - loss: 0.2534 - accuracy: 0.9695 - val_loss: 0.3535 - val_accuracy: 0.9048\n",
      "Epoch 41/100\n",
      "2/2 [==============================] - 0s 37ms/step - loss: 0.2622 - accuracy: 0.9708 - val_loss: 0.3425 - val_accuracy: 0.9048\n",
      "Epoch 42/100\n",
      "2/2 [==============================] - 0s 35ms/step - loss: 0.2318 - accuracy: 0.9841 - val_loss: 0.3328 - val_accuracy: 0.9048\n",
      "Epoch 43/100\n",
      "2/2 [==============================] - 0s 36ms/step - loss: 0.2303 - accuracy: 0.9775 - val_loss: 0.3187 - val_accuracy: 0.9048\n",
      "Epoch 44/100\n",
      "2/2 [==============================] - 0s 37ms/step - loss: 0.2238 - accuracy: 0.9775 - val_loss: 0.3103 - val_accuracy: 0.9048\n",
      "Epoch 45/100\n",
      "2/2 [==============================] - 0s 36ms/step - loss: 0.2177 - accuracy: 0.9708 - val_loss: 0.3046 - val_accuracy: 0.9048\n",
      "Epoch 46/100\n",
      "2/2 [==============================] - 0s 35ms/step - loss: 0.1923 - accuracy: 0.9841 - val_loss: 0.2998 - val_accuracy: 0.9048\n",
      "Epoch 47/100\n",
      "2/2 [==============================] - 0s 37ms/step - loss: 0.1856 - accuracy: 0.9775 - val_loss: 0.2838 - val_accuracy: 0.9048\n",
      "Epoch 48/100\n",
      "2/2 [==============================] - 0s 38ms/step - loss: 0.1978 - accuracy: 0.9708 - val_loss: 0.2726 - val_accuracy: 0.9524\n",
      "Epoch 49/100\n",
      "2/2 [==============================] - 0s 41ms/step - loss: 0.1758 - accuracy: 0.9841 - val_loss: 0.2657 - val_accuracy: 0.9524\n",
      "Epoch 50/100\n",
      "2/2 [==============================] - 0s 40ms/step - loss: 0.1808 - accuracy: 0.9775 - val_loss: 0.2587 - val_accuracy: 0.9524\n",
      "Epoch 51/100\n",
      "2/2 [==============================] - 0s 38ms/step - loss: 0.1566 - accuracy: 0.9841 - val_loss: 0.2503 - val_accuracy: 0.9524\n",
      "Epoch 52/100\n",
      "2/2 [==============================] - 0s 39ms/step - loss: 0.1650 - accuracy: 0.9775 - val_loss: 0.2419 - val_accuracy: 0.9524\n",
      "Epoch 53/100\n",
      "2/2 [==============================] - 0s 38ms/step - loss: 0.1628 - accuracy: 0.9708 - val_loss: 0.2371 - val_accuracy: 0.9524\n",
      "Epoch 54/100\n",
      "2/2 [==============================] - 0s 38ms/step - loss: 0.1609 - accuracy: 0.9708 - val_loss: 0.2440 - val_accuracy: 0.9048\n",
      "Epoch 55/100\n",
      "2/2 [==============================] - 0s 38ms/step - loss: 0.1417 - accuracy: 0.9841 - val_loss: 0.2425 - val_accuracy: 0.9048\n",
      "Epoch 56/100\n",
      "2/2 [==============================] - 0s 39ms/step - loss: 0.1499 - accuracy: 0.9708 - val_loss: 0.2203 - val_accuracy: 0.9524\n",
      "Epoch 57/100\n",
      "2/2 [==============================] - 0s 37ms/step - loss: 0.1469 - accuracy: 0.9775 - val_loss: 0.2128 - val_accuracy: 0.9524\n",
      "Epoch 58/100\n",
      "2/2 [==============================] - 0s 41ms/step - loss: 0.1408 - accuracy: 0.9708 - val_loss: 0.2089 - val_accuracy: 0.9524\n",
      "Epoch 59/100\n"
     ]
    },
    {
     "name": "stdout",
     "output_type": "stream",
     "text": [
      "2/2 [==============================] - 0s 39ms/step - loss: 0.1341 - accuracy: 0.9775 - val_loss: 0.2167 - val_accuracy: 0.9048\n",
      "Epoch 60/100\n",
      "2/2 [==============================] - 0s 38ms/step - loss: 0.1200 - accuracy: 0.9841 - val_loss: 0.2175 - val_accuracy: 0.9048\n",
      "Epoch 61/100\n",
      "2/2 [==============================] - 0s 36ms/step - loss: 0.1292 - accuracy: 0.9775 - val_loss: 0.2020 - val_accuracy: 0.9524\n",
      "Epoch 62/100\n",
      "2/2 [==============================] - 0s 39ms/step - loss: 0.1328 - accuracy: 0.9708 - val_loss: 0.1938 - val_accuracy: 0.9524\n",
      "Epoch 63/100\n",
      "2/2 [==============================] - 0s 39ms/step - loss: 0.1215 - accuracy: 0.9775 - val_loss: 0.1908 - val_accuracy: 0.9524\n",
      "Epoch 64/100\n",
      "2/2 [==============================] - 0s 37ms/step - loss: 0.1316 - accuracy: 0.9708 - val_loss: 0.1896 - val_accuracy: 0.9524\n",
      "Epoch 65/100\n",
      "2/2 [==============================] - 0s 43ms/step - loss: 0.1174 - accuracy: 0.9775 - val_loss: 0.1903 - val_accuracy: 0.9524\n",
      "Epoch 66/100\n",
      "2/2 [==============================] - 0s 53ms/step - loss: 0.1226 - accuracy: 0.9708 - val_loss: 0.1870 - val_accuracy: 0.9524\n",
      "Epoch 67/100\n",
      "2/2 [==============================] - 0s 42ms/step - loss: 0.1110 - accuracy: 0.9775 - val_loss: 0.1838 - val_accuracy: 0.9524\n",
      "Epoch 68/100\n",
      "2/2 [==============================] - 0s 34ms/step - loss: 0.1177 - accuracy: 0.9708 - val_loss: 0.1788 - val_accuracy: 0.9524\n",
      "Epoch 69/100\n",
      "2/2 [==============================] - 0s 37ms/step - loss: 0.1054 - accuracy: 0.9841 - val_loss: 0.1796 - val_accuracy: 0.9524\n",
      "Epoch 70/100\n",
      "2/2 [==============================] - 0s 39ms/step - loss: 0.1211 - accuracy: 0.9708 - val_loss: 0.1735 - val_accuracy: 0.9524\n",
      "Epoch 71/100\n",
      "2/2 [==============================] - 0s 36ms/step - loss: 0.1139 - accuracy: 0.9708 - val_loss: 0.1711 - val_accuracy: 0.9524\n",
      "Epoch 72/100\n",
      "2/2 [==============================] - 0s 36ms/step - loss: 0.1119 - accuracy: 0.9708 - val_loss: 0.1741 - val_accuracy: 0.9524\n",
      "Epoch 73/100\n",
      "2/2 [==============================] - 0s 38ms/step - loss: 0.1126 - accuracy: 0.9708 - val_loss: 0.1736 - val_accuracy: 0.9524\n",
      "Epoch 74/100\n",
      "2/2 [==============================] - 0s 37ms/step - loss: 0.0910 - accuracy: 0.9841 - val_loss: 0.1730 - val_accuracy: 0.9524\n",
      "Epoch 75/100\n",
      "2/2 [==============================] - 0s 37ms/step - loss: 0.1054 - accuracy: 0.9708 - val_loss: 0.1633 - val_accuracy: 0.9524\n",
      "Epoch 76/100\n",
      "2/2 [==============================] - 0s 41ms/step - loss: 0.0854 - accuracy: 0.9841 - val_loss: 0.1623 - val_accuracy: 0.9524\n",
      "Epoch 77/100\n",
      "2/2 [==============================] - 0s 37ms/step - loss: 0.0927 - accuracy: 0.9775 - val_loss: 0.1603 - val_accuracy: 0.9524\n",
      "Epoch 78/100\n",
      "2/2 [==============================] - 0s 35ms/step - loss: 0.1007 - accuracy: 0.9775 - val_loss: 0.1623 - val_accuracy: 0.9524\n",
      "Epoch 79/100\n",
      "2/2 [==============================] - 0s 36ms/step - loss: 0.1013 - accuracy: 0.9708 - val_loss: 0.1657 - val_accuracy: 0.9524\n",
      "Epoch 80/100\n",
      "2/2 [==============================] - 0s 34ms/step - loss: 0.0944 - accuracy: 0.9775 - val_loss: 0.1641 - val_accuracy: 0.9524\n",
      "Epoch 81/100\n",
      "2/2 [==============================] - 0s 36ms/step - loss: 0.0988 - accuracy: 0.9708 - val_loss: 0.1557 - val_accuracy: 0.9524\n",
      "Epoch 82/100\n",
      "2/2 [==============================] - 0s 35ms/step - loss: 0.0850 - accuracy: 0.9775 - val_loss: 0.1542 - val_accuracy: 0.9524\n",
      "Epoch 83/100\n",
      "2/2 [==============================] - 0s 37ms/step - loss: 0.0980 - accuracy: 0.9708 - val_loss: 0.1531 - val_accuracy: 0.9524\n",
      "Epoch 84/100\n",
      "2/2 [==============================] - 0s 34ms/step - loss: 0.0923 - accuracy: 0.9708 - val_loss: 0.1572 - val_accuracy: 0.9524\n",
      "Epoch 85/100\n",
      "2/2 [==============================] - 0s 32ms/step - loss: 0.0837 - accuracy: 0.9775 - val_loss: 0.1629 - val_accuracy: 0.9048\n",
      "Epoch 86/100\n",
      "2/2 [==============================] - 0s 32ms/step - loss: 0.0836 - accuracy: 0.9775 - val_loss: 0.1550 - val_accuracy: 0.9524\n",
      "Epoch 87/100\n",
      "2/2 [==============================] - 0s 31ms/step - loss: 0.0718 - accuracy: 0.9841 - val_loss: 0.1495 - val_accuracy: 0.9524\n",
      "Epoch 88/100\n",
      "2/2 [==============================] - 0s 31ms/step - loss: 0.0879 - accuracy: 0.9775 - val_loss: 0.1533 - val_accuracy: 0.9048\n",
      "Epoch 89/100\n",
      "2/2 [==============================] - 0s 33ms/step - loss: 0.0959 - accuracy: 0.9708 - val_loss: 0.1520 - val_accuracy: 0.9048\n",
      "Epoch 90/100\n",
      "2/2 [==============================] - 0s 32ms/step - loss: 0.0964 - accuracy: 0.9708 - val_loss: 0.1497 - val_accuracy: 0.9524\n",
      "Epoch 91/100\n",
      "2/2 [==============================] - 0s 33ms/step - loss: 0.0929 - accuracy: 0.9708 - val_loss: 0.1583 - val_accuracy: 0.9048\n",
      "Epoch 92/100\n",
      "2/2 [==============================] - 0s 34ms/step - loss: 0.0958 - accuracy: 0.9708 - val_loss: 0.1563 - val_accuracy: 0.9048\n",
      "Epoch 93/100\n",
      "2/2 [==============================] - 0s 34ms/step - loss: 0.0783 - accuracy: 0.9775 - val_loss: 0.1483 - val_accuracy: 0.9524\n",
      "Epoch 94/100\n",
      "2/2 [==============================] - 0s 32ms/step - loss: 0.0704 - accuracy: 0.9841 - val_loss: 0.1453 - val_accuracy: 0.9524\n",
      "Epoch 95/100\n",
      "2/2 [==============================] - 0s 38ms/step - loss: 0.0908 - accuracy: 0.9708 - val_loss: 0.1524 - val_accuracy: 0.9048\n",
      "Epoch 96/100\n",
      "2/2 [==============================] - 0s 33ms/step - loss: 0.0906 - accuracy: 0.9854 - val_loss: 0.1437 - val_accuracy: 0.9524\n",
      "Epoch 97/100\n",
      "2/2 [==============================] - 0s 32ms/step - loss: 0.0868 - accuracy: 0.9708 - val_loss: 0.1555 - val_accuracy: 0.9048\n",
      "Epoch 98/100\n",
      "2/2 [==============================] - 0s 34ms/step - loss: 0.0962 - accuracy: 0.9708 - val_loss: 0.1625 - val_accuracy: 0.9048\n",
      "Epoch 99/100\n",
      "2/2 [==============================] - 0s 32ms/step - loss: 0.0812 - accuracy: 0.9775 - val_loss: 0.1493 - val_accuracy: 0.9048\n",
      "Epoch 100/100\n",
      "2/2 [==============================] - 0s 35ms/step - loss: 0.0626 - accuracy: 0.9841 - val_loss: 0.1431 - val_accuracy: 0.9524\n"
     ]
    }
   ],
   "source": [
    "#2. 모델 구성\n",
    "model = Sequential()\n",
    "model.add(Dense(60, input_dim=4, activation=\"relu\"))\n",
    "model.add(Dense(50, activation=\"relu\"))\n",
    "model.add(Dense(30, activation=\"relu\"))\n",
    "model.add(Dense(3, activation=\"softmax\"))\n",
    "#3. 학습과정 설정\n",
    "model.compile(loss=\"categorical_crossentropy\", optimizer=\"adam\", metrics=['accuracy'])\n",
    "#4. 학습시키기\n",
    "hist = model.fit(train_X, train_Y, batch_size=50, epochs=100, validation_split=0.2)"
   ]
  },
  {
   "cell_type": "code",
   "execution_count": 14,
   "metadata": {
    "ExecuteTime": {
     "end_time": "2021-03-24T08:45:41.945810Z",
     "start_time": "2021-03-24T08:45:41.601009Z"
    }
   },
   "outputs": [
    {
     "data": {
      "text/plain": [
       "<matplotlib.legend.Legend at 0x204f593e9d0>"
      ]
     },
     "execution_count": 14,
     "metadata": {},
     "output_type": "execute_result"
    },
    {
     "data": {
      "image/png": "[encoded data removed]",
      "text/plain": [
       "<Figure size 864x576 with 2 Axes>"
      ]
     },
     "metadata": {
      "needs_background": "light"
     },
     "output_type": "display_data"
    }
   ],
   "source": [
    "#5. 모델 학습과정을 표시하고 평가\n",
    "fig, loss_ax = plt.subplots(figsize=(12,8))\n",
    "loss_ax.plot(hist.history['loss'], 'r', label=\"train loss\")\n",
    "loss_ax.plot(hist.history['val_loss'], 'y', label=\"val loss\")\n",
    "loss_ax.set_xlabel(\"epochs\")\n",
    "loss_ax.set_ylabel(\"loss\")\n",
    "\n",
    "acc_ax = loss_ax.twinx()\n",
    "acc_ax.plot(hist.history['accuracy'], 'b', label='train accuracy')\n",
    "acc_ax.plot(hist.history['val_accuracy'], 'g', label='val accuracy')\n",
    "acc_ax.set_ylabel(\"accuracy\")\n",
    "\n",
    "loss_ax.legend(loc=2)\n",
    "acc_ax.legend(loc=3)"
   ]
  },
  {
   "cell_type": "code",
   "execution_count": 34,
   "metadata": {
    "ExecuteTime": {
     "end_time": "2021-03-24T08:54:46.615330Z",
     "start_time": "2021-03-24T08:54:46.558938Z"
    }
   },
   "outputs": [
    {
     "name": "stderr",
     "output_type": "stream",
     "text": [
      "C:\\Users\\tjoeun\\anaconda3\\lib\\site-packages\\tensorflow\\python\\keras\\engine\\sequential.py:450: UserWarning: `model.predict_classes()` is deprecated and will be removed after 2021-01-01. Please use instead:* `np.argmax(model.predict(x), axis=-1)`,   if your model does multi-class classification   (e.g. if it uses a `softmax` last-layer activation).* `(model.predict(x) > 0.5).astype(\"int32\")`,   if your model does binary classification   (e.g. if it uses a `sigmoid` last-layer activation).\n",
      "  warnings.warn('`model.predict_classes()` is deprecated and '\n"
     ]
    },
    {
     "data": {
      "text/plain": [
       "array([ True,  True,  True,  True,  True,  True,  True,  True,  True,\n",
       "        True,  True,  True,  True,  True,  True,  True,  True,  True,\n",
       "        True,  True,  True,  True,  True,  True,  True,  True,  True,\n",
       "        True,  True,  True,  True,  True,  True,  True,  True,  True,\n",
       "        True,  True,  True,  True,  True,  True,  True,  True,  True])"
      ]
     },
     "execution_count": 34,
     "metadata": {},
     "output_type": "execute_result"
    }
   ],
   "source": [
    "#6. 예측\n",
    "np.argmax(test_Y, axis=1) == model.predict_classes(test_X)"
   ]
  },
  {
   "cell_type": "code",
   "execution_count": 35,
   "metadata": {
    "ExecuteTime": {
     "end_time": "2021-03-24T08:58:36.445752Z",
     "start_time": "2021-03-24T08:58:36.375364Z"
    }
   },
   "outputs": [
    {
     "name": "stdout",
     "output_type": "stream",
     "text": [
      "5/5 [==============================] - 0s 1ms/step - loss: 0.0717 - accuracy: 1.0000\n"
     ]
    }
   ],
   "source": [
    "#7. 평가\n",
    "score = model.evaluate(test_X, test_Y, batch_size=10)"
   ]
  },
  {
   "cell_type": "code",
   "execution_count": null,
   "metadata": {},
   "outputs": [],
   "source": []
  },
  {
   "cell_type": "code",
   "execution_count": null,
   "metadata": {},
   "outputs": [],
   "source": []
  },
  {
   "cell_type": "code",
   "execution_count": null,
   "metadata": {},
   "outputs": [],
   "source": []
  },
  {
   "cell_type": "code",
   "execution_count": null,
   "metadata": {},
   "outputs": [],
   "source": []
  },
  {
   "cell_type": "code",
   "execution_count": null,
   "metadata": {},
   "outputs": [],
   "source": []
  },
  {
   "cell_type": "code",
   "execution_count": null,
   "metadata": {},
   "outputs": [],
   "source": []
  },
  {
   "cell_type": "code",
   "execution_count": null,
   "metadata": {},
   "outputs": [],
   "source": []
  },
  {
   "cell_type": "code",
   "execution_count": null,
   "metadata": {},
   "outputs": [],
   "source": []
  },
  {
   "cell_type": "code",
   "execution_count": null,
   "metadata": {},
   "outputs": [],
   "source": []
  },
  {
   "cell_type": "code",
   "execution_count": null,
   "metadata": {},
   "outputs": [],
   "source": []
  },
  {
   "cell_type": "code",
   "execution_count": null,
   "metadata": {},
   "outputs": [],
   "source": []
  },
  {
   "cell_type": "code",
   "execution_count": null,
   "metadata": {},
   "outputs": [],
   "source": []
  },
  {
   "cell_type": "code",
   "execution_count": null,
   "metadata": {},
   "outputs": [],
   "source": []
  },
  {
   "cell_type": "code",
   "execution_count": null,
   "metadata": {},
   "outputs": [],
   "source": []
  },
  {
   "cell_type": "code",
   "execution_count": null,
   "metadata": {},
   "outputs": [],
   "source": []
  },
  {
   "cell_type": "code",
   "execution_count": null,
   "metadata": {},
   "outputs": [],
   "source": []
  },
  {
   "cell_type": "code",
   "execution_count": null,
   "metadata": {},
   "outputs": [],
   "source": []
  },
  {
   "cell_type": "code",
   "execution_count": null,
   "metadata": {},
   "outputs": [],
   "source": []
  },
  {
   "cell_type": "code",
   "execution_count": null,
   "metadata": {},
   "outputs": [],
   "source": []
  },
  {
   "cell_type": "code",
   "execution_count": null,
   "metadata": {},
   "outputs": [],
   "source": []
  }
 ],
 "metadata": {
  "kernelspec": {
   "display_name": "Python 3",
   "language": "python",
   "name": "python3"
  },
  "language_info": {
   "codemirror_mode": {
    "name": "ipython",
    "version": 3
   },
   "file_extension": ".py",
   "mimetype": "text/x-python",
   "name": "python",
   "nbconvert_exporter": "python",
   "pygments_lexer": "ipython3",
   "version": "3.8.5"
  },
  "toc": {
   "base_numbering": 1,
   "nav_menu": {},
   "number_sections": true,
   "sideBar": true,
   "skip_h1_title": false,
   "title_cell": "Table of Contents",
   "title_sidebar": "Contents",
   "toc_cell": false,
   "toc_position": {},
   "toc_section_display": true,
   "toc_window_display": false
  },
  "varInspector": {
   "cols": {
    "lenName": 16,
    "lenType": 16,
    "lenVar": 40
   },
   "kernels_config": {
    "python": {
     "delete_cmd_postfix": "",
     "delete_cmd_prefix": "del ",
     "library": "var_list.py",
     "varRefreshCmd": "print(var_dic_list())"
    },
    "r": {
     "delete_cmd_postfix": ") ",
     "delete_cmd_prefix": "rm(",
     "library": "var_list.r",
     "varRefreshCmd": "cat(var_dic_list()) "
    }
   },
   "types_to_exclude": [
    "module",
    "function",
    "builtin_function_or_method",
    "instance",
    "_Feature"
   ],
   "window_display": false
  }
 },
 "nbformat": 4,
 "nbformat_minor": 4
}
