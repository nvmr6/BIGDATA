{
 "cells": [
  {
   "cell_type": "code",
   "execution_count": 1,
   "metadata": {
    "ExecuteTime": {
     "end_time": "2021-03-25T01:43:42.908588Z",
     "start_time": "2021-03-25T01:43:42.895623Z"
    }
   },
   "outputs": [
    {
     "data": {
      "text/html": [
       "\n",
       "<style>\n",
       "div.container{width:80% !important;}\n"
      ],
      "text/plain": [
       "<IPython.core.display.HTML object>"
      ]
     },
     "metadata": {},
     "output_type": "display_data"
    }
   ],
   "source": [
    "from IPython.display import display, HTML\n",
    "display(HTML(\"\"\"\n",
    "<style>\n",
    "div.container{width:80% !important;}\n",
    "\"\"\"))"
   ]
  },
  {
   "cell_type": "markdown",
   "metadata": {},
   "source": [
    "# CNN convolution neural network"
   ]
  },
  {
   "cell_type": "code",
   "execution_count": 2,
   "metadata": {
    "ExecuteTime": {
     "end_time": "2021-03-25T01:43:43.589997Z",
     "start_time": "2021-03-25T01:43:42.910582Z"
    }
   },
   "outputs": [
    {
     "name": "stdout",
     "output_type": "stream",
     "text": [
      "(24, 24, 4)\n"
     ]
    },
    {
     "data": {
      "image/png": "[encoded data removed]",
      "text/plain": [
       "<Figure size 432x288 with 1 Axes>"
      ]
     },
     "metadata": {
      "needs_background": "light"
     },
     "output_type": "display_data"
    }
   ],
   "source": [
    "import matplotlib.pyplot as plt\n",
    "c0 = plt.imread('data/handwriting/handwriting_shape/train/circle/circle001.png')\n",
    "plt.imshow(c0)\n",
    "print(c0.shape)"
   ]
  },
  {
   "cell_type": "markdown",
   "metadata": {},
   "source": [
    "## modeling"
   ]
  },
  {
   "cell_type": "code",
   "execution_count": 25,
   "metadata": {
    "ExecuteTime": {
     "end_time": "2021-03-25T02:10:35.136645Z",
     "start_time": "2021-03-25T02:10:35.126648Z"
    }
   },
   "outputs": [],
   "source": [
    "import numpy as np\n",
    "from tensorflow.keras.models import Sequential\n",
    "from tensorflow.keras.layers import Conv2D #filtering\n",
    "from tensorflow.keras.layers import MaxPool2D #pooling\n",
    "from tensorflow.keras.layers import Flatten # lower dimwnsion\n",
    "from tensorflow.keras.layers import Dense, Dropout\n",
    "from tensorflow.keras.preprocessing.image import ImageDataGenerator\n",
    "np.random.seed(3)"
   ]
  },
  {
   "cell_type": "code",
   "execution_count": 9,
   "metadata": {
    "ExecuteTime": {
     "end_time": "2021-03-25T01:45:47.121698Z",
     "start_time": "2021-03-25T01:45:47.087815Z"
    }
   },
   "outputs": [
    {
     "name": "stdout",
     "output_type": "stream",
     "text": [
      "Found 45 images belonging to 3 classes.\n",
      "Found 15 images belonging to 3 classes.\n"
     ]
    }
   ],
   "source": [
    "#1. 데이터 가져오기\n",
    "train_datagen = ImageDataGenerator(rescale=1./255)#정규화 작업\n",
    "train_generator = train_datagen.flow_from_directory(\n",
    "                                'data/handwriting/hard_handwriting_shape/train',\n",
    "                                target_size=(24,24),\n",
    "                                batch_size=3,\n",
    "                                class_mode=\"categorical\")\n",
    "\n",
    "test_datagen = ImageDataGenerator(rescale=1./255)#정규화 작업\n",
    "test_generator = train_datagen.flow_from_directory(\n",
    "                                'data/handwriting/hard_handwriting_shape/test',\n",
    "                                target_size=(24,24),\n",
    "                                batch_size=3,\n",
    "                                class_mode=\"categorical\")"
   ]
  },
  {
   "cell_type": "code",
   "execution_count": 10,
   "metadata": {
    "ExecuteTime": {
     "end_time": "2021-03-25T01:45:47.232810Z",
     "start_time": "2021-03-25T01:45:47.123693Z"
    }
   },
   "outputs": [],
   "source": [
    "# 2. 모델 구성하기\n",
    "model = Sequential()\n",
    "model.add(Conv2D(32, kernel_size=(3,3), activation=\"relu\", input_shape=(24,24,3)))\n",
    "model.add(Conv2D(64, kernel_size=(3,3), activation=\"relu\"))\n",
    "model.add(MaxPool2D(pool_size=(2,2)))# 제일 큰 값만 뽑아 이미지 축소\n",
    "model.add(Flatten())#1차원으로 \n",
    "model.add(Dense(128, activation=\"relu\"))\n",
    "model.add(Dense(3, activation=\"softmax\"))"
   ]
  },
  {
   "cell_type": "code",
   "execution_count": 11,
   "metadata": {
    "ExecuteTime": {
     "end_time": "2021-03-25T01:45:47.279926Z",
     "start_time": "2021-03-25T01:45:47.234806Z"
    }
   },
   "outputs": [],
   "source": [
    "# 3. 모델 컴파일\n",
    "model.compile(optimizer='adam', loss='categorical_crossentropy', metrics=['accuracy'])"
   ]
  },
  {
   "cell_type": "code",
   "execution_count": 12,
   "metadata": {
    "ExecuteTime": {
     "end_time": "2021-03-25T01:45:59.663453Z",
     "start_time": "2021-03-25T01:45:47.281937Z"
    }
   },
   "outputs": [
    {
     "name": "stderr",
     "output_type": "stream",
     "text": [
      "C:\\Users\\tjoeun\\anaconda3\\lib\\site-packages\\tensorflow\\python\\keras\\engine\\training.py:1844: UserWarning: `Model.fit_generator` is deprecated and will be removed in a future version. Please use `Model.fit`, which supports generators.\n",
      "  warnings.warn('`Model.fit_generator` is deprecated and '\n"
     ]
    },
    {
     "name": "stdout",
     "output_type": "stream",
     "text": [
      "Epoch 1/50\n",
      "15/15 [==============================] - 1s 42ms/step - loss: 1.1741 - accuracy: 0.4039 - val_loss: 1.3010 - val_accuracy: 0.4000\n",
      "Epoch 2/50\n",
      "15/15 [==============================] - 0s 14ms/step - loss: 0.2392 - accuracy: 0.9512 - val_loss: 3.0522 - val_accuracy: 0.3333\n",
      "Epoch 3/50\n",
      "15/15 [==============================] - 0s 14ms/step - loss: 0.0162 - accuracy: 1.0000 - val_loss: 4.8798 - val_accuracy: 0.3333\n",
      "Epoch 4/50\n",
      "15/15 [==============================] - 0s 14ms/step - loss: 0.0049 - accuracy: 1.0000 - val_loss: 5.5584 - val_accuracy: 0.3333\n",
      "Epoch 5/50\n",
      "15/15 [==============================] - 0s 14ms/step - loss: 9.8534e-04 - accuracy: 1.0000 - val_loss: 5.8704 - val_accuracy: 0.3333\n",
      "Epoch 6/50\n",
      "15/15 [==============================] - 0s 14ms/step - loss: 7.2783e-04 - accuracy: 1.0000 - val_loss: 5.9958 - val_accuracy: 0.3333\n",
      "Epoch 7/50\n",
      "15/15 [==============================] - 0s 14ms/step - loss: 4.8931e-04 - accuracy: 1.0000 - val_loss: 6.1391 - val_accuracy: 0.3333\n",
      "Epoch 8/50\n",
      "15/15 [==============================] - 0s 14ms/step - loss: 4.1219e-04 - accuracy: 1.0000 - val_loss: 6.2243 - val_accuracy: 0.3333\n",
      "Epoch 9/50\n",
      "15/15 [==============================] - 0s 14ms/step - loss: 3.2297e-04 - accuracy: 1.0000 - val_loss: 6.3066 - val_accuracy: 0.3333\n",
      "Epoch 10/50\n",
      "15/15 [==============================] - 0s 14ms/step - loss: 1.9465e-04 - accuracy: 1.0000 - val_loss: 6.3739 - val_accuracy: 0.3333\n",
      "Epoch 11/50\n",
      "15/15 [==============================] - 0s 14ms/step - loss: 1.5431e-04 - accuracy: 1.0000 - val_loss: 6.4264 - val_accuracy: 0.3333\n",
      "Epoch 12/50\n",
      "15/15 [==============================] - 0s 14ms/step - loss: 2.2456e-04 - accuracy: 1.0000 - val_loss: 6.4769 - val_accuracy: 0.3333\n",
      "Epoch 13/50\n",
      "15/15 [==============================] - 0s 14ms/step - loss: 2.3625e-04 - accuracy: 1.0000 - val_loss: 6.5183 - val_accuracy: 0.3333\n",
      "Epoch 14/50\n",
      "15/15 [==============================] - 0s 14ms/step - loss: 1.3485e-04 - accuracy: 1.0000 - val_loss: 6.5649 - val_accuracy: 0.3333\n",
      "Epoch 15/50\n",
      "15/15 [==============================] - 0s 15ms/step - loss: 9.2764e-05 - accuracy: 1.0000 - val_loss: 6.6132 - val_accuracy: 0.3333\n",
      "Epoch 16/50\n",
      "15/15 [==============================] - 0s 14ms/step - loss: 7.1433e-05 - accuracy: 1.0000 - val_loss: 6.6556 - val_accuracy: 0.3333\n",
      "Epoch 17/50\n",
      "15/15 [==============================] - 0s 14ms/step - loss: 7.3148e-05 - accuracy: 1.0000 - val_loss: 6.6900 - val_accuracy: 0.3333\n",
      "Epoch 18/50\n",
      "15/15 [==============================] - 0s 14ms/step - loss: 9.4278e-05 - accuracy: 1.0000 - val_loss: 6.7408 - val_accuracy: 0.3333\n",
      "Epoch 19/50\n",
      "15/15 [==============================] - 0s 14ms/step - loss: 6.7237e-05 - accuracy: 1.0000 - val_loss: 6.7692 - val_accuracy: 0.3333\n",
      "Epoch 20/50\n",
      "15/15 [==============================] - 0s 14ms/step - loss: 6.8132e-05 - accuracy: 1.0000 - val_loss: 6.7919 - val_accuracy: 0.3333\n",
      "Epoch 21/50\n",
      "15/15 [==============================] - 0s 13ms/step - loss: 7.2430e-05 - accuracy: 1.0000 - val_loss: 6.8207 - val_accuracy: 0.3333\n",
      "Epoch 22/50\n",
      "15/15 [==============================] - 0s 14ms/step - loss: 5.5355e-05 - accuracy: 1.0000 - val_loss: 6.8458 - val_accuracy: 0.3333\n",
      "Epoch 23/50\n",
      "15/15 [==============================] - 0s 14ms/step - loss: 4.5290e-05 - accuracy: 1.0000 - val_loss: 6.8793 - val_accuracy: 0.3333\n",
      "Epoch 24/50\n",
      "15/15 [==============================] - 0s 14ms/step - loss: 2.8240e-05 - accuracy: 1.0000 - val_loss: 6.8974 - val_accuracy: 0.3333\n",
      "Epoch 25/50\n",
      "15/15 [==============================] - 0s 14ms/step - loss: 4.4232e-05 - accuracy: 1.0000 - val_loss: 6.9250 - val_accuracy: 0.3333\n",
      "Epoch 26/50\n",
      "15/15 [==============================] - 0s 14ms/step - loss: 4.0317e-05 - accuracy: 1.0000 - val_loss: 6.9269 - val_accuracy: 0.3333\n",
      "Epoch 27/50\n",
      "15/15 [==============================] - 0s 15ms/step - loss: 2.1327e-05 - accuracy: 1.0000 - val_loss: 6.9494 - val_accuracy: 0.3333\n",
      "Epoch 28/50\n",
      "15/15 [==============================] - 0s 14ms/step - loss: 3.4615e-05 - accuracy: 1.0000 - val_loss: 6.9426 - val_accuracy: 0.3333\n",
      "Epoch 29/50\n",
      "15/15 [==============================] - 0s 14ms/step - loss: 2.4342e-05 - accuracy: 1.0000 - val_loss: 6.9533 - val_accuracy: 0.3333\n",
      "Epoch 30/50\n",
      "15/15 [==============================] - 0s 13ms/step - loss: 3.3642e-05 - accuracy: 1.0000 - val_loss: 6.9516 - val_accuracy: 0.3333\n",
      "Epoch 31/50\n",
      "15/15 [==============================] - 0s 14ms/step - loss: 1.8868e-05 - accuracy: 1.0000 - val_loss: 6.9665 - val_accuracy: 0.3333\n",
      "Epoch 32/50\n",
      "15/15 [==============================] - 0s 14ms/step - loss: 1.6903e-05 - accuracy: 1.0000 - val_loss: 6.9639 - val_accuracy: 0.3333\n",
      "Epoch 33/50\n",
      "15/15 [==============================] - 0s 14ms/step - loss: 1.2130e-05 - accuracy: 1.0000 - val_loss: 6.9884 - val_accuracy: 0.3333\n",
      "Epoch 34/50\n",
      "15/15 [==============================] - 0s 14ms/step - loss: 1.4523e-05 - accuracy: 1.0000 - val_loss: 6.9971 - val_accuracy: 0.3333\n",
      "Epoch 35/50\n",
      "15/15 [==============================] - 0s 14ms/step - loss: 1.0066e-05 - accuracy: 1.0000 - val_loss: 7.0086 - val_accuracy: 0.3333\n",
      "Epoch 36/50\n",
      "15/15 [==============================] - 0s 14ms/step - loss: 1.1801e-05 - accuracy: 1.0000 - val_loss: 7.0113 - val_accuracy: 0.3333\n",
      "Epoch 37/50\n",
      "15/15 [==============================] - 0s 14ms/step - loss: 1.3212e-05 - accuracy: 1.0000 - val_loss: 7.0027 - val_accuracy: 0.3333\n",
      "Epoch 38/50\n",
      "15/15 [==============================] - 0s 14ms/step - loss: 1.1006e-05 - accuracy: 1.0000 - val_loss: 7.0230 - val_accuracy: 0.3333\n",
      "Epoch 39/50\n",
      "15/15 [==============================] - 0s 13ms/step - loss: 9.6860e-06 - accuracy: 1.0000 - val_loss: 7.0346 - val_accuracy: 0.3333\n",
      "Epoch 40/50\n",
      "15/15 [==============================] - 0s 14ms/step - loss: 1.2761e-05 - accuracy: 1.0000 - val_loss: 7.0377 - val_accuracy: 0.3333\n",
      "Epoch 41/50\n",
      "15/15 [==============================] - 0s 14ms/step - loss: 5.5192e-06 - accuracy: 1.0000 - val_loss: 7.0511 - val_accuracy: 0.3333\n",
      "Epoch 42/50\n",
      "15/15 [==============================] - 0s 14ms/step - loss: 7.3437e-06 - accuracy: 1.0000 - val_loss: 7.0674 - val_accuracy: 0.3333\n",
      "Epoch 43/50\n",
      "15/15 [==============================] - 0s 14ms/step - loss: 7.2851e-06 - accuracy: 1.0000 - val_loss: 7.0676 - val_accuracy: 0.3333\n",
      "Epoch 44/50\n",
      "15/15 [==============================] - 0s 14ms/step - loss: 6.8838e-06 - accuracy: 1.0000 - val_loss: 7.0760 - val_accuracy: 0.3333\n",
      "Epoch 45/50\n",
      "15/15 [==============================] - 0s 14ms/step - loss: 7.3803e-06 - accuracy: 1.0000 - val_loss: 7.0733 - val_accuracy: 0.3333\n",
      "Epoch 46/50\n",
      "15/15 [==============================] - 0s 14ms/step - loss: 5.0461e-06 - accuracy: 1.0000 - val_loss: 7.0913 - val_accuracy: 0.3333\n",
      "Epoch 47/50\n",
      "15/15 [==============================] - 0s 14ms/step - loss: 6.3590e-06 - accuracy: 1.0000 - val_loss: 7.0998 - val_accuracy: 0.3333\n",
      "Epoch 48/50\n",
      "15/15 [==============================] - 0s 13ms/step - loss: 5.2008e-06 - accuracy: 1.0000 - val_loss: 7.1146 - val_accuracy: 0.3333\n",
      "Epoch 49/50\n",
      "15/15 [==============================] - 0s 14ms/step - loss: 5.2319e-06 - accuracy: 1.0000 - val_loss: 7.1140 - val_accuracy: 0.3333\n",
      "Epoch 50/50\n",
      "15/15 [==============================] - 0s 14ms/step - loss: 3.8694e-06 - accuracy: 1.0000 - val_loss: 7.1304 - val_accuracy: 0.3333\n"
     ]
    },
    {
     "data": {
      "text/plain": [
       "<tensorflow.python.keras.callbacks.History at 0x279d2ee55e0>"
      ]
     },
     "execution_count": 12,
     "metadata": {},
     "output_type": "execute_result"
    }
   ],
   "source": [
    "# 4. 모델 학습시키기\n",
    "model.fit_generator(train_generator, steps_per_epoch=15, epochs=50, validation_data=test_generator, validation_steps=5)"
   ]
  },
  {
   "cell_type": "code",
   "execution_count": 14,
   "metadata": {
    "ExecuteTime": {
     "end_time": "2021-03-25T01:46:18.179786Z",
     "start_time": "2021-03-25T01:46:18.096956Z"
    }
   },
   "outputs": [
    {
     "name": "stdout",
     "output_type": "stream",
     "text": [
      "7.130406856536865 0.3333333432674408\n"
     ]
    }
   ],
   "source": [
    "#5. 모델 평가하기\n",
    "score = model.evaluate_generator(test_generator, steps=5)\n",
    "print(score[0], score[1])"
   ]
  },
  {
   "cell_type": "code",
   "execution_count": 19,
   "metadata": {
    "ExecuteTime": {
     "end_time": "2021-03-25T01:49:58.207812Z",
     "start_time": "2021-03-25T01:49:58.120424Z"
    }
   },
   "outputs": [
    {
     "name": "stdout",
     "output_type": "stream",
     "text": [
      "{'circle': 0, 'rectangle': 1, 'triangle': 2}\n",
      "[[0.00 0.00 1.00]\n",
      " [0.00 0.00 1.00]\n",
      " [0.00 0.00 1.00]\n",
      " [0.83 0.01 0.17]\n",
      " [0.00 0.02 0.98]\n",
      " [0.00 0.00 1.00]\n",
      " [0.00 0.00 1.00]\n",
      " [0.00 0.00 1.00]\n",
      " [0.00 0.00 1.00]\n",
      " [0.40 0.00 0.60]\n",
      " [0.00 0.00 1.00]\n",
      " [0.00 0.00 1.00]\n",
      " [0.00 0.00 1.00]\n",
      " [0.00 0.00 1.00]\n",
      " [0.00 0.00 1.00]]\n"
     ]
    },
    {
     "name": "stderr",
     "output_type": "stream",
     "text": [
      "C:\\Users\\tjoeun\\anaconda3\\lib\\site-packages\\tensorflow\\python\\keras\\engine\\training.py:1905: UserWarning: `Model.predict_generator` is deprecated and will be removed in a future version. Please use `Model.predict`, which supports generators.\n",
      "  warnings.warn('`Model.predict_generator` is deprecated and '\n"
     ]
    }
   ],
   "source": [
    "#6. 예측하기\n",
    "pred = model.predict_generator(test_generator)\n",
    "print(test_generator.class_indices)\n",
    "np.set_printoptions(formatter={'float':lambda x: \"{:0.2f}\".format(x)})\n",
    "print(pred)"
   ]
  },
  {
   "cell_type": "markdown",
   "metadata": {},
   "source": [
    "## increase accuracy \n",
    "- 데이터 확보, 데이터 부풀리기\n",
    "- 레이어 층"
   ]
  },
  {
   "cell_type": "code",
   "execution_count": 31,
   "metadata": {
    "ExecuteTime": {
     "end_time": "2021-03-25T02:26:21.791951Z",
     "start_time": "2021-03-25T02:26:12.077857Z"
    }
   },
   "outputs": [
    {
     "name": "stdout",
     "output_type": "stream",
     "text": [
      "Found 69 images belonging to 3 classes.\n",
      "Found 15 images belonging to 3 classes.\n",
      "Epoch 1/50\n",
      "15/15 [==============================] - 1s 40ms/step - loss: 1.1525 - accuracy: 0.4878 - val_loss: 1.1050 - val_accuracy: 0.3333\n",
      "Epoch 2/50\n",
      "15/15 [==============================] - 0s 10ms/step - loss: 1.1175 - accuracy: 0.3364 - val_loss: 1.0999 - val_accuracy: 0.3333\n",
      "Epoch 3/50\n",
      "15/15 [==============================] - 0s 10ms/step - loss: 1.1003 - accuracy: 0.3261 - val_loss: 1.0968 - val_accuracy: 0.4000\n",
      "Epoch 4/50\n",
      "15/15 [==============================] - 0s 10ms/step - loss: 1.0876 - accuracy: 0.3694 - val_loss: 1.0944 - val_accuracy: 0.4000\n",
      "Epoch 5/50\n",
      "15/15 [==============================] - 0s 10ms/step - loss: 1.0851 - accuracy: 0.4512 - val_loss: 1.0874 - val_accuracy: 0.3333\n",
      "Epoch 6/50\n",
      "15/15 [==============================] - 0s 10ms/step - loss: 1.0735 - accuracy: 0.4541 - val_loss: 1.1465 - val_accuracy: 0.3333\n",
      "Epoch 7/50\n",
      "15/15 [==============================] - 0s 10ms/step - loss: 1.0162 - accuracy: 0.5263 - val_loss: 1.1200 - val_accuracy: 0.3333\n",
      "Epoch 8/50\n",
      "15/15 [==============================] - 0s 10ms/step - loss: 0.9063 - accuracy: 0.5699 - val_loss: 1.0230 - val_accuracy: 0.4000\n",
      "Epoch 9/50\n",
      "15/15 [==============================] - 0s 10ms/step - loss: 0.9003 - accuracy: 0.5388 - val_loss: 1.5819 - val_accuracy: 0.3333\n",
      "Epoch 10/50\n",
      "15/15 [==============================] - 0s 11ms/step - loss: 0.8062 - accuracy: 0.5900 - val_loss: 1.1246 - val_accuracy: 0.3333\n",
      "Epoch 11/50\n",
      "15/15 [==============================] - 0s 10ms/step - loss: 1.0101 - accuracy: 0.4724 - val_loss: 1.1757 - val_accuracy: 0.2667\n",
      "Epoch 12/50\n",
      "15/15 [==============================] - 0s 10ms/step - loss: 0.7709 - accuracy: 0.7029 - val_loss: 1.2335 - val_accuracy: 0.5333\n",
      "Epoch 13/50\n",
      "15/15 [==============================] - 0s 10ms/step - loss: 0.7554 - accuracy: 0.6454 - val_loss: 1.0253 - val_accuracy: 0.4000\n",
      "Epoch 14/50\n",
      "15/15 [==============================] - 0s 10ms/step - loss: 1.0947 - accuracy: 0.3884 - val_loss: 1.0804 - val_accuracy: 0.3333\n",
      "Epoch 15/50\n",
      "15/15 [==============================] - 0s 10ms/step - loss: 0.8958 - accuracy: 0.5393 - val_loss: 1.3281 - val_accuracy: 0.2667\n",
      "Epoch 16/50\n",
      "15/15 [==============================] - 0s 10ms/step - loss: 0.7272 - accuracy: 0.5557 - val_loss: 1.1648 - val_accuracy: 0.4000\n",
      "Epoch 17/50\n",
      "15/15 [==============================] - 0s 10ms/step - loss: 0.5613 - accuracy: 0.6614 - val_loss: 1.1244 - val_accuracy: 0.4000\n",
      "Epoch 18/50\n",
      "15/15 [==============================] - 0s 10ms/step - loss: 0.7684 - accuracy: 0.7138 - val_loss: 1.0511 - val_accuracy: 0.6000\n",
      "Epoch 19/50\n",
      "15/15 [==============================] - 0s 11ms/step - loss: 0.5916 - accuracy: 0.7905 - val_loss: 1.0084 - val_accuracy: 0.4000\n",
      "Epoch 20/50\n",
      "15/15 [==============================] - 0s 11ms/step - loss: 0.6804 - accuracy: 0.5852 - val_loss: 1.1594 - val_accuracy: 0.4000\n",
      "Epoch 21/50\n",
      "15/15 [==============================] - 0s 11ms/step - loss: 0.6408 - accuracy: 0.7723 - val_loss: 1.3767 - val_accuracy: 0.4000\n",
      "Epoch 22/50\n",
      "15/15 [==============================] - 0s 10ms/step - loss: 0.4660 - accuracy: 0.8309 - val_loss: 2.1956 - val_accuracy: 0.3333\n",
      "Epoch 23/50\n",
      "15/15 [==============================] - 0s 10ms/step - loss: 0.3687 - accuracy: 0.8648 - val_loss: 3.0723 - val_accuracy: 0.2667\n",
      "Epoch 24/50\n",
      "15/15 [==============================] - 0s 11ms/step - loss: 0.7222 - accuracy: 0.6250 - val_loss: 2.3678 - val_accuracy: 0.4000\n",
      "Epoch 25/50\n",
      "15/15 [==============================] - 0s 11ms/step - loss: 0.4819 - accuracy: 0.8031 - val_loss: 1.7791 - val_accuracy: 0.4000\n",
      "Epoch 26/50\n",
      "15/15 [==============================] - 0s 11ms/step - loss: 0.3229 - accuracy: 0.8798 - val_loss: 1.8221 - val_accuracy: 0.4000\n",
      "Epoch 27/50\n",
      "15/15 [==============================] - 0s 10ms/step - loss: 0.4262 - accuracy: 0.8246 - val_loss: 2.1394 - val_accuracy: 0.3333\n",
      "Epoch 28/50\n",
      "15/15 [==============================] - 0s 10ms/step - loss: 0.3126 - accuracy: 0.8826 - val_loss: 1.8322 - val_accuracy: 0.4000\n",
      "Epoch 29/50\n",
      "15/15 [==============================] - 0s 10ms/step - loss: 0.3462 - accuracy: 0.9199 - val_loss: 2.6444 - val_accuracy: 0.3333\n",
      "Epoch 30/50\n",
      "15/15 [==============================] - 0s 10ms/step - loss: 0.4705 - accuracy: 0.7801 - val_loss: 1.6511 - val_accuracy: 0.3333\n",
      "Epoch 31/50\n",
      "15/15 [==============================] - 0s 10ms/step - loss: 0.3267 - accuracy: 0.9322 - val_loss: 2.0557 - val_accuracy: 0.4000\n",
      "Epoch 32/50\n",
      "15/15 [==============================] - 0s 11ms/step - loss: 0.2832 - accuracy: 0.9214 - val_loss: 1.9486 - val_accuracy: 0.4667\n",
      "Epoch 33/50\n",
      "15/15 [==============================] - 0s 11ms/step - loss: 0.1316 - accuracy: 0.9807 - val_loss: 2.0265 - val_accuracy: 0.5333\n",
      "Epoch 34/50\n",
      "15/15 [==============================] - 0s 10ms/step - loss: 0.1839 - accuracy: 0.9532 - val_loss: 1.4684 - val_accuracy: 0.4667\n",
      "Epoch 35/50\n",
      "15/15 [==============================] - 0s 10ms/step - loss: 0.4558 - accuracy: 0.8373 - val_loss: 1.0423 - val_accuracy: 0.4000\n",
      "Epoch 36/50\n",
      "15/15 [==============================] - 0s 10ms/step - loss: 0.4683 - accuracy: 0.7999 - val_loss: 1.0614 - val_accuracy: 0.5333\n",
      "Epoch 37/50\n",
      "15/15 [==============================] - 0s 10ms/step - loss: 0.3819 - accuracy: 0.8228 - val_loss: 1.8840 - val_accuracy: 0.4000\n",
      "Epoch 38/50\n",
      "15/15 [==============================] - 0s 10ms/step - loss: 0.1687 - accuracy: 0.9128 - val_loss: 2.1751 - val_accuracy: 0.4667\n",
      "Epoch 39/50\n",
      "15/15 [==============================] - 0s 10ms/step - loss: 0.2305 - accuracy: 0.9168 - val_loss: 1.7859 - val_accuracy: 0.5333\n",
      "Epoch 40/50\n",
      "15/15 [==============================] - 0s 10ms/step - loss: 0.2420 - accuracy: 0.9508 - val_loss: 2.9221 - val_accuracy: 0.4667\n",
      "Epoch 41/50\n",
      "15/15 [==============================] - 0s 10ms/step - loss: 0.9087 - accuracy: 0.6385 - val_loss: 0.8391 - val_accuracy: 0.6667\n",
      "Epoch 42/50\n",
      "15/15 [==============================] - 0s 10ms/step - loss: 0.2414 - accuracy: 0.9494 - val_loss: 1.4297 - val_accuracy: 0.5333\n",
      "Epoch 43/50\n",
      "15/15 [==============================] - 0s 10ms/step - loss: 0.2288 - accuracy: 0.8966 - val_loss: 1.1343 - val_accuracy: 0.4667\n",
      "Epoch 44/50\n",
      "15/15 [==============================] - 0s 10ms/step - loss: 0.1997 - accuracy: 0.9080 - val_loss: 1.9670 - val_accuracy: 0.4667\n",
      "Epoch 45/50\n",
      "15/15 [==============================] - 0s 10ms/step - loss: 0.4218 - accuracy: 0.7594 - val_loss: 1.2386 - val_accuracy: 0.6667\n",
      "Epoch 46/50\n",
      "15/15 [==============================] - 0s 11ms/step - loss: 0.5202 - accuracy: 0.8475 - val_loss: 1.4809 - val_accuracy: 0.4667\n",
      "Epoch 47/50\n",
      "15/15 [==============================] - 0s 10ms/step - loss: 0.1177 - accuracy: 0.9710 - val_loss: 0.6359 - val_accuracy: 0.7333\n",
      "Epoch 48/50\n",
      "15/15 [==============================] - 0s 10ms/step - loss: 0.3813 - accuracy: 0.8703 - val_loss: 2.5102 - val_accuracy: 0.5333\n",
      "Epoch 49/50\n",
      "15/15 [==============================] - 0s 10ms/step - loss: 0.4189 - accuracy: 0.8416 - val_loss: 1.2315 - val_accuracy: 0.4667\n",
      "Epoch 50/50\n",
      "15/15 [==============================] - 0s 10ms/step - loss: 0.0894 - accuracy: 0.9729 - val_loss: 2.1298 - val_accuracy: 0.4667\n"
     ]
    },
    {
     "data": {
      "text/plain": [
       "<tensorflow.python.keras.callbacks.History at 0x279da5e7f40>"
      ]
     },
     "execution_count": 31,
     "metadata": {},
     "output_type": "execute_result"
    }
   ],
   "source": [
    "#1. 데이터 가져오기\n",
    "train_datagen = ImageDataGenerator(rescale =1./255,\n",
    "                        rotation_range=10,\n",
    "                        width_shift_range=0.2,\n",
    "                        height_shift_range=0.2,\n",
    "                        shear_range=0.7,#0.7 라이안 밀림\n",
    "                        zoom_range=[0.9,2.2], # 0.9 배 ~2.2 배\n",
    "                        horizontal_flip=True, # 수평방향으로 뒤집기\n",
    "                        vertical_flip=True, # 수직방향으로 뒤집기\n",
    "                        fill_mode='nearest')#이미지를 회전,이동하거나 축소할 때 공간을 채우는 방식\n",
    "train_generator = train_datagen.flow_from_directory(\n",
    "                                'data/handwriting/hand_test/train',\n",
    "                                target_size=(24,24),\n",
    "                                batch_size=3,\n",
    "                                class_mode=\"categorical\")\n",
    "test_generator = train_datagen.flow_from_directory(\n",
    "                                'data/handwriting/hand_test/test',\n",
    "                                target_size=(24,24),\n",
    "                                batch_size=3,\n",
    "                                class_mode=\"categorical\")\n",
    "# 2. 모델 구성하기\n",
    "model = Sequential()\n",
    "model.add(Conv2D(32, kernel_size=(3,3), activation=\"relu\", input_shape=(24,24,3)))\n",
    "model.add(Conv2D(32, kernel_size=(3,3), activation=\"relu\"))\n",
    "model.add(MaxPool2D(pool_size=(2,2)))# 제일 큰 값만 뽑아 이미지 축소\n",
    "model.add(Dropout(0.1))\n",
    "model.add(Conv2D(64, kernel_size=(3,3), activation=\"relu\"))\n",
    "model.add(Conv2D(64, kernel_size=(3,3), activation=\"relu\"))\n",
    "model.add(MaxPool2D(pool_size=(2,2)))\n",
    "model.add(Dropout(0.1))\n",
    "model.add(Flatten())#1차원으로 \n",
    "model.add(Dense(128, activation=\"relu\"))\n",
    "model.add(Dense(3, activation=\"softmax\"))\n",
    "# 3. 모델 컴파일\n",
    "model.compile(loss='categorical_crossentropy', optimizer='adam',  metrics=['accuracy'])\n",
    "# 4. 모델 학습시키기\n",
    "model.fit_generator(train_generator, steps_per_epoch=15, epochs=50, validation_data=test_generator, validation_steps=5)"
   ]
  },
  {
   "cell_type": "code",
   "execution_count": 32,
   "metadata": {
    "ExecuteTime": {
     "end_time": "2021-03-25T02:26:25.643342Z",
     "start_time": "2021-03-25T02:26:25.429307Z"
    }
   },
   "outputs": [
    {
     "name": "stdout",
     "output_type": "stream",
     "text": [
      "1.5020110607147217 0.6000000238418579\n",
      "{'circle': 0, 'rectangle': 1, 'triangle': 2}\n",
      "[[0.27 0.00 0.73]\n",
      " [0.25 0.01 0.74]\n",
      " [0.56 0.00 0.44]\n",
      " [0.00 0.00 1.00]\n",
      " [0.03 0.00 0.97]\n",
      " [0.08 0.00 0.92]\n",
      " [0.28 0.01 0.71]\n",
      " [0.01 0.00 0.99]\n",
      " [0.38 0.06 0.56]\n",
      " [0.20 0.77 0.03]\n",
      " [0.59 0.14 0.27]\n",
      " [0.73 0.01 0.26]\n",
      " [0.57 0.00 0.43]\n",
      " [0.70 0.24 0.07]\n",
      " [0.36 0.00 0.64]]\n"
     ]
    }
   ],
   "source": [
    "#5. 모델 평가하기\n",
    "score = model.evaluate_generator(test_generator, steps=5)\n",
    "print(score[0], score[1])\n",
    "#6. 예측하기\n",
    "pred = model.predict_generator(test_generator)\n",
    "print(test_generator.class_indices)\n",
    "np.set_printoptions(formatter={'float':lambda x: \"{:0.2f}\".format(x)})\n",
    "print(pred)"
   ]
  }
 ],
 "metadata": {
  "kernelspec": {
   "display_name": "Python 3",
   "language": "python",
   "name": "python3"
  },
  "language_info": {
   "codemirror_mode": {
    "name": "ipython",
    "version": 3
   },
   "file_extension": ".py",
   "mimetype": "text/x-python",
   "name": "python",
   "nbconvert_exporter": "python",
   "pygments_lexer": "ipython3",
   "version": "3.8.5"
  },
  "toc": {
   "base_numbering": 1,
   "nav_menu": {},
   "number_sections": true,
   "sideBar": true,
   "skip_h1_title": false,
   "title_cell": "Table of Contents",
   "title_sidebar": "Contents",
   "toc_cell": false,
   "toc_position": {},
   "toc_section_display": true,
   "toc_window_display": false
  },
  "varInspector": {
   "cols": {
    "lenName": 16,
    "lenType": 16,
    "lenVar": 40
   },
   "kernels_config": {
    "python": {
     "delete_cmd_postfix": "",
     "delete_cmd_prefix": "del ",
     "library": "var_list.py",
     "varRefreshCmd": "print(var_dic_list())"
    },
    "r": {
     "delete_cmd_postfix": ") ",
     "delete_cmd_prefix": "rm(",
     "library": "var_list.r",
     "varRefreshCmd": "cat(var_dic_list()) "
    }
   },
   "types_to_exclude": [
    "module",
    "function",
    "builtin_function_or_method",
    "instance",
    "_Feature"
   ],
   "window_display": false
  }
 },
 "nbformat": 4,
 "nbformat_minor": 4
}
