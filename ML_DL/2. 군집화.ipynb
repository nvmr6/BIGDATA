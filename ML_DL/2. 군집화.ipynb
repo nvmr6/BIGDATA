{
 "cells": [
  {
   "cell_type": "code",
   "execution_count": 1,
   "metadata": {
    "ExecuteTime": {
     "end_time": "2021-03-19T03:47:44.465191Z",
     "start_time": "2021-03-19T03:47:44.455218Z"
    }
   },
   "outputs": [
    {
     "data": {
      "text/html": [
       "\n",
       "<style>\n",
       "div.container{width:80% !important;}\n",
       "</style>\n"
      ],
      "text/plain": [
       "<IPython.core.display.HTML object>"
      ]
     },
     "metadata": {},
     "output_type": "display_data"
    }
   ],
   "source": [
    "from IPython.display import display, HTML\n",
    "display(HTML(\"\"\"\n",
    "<style>\n",
    "div.container{width:80% !important;}\n",
    "</style>\n",
    "\"\"\"))"
   ]
  },
  {
   "cell_type": "markdown",
   "metadata": {},
   "source": [
    "<font size=6>군집화</font>"
   ]
  },
  {
   "cell_type": "code",
   "execution_count": 3,
   "metadata": {
    "ExecuteTime": {
     "end_time": "2021-03-19T03:54:26.870173Z",
     "start_time": "2021-03-19T03:54:26.864199Z"
    }
   },
   "outputs": [],
   "source": [
    "import random\n",
    "import numpy as np\n",
    "import pandas as pd\n",
    "import matplotlib.pyplot as plt\n",
    "data = []\n",
    "for i in range(50):\n",
    "    data.append([random.randint(40,70), random.randint(140,180)])\n",
    "    data.append([random.randint(60,90), random.randint(170,200)])"
   ]
  },
  {
   "cell_type": "code",
   "execution_count": 4,
   "metadata": {
    "ExecuteTime": {
     "end_time": "2021-03-19T03:55:09.382613Z",
     "start_time": "2021-03-19T03:55:09.376654Z"
    }
   },
   "outputs": [
    {
     "data": {
      "text/plain": [
       "[[68, 146],\n",
       " [66, 160],\n",
       " [58, 178],\n",
       " [49, 172],\n",
       " [53, 167],\n",
       " [40, 148],\n",
       " [52, 166],\n",
       " [59, 150],\n",
       " [65, 162],\n",
       " [58, 169],\n",
       " [49, 148],\n",
       " [45, 154],\n",
       " [62, 172],\n",
       " [65, 155],\n",
       " [58, 145],\n",
       " [64, 172],\n",
       " [42, 150],\n",
       " [66, 173],\n",
       " [54, 178],\n",
       " [58, 166],\n",
       " [52, 179],\n",
       " [48, 141],\n",
       " [64, 170],\n",
       " [62, 142],\n",
       " [56, 163],\n",
       " [49, 146],\n",
       " [43, 153],\n",
       " [68, 177],\n",
       " [47, 165],\n",
       " [64, 152],\n",
       " [62, 144],\n",
       " [53, 159],\n",
       " [50, 164],\n",
       " [44, 172],\n",
       " [43, 146],\n",
       " [42, 177],\n",
       " [54, 143],\n",
       " [68, 161],\n",
       " [70, 177],\n",
       " [50, 157],\n",
       " [45, 156],\n",
       " [44, 172],\n",
       " [61, 178],\n",
       " [42, 154],\n",
       " [45, 176],\n",
       " [69, 159],\n",
       " [56, 174],\n",
       " [62, 144],\n",
       " [43, 176],\n",
       " [52, 161]]"
      ]
     },
     "execution_count": 4,
     "metadata": {},
     "output_type": "execute_result"
    }
   ],
   "source": [
    "#여자\n",
    "data[0:100:2]"
   ]
  },
  {
   "cell_type": "code",
   "execution_count": 5,
   "metadata": {
    "ExecuteTime": {
     "end_time": "2021-03-19T03:55:28.903423Z",
     "start_time": "2021-03-19T03:55:28.896442Z"
    }
   },
   "outputs": [
    {
     "data": {
      "text/plain": [
       "[[70, 186],\n",
       " [65, 186],\n",
       " [61, 189],\n",
       " [75, 172],\n",
       " [73, 184],\n",
       " [70, 197],\n",
       " [65, 188],\n",
       " [69, 196],\n",
       " [85, 200],\n",
       " [86, 197],\n",
       " [70, 187],\n",
       " [77, 196],\n",
       " [88, 184],\n",
       " [62, 189],\n",
       " [83, 192],\n",
       " [84, 176],\n",
       " [60, 196],\n",
       " [84, 181],\n",
       " [61, 197],\n",
       " [84, 186],\n",
       " [67, 194],\n",
       " [65, 193],\n",
       " [75, 174],\n",
       " [76, 182],\n",
       " [77, 174],\n",
       " [76, 186],\n",
       " [67, 185],\n",
       " [64, 179],\n",
       " [71, 174],\n",
       " [76, 179],\n",
       " [84, 170],\n",
       " [78, 199],\n",
       " [72, 188],\n",
       " [90, 183],\n",
       " [64, 179],\n",
       " [80, 178],\n",
       " [85, 184],\n",
       " [76, 174],\n",
       " [85, 186],\n",
       " [69, 186],\n",
       " [81, 190],\n",
       " [79, 196],\n",
       " [84, 200],\n",
       " [66, 198],\n",
       " [70, 193],\n",
       " [65, 191],\n",
       " [64, 181],\n",
       " [75, 190],\n",
       " [72, 191],\n",
       " [68, 186]]"
      ]
     },
     "execution_count": 5,
     "metadata": {},
     "output_type": "execute_result"
    }
   ],
   "source": [
    "#남자\n",
    "data[1:100:2]"
   ]
  },
  {
   "cell_type": "code",
   "execution_count": 9,
   "metadata": {
    "ExecuteTime": {
     "end_time": "2021-03-19T04:03:37.316663Z",
     "start_time": "2021-03-19T04:03:37.143055Z"
    }
   },
   "outputs": [
    {
     "data": {
      "text/plain": [
       "[<matplotlib.lines.Line2D at 0x28785027c70>]"
      ]
     },
     "execution_count": 9,
     "metadata": {},
     "output_type": "execute_result"
    },
    {
     "data": {
      "image/png": "[encoded data removed]",
      "text/plain": [
       "<Figure size 432x288 with 1 Axes>"
      ]
     },
     "metadata": {
      "needs_background": "light"
     },
     "output_type": "display_data"
    }
   ],
   "source": [
    "#여자 몸무게\n",
    "[d[0] for d in data[0:100:2]]\n",
    "#여자 키\n",
    "[d[1] for d in data[0:100:2]]\n",
    "#남자 몸무게\n",
    "[d[0] for d in data[1:100:2]]\n",
    "#남자 키\n",
    "[d[1] for d in data[1:100:2]]\n",
    "plt.plot([d[0] for d in data[0:100:2]],[d[1] for d in data[0:100:2]], 'o', color='r')\n",
    "plt.plot([d[0] for d in data[1:100:2]],[d[1] for d in data[1:100:2]], 'o', color='b')"
   ]
  },
  {
   "cell_type": "code",
   "execution_count": 13,
   "metadata": {
    "ExecuteTime": {
     "end_time": "2021-03-19T04:10:13.491647Z",
     "start_time": "2021-03-19T04:10:13.486660Z"
    }
   },
   "outputs": [
    {
     "name": "stdout",
     "output_type": "stream",
     "text": [
      "초기 핸덤 기준점 [[68, 192], [41, 172]]\n"
     ]
    }
   ],
   "source": [
    "#초기 랜덤 지점 2개\n",
    "random_point = [[random.randint(40,90), random.randint(140,200)],\n",
    "               [random.randint(40,90), random.randint(140,200)]]\n",
    "print('초기 핸덤 기준점', random_point)"
   ]
  },
  {
   "cell_type": "code",
   "execution_count": 15,
   "metadata": {
    "ExecuteTime": {
     "end_time": "2021-03-19T04:12:05.555819Z",
     "start_time": "2021-03-19T04:12:05.550833Z"
    }
   },
   "outputs": [
    {
     "data": {
      "text/plain": [
       "(41, 172)"
      ]
     },
     "execution_count": 15,
     "metadata": {},
     "output_type": "execute_result"
    }
   ],
   "source": [
    "random_point[0][0], random_point[0][1]#기준점1\n",
    "random_point[1][0], random_point[1][1]#기준점2"
   ]
  },
  {
   "cell_type": "code",
   "execution_count": 16,
   "metadata": {
    "ExecuteTime": {
     "end_time": "2021-03-19T04:14:15.022889Z",
     "start_time": "2021-03-19T04:14:14.774515Z"
    }
   },
   "outputs": [
    {
     "data": {
      "text/plain": [
       "[<matplotlib.lines.Line2D at 0x2878766dc10>]"
      ]
     },
     "execution_count": 16,
     "metadata": {},
     "output_type": "execute_result"
    },
    {
     "data": {
      "image/png": "[encoded data removed]",
      "text/plain": [
       "<Figure size 432x288 with 1 Axes>"
      ]
     },
     "metadata": {
      "needs_background": "light"
     },
     "output_type": "display_data"
    }
   ],
   "source": [
    "for x in data:\n",
    "    plt.plot(x[0], x[1], 'o', color='k')\n",
    "plt.plot(random_point[0][0], random_point[0][1],'x',color='r')\n",
    "plt.plot(random_point[1][0], random_point[1][1],'x',color='b')"
   ]
  },
  {
   "cell_type": "code",
   "execution_count": 20,
   "metadata": {
    "ExecuteTime": {
     "end_time": "2021-03-19T05:42:25.549637Z",
     "start_time": "2021-03-19T05:42:25.545672Z"
    }
   },
   "outputs": [],
   "source": [
    "# 두 영역으로 나눌 빈 리스트 생성\n",
    "group1 = []\n",
    "group2 = []"
   ]
  },
  {
   "cell_type": "code",
   "execution_count": 17,
   "metadata": {
    "ExecuteTime": {
     "end_time": "2021-03-19T05:36:53.026527Z",
     "start_time": "2021-03-19T05:36:53.022537Z"
    }
   },
   "outputs": [],
   "source": [
    "#영역을 나누기 위해 두 점 사이의 거리를 구하는 함수\n",
    "def dist(a, b):\n",
    "    return np.sqrt((a[0]-b[0])**2 + (a[1]-b[1])**2)"
   ]
  },
  {
   "cell_type": "code",
   "execution_count": 21,
   "metadata": {
    "ExecuteTime": {
     "end_time": "2021-03-19T05:42:27.429795Z",
     "start_time": "2021-03-19T05:42:27.425805Z"
    }
   },
   "outputs": [],
   "source": [
    "for d in data:\n",
    "    if dist(random_point[0],d) < dist(random_point[1],d):#빨간 점에 더 가까움\n",
    "        group1.append(d)\n",
    "    else:\n",
    "        group2.append(d)"
   ]
  },
  {
   "cell_type": "code",
   "execution_count": 23,
   "metadata": {
    "ExecuteTime": {
     "end_time": "2021-03-19T05:44:55.637710Z",
     "start_time": "2021-03-19T05:44:55.385360Z"
    }
   },
   "outputs": [
    {
     "data": {
      "text/plain": [
       "[<matplotlib.lines.Line2D at 0x28787e789a0>]"
      ]
     },
     "execution_count": 23,
     "metadata": {},
     "output_type": "execute_result"
    },
    {
     "data": {
      "image/png": "[encoded data removed]",
      "text/plain": [
       "<Figure size 432x288 with 1 Axes>"
      ]
     },
     "metadata": {
      "needs_background": "light"
     },
     "output_type": "display_data"
    }
   ],
   "source": [
    "#새로운 영역과 랜덤점 그래프\n",
    "for d in group1:\n",
    "    plt.plot(d[0], d[1], 'o', color='r')\n",
    "for d in group2:\n",
    "    plt.plot(d[0], d[1], 'o', color='b')\n",
    "plt.plot(random_point[0][0], random_point[0][1],'x',color='r')\n",
    "plt.plot(random_point[1][0], random_point[1][1],'x',color='b')"
   ]
  },
  {
   "cell_type": "code",
   "execution_count": 26,
   "metadata": {
    "ExecuteTime": {
     "end_time": "2021-03-19T05:52:49.541338Z",
     "start_time": "2021-03-19T05:52:49.535374Z"
    }
   },
   "outputs": [
    {
     "name": "stdout",
     "output_type": "stream",
     "text": [
      "[[72.51724137931035, 185.1551724137931], [53.0, 158.85714285714286]]\n"
     ]
    }
   ],
   "source": [
    "#기준점 이동\n",
    "sumX = 0; sumY = 0\n",
    "for g in group1:\n",
    "    sumX += g[0]#값누적\n",
    "    sumY += g[1]#값누적\n",
    "#새로운 기준점 1\n",
    "new_points = []\n",
    "new_points.append([sumX/len(group1),sumY/len(group1)])\n",
    "\n",
    "sumX = 0; sumY = 0\n",
    "for g in group2:\n",
    "    sumX += g[0]#값누적\n",
    "    sumY += g[1]#값누적\n",
    "#새로운 기준점2\n",
    "new_points.append([sumX/len(group2),sumY/len(group2)])\n",
    "print(new_points)"
   ]
  },
  {
   "cell_type": "code",
   "execution_count": 28,
   "metadata": {
    "ExecuteTime": {
     "end_time": "2021-03-19T05:57:30.325139Z",
     "start_time": "2021-03-19T05:57:30.071817Z"
    }
   },
   "outputs": [
    {
     "data": {
      "text/plain": [
       "[<matplotlib.lines.Line2D at 0x28787fed820>]"
      ]
     },
     "execution_count": 28,
     "metadata": {},
     "output_type": "execute_result"
    },
    {
     "data": {
      "image/png": "[encoded data removed]",
      "text/plain": [
       "<Figure size 432x288 with 1 Axes>"
      ]
     },
     "metadata": {
      "needs_background": "light"
     },
     "output_type": "display_data"
    }
   ],
   "source": [
    "group1 = []\n",
    "group2 = []\n",
    "for d in data:\n",
    "    if dist(new_points[0],d) < dist(new_points[1],d):#빨간 점에 더 가까움\n",
    "        group1.append(d)\n",
    "    else:\n",
    "        group2.append(d)\n",
    "#새로운 영역과 랜덤점 그래프\n",
    "for d in group1:\n",
    "    plt.plot(d[0], d[1], 'o', color='r')\n",
    "for d in group2:\n",
    "    plt.plot(d[0], d[1], 'o', color='b')\n",
    "plt.plot(new_points[0][0], new_points[0][1],'x',color='r')\n",
    "plt.plot(new_points[1][0], new_points[1][1],'x',color='b')"
   ]
  },
  {
   "cell_type": "markdown",
   "metadata": {},
   "source": [
    "# 전체 코드"
   ]
  },
  {
   "cell_type": "code",
   "execution_count": null,
   "metadata": {},
   "outputs": [],
   "source": [
    "import random\n",
    "import numpy as np\n",
    "import pandas as pd\n",
    "import matplotlib.pyplot as plt"
   ]
  },
  {
   "cell_type": "code",
   "execution_count": 29,
   "metadata": {
    "ExecuteTime": {
     "end_time": "2021-03-19T06:13:47.815742Z",
     "start_time": "2021-03-19T06:13:47.809758Z"
    }
   },
   "outputs": [],
   "source": [
    "data = []\n",
    "for i in range(50):\n",
    "    data.append([random.randint(40,70), random.randint(140,180)])\n",
    "    data.append([random.randint(60,90), random.randint(170,200)])\n",
    "def dist(a, b):\n",
    "    return np.sqrt((a[0]-b[0])**2 + (a[1]-b[1])**2)"
   ]
  },
  {
   "cell_type": "code",
   "execution_count": 30,
   "metadata": {
    "ExecuteTime": {
     "end_time": "2021-03-19T06:13:48.009511Z",
     "start_time": "2021-03-19T06:13:48.005522Z"
    }
   },
   "outputs": [
    {
     "name": "stdout",
     "output_type": "stream",
     "text": [
      "기준점:  [[72, 182], [43, 186]]\n"
     ]
    }
   ],
   "source": [
    "new_points = [[random.randint(40,90), random.randint(140,200)],\n",
    "              [random.randint(40,90), random.randint(140,200)]]\n",
    "print('기준점: ', new_points)"
   ]
  },
  {
   "cell_type": "code",
   "execution_count": 31,
   "metadata": {
    "ExecuteTime": {
     "end_time": "2021-03-19T06:13:48.209486Z",
     "start_time": "2021-03-19T06:13:48.197517Z"
    }
   },
   "outputs": [
    {
     "name": "stdout",
     "output_type": "stream",
     "text": [
      "1 번째 기준:  [[70.32, 177.68], [46.28, 163.0]]\n",
      "2 번째 기준:  [[72.33333333333333, 182.14285714285714], [50.648648648648646, 160.16216216216216]]\n",
      "3 번째 기준:  [[73.85454545454546, 184.2], [52.644444444444446, 161.55555555555554]]\n",
      "4 번째 기준:  [[74.33333333333333, 185.49019607843138], [53.87755102040816, 162.0612244897959]]\n",
      "5 번째 기준:  [[74.93877551020408, 185.83673469387756], [54.09803921568628, 162.64705882352942]]\n",
      "6 번째 기준:  [[74.93877551020408, 185.83673469387756], [54.09803921568628, 162.64705882352942]]\n",
      "7 번째 기준:  [[74.93877551020408, 185.83673469387756], [54.09803921568628, 162.64705882352942]]\n",
      "8 번째 기준:  [[74.93877551020408, 185.83673469387756], [54.09803921568628, 162.64705882352942]]\n",
      "9 번째 기준:  [[74.93877551020408, 185.83673469387756], [54.09803921568628, 162.64705882352942]]\n",
      "10 번째 기준:  [[74.93877551020408, 185.83673469387756], [54.09803921568628, 162.64705882352942]]\n"
     ]
    }
   ],
   "source": [
    "for i in range(1,11):\n",
    "    group1 = []\n",
    "    group2 = []\n",
    "    for d in data:\n",
    "        if dist(new_points[0],d) < dist(new_points[1],d):\n",
    "            group1.append(d)\n",
    "        else:\n",
    "            group2.append(d)\n",
    "    sumX = 0; sumY = 0\n",
    "    for g in group1:\n",
    "        sumX += g[0]\n",
    "        sumY += g[1]\n",
    "    new_points = []\n",
    "    new_points.append([sumX/len(group1),sumY/len(group1)])\n",
    "    sumX = 0; sumY = 0\n",
    "    for g in group2:\n",
    "        sumX += g[0]\n",
    "        sumY += g[1]\n",
    "    new_points.append([sumX/len(group2),sumY/len(group2)])\n",
    "    print(i,\"번째 기준: \",new_points)"
   ]
  },
  {
   "cell_type": "code",
   "execution_count": null,
   "metadata": {},
   "outputs": [],
   "source": []
  },
  {
   "cell_type": "code",
   "execution_count": 34,
   "metadata": {
    "ExecuteTime": {
     "end_time": "2021-03-19T06:19:12.176000Z",
     "start_time": "2021-03-19T06:19:11.828917Z"
    }
   },
   "outputs": [
    {
     "data": {
      "text/plain": [
       "[<matplotlib.lines.Line2D at 0x28787250250>]"
      ]
     },
     "execution_count": 34,
     "metadata": {},
     "output_type": "execute_result"
    },
    {
     "data": {
      "image/png": "[encoded data removed]",
      "text/plain": [
       "<Figure size 432x288 with 1 Axes>"
      ]
     },
     "metadata": {
      "needs_background": "light"
     },
     "output_type": "display_data"
    }
   ],
   "source": [
    "for d in group1:\n",
    "    plt.plot(d[0], d[1], 'o', color='r')\n",
    "for d in group2:\n",
    "    plt.plot(d[0], d[1], 'o', color='b')\n",
    "plt.plot(new_points[0][0], new_points[0][1],'x',color='r')\n",
    "plt.plot(new_points[1][0], new_points[1][1],'x',color='b')"
   ]
  },
  {
   "cell_type": "code",
   "execution_count": 35,
   "metadata": {
    "ExecuteTime": {
     "end_time": "2021-03-19T06:19:14.922622Z",
     "start_time": "2021-03-19T06:19:14.780740Z"
    }
   },
   "outputs": [
    {
     "data": {
      "text/plain": [
       "[<matplotlib.lines.Line2D at 0x287879f3580>]"
      ]
     },
     "execution_count": 35,
     "metadata": {},
     "output_type": "execute_result"
    },
    {
     "data": {
      "image/png": "[encoded data removed]",
      "text/plain": [
       "<Figure size 432x288 with 1 Axes>"
      ]
     },
     "metadata": {
      "needs_background": "light"
     },
     "output_type": "display_data"
    }
   ],
   "source": [
    "plt.plot([d[0] for d in data[0:100:2]],[d[1] for d in data[0:100:2]], 'o', color='y')\n",
    "plt.plot([d[0] for d in data[1:100:2]],[d[1] for d in data[1:100:2]], 'o', color='g')"
   ]
  },
  {
   "cell_type": "code",
   "execution_count": null,
   "metadata": {},
   "outputs": [],
   "source": []
  },
  {
   "cell_type": "code",
   "execution_count": null,
   "metadata": {},
   "outputs": [],
   "source": []
  },
  {
   "cell_type": "code",
   "execution_count": null,
   "metadata": {},
   "outputs": [],
   "source": []
  },
  {
   "cell_type": "code",
   "execution_count": null,
   "metadata": {},
   "outputs": [],
   "source": []
  },
  {
   "cell_type": "code",
   "execution_count": null,
   "metadata": {},
   "outputs": [],
   "source": []
  },
  {
   "cell_type": "code",
   "execution_count": null,
   "metadata": {},
   "outputs": [],
   "source": []
  },
  {
   "cell_type": "code",
   "execution_count": null,
   "metadata": {},
   "outputs": [],
   "source": []
  },
  {
   "cell_type": "code",
   "execution_count": null,
   "metadata": {},
   "outputs": [],
   "source": []
  },
  {
   "cell_type": "code",
   "execution_count": null,
   "metadata": {},
   "outputs": [],
   "source": []
  },
  {
   "cell_type": "code",
   "execution_count": null,
   "metadata": {},
   "outputs": [],
   "source": []
  }
 ],
 "metadata": {
  "kernelspec": {
   "display_name": "Python 3",
   "language": "python",
   "name": "python3"
  },
  "language_info": {
   "codemirror_mode": {
    "name": "ipython",
    "version": 3
   },
   "file_extension": ".py",
   "mimetype": "text/x-python",
   "name": "python",
   "nbconvert_exporter": "python",
   "pygments_lexer": "ipython3",
   "version": "3.8.5"
  },
  "toc": {
   "base_numbering": 1,
   "nav_menu": {},
   "number_sections": true,
   "sideBar": true,
   "skip_h1_title": false,
   "title_cell": "Table of Contents",
   "title_sidebar": "Contents",
   "toc_cell": false,
   "toc_position": {},
   "toc_section_display": true,
   "toc_window_display": false
  },
  "varInspector": {
   "cols": {
    "lenName": 16,
    "lenType": 16,
    "lenVar": 40
   },
   "kernels_config": {
    "python": {
     "delete_cmd_postfix": "",
     "delete_cmd_prefix": "del ",
     "library": "var_list.py",
     "varRefreshCmd": "print(var_dic_list())"
    },
    "r": {
     "delete_cmd_postfix": ") ",
     "delete_cmd_prefix": "rm(",
     "library": "var_list.r",
     "varRefreshCmd": "cat(var_dic_list()) "
    }
   },
   "types_to_exclude": [
    "module",
    "function",
    "builtin_function_or_method",
    "instance",
    "_Feature"
   ],
   "window_display": false
  }
 },
 "nbformat": 4,
 "nbformat_minor": 4
}
