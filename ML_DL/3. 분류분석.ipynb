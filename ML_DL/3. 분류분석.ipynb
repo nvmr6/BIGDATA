{
 "cells": [
  {
   "cell_type": "code",
   "execution_count": 1,
   "metadata": {
    "ExecuteTime": {
     "end_time": "2021-03-19T06:37:58.272104Z",
     "start_time": "2021-03-19T06:37:58.262111Z"
    }
   },
   "outputs": [
    {
     "data": {
      "text/html": [
       "\n",
       "<style>\n",
       "div.container{width:80% !important;}\n",
       "</style>\n"
      ],
      "text/plain": [
       "<IPython.core.display.HTML object>"
      ]
     },
     "metadata": {},
     "output_type": "display_data"
    }
   ],
   "source": [
    "from IPython.display import display, HTML\n",
    "display(HTML(\"\"\"\n",
    "<style>\n",
    "div.container{width:80% !important;}\n",
    "</style>\n",
    "\"\"\"))"
   ]
  },
  {
   "cell_type": "markdown",
   "metadata": {},
   "source": [
    "<font size=6>분류분석</font>"
   ]
  },
  {
   "cell_type": "code",
   "execution_count": 22,
   "metadata": {
    "ExecuteTime": {
     "end_time": "2021-03-19T08:19:12.598125Z",
     "start_time": "2021-03-19T08:19:12.593152Z"
    }
   },
   "outputs": [],
   "source": [
    "import random\n",
    "import numpy as np\n",
    "import pandas as pd\n",
    "import matplotlib.pyplot as plt\n",
    "import tensorflow.keras.utils as utils # 원핫 인코딩\n",
    "from tensorflow.keras.models import Sequential #모델 생성시\n",
    "from tensorflow.keras.layers import Dense, Activation #입력과 출력"
   ]
  },
  {
   "cell_type": "markdown",
   "metadata": {},
   "source": [
    "# 데이터 셋 준비"
   ]
  },
  {
   "cell_type": "code",
   "execution_count": 4,
   "metadata": {
    "ExecuteTime": {
     "end_time": "2021-03-19T06:50:34.689768Z",
     "start_time": "2021-03-19T06:50:34.684781Z"
    }
   },
   "outputs": [],
   "source": [
    "#학습 데이터(훈련 데이터)\n",
    "X_train = np.array([1,2,3,4,5,6,7,8,9]*10)\n",
    "Y_train = np.array([2,4,6,8,10,12,14,16,18]*10)\n",
    "#검증 데이터, 테스트 데이터\n",
    "X_val = np.array([1,2,3,4,5,6,7,8,9])\n",
    "Y_val = np.array([2,4,6,8,10,12,14,16,18])"
   ]
  },
  {
   "cell_type": "code",
   "execution_count": 5,
   "metadata": {
    "ExecuteTime": {
     "end_time": "2021-03-19T06:53:35.371952Z",
     "start_time": "2021-03-19T06:53:35.367988Z"
    }
   },
   "outputs": [],
   "source": [
    "#분류 분석이 회귀식보다 loss가 적고 더 좋은 approach를 갖는다."
   ]
  },
  {
   "cell_type": "code",
   "execution_count": 6,
   "metadata": {
    "ExecuteTime": {
     "end_time": "2021-03-19T06:54:09.779509Z",
     "start_time": "2021-03-19T06:54:09.775519Z"
    }
   },
   "outputs": [],
   "source": [
    "#분류 분석을 하기 위해 타겟 데이터를 라벨링 전환(원핫인코딩)\n",
    "Y_train = utils.to_categorical(Y_train, 19)\n",
    "Y_val = utils.to_categorical(Y_val, 19)"
   ]
  },
  {
   "cell_type": "markdown",
   "metadata": {},
   "source": [
    "# 모델 구성하기"
   ]
  },
  {
   "cell_type": "code",
   "execution_count": 7,
   "metadata": {
    "ExecuteTime": {
     "end_time": "2021-03-19T07:22:41.945030Z",
     "start_time": "2021-03-19T07:22:41.725075Z"
    }
   },
   "outputs": [],
   "source": [
    "model = Sequential()\n",
    "model.add(Dense(units=38, input_dim=1, activation=\"sigmoid\"))#활성화 함수\n",
    "model.add(Dense(units=64, activation=\"elu\"))#일정값 이상부터 활성화\n",
    "model.add(Dense(units=32, activation=\"elu\"))\n",
    "model.add(Dense(units=19, activation=\"softmax\"))#모든 출력 결과 1"
   ]
  },
  {
   "cell_type": "markdown",
   "metadata": {},
   "source": [
    "# 모델 학습 과정"
   ]
  },
  {
   "cell_type": "code",
   "execution_count": 9,
   "metadata": {
    "ExecuteTime": {
     "end_time": "2021-03-19T07:23:35.557525Z",
     "start_time": "2021-03-19T07:23:35.435824Z"
    }
   },
   "outputs": [],
   "source": [
    "model.compile(loss=\"categorical_crossentropy\", optimizer=\"sgd\", metrics=[\"accuracy\"])"
   ]
  },
  {
   "cell_type": "markdown",
   "metadata": {},
   "source": [
    "# 모델 학습시키기"
   ]
  },
  {
   "cell_type": "code",
   "execution_count": 10,
   "metadata": {
    "ExecuteTime": {
     "end_time": "2021-03-19T07:27:35.124056Z",
     "start_time": "2021-03-19T07:27:21.834551Z"
    }
   },
   "outputs": [
    {
     "name": "stdout",
     "output_type": "stream",
     "text": [
      "Epoch 1/300\n",
      "9/9 - 1s - loss: 2.9903 - accuracy: 0.1444 - val_loss: 2.9027 - val_accuracy: 0.2222\n",
      "Epoch 2/300\n",
      "9/9 - 0s - loss: 2.8635 - accuracy: 0.2222 - val_loss: 2.7944 - val_accuracy: 0.2222\n",
      "Epoch 3/300\n",
      "9/9 - 0s - loss: 2.7644 - accuracy: 0.2222 - val_loss: 2.7113 - val_accuracy: 0.2222\n",
      "Epoch 4/300\n",
      "9/9 - 0s - loss: 2.6926 - accuracy: 0.2000 - val_loss: 2.6415 - val_accuracy: 0.1111\n",
      "Epoch 5/300\n",
      "9/9 - 0s - loss: 2.6227 - accuracy: 0.1111 - val_loss: 2.5809 - val_accuracy: 0.1111\n",
      "Epoch 6/300\n",
      "9/9 - 0s - loss: 2.5693 - accuracy: 0.1111 - val_loss: 2.5278 - val_accuracy: 0.1111\n",
      "Epoch 7/300\n",
      "9/9 - 0s - loss: 2.5153 - accuracy: 0.1111 - val_loss: 2.4796 - val_accuracy: 0.1111\n",
      "Epoch 8/300\n",
      "9/9 - 0s - loss: 2.4709 - accuracy: 0.1444 - val_loss: 2.4360 - val_accuracy: 0.2222\n",
      "Epoch 9/300\n",
      "9/9 - 0s - loss: 2.4308 - accuracy: 0.2222 - val_loss: 2.3958 - val_accuracy: 0.2222\n",
      "Epoch 10/300\n",
      "9/9 - 0s - loss: 2.3886 - accuracy: 0.1556 - val_loss: 2.3583 - val_accuracy: 0.2222\n",
      "Epoch 11/300\n",
      "9/9 - 0s - loss: 2.3534 - accuracy: 0.2222 - val_loss: 2.3228 - val_accuracy: 0.2222\n",
      "Epoch 12/300\n",
      "9/9 - 0s - loss: 2.3239 - accuracy: 0.1333 - val_loss: 2.2894 - val_accuracy: 0.2222\n",
      "Epoch 13/300\n",
      "9/9 - 0s - loss: 2.2863 - accuracy: 0.2222 - val_loss: 2.2577 - val_accuracy: 0.2222\n",
      "Epoch 14/300\n",
      "9/9 - 0s - loss: 2.2560 - accuracy: 0.2222 - val_loss: 2.2275 - val_accuracy: 0.2222\n",
      "Epoch 15/300\n",
      "9/9 - 0s - loss: 2.2255 - accuracy: 0.2222 - val_loss: 2.1987 - val_accuracy: 0.2222\n",
      "Epoch 16/300\n",
      "9/9 - 0s - loss: 2.1960 - accuracy: 0.2222 - val_loss: 2.1709 - val_accuracy: 0.2222\n",
      "Epoch 17/300\n",
      "9/9 - 0s - loss: 2.1735 - accuracy: 0.2222 - val_loss: 2.1444 - val_accuracy: 0.2222\n",
      "Epoch 18/300\n",
      "9/9 - 0s - loss: 2.1488 - accuracy: 0.2000 - val_loss: 2.1188 - val_accuracy: 0.2222\n",
      "Epoch 19/300\n",
      "9/9 - 0s - loss: 2.1207 - accuracy: 0.2222 - val_loss: 2.0940 - val_accuracy: 0.2222\n",
      "Epoch 20/300\n",
      "9/9 - 0s - loss: 2.1024 - accuracy: 0.2222 - val_loss: 2.0699 - val_accuracy: 0.2222\n",
      "Epoch 21/300\n",
      "9/9 - 0s - loss: 2.0738 - accuracy: 0.2444 - val_loss: 2.0468 - val_accuracy: 0.2222\n",
      "Epoch 22/300\n",
      "9/9 - 0s - loss: 2.0518 - accuracy: 0.2111 - val_loss: 2.0239 - val_accuracy: 0.2222\n",
      "Epoch 23/300\n",
      "9/9 - 0s - loss: 2.0300 - accuracy: 0.1778 - val_loss: 2.0017 - val_accuracy: 0.3333\n",
      "Epoch 24/300\n",
      "9/9 - 0s - loss: 2.0048 - accuracy: 0.2111 - val_loss: 1.9801 - val_accuracy: 0.2222\n",
      "Epoch 25/300\n",
      "9/9 - 0s - loss: 1.9942 - accuracy: 0.2111 - val_loss: 1.9591 - val_accuracy: 0.2222\n",
      "Epoch 26/300\n",
      "9/9 - 0s - loss: 1.9676 - accuracy: 0.2667 - val_loss: 1.9384 - val_accuracy: 0.2222\n",
      "Epoch 27/300\n",
      "9/9 - 0s - loss: 1.9450 - accuracy: 0.2444 - val_loss: 1.9182 - val_accuracy: 0.2222\n",
      "Epoch 28/300\n",
      "9/9 - 0s - loss: 1.9333 - accuracy: 0.2111 - val_loss: 1.8983 - val_accuracy: 0.2222\n",
      "Epoch 29/300\n",
      "9/9 - 0s - loss: 1.9077 - accuracy: 0.2111 - val_loss: 1.8790 - val_accuracy: 0.2222\n",
      "Epoch 30/300\n",
      "9/9 - 0s - loss: 1.8850 - accuracy: 0.2222 - val_loss: 1.8600 - val_accuracy: 0.3333\n",
      "Epoch 31/300\n",
      "9/9 - 0s - loss: 1.8653 - accuracy: 0.3333 - val_loss: 1.8410 - val_accuracy: 0.2222\n",
      "Epoch 32/300\n",
      "9/9 - 0s - loss: 1.8479 - accuracy: 0.1889 - val_loss: 1.8230 - val_accuracy: 0.2222\n",
      "Epoch 33/300\n",
      "9/9 - 0s - loss: 1.8277 - accuracy: 0.2000 - val_loss: 1.8048 - val_accuracy: 0.2222\n",
      "Epoch 34/300\n",
      "9/9 - 0s - loss: 1.8115 - accuracy: 0.3111 - val_loss: 1.7872 - val_accuracy: 0.2222\n",
      "Epoch 35/300\n",
      "9/9 - 0s - loss: 1.7917 - accuracy: 0.2444 - val_loss: 1.7694 - val_accuracy: 0.2222\n",
      "Epoch 36/300\n",
      "9/9 - 0s - loss: 1.7785 - accuracy: 0.2333 - val_loss: 1.7522 - val_accuracy: 0.3333\n",
      "Epoch 37/300\n",
      "9/9 - 0s - loss: 1.7635 - accuracy: 0.2889 - val_loss: 1.7357 - val_accuracy: 0.2222\n",
      "Epoch 38/300\n",
      "9/9 - 0s - loss: 1.7456 - accuracy: 0.1778 - val_loss: 1.7195 - val_accuracy: 0.1111\n",
      "Epoch 39/300\n",
      "9/9 - 0s - loss: 1.7257 - accuracy: 0.2889 - val_loss: 1.7035 - val_accuracy: 0.2222\n",
      "Epoch 40/300\n",
      "9/9 - 0s - loss: 1.7129 - accuracy: 0.2667 - val_loss: 1.6878 - val_accuracy: 0.2222\n",
      "Epoch 41/300\n",
      "9/9 - 0s - loss: 1.6994 - accuracy: 0.2889 - val_loss: 1.6725 - val_accuracy: 0.2222\n",
      "Epoch 42/300\n",
      "9/9 - 0s - loss: 1.6868 - accuracy: 0.2444 - val_loss: 1.6582 - val_accuracy: 0.3333\n",
      "Epoch 43/300\n",
      "9/9 - 0s - loss: 1.6655 - accuracy: 0.2444 - val_loss: 1.6424 - val_accuracy: 0.2222\n",
      "Epoch 44/300\n",
      "9/9 - 0s - loss: 1.6554 - accuracy: 0.2444 - val_loss: 1.6285 - val_accuracy: 0.3333\n",
      "Epoch 45/300\n",
      "9/9 - 0s - loss: 1.6404 - accuracy: 0.2889 - val_loss: 1.6139 - val_accuracy: 0.4444\n",
      "Epoch 46/300\n",
      "9/9 - 0s - loss: 1.6219 - accuracy: 0.3444 - val_loss: 1.5994 - val_accuracy: 0.3333\n",
      "Epoch 47/300\n",
      "9/9 - 0s - loss: 1.6210 - accuracy: 0.2444 - val_loss: 1.5857 - val_accuracy: 0.3333\n",
      "Epoch 48/300\n",
      "9/9 - 0s - loss: 1.5945 - accuracy: 0.3333 - val_loss: 1.5723 - val_accuracy: 0.3333\n",
      "Epoch 49/300\n",
      "9/9 - 0s - loss: 1.5882 - accuracy: 0.3000 - val_loss: 1.5589 - val_accuracy: 0.3333\n",
      "Epoch 50/300\n",
      "9/9 - 0s - loss: 1.5666 - accuracy: 0.3667 - val_loss: 1.5456 - val_accuracy: 0.3333\n",
      "Epoch 51/300\n",
      "9/9 - 0s - loss: 1.5559 - accuracy: 0.4000 - val_loss: 1.5327 - val_accuracy: 0.4444\n",
      "Epoch 52/300\n",
      "9/9 - 0s - loss: 1.5467 - accuracy: 0.3556 - val_loss: 1.5203 - val_accuracy: 0.4444\n",
      "Epoch 53/300\n",
      "9/9 - 0s - loss: 1.5341 - accuracy: 0.3333 - val_loss: 1.5081 - val_accuracy: 0.4444\n",
      "Epoch 54/300\n",
      "9/9 - 0s - loss: 1.5277 - accuracy: 0.3889 - val_loss: 1.4957 - val_accuracy: 0.2222\n",
      "Epoch 55/300\n",
      "9/9 - 0s - loss: 1.5088 - accuracy: 0.3333 - val_loss: 1.4838 - val_accuracy: 0.5556\n",
      "Epoch 56/300\n",
      "9/9 - 0s - loss: 1.4950 - accuracy: 0.4556 - val_loss: 1.4719 - val_accuracy: 0.4444\n",
      "Epoch 57/300\n",
      "9/9 - 0s - loss: 1.4906 - accuracy: 0.4444 - val_loss: 1.4602 - val_accuracy: 0.5556\n",
      "Epoch 58/300\n",
      "9/9 - 0s - loss: 1.4715 - accuracy: 0.4333 - val_loss: 1.4494 - val_accuracy: 0.4444\n",
      "Epoch 59/300\n",
      "9/9 - 0s - loss: 1.4613 - accuracy: 0.5222 - val_loss: 1.4378 - val_accuracy: 0.6667\n",
      "Epoch 60/300\n",
      "9/9 - 0s - loss: 1.4524 - accuracy: 0.4889 - val_loss: 1.4275 - val_accuracy: 0.5556\n",
      "Epoch 61/300\n",
      "9/9 - 0s - loss: 1.4476 - accuracy: 0.4111 - val_loss: 1.4170 - val_accuracy: 0.6667\n",
      "Epoch 62/300\n",
      "9/9 - 0s - loss: 1.4372 - accuracy: 0.5333 - val_loss: 1.4066 - val_accuracy: 0.6667\n",
      "Epoch 63/300\n",
      "9/9 - 0s - loss: 1.4220 - accuracy: 0.5000 - val_loss: 1.3957 - val_accuracy: 0.5556\n",
      "Epoch 64/300\n",
      "9/9 - 0s - loss: 1.4115 - accuracy: 0.5667 - val_loss: 1.3849 - val_accuracy: 0.5556\n",
      "Epoch 65/300\n",
      "9/9 - 0s - loss: 1.4008 - accuracy: 0.5000 - val_loss: 1.3748 - val_accuracy: 0.7778\n",
      "Epoch 66/300\n",
      "9/9 - 0s - loss: 1.3914 - accuracy: 0.5556 - val_loss: 1.3648 - val_accuracy: 0.6667\n",
      "Epoch 67/300\n",
      "9/9 - 0s - loss: 1.3799 - accuracy: 0.5778 - val_loss: 1.3556 - val_accuracy: 0.7778\n",
      "Epoch 68/300\n",
      "9/9 - 0s - loss: 1.3741 - accuracy: 0.5000 - val_loss: 1.3455 - val_accuracy: 0.6667\n",
      "Epoch 69/300\n",
      "9/9 - 0s - loss: 1.3701 - accuracy: 0.4778 - val_loss: 1.3363 - val_accuracy: 0.7778\n",
      "Epoch 70/300\n",
      "9/9 - 0s - loss: 1.3511 - accuracy: 0.5444 - val_loss: 1.3275 - val_accuracy: 0.7778\n",
      "Epoch 71/300\n",
      "9/9 - 0s - loss: 1.3462 - accuracy: 0.5889 - val_loss: 1.3181 - val_accuracy: 0.6667\n",
      "Epoch 72/300\n",
      "9/9 - 0s - loss: 1.3308 - accuracy: 0.6444 - val_loss: 1.3089 - val_accuracy: 0.7778\n",
      "Epoch 73/300\n",
      "9/9 - 0s - loss: 1.3261 - accuracy: 0.5889 - val_loss: 1.2997 - val_accuracy: 0.8889\n",
      "Epoch 74/300\n",
      "9/9 - 0s - loss: 1.3086 - accuracy: 0.7667 - val_loss: 1.2913 - val_accuracy: 0.7778\n",
      "Epoch 75/300\n",
      "9/9 - 0s - loss: 1.3021 - accuracy: 0.6889 - val_loss: 1.2832 - val_accuracy: 0.5556\n",
      "Epoch 76/300\n",
      "9/9 - 0s - loss: 1.3041 - accuracy: 0.6000 - val_loss: 1.2739 - val_accuracy: 0.7778\n",
      "Epoch 77/300\n",
      "9/9 - 0s - loss: 1.2864 - accuracy: 0.6556 - val_loss: 1.2660 - val_accuracy: 0.6667\n",
      "Epoch 78/300\n",
      "9/9 - 0s - loss: 1.2792 - accuracy: 0.7222 - val_loss: 1.2585 - val_accuracy: 0.6667\n",
      "Epoch 79/300\n",
      "9/9 - 0s - loss: 1.2782 - accuracy: 0.6333 - val_loss: 1.2489 - val_accuracy: 0.7778\n",
      "Epoch 80/300\n",
      "9/9 - 0s - loss: 1.2702 - accuracy: 0.6444 - val_loss: 1.2418 - val_accuracy: 0.7778\n",
      "Epoch 81/300\n",
      "9/9 - 0s - loss: 1.2676 - accuracy: 0.6667 - val_loss: 1.2337 - val_accuracy: 0.7778\n",
      "Epoch 82/300\n",
      "9/9 - 0s - loss: 1.2581 - accuracy: 0.6778 - val_loss: 1.2257 - val_accuracy: 0.7778\n",
      "Epoch 83/300\n",
      "9/9 - 0s - loss: 1.2456 - accuracy: 0.7444 - val_loss: 1.2186 - val_accuracy: 0.7778\n",
      "Epoch 84/300\n",
      "9/9 - 0s - loss: 1.2404 - accuracy: 0.6556 - val_loss: 1.2111 - val_accuracy: 0.7778\n"
     ]
    },
    {
     "name": "stdout",
     "output_type": "stream",
     "text": [
      "Epoch 85/300\n",
      "9/9 - 0s - loss: 1.2262 - accuracy: 0.6444 - val_loss: 1.2030 - val_accuracy: 0.7778\n",
      "Epoch 86/300\n",
      "9/9 - 0s - loss: 1.2163 - accuracy: 0.7222 - val_loss: 1.1948 - val_accuracy: 0.7778\n",
      "Epoch 87/300\n",
      "9/9 - 0s - loss: 1.2202 - accuracy: 0.6444 - val_loss: 1.1880 - val_accuracy: 0.7778\n",
      "Epoch 88/300\n",
      "9/9 - 0s - loss: 1.2035 - accuracy: 0.7556 - val_loss: 1.1810 - val_accuracy: 0.7778\n",
      "Epoch 89/300\n",
      "9/9 - 0s - loss: 1.2094 - accuracy: 0.6889 - val_loss: 1.1733 - val_accuracy: 0.6667\n",
      "Epoch 90/300\n",
      "9/9 - 0s - loss: 1.1897 - accuracy: 0.7778 - val_loss: 1.1666 - val_accuracy: 0.8889\n",
      "Epoch 91/300\n",
      "9/9 - 0s - loss: 1.1790 - accuracy: 0.7667 - val_loss: 1.1590 - val_accuracy: 0.7778\n",
      "Epoch 92/300\n",
      "9/9 - 0s - loss: 1.1695 - accuracy: 0.7667 - val_loss: 1.1523 - val_accuracy: 0.7778\n",
      "Epoch 93/300\n",
      "9/9 - 0s - loss: 1.1681 - accuracy: 0.7889 - val_loss: 1.1459 - val_accuracy: 0.8889\n",
      "Epoch 94/300\n",
      "9/9 - 0s - loss: 1.1658 - accuracy: 0.7556 - val_loss: 1.1388 - val_accuracy: 0.8889\n",
      "Epoch 95/300\n",
      "9/9 - 0s - loss: 1.1569 - accuracy: 0.8000 - val_loss: 1.1328 - val_accuracy: 0.7778\n",
      "Epoch 96/300\n",
      "9/9 - 0s - loss: 1.1470 - accuracy: 0.7889 - val_loss: 1.1273 - val_accuracy: 0.8889\n",
      "Epoch 97/300\n",
      "9/9 - 0s - loss: 1.1493 - accuracy: 0.7778 - val_loss: 1.1188 - val_accuracy: 0.8889\n",
      "Epoch 98/300\n",
      "9/9 - 0s - loss: 1.1374 - accuracy: 0.8000 - val_loss: 1.1112 - val_accuracy: 0.7778\n",
      "Epoch 99/300\n",
      "9/9 - 0s - loss: 1.1313 - accuracy: 0.7222 - val_loss: 1.1063 - val_accuracy: 0.7778\n",
      "Epoch 100/300\n",
      "9/9 - 0s - loss: 1.1253 - accuracy: 0.7222 - val_loss: 1.0992 - val_accuracy: 0.8889\n",
      "Epoch 101/300\n",
      "9/9 - 0s - loss: 1.1243 - accuracy: 0.7556 - val_loss: 1.0934 - val_accuracy: 0.8889\n",
      "Epoch 102/300\n",
      "9/9 - 0s - loss: 1.1115 - accuracy: 0.8000 - val_loss: 1.0877 - val_accuracy: 0.7778\n",
      "Epoch 103/300\n",
      "9/9 - 0s - loss: 1.1138 - accuracy: 0.7889 - val_loss: 1.0801 - val_accuracy: 0.8889\n",
      "Epoch 104/300\n",
      "9/9 - 0s - loss: 1.1006 - accuracy: 0.8000 - val_loss: 1.0754 - val_accuracy: 1.0000\n",
      "Epoch 105/300\n",
      "9/9 - 0s - loss: 1.0942 - accuracy: 0.7889 - val_loss: 1.0670 - val_accuracy: 0.8889\n",
      "Epoch 106/300\n",
      "9/9 - 0s - loss: 1.0933 - accuracy: 0.7778 - val_loss: 1.0622 - val_accuracy: 0.7778\n",
      "Epoch 107/300\n",
      "9/9 - 0s - loss: 1.0809 - accuracy: 0.8333 - val_loss: 1.0545 - val_accuracy: 0.7778\n",
      "Epoch 108/300\n",
      "9/9 - 0s - loss: 1.0792 - accuracy: 0.8111 - val_loss: 1.0490 - val_accuracy: 0.7778\n",
      "Epoch 109/300\n",
      "9/9 - 0s - loss: 1.0659 - accuracy: 0.8333 - val_loss: 1.0450 - val_accuracy: 0.8889\n",
      "Epoch 110/300\n",
      "9/9 - 0s - loss: 1.0610 - accuracy: 0.8333 - val_loss: 1.0371 - val_accuracy: 0.7778\n",
      "Epoch 111/300\n",
      "9/9 - 0s - loss: 1.0670 - accuracy: 0.7333 - val_loss: 1.0313 - val_accuracy: 0.7778\n",
      "Epoch 112/300\n",
      "9/9 - 0s - loss: 1.0490 - accuracy: 0.8444 - val_loss: 1.0247 - val_accuracy: 0.8889\n",
      "Epoch 113/300\n",
      "9/9 - 0s - loss: 1.0428 - accuracy: 0.8000 - val_loss: 1.0209 - val_accuracy: 0.8889\n",
      "Epoch 114/300\n",
      "9/9 - 0s - loss: 1.0375 - accuracy: 0.8444 - val_loss: 1.0163 - val_accuracy: 0.8889\n",
      "Epoch 115/300\n",
      "9/9 - 0s - loss: 1.0334 - accuracy: 0.8444 - val_loss: 1.0080 - val_accuracy: 1.0000\n",
      "Epoch 116/300\n",
      "9/9 - 0s - loss: 1.0200 - accuracy: 0.8444 - val_loss: 1.0036 - val_accuracy: 0.8889\n",
      "Epoch 117/300\n",
      "9/9 - 0s - loss: 1.0232 - accuracy: 0.8667 - val_loss: 0.9987 - val_accuracy: 0.8889\n",
      "Epoch 118/300\n",
      "9/9 - 0s - loss: 1.0213 - accuracy: 0.8333 - val_loss: 0.9914 - val_accuracy: 0.8889\n",
      "Epoch 119/300\n",
      "9/9 - 0s - loss: 1.0051 - accuracy: 0.7778 - val_loss: 0.9868 - val_accuracy: 0.8889\n",
      "Epoch 120/300\n",
      "9/9 - 0s - loss: 1.0032 - accuracy: 0.8778 - val_loss: 0.9841 - val_accuracy: 0.7778\n",
      "Epoch 121/300\n",
      "9/9 - 0s - loss: 1.0014 - accuracy: 0.8556 - val_loss: 0.9744 - val_accuracy: 1.0000\n",
      "Epoch 122/300\n",
      "9/9 - 0s - loss: 0.9903 - accuracy: 0.8444 - val_loss: 0.9695 - val_accuracy: 0.8889\n",
      "Epoch 123/300\n",
      "9/9 - 0s - loss: 0.9843 - accuracy: 0.8222 - val_loss: 0.9659 - val_accuracy: 0.8889\n",
      "Epoch 124/300\n",
      "9/9 - 0s - loss: 0.9844 - accuracy: 0.7778 - val_loss: 0.9589 - val_accuracy: 0.8889\n",
      "Epoch 125/300\n",
      "9/9 - 0s - loss: 0.9718 - accuracy: 0.8444 - val_loss: 0.9601 - val_accuracy: 1.0000\n",
      "Epoch 126/300\n",
      "9/9 - 0s - loss: 0.9737 - accuracy: 0.9222 - val_loss: 0.9499 - val_accuracy: 0.8889\n",
      "Epoch 127/300\n",
      "9/9 - 0s - loss: 0.9647 - accuracy: 0.8556 - val_loss: 0.9440 - val_accuracy: 1.0000\n",
      "Epoch 128/300\n",
      "9/9 - 0s - loss: 0.9631 - accuracy: 0.8000 - val_loss: 0.9437 - val_accuracy: 0.7778\n",
      "Epoch 129/300\n",
      "9/9 - 0s - loss: 0.9648 - accuracy: 0.8444 - val_loss: 0.9323 - val_accuracy: 0.8889\n",
      "Epoch 130/300\n",
      "9/9 - 0s - loss: 0.9496 - accuracy: 0.8667 - val_loss: 0.9289 - val_accuracy: 0.7778\n",
      "Epoch 131/300\n",
      "9/9 - 0s - loss: 0.9480 - accuracy: 0.8778 - val_loss: 0.9231 - val_accuracy: 0.8889\n",
      "Epoch 132/300\n",
      "9/9 - 0s - loss: 0.9455 - accuracy: 0.8889 - val_loss: 0.9170 - val_accuracy: 1.0000\n",
      "Epoch 133/300\n",
      "9/9 - 0s - loss: 0.9311 - accuracy: 0.8667 - val_loss: 0.9143 - val_accuracy: 1.0000\n",
      "Epoch 134/300\n",
      "9/9 - 0s - loss: 0.9282 - accuracy: 0.9000 - val_loss: 0.9079 - val_accuracy: 0.8889\n",
      "Epoch 135/300\n",
      "9/9 - 0s - loss: 0.9446 - accuracy: 0.8778 - val_loss: 0.9037 - val_accuracy: 1.0000\n",
      "Epoch 136/300\n",
      "9/9 - 0s - loss: 0.9241 - accuracy: 0.9222 - val_loss: 0.9006 - val_accuracy: 1.0000\n",
      "Epoch 137/300\n",
      "9/9 - 0s - loss: 0.9235 - accuracy: 0.8667 - val_loss: 0.8944 - val_accuracy: 0.8889\n",
      "Epoch 138/300\n",
      "9/9 - 0s - loss: 0.9261 - accuracy: 0.9111 - val_loss: 0.8888 - val_accuracy: 0.7778\n",
      "Epoch 139/300\n",
      "9/9 - 0s - loss: 0.9126 - accuracy: 0.8556 - val_loss: 0.8904 - val_accuracy: 0.7778\n",
      "Epoch 140/300\n",
      "9/9 - 0s - loss: 0.9138 - accuracy: 0.8556 - val_loss: 0.8788 - val_accuracy: 1.0000\n",
      "Epoch 141/300\n",
      "9/9 - 0s - loss: 0.9038 - accuracy: 0.9000 - val_loss: 0.8750 - val_accuracy: 1.0000\n",
      "Epoch 142/300\n",
      "9/9 - 0s - loss: 0.8928 - accuracy: 0.8667 - val_loss: 0.8767 - val_accuracy: 0.8889\n",
      "Epoch 143/300\n",
      "9/9 - 0s - loss: 0.9004 - accuracy: 0.7556 - val_loss: 0.8671 - val_accuracy: 1.0000\n",
      "Epoch 144/300\n",
      "9/9 - 0s - loss: 0.8870 - accuracy: 0.8333 - val_loss: 0.8619 - val_accuracy: 0.8889\n",
      "Epoch 145/300\n",
      "9/9 - 0s - loss: 0.8809 - accuracy: 0.8889 - val_loss: 0.8597 - val_accuracy: 0.8889\n",
      "Epoch 146/300\n",
      "9/9 - 0s - loss: 0.8775 - accuracy: 0.8222 - val_loss: 0.8518 - val_accuracy: 0.8889\n",
      "Epoch 147/300\n",
      "9/9 - 0s - loss: 0.8781 - accuracy: 0.8333 - val_loss: 0.8472 - val_accuracy: 0.8889\n",
      "Epoch 148/300\n",
      "9/9 - 0s - loss: 0.8739 - accuracy: 0.8556 - val_loss: 0.8434 - val_accuracy: 1.0000\n",
      "Epoch 149/300\n",
      "9/9 - 0s - loss: 0.8731 - accuracy: 0.8889 - val_loss: 0.8395 - val_accuracy: 0.8889\n",
      "Epoch 150/300\n",
      "9/9 - 0s - loss: 0.8612 - accuracy: 0.9000 - val_loss: 0.8407 - val_accuracy: 0.8889\n",
      "Epoch 151/300\n",
      "9/9 - 0s - loss: 0.8520 - accuracy: 0.8778 - val_loss: 0.8307 - val_accuracy: 1.0000\n",
      "Epoch 152/300\n",
      "9/9 - 0s - loss: 0.8545 - accuracy: 0.9000 - val_loss: 0.8246 - val_accuracy: 0.8889\n",
      "Epoch 153/300\n",
      "9/9 - 0s - loss: 0.8473 - accuracy: 0.9000 - val_loss: 0.8206 - val_accuracy: 1.0000\n",
      "Epoch 154/300\n",
      "9/9 - 0s - loss: 0.8411 - accuracy: 0.8889 - val_loss: 0.8161 - val_accuracy: 1.0000\n",
      "Epoch 155/300\n",
      "9/9 - 0s - loss: 0.8327 - accuracy: 0.9111 - val_loss: 0.8126 - val_accuracy: 0.8889\n",
      "Epoch 156/300\n",
      "9/9 - 0s - loss: 0.8343 - accuracy: 0.9111 - val_loss: 0.8077 - val_accuracy: 1.0000\n",
      "Epoch 157/300\n",
      "9/9 - 0s - loss: 0.8362 - accuracy: 0.8889 - val_loss: 0.8120 - val_accuracy: 0.7778\n",
      "Epoch 158/300\n",
      "9/9 - 0s - loss: 0.8236 - accuracy: 0.8778 - val_loss: 0.8006 - val_accuracy: 1.0000\n",
      "Epoch 159/300\n",
      "9/9 - 0s - loss: 0.8313 - accuracy: 0.9000 - val_loss: 0.8005 - val_accuracy: 0.8889\n",
      "Epoch 160/300\n",
      "9/9 - 0s - loss: 0.8102 - accuracy: 0.9222 - val_loss: 0.7944 - val_accuracy: 0.8889\n",
      "Epoch 161/300\n",
      "9/9 - 0s - loss: 0.8216 - accuracy: 0.8889 - val_loss: 0.7859 - val_accuracy: 0.8889\n",
      "Epoch 162/300\n",
      "9/9 - 0s - loss: 0.8131 - accuracy: 0.8667 - val_loss: 0.7889 - val_accuracy: 0.8889\n",
      "Epoch 163/300\n",
      "9/9 - 0s - loss: 0.8052 - accuracy: 0.9000 - val_loss: 0.7799 - val_accuracy: 0.8889\n",
      "Epoch 164/300\n",
      "9/9 - 0s - loss: 0.8015 - accuracy: 0.9222 - val_loss: 0.7733 - val_accuracy: 1.0000\n",
      "Epoch 165/300\n",
      "9/9 - 0s - loss: 0.7970 - accuracy: 0.9333 - val_loss: 0.7702 - val_accuracy: 1.0000\n",
      "Epoch 166/300\n",
      "9/9 - 0s - loss: 0.8062 - accuracy: 0.8889 - val_loss: 0.7676 - val_accuracy: 0.8889\n",
      "Epoch 167/300\n",
      "9/9 - 0s - loss: 0.8036 - accuracy: 0.8444 - val_loss: 0.7620 - val_accuracy: 0.8889\n"
     ]
    },
    {
     "name": "stdout",
     "output_type": "stream",
     "text": [
      "Epoch 168/300\n",
      "9/9 - 0s - loss: 0.7890 - accuracy: 0.8444 - val_loss: 0.7623 - val_accuracy: 1.0000\n",
      "Epoch 169/300\n",
      "9/9 - 0s - loss: 0.8032 - accuracy: 0.8444 - val_loss: 0.7569 - val_accuracy: 0.8889\n",
      "Epoch 170/300\n",
      "9/9 - 0s - loss: 0.7837 - accuracy: 0.8556 - val_loss: 0.7518 - val_accuracy: 1.0000\n",
      "Epoch 171/300\n",
      "9/9 - 0s - loss: 0.7740 - accuracy: 0.9444 - val_loss: 0.7451 - val_accuracy: 0.8889\n",
      "Epoch 172/300\n",
      "9/9 - 0s - loss: 0.7627 - accuracy: 0.8444 - val_loss: 0.7434 - val_accuracy: 1.0000\n",
      "Epoch 173/300\n",
      "9/9 - 0s - loss: 0.7652 - accuracy: 0.9111 - val_loss: 0.7389 - val_accuracy: 1.0000\n",
      "Epoch 174/300\n",
      "9/9 - 0s - loss: 0.7551 - accuracy: 0.9333 - val_loss: 0.7343 - val_accuracy: 0.8889\n",
      "Epoch 175/300\n",
      "9/9 - 0s - loss: 0.7569 - accuracy: 0.9111 - val_loss: 0.7324 - val_accuracy: 1.0000\n",
      "Epoch 176/300\n",
      "9/9 - 0s - loss: 0.7564 - accuracy: 0.9222 - val_loss: 0.7338 - val_accuracy: 0.8889\n",
      "Epoch 177/300\n",
      "9/9 - 0s - loss: 0.7540 - accuracy: 0.9222 - val_loss: 0.7227 - val_accuracy: 0.8889\n",
      "Epoch 178/300\n",
      "9/9 - 0s - loss: 0.7466 - accuracy: 0.9556 - val_loss: 0.7211 - val_accuracy: 1.0000\n",
      "Epoch 179/300\n",
      "9/9 - 0s - loss: 0.7510 - accuracy: 0.8778 - val_loss: 0.7158 - val_accuracy: 0.8889\n",
      "Epoch 180/300\n",
      "9/9 - 0s - loss: 0.7315 - accuracy: 0.9222 - val_loss: 0.7124 - val_accuracy: 0.8889\n",
      "Epoch 181/300\n",
      "9/9 - 0s - loss: 0.7415 - accuracy: 0.8778 - val_loss: 0.7072 - val_accuracy: 0.8889\n",
      "Epoch 182/300\n",
      "9/9 - 0s - loss: 0.7287 - accuracy: 0.9000 - val_loss: 0.7176 - val_accuracy: 1.0000\n",
      "Epoch 183/300\n",
      "9/9 - 0s - loss: 0.7320 - accuracy: 0.9889 - val_loss: 0.6992 - val_accuracy: 1.0000\n",
      "Epoch 184/300\n",
      "9/9 - 0s - loss: 0.7240 - accuracy: 0.9556 - val_loss: 0.6982 - val_accuracy: 0.8889\n",
      "Epoch 185/300\n",
      "9/9 - 0s - loss: 0.7212 - accuracy: 0.9444 - val_loss: 0.7085 - val_accuracy: 0.8889\n",
      "Epoch 186/300\n",
      "9/9 - 0s - loss: 0.7179 - accuracy: 0.9000 - val_loss: 0.6909 - val_accuracy: 1.0000\n",
      "Epoch 187/300\n",
      "9/9 - 0s - loss: 0.7069 - accuracy: 0.9444 - val_loss: 0.6862 - val_accuracy: 1.0000\n",
      "Epoch 188/300\n",
      "9/9 - 0s - loss: 0.7075 - accuracy: 0.9111 - val_loss: 0.6862 - val_accuracy: 0.8889\n",
      "Epoch 189/300\n",
      "9/9 - 0s - loss: 0.7029 - accuracy: 0.9444 - val_loss: 0.6832 - val_accuracy: 1.0000\n",
      "Epoch 190/300\n",
      "9/9 - 0s - loss: 0.7123 - accuracy: 0.9333 - val_loss: 0.6749 - val_accuracy: 0.8889\n",
      "Epoch 191/300\n",
      "9/9 - 0s - loss: 0.6977 - accuracy: 0.9111 - val_loss: 0.6737 - val_accuracy: 0.8889\n",
      "Epoch 192/300\n",
      "9/9 - 0s - loss: 0.7003 - accuracy: 0.8889 - val_loss: 0.6736 - val_accuracy: 0.8889\n",
      "Epoch 193/300\n",
      "9/9 - 0s - loss: 0.6873 - accuracy: 0.9333 - val_loss: 0.6650 - val_accuracy: 1.0000\n",
      "Epoch 194/300\n",
      "9/9 - 0s - loss: 0.6932 - accuracy: 0.8889 - val_loss: 0.6670 - val_accuracy: 0.8889\n",
      "Epoch 195/300\n",
      "9/9 - 0s - loss: 0.7021 - accuracy: 0.8667 - val_loss: 0.6624 - val_accuracy: 1.0000\n",
      "Epoch 196/300\n",
      "9/9 - 0s - loss: 0.7021 - accuracy: 0.9000 - val_loss: 0.6568 - val_accuracy: 0.8889\n",
      "Epoch 197/300\n",
      "9/9 - 0s - loss: 0.6847 - accuracy: 0.9000 - val_loss: 0.6550 - val_accuracy: 0.8889\n",
      "Epoch 198/300\n",
      "9/9 - 0s - loss: 0.6735 - accuracy: 0.8889 - val_loss: 0.6507 - val_accuracy: 0.8889\n",
      "Epoch 199/300\n",
      "9/9 - 0s - loss: 0.6859 - accuracy: 0.8444 - val_loss: 0.6449 - val_accuracy: 0.8889\n",
      "Epoch 200/300\n",
      "9/9 - 0s - loss: 0.6750 - accuracy: 0.9111 - val_loss: 0.6422 - val_accuracy: 0.8889\n",
      "Epoch 201/300\n",
      "9/9 - 0s - loss: 0.6575 - accuracy: 0.9333 - val_loss: 0.6382 - val_accuracy: 1.0000\n",
      "Epoch 202/300\n",
      "9/9 - 0s - loss: 0.6679 - accuracy: 0.9333 - val_loss: 0.6341 - val_accuracy: 1.0000\n",
      "Epoch 203/300\n",
      "9/9 - 0s - loss: 0.6696 - accuracy: 0.9556 - val_loss: 0.6439 - val_accuracy: 0.8889\n",
      "Epoch 204/300\n",
      "9/9 - 0s - loss: 0.6442 - accuracy: 0.9000 - val_loss: 0.6286 - val_accuracy: 1.0000\n",
      "Epoch 205/300\n",
      "9/9 - 0s - loss: 0.6457 - accuracy: 0.9778 - val_loss: 0.6229 - val_accuracy: 0.8889\n",
      "Epoch 206/300\n",
      "9/9 - 0s - loss: 0.6388 - accuracy: 0.8889 - val_loss: 0.6348 - val_accuracy: 0.8889\n",
      "Epoch 207/300\n",
      "9/9 - 0s - loss: 0.6532 - accuracy: 0.8889 - val_loss: 0.6216 - val_accuracy: 1.0000\n",
      "Epoch 208/300\n",
      "9/9 - 0s - loss: 0.6546 - accuracy: 0.8667 - val_loss: 0.6234 - val_accuracy: 0.8889\n",
      "Epoch 209/300\n",
      "9/9 - 0s - loss: 0.6422 - accuracy: 0.9111 - val_loss: 0.6158 - val_accuracy: 0.8889\n",
      "Epoch 210/300\n",
      "9/9 - 0s - loss: 0.6449 - accuracy: 0.8778 - val_loss: 0.6107 - val_accuracy: 0.8889\n",
      "Epoch 211/300\n",
      "9/9 - 0s - loss: 0.6360 - accuracy: 0.9444 - val_loss: 0.6036 - val_accuracy: 1.0000\n",
      "Epoch 212/300\n",
      "9/9 - 0s - loss: 0.6362 - accuracy: 0.9667 - val_loss: 0.6016 - val_accuracy: 0.8889\n",
      "Epoch 213/300\n",
      "9/9 - 0s - loss: 0.6329 - accuracy: 0.9444 - val_loss: 0.6080 - val_accuracy: 0.8889\n",
      "Epoch 214/300\n",
      "9/9 - 0s - loss: 0.6266 - accuracy: 0.9333 - val_loss: 0.6007 - val_accuracy: 1.0000\n",
      "Epoch 215/300\n",
      "9/9 - 0s - loss: 0.6257 - accuracy: 0.9444 - val_loss: 0.5928 - val_accuracy: 1.0000\n",
      "Epoch 216/300\n",
      "9/9 - 0s - loss: 0.6164 - accuracy: 0.9889 - val_loss: 0.5915 - val_accuracy: 0.8889\n",
      "Epoch 217/300\n",
      "9/9 - 0s - loss: 0.6245 - accuracy: 0.9444 - val_loss: 0.5865 - val_accuracy: 1.0000\n",
      "Epoch 218/300\n",
      "9/9 - 0s - loss: 0.5999 - accuracy: 0.9333 - val_loss: 0.5911 - val_accuracy: 0.8889\n",
      "Epoch 219/300\n",
      "9/9 - 0s - loss: 0.6278 - accuracy: 0.8333 - val_loss: 0.5821 - val_accuracy: 1.0000\n",
      "Epoch 220/300\n",
      "9/9 - 0s - loss: 0.5923 - accuracy: 0.9889 - val_loss: 0.5791 - val_accuracy: 0.8889\n",
      "Epoch 221/300\n",
      "9/9 - 0s - loss: 0.6028 - accuracy: 0.9444 - val_loss: 0.5729 - val_accuracy: 1.0000\n",
      "Epoch 222/300\n",
      "9/9 - 0s - loss: 0.6100 - accuracy: 0.9333 - val_loss: 0.5820 - val_accuracy: 0.8889\n",
      "Epoch 223/300\n",
      "9/9 - 0s - loss: 0.5929 - accuracy: 0.9111 - val_loss: 0.5695 - val_accuracy: 1.0000\n",
      "Epoch 224/300\n",
      "9/9 - 0s - loss: 0.5826 - accuracy: 0.9556 - val_loss: 0.5674 - val_accuracy: 1.0000\n",
      "Epoch 225/300\n",
      "9/9 - 0s - loss: 0.5819 - accuracy: 0.9778 - val_loss: 0.5632 - val_accuracy: 0.8889\n",
      "Epoch 226/300\n",
      "9/9 - 0s - loss: 0.5874 - accuracy: 0.9444 - val_loss: 0.5568 - val_accuracy: 1.0000\n",
      "Epoch 227/300\n",
      "9/9 - 0s - loss: 0.5800 - accuracy: 0.9556 - val_loss: 0.5607 - val_accuracy: 0.8889\n",
      "Epoch 228/300\n",
      "9/9 - 0s - loss: 0.5853 - accuracy: 0.9000 - val_loss: 0.5554 - val_accuracy: 1.0000\n",
      "Epoch 229/300\n",
      "9/9 - 0s - loss: 0.5876 - accuracy: 0.9000 - val_loss: 0.5584 - val_accuracy: 1.0000\n",
      "Epoch 230/300\n",
      "9/9 - 0s - loss: 0.5826 - accuracy: 0.9667 - val_loss: 0.5452 - val_accuracy: 1.0000\n",
      "Epoch 231/300\n",
      "9/9 - 0s - loss: 0.5611 - accuracy: 0.9889 - val_loss: 0.5440 - val_accuracy: 0.8889\n",
      "Epoch 232/300\n",
      "9/9 - 0s - loss: 0.5771 - accuracy: 0.9556 - val_loss: 0.5482 - val_accuracy: 1.0000\n",
      "Epoch 233/300\n",
      "9/9 - 0s - loss: 0.5749 - accuracy: 0.9000 - val_loss: 0.5330 - val_accuracy: 1.0000\n",
      "Epoch 234/300\n",
      "9/9 - 0s - loss: 0.5855 - accuracy: 0.9333 - val_loss: 0.5403 - val_accuracy: 1.0000\n",
      "Epoch 235/300\n",
      "9/9 - 0s - loss: 0.5567 - accuracy: 1.0000 - val_loss: 0.5302 - val_accuracy: 1.0000\n",
      "Epoch 236/300\n",
      "9/9 - 0s - loss: 0.5470 - accuracy: 0.9333 - val_loss: 0.5354 - val_accuracy: 1.0000\n",
      "Epoch 237/300\n",
      "9/9 - 0s - loss: 0.5537 - accuracy: 0.9333 - val_loss: 0.5469 - val_accuracy: 0.8889\n",
      "Epoch 238/300\n",
      "9/9 - 0s - loss: 0.5595 - accuracy: 0.8444 - val_loss: 0.5384 - val_accuracy: 0.8889\n",
      "Epoch 239/300\n",
      "9/9 - 0s - loss: 0.5647 - accuracy: 0.9111 - val_loss: 0.5274 - val_accuracy: 1.0000\n",
      "Epoch 240/300\n",
      "9/9 - 0s - loss: 0.5379 - accuracy: 0.9889 - val_loss: 0.5143 - val_accuracy: 1.0000\n",
      "Epoch 241/300\n",
      "9/9 - 0s - loss: 0.5355 - accuracy: 1.0000 - val_loss: 0.5197 - val_accuracy: 1.0000\n",
      "Epoch 242/300\n",
      "9/9 - 0s - loss: 0.5680 - accuracy: 0.9333 - val_loss: 0.5112 - val_accuracy: 1.0000\n",
      "Epoch 243/300\n",
      "9/9 - 0s - loss: 0.5491 - accuracy: 0.9111 - val_loss: 0.5139 - val_accuracy: 0.8889\n",
      "Epoch 244/300\n",
      "9/9 - 0s - loss: 0.5411 - accuracy: 0.9333 - val_loss: 0.5190 - val_accuracy: 0.8889\n",
      "Epoch 245/300\n",
      "9/9 - 0s - loss: 0.5246 - accuracy: 0.9667 - val_loss: 0.5226 - val_accuracy: 0.8889\n",
      "Epoch 246/300\n",
      "9/9 - 0s - loss: 0.5315 - accuracy: 0.9556 - val_loss: 0.5067 - val_accuracy: 1.0000\n",
      "Epoch 247/300\n",
      "9/9 - 0s - loss: 0.5474 - accuracy: 0.9222 - val_loss: 0.4988 - val_accuracy: 1.0000\n",
      "Epoch 248/300\n",
      "9/9 - 0s - loss: 0.5098 - accuracy: 0.9778 - val_loss: 0.4996 - val_accuracy: 0.8889\n",
      "Epoch 249/300\n",
      "9/9 - 0s - loss: 0.5348 - accuracy: 0.9111 - val_loss: 0.4998 - val_accuracy: 1.0000\n",
      "Epoch 250/300\n",
      "9/9 - 0s - loss: 0.5354 - accuracy: 0.9000 - val_loss: 0.5108 - val_accuracy: 0.8889\n"
     ]
    },
    {
     "name": "stdout",
     "output_type": "stream",
     "text": [
      "Epoch 251/300\n",
      "9/9 - 0s - loss: 0.5247 - accuracy: 0.9556 - val_loss: 0.4872 - val_accuracy: 1.0000\n",
      "Epoch 252/300\n",
      "9/9 - 0s - loss: 0.5121 - accuracy: 1.0000 - val_loss: 0.4941 - val_accuracy: 0.8889\n",
      "Epoch 253/300\n",
      "9/9 - 0s - loss: 0.5109 - accuracy: 0.9111 - val_loss: 0.5115 - val_accuracy: 0.7778\n",
      "Epoch 254/300\n",
      "9/9 - 0s - loss: 0.4904 - accuracy: 0.9333 - val_loss: 0.4830 - val_accuracy: 1.0000\n",
      "Epoch 255/300\n",
      "9/9 - 0s - loss: 0.5056 - accuracy: 0.9556 - val_loss: 0.4780 - val_accuracy: 1.0000\n",
      "Epoch 256/300\n",
      "9/9 - 0s - loss: 0.4963 - accuracy: 0.9889 - val_loss: 0.4744 - val_accuracy: 1.0000\n",
      "Epoch 257/300\n",
      "9/9 - 0s - loss: 0.4882 - accuracy: 1.0000 - val_loss: 0.4879 - val_accuracy: 0.8889\n",
      "Epoch 258/300\n",
      "9/9 - 0s - loss: 0.5038 - accuracy: 0.9333 - val_loss: 0.4729 - val_accuracy: 1.0000\n",
      "Epoch 259/300\n",
      "9/9 - 0s - loss: 0.5129 - accuracy: 0.9444 - val_loss: 0.4762 - val_accuracy: 1.0000\n",
      "Epoch 260/300\n",
      "9/9 - 0s - loss: 0.4988 - accuracy: 0.9778 - val_loss: 0.4618 - val_accuracy: 1.0000\n",
      "Epoch 261/300\n",
      "9/9 - 0s - loss: 0.4972 - accuracy: 1.0000 - val_loss: 0.4706 - val_accuracy: 0.8889\n",
      "Epoch 262/300\n",
      "9/9 - 0s - loss: 0.4839 - accuracy: 0.9778 - val_loss: 0.4551 - val_accuracy: 1.0000\n",
      "Epoch 263/300\n",
      "9/9 - 0s - loss: 0.4829 - accuracy: 0.9667 - val_loss: 0.4666 - val_accuracy: 1.0000\n",
      "Epoch 264/300\n",
      "9/9 - 0s - loss: 0.4814 - accuracy: 0.9333 - val_loss: 0.4549 - val_accuracy: 1.0000\n",
      "Epoch 265/300\n",
      "9/9 - 0s - loss: 0.4813 - accuracy: 0.9889 - val_loss: 0.4595 - val_accuracy: 1.0000\n",
      "Epoch 266/300\n",
      "9/9 - 0s - loss: 0.4750 - accuracy: 0.9444 - val_loss: 0.4602 - val_accuracy: 1.0000\n",
      "Epoch 267/300\n",
      "9/9 - 0s - loss: 0.4798 - accuracy: 0.9444 - val_loss: 0.4488 - val_accuracy: 1.0000\n",
      "Epoch 268/300\n",
      "9/9 - 0s - loss: 0.4534 - accuracy: 0.9889 - val_loss: 0.4558 - val_accuracy: 1.0000\n",
      "Epoch 269/300\n",
      "9/9 - 0s - loss: 0.4665 - accuracy: 0.9778 - val_loss: 0.4448 - val_accuracy: 1.0000\n",
      "Epoch 270/300\n",
      "9/9 - 0s - loss: 0.4978 - accuracy: 0.9000 - val_loss: 0.4623 - val_accuracy: 0.8889\n",
      "Epoch 271/300\n",
      "9/9 - 0s - loss: 0.4624 - accuracy: 0.9556 - val_loss: 0.4396 - val_accuracy: 1.0000\n",
      "Epoch 272/300\n",
      "9/9 - 0s - loss: 0.4612 - accuracy: 0.9556 - val_loss: 0.4295 - val_accuracy: 1.0000\n",
      "Epoch 273/300\n",
      "9/9 - 0s - loss: 0.4734 - accuracy: 0.9667 - val_loss: 0.5070 - val_accuracy: 0.8889\n",
      "Epoch 274/300\n",
      "9/9 - 0s - loss: 0.4716 - accuracy: 0.9000 - val_loss: 0.4412 - val_accuracy: 0.8889\n",
      "Epoch 275/300\n",
      "9/9 - 0s - loss: 0.4832 - accuracy: 0.9333 - val_loss: 0.4459 - val_accuracy: 0.8889\n",
      "Epoch 276/300\n",
      "9/9 - 0s - loss: 0.4871 - accuracy: 0.9000 - val_loss: 0.4590 - val_accuracy: 0.8889\n",
      "Epoch 277/300\n",
      "9/9 - 0s - loss: 0.4553 - accuracy: 0.9667 - val_loss: 0.4282 - val_accuracy: 1.0000\n",
      "Epoch 278/300\n",
      "9/9 - 0s - loss: 0.4495 - accuracy: 1.0000 - val_loss: 0.4205 - val_accuracy: 1.0000\n",
      "Epoch 279/300\n",
      "9/9 - 0s - loss: 0.4359 - accuracy: 0.9556 - val_loss: 0.4164 - val_accuracy: 1.0000\n",
      "Epoch 280/300\n",
      "9/9 - 0s - loss: 0.4753 - accuracy: 0.9222 - val_loss: 0.4199 - val_accuracy: 1.0000\n",
      "Epoch 281/300\n",
      "9/9 - 0s - loss: 0.4437 - accuracy: 0.9556 - val_loss: 0.4301 - val_accuracy: 0.8889\n",
      "Epoch 282/300\n",
      "9/9 - 0s - loss: 0.4488 - accuracy: 0.9333 - val_loss: 0.4176 - val_accuracy: 0.8889\n",
      "Epoch 283/300\n",
      "9/9 - 0s - loss: 0.4401 - accuracy: 0.9556 - val_loss: 0.4026 - val_accuracy: 1.0000\n",
      "Epoch 284/300\n",
      "9/9 - 0s - loss: 0.4383 - accuracy: 0.9889 - val_loss: 0.4119 - val_accuracy: 1.0000\n",
      "Epoch 285/300\n",
      "9/9 - 0s - loss: 0.4317 - accuracy: 1.0000 - val_loss: 0.4193 - val_accuracy: 0.8889\n",
      "Epoch 286/300\n",
      "9/9 - 0s - loss: 0.4408 - accuracy: 0.9444 - val_loss: 0.3974 - val_accuracy: 1.0000\n",
      "Epoch 287/300\n",
      "9/9 - 0s - loss: 0.4320 - accuracy: 0.9667 - val_loss: 0.4028 - val_accuracy: 1.0000\n",
      "Epoch 288/300\n",
      "9/9 - 0s - loss: 0.4315 - accuracy: 1.0000 - val_loss: 0.4216 - val_accuracy: 1.0000\n",
      "Epoch 289/300\n",
      "9/9 - 0s - loss: 0.4277 - accuracy: 0.9889 - val_loss: 0.3950 - val_accuracy: 1.0000\n",
      "Epoch 290/300\n",
      "9/9 - 0s - loss: 0.4266 - accuracy: 0.9667 - val_loss: 0.3938 - val_accuracy: 1.0000\n",
      "Epoch 291/300\n",
      "9/9 - 0s - loss: 0.4018 - accuracy: 0.9778 - val_loss: 0.4246 - val_accuracy: 0.8889\n",
      "Epoch 292/300\n",
      "9/9 - 0s - loss: 0.4284 - accuracy: 0.9333 - val_loss: 0.3847 - val_accuracy: 1.0000\n",
      "Epoch 293/300\n",
      "9/9 - 0s - loss: 0.4128 - accuracy: 0.9889 - val_loss: 0.3936 - val_accuracy: 1.0000\n",
      "Epoch 294/300\n",
      "9/9 - 0s - loss: 0.4000 - accuracy: 0.9889 - val_loss: 0.3850 - val_accuracy: 1.0000\n",
      "Epoch 295/300\n",
      "9/9 - 0s - loss: 0.3959 - accuracy: 0.9556 - val_loss: 0.3968 - val_accuracy: 1.0000\n",
      "Epoch 296/300\n",
      "9/9 - 0s - loss: 0.3984 - accuracy: 1.0000 - val_loss: 0.3765 - val_accuracy: 1.0000\n",
      "Epoch 297/300\n",
      "9/9 - 0s - loss: 0.3851 - accuracy: 1.0000 - val_loss: 0.3766 - val_accuracy: 1.0000\n",
      "Epoch 298/300\n",
      "9/9 - 0s - loss: 0.3977 - accuracy: 1.0000 - val_loss: 0.3805 - val_accuracy: 1.0000\n",
      "Epoch 299/300\n",
      "9/9 - 0s - loss: 0.3861 - accuracy: 1.0000 - val_loss: 0.3719 - val_accuracy: 1.0000\n",
      "Epoch 300/300\n",
      "9/9 - 0s - loss: 0.4077 - accuracy: 0.9667 - val_loss: 0.3769 - val_accuracy: 1.0000\n"
     ]
    }
   ],
   "source": [
    "hist = model.fit(X_train, Y_train, epochs=300, batch_size=10, verbose=2, validation_data=(X_val, Y_val))"
   ]
  },
  {
   "cell_type": "code",
   "execution_count": 12,
   "metadata": {
    "ExecuteTime": {
     "end_time": "2021-03-19T07:50:52.364557Z",
     "start_time": "2021-03-19T07:50:52.360567Z"
    }
   },
   "outputs": [
    {
     "data": {
      "text/plain": [
       "dict_keys(['loss', 'accuracy', 'val_loss', 'val_accuracy'])"
      ]
     },
     "execution_count": 12,
     "metadata": {},
     "output_type": "execute_result"
    }
   ],
   "source": [
    "hist.history.keys()"
   ]
  },
  {
   "cell_type": "markdown",
   "metadata": {},
   "source": [
    "# 모델 학습 과정 확인(hist, 평가)"
   ]
  },
  {
   "cell_type": "code",
   "execution_count": 18,
   "metadata": {
    "ExecuteTime": {
     "end_time": "2021-03-19T08:02:40.221533Z",
     "start_time": "2021-03-19T08:02:39.926296Z"
    }
   },
   "outputs": [
    {
     "data": {
      "image/png": "[encoded data removed]",
      "text/plain": [
       "<Figure size 432x288 with 2 Axes>"
      ]
     },
     "metadata": {
      "needs_background": "light"
     },
     "output_type": "display_data"
    }
   ],
   "source": [
    "fig, loss_ax = plt.subplots()\n",
    "loss_ax.plot(hist.history['loss'],'y',label=\"train loss\")\n",
    "loss_ax.plot(hist.history['val_loss'],'r',label=\"val loss\")\n",
    "\n",
    "acc_ax = loss_ax.twinx() #x축 공유하는 acc_ax 생성\n",
    "acc_ax.plot(hist.history['accuracy'],'g',label=\"train acc\")\n",
    "acc_ax.plot(hist.history['val_accuracy'],'b',label=\"val acc\")\n",
    "\n",
    "loss_ax.set_xlabel(\"epoch\")\n",
    "loss_ax.set_ylabel(\"loss\")\n",
    "acc_ax.set_ylabel(\"accuracy\")\n",
    "loss_ax.legend(loc=\"lower left\")\n",
    "acc_ax.legend(loc=\"lower right\")\n",
    "plt.show()"
   ]
  },
  {
   "cell_type": "code",
   "execution_count": 20,
   "metadata": {
    "ExecuteTime": {
     "end_time": "2021-03-19T08:09:25.313312Z",
     "start_time": "2021-03-19T08:09:25.245518Z"
    }
   },
   "outputs": [
    {
     "name": "stdout",
     "output_type": "stream",
     "text": [
      "9/9 [==============================] - 0s 1ms/step - loss: 0.3769 - accuracy: 1.0000\n"
     ]
    },
    {
     "data": {
      "text/plain": [
       "[0.376918226480484, 1.0]"
      ]
     },
     "execution_count": 20,
     "metadata": {},
     "output_type": "execute_result"
    }
   ],
   "source": [
    "#모델 평가\n",
    "score = model.evaluate(X_val, Y_val, batch_size=1)\n",
    "score#[loss, accuracy]"
   ]
  },
  {
   "cell_type": "markdown",
   "metadata": {},
   "source": [
    "# 모델을 이용해서 예측하기"
   ]
  },
  {
   "cell_type": "code",
   "execution_count": 24,
   "metadata": {
    "ExecuteTime": {
     "end_time": "2021-03-19T08:40:00.716223Z",
     "start_time": "2021-03-19T08:40:00.664610Z"
    }
   },
   "outputs": [
    {
     "data": {
      "text/plain": [
       "4"
      ]
     },
     "execution_count": 24,
     "metadata": {},
     "output_type": "execute_result"
    }
   ],
   "source": [
    "model.predict(np.array([2])).argmax()"
   ]
  },
  {
   "cell_type": "code",
   "execution_count": null,
   "metadata": {},
   "outputs": [],
   "source": []
  }
 ],
 "metadata": {
  "kernelspec": {
   "display_name": "Python 3",
   "language": "python",
   "name": "python3"
  },
  "language_info": {
   "codemirror_mode": {
    "name": "ipython",
    "version": 3
   },
   "file_extension": ".py",
   "mimetype": "text/x-python",
   "name": "python",
   "nbconvert_exporter": "python",
   "pygments_lexer": "ipython3",
   "version": "3.8.5"
  },
  "toc": {
   "base_numbering": 1,
   "nav_menu": {},
   "number_sections": true,
   "sideBar": true,
   "skip_h1_title": false,
   "title_cell": "Table of Contents",
   "title_sidebar": "Contents",
   "toc_cell": false,
   "toc_position": {},
   "toc_section_display": true,
   "toc_window_display": false
  },
  "varInspector": {
   "cols": {
    "lenName": 16,
    "lenType": 16,
    "lenVar": 40
   },
   "kernels_config": {
    "python": {
     "delete_cmd_postfix": "",
     "delete_cmd_prefix": "del ",
     "library": "var_list.py",
     "varRefreshCmd": "print(var_dic_list())"
    },
    "r": {
     "delete_cmd_postfix": ") ",
     "delete_cmd_prefix": "rm(",
     "library": "var_list.r",
     "varRefreshCmd": "cat(var_dic_list()) "
    }
   },
   "types_to_exclude": [
    "module",
    "function",
    "builtin_function_or_method",
    "instance",
    "_Feature"
   ],
   "window_display": false
  }
 },
 "nbformat": 4,
 "nbformat_minor": 4
}
