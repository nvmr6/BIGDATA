{
 "cells": [
  {
   "cell_type": "code",
   "execution_count": 1,
   "metadata": {
    "ExecuteTime": {
     "end_time": "2021-03-22T01:38:53.727939Z",
     "start_time": "2021-03-22T01:38:53.717981Z"
    }
   },
   "outputs": [
    {
     "data": {
      "text/html": [
       "\n",
       "<style>\n",
       "div.container{width:80% !important;}\n",
       "</style>\n"
      ],
      "text/plain": [
       "<IPython.core.display.HTML object>"
      ]
     },
     "metadata": {},
     "output_type": "display_data"
    }
   ],
   "source": [
    "from IPython.display import display, HTML\n",
    "display(HTML(\"\"\"\n",
    "<style>\n",
    "div.container{width:80% !important;}\n",
    "</style>\n",
    "\"\"\"))"
   ]
  },
  {
   "cell_type": "markdown",
   "metadata": {},
   "source": [
    "<font size=6>tensorflow v1으로 머신러닝</font>"
   ]
  },
  {
   "cell_type": "markdown",
   "metadata": {},
   "source": [
    "# version1 in version2"
   ]
  },
  {
   "cell_type": "code",
   "execution_count": 3,
   "metadata": {
    "ExecuteTime": {
     "end_time": "2021-03-22T01:47:38.772145Z",
     "start_time": "2021-03-22T01:47:26.376720Z"
    }
   },
   "outputs": [
    {
     "name": "stdout",
     "output_type": "stream",
     "text": [
      "WARNING:tensorflow:From C:\\Users\\tjoeun\\anaconda3\\lib\\site-packages\\tensorflow\\python\\compat\\v2_compat.py:96: disable_resource_variables (from tensorflow.python.ops.variable_scope) is deprecated and will be removed in a future version.\n",
      "Instructions for updating:\n",
      "non-resource variables are not supported in the long term\n"
     ]
    }
   ],
   "source": [
    "import tensorflow.compat.v1 as tf\n",
    "tf.disable_v2_behavior() #버전1로 사용 가능"
   ]
  },
  {
   "cell_type": "code",
   "execution_count": 4,
   "metadata": {
    "ExecuteTime": {
     "end_time": "2021-03-22T01:53:45.507008Z",
     "start_time": "2021-03-22T01:53:45.080368Z"
    }
   },
   "outputs": [],
   "source": [
    "node1 = tf.constant('Hello, tensorflow') #node1 tensor 선언\n",
    "sess = tf.Session()#computational graph 생성"
   ]
  },
  {
   "cell_type": "code",
   "execution_count": 7,
   "metadata": {
    "ExecuteTime": {
     "end_time": "2021-03-22T01:57:53.851279Z",
     "start_time": "2021-03-22T01:57:53.846294Z"
    }
   },
   "outputs": [
    {
     "name": "stdout",
     "output_type": "stream",
     "text": [
      "b'Hello, tensorflow'\n",
      "Hello, tensorflow\n"
     ]
    }
   ],
   "source": [
    "print(sess.run(node1)) #b가 의미하는 것은 byte literals\n",
    "print(sess.run(node1).decode())"
   ]
  },
  {
   "cell_type": "code",
   "execution_count": 8,
   "metadata": {
    "ExecuteTime": {
     "end_time": "2021-03-22T02:04:30.418202Z",
     "start_time": "2021-03-22T02:04:30.286734Z"
    }
   },
   "outputs": [
    {
     "name": "stdout",
     "output_type": "stream",
     "text": [
      "30.0\n"
     ]
    }
   ],
   "source": [
    "#간단한 수학 연산\n",
    "node1 = tf.constant(10,dtype=tf.float32)\n",
    "node2 = tf.constant(20,dtype=tf.float32)\n",
    "node3 = tf.add(node1, node2)\n",
    "sess = tf.Session()\n",
    "print(sess.run(node3))"
   ]
  },
  {
   "cell_type": "code",
   "execution_count": 10,
   "metadata": {
    "ExecuteTime": {
     "end_time": "2021-03-22T02:14:11.015436Z",
     "start_time": "2021-03-22T02:14:10.900620Z"
    }
   },
   "outputs": [
    {
     "name": "stdout",
     "output_type": "stream",
     "text": [
      "[1 2 3]\n",
      "[1. 2. 3.]\n"
     ]
    }
   ],
   "source": [
    "import numpy as np\n",
    "node1 = tf.constant(np.array([1,2,3]), dtype=tf.int16)\n",
    "node2 = tf.cast(node1, dtype=tf.float32)#형변환\n",
    "sess = tf.Session()\n",
    "print(sess.run(node1))\n",
    "print(sess.run(node2))"
   ]
  },
  {
   "cell_type": "code",
   "execution_count": 11,
   "metadata": {
    "ExecuteTime": {
     "end_time": "2021-03-22T02:16:22.551309Z",
     "start_time": "2021-03-22T02:16:22.443805Z"
    }
   },
   "outputs": [
    {
     "name": "stdout",
     "output_type": "stream",
     "text": [
      "2.5\n"
     ]
    }
   ],
   "source": [
    "data = [1.,2.,3.,4.]\n",
    "m = tf.reduce_mean(data) #평균이 m에 지정\n",
    "sess = tf.Session()\n",
    "print(sess.run(m))"
   ]
  },
  {
   "cell_type": "markdown",
   "metadata": {},
   "source": [
    "# 독립변수 x 1개 linear regression"
   ]
  },
  {
   "cell_type": "code",
   "execution_count": 13,
   "metadata": {
    "ExecuteTime": {
     "end_time": "2021-03-22T03:16:34.413759Z",
     "start_time": "2021-03-22T03:16:33.200749Z"
    }
   },
   "outputs": [
    {
     "name": "stdout",
     "output_type": "stream",
     "text": [
      "200번째 cost: 0.016343308612704277 W: [0.85187757] b: [0.33671707]\n",
      "400번째 cost: 0.006240683142095804 W: [0.90846926] b: [0.20807074]\n",
      "600번째 cost: 0.002382993698120117 W: [0.94343966] b: [0.12857498]\n",
      "800번째 cost: 0.0009099412709474564 W: [0.96504915] b: [0.07945146]\n",
      "1000번째 cost: 0.0003474610857665539 W: [0.97840244] b: [0.04909621]\n",
      "1200번째 cost: 0.00013267796020954847 W: [0.98665404] b: [0.03033852]\n",
      "1400번째 cost: 5.06628530274611e-05 W: [0.991753] b: [0.0187474]\n",
      "1600번째 cost: 1.9346194676472805e-05 W: [0.9949038] b: [0.01158482]\n",
      "1800번째 cost: 7.387048754026182e-06 W: [0.9968509] b: [0.00715865]\n",
      "2000번째 cost: 2.8206220576976193e-06 W: [0.9980541] b: [0.00442361]\n",
      "2200번째 cost: 1.0772131417979836e-06 W: [0.9987975] b: [0.00273367]\n",
      "2400번째 cost: 4.114689033940522e-07 W: [0.99925673] b: [0.0016895]\n",
      "2600번째 cost: 1.571881682593812e-07 W: [0.9995406] b: [0.00104434]\n",
      "2800번째 cost: 6.012581366121594e-08 W: [0.9997159] b: [0.00064581]\n",
      "3000번째 cost: 2.3016227146399615e-08 W: [0.99982405] b: [0.00039957]\n",
      "3200번째 cost: 8.819139196702963e-09 W: [0.9998911] b: [0.00024737]\n",
      "3400번째 cost: 3.391328773361124e-09 W: [0.99993265] b: [0.00015337]\n",
      "3600번째 cost: 1.299810148402969e-09 W: [0.9999583] b: [9.507124e-05]\n",
      "3800번째 cost: 5.088242049922087e-10 W: [0.99997365] b: [5.936839e-05]\n",
      "4000번째 cost: 1.903900231914335e-10 W: [0.9999841] b: [3.6360987e-05]\n",
      "4200번째 cost: 7.25300236537052e-11 W: [0.99999005] b: [2.2456796e-05]\n",
      "4400번째 cost: 3.029656039932327e-11 W: [0.99999344] b: [1.4512221e-05]\n",
      "4600번째 cost: 1.4888932101109198e-11 W: [0.9999954] b: [9.996992e-06]\n",
      "4800번째 cost: 8.282169221274227e-12 W: [0.9999965] b: [7.4251448e-06]\n",
      "5000번째 cost: 5.515492576546599e-12 W: [0.99999714] b: [5.959126e-06]\n",
      "5200번째 cost: 4.393933134005934e-12 W: [0.9999975] b: [5.1617835e-06]\n",
      "5400번째 cost: 3.5135234565525364e-12 W: [0.9999977] b: [4.6797677e-06]\n",
      "5600번째 cost: 3.2432886671457384e-12 W: [0.99999774] b: [4.497556e-06]\n",
      "5800번째 cost: 3.2432329391540726e-12 W: [0.99999774] b: [4.4903454e-06]\n",
      "6000번째 cost: 3.243232722313638e-12 W: [0.99999774] b: [4.4902276e-06]\n"
     ]
    }
   ],
   "source": [
    "#tensor graph 정의\n",
    "x = np.array([1,2,3])\n",
    "y = np.array([1,2,3])\n",
    "#weight and bias 처음엔 랜덤값, 학습과정에서 변경\n",
    "W = tf.Variable(tf.random.normal([1]), name=\"weight\")\n",
    "b = tf.Variable(tf.random.normal([1]), name=\"bias\")\n",
    "#hypothesis\n",
    "H = W*x + b\n",
    "#cost function\n",
    "cost = tf.reduce_mean(tf.square(H - y))\n",
    "#cost function의 최소가 되는 W와 b를 찾는 것, 미분값이 줄어드는 방향으로 학습\n",
    "optimizer = tf.train.GradientDescentOptimizer(learning_rate=0.01)\n",
    "train = optimizer.minimize(cost)\n",
    "sess = tf.Session()\n",
    "# variable 노드 초기화\n",
    "sess.run(tf.global_variables_initializer())\n",
    "#학습\n",
    "# for step in range(1,6001):\n",
    "#     sess.run(train)\n",
    "#     if step%300==0:\n",
    "#         print(\"{}번째 cost: {} W: {} b: {}\".format(step, sess.run(cost), sess.run(W), sess.run(b)))\n",
    "for step in range(1,6001):\n",
    "    _, cost_val, W_val, b_val = sess.run([train, cost, W, b])\n",
    "    if step%200==0:\n",
    "         print(\"{}번째 cost: {} W: {} b: {}\".format(step, cost_val, W_val, b_val))"
   ]
  },
  {
   "cell_type": "code",
   "execution_count": 15,
   "metadata": {
    "ExecuteTime": {
     "end_time": "2021-03-22T03:21:12.299989Z",
     "start_time": "2021-03-22T03:21:12.295028Z"
    }
   },
   "outputs": [
    {
     "name": "stdout",
     "output_type": "stream",
     "text": [
      "최종회귀식: H = 0.9999977350234985*x +4.490227638598299e-06\n"
     ]
    }
   ],
   "source": [
    "W_, b_ = sess.run([W, b])\n",
    "print(\"최종회귀식: H = {}*x +{}\".format(W_[0], b_[0]))"
   ]
  },
  {
   "cell_type": "markdown",
   "metadata": {},
   "source": [
    "## predict를 하기 위한 placeholder 이용"
   ]
  },
  {
   "cell_type": "code",
   "execution_count": 20,
   "metadata": {
    "ExecuteTime": {
     "end_time": "2021-03-22T03:47:47.212949Z",
     "start_time": "2021-03-22T03:47:47.155656Z"
    }
   },
   "outputs": [
    {
     "data": {
      "text/plain": [
       "30.0"
      ]
     },
     "execution_count": 20,
     "metadata": {},
     "output_type": "execute_result"
    }
   ],
   "source": [
    "#placeholder 이용\n",
    "a = tf.placeholder(tf.float32)\n",
    "b = tf.placeholder(tf.float32)\n",
    "ab = tf.add(a,b)\n",
    "sess = tf.Session()\n",
    "sess.run(ab, feed_dict={a:10, b:20})"
   ]
  },
  {
   "cell_type": "code",
   "execution_count": 22,
   "metadata": {
    "ExecuteTime": {
     "end_time": "2021-03-22T03:49:53.904624Z",
     "start_time": "2021-03-22T03:49:53.898638Z"
    }
   },
   "outputs": [
    {
     "data": {
      "text/plain": [
       "array([11., 12., 13.], dtype=float32)"
      ]
     },
     "execution_count": 22,
     "metadata": {},
     "output_type": "execute_result"
    }
   ],
   "source": [
    "sess.run(ab, feed_dict={a:np.array([1,2,3]), b:np.array([10,10,10])})"
   ]
  },
  {
   "cell_type": "code",
   "execution_count": 23,
   "metadata": {
    "ExecuteTime": {
     "end_time": "2021-03-22T03:53:38.050998Z",
     "start_time": "2021-03-22T03:53:35.898337Z"
    }
   },
   "outputs": [
    {
     "name": "stdout",
     "output_type": "stream",
     "text": [
      "node1:10\n",
      "node2:20\n",
      "30.0\n"
     ]
    }
   ],
   "source": [
    "#그래프 실행 단계에서 값을 부여\n",
    "node1 = tf.placeholder(tf.float32)\n",
    "node2 = tf.placeholder(tf.float32)\n",
    "adder_node = node1 + node2\n",
    "sess = tf.Session()\n",
    "result = sess.run(adder_node, feed_dict={node1:input(\"node1:\"), node2:input(\"node2:\")})\n",
    "print(result)"
   ]
  },
  {
   "cell_type": "code",
   "execution_count": 24,
   "metadata": {
    "ExecuteTime": {
     "end_time": "2021-03-22T04:07:57.900760Z",
     "start_time": "2021-03-22T04:07:55.724124Z"
    }
   },
   "outputs": [
    {
     "name": "stdout",
     "output_type": "stream",
     "text": [
      "200번째 cost: 0.23167556524276733 W: [2.557687] b: [1.7322456]\n",
      "400번째 cost: 0.08846525102853775 W: [2.3446174] b: [2.2166042]\n",
      "600번째 cost: 0.03378048539161682 W: [2.2129529] b: [2.5159085]\n",
      "800번째 cost: 0.012898977845907211 W: [2.131592] b: [2.7008607]\n",
      "1000번째 cost: 0.004925495479255915 W: [2.0813158] b: [2.8151495]\n",
      "1200번째 cost: 0.0018808040767908096 W: [2.0502484] b: [2.8857737]\n",
      "1400번째 cost: 0.0007181937689892948 W: [2.0310504] b: [2.9294147]\n",
      "1600번째 cost: 0.00027424594736658037 W: [2.0191875] b: [2.9563823]\n",
      "1800번째 cost: 0.00010471924906596541 W: [2.0118568] b: [2.9730463]\n",
      "2000번째 cost: 3.998479587608017e-05 W: [2.0073266] b: [2.983345]\n",
      "2200번째 cost: 1.5271349184331484e-05 W: [2.0045278] b: [2.9897075]\n",
      "2400번째 cost: 5.833402155985823e-06 W: [2.0027983] b: [2.993639]\n",
      "2600번째 cost: 2.230151721960283e-06 W: [2.00173] b: [2.996067]\n",
      "2800번째 cost: 8.534155426787038e-07 W: [2.0010707] b: [2.9975672]\n",
      "3000번째 cost: 3.272016328992322e-07 W: [2.0006623] b: [2.9984934]\n",
      "3200번째 cost: 1.2560576578835025e-07 W: [2.000411] b: [2.9990668]\n",
      "3400번째 cost: 4.875111514479613e-08 W: [2.0002556] b: [2.9994185]\n",
      "3600번째 cost: 1.8834422021996033e-08 W: [2.0001588] b: [2.9996383]\n",
      "3800번째 cost: 7.558810466434807e-09 W: [2.0001] b: [2.9997709]\n",
      "4000번째 cost: 2.7506150690470577e-09 W: [2.0000606] b: [2.9998617]\n",
      "4200번째 cost: 1.179614628199488e-09 W: [2.00004] b: [2.9999094]\n",
      "4400번째 cost: 4.848364487664014e-10 W: [2.000026] b: [2.999942]\n",
      "4600번째 cost: 4.848364487664014e-10 W: [2.000026] b: [2.999942]\n",
      "4800번째 cost: 4.848364487664014e-10 W: [2.000026] b: [2.999942]\n",
      "5000번째 cost: 4.848364487664014e-10 W: [2.000026] b: [2.999942]\n",
      "5200번째 cost: 4.848364487664014e-10 W: [2.000026] b: [2.999942]\n",
      "5400번째 cost: 4.848364487664014e-10 W: [2.000026] b: [2.999942]\n",
      "5600번째 cost: 4.848364487664014e-10 W: [2.000026] b: [2.999942]\n",
      "5800번째 cost: 4.848364487664014e-10 W: [2.000026] b: [2.999942]\n",
      "6000번째 cost: 4.848364487664014e-10 W: [2.000026] b: [2.999942]\n"
     ]
    }
   ],
   "source": [
    "#training dataset\n",
    "x_data = [1,2,3]\n",
    "y_data = [5,7,9]\n",
    "#placeholder\n",
    "x = tf.placeholder(tf.float32)\n",
    "y = tf.placeholder(tf.float32)\n",
    "#weight and bias\n",
    "W = tf.Variable(tf.random_normal([1]), name=\"weight\")\n",
    "b = tf.Variable(tf.random_normal([1]), name=\"bias\")\n",
    "#hypothesis\n",
    "H = W*x + b\n",
    "#cost function\n",
    "cost = tf.reduce_mean(tf.square(H - y))\n",
    "#최소 제곱법\n",
    "optimizer = tf.train.GradientDescentOptimizer(learning_rate=0.01)\n",
    "train = optimizer.minimize(cost)\n",
    "#Session and cost 초기화\n",
    "sess = tf.Session()\n",
    "sess.run(tf.global_variables_initializer())\n",
    "#training\n",
    "for step in range(1,6001):\n",
    "    _, cost_val, W_val, b_val = sess.run([train, cost, W, b], feed_dict={x:x_data, y:y_data})\n",
    "    if step%200 ==0:\n",
    "        print(\"{}번째 cost: {} W: {} b: {}\".format(step, cost_val, W_val, b_val))"
   ]
  },
  {
   "cell_type": "code",
   "execution_count": 25,
   "metadata": {
    "ExecuteTime": {
     "end_time": "2021-03-22T04:11:02.698300Z",
     "start_time": "2021-03-22T04:11:02.688301Z"
    }
   },
   "outputs": [
    {
     "data": {
      "text/plain": [
       "[array([2.000026], dtype=float32), array([2.999942], dtype=float32)]"
      ]
     },
     "execution_count": 25,
     "metadata": {},
     "output_type": "execute_result"
    }
   ],
   "source": [
    "sess.run([W, b])"
   ]
  },
  {
   "cell_type": "code",
   "execution_count": 26,
   "metadata": {
    "ExecuteTime": {
     "end_time": "2021-03-22T04:11:22.594121Z",
     "start_time": "2021-03-22T04:11:22.584174Z"
    }
   },
   "outputs": [
    {
     "data": {
      "text/plain": [
       "array([13.000072], dtype=float32)"
      ]
     },
     "execution_count": 26,
     "metadata": {},
     "output_type": "execute_result"
    }
   ],
   "source": [
    "sess.run(H, feed_dict={x:5})"
   ]
  },
  {
   "cell_type": "code",
   "execution_count": 27,
   "metadata": {
    "ExecuteTime": {
     "end_time": "2021-03-22T04:11:53.357044Z",
     "start_time": "2021-03-22T04:11:53.352082Z"
    }
   },
   "outputs": [
    {
     "data": {
      "text/plain": [
       "array([ 4.999968, 23.000202, 43.00046 ], dtype=float32)"
      ]
     },
     "execution_count": 27,
     "metadata": {},
     "output_type": "execute_result"
    }
   ],
   "source": [
    "sess.run(H, feed_dict={x:np.array([1,10,20])})"
   ]
  },
  {
   "cell_type": "markdown",
   "metadata": {},
   "source": [
    "## scale이 다른 데이터들의 linear regression"
   ]
  },
  {
   "cell_type": "code",
   "execution_count": 29,
   "metadata": {
    "ExecuteTime": {
     "end_time": "2021-03-22T05:50:17.634647Z",
     "start_time": "2021-03-22T05:50:15.690251Z"
    }
   },
   "outputs": [
    {
     "name": "stdout",
     "output_type": "stream",
     "text": [
      "200번째 cost: 79.17362976074219 W: [10.114777]\n",
      "400번째 cost: 79.14259338378906 W: [10.146208]\n",
      "600번째 cost: 79.13973236083984 W: [10.155728]\n",
      "800번째 cost: 79.13945770263672 W: [10.158611]\n",
      "1000번째 cost: 79.13947296142578 W: [10.159484]\n",
      "1200번째 cost: 79.13946533203125 W: [10.159749]\n",
      "1400번째 cost: 79.13945770263672 W: [10.159829]\n",
      "1600번째 cost: 79.13947296142578 W: [10.159853]\n",
      "1800번째 cost: 79.13944244384766 W: [10.159861]\n",
      "2000번째 cost: 79.13947296142578 W: [10.159862]\n",
      "2200번째 cost: 79.13945770263672 W: [10.1598625]\n",
      "2400번째 cost: 79.13945770263672 W: [10.1598625]\n",
      "2600번째 cost: 79.13945770263672 W: [10.1598625]\n",
      "2800번째 cost: 79.13945770263672 W: [10.1598625]\n",
      "3000번째 cost: 79.13945770263672 W: [10.1598625]\n",
      "3200번째 cost: 79.13945770263672 W: [10.1598625]\n",
      "3400번째 cost: 79.13945770263672 W: [10.1598625]\n",
      "3600번째 cost: 79.13945770263672 W: [10.1598625]\n",
      "3800번째 cost: 79.13945770263672 W: [10.1598625]\n",
      "4000번째 cost: 79.13945770263672 W: [10.1598625]\n",
      "4200번째 cost: 79.13945770263672 W: [10.1598625]\n",
      "4400번째 cost: 79.13945770263672 W: [10.1598625]\n",
      "4600번째 cost: 79.13945770263672 W: [10.1598625]\n",
      "4800번째 cost: 79.13945770263672 W: [10.1598625]\n",
      "5000번째 cost: 79.13945770263672 W: [10.1598625]\n",
      "5200번째 cost: 79.13945770263672 W: [10.1598625]\n",
      "5400번째 cost: 79.13945770263672 W: [10.1598625]\n",
      "5600번째 cost: 79.13945770263672 W: [10.1598625]\n",
      "5800번째 cost: 79.13945770263672 W: [10.1598625]\n",
      "6000번째 cost: 79.13945770263672 W: [10.1598625]\n"
     ]
    }
   ],
   "source": [
    "#training dataset\n",
    "x_data = [1,2,5,8,10]\n",
    "y_data = [5,15,68,80,95]\n",
    "#placeholder\n",
    "x = tf.placeholder(tf.float32)\n",
    "y = tf.placeholder(tf.float32)\n",
    "#weight and bias\n",
    "W = tf.Variable(tf.random_normal([1]), name=\"weight\")\n",
    "b = tf.Variable(tf.random_normal([1]), name=\"bias\")\n",
    "#hypothesis\n",
    "H = W*x + b\n",
    "#cost function\n",
    "cost = tf.reduce_mean(tf.square(H - y))\n",
    "#최소 제곱법\n",
    "train = tf.train.GradientDescentOptimizer(learning_rate=0.01).minimize(cost)\n",
    "#Session and cost 초기화\n",
    "sess = tf.Session()\n",
    "sess.run(tf.global_variables_initializer())\n",
    "#training\n",
    "for step in range(1,6001):\n",
    "    _, cost_val, W_val = sess.run([train, cost, W], feed_dict={x:x_data, y:y_data})\n",
    "    if step%200 ==0:\n",
    "        print(\"{}번째 cost: {} W: {}\".format(step, cost_val, W_val))"
   ]
  },
  {
   "cell_type": "code",
   "execution_count": 32,
   "metadata": {
    "ExecuteTime": {
     "end_time": "2021-03-22T05:57:03.087530Z",
     "start_time": "2021-03-22T05:57:03.081572Z"
    }
   },
   "outputs": [
    {
     "data": {
      "text/plain": [
       "[array([10.1598625], dtype=float32), array([-0.23128414], dtype=float32)]"
      ]
     },
     "execution_count": 32,
     "metadata": {},
     "output_type": "execute_result"
    }
   ],
   "source": [
    "sess.run([W,b]) #cost가 크기 때문에 신뢰도가 낮음 > GradientDescentOptimizer에서 global 최소값이 있음에도 local최소값을 만나면 정지"
   ]
  },
  {
   "cell_type": "markdown",
   "metadata": {},
   "source": [
    "# 독립변수 x가 여러개인 linear regression\n",
    "- scale이 다른 x, y"
   ]
  },
  {
   "cell_type": "code",
   "execution_count": 40,
   "metadata": {
    "ExecuteTime": {
     "end_time": "2021-03-22T06:28:52.813255Z",
     "start_time": "2021-03-22T06:28:37.566161Z"
    }
   },
   "outputs": [
    {
     "name": "stdout",
     "output_type": "stream",
     "text": [
      "3000번째 cost:9.136207580566406\n",
      "6000번째 cost:3.114727020263672\n",
      "9000번째 cost:1.7729883193969727\n",
      "12000번째 cost:1.373133897781372\n",
      "15000번째 cost:1.1770305633544922\n",
      "18000번째 cost:1.036899209022522\n",
      "21000번째 cost:0.9215200543403625\n",
      "24000번째 cost:0.8229076266288757\n",
      "27000번째 cost:0.7378987073898315\n",
      "30000번째 cost:0.6644306778907776\n",
      "33000번째 cost:0.6009332537651062\n",
      "36000번째 cost:0.5460286140441895\n",
      "39000번째 cost:0.49854740500450134\n",
      "42000번째 cost:0.4575120806694031\n",
      "45000번째 cost:0.4220268130302429\n",
      "48000번째 cost:0.3913397490978241\n",
      "51000번째 cost:0.36480456590652466\n",
      "54000번째 cost:0.34186112880706787\n",
      "57000번째 cost:0.3220188021659851\n",
      "60000번째 cost:0.3048604428768158\n"
     ]
    }
   ],
   "source": [
    "#training dataset\n",
    "x_data = np.array([[73,80,75],\n",
    "                   [93,88,93],\n",
    "                   [89,91,90],\n",
    "                   [96,98,100],\n",
    "                   [73,66,70]])\n",
    "y_data = np.array([[152],\n",
    "                   [185],\n",
    "                   [180],\n",
    "                   [196],\n",
    "                   [142]])\n",
    "\n",
    "# placeholder \n",
    "X = tf.placeholder(shape=[None, 3], dtype=tf.float32)\n",
    "Y = tf.placeholder(shape=[None, 1], dtype=tf.float32)\n",
    "\n",
    "# Weight & bias\n",
    "W = tf.Variable(tf.random_normal([3,1]), name=\"weight\")\n",
    "b = tf.Variable(tf.random_normal([1]), name=\"bias\")\n",
    "\n",
    "# Hypothesis\n",
    "# H = X @ W + b\n",
    "H = tf.matmul(X, W) + b\n",
    "\n",
    "# cost function\n",
    "cost = tf.reduce_mean(tf.square(H - Y))\n",
    "\n",
    "# train\n",
    "train = tf.train.GradientDescentOptimizer(learning_rate=1e-5).minimize(cost)\n",
    "\n",
    "# session & Variable 초기화\n",
    "sess = tf.Session()\n",
    "sess.run(tf.global_variables_initializer())\n",
    "\n",
    "# 학습\n",
    "for step in range(1, 60001):\n",
    "    _, cost_val = sess.run([train, cost], feed_dict={X:x_data, \n",
    "                                                    Y : y_data})\n",
    "    if step%3000 == 0 :\n",
    "        print(\"{}번째 cost:{}\".format(step, cost_val))"
   ]
  },
  {
   "cell_type": "markdown",
   "metadata": {},
   "source": [
    "## 오존량 예측 예제\n",
    "- multi variable linear regression"
   ]
  },
  {
   "cell_type": "code",
   "execution_count": 41,
   "metadata": {
    "ExecuteTime": {
     "end_time": "2021-03-22T06:45:23.688738Z",
     "start_time": "2021-03-22T06:45:23.683750Z"
    }
   },
   "outputs": [],
   "source": [
    "import tensorflow.compat.v1 as tf\n",
    "import numpy as np\n",
    "import pandas as pd\n",
    "tf.disable_v2_behavior()"
   ]
  },
  {
   "cell_type": "code",
   "execution_count": 51,
   "metadata": {
    "ExecuteTime": {
     "end_time": "2021-03-22T07:09:27.946702Z",
     "start_time": "2021-03-22T07:09:12.336881Z"
    }
   },
   "outputs": [
    {
     "name": "stdout",
     "output_type": "stream",
     "text": [
      "3000번째 cost:504.8381652832031\n",
      "6000번째 cost:468.85931396484375\n",
      "9000번째 cost:464.62042236328125\n",
      "12000번째 cost:464.0985107421875\n",
      "15000번째 cost:464.0119934082031\n",
      "18000번째 cost:463.97650146484375\n",
      "21000번째 cost:463.9469299316406\n",
      "24000번째 cost:463.918212890625\n",
      "27000번째 cost:463.88946533203125\n",
      "30000번째 cost:463.86077880859375\n",
      "33000번째 cost:463.83221435546875\n",
      "36000번째 cost:463.8035888671875\n",
      "39000번째 cost:463.7749938964844\n",
      "42000번째 cost:463.7464599609375\n",
      "45000번째 cost:463.7179870605469\n",
      "48000번째 cost:463.6894836425781\n",
      "51000번째 cost:463.6609802246094\n",
      "54000번째 cost:463.6324462890625\n",
      "57000번째 cost:463.6040344238281\n",
      "60000번째 cost:463.5757751464844\n"
     ]
    }
   ],
   "source": [
    "#training data set 생성\n",
    "#data load > 결측치 처리 > 독립변수, 종속변수 분리\n",
    "data = pd.read_csv('data/ozone.csv',sep=',')\n",
    "data = data.dropna(how='any')#한 열이라도 결측치이면 제거\n",
    "\n",
    "data = data.iloc[:,:4]#독립변수\n",
    "x_data = data.iloc[:,1:].values # 데이터프레임을 numpy 배열로 변경\n",
    "y_data = data.iloc[:,0].values.reshape(-1,1)\n",
    "x_data.shape, y_data.shape\n",
    "\n",
    "# placeholder \n",
    "X = tf.placeholder(shape=[None, 3], dtype=tf.float32)\n",
    "Y = tf.placeholder(shape=[None, 1], dtype=tf.float32)\n",
    "\n",
    "# Weight & bias\n",
    "W = tf.Variable(tf.random_normal([3,1]), name=\"weight\")\n",
    "b = tf.Variable(tf.random_normal([1]), name=\"bias\")\n",
    "\n",
    "# Hypothesis\n",
    "# H = X @ W + b\n",
    "H = tf.matmul(X, W) + b\n",
    "\n",
    "# cost function\n",
    "cost = tf.reduce_mean(tf.square(H - Y))\n",
    "\n",
    "# train\n",
    "train = tf.train.GradientDescentOptimizer(learning_rate=1e-5).minimize(cost)\n",
    "\n",
    "# session & Variable 초기화\n",
    "sess = tf.Session()\n",
    "sess.run(tf.global_variables_initializer())\n",
    "\n",
    "# 학습\n",
    "for step in range(1, 60001):\n",
    "    _, cost_val = sess.run([train, cost], feed_dict={X:x_data, \n",
    "                                                    Y : y_data})\n",
    "    if step%3000 == 0 :\n",
    "        print(\"{}번째 cost:{}\".format(step, cost_val))"
   ]
  },
  {
   "cell_type": "code",
   "execution_count": 52,
   "metadata": {
    "ExecuteTime": {
     "end_time": "2021-03-22T07:14:02.855499Z",
     "start_time": "2021-03-22T07:14:02.839515Z"
    }
   },
   "outputs": [
    {
     "data": {
      "text/plain": [
       "array([[41.55091]], dtype=float32)"
      ]
     },
     "execution_count": 52,
     "metadata": {},
     "output_type": "execute_result"
    }
   ],
   "source": [
    "sess.run(H, feed_dict={X:np.array([[118,8,72]])})"
   ]
  },
  {
   "cell_type": "code",
   "execution_count": null,
   "metadata": {},
   "outputs": [],
   "source": [
    "#scale을 맞추는 방법: normalization, standardization"
   ]
  },
  {
   "cell_type": "code",
   "execution_count": 53,
   "metadata": {
    "ExecuteTime": {
     "end_time": "2021-03-22T07:21:14.730838Z",
     "start_time": "2021-03-22T07:21:14.726849Z"
    }
   },
   "outputs": [],
   "source": [
    "# scale 맞추는 방법 : normalization(많이 씀), standardization(표준화)\n",
    "#                   X - Xmin\n",
    "# normalization = ──────────────\n",
    "#                  Xmax - Xmin\n",
    "#       위의 식을 써도 되지만 라이브러리를 씀(sklearn 이용)\n",
    "#                    x - Xmean(평균)\n",
    "# standardization = ────────────────\n",
    "#                     Xstd(표준편차)"
   ]
  },
  {
   "cell_type": "code",
   "execution_count": 54,
   "metadata": {
    "ExecuteTime": {
     "end_time": "2021-03-22T07:26:04.189062Z",
     "start_time": "2021-03-22T07:25:48.578154Z"
    }
   },
   "outputs": [
    {
     "name": "stdout",
     "output_type": "stream",
     "text": [
      "3000번째 cost:5.826967716217041\n",
      "6000번째 cost:4.9516754150390625\n",
      "9000번째 cost:4.2251811027526855\n",
      "12000번째 cost:3.6216273307800293\n",
      "15000번째 cost:3.1197047233581543\n",
      "18000번째 cost:2.701829433441162\n",
      "21000번째 cost:2.3534936904907227\n",
      "24000번째 cost:2.062731981277466\n",
      "27000번째 cost:1.8196581602096558\n",
      "30000번째 cost:1.6161142587661743\n",
      "33000번째 cost:1.445363998413086\n",
      "36000번째 cost:1.301838755607605\n",
      "39000번째 cost:1.180937647819519\n",
      "42000번째 cost:1.0788547992706299\n",
      "45000번째 cost:0.9924433827400208\n",
      "48000번째 cost:0.9190965890884399\n",
      "51000번째 cost:0.8566592931747437\n",
      "54000번째 cost:0.8033410310745239\n",
      "57000번째 cost:0.757660448551178\n",
      "60000번째 cost:0.7183879017829895\n"
     ]
    }
   ],
   "source": [
    "#training data set 생성\n",
    "#data load > 결측치 처리 > 독립변수, 종속변수 분리\n",
    "data = pd.read_csv('data/ozone.csv',sep=',')\n",
    "data = data.dropna(how='any')#한 열이라도 결측치이면 제거\n",
    "\n",
    "#scale 조정\n",
    "data['Ozone'] = (data['Ozone'] - data['Ozone'].mean()) / data['Ozone'].std()\n",
    "data['Solar.R'] = (data['Solar.R'] - data['Solar.R'].mean()) / data['Solar.R'].std()\n",
    "data['Wind'] = (data['Wind'] - data['Wind'].mean()) / data['Wind'].std()\n",
    "data['Temp'] = (data['Temp'] - data['Temp'].mean()) / data['Temp'].std()\n",
    "\n",
    "data = data[['Ozone','Solar.R','Wind','Temp']]#독립변수\n",
    "x_data = data[['Solar.R','Wind','Temp']].values # 데이터프레임을 numpy 배열로 변경\n",
    "y_data = data[['Ozone']].values.reshape(-1,1)\n",
    "x_data.shape, y_data.shape\n",
    "\n",
    "# placeholder \n",
    "X = tf.placeholder(shape=[None, 3], dtype=tf.float32)\n",
    "Y = tf.placeholder(shape=[None, 1], dtype=tf.float32)\n",
    "\n",
    "# Weight & bias\n",
    "W = tf.Variable(tf.random_normal([3,1]), name=\"weight\")\n",
    "b = tf.Variable(tf.random_normal([1]), name=\"bias\")\n",
    "\n",
    "# Hypothesis\n",
    "# H = X @ W + b\n",
    "H = tf.matmul(X, W) + b\n",
    "\n",
    "# cost function\n",
    "cost = tf.reduce_mean(tf.square(H - Y))\n",
    "\n",
    "# train\n",
    "train = tf.train.GradientDescentOptimizer(learning_rate=1e-5).minimize(cost)\n",
    "\n",
    "# session & Variable 초기화\n",
    "sess = tf.Session()\n",
    "sess.run(tf.global_variables_initializer())\n",
    "\n",
    "# 학습\n",
    "for step in range(1, 60001):\n",
    "    _, cost_val = sess.run([train, cost], feed_dict={X:x_data, \n",
    "                                                    Y : y_data})\n",
    "    if step%3000 == 0 :\n",
    "        print(\"{}번째 cost:{}\".format(step, cost_val))"
   ]
  },
  {
   "cell_type": "code",
   "execution_count": 57,
   "metadata": {
    "ExecuteTime": {
     "end_time": "2021-03-22T07:54:41.877973Z",
     "start_time": "2021-03-22T07:54:26.234940Z"
    }
   },
   "outputs": [
    {
     "name": "stdout",
     "output_type": "stream",
     "text": [
      "3000번째 cost:2.0159056186676025\n",
      "6000번째 cost:1.6541839838027954\n",
      "9000번째 cost:1.3613395690917969\n",
      "12000번째 cost:1.1242868900299072\n",
      "15000번째 cost:0.9323583245277405\n",
      "18000번째 cost:0.7769467234611511\n",
      "21000번째 cost:0.6510868072509766\n",
      "24000번째 cost:0.549145519733429\n",
      "27000번째 cost:0.46656063199043274\n",
      "30000번째 cost:0.3996536433696747\n",
      "33000번째 cost:0.34540820121765137\n",
      "36000번째 cost:0.3014566898345947\n",
      "39000번째 cost:0.26578348875045776\n",
      "42000번째 cost:0.2368483692407608\n",
      "45000번째 cost:0.21333491802215576\n",
      "48000번째 cost:0.19422826170921326\n",
      "51000번째 cost:0.17868785560131073\n",
      "54000번째 cost:0.1660429686307907\n",
      "57000번째 cost:0.1557280272245407\n",
      "60000번째 cost:0.14729328453540802\n"
     ]
    }
   ],
   "source": [
    "#training data set 생성\n",
    "#data load > 결측치 처리 > 독립변수, 종속변수 분리\n",
    "data = pd.read_csv('data/ozone.csv',sep=',')\n",
    "data = data.dropna(how='any')#한 열이라도 결측치이면 제거\n",
    "data = data[['Ozone','Solar.R','Wind','Temp']]#독립변수\n",
    "\n",
    "x_data = data[['Solar.R','Wind','Temp']].values # 데이터프레임을 numpy 배열로 변경\n",
    "y_data = data[['Ozone']].values.reshape(-1,1)\n",
    "\n",
    "#scale 조정(sklearn.preprocessing.minmaxscaler)\n",
    "from sklearn.preprocessing import MinMaxScaler\n",
    "scale_x = MinMaxScaler() #scale조정할 객체\n",
    "scale_x.fit(x_data)\n",
    "x_data = scale_x.transform(x_data)\n",
    "scale_y = MinMaxScaler() #scale조정할 객체\n",
    "scale_y.fit(y_data)\n",
    "y_data = scale_y.transform(y_data)\n",
    "\n",
    "# placeholder \n",
    "X = tf.placeholder(shape=[None, 3], dtype=tf.float32)\n",
    "Y = tf.placeholder(shape=[None, 1], dtype=tf.float32)\n",
    "\n",
    "# Weight & bias\n",
    "W = tf.Variable(tf.random_normal([3,1]), name=\"weight\")\n",
    "b = tf.Variable(tf.random_normal([1]), name=\"bias\")\n",
    "\n",
    "# Hypothesis\n",
    "# H = X @ W + b\n",
    "H = tf.matmul(X, W) + b\n",
    "\n",
    "# cost function\n",
    "cost = tf.reduce_mean(tf.square(H - Y))\n",
    "\n",
    "# train\n",
    "train = tf.train.GradientDescentOptimizer(learning_rate=1e-5).minimize(cost)\n",
    "\n",
    "# session & Variable 초기화\n",
    "sess = tf.Session()\n",
    "sess.run(tf.global_variables_initializer())\n",
    "\n",
    "# 학습\n",
    "for step in range(1, 60001):\n",
    "    _, cost_val = sess.run([train, cost], feed_dict={X:x_data, Y : y_data})\n",
    "    if step%3000 == 0 :\n",
    "        print(\"{}번째 cost:{}\".format(step, cost_val))"
   ]
  },
  {
   "cell_type": "code",
   "execution_count": 58,
   "metadata": {
    "ExecuteTime": {
     "end_time": "2021-03-22T08:01:09.153364Z",
     "start_time": "2021-03-22T08:01:09.136410Z"
    }
   },
   "outputs": [
    {
     "data": {
      "text/plain": [
       "array([[60.7895]], dtype=float32)"
      ]
     },
     "execution_count": 58,
     "metadata": {},
     "output_type": "execute_result"
    }
   ],
   "source": [
    "#predict\n",
    "input_data = np.array([[118.,8.,72.]])\n",
    "scale_input = scale_x.transform(input_data)\n",
    "predict_value = sess.run(H, feed_dict={X:scale_input})\n",
    "scale_y.inverse_transform(predict_value)"
   ]
  },
  {
   "cell_type": "code",
   "execution_count": 61,
   "metadata": {
    "ExecuteTime": {
     "end_time": "2021-03-22T08:47:27.371639Z",
     "start_time": "2021-03-22T08:47:11.486765Z"
    }
   },
   "outputs": [
    {
     "name": "stdout",
     "output_type": "stream",
     "text": [
      "조정전\n",
      " [[190.    7.4  67.   41. ]\n",
      " [118.    8.   72.   36. ]]\n",
      "조정후\n",
      " [[ 0.05728624 -0.71707784 -1.13764691 -0.03317961]\n",
      " [-0.73618283 -0.54766534 -0.61060682 -0.18411965]]\n",
      " 3000번째 cost 7.2879638671875\n",
      " 6000번째 cost 6.246420860290527\n",
      " 9000번째 cost 5.371882915496826\n",
      "12000번째 cost 4.636427402496338\n",
      "15000번째 cost 4.0169358253479\n",
      "18000번째 cost 3.494255542755127\n",
      "21000번째 cost 3.052475690841675\n",
      "24000번째 cost 2.6784169673919678\n",
      "27000번째 cost 2.361098289489746\n",
      "30000번째 cost 2.091405153274536\n",
      "33000번째 cost 1.8617397546768188\n",
      "36000번째 cost 1.665771722793579\n",
      "39000번째 cost 1.4982167482376099\n",
      "42000번째 cost 1.3546617031097412\n",
      "45000번째 cost 1.2314139604568481\n",
      "48000번째 cost 1.1253849267959595\n",
      "51000번째 cost 1.0339773893356323\n",
      "54000번째 cost 0.9550122618675232\n",
      "57000번째 cost 0.886655867099762\n",
      "60000번째 cost 0.8273625373840332\n"
     ]
    }
   ],
   "source": [
    "# training data set 생성\n",
    "# data load -> 결측치 처리 -> 독립변수, 종속변수 분리\n",
    "data = pd.read_csv('./data/ozone.csv', sep=\",\")\n",
    "\n",
    "# data를 바로 학습할 수 없음. 데이터 정제 작업 필요.\n",
    "data = data.dropna(how='any') # 결측치가 한열이라도 있는 행 모두 제거\n",
    "\n",
    "# 필요한 columns만 추출\n",
    "data = data[['Ozone','Solar.R','Wind','Temp']]\n",
    "\n",
    "# scale 조정 : data를 한꺼번에 scale 조정 시 prediction 힘듦\n",
    "# from sklearn.preprocessing import StandardScaler\n",
    "# scaler = StandardScaler()\n",
    "# scaler.fit(data)\n",
    "# data = pd.DataFrame(scaler.transform(data),\n",
    "#                     columns=['Ozone','Solar.R','Wind','Temp'])\n",
    "\n",
    "# training data set\n",
    "x_data = data[['Solar.R','Wind','Temp']].values # DataFrame을 numpy 배열로\n",
    "y_data = data[['Ozone']].values.reshape(-1, 1)\n",
    "\n",
    "print('조정전\\n', np.c_[x_data[:2], y_data[:2]])\n",
    "# scale 조정 : x_data, y_data scale을 따로 따로 - prediction 가능\n",
    "from sklearn.preprocessing import StandardScaler\n",
    "scaler_x = StandardScaler()\n",
    "scaler_x.fit(x_data)\n",
    "x_data = scaler_x.transform(x_data)\n",
    "\n",
    "scaler_y = StandardScaler()\n",
    "scaler_y.fit(y_data)\n",
    "y_data = scaler_y.transform(y_data)\n",
    "print('조정후\\n', np.c_[x_data[:2], y_data[:2]])\n",
    "\n",
    "# tensorflow 구현\n",
    "# 1.placeholder\n",
    "X = tf.placeholder(shape=[None,3], dtype=tf.float32)\n",
    "Y = tf.placeholder(shape=[None, 1], dtype=tf.float32)\n",
    "\n",
    "# 2. Weight & bias 설정\n",
    "W = tf.Variable(tf.random_normal([3,1]), name=\"weight\")\n",
    "b = tf.Variable(tf.random_normal([1]), name=\"bias\")\n",
    "\n",
    "# 3. Hypothesis\n",
    "# H = X @ W + b\n",
    "H = tf.matmul(X, W) + b\n",
    "\n",
    "# 4. cost 함수\n",
    "cost = tf.reduce_mean(tf.square(H - Y))\n",
    "\n",
    "# 5. train\n",
    "train = tf.train.GradientDescentOptimizer(learning_rate=1e-5).minimize(cost)\n",
    "\n",
    "# 6. session & 초기화\n",
    "sess = tf.Session()\n",
    "sess.run(tf.global_variables_initializer())\n",
    "\n",
    "# 7. 학습\n",
    "for step in range(1, 60001):\n",
    "    _, cost_val = sess.run([train, cost], feed_dict={X:x_data,\n",
    "                                                    Y:y_data})\n",
    "    if step%3000 == 0:\n",
    "        print(\"{:5d}번째 cost {}\".format(step, cost_val))"
   ]
  },
  {
   "cell_type": "code",
   "execution_count": 62,
   "metadata": {
    "ExecuteTime": {
     "end_time": "2021-03-22T08:47:27.406540Z",
     "start_time": "2021-03-22T08:47:27.391580Z"
    }
   },
   "outputs": [
    {
     "data": {
      "text/plain": [
       "[array([[-0.5015641 ],\n",
       "        [-0.38921705],\n",
       "        [ 0.4891389 ]], dtype=float32),\n",
       " array([-0.02001625], dtype=float32)]"
      ]
     },
     "execution_count": 62,
     "metadata": {},
     "output_type": "execute_result"
    }
   ],
   "source": [
    "sess.run([W, b])"
   ]
  },
  {
   "cell_type": "code",
   "execution_count": 63,
   "metadata": {
    "ExecuteTime": {
     "end_time": "2021-03-22T08:47:27.510382Z",
     "start_time": "2021-03-22T08:47:27.428482Z"
    }
   },
   "outputs": [
    {
     "data": {
      "text/plain": [
       "array([[50.834877]], dtype=float32)"
      ]
     },
     "execution_count": 63,
     "metadata": {},
     "output_type": "execute_result"
    }
   ],
   "source": [
    "input_data = np.array([[118.,8.,72.]])\n",
    "scaled_input_data = scale_x.transform(input_data)\n",
    "scaler_y.inverse_transform(sess.run(H, feed_dict={X:scaled_input_data}))"
   ]
  },
  {
   "cell_type": "markdown",
   "metadata": {},
   "source": [
    "# logistic regression = binary classification"
   ]
  },
  {
   "cell_type": "code",
   "execution_count": 67,
   "metadata": {
    "ExecuteTime": {
     "end_time": "2021-03-22T08:56:46.583286Z",
     "start_time": "2021-03-22T08:56:46.081488Z"
    }
   },
   "outputs": [
    {
     "name": "stdout",
     "output_type": "stream",
     "text": [
      "w  0.12925170068027214  b  lm[1]\n"
     ]
    },
    {
     "data": {
      "text/plain": [
       "[<matplotlib.lines.Line2D at 0x14b6e747f10>]"
      ]
     },
     "execution_count": 67,
     "metadata": {},
     "output_type": "execute_result"
    },
    {
     "data": {
      "image/png": "[encoded data removed]",
      "text/plain": [
       "<Figure size 432x288 with 1 Axes>"
      ]
     },
     "metadata": {
      "needs_background": "light"
     },
     "output_type": "display_data"
    }
   ],
   "source": [
    "import numpy as np\n",
    "import matplotlib.pyplot as plt\n",
    "from scipy import stats\n",
    "\n",
    "x=np.array([1,2,5,8,10])\n",
    "y=np.array([0,0,0,1,1])\n",
    "lm = stats.linregress(x,y)\n",
    "print('w ',lm[0],' b ','lm[1]')\n",
    "plt.scatter(x,y)\n",
    "plt.plot(x, lm[0]*x + lm[1], 'r')"
   ]
  },
  {
   "cell_type": "code",
   "execution_count": null,
   "metadata": {},
   "outputs": [],
   "source": []
  },
  {
   "cell_type": "code",
   "execution_count": null,
   "metadata": {},
   "outputs": [],
   "source": []
  },
  {
   "cell_type": "code",
   "execution_count": null,
   "metadata": {},
   "outputs": [],
   "source": []
  },
  {
   "cell_type": "markdown",
   "metadata": {},
   "source": [
    "# multinomial classification"
   ]
  },
  {
   "cell_type": "code",
   "execution_count": null,
   "metadata": {},
   "outputs": [],
   "source": []
  },
  {
   "cell_type": "code",
   "execution_count": null,
   "metadata": {},
   "outputs": [],
   "source": []
  },
  {
   "cell_type": "code",
   "execution_count": null,
   "metadata": {},
   "outputs": [],
   "source": []
  },
  {
   "cell_type": "code",
   "execution_count": null,
   "metadata": {},
   "outputs": [],
   "source": []
  },
  {
   "cell_type": "code",
   "execution_count": null,
   "metadata": {},
   "outputs": [],
   "source": []
  },
  {
   "cell_type": "code",
   "execution_count": null,
   "metadata": {},
   "outputs": [],
   "source": []
  },
  {
   "cell_type": "code",
   "execution_count": null,
   "metadata": {},
   "outputs": [],
   "source": []
  }
 ],
 "metadata": {
  "kernelspec": {
   "display_name": "Python 3",
   "language": "python",
   "name": "python3"
  },
  "language_info": {
   "codemirror_mode": {
    "name": "ipython",
    "version": 3
   },
   "file_extension": ".py",
   "mimetype": "text/x-python",
   "name": "python",
   "nbconvert_exporter": "python",
   "pygments_lexer": "ipython3",
   "version": "3.8.5"
  },
  "toc": {
   "base_numbering": 1,
   "nav_menu": {},
   "number_sections": true,
   "sideBar": false,
   "skip_h1_title": false,
   "title_cell": "Table of Contents",
   "title_sidebar": "Contents",
   "toc_cell": false,
   "toc_position": {
    "height": "748px",
    "left": "1620px",
    "top": "82px",
    "width": "223px"
   },
   "toc_section_display": true,
   "toc_window_display": true
  },
  "varInspector": {
   "cols": {
    "lenName": 16,
    "lenType": 16,
    "lenVar": 40
   },
   "kernels_config": {
    "python": {
     "delete_cmd_postfix": "",
     "delete_cmd_prefix": "del ",
     "library": "var_list.py",
     "varRefreshCmd": "print(var_dic_list())"
    },
    "r": {
     "delete_cmd_postfix": ") ",
     "delete_cmd_prefix": "rm(",
     "library": "var_list.r",
     "varRefreshCmd": "cat(var_dic_list()) "
    }
   },
   "types_to_exclude": [
    "module",
    "function",
    "builtin_function_or_method",
    "instance",
    "_Feature"
   ],
   "window_display": false
  }
 },
 "nbformat": 4,
 "nbformat_minor": 4
}
