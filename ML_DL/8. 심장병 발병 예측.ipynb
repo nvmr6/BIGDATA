{
 "cells": [
  {
   "cell_type": "code",
   "execution_count": 1,
   "metadata": {
    "ExecuteTime": {
     "end_time": "2021-03-24T03:45:40.991815Z",
     "start_time": "2021-03-24T03:45:40.977854Z"
    }
   },
   "outputs": [
    {
     "data": {
      "text/html": [
       "\n",
       "<style>\n",
       "div.container{width:80% !important;}\n",
       "</style>\n"
      ],
      "text/plain": [
       "<IPython.core.display.HTML object>"
      ]
     },
     "metadata": {},
     "output_type": "display_data"
    }
   ],
   "source": [
    "from IPython.display import display, HTML\n",
    "display(HTML(\"\"\"\n",
    "<style>\n",
    "div.container{width:80% !important;}\n",
    "</style>\n",
    "\"\"\"))"
   ]
  },
  {
   "cell_type": "markdown",
   "metadata": {},
   "source": [
    "<font size=6>심장병 발병 예측</font>"
   ]
  },
  {
   "cell_type": "code",
   "execution_count": 2,
   "metadata": {
    "ExecuteTime": {
     "end_time": "2021-03-24T03:45:44.457460Z",
     "start_time": "2021-03-24T03:45:40.994809Z"
    }
   },
   "outputs": [],
   "source": [
    "from tensorflow.keras.models import Sequential #모델 객체 생성시생성시\n",
    "from tensorflow.keras.layers import Dense, Dropout #layer 생성시\n",
    "import numpy as np\n",
    "import pandas as pd\n",
    "import matplotlib.pyplot as plt"
   ]
  },
  {
   "cell_type": "code",
   "execution_count": 3,
   "metadata": {
    "ExecuteTime": {
     "end_time": "2021-03-24T03:45:44.648972Z",
     "start_time": "2021-03-24T03:45:44.458482Z"
    }
   },
   "outputs": [
    {
     "data": {
      "text/html": [
       "<div>\n",
       "<style scoped>\n",
       "    .dataframe tbody tr th:only-of-type {\n",
       "        vertical-align: middle;\n",
       "    }\n",
       "\n",
       "    .dataframe tbody tr th {\n",
       "        vertical-align: top;\n",
       "    }\n",
       "\n",
       "    .dataframe thead th {\n",
       "        text-align: right;\n",
       "    }\n",
       "</style>\n",
       "<table border=\"1\" class=\"dataframe\">\n",
       "  <thead>\n",
       "    <tr style=\"text-align: right;\">\n",
       "      <th></th>\n",
       "      <th>age</th>\n",
       "      <th>sex</th>\n",
       "      <th>cp</th>\n",
       "      <th>treshtbps</th>\n",
       "      <th>fbs</th>\n",
       "      <th>restecg</th>\n",
       "      <th>thalach</th>\n",
       "      <th>exang</th>\n",
       "      <th>oldpeak</th>\n",
       "      <th>slope</th>\n",
       "      <th>heartDisease</th>\n",
       "    </tr>\n",
       "  </thead>\n",
       "  <tbody>\n",
       "    <tr>\n",
       "      <th>count</th>\n",
       "      <td>303.000000</td>\n",
       "      <td>303.000000</td>\n",
       "      <td>303.000000</td>\n",
       "      <td>303.000000</td>\n",
       "      <td>303.000000</td>\n",
       "      <td>303.000000</td>\n",
       "      <td>303.000000</td>\n",
       "      <td>303.000000</td>\n",
       "      <td>303.000000</td>\n",
       "      <td>303.000000</td>\n",
       "      <td>303.000000</td>\n",
       "    </tr>\n",
       "    <tr>\n",
       "      <th>mean</th>\n",
       "      <td>54.438944</td>\n",
       "      <td>0.679868</td>\n",
       "      <td>3.158416</td>\n",
       "      <td>131.689769</td>\n",
       "      <td>0.148515</td>\n",
       "      <td>0.983498</td>\n",
       "      <td>149.607261</td>\n",
       "      <td>0.326733</td>\n",
       "      <td>1.039604</td>\n",
       "      <td>1.600660</td>\n",
       "      <td>0.458746</td>\n",
       "    </tr>\n",
       "    <tr>\n",
       "      <th>std</th>\n",
       "      <td>9.038662</td>\n",
       "      <td>0.467299</td>\n",
       "      <td>0.960126</td>\n",
       "      <td>17.599748</td>\n",
       "      <td>0.356198</td>\n",
       "      <td>0.994883</td>\n",
       "      <td>22.875003</td>\n",
       "      <td>0.469794</td>\n",
       "      <td>1.161075</td>\n",
       "      <td>0.616226</td>\n",
       "      <td>0.499120</td>\n",
       "    </tr>\n",
       "    <tr>\n",
       "      <th>min</th>\n",
       "      <td>29.000000</td>\n",
       "      <td>0.000000</td>\n",
       "      <td>1.000000</td>\n",
       "      <td>94.000000</td>\n",
       "      <td>0.000000</td>\n",
       "      <td>0.000000</td>\n",
       "      <td>71.000000</td>\n",
       "      <td>0.000000</td>\n",
       "      <td>0.000000</td>\n",
       "      <td>1.000000</td>\n",
       "      <td>0.000000</td>\n",
       "    </tr>\n",
       "    <tr>\n",
       "      <th>25%</th>\n",
       "      <td>48.000000</td>\n",
       "      <td>0.000000</td>\n",
       "      <td>3.000000</td>\n",
       "      <td>120.000000</td>\n",
       "      <td>0.000000</td>\n",
       "      <td>0.000000</td>\n",
       "      <td>133.500000</td>\n",
       "      <td>0.000000</td>\n",
       "      <td>0.000000</td>\n",
       "      <td>1.000000</td>\n",
       "      <td>0.000000</td>\n",
       "    </tr>\n",
       "    <tr>\n",
       "      <th>50%</th>\n",
       "      <td>56.000000</td>\n",
       "      <td>1.000000</td>\n",
       "      <td>3.000000</td>\n",
       "      <td>130.000000</td>\n",
       "      <td>0.000000</td>\n",
       "      <td>0.000000</td>\n",
       "      <td>153.000000</td>\n",
       "      <td>0.000000</td>\n",
       "      <td>0.800000</td>\n",
       "      <td>2.000000</td>\n",
       "      <td>0.000000</td>\n",
       "    </tr>\n",
       "    <tr>\n",
       "      <th>75%</th>\n",
       "      <td>61.000000</td>\n",
       "      <td>1.000000</td>\n",
       "      <td>4.000000</td>\n",
       "      <td>140.000000</td>\n",
       "      <td>0.000000</td>\n",
       "      <td>2.000000</td>\n",
       "      <td>166.000000</td>\n",
       "      <td>1.000000</td>\n",
       "      <td>1.600000</td>\n",
       "      <td>2.000000</td>\n",
       "      <td>1.000000</td>\n",
       "    </tr>\n",
       "    <tr>\n",
       "      <th>max</th>\n",
       "      <td>77.000000</td>\n",
       "      <td>1.000000</td>\n",
       "      <td>4.000000</td>\n",
       "      <td>200.000000</td>\n",
       "      <td>1.000000</td>\n",
       "      <td>2.000000</td>\n",
       "      <td>202.000000</td>\n",
       "      <td>1.000000</td>\n",
       "      <td>6.200000</td>\n",
       "      <td>3.000000</td>\n",
       "      <td>1.000000</td>\n",
       "    </tr>\n",
       "  </tbody>\n",
       "</table>\n",
       "</div>"
      ],
      "text/plain": [
       "              age         sex          cp   treshtbps         fbs     restecg  \\\n",
       "count  303.000000  303.000000  303.000000  303.000000  303.000000  303.000000   \n",
       "mean    54.438944    0.679868    3.158416  131.689769    0.148515    0.983498   \n",
       "std      9.038662    0.467299    0.960126   17.599748    0.356198    0.994883   \n",
       "min     29.000000    0.000000    1.000000   94.000000    0.000000    0.000000   \n",
       "25%     48.000000    0.000000    3.000000  120.000000    0.000000    0.000000   \n",
       "50%     56.000000    1.000000    3.000000  130.000000    0.000000    0.000000   \n",
       "75%     61.000000    1.000000    4.000000  140.000000    0.000000    2.000000   \n",
       "max     77.000000    1.000000    4.000000  200.000000    1.000000    2.000000   \n",
       "\n",
       "          thalach       exang     oldpeak       slope  heartDisease  \n",
       "count  303.000000  303.000000  303.000000  303.000000    303.000000  \n",
       "mean   149.607261    0.326733    1.039604    1.600660      0.458746  \n",
       "std     22.875003    0.469794    1.161075    0.616226      0.499120  \n",
       "min     71.000000    0.000000    0.000000    1.000000      0.000000  \n",
       "25%    133.500000    0.000000    0.000000    1.000000      0.000000  \n",
       "50%    153.000000    0.000000    0.800000    2.000000      0.000000  \n",
       "75%    166.000000    1.000000    1.600000    2.000000      1.000000  \n",
       "max    202.000000    1.000000    6.200000    3.000000      1.000000  "
      ]
     },
     "execution_count": 3,
     "metadata": {},
     "output_type": "execute_result"
    }
   ],
   "source": [
    "#1. 데이터 셋 생성\n",
    "raw_data = pd.read_excel('data/heart-disease.xlsx')\n",
    "raw_data.describe()"
   ]
  },
  {
   "cell_type": "code",
   "execution_count": 12,
   "metadata": {
    "ExecuteTime": {
     "end_time": "2021-03-24T03:48:33.217860Z",
     "start_time": "2021-03-24T03:48:33.205893Z"
    }
   },
   "outputs": [
    {
     "name": "stdout",
     "output_type": "stream",
     "text": [
      "<class 'pandas.core.frame.DataFrame'>\n",
      "RangeIndex: 303 entries, 0 to 302\n",
      "Data columns (total 14 columns):\n",
      " #   Column        Non-Null Count  Dtype  \n",
      "---  ------        --------------  -----  \n",
      " 0   age           303 non-null    int64  \n",
      " 1   sex           303 non-null    int64  \n",
      " 2   cp            303 non-null    int64  \n",
      " 3   treshtbps     303 non-null    int64  \n",
      " 4   chol          303 non-null    object \n",
      " 5   fbs           303 non-null    int64  \n",
      " 6   restecg       303 non-null    int64  \n",
      " 7   thalach       303 non-null    int64  \n",
      " 8   exang         303 non-null    int64  \n",
      " 9   oldpeak       303 non-null    float64\n",
      " 10  slope         303 non-null    int64  \n",
      " 11  ca            303 non-null    object \n",
      " 12  hsl           303 non-null    object \n",
      " 13  heartDisease  303 non-null    int64  \n",
      "dtypes: float64(1), int64(10), object(3)\n",
      "memory usage: 33.3+ KB\n"
     ]
    }
   ],
   "source": [
    "raw_data.info()"
   ]
  },
  {
   "cell_type": "code",
   "execution_count": 5,
   "metadata": {
    "ExecuteTime": {
     "end_time": "2021-03-24T03:45:44.743068Z",
     "start_time": "2021-03-24T03:45:44.670890Z"
    }
   },
   "outputs": [
    {
     "data": {
      "text/html": [
       "<div>\n",
       "<style scoped>\n",
       "    .dataframe tbody tr th:only-of-type {\n",
       "        vertical-align: middle;\n",
       "    }\n",
       "\n",
       "    .dataframe tbody tr th {\n",
       "        vertical-align: top;\n",
       "    }\n",
       "\n",
       "    .dataframe thead th {\n",
       "        text-align: right;\n",
       "    }\n",
       "</style>\n",
       "<table border=\"1\" class=\"dataframe\">\n",
       "  <thead>\n",
       "    <tr style=\"text-align: right;\">\n",
       "      <th></th>\n",
       "      <th>age</th>\n",
       "      <th>sex</th>\n",
       "      <th>cp</th>\n",
       "      <th>treshtbps</th>\n",
       "      <th>chol</th>\n",
       "      <th>fbs</th>\n",
       "      <th>restecg</th>\n",
       "      <th>thalach</th>\n",
       "      <th>exang</th>\n",
       "      <th>oldpeak</th>\n",
       "      <th>slope</th>\n",
       "      <th>ca</th>\n",
       "      <th>hsl</th>\n",
       "      <th>heartDisease</th>\n",
       "    </tr>\n",
       "  </thead>\n",
       "  <tbody>\n",
       "    <tr>\n",
       "      <th>2</th>\n",
       "      <td>67</td>\n",
       "      <td>1</td>\n",
       "      <td>4</td>\n",
       "      <td>120</td>\n",
       "      <td>?</td>\n",
       "      <td>0</td>\n",
       "      <td>2</td>\n",
       "      <td>129</td>\n",
       "      <td>1</td>\n",
       "      <td>2.6</td>\n",
       "      <td>2</td>\n",
       "      <td>2</td>\n",
       "      <td>7</td>\n",
       "      <td>1</td>\n",
       "    </tr>\n",
       "  </tbody>\n",
       "</table>\n",
       "</div>"
      ],
      "text/plain": [
       "   age  sex  cp  treshtbps chol  fbs  restecg  thalach  exang  oldpeak  slope  \\\n",
       "2   67    1   4        120    ?    0        2      129      1      2.6      2   \n",
       "\n",
       "  ca hsl  heartDisease  \n",
       "2  2   7             1  "
      ]
     },
     "execution_count": 5,
     "metadata": {},
     "output_type": "execute_result"
    }
   ],
   "source": [
    "raw_data[raw_data['chol']=='?']"
   ]
  },
  {
   "cell_type": "code",
   "execution_count": 6,
   "metadata": {
    "ExecuteTime": {
     "end_time": "2021-03-24T03:45:44.821302Z",
     "start_time": "2021-03-24T03:45:44.745063Z"
    }
   },
   "outputs": [
    {
     "data": {
      "text/html": [
       "<div>\n",
       "<style scoped>\n",
       "    .dataframe tbody tr th:only-of-type {\n",
       "        vertical-align: middle;\n",
       "    }\n",
       "\n",
       "    .dataframe tbody tr th {\n",
       "        vertical-align: top;\n",
       "    }\n",
       "\n",
       "    .dataframe thead th {\n",
       "        text-align: right;\n",
       "    }\n",
       "</style>\n",
       "<table border=\"1\" class=\"dataframe\">\n",
       "  <thead>\n",
       "    <tr style=\"text-align: right;\">\n",
       "      <th></th>\n",
       "      <th>age</th>\n",
       "      <th>sex</th>\n",
       "      <th>cp</th>\n",
       "      <th>treshtbps</th>\n",
       "      <th>chol</th>\n",
       "      <th>fbs</th>\n",
       "      <th>restecg</th>\n",
       "      <th>thalach</th>\n",
       "      <th>exang</th>\n",
       "      <th>oldpeak</th>\n",
       "      <th>slope</th>\n",
       "      <th>ca</th>\n",
       "      <th>hsl</th>\n",
       "      <th>heartDisease</th>\n",
       "    </tr>\n",
       "  </thead>\n",
       "  <tbody>\n",
       "    <tr>\n",
       "      <th>166</th>\n",
       "      <td>52</td>\n",
       "      <td>1</td>\n",
       "      <td>3</td>\n",
       "      <td>138</td>\n",
       "      <td>223</td>\n",
       "      <td>0</td>\n",
       "      <td>0</td>\n",
       "      <td>169</td>\n",
       "      <td>0</td>\n",
       "      <td>0.0</td>\n",
       "      <td>1</td>\n",
       "      <td>?</td>\n",
       "      <td>3</td>\n",
       "      <td>0</td>\n",
       "    </tr>\n",
       "    <tr>\n",
       "      <th>192</th>\n",
       "      <td>43</td>\n",
       "      <td>1</td>\n",
       "      <td>4</td>\n",
       "      <td>132</td>\n",
       "      <td>247</td>\n",
       "      <td>1</td>\n",
       "      <td>2</td>\n",
       "      <td>143</td>\n",
       "      <td>1</td>\n",
       "      <td>0.1</td>\n",
       "      <td>2</td>\n",
       "      <td>?</td>\n",
       "      <td>7</td>\n",
       "      <td>1</td>\n",
       "    </tr>\n",
       "    <tr>\n",
       "      <th>287</th>\n",
       "      <td>58</td>\n",
       "      <td>1</td>\n",
       "      <td>2</td>\n",
       "      <td>125</td>\n",
       "      <td>220</td>\n",
       "      <td>0</td>\n",
       "      <td>0</td>\n",
       "      <td>144</td>\n",
       "      <td>0</td>\n",
       "      <td>0.4</td>\n",
       "      <td>2</td>\n",
       "      <td>?</td>\n",
       "      <td>7</td>\n",
       "      <td>0</td>\n",
       "    </tr>\n",
       "    <tr>\n",
       "      <th>302</th>\n",
       "      <td>38</td>\n",
       "      <td>1</td>\n",
       "      <td>3</td>\n",
       "      <td>138</td>\n",
       "      <td>175</td>\n",
       "      <td>0</td>\n",
       "      <td>0</td>\n",
       "      <td>173</td>\n",
       "      <td>0</td>\n",
       "      <td>0.0</td>\n",
       "      <td>1</td>\n",
       "      <td>?</td>\n",
       "      <td>3</td>\n",
       "      <td>0</td>\n",
       "    </tr>\n",
       "  </tbody>\n",
       "</table>\n",
       "</div>"
      ],
      "text/plain": [
       "     age  sex  cp  treshtbps chol  fbs  restecg  thalach  exang  oldpeak  \\\n",
       "166   52    1   3        138  223    0        0      169      0      0.0   \n",
       "192   43    1   4        132  247    1        2      143      1      0.1   \n",
       "287   58    1   2        125  220    0        0      144      0      0.4   \n",
       "302   38    1   3        138  175    0        0      173      0      0.0   \n",
       "\n",
       "     slope ca hsl  heartDisease  \n",
       "166      1  ?   3             0  \n",
       "192      2  ?   7             1  \n",
       "287      2  ?   7             0  \n",
       "302      1  ?   3             0  "
      ]
     },
     "execution_count": 6,
     "metadata": {},
     "output_type": "execute_result"
    }
   ],
   "source": [
    "raw_data[raw_data['ca']=='?']"
   ]
  },
  {
   "cell_type": "code",
   "execution_count": 7,
   "metadata": {
    "ExecuteTime": {
     "end_time": "2021-03-24T03:45:44.884569Z",
     "start_time": "2021-03-24T03:45:44.825267Z"
    }
   },
   "outputs": [
    {
     "data": {
      "text/html": [
       "<div>\n",
       "<style scoped>\n",
       "    .dataframe tbody tr th:only-of-type {\n",
       "        vertical-align: middle;\n",
       "    }\n",
       "\n",
       "    .dataframe tbody tr th {\n",
       "        vertical-align: top;\n",
       "    }\n",
       "\n",
       "    .dataframe thead th {\n",
       "        text-align: right;\n",
       "    }\n",
       "</style>\n",
       "<table border=\"1\" class=\"dataframe\">\n",
       "  <thead>\n",
       "    <tr style=\"text-align: right;\">\n",
       "      <th></th>\n",
       "      <th>age</th>\n",
       "      <th>sex</th>\n",
       "      <th>cp</th>\n",
       "      <th>treshtbps</th>\n",
       "      <th>chol</th>\n",
       "      <th>fbs</th>\n",
       "      <th>restecg</th>\n",
       "      <th>thalach</th>\n",
       "      <th>exang</th>\n",
       "      <th>oldpeak</th>\n",
       "      <th>slope</th>\n",
       "      <th>ca</th>\n",
       "      <th>hsl</th>\n",
       "      <th>heartDisease</th>\n",
       "    </tr>\n",
       "  </thead>\n",
       "  <tbody>\n",
       "    <tr>\n",
       "      <th>87</th>\n",
       "      <td>53</td>\n",
       "      <td>0</td>\n",
       "      <td>3</td>\n",
       "      <td>128</td>\n",
       "      <td>216</td>\n",
       "      <td>0</td>\n",
       "      <td>2</td>\n",
       "      <td>115</td>\n",
       "      <td>0</td>\n",
       "      <td>0.0</td>\n",
       "      <td>1</td>\n",
       "      <td>0</td>\n",
       "      <td>?</td>\n",
       "      <td>0</td>\n",
       "    </tr>\n",
       "    <tr>\n",
       "      <th>266</th>\n",
       "      <td>52</td>\n",
       "      <td>1</td>\n",
       "      <td>4</td>\n",
       "      <td>128</td>\n",
       "      <td>204</td>\n",
       "      <td>1</td>\n",
       "      <td>0</td>\n",
       "      <td>156</td>\n",
       "      <td>1</td>\n",
       "      <td>1.0</td>\n",
       "      <td>2</td>\n",
       "      <td>0</td>\n",
       "      <td>?</td>\n",
       "      <td>1</td>\n",
       "    </tr>\n",
       "  </tbody>\n",
       "</table>\n",
       "</div>"
      ],
      "text/plain": [
       "     age  sex  cp  treshtbps chol  fbs  restecg  thalach  exang  oldpeak  \\\n",
       "87    53    0   3        128  216    0        2      115      0      0.0   \n",
       "266   52    1   4        128  204    1        0      156      1      1.0   \n",
       "\n",
       "     slope ca hsl  heartDisease  \n",
       "87       1  0   ?             0  \n",
       "266      2  0   ?             1  "
      ]
     },
     "execution_count": 7,
     "metadata": {},
     "output_type": "execute_result"
    }
   ],
   "source": [
    "raw_data[raw_data['hsl']=='?']"
   ]
  },
  {
   "cell_type": "code",
   "execution_count": 27,
   "metadata": {
    "ExecuteTime": {
     "end_time": "2021-03-24T04:17:23.167308Z",
     "start_time": "2021-03-24T04:17:23.156344Z"
    }
   },
   "outputs": [
    {
     "data": {
      "text/plain": [
       "age             0\n",
       "sex             0\n",
       "cp              0\n",
       "treshtbps       0\n",
       "chol            0\n",
       "fbs             0\n",
       "restecg         0\n",
       "thalach         0\n",
       "exang           0\n",
       "oldpeak         0\n",
       "slope           0\n",
       "ca              0\n",
       "hsl             0\n",
       "heartDisease    0\n",
       "dtype: int64"
      ]
     },
     "execution_count": 27,
     "metadata": {},
     "output_type": "execute_result"
    }
   ],
   "source": [
    "clean_data = raw_data.replace(\"?\", np.nan)\n",
    "clean_data.dropna(inplace=True)\n",
    "clean_data.isna().sum()"
   ]
  },
  {
   "cell_type": "code",
   "execution_count": 13,
   "metadata": {
    "ExecuteTime": {
     "end_time": "2021-03-24T03:50:37.019261Z",
     "start_time": "2021-03-24T03:50:37.006296Z"
    }
   },
   "outputs": [
    {
     "data": {
      "text/plain": [
       "Index(['age', 'sex', 'cp', 'treshtbps', 'chol', 'fbs', 'restecg', 'thalach',\n",
       "       'exang', 'oldpeak', 'slope', 'ca', 'hsl', 'heartDisease'],\n",
       "      dtype='object')"
      ]
     },
     "execution_count": 13,
     "metadata": {},
     "output_type": "execute_result"
    }
   ],
   "source": [
    "clean_data.columns"
   ]
  },
  {
   "cell_type": "code",
   "execution_count": 18,
   "metadata": {
    "ExecuteTime": {
     "end_time": "2021-03-24T03:54:34.988951Z",
     "start_time": "2021-03-24T03:54:34.974989Z"
    }
   },
   "outputs": [],
   "source": [
    "Input = clean_data.iloc[:,:-1]\n",
    "Target = clean_data.iloc[:,[-1]]"
   ]
  },
  {
   "cell_type": "code",
   "execution_count": 20,
   "metadata": {
    "ExecuteTime": {
     "end_time": "2021-03-24T03:56:13.317854Z",
     "start_time": "2021-03-24T03:56:13.303871Z"
    }
   },
   "outputs": [
    {
     "data": {
      "text/plain": [
       "0.4594594594594595"
      ]
     },
     "execution_count": 20,
     "metadata": {},
     "output_type": "execute_result"
    }
   ],
   "source": [
    "# 심장병 걸린 데이터 비율\n",
    "Target['heartDisease'].mean()"
   ]
  },
  {
   "cell_type": "code",
   "execution_count": 23,
   "metadata": {
    "ExecuteTime": {
     "end_time": "2021-03-24T04:05:38.755132Z",
     "start_time": "2021-03-24T04:05:38.725212Z"
    }
   },
   "outputs": [
    {
     "data": {
      "text/html": [
       "<div>\n",
       "<style scoped>\n",
       "    .dataframe tbody tr th:only-of-type {\n",
       "        vertical-align: middle;\n",
       "    }\n",
       "\n",
       "    .dataframe tbody tr th {\n",
       "        vertical-align: top;\n",
       "    }\n",
       "\n",
       "    .dataframe thead th {\n",
       "        text-align: right;\n",
       "    }\n",
       "</style>\n",
       "<table border=\"1\" class=\"dataframe\">\n",
       "  <thead>\n",
       "    <tr style=\"text-align: right;\">\n",
       "      <th></th>\n",
       "      <th>0</th>\n",
       "      <th>1</th>\n",
       "      <th>2</th>\n",
       "      <th>3</th>\n",
       "      <th>4</th>\n",
       "      <th>5</th>\n",
       "      <th>6</th>\n",
       "      <th>7</th>\n",
       "      <th>8</th>\n",
       "      <th>9</th>\n",
       "      <th>10</th>\n",
       "      <th>11</th>\n",
       "      <th>12</th>\n",
       "    </tr>\n",
       "  </thead>\n",
       "  <tbody>\n",
       "    <tr>\n",
       "      <th>0</th>\n",
       "      <td>0.942285</td>\n",
       "      <td>0.692820</td>\n",
       "      <td>-2.236793</td>\n",
       "      <td>0.747441</td>\n",
       "      <td>-0.277228</td>\n",
       "      <td>2.425638</td>\n",
       "      <td>1.020526</td>\n",
       "      <td>0.014451</td>\n",
       "      <td>-0.692820</td>\n",
       "      <td>1.074839</td>\n",
       "      <td>2.264087</td>\n",
       "      <td>-0.718421</td>\n",
       "      <td>0.660262</td>\n",
       "    </tr>\n",
       "    <tr>\n",
       "      <th>1</th>\n",
       "      <td>1.385714</td>\n",
       "      <td>0.692820</td>\n",
       "      <td>0.876486</td>\n",
       "      <td>1.592523</td>\n",
       "      <td>0.742265</td>\n",
       "      <td>-0.412263</td>\n",
       "      <td>-0.993312</td>\n",
       "      <td>-1.818794</td>\n",
       "      <td>1.443376</td>\n",
       "      <td>0.386756</td>\n",
       "      <td>0.645320</td>\n",
       "      <td>2.487397</td>\n",
       "      <td>-0.890830</td>\n",
       "    </tr>\n",
       "    <tr>\n",
       "      <th>2</th>\n",
       "      <td>-1.939999</td>\n",
       "      <td>0.692820</td>\n",
       "      <td>-0.161274</td>\n",
       "      <td>-0.097641</td>\n",
       "      <td>0.049779</td>\n",
       "      <td>-0.412263</td>\n",
       "      <td>-0.993312</td>\n",
       "      <td>1.629453</td>\n",
       "      <td>-0.692820</td>\n",
       "      <td>2.106963</td>\n",
       "      <td>2.264087</td>\n",
       "      <td>-0.718421</td>\n",
       "      <td>-0.890830</td>\n",
       "    </tr>\n",
       "    <tr>\n",
       "      <th>3</th>\n",
       "      <td>-1.496571</td>\n",
       "      <td>-1.443376</td>\n",
       "      <td>-1.199033</td>\n",
       "      <td>-0.097641</td>\n",
       "      <td>-0.835064</td>\n",
       "      <td>-0.412263</td>\n",
       "      <td>1.020526</td>\n",
       "      <td>0.974723</td>\n",
       "      <td>-0.692820</td>\n",
       "      <td>0.300746</td>\n",
       "      <td>-0.973448</td>\n",
       "      <td>-0.718421</td>\n",
       "      <td>-0.890830</td>\n",
       "    </tr>\n",
       "    <tr>\n",
       "      <th>4</th>\n",
       "      <td>0.166286</td>\n",
       "      <td>0.692820</td>\n",
       "      <td>-1.199033</td>\n",
       "      <td>-0.661029</td>\n",
       "      <td>-0.219521</td>\n",
       "      <td>-0.412263</td>\n",
       "      <td>-0.993312</td>\n",
       "      <td>1.236615</td>\n",
       "      <td>-0.692820</td>\n",
       "      <td>-0.215316</td>\n",
       "      <td>-0.973448</td>\n",
       "      <td>-0.718421</td>\n",
       "      <td>-0.890830</td>\n",
       "    </tr>\n",
       "    <tr>\n",
       "      <th>...</th>\n",
       "      <td>...</td>\n",
       "      <td>...</td>\n",
       "      <td>...</td>\n",
       "      <td>...</td>\n",
       "      <td>...</td>\n",
       "      <td>...</td>\n",
       "      <td>...</td>\n",
       "      <td>...</td>\n",
       "      <td>...</td>\n",
       "      <td>...</td>\n",
       "      <td>...</td>\n",
       "      <td>...</td>\n",
       "      <td>...</td>\n",
       "    </tr>\n",
       "    <tr>\n",
       "      <th>291</th>\n",
       "      <td>0.277143</td>\n",
       "      <td>-1.443376</td>\n",
       "      <td>0.876486</td>\n",
       "      <td>0.465747</td>\n",
       "      <td>-0.123343</td>\n",
       "      <td>-0.412263</td>\n",
       "      <td>-0.993312</td>\n",
       "      <td>-1.164064</td>\n",
       "      <td>1.443376</td>\n",
       "      <td>-0.731379</td>\n",
       "      <td>0.645320</td>\n",
       "      <td>-0.718421</td>\n",
       "      <td>1.177293</td>\n",
       "    </tr>\n",
       "    <tr>\n",
       "      <th>292</th>\n",
       "      <td>-1.053142</td>\n",
       "      <td>0.692820</td>\n",
       "      <td>-2.236793</td>\n",
       "      <td>-1.224417</td>\n",
       "      <td>0.319079</td>\n",
       "      <td>-0.412263</td>\n",
       "      <td>-0.993312</td>\n",
       "      <td>-0.771225</td>\n",
       "      <td>-0.692820</td>\n",
       "      <td>0.128725</td>\n",
       "      <td>0.645320</td>\n",
       "      <td>-0.718421</td>\n",
       "      <td>1.177293</td>\n",
       "    </tr>\n",
       "    <tr>\n",
       "      <th>293</th>\n",
       "      <td>1.496571</td>\n",
       "      <td>0.692820</td>\n",
       "      <td>0.876486</td>\n",
       "      <td>0.691102</td>\n",
       "      <td>-1.046657</td>\n",
       "      <td>2.425638</td>\n",
       "      <td>-0.993312</td>\n",
       "      <td>-0.378387</td>\n",
       "      <td>-0.692820</td>\n",
       "      <td>2.020953</td>\n",
       "      <td>0.645320</td>\n",
       "      <td>1.418791</td>\n",
       "      <td>1.177293</td>\n",
       "    </tr>\n",
       "    <tr>\n",
       "      <th>294</th>\n",
       "      <td>0.277143</td>\n",
       "      <td>0.692820</td>\n",
       "      <td>0.876486</td>\n",
       "      <td>-0.097641</td>\n",
       "      <td>-2.239272</td>\n",
       "      <td>-0.412263</td>\n",
       "      <td>-0.993312</td>\n",
       "      <td>-1.513253</td>\n",
       "      <td>1.443376</td>\n",
       "      <td>0.128725</td>\n",
       "      <td>0.645320</td>\n",
       "      <td>0.350185</td>\n",
       "      <td>1.177293</td>\n",
       "    </tr>\n",
       "    <tr>\n",
       "      <th>295</th>\n",
       "      <td>0.277143</td>\n",
       "      <td>-1.443376</td>\n",
       "      <td>-1.199033</td>\n",
       "      <td>-0.097641</td>\n",
       "      <td>-0.219521</td>\n",
       "      <td>-0.412263</td>\n",
       "      <td>1.020526</td>\n",
       "      <td>1.062020</td>\n",
       "      <td>-0.692820</td>\n",
       "      <td>-0.903399</td>\n",
       "      <td>0.645320</td>\n",
       "      <td>0.350185</td>\n",
       "      <td>-0.890830</td>\n",
       "    </tr>\n",
       "  </tbody>\n",
       "</table>\n",
       "<p>296 rows × 13 columns</p>\n",
       "</div>"
      ],
      "text/plain": [
       "           0         1         2         3         4         5         6   \\\n",
       "0    0.942285  0.692820 -2.236793  0.747441 -0.277228  2.425638  1.020526   \n",
       "1    1.385714  0.692820  0.876486  1.592523  0.742265 -0.412263 -0.993312   \n",
       "2   -1.939999  0.692820 -0.161274 -0.097641  0.049779 -0.412263 -0.993312   \n",
       "3   -1.496571 -1.443376 -1.199033 -0.097641 -0.835064 -0.412263  1.020526   \n",
       "4    0.166286  0.692820 -1.199033 -0.661029 -0.219521 -0.412263 -0.993312   \n",
       "..        ...       ...       ...       ...       ...       ...       ...   \n",
       "291  0.277143 -1.443376  0.876486  0.465747 -0.123343 -0.412263 -0.993312   \n",
       "292 -1.053142  0.692820 -2.236793 -1.224417  0.319079 -0.412263 -0.993312   \n",
       "293  1.496571  0.692820  0.876486  0.691102 -1.046657  2.425638 -0.993312   \n",
       "294  0.277143  0.692820  0.876486 -0.097641 -2.239272 -0.412263 -0.993312   \n",
       "295  0.277143 -1.443376 -1.199033 -0.097641 -0.219521 -0.412263  1.020526   \n",
       "\n",
       "           7         8         9         10        11        12  \n",
       "0    0.014451 -0.692820  1.074839  2.264087 -0.718421  0.660262  \n",
       "1   -1.818794  1.443376  0.386756  0.645320  2.487397 -0.890830  \n",
       "2    1.629453 -0.692820  2.106963  2.264087 -0.718421 -0.890830  \n",
       "3    0.974723 -0.692820  0.300746 -0.973448 -0.718421 -0.890830  \n",
       "4    1.236615 -0.692820 -0.215316 -0.973448 -0.718421 -0.890830  \n",
       "..        ...       ...       ...       ...       ...       ...  \n",
       "291 -1.164064  1.443376 -0.731379  0.645320 -0.718421  1.177293  \n",
       "292 -0.771225 -0.692820  0.128725  0.645320 -0.718421  1.177293  \n",
       "293 -0.378387 -0.692820  2.020953  0.645320  1.418791  1.177293  \n",
       "294 -1.513253  1.443376  0.128725  0.645320  0.350185  1.177293  \n",
       "295  1.062020 -0.692820 -0.903399  0.645320  0.350185 -0.890830  \n",
       "\n",
       "[296 rows x 13 columns]"
      ]
     },
     "execution_count": 23,
     "metadata": {},
     "output_type": "execute_result"
    }
   ],
   "source": [
    "#scale 조정\n",
    "from sklearn.preprocessing import StandardScaler\n",
    "scaler = StandardScaler()\n",
    "scaler.fit(Input)\n",
    "scaled_input = scaler.transform(Input)\n",
    "scaled_input = pd.DataFrame(scaled_input)\n",
    "scaled_input"
   ]
  },
  {
   "cell_type": "code",
   "execution_count": 25,
   "metadata": {
    "ExecuteTime": {
     "end_time": "2021-03-24T04:13:25.462628Z",
     "start_time": "2021-03-24T04:13:25.452656Z"
    }
   },
   "outputs": [
    {
     "data": {
      "text/plain": [
       "((207, 13), (89, 13), (207, 1), (89, 1))"
      ]
     },
     "execution_count": 25,
     "metadata": {},
     "output_type": "execute_result"
    }
   ],
   "source": [
    "#7:3 으로 학습 데이터, 테스트 데이터 분류\n",
    "from sklearn.model_selection import train_test_split\n",
    "X_train, X_test, Y_train, Y_test = train_test_split(scaled_input, Target, test_size=0.3, random_state=5)\n",
    "X_train.shape, X_test.shape, Y_train.shape, Y_test.shape"
   ]
  },
  {
   "cell_type": "code",
   "execution_count": 34,
   "metadata": {
    "ExecuteTime": {
     "end_time": "2021-03-24T06:08:10.868355Z",
     "start_time": "2021-03-24T06:08:10.812529Z"
    }
   },
   "outputs": [
    {
     "name": "stdout",
     "output_type": "stream",
     "text": [
      "Model: \"sequential_2\"\n",
      "_________________________________________________________________\n",
      "Layer (type)                 Output Shape              Param #   \n",
      "=================================================================\n",
      "dense_8 (Dense)              (None, 500)               7000      \n",
      "_________________________________________________________________\n",
      "dropout_6 (Dropout)          (None, 500)               0         \n",
      "_________________________________________________________________\n",
      "dense_9 (Dense)              (None, 200)               100200    \n",
      "_________________________________________________________________\n",
      "dropout_7 (Dropout)          (None, 200)               0         \n",
      "_________________________________________________________________\n",
      "dense_10 (Dense)             (None, 100)               20100     \n",
      "_________________________________________________________________\n",
      "dropout_8 (Dropout)          (None, 100)               0         \n",
      "_________________________________________________________________\n",
      "dense_11 (Dense)             (None, 1)                 101       \n",
      "=================================================================\n",
      "Total params: 127,401\n",
      "Trainable params: 127,401\n",
      "Non-trainable params: 0\n",
      "_________________________________________________________________\n"
     ]
    }
   ],
   "source": [
    "#2. 모델 구성\n",
    "model = Sequential()\n",
    "model.add(Dense(units=500, input_dim=13, activation=\"tanh\"))\n",
    "#과적합을 해결하고자 모호하게 기억\n",
    "model.add(Dropout(0.1))\n",
    "model.add(Dense(units=200, activation=\"tanh\"))\n",
    "model.add(Dropout(0.1))\n",
    "model.add(Dense(units=100, activation=\"tanh\"))\n",
    "model.add(Dropout(0.1))\n",
    "model.add(Dense(units=1, activation=\"sigmoid\"))\n",
    "model.summary()"
   ]
  },
  {
   "cell_type": "code",
   "execution_count": 35,
   "metadata": {
    "ExecuteTime": {
     "end_time": "2021-03-24T06:08:11.071114Z",
     "start_time": "2021-03-24T06:08:11.057850Z"
    }
   },
   "outputs": [],
   "source": [
    "#3. 모델 학습과정 설정\n",
    "#accuracy: 예측과 실제가 동일한 건수 / 전체 건수\n",
    "model.compile(loss=\"mse\", optimizer=\"adam\", metrics=[\"accuracy\"])\n",
    "#recall: 실제가 참인데 예측도 참인 경우 / 실제 참 전체 건수\n",
    "#model.compile(loss=\"categorical_crossentropy\", optimizer=\"nadam\", metrics=[metrics.Recall()])\n",
    "#precision: 참으로 예측한 건수 / 실제 참 전체 건수\n",
    "#model.compile(loss=\"categorical_crossentropy\", optimizer=\"nadam\", metrics=[metrics.Precison()])"
   ]
  },
  {
   "cell_type": "code",
   "execution_count": 43,
   "metadata": {
    "ExecuteTime": {
     "end_time": "2021-03-24T06:08:46.131616Z",
     "start_time": "2021-03-24T06:08:43.667766Z"
    }
   },
   "outputs": [
    {
     "name": "stdout",
     "output_type": "stream",
     "text": [
      "Epoch 1/50\n",
      "4/4 [==============================] - 0s 31ms/step - loss: 0.0282 - accuracy: 0.9697 - val_loss: 0.1373 - val_accuracy: 0.8095\n",
      "Epoch 2/50\n",
      "4/4 [==============================] - 0s 14ms/step - loss: 0.0304 - accuracy: 0.9879 - val_loss: 0.1409 - val_accuracy: 0.8095\n",
      "Epoch 3/50\n",
      "4/4 [==============================] - 0s 14ms/step - loss: 0.0264 - accuracy: 0.9818 - val_loss: 0.1318 - val_accuracy: 0.8571\n",
      "Epoch 4/50\n",
      "4/4 [==============================] - 0s 14ms/step - loss: 0.0274 - accuracy: 0.9758 - val_loss: 0.1320 - val_accuracy: 0.8333\n",
      "Epoch 5/50\n",
      "4/4 [==============================] - 0s 14ms/step - loss: 0.0250 - accuracy: 0.9879 - val_loss: 0.1320 - val_accuracy: 0.8333\n",
      "Epoch 6/50\n",
      "4/4 [==============================] - 0s 13ms/step - loss: 0.0234 - accuracy: 0.9818 - val_loss: 0.1370 - val_accuracy: 0.8333\n",
      "Epoch 7/50\n",
      "4/4 [==============================] - 0s 14ms/step - loss: 0.0216 - accuracy: 0.9879 - val_loss: 0.1419 - val_accuracy: 0.8333\n",
      "Epoch 8/50\n",
      "4/4 [==============================] - 0s 14ms/step - loss: 0.0221 - accuracy: 0.9879 - val_loss: 0.1415 - val_accuracy: 0.8333\n",
      "Epoch 9/50\n",
      "4/4 [==============================] - 0s 14ms/step - loss: 0.0197 - accuracy: 0.9879 - val_loss: 0.1383 - val_accuracy: 0.8333\n",
      "Epoch 10/50\n",
      "4/4 [==============================] - 0s 14ms/step - loss: 0.0225 - accuracy: 0.9818 - val_loss: 0.1409 - val_accuracy: 0.8333\n",
      "Epoch 11/50\n",
      "4/4 [==============================] - 0s 14ms/step - loss: 0.0206 - accuracy: 0.9879 - val_loss: 0.1515 - val_accuracy: 0.8333\n",
      "Epoch 12/50\n",
      "4/4 [==============================] - 0s 14ms/step - loss: 0.0205 - accuracy: 0.9879 - val_loss: 0.1506 - val_accuracy: 0.8333\n",
      "Epoch 13/50\n",
      "4/4 [==============================] - 0s 14ms/step - loss: 0.0225 - accuracy: 0.9818 - val_loss: 0.1376 - val_accuracy: 0.8333\n",
      "Epoch 14/50\n",
      "4/4 [==============================] - 0s 15ms/step - loss: 0.0184 - accuracy: 0.9879 - val_loss: 0.1278 - val_accuracy: 0.8333\n",
      "Epoch 15/50\n",
      "4/4 [==============================] - 0s 14ms/step - loss: 0.0189 - accuracy: 0.9879 - val_loss: 0.1286 - val_accuracy: 0.8333\n",
      "Epoch 16/50\n",
      "4/4 [==============================] - 0s 14ms/step - loss: 0.0201 - accuracy: 0.9879 - val_loss: 0.1346 - val_accuracy: 0.8333\n",
      "Epoch 17/50\n",
      "4/4 [==============================] - 0s 14ms/step - loss: 0.0171 - accuracy: 0.9818 - val_loss: 0.1423 - val_accuracy: 0.8333\n",
      "Epoch 18/50\n",
      "4/4 [==============================] - 0s 14ms/step - loss: 0.0166 - accuracy: 0.9879 - val_loss: 0.1458 - val_accuracy: 0.8333\n",
      "Epoch 19/50\n",
      "4/4 [==============================] - 0s 15ms/step - loss: 0.0184 - accuracy: 0.9879 - val_loss: 0.1378 - val_accuracy: 0.8333\n",
      "Epoch 20/50\n",
      "4/4 [==============================] - 0s 15ms/step - loss: 0.0175 - accuracy: 0.9879 - val_loss: 0.1333 - val_accuracy: 0.8333\n",
      "Epoch 21/50\n",
      "4/4 [==============================] - 0s 14ms/step - loss: 0.0168 - accuracy: 0.9879 - val_loss: 0.1319 - val_accuracy: 0.8333\n",
      "Epoch 22/50\n",
      "4/4 [==============================] - 0s 14ms/step - loss: 0.0180 - accuracy: 0.9879 - val_loss: 0.1348 - val_accuracy: 0.8333\n",
      "Epoch 23/50\n",
      "4/4 [==============================] - 0s 14ms/step - loss: 0.0160 - accuracy: 0.9879 - val_loss: 0.1418 - val_accuracy: 0.8095\n",
      "Epoch 24/50\n",
      "4/4 [==============================] - 0s 14ms/step - loss: 0.0156 - accuracy: 0.9879 - val_loss: 0.1443 - val_accuracy: 0.8333\n",
      "Epoch 25/50\n",
      "4/4 [==============================] - 0s 15ms/step - loss: 0.0158 - accuracy: 0.9879 - val_loss: 0.1440 - val_accuracy: 0.8333\n",
      "Epoch 26/50\n",
      "4/4 [==============================] - 0s 14ms/step - loss: 0.0151 - accuracy: 0.9879 - val_loss: 0.1415 - val_accuracy: 0.8333\n",
      "Epoch 27/50\n",
      "4/4 [==============================] - 0s 14ms/step - loss: 0.0165 - accuracy: 0.9879 - val_loss: 0.1434 - val_accuracy: 0.8333\n",
      "Epoch 28/50\n",
      "4/4 [==============================] - 0s 14ms/step - loss: 0.0181 - accuracy: 0.9879 - val_loss: 0.1391 - val_accuracy: 0.8333\n",
      "Epoch 29/50\n",
      "4/4 [==============================] - 0s 14ms/step - loss: 0.0147 - accuracy: 0.9879 - val_loss: 0.1344 - val_accuracy: 0.8333\n",
      "Epoch 30/50\n",
      "4/4 [==============================] - 0s 15ms/step - loss: 0.0156 - accuracy: 0.9879 - val_loss: 0.1340 - val_accuracy: 0.8333\n",
      "Epoch 31/50\n",
      "4/4 [==============================] - 0s 14ms/step - loss: 0.0158 - accuracy: 0.9879 - val_loss: 0.1379 - val_accuracy: 0.8333\n",
      "Epoch 32/50\n",
      "4/4 [==============================] - 0s 14ms/step - loss: 0.0155 - accuracy: 0.9879 - val_loss: 0.1412 - val_accuracy: 0.8333\n",
      "Epoch 33/50\n",
      "4/4 [==============================] - 0s 15ms/step - loss: 0.0157 - accuracy: 0.9879 - val_loss: 0.1417 - val_accuracy: 0.8333\n",
      "Epoch 34/50\n",
      "4/4 [==============================] - 0s 14ms/step - loss: 0.0158 - accuracy: 0.9879 - val_loss: 0.1371 - val_accuracy: 0.8333\n",
      "Epoch 35/50\n",
      "4/4 [==============================] - 0s 14ms/step - loss: 0.0155 - accuracy: 0.9879 - val_loss: 0.1346 - val_accuracy: 0.8333\n",
      "Epoch 36/50\n",
      "4/4 [==============================] - 0s 14ms/step - loss: 0.0150 - accuracy: 0.9879 - val_loss: 0.1365 - val_accuracy: 0.8333\n",
      "Epoch 37/50\n",
      "4/4 [==============================] - 0s 14ms/step - loss: 0.0141 - accuracy: 0.9879 - val_loss: 0.1391 - val_accuracy: 0.8333\n",
      "Epoch 38/50\n",
      "4/4 [==============================] - 0s 14ms/step - loss: 0.0162 - accuracy: 0.9818 - val_loss: 0.1406 - val_accuracy: 0.8333\n",
      "Epoch 39/50\n",
      "4/4 [==============================] - 0s 14ms/step - loss: 0.0139 - accuracy: 0.9879 - val_loss: 0.1408 - val_accuracy: 0.8333\n",
      "Epoch 40/50\n",
      "4/4 [==============================] - 0s 14ms/step - loss: 0.0150 - accuracy: 0.9879 - val_loss: 0.1428 - val_accuracy: 0.8333\n",
      "Epoch 41/50\n",
      "4/4 [==============================] - 0s 14ms/step - loss: 0.0150 - accuracy: 0.9879 - val_loss: 0.1440 - val_accuracy: 0.8333\n",
      "Epoch 42/50\n",
      "4/4 [==============================] - 0s 14ms/step - loss: 0.0143 - accuracy: 0.9879 - val_loss: 0.1435 - val_accuracy: 0.8333\n",
      "Epoch 43/50\n",
      "4/4 [==============================] - 0s 13ms/step - loss: 0.0143 - accuracy: 0.9879 - val_loss: 0.1401 - val_accuracy: 0.8333\n",
      "Epoch 44/50\n",
      "4/4 [==============================] - 0s 14ms/step - loss: 0.0147 - accuracy: 0.9879 - val_loss: 0.1371 - val_accuracy: 0.8333\n",
      "Epoch 45/50\n",
      "4/4 [==============================] - 0s 14ms/step - loss: 0.0143 - accuracy: 0.9879 - val_loss: 0.1374 - val_accuracy: 0.8333\n",
      "Epoch 46/50\n",
      "4/4 [==============================] - 0s 14ms/step - loss: 0.0146 - accuracy: 0.9879 - val_loss: 0.1362 - val_accuracy: 0.8333\n",
      "Epoch 47/50\n",
      "4/4 [==============================] - 0s 14ms/step - loss: 0.0140 - accuracy: 0.9879 - val_loss: 0.1361 - val_accuracy: 0.8333\n",
      "Epoch 48/50\n",
      "4/4 [==============================] - 0s 14ms/step - loss: 0.0145 - accuracy: 0.9879 - val_loss: 0.1365 - val_accuracy: 0.8333\n",
      "Epoch 49/50\n",
      "4/4 [==============================] - 0s 14ms/step - loss: 0.0138 - accuracy: 0.9879 - val_loss: 0.1426 - val_accuracy: 0.8333\n",
      "Epoch 50/50\n",
      "4/4 [==============================] - 0s 14ms/step - loss: 0.0131 - accuracy: 0.9879 - val_loss: 0.1479 - val_accuracy: 0.8333\n"
     ]
    }
   ],
   "source": [
    "#4. 힉습시키기\n",
    "# from tensorflow.keras.callbacks import EarlyStopping\n",
    "# #early_stopping = EarlyStopping() > 성급한 조기 종료\n",
    "# early_stopping = EarlyStopping(patience=30) #인자 수만큼 loss가 오를 수 있음\n",
    "hist = model.fit(X_train, Y_train, epochs=50, batch_size=50, validation_split = 0.2, verbose=1)"
   ]
  },
  {
   "cell_type": "code",
   "execution_count": 44,
   "metadata": {
    "ExecuteTime": {
     "end_time": "2021-03-24T06:08:52.516409Z",
     "start_time": "2021-03-24T06:08:52.187978Z"
    }
   },
   "outputs": [
    {
     "data": {
      "text/plain": [
       "<matplotlib.legend.Legend at 0x2bcf7dd7a30>"
      ]
     },
     "execution_count": 44,
     "metadata": {},
     "output_type": "execute_result"
    },
    {
     "data": {
      "image/png": "[encoded data removed]",
      "text/plain": [
       "<Figure size 864x576 with 2 Axes>"
      ]
     },
     "metadata": {
      "needs_background": "light"
     },
     "output_type": "display_data"
    }
   ],
   "source": [
    "#5. 모델 학습과정을 표시하고 평가\n",
    "fig, loss_ax = plt.subplots(figsize=(12,8))\n",
    "loss_ax.plot(hist.history['loss'], 'r', label=\"train loss\")\n",
    "loss_ax.plot(hist.history['val_loss'], 'y', label=\"val loss\")\n",
    "loss_ax.set_xlabel(\"epochs\")\n",
    "loss_ax.set_ylabel(\"loss\")\n",
    "\n",
    "acc_ax = loss_ax.twinx()\n",
    "acc_ax.plot(hist.history['accuracy'], 'b', label='train accuracy')\n",
    "acc_ax.plot(hist.history['val_accuracy'], 'g', label='val accuracy')\n",
    "acc_ax.set_ylabel(\"accuracy\")\n",
    "\n",
    "loss_ax.legend(loc=2)\n",
    "acc_ax.legend(loc=3)"
   ]
  },
  {
   "cell_type": "code",
   "execution_count": 45,
   "metadata": {
    "ExecuteTime": {
     "end_time": "2021-03-24T06:09:49.763200Z",
     "start_time": "2021-03-24T06:09:49.692414Z"
    }
   },
   "outputs": [
    {
     "name": "stdout",
     "output_type": "stream",
     "text": [
      "3/3 [==============================] - 0s 2ms/step - loss: 0.1715 - accuracy: 0.7865\n"
     ]
    },
    {
     "data": {
      "text/plain": [
       "(0.1714814454317093, 0.7865168452262878)"
      ]
     },
     "execution_count": 45,
     "metadata": {},
     "output_type": "execute_result"
    }
   ],
   "source": [
    "#모델 평가하기\n",
    "loss_and_metrics = model.evaluate(X_test, Y_test, batch_size=32)\n",
    "#loss and accuracy\n",
    "loss_and_metrics[0], loss_and_metrics[1]"
   ]
  },
  {
   "cell_type": "code",
   "execution_count": 48,
   "metadata": {
    "ExecuteTime": {
     "end_time": "2021-03-24T06:16:54.034672Z",
     "start_time": "2021-03-24T06:16:53.955912Z"
    }
   },
   "outputs": [
    {
     "name": "stdout",
     "output_type": "stream",
     "text": [
      "[[36  6]\n",
      " [13 34]]\n",
      "f1_score:  0.7816091954022989\n"
     ]
    }
   ],
   "source": [
    "#6. confusion_matrix(성능평가지표)\n",
    "from sklearn.metrics import confusion_matrix\n",
    "from sklearn.metrics import f1_score\n",
    "pred = model.predict(X_test)\n",
    "pred = (pred>0.5)\n",
    "pred\n",
    "print(confusion_matrix(Y_test, pred), end='\\n')\n",
    "print('f1_score: ', f1_score(Y_test, pred))"
   ]
  },
  {
   "cell_type": "code",
   "execution_count": null,
   "metadata": {},
   "outputs": [],
   "source": []
  },
  {
   "cell_type": "code",
   "execution_count": null,
   "metadata": {},
   "outputs": [],
   "source": []
  },
  {
   "cell_type": "code",
   "execution_count": null,
   "metadata": {},
   "outputs": [],
   "source": []
  },
  {
   "cell_type": "code",
   "execution_count": null,
   "metadata": {},
   "outputs": [],
   "source": []
  },
  {
   "cell_type": "code",
   "execution_count": null,
   "metadata": {},
   "outputs": [],
   "source": []
  },
  {
   "cell_type": "code",
   "execution_count": null,
   "metadata": {},
   "outputs": [],
   "source": []
  },
  {
   "cell_type": "code",
   "execution_count": null,
   "metadata": {},
   "outputs": [],
   "source": []
  },
  {
   "cell_type": "code",
   "execution_count": null,
   "metadata": {},
   "outputs": [],
   "source": []
  },
  {
   "cell_type": "code",
   "execution_count": null,
   "metadata": {},
   "outputs": [],
   "source": []
  },
  {
   "cell_type": "code",
   "execution_count": null,
   "metadata": {},
   "outputs": [],
   "source": []
  },
  {
   "cell_type": "code",
   "execution_count": null,
   "metadata": {},
   "outputs": [],
   "source": []
  },
  {
   "cell_type": "code",
   "execution_count": null,
   "metadata": {},
   "outputs": [],
   "source": []
  },
  {
   "cell_type": "code",
   "execution_count": null,
   "metadata": {},
   "outputs": [],
   "source": []
  },
  {
   "cell_type": "code",
   "execution_count": null,
   "metadata": {},
   "outputs": [],
   "source": []
  },
  {
   "cell_type": "code",
   "execution_count": null,
   "metadata": {},
   "outputs": [],
   "source": []
  },
  {
   "cell_type": "code",
   "execution_count": null,
   "metadata": {},
   "outputs": [],
   "source": []
  },
  {
   "cell_type": "code",
   "execution_count": null,
   "metadata": {},
   "outputs": [],
   "source": []
  },
  {
   "cell_type": "code",
   "execution_count": null,
   "metadata": {},
   "outputs": [],
   "source": []
  },
  {
   "cell_type": "code",
   "execution_count": null,
   "metadata": {},
   "outputs": [],
   "source": []
  },
  {
   "cell_type": "code",
   "execution_count": null,
   "metadata": {},
   "outputs": [],
   "source": []
  },
  {
   "cell_type": "code",
   "execution_count": null,
   "metadata": {},
   "outputs": [],
   "source": []
  },
  {
   "cell_type": "code",
   "execution_count": null,
   "metadata": {},
   "outputs": [],
   "source": []
  },
  {
   "cell_type": "code",
   "execution_count": null,
   "metadata": {},
   "outputs": [],
   "source": []
  },
  {
   "cell_type": "code",
   "execution_count": null,
   "metadata": {},
   "outputs": [],
   "source": []
  },
  {
   "cell_type": "code",
   "execution_count": null,
   "metadata": {},
   "outputs": [],
   "source": []
  },
  {
   "cell_type": "code",
   "execution_count": null,
   "metadata": {},
   "outputs": [],
   "source": []
  },
  {
   "cell_type": "code",
   "execution_count": null,
   "metadata": {},
   "outputs": [],
   "source": []
  },
  {
   "cell_type": "code",
   "execution_count": null,
   "metadata": {},
   "outputs": [],
   "source": []
  },
  {
   "cell_type": "code",
   "execution_count": null,
   "metadata": {},
   "outputs": [],
   "source": []
  },
  {
   "cell_type": "code",
   "execution_count": null,
   "metadata": {},
   "outputs": [],
   "source": []
  },
  {
   "cell_type": "code",
   "execution_count": null,
   "metadata": {},
   "outputs": [],
   "source": []
  },
  {
   "cell_type": "code",
   "execution_count": null,
   "metadata": {},
   "outputs": [],
   "source": []
  },
  {
   "cell_type": "code",
   "execution_count": null,
   "metadata": {},
   "outputs": [],
   "source": []
  },
  {
   "cell_type": "code",
   "execution_count": null,
   "metadata": {},
   "outputs": [],
   "source": []
  },
  {
   "cell_type": "code",
   "execution_count": null,
   "metadata": {},
   "outputs": [],
   "source": []
  },
  {
   "cell_type": "code",
   "execution_count": null,
   "metadata": {},
   "outputs": [],
   "source": []
  },
  {
   "cell_type": "code",
   "execution_count": null,
   "metadata": {},
   "outputs": [],
   "source": []
  },
  {
   "cell_type": "code",
   "execution_count": null,
   "metadata": {},
   "outputs": [],
   "source": []
  },
  {
   "cell_type": "code",
   "execution_count": null,
   "metadata": {},
   "outputs": [],
   "source": []
  },
  {
   "cell_type": "code",
   "execution_count": null,
   "metadata": {},
   "outputs": [],
   "source": []
  },
  {
   "cell_type": "code",
   "execution_count": null,
   "metadata": {},
   "outputs": [],
   "source": []
  },
  {
   "cell_type": "code",
   "execution_count": null,
   "metadata": {},
   "outputs": [],
   "source": []
  },
  {
   "cell_type": "code",
   "execution_count": null,
   "metadata": {},
   "outputs": [],
   "source": []
  },
  {
   "cell_type": "code",
   "execution_count": null,
   "metadata": {},
   "outputs": [],
   "source": []
  },
  {
   "cell_type": "code",
   "execution_count": null,
   "metadata": {},
   "outputs": [],
   "source": []
  },
  {
   "cell_type": "code",
   "execution_count": null,
   "metadata": {},
   "outputs": [],
   "source": []
  },
  {
   "cell_type": "code",
   "execution_count": null,
   "metadata": {},
   "outputs": [],
   "source": []
  },
  {
   "cell_type": "code",
   "execution_count": null,
   "metadata": {},
   "outputs": [],
   "source": []
  },
  {
   "cell_type": "code",
   "execution_count": null,
   "metadata": {},
   "outputs": [],
   "source": []
  },
  {
   "cell_type": "code",
   "execution_count": null,
   "metadata": {},
   "outputs": [],
   "source": []
  },
  {
   "cell_type": "code",
   "execution_count": null,
   "metadata": {},
   "outputs": [],
   "source": []
  },
  {
   "cell_type": "code",
   "execution_count": null,
   "metadata": {},
   "outputs": [],
   "source": []
  },
  {
   "cell_type": "code",
   "execution_count": null,
   "metadata": {},
   "outputs": [],
   "source": []
  },
  {
   "cell_type": "code",
   "execution_count": null,
   "metadata": {},
   "outputs": [],
   "source": []
  },
  {
   "cell_type": "code",
   "execution_count": null,
   "metadata": {},
   "outputs": [],
   "source": []
  },
  {
   "cell_type": "code",
   "execution_count": null,
   "metadata": {},
   "outputs": [],
   "source": []
  },
  {
   "cell_type": "code",
   "execution_count": null,
   "metadata": {},
   "outputs": [],
   "source": []
  }
 ],
 "metadata": {
  "kernelspec": {
   "display_name": "Python 3",
   "language": "python",
   "name": "python3"
  },
  "language_info": {
   "codemirror_mode": {
    "name": "ipython",
    "version": 3
   },
   "file_extension": ".py",
   "mimetype": "text/x-python",
   "name": "python",
   "nbconvert_exporter": "python",
   "pygments_lexer": "ipython3",
   "version": "3.8.5"
  },
  "toc": {
   "base_numbering": 1,
   "nav_menu": {},
   "number_sections": true,
   "sideBar": true,
   "skip_h1_title": false,
   "title_cell": "Table of Contents",
   "title_sidebar": "Contents",
   "toc_cell": false,
   "toc_position": {},
   "toc_section_display": true,
   "toc_window_display": false
  },
  "varInspector": {
   "cols": {
    "lenName": 16,
    "lenType": 16,
    "lenVar": 40
   },
   "kernels_config": {
    "python": {
     "delete_cmd_postfix": "",
     "delete_cmd_prefix": "del ",
     "library": "var_list.py",
     "varRefreshCmd": "print(var_dic_list())"
    },
    "r": {
     "delete_cmd_postfix": ") ",
     "delete_cmd_prefix": "rm(",
     "library": "var_list.r",
     "varRefreshCmd": "cat(var_dic_list()) "
    }
   },
   "types_to_exclude": [
    "module",
    "function",
    "builtin_function_or_method",
    "instance",
    "_Feature"
   ],
   "window_display": false
  }
 },
 "nbformat": 4,
 "nbformat_minor": 4
}
