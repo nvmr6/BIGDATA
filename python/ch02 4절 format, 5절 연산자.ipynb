{
 "cells": [
  {
   "cell_type": "markdown",
   "metadata": {},
   "source": [
    "# ch02"
   ]
  },
  {
   "cell_type": "markdown",
   "metadata": {},
   "source": [
    "## 4절 format"
   ]
  },
  {
   "cell_type": "markdown",
   "metadata": {},
   "source": [
    "### print"
   ]
  },
  {
   "cell_type": "markdown",
   "metadata": {},
   "source": [
    "- 포맷팅이란 출력할 문자, 숫자, 날짜 데이터에 형식을 지정\n",
    "- 변수와 텍스트를 결합해서 보기 좋은 형식의 텍스트를 만들 때 사용"
   ]
  },
  {
   "cell_type": "code",
   "execution_count": 3,
   "metadata": {
    "ExecuteTime": {
     "end_time": "2021-02-22T00:47:41.816589Z",
     "start_time": "2021-02-22T00:47:41.811602Z"
    }
   },
   "outputs": [
    {
     "name": "stdout",
     "output_type": "stream",
     "text": [
      "hong is 30 years old\n",
      "hongis30years old\n",
      "hong is 30 years old\n"
     ]
    }
   ],
   "source": [
    "name = \"hong\"\n",
    "age = 30\n",
    "print(name,'is',age,'years old')\n",
    "print(name,'is',age,'years old', sep='')\n",
    "print(name+' is '+str(age)+' years old')"
   ]
  },
  {
   "cell_type": "code",
   "execution_count": 4,
   "metadata": {
    "ExecuteTime": {
     "end_time": "2021-02-22T00:50:28.797571Z",
     "start_time": "2021-02-22T00:50:28.788595Z"
    }
   },
   "outputs": [
    {
     "data": {
      "text/plain": [
       "'hong is 30 years old'"
      ]
     },
     "execution_count": 4,
     "metadata": {},
     "output_type": "execute_result"
    }
   ],
   "source": [
    "\"%s is %d years old\"%(name,age)\n",
    "#%s: 문자열 %c: 문자 %d: 정수 %f: 실수: %x: 16진수 %o8: 8진수 %% 문자%"
   ]
  },
  {
   "cell_type": "code",
   "execution_count": 6,
   "metadata": {
    "ExecuteTime": {
     "end_time": "2021-02-22T00:57:03.512226Z",
     "start_time": "2021-02-22T00:57:03.507273Z"
    }
   },
   "outputs": [
    {
     "data": {
      "text/plain": [
       "'hong is 30years old'"
      ]
     },
     "execution_count": 6,
     "metadata": {},
     "output_type": "execute_result"
    }
   ],
   "source": [
    "\"{0} is {1}years old\".format(name, age)"
   ]
  },
  {
   "cell_type": "markdown",
   "metadata": {},
   "source": [
    "### format() func"
   ]
  },
  {
   "cell_type": "code",
   "execution_count": null,
   "metadata": {},
   "outputs": [],
   "source": [
    "# 인덱스 : 출력할 인수의 인덱스(순서)\n",
    "# 정렬방법 : <기호는 왼쪽정렬, >기호는 오른쪽정렬, ^기호는 가운데 정렬\n",
    "# 자릿수 : 출력할 자릿수 지정. 변수보다 적은 자릿수가 지정될 경우 무시되고 변수가 다 출력.\n",
    "# 타입 : d는 10진수, f는 실수, s는 문자, b는 2진수, o는 8진수, x는 16진수"
   ]
  },
  {
   "cell_type": "code",
   "execution_count": 7,
   "metadata": {
    "ExecuteTime": {
     "end_time": "2021-02-22T01:01:21.297464Z",
     "start_time": "2021-02-22T01:01:21.294491Z"
    }
   },
   "outputs": [],
   "source": [
    "#'{[인덱스]:[공백대체문자][정렬방법][자릿수][타입]}'.format(변수명)"
   ]
  },
  {
   "cell_type": "code",
   "execution_count": 8,
   "metadata": {
    "ExecuteTime": {
     "end_time": "2021-02-22T01:07:16.288998Z",
     "start_time": "2021-02-22T01:07:16.284012Z"
    }
   },
   "outputs": [
    {
     "data": {
      "text/plain": [
       "'hong is 30years old hong'"
      ]
     },
     "execution_count": 8,
     "metadata": {},
     "output_type": "execute_result"
    }
   ],
   "source": [
    "\"{0} is {1}years old {0}\".format(name, age)\n",
    "#인덱스 지정 가능 (인덱스 생략시엔 포맷과 변수 갯수가 일치해야 한다)"
   ]
  },
  {
   "cell_type": "code",
   "execution_count": 30,
   "metadata": {
    "ExecuteTime": {
     "end_time": "2021-02-22T02:04:03.628918Z",
     "start_time": "2021-02-22T02:04:03.623933Z"
    }
   },
   "outputs": [
    {
     "name": "stdout",
     "output_type": "stream",
     "text": [
      "출력 : [12345], [     12345], [12345]\n",
      "출력 : [Hello], [Hello     ], [Hello]\n"
     ]
    }
   ],
   "source": [
    "# 숫자의 경우 출력할 변수보다 큰 자릿수를 지정하면 오른쪽 정렬(기본값)\n",
    "# 문자의 경우 출력할 변수보다 큰 자릿수를 지정하면 왼쪽 정렬(기본값)\n",
    "# 변수보다 작은 자리수를 지정하면 자리수 지정이 무시되고 다 출력\n",
    "a = 12345\n",
    "s = \"Hello\"\n",
    "print(\"출력 : [{}], [{:10}], [{:3}]\".format(a, a, a))\n",
    "print(\"출력 : [{}], [{:10}], [{:3}]\".format(s, s, s))"
   ]
  },
  {
   "cell_type": "code",
   "execution_count": 14,
   "metadata": {
    "ExecuteTime": {
     "end_time": "2021-02-22T01:21:29.917420Z",
     "start_time": "2021-02-22T01:21:29.913458Z"
    }
   },
   "outputs": [
    {
     "name": "stdout",
     "output_type": "stream",
     "text": [
      "\n",
      "정수-12345 실수-12345.000000 2진수-11000000111001 8진수-30071 16진수-3039\n",
      "\n"
     ]
    }
   ],
   "source": [
    "print(\"\"\"\n",
    "정수-{:d} 실수-{:f} 2진수-{:b} 8진수-{:o} 16진수-{:x}\n",
    "\"\"\".format(a,a,a,a,a))"
   ]
  },
  {
   "cell_type": "code",
   "execution_count": 17,
   "metadata": {
    "ExecuteTime": {
     "end_time": "2021-02-22T01:38:36.213445Z",
     "start_time": "2021-02-22T01:38:36.209457Z"
    }
   },
   "outputs": [
    {
     "name": "stdout",
     "output_type": "stream",
     "text": [
      "print: [    10],[20    ],[  30  ]\n"
     ]
    }
   ],
   "source": [
    "a,b,c = 10,20,30\n",
    "print(\"print: [{:>6d}],[{:<6d}],[{:^6d}]\".format(a,b,c))"
   ]
  },
  {
   "cell_type": "code",
   "execution_count": 19,
   "metadata": {
    "ExecuteTime": {
     "end_time": "2021-02-22T01:40:49.284770Z",
     "start_time": "2021-02-22T01:40:49.280800Z"
    }
   },
   "outputs": [
    {
     "name": "stdout",
     "output_type": "stream",
     "text": [
      "print: [$$$$$$$$10],[hello***************],[hel_______]\n"
     ]
    }
   ],
   "source": [
    "a = 10\n",
    "s = \"hello\"\n",
    "print(\"print: [{0:$>10d}],[{1:*<20}],[{1:_<10.3}]\".format(a,s))\n",
    "#공백대체문자를 지정할 때는 정렬기호, 자릿수 표현"
   ]
  },
  {
   "cell_type": "code",
   "execution_count": 47,
   "metadata": {
    "ExecuteTime": {
     "end_time": "2021-02-22T03:03:04.872500Z",
     "start_time": "2021-02-22T03:03:04.867538Z"
    }
   },
   "outputs": [
    {
     "name": "stdout",
     "output_type": "stream",
     "text": [
      "출력 : [      -123] [      +123] [      +123]\n",
      "출력 : [-      123] [       123] [       123]\n",
      "출력 : [-      123] [+      123] [+      123]\n",
      "출력 : [-      123] [+      123] [+000000123]\n",
      "출력 : [-******123] [+$$$$$$123] [+______123]\n"
     ]
    }
   ],
   "source": [
    "# +를 붙이면 양수의 경우 숫자앞에 부호를 붙여줌\n",
    "# =를 붙이면 전체 자릿수만큼 출력하는 문자의 맨 앞에 부호 표시(양수는 부호나타나지 않음)\n",
    "# =+를 사용하면 =도 표시\n",
    "# 자리수앞에 0을 채우면 빈자리에 0을 채워\n",
    "# 공백대체문자는 =앞에\n",
    "# 공백대체문자와 자리수 앞에 0을 붙이는 것을 같이 자리수앞에 0이 무시\n",
    "  # (공백대체문자와 자리수 앞 0은 공백대체문자가 우선순위가 높음)\n",
    "a, b = 123, -123\n",
    "print(\"출력 : [{:+10}] [{:+10}] [{:+10}]\".format(b, a, a))\n",
    "print(\"출력 : [{:=10}] [{:=10}] [{:=10}]\".format(b, a, a))\n",
    "print(\"출력 : [{:=+10}] [{:=+10}] [{:=+10}]\".format(b, a, a))\n",
    "print(\"출력 : [{:=+10}] [{:=+10}] [{:=+010}]\".format(b, a, a))\n",
    "\n",
    "print(\"출력 : [{:*=+10}] [{:$=+10}] [{:_=+010}]\".format(b, a, a))"
   ]
  },
  {
   "cell_type": "code",
   "execution_count": 28,
   "metadata": {
    "ExecuteTime": {
     "end_time": "2021-02-22T01:58:15.755458Z",
     "start_time": "2021-02-22T01:58:15.751494Z"
    }
   },
   "outputs": [
    {
     "name": "stdout",
     "output_type": "stream",
     "text": [
      "a = [       2.8]\n",
      "s = [        he]\n"
     ]
    }
   ],
   "source": [
    "#자리수\n",
    "a = 2.785\n",
    "s = \"hello\"\n",
    "print(\"a = [{:>10.2}]\".format(a))\n",
    "print(\"s = [{:>10.2}]\".format(s))"
   ]
  },
  {
   "cell_type": "code",
   "execution_count": 31,
   "metadata": {
    "ExecuteTime": {
     "end_time": "2021-02-22T02:14:32.779922Z",
     "start_time": "2021-02-22T02:14:32.775953Z"
    }
   },
   "outputs": [
    {
     "name": "stdout",
     "output_type": "stream",
     "text": [
      "a = [{:4.1f}]\n"
     ]
    }
   ],
   "source": [
    "#전체 자리수.소수점 자리수\n",
    "print(\"a = [{:4.1f}]\")"
   ]
  },
  {
   "cell_type": "code",
   "execution_count": 43,
   "metadata": {
    "ExecuteTime": {
     "end_time": "2021-02-22T02:40:44.007933Z",
     "start_time": "2021-02-22T02:40:44.002946Z"
    }
   },
   "outputs": [
    {
     "name": "stdout",
     "output_type": "stream",
     "text": [
      "출력 : [0123456789]\n",
      "출력 : [      2.79]\n",
      "출력 : [      2.79]\n"
     ]
    }
   ],
   "source": [
    "# format함수의 매개변수에 출력포맷\n",
    "a = 2.785\n",
    "print(\"출력 : [0123456789]\")\n",
    "print(\"출력 : [{:>10.3}]\".format(a))\n",
    "print(\"출력 : [{:{}{}.{}}]\".format(a, '>', 10, 3))"
   ]
  },
  {
   "cell_type": "code",
   "execution_count": 42,
   "metadata": {
    "ExecuteTime": {
     "end_time": "2021-02-22T02:40:42.127906Z",
     "start_time": "2021-02-22T02:40:42.123938Z"
    }
   },
   "outputs": [
    {
     "name": "stdout",
     "output_type": "stream",
     "text": [
      "출력 : [0123456789]\n",
      "출력 : [     +2.79]\n",
      "출력 : [     +2.79]\n"
     ]
    }
   ],
   "source": [
    "a = 2.785\n",
    "print(\"출력 : [0123456789]\")\n",
    "print(\"출력 : [{:>+10.3}]\".format(a))\n",
    "print(\"출력 : [{:{}{}{}.{}}]\".format(a, '>','+', 10, 3))"
   ]
  },
  {
   "cell_type": "code",
   "execution_count": 41,
   "metadata": {
    "ExecuteTime": {
     "end_time": "2021-02-22T02:40:11.008528Z",
     "start_time": "2021-02-22T02:40:11.003541Z"
    },
    "scrolled": true
   },
   "outputs": [
    {
     "name": "stdout",
     "output_type": "stream",
     "text": [
      "출력 : [0123456789]\n",
      "출력 : [     +2.79]\n",
      "출력 : [     +2.79]\n"
     ]
    }
   ],
   "source": [
    "# 가독성을 높이고자 포맷인자에 이름을 부여\n",
    "a = 2.785\n",
    "print(\"출력 : [0123456789]\")\n",
    "print(\"출력 : [{:>+10.3}]\".format(a))\n",
    "print(\"출력 : [{:{dir}{sign}{width}.{precision}}]\".format(a, \n",
    "                dir='>',sign='+', width=10, precision=3))"
   ]
  },
  {
   "cell_type": "code",
   "execution_count": null,
   "metadata": {},
   "outputs": [],
   "source": [
    "a = 15\n",
    "print(\"10진수 : [{:8d}]\".format(a))\n",
    "print(\" 2진수 : [{:08b}]\".format(a))\n",
    "print(\" 8진수 : [{:08o}]\".format(a))\n",
    "print(\"16진수 : [{:02x}]\".format(a))"
   ]
  },
  {
   "cell_type": "markdown",
   "metadata": {},
   "source": [
    "### 날짜 출력"
   ]
  },
  {
   "cell_type": "code",
   "execution_count": 36,
   "metadata": {
    "ExecuteTime": {
     "end_time": "2021-02-22T02:37:10.265124Z",
     "start_time": "2021-02-22T02:37:10.260138Z"
    }
   },
   "outputs": [
    {
     "data": {
      "text/plain": [
       "time.struct_time(tm_year=2021, tm_mon=2, tm_mday=22, tm_hour=11, tm_min=37, tm_sec=10, tm_wday=0, tm_yday=53, tm_isdst=0)"
      ]
     },
     "execution_count": 36,
     "metadata": {},
     "output_type": "execute_result"
    }
   ],
   "source": [
    "# %Y는 연도4자리, %y는 연도2자리, %m은 월, %d는 일\n",
    "# %H는 24시간, %I는 12시간, %p는 PM또는AM, %M은 분, %S는 초를 의미\n",
    "from time import localtime # time 패키지에서 localtime라는 함수 사용\n",
    "now = localtime()\n",
    "now # 현재 날짜와 시간"
   ]
  },
  {
   "cell_type": "code",
   "execution_count": 37,
   "metadata": {
    "ExecuteTime": {
     "end_time": "2021-02-22T02:37:18.192030Z",
     "start_time": "2021-02-22T02:37:18.188041Z"
    }
   },
   "outputs": [
    {
     "name": "stdout",
     "output_type": "stream",
     "text": [
      "2021년 02월 22일 11:37:10\n",
      "2021년 02월 22일 AM 11:37:10\n"
     ]
    }
   ],
   "source": [
    "# 날짜를 문자열로 출력하기 위해 format보다 strftime()함수 이용\n",
    "from time import strftime \n",
    "print(strftime(\"%Y년 %m월 %d일 %H:%M:%S\", now))\n",
    "print(strftime(\"%Y년 %m월 %d일 %p %I:%M:%S\", now))"
   ]
  },
  {
   "cell_type": "code",
   "execution_count": 39,
   "metadata": {
    "ExecuteTime": {
     "end_time": "2021-02-22T02:38:03.409559Z",
     "start_time": "2021-02-22T02:38:03.404571Z"
    }
   },
   "outputs": [
    {
     "data": {
      "text/plain": [
       "datetime.datetime(2021, 4, 30, 18, 20)"
      ]
     },
     "execution_count": 39,
     "metadata": {},
     "output_type": "execute_result"
    }
   ],
   "source": [
    "# format함수 이용\n",
    "from datetime import datetime\n",
    "thatday = datetime(2021,4,30,18,20,0)\n",
    "thatday"
   ]
  },
  {
   "cell_type": "code",
   "execution_count": 44,
   "metadata": {
    "ExecuteTime": {
     "end_time": "2021-02-22T02:42:01.223085Z",
     "start_time": "2021-02-22T02:42:01.220083Z"
    }
   },
   "outputs": [
    {
     "name": "stdout",
     "output_type": "stream",
     "text": [
      "2021 - 04 - 30 PM 06:20:00\n"
     ]
    }
   ],
   "source": [
    "print(\"{:%Y - %m - %d %p %I:%M:%S}\".format(thatday))"
   ]
  },
  {
   "cell_type": "markdown",
   "metadata": {},
   "source": [
    "## 5절 연산자"
   ]
  },
  {
   "cell_type": "markdown",
   "metadata": {},
   "source": [
    "### 산술 연산자"
   ]
  },
  {
   "cell_type": "code",
   "execution_count": 46,
   "metadata": {
    "ExecuteTime": {
     "end_time": "2021-02-22T02:49:21.098356Z",
     "start_time": "2021-02-22T02:49:21.094368Z"
    }
   },
   "outputs": [
    {
     "name": "stdout",
     "output_type": "stream",
     "text": [
      "1000\n",
      "3\n",
      "1.0\n"
     ]
    }
   ],
   "source": [
    "a = 10\n",
    "print(a**3) #제곱\n",
    "print(a//3) #몫\n",
    "print(10.0%3.0) #실수끼리 나머지 연산\n",
    "print(3.8 % 1.2) # 실수끼리 나머지 연산시 결과가 다소 오차가 존재할 수 있음"
   ]
  },
  {
   "cell_type": "markdown",
   "metadata": {},
   "source": [
    "### 대입 연산자"
   ]
  },
  {
   "cell_type": "code",
   "execution_count": 49,
   "metadata": {
    "ExecuteTime": {
     "end_time": "2021-02-22T03:34:42.467657Z",
     "start_time": "2021-02-22T03:34:42.462691Z"
    }
   },
   "outputs": [
    {
     "data": {
      "text/plain": [
       "5"
      ]
     },
     "execution_count": 49,
     "metadata": {},
     "output_type": "execute_result"
    }
   ],
   "source": [
    "a = 10\n",
    "a //= 2 # a = a//2\n",
    "a"
   ]
  },
  {
   "cell_type": "markdown",
   "metadata": {},
   "source": [
    "### 논리 연산자"
   ]
  },
  {
   "cell_type": "code",
   "execution_count": 50,
   "metadata": {
    "ExecuteTime": {
     "end_time": "2021-02-22T03:34:43.603702Z",
     "start_time": "2021-02-22T03:34:43.599738Z"
    }
   },
   "outputs": [
    {
     "name": "stdout",
     "output_type": "stream",
     "text": [
      "True\n",
      "0\n",
      "True\n"
     ]
    }
   ],
   "source": [
    "print((10>3) & (10>5)) # 논리연산자 True & True\n",
    "print(12 & 1)          # 비트연산   1100 & 0001\n",
    "print(5 < 8 < 10 < 100)      # 논리연산자를 삼항, 사항, .. 가능"
   ]
  },
  {
   "cell_type": "code",
   "execution_count": 51,
   "metadata": {
    "ExecuteTime": {
     "end_time": "2021-02-22T03:34:44.884327Z",
     "start_time": "2021-02-22T03:34:44.880351Z"
    }
   },
   "outputs": [
    {
     "name": "stdout",
     "output_type": "stream",
     "text": [
      "False\n"
     ]
    }
   ],
   "source": [
    "print(10>3 & 10>5) # 연산자 우선 순위 : 비트연산자가 논리비교연산보다 높다\n",
    "#        0011 & 1010 = 0010 (2)  \n",
    "# print(10 > 2 > 5 )"
   ]
  },
  {
   "cell_type": "code",
   "execution_count": null,
   "metadata": {},
   "outputs": [],
   "source": [
    "# ''(빈스트링)은 False로 그외는 True\n",
    "if '':\n",
    "    print('빈스트링은 True인가')\n",
    "else:\n",
    "    print('빈스트링은 False인가')"
   ]
  },
  {
   "cell_type": "code",
   "execution_count": 52,
   "metadata": {
    "ExecuteTime": {
     "end_time": "2021-02-22T03:34:46.248747Z",
     "start_time": "2021-02-22T03:34:46.240766Z"
    }
   },
   "outputs": [
    {
     "ename": "TypeError",
     "evalue": "unsupported operand type(s) for |: 'bool' and 'str'",
     "output_type": "error",
     "traceback": [
      "\u001b[1;31m---------------------------------------------------------------------------\u001b[0m",
      "\u001b[1;31mTypeError\u001b[0m                                 Traceback (most recent call last)",
      "\u001b[1;32m<ipython-input-52-0368009ccb1e>\u001b[0m in \u001b[0;36m<module>\u001b[1;34m\u001b[0m\n\u001b[0;32m      1\u001b[0m \u001b[1;31m# 논리연산자에 문자열이 오면 에러\u001b[0m\u001b[1;33m\u001b[0m\u001b[1;33m\u001b[0m\u001b[1;33m\u001b[0m\u001b[0m\n\u001b[1;32m----> 2\u001b[1;33m \u001b[1;32mTrue\u001b[0m \u001b[1;33m|\u001b[0m \u001b[1;34m''\u001b[0m\u001b[1;33m\u001b[0m\u001b[1;33m\u001b[0m\u001b[0m\n\u001b[0m\u001b[0;32m      3\u001b[0m \u001b[1;32mTrue\u001b[0m \u001b[1;33m|\u001b[0m \u001b[0mbool\u001b[0m\u001b[1;33m(\u001b[0m\u001b[1;34m''\u001b[0m\u001b[1;33m)\u001b[0m\u001b[1;33m\u001b[0m\u001b[1;33m\u001b[0m\u001b[0m\n",
      "\u001b[1;31mTypeError\u001b[0m: unsupported operand type(s) for |: 'bool' and 'str'"
     ]
    }
   ],
   "source": [
    "# 논리연산자에 문자열이 오면 에러\n",
    "True | ''\n",
    "True | bool('')"
   ]
  },
  {
   "cell_type": "code",
   "execution_count": 53,
   "metadata": {
    "ExecuteTime": {
     "end_time": "2021-02-22T03:34:54.156569Z",
     "start_time": "2021-02-22T03:34:54.152580Z"
    }
   },
   "outputs": [
    {
     "data": {
      "text/plain": [
       "False"
      ]
     },
     "execution_count": 53,
     "metadata": {},
     "output_type": "execute_result"
    }
   ],
   "source": [
    "not True"
   ]
  },
  {
   "cell_type": "code",
   "execution_count": 54,
   "metadata": {
    "ExecuteTime": {
     "end_time": "2021-02-22T03:34:54.660694Z",
     "start_time": "2021-02-22T03:34:54.656686Z"
    }
   },
   "outputs": [
    {
     "data": {
      "text/plain": [
       "True"
      ]
     },
     "execution_count": 54,
     "metadata": {},
     "output_type": "execute_result"
    }
   ],
   "source": [
    "not 0 # 0은 False. 그 외 숫자는 True"
   ]
  },
  {
   "cell_type": "code",
   "execution_count": 55,
   "metadata": {
    "ExecuteTime": {
     "end_time": "2021-02-22T03:34:54.876580Z",
     "start_time": "2021-02-22T03:34:54.872578Z"
    }
   },
   "outputs": [
    {
     "data": {
      "text/plain": [
       "False"
      ]
     },
     "execution_count": 55,
     "metadata": {},
     "output_type": "execute_result"
    }
   ],
   "source": [
    "not -999"
   ]
  },
  {
   "cell_type": "code",
   "execution_count": 56,
   "metadata": {
    "ExecuteTime": {
     "end_time": "2021-02-22T03:34:55.124519Z",
     "start_time": "2021-02-22T03:34:55.120549Z"
    }
   },
   "outputs": [
    {
     "name": "stdout",
     "output_type": "stream",
     "text": [
      "False\n"
     ]
    }
   ],
   "source": [
    "a = False\n",
    "if not a:\n",
    "    print(a)"
   ]
  },
  {
   "cell_type": "code",
   "execution_count": 57,
   "metadata": {
    "ExecuteTime": {
     "end_time": "2021-02-22T03:34:55.308452Z",
     "start_time": "2021-02-22T03:34:55.304462Z"
    }
   },
   "outputs": [
    {
     "name": "stdout",
     "output_type": "stream",
     "text": [
      "두수는 다르다\n"
     ]
    }
   ],
   "source": [
    "a, b = 15, 16\n",
    "if a != b :\n",
    "    print('두수는 다르다')"
   ]
  },
  {
   "cell_type": "code",
   "execution_count": 58,
   "metadata": {
    "ExecuteTime": {
     "end_time": "2021-02-22T03:34:55.964547Z",
     "start_time": "2021-02-22T03:34:55.960558Z"
    }
   },
   "outputs": [
    {
     "name": "stdout",
     "output_type": "stream",
     "text": [
      "True\n"
     ]
    }
   ],
   "source": [
    "# and 연산자 : 거짓으로 판별되는 첫번째 항의 결과가 반환\n",
    "#             모든 항이 참이면 마지막 항의 결과 반환\n",
    "print(True and 3 and True)"
   ]
  },
  {
   "cell_type": "code",
   "execution_count": 59,
   "metadata": {
    "ExecuteTime": {
     "end_time": "2021-02-22T03:34:56.284548Z",
     "start_time": "2021-02-22T03:34:56.281576Z"
    }
   },
   "outputs": [
    {
     "name": "stdout",
     "output_type": "stream",
     "text": [
      "0\n"
     ]
    }
   ],
   "source": [
    "# or 연산자 : 참으로 판별되는 첫번째 항의 결과가 반환\n",
    "#             모든 항이 거짓이면 마지막 항의 결과 반환\n",
    "print('' or False or None or 0)"
   ]
  },
  {
   "cell_type": "markdown",
   "metadata": {},
   "source": [
    "### 비교 연산자"
   ]
  },
  {
   "cell_type": "code",
   "execution_count": 60,
   "metadata": {
    "ExecuteTime": {
     "end_time": "2021-02-22T03:34:57.260567Z",
     "start_time": "2021-02-22T03:34:57.256603Z"
    }
   },
   "outputs": [
    {
     "data": {
      "text/plain": [
       "False"
      ]
     },
     "execution_count": 60,
     "metadata": {},
     "output_type": "execute_result"
    }
   ],
   "source": [
    "# 문자는 ASCII 코드 순으로 비교 : 특수문자 < 숫자문자 < 대문자 < 소문자 < 한글\n",
    "'아' > '하'"
   ]
  },
  {
   "cell_type": "code",
   "execution_count": 61,
   "metadata": {
    "ExecuteTime": {
     "end_time": "2021-02-22T03:34:57.556566Z",
     "start_time": "2021-02-22T03:34:57.552577Z"
    }
   },
   "outputs": [
    {
     "data": {
      "text/plain": [
       "True"
      ]
     },
     "execution_count": 61,
     "metadata": {},
     "output_type": "execute_result"
    }
   ],
   "source": [
    "'1' < 'a'"
   ]
  },
  {
   "cell_type": "code",
   "execution_count": 62,
   "metadata": {
    "ExecuteTime": {
     "end_time": "2021-02-22T03:34:57.716575Z",
     "start_time": "2021-02-22T03:34:57.713594Z"
    }
   },
   "outputs": [
    {
     "data": {
      "text/plain": [
       "(1, 0)"
      ]
     },
     "execution_count": 62,
     "metadata": {},
     "output_type": "execute_result"
    }
   ],
   "source": [
    "True > False # True는 1로 매핑, False는 0으로 매핑\n",
    "int(True), int(False)"
   ]
  },
  {
   "cell_type": "code",
   "execution_count": 63,
   "metadata": {
    "ExecuteTime": {
     "end_time": "2021-02-22T03:34:57.885093Z",
     "start_time": "2021-02-22T03:34:57.881103Z"
    }
   },
   "outputs": [
    {
     "data": {
      "text/plain": [
       "(False, True)"
      ]
     },
     "execution_count": 63,
     "metadata": {},
     "output_type": "execute_result"
    }
   ],
   "source": [
    "bool(0), bool(-9)"
   ]
  },
  {
   "cell_type": "code",
   "execution_count": 64,
   "metadata": {
    "ExecuteTime": {
     "end_time": "2021-02-22T03:35:03.099588Z",
     "start_time": "2021-02-22T03:34:58.081197Z"
    }
   },
   "outputs": [
    {
     "name": "stdout",
     "output_type": "stream",
     "text": [
      "점수를 입력하세요 >55\n",
      "불합격\n"
     ]
    }
   ],
   "source": [
    "jumsu = int(input('점수를 입력하세요 >')) # input함수는 문자로 반환\n",
    "if jumsu >= 60 :\n",
    "    print('합격')\n",
    "else:\n",
    "    print('불합격')"
   ]
  },
  {
   "cell_type": "markdown",
   "metadata": {},
   "source": [
    "### 비트 연산자"
   ]
  },
  {
   "cell_type": "code",
   "execution_count": 65,
   "metadata": {
    "ExecuteTime": {
     "end_time": "2021-02-22T03:43:55.868927Z",
     "start_time": "2021-02-22T03:43:55.864937Z"
    }
   },
   "outputs": [],
   "source": [
    "a = ''' \n",
    "x  y  x&t  x|y  x^y\n",
    "0  0   0    0    0\n",
    "0  1   0    1    1\n",
    "1  0   0    1    1\n",
    "1  1   1    1    0\n",
    "'''"
   ]
  },
  {
   "cell_type": "code",
   "execution_count": 68,
   "metadata": {
    "ExecuteTime": {
     "end_time": "2021-02-22T03:49:33.868875Z",
     "start_time": "2021-02-22T03:49:33.863915Z"
    }
   },
   "outputs": [
    {
     "name": "stdout",
     "output_type": "stream",
     "text": [
      "2\n",
      "15\n",
      "13\n",
      "3\n"
     ]
    }
   ],
   "source": [
    "a = 15 # 1111\n",
    "b = 2 # 0010\n",
    "print(a&b)\n",
    "print(a|b)\n",
    "print(a^b)\n",
    "print(a >> 2) #shift"
   ]
  },
  {
   "cell_type": "markdown",
   "metadata": {},
   "source": [
    "### instance"
   ]
  },
  {
   "cell_type": "code",
   "execution_count": 69,
   "metadata": {
    "ExecuteTime": {
     "end_time": "2021-02-22T04:00:35.564817Z",
     "start_time": "2021-02-22T04:00:35.560852Z"
    }
   },
   "outputs": [
    {
     "data": {
      "text/plain": [
       "True"
      ]
     },
     "execution_count": 69,
     "metadata": {},
     "output_type": "execute_result"
    }
   ],
   "source": [
    "isinstance(3.5, float)"
   ]
  },
  {
   "cell_type": "code",
   "execution_count": 70,
   "metadata": {
    "ExecuteTime": {
     "end_time": "2021-02-22T04:00:46.058982Z",
     "start_time": "2021-02-22T04:00:46.054993Z"
    }
   },
   "outputs": [],
   "source": [
    "#EX"
   ]
  },
  {
   "cell_type": "code",
   "execution_count": 71,
   "metadata": {
    "ExecuteTime": {
     "end_time": "2021-02-22T04:02:19.763877Z",
     "start_time": "2021-02-22T04:02:19.759913Z"
    }
   },
   "outputs": [
    {
     "name": "stdout",
     "output_type": "stream",
     "text": [
      "홍길동님의 나이는 23살입니다\n"
     ]
    }
   ],
   "source": [
    "#1.이름과 나이 변수를 다음 형식으로 출력하도록 format() 함수를 이용해 형식화하세요\n",
    "#출력형식 : 홍 길동님의 나이는 23 살 입니다\n",
    "name = \"홍길동\"\n",
    "age = 23\n",
    "print(\"{}님의 나이는 {}살입니다\".format(name, age))"
   ]
  },
  {
   "cell_type": "code",
   "execution_count": 72,
   "metadata": {
    "ExecuteTime": {
     "end_time": "2021-02-22T04:03:16.748316Z",
     "start_time": "2021-02-22T04:03:16.743356Z"
    }
   },
   "outputs": [
    {
     "name": "stdout",
     "output_type": "stream",
     "text": [
      "57\n",
      "-33\n",
      "540\n",
      "0.26666666666666666\n",
      "0\n",
      "12\n"
     ]
    }
   ],
   "source": [
    "#2.두 정수를 입력받아 두 수의 덧셈 , 뺄셈 , 곱셈 , 나눗셈 , 몫 , 나머지를 출력하세요\n",
    "a = 12\n",
    "b = 45\n",
    "print(a+b)\n",
    "print(a-b)\n",
    "print(a*b)\n",
    "print(a/b)\n",
    "print(a//b)\n",
    "print(a%b)"
   ]
  },
  {
   "cell_type": "code",
   "execution_count": 76,
   "metadata": {
    "ExecuteTime": {
     "end_time": "2021-02-22T04:06:51.187777Z",
     "start_time": "2021-02-22T04:06:51.183803Z"
    }
   },
   "outputs": [
    {
     "name": "stdout",
     "output_type": "stream",
     "text": [
      "World Hello\n"
     ]
    }
   ],
   "source": [
    "#3.문자열의 분리하기와 합치기 기능을 이용하여 ‘Hello 를 ‘World 로 출력하세요\n",
    "s = \"Hello World\"\n",
    "split = s.split(' ')\n",
    "print(\"{} {}\".format(split[1], split[0]))"
   ]
  },
  {
   "cell_type": "code",
   "execution_count": 85,
   "metadata": {
    "ExecuteTime": {
     "end_time": "2021-02-22T05:36:42.645070Z",
     "start_time": "2021-02-22T05:36:42.641102Z"
    }
   },
   "outputs": [
    {
     "name": "stdout",
     "output_type": "stream",
     "text": [
      "bcdefa\n"
     ]
    }
   ],
   "source": [
    "#4.x = ' abcdef 를 이용하여 bcdefa 로 출력하세요 문자 슬라이싱이용\n",
    "x = \"abcdef\"\n",
    "print(x[1:],x[0], sep='')"
   ]
  },
  {
   "cell_type": "code",
   "execution_count": 86,
   "metadata": {
    "ExecuteTime": {
     "end_time": "2021-02-22T05:36:48.761973Z",
     "start_time": "2021-02-22T05:36:48.759005Z"
    }
   },
   "outputs": [
    {
     "name": "stdout",
     "output_type": "stream",
     "text": [
      "fedcba\n"
     ]
    }
   ],
   "source": [
    "#5.x = ‘ abcdef 를 이용하여 fedcba 로 출력하세요\n",
    "x = \"abcdef\"\n",
    "print(x[::-1])"
   ]
  },
  {
   "cell_type": "code",
   "execution_count": 88,
   "metadata": {
    "ExecuteTime": {
     "end_time": "2021-02-22T05:40:03.234352Z",
     "start_time": "2021-02-22T05:40:00.832875Z"
    }
   },
   "outputs": [
    {
     "name": "stdout",
     "output_type": "stream",
     "text": [
      "섭씨: 44\n",
      "섭씨: 44, 화씨: 111.20\n"
     ]
    }
   ],
   "source": [
    "#6.오늘의 온도를 섭씨온도로 입력받아 화씨 온도로 변환하는 프로그램을 작성하세요 . 화\n",
    "#씨 온 도는 소수점 두번째 자리까지 출려되어야 합니다 다음은 섭씨 와 화 씨 의 변환 공\n",
    "#식입니다 . C 는 섭씨 , F 는 화 씨\n",
    "c = float(input('섭씨: '))\n",
    "f = (c*1.8)+32\n",
    "if c == round(c):\n",
    "    print(\"섭씨: {:.0f}, 화씨: {:.2f}\".format(c,f))\n",
    "else:\n",
    "    print(\"섭씨: {}, 화씨: {:.2f}\".format(c,f))"
   ]
  }
 ],
 "metadata": {
  "kernelspec": {
   "display_name": "Python 3",
   "language": "python",
   "name": "python3"
  },
  "language_info": {
   "codemirror_mode": {
    "name": "ipython",
    "version": 3
   },
   "file_extension": ".py",
   "mimetype": "text/x-python",
   "name": "python",
   "nbconvert_exporter": "python",
   "pygments_lexer": "ipython3",
   "version": "3.8.5"
  },
  "toc": {
   "base_numbering": 1,
   "nav_menu": {},
   "number_sections": true,
   "sideBar": false,
   "skip_h1_title": false,
   "title_cell": "Table of Contents",
   "title_sidebar": "Contents",
   "toc_cell": false,
   "toc_position": {
    "height": "757px",
    "left": "1536px",
    "top": "92px",
    "width": "384px"
   },
   "toc_section_display": true,
   "toc_window_display": true
  },
  "varInspector": {
   "cols": {
    "lenName": 16,
    "lenType": 16,
    "lenVar": 40
   },
   "kernels_config": {
    "python": {
     "delete_cmd_postfix": "",
     "delete_cmd_prefix": "del ",
     "library": "var_list.py",
     "varRefreshCmd": "print(var_dic_list())"
    },
    "r": {
     "delete_cmd_postfix": ") ",
     "delete_cmd_prefix": "rm(",
     "library": "var_list.r",
     "varRefreshCmd": "cat(var_dic_list()) "
    }
   },
   "types_to_exclude": [
    "module",
    "function",
    "builtin_function_or_method",
    "instance",
    "_Feature"
   ],
   "window_display": false
  }
 },
 "nbformat": 4,
 "nbformat_minor": 4
}
