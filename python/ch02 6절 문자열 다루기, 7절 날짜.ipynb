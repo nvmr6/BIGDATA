{
 "cells": [
  {
   "cell_type": "markdown",
   "metadata": {},
   "source": [
    "# ch02"
   ]
  },
  {
   "cell_type": "markdown",
   "metadata": {},
   "source": [
    "## 6절 문자열 다루기"
   ]
  },
  {
   "cell_type": "markdown",
   "metadata": {},
   "source": [
    "- 문자열 슬라이싱\n",
    "- len()\n",
    "- upper(): 대문자\n",
    "- lower(): 소문자\n",
    "- title(): 앞글자 대문자\n",
    "- capitalize(): 첫문자 대문자\n",
    "- count('str'): 문자열이 몇개인지\n",
    "- find('str'): 문자열의 인덱스(왼쪽부터)\n",
    "- rfind('str'): 문자열의 인덱스(오른쪽부터)\n",
    "- startwith('str'): 특정 문자열로 시작하는지\n",
    "- endwith('str'): 특정 문자열로 끝나는지\n",
    "- strip(): 좌우 공백 제거\n",
    "- isdigit: 문자열이 숫자인지\n",
    "- islower: 소문자인지\n",
    "- isupper: 대문자인지"
   ]
  },
  {
   "cell_type": "code",
   "execution_count": 4,
   "metadata": {
    "ExecuteTime": {
     "end_time": "2021-02-22T05:55:08.251893Z",
     "start_time": "2021-02-22T05:55:08.246933Z"
    }
   },
   "outputs": [
    {
     "data": {
      "text/plain": [
       "'Python is easy. Phython is smart.Python'"
      ]
     },
     "execution_count": 4,
     "metadata": {},
     "output_type": "execute_result"
    }
   ],
   "source": [
    "temp = \"Python is easy. Phython is smart.Python\"\n",
    "temp"
   ]
  },
  {
   "cell_type": "code",
   "execution_count": 5,
   "metadata": {
    "ExecuteTime": {
     "end_time": "2021-02-22T05:55:09.426607Z",
     "start_time": "2021-02-22T05:55:09.422635Z"
    }
   },
   "outputs": [
    {
     "name": "stdout",
     "output_type": "stream",
     "text": [
      "첫번째 글자는 P, 마지막 글자는 n\n",
      "39\n"
     ]
    }
   ],
   "source": [
    "print(\"첫번째 글자는 {}, 마지막 글자는 {}\".format(temp[0], temp[-1]))\n",
    "print(len(temp))"
   ]
  },
  {
   "cell_type": "code",
   "execution_count": 9,
   "metadata": {
    "ExecuteTime": {
     "end_time": "2021-02-22T05:56:04.436179Z",
     "start_time": "2021-02-22T05:56:04.431193Z"
    }
   },
   "outputs": [
    {
     "name": "stdout",
     "output_type": "stream",
     "text": [
      "PYTHON IS EASY. PHYTHON IS SMART.PYTHON\n",
      "python is easy. phython is smart.python\n",
      "Python Is Easy. Phython Is Smart.Python\n",
      "Python is easy. phython is smart.python\n"
     ]
    }
   ],
   "source": [
    "print(temp.upper())\n",
    "print(temp.lower())\n",
    "print(temp.title())\n",
    "print(temp.capitalize())"
   ]
  },
  {
   "cell_type": "code",
   "execution_count": 14,
   "metadata": {
    "ExecuteTime": {
     "end_time": "2021-02-22T06:01:49.258941Z",
     "start_time": "2021-02-22T06:01:49.254929Z"
    }
   },
   "outputs": [
    {
     "name": "stdout",
     "output_type": "stream",
     "text": [
      "2\n",
      "0\n",
      "33\n",
      "True\n"
     ]
    }
   ],
   "source": [
    "print(temp.count('Python'))\n",
    "print(temp.find('Python'))\n",
    "print(temp.rfind('Python'))\n",
    "print(temp.startswith('Python'))"
   ]
  },
  {
   "cell_type": "code",
   "execution_count": 16,
   "metadata": {
    "ExecuteTime": {
     "end_time": "2021-02-22T06:06:27.218288Z",
     "start_time": "2021-02-22T06:06:27.215292Z"
    }
   },
   "outputs": [
    {
     "name": "stdout",
     "output_type": "stream",
     "text": [
      "python   is  easy\n",
      "    python   is  easy\n",
      "python   is  easy     \n",
      "['python', 'is', 'easy']\n"
     ]
    }
   ],
   "source": [
    "temp = \"    python   is  easy     \"\n",
    "print(temp.strip())\n",
    "print(temp.rstrip())\n",
    "print(temp.lstrip())\n",
    "print(temp.split())"
   ]
  },
  {
   "cell_type": "code",
   "execution_count": 19,
   "metadata": {
    "ExecuteTime": {
     "end_time": "2021-02-22T06:15:57.562640Z",
     "start_time": "2021-02-22T06:15:57.558677Z"
    }
   },
   "outputs": [
    {
     "name": "stdout",
     "output_type": "stream",
     "text": [
      "python - java - R - c ['python', 'java', 'R', 'c'] python / java / R / c\n"
     ]
    }
   ],
   "source": [
    "temp = \"python - java - R - c\"\n",
    "temp1 = temp.split(' - ')\n",
    "temp2 = ' / '.join(temp1)\n",
    "print(temp, temp1, temp2)"
   ]
  },
  {
   "cell_type": "code",
   "execution_count": 22,
   "metadata": {
    "ExecuteTime": {
     "end_time": "2021-02-22T06:17:14.849588Z",
     "start_time": "2021-02-22T06:17:14.845599Z"
    }
   },
   "outputs": [
    {
     "name": "stdout",
     "output_type": "stream",
     "text": [
      "True\n",
      "False\n"
     ]
    }
   ],
   "source": [
    "temp = \"PYTHON\"\n",
    "print(temp.isupper())\n",
    "print(temp.islower())"
   ]
  },
  {
   "cell_type": "code",
   "execution_count": 23,
   "metadata": {
    "ExecuteTime": {
     "end_time": "2021-02-22T06:18:59.803657Z",
     "start_time": "2021-02-22T06:18:59.797693Z"
    }
   },
   "outputs": [
    {
     "data": {
      "text/plain": [
       "['__add__',\n",
       " '__class__',\n",
       " '__contains__',\n",
       " '__delattr__',\n",
       " '__dir__',\n",
       " '__doc__',\n",
       " '__eq__',\n",
       " '__format__',\n",
       " '__ge__',\n",
       " '__getattribute__',\n",
       " '__getitem__',\n",
       " '__getnewargs__',\n",
       " '__gt__',\n",
       " '__hash__',\n",
       " '__init__',\n",
       " '__init_subclass__',\n",
       " '__iter__',\n",
       " '__le__',\n",
       " '__len__',\n",
       " '__lt__',\n",
       " '__mod__',\n",
       " '__mul__',\n",
       " '__ne__',\n",
       " '__new__',\n",
       " '__reduce__',\n",
       " '__reduce_ex__',\n",
       " '__repr__',\n",
       " '__rmod__',\n",
       " '__rmul__',\n",
       " '__setattr__',\n",
       " '__sizeof__',\n",
       " '__str__',\n",
       " '__subclasshook__',\n",
       " 'capitalize',\n",
       " 'casefold',\n",
       " 'center',\n",
       " 'count',\n",
       " 'encode',\n",
       " 'endswith',\n",
       " 'expandtabs',\n",
       " 'find',\n",
       " 'format',\n",
       " 'format_map',\n",
       " 'index',\n",
       " 'isalnum',\n",
       " 'isalpha',\n",
       " 'isascii',\n",
       " 'isdecimal',\n",
       " 'isdigit',\n",
       " 'isidentifier',\n",
       " 'islower',\n",
       " 'isnumeric',\n",
       " 'isprintable',\n",
       " 'isspace',\n",
       " 'istitle',\n",
       " 'isupper',\n",
       " 'join',\n",
       " 'ljust',\n",
       " 'lower',\n",
       " 'lstrip',\n",
       " 'maketrans',\n",
       " 'partition',\n",
       " 'replace',\n",
       " 'rfind',\n",
       " 'rindex',\n",
       " 'rjust',\n",
       " 'rpartition',\n",
       " 'rsplit',\n",
       " 'rstrip',\n",
       " 'split',\n",
       " 'splitlines',\n",
       " 'startswith',\n",
       " 'strip',\n",
       " 'swapcase',\n",
       " 'title',\n",
       " 'translate',\n",
       " 'upper',\n",
       " 'zfill']"
      ]
     },
     "execution_count": 23,
     "metadata": {},
     "output_type": "execute_result"
    }
   ],
   "source": [
    "dir(str)"
   ]
  },
  {
   "cell_type": "markdown",
   "metadata": {},
   "source": [
    "## 7절 날짜"
   ]
  },
  {
   "cell_type": "markdown",
   "metadata": {},
   "source": [
    "### 날짜"
   ]
  },
  {
   "cell_type": "code",
   "execution_count": 25,
   "metadata": {
    "ExecuteTime": {
     "end_time": "2021-02-22T06:35:08.194320Z",
     "start_time": "2021-02-22T06:35:08.189343Z"
    }
   },
   "outputs": [
    {
     "data": {
      "text/plain": [
       "datetime.date(2021, 2, 22)"
      ]
     },
     "execution_count": 25,
     "metadata": {},
     "output_type": "execute_result"
    }
   ],
   "source": [
    "from datetime import date\n",
    "someday = date(2021,2,22)\n",
    "someday"
   ]
  },
  {
   "cell_type": "code",
   "execution_count": 29,
   "metadata": {
    "ExecuteTime": {
     "end_time": "2021-02-22T06:36:46.840999Z",
     "start_time": "2021-02-22T06:36:46.837009Z"
    }
   },
   "outputs": [
    {
     "name": "stdout",
     "output_type": "stream",
     "text": [
      "2021 02 22 00 00 00\n"
     ]
    }
   ],
   "source": [
    "print(\"{:%Y %m %d %H %M %S}\".format(someday))"
   ]
  },
  {
   "cell_type": "code",
   "execution_count": 30,
   "metadata": {
    "ExecuteTime": {
     "end_time": "2021-02-22T06:37:14.408419Z",
     "start_time": "2021-02-22T06:37:14.404429Z"
    }
   },
   "outputs": [
    {
     "name": "stdout",
     "output_type": "stream",
     "text": [
      "2021 2 22\n"
     ]
    }
   ],
   "source": [
    "print(someday.year, someday.month, someday.day)"
   ]
  },
  {
   "cell_type": "code",
   "execution_count": 31,
   "metadata": {
    "ExecuteTime": {
     "end_time": "2021-02-22T06:37:35.817559Z",
     "start_time": "2021-02-22T06:37:35.812572Z"
    }
   },
   "outputs": [
    {
     "data": {
      "text/plain": [
       "datetime.date(2021, 2, 22)"
      ]
     },
     "execution_count": 31,
     "metadata": {},
     "output_type": "execute_result"
    }
   ],
   "source": [
    "today = date.today()\n",
    "today"
   ]
  },
  {
   "cell_type": "markdown",
   "metadata": {},
   "source": [
    "### 시간"
   ]
  },
  {
   "cell_type": "code",
   "execution_count": 32,
   "metadata": {
    "ExecuteTime": {
     "end_time": "2021-02-22T06:39:06.842644Z",
     "start_time": "2021-02-22T06:39:06.836668Z"
    }
   },
   "outputs": [
    {
     "data": {
      "text/plain": [
       "datetime.time(7, 0)"
      ]
     },
     "execution_count": 32,
     "metadata": {},
     "output_type": "execute_result"
    }
   ],
   "source": [
    "from datetime import time\n",
    "t = time(7)\n",
    "t"
   ]
  },
  {
   "cell_type": "code",
   "execution_count": 34,
   "metadata": {
    "ExecuteTime": {
     "end_time": "2021-02-22T06:39:33.887453Z",
     "start_time": "2021-02-22T06:39:33.884459Z"
    }
   },
   "outputs": [
    {
     "name": "stdout",
     "output_type": "stream",
     "text": [
      "18:20:00\n"
     ]
    }
   ],
   "source": [
    "t2 = time(18,20)\n",
    "print(t2)"
   ]
  },
  {
   "cell_type": "code",
   "execution_count": 42,
   "metadata": {
    "ExecuteTime": {
     "end_time": "2021-02-22T09:02:40.947081Z",
     "start_time": "2021-02-22T09:02:40.942119Z"
    }
   },
   "outputs": [
    {
     "name": "stdout",
     "output_type": "stream",
     "text": [
      "18:20:05\n"
     ]
    }
   ],
   "source": [
    "t3 = time(18,20,5)\n",
    "print(t3)"
   ]
  },
  {
   "cell_type": "code",
   "execution_count": 43,
   "metadata": {
    "ExecuteTime": {
     "end_time": "2021-02-22T09:02:45.304387Z",
     "start_time": "2021-02-22T09:02:45.300416Z"
    }
   },
   "outputs": [
    {
     "name": "stdout",
     "output_type": "stream",
     "text": [
      "18:20:05.000100\n"
     ]
    }
   ],
   "source": [
    "t4 = time(hour=18, minute=20, second=5, microsecond=100)\n",
    "print(t4)"
   ]
  },
  {
   "cell_type": "markdown",
   "metadata": {},
   "source": [
    "### 날짜와 시간"
   ]
  },
  {
   "cell_type": "code",
   "execution_count": 36,
   "metadata": {
    "ExecuteTime": {
     "end_time": "2021-02-22T06:44:28.049986Z",
     "start_time": "2021-02-22T06:44:28.044999Z"
    }
   },
   "outputs": [
    {
     "data": {
      "text/plain": [
       "datetime.datetime(2021, 2, 22, 15, 44, 28, 45997)"
      ]
     },
     "execution_count": 36,
     "metadata": {},
     "output_type": "execute_result"
    }
   ],
   "source": [
    "from datetime import datetime\n",
    "now = datetime.now()\n",
    "now"
   ]
  },
  {
   "cell_type": "code",
   "execution_count": 44,
   "metadata": {
    "ExecuteTime": {
     "end_time": "2021-02-22T09:02:58.728530Z",
     "start_time": "2021-02-22T09:02:58.724544Z"
    }
   },
   "outputs": [
    {
     "name": "stdout",
     "output_type": "stream",
     "text": [
      "2021-04-30 18:20:00\n"
     ]
    }
   ],
   "source": [
    "thattime = datetime(2021,4,30,18,20,0)\n",
    "print(thattime)"
   ]
  },
  {
   "cell_type": "code",
   "execution_count": 45,
   "metadata": {
    "ExecuteTime": {
     "end_time": "2021-02-22T09:03:19.722862Z",
     "start_time": "2021-02-22T09:03:19.716877Z"
    }
   },
   "outputs": [
    {
     "name": "stdout",
     "output_type": "stream",
     "text": [
      "2021년 02월 22일 15시 44분 28초\n",
      "2021년 02월 22일 15시 44분 28초\n"
     ]
    },
    {
     "data": {
      "text/plain": [
       "str"
      ]
     },
     "execution_count": 45,
     "metadata": {},
     "output_type": "execute_result"
    }
   ],
   "source": [
    "year = now.strftime('%Y')\n",
    "month = now.strftime('%m')\n",
    "day = now.strftime('%d')\n",
    "hour = now.strftime('%H')\n",
    "minute = now.strftime('%M')\n",
    "second = now.strftime('%S')\n",
    "print(\"{}년 {}월 {}일 {}시 {}분 {}초\".format(year, month, day, hour, minute, second))\n",
    "print(\"%s년 %s월 %s일 %s시 %s분 %s초\"%(year, month, day, hour, minute, second))\n",
    "type(year)"
   ]
  },
  {
   "cell_type": "markdown",
   "metadata": {},
   "source": [
    "### 시간대"
   ]
  },
  {
   "cell_type": "code",
   "execution_count": 41,
   "metadata": {
    "ExecuteTime": {
     "end_time": "2021-02-22T06:55:26.215926Z",
     "start_time": "2021-02-22T06:55:26.211957Z"
    }
   },
   "outputs": [
    {
     "name": "stdout",
     "output_type": "stream",
     "text": [
      "2021-02-22 01:55:26.212962-05:00\n",
      "2021-02-22 15:55:26.212962\n"
     ]
    }
   ],
   "source": [
    "from datetime import datetime\n",
    "import pytz\n",
    "tz_NY = pytz.timezone('America/New_York')\n",
    "datetime_NY = datetime.now(tz_NY)\n",
    "print(datetime_NY)\n",
    "print(datetime.now())"
   ]
  },
  {
   "cell_type": "code",
   "execution_count": 46,
   "metadata": {
    "ExecuteTime": {
     "end_time": "2021-02-22T09:03:29.986376Z",
     "start_time": "2021-02-22T09:03:29.980392Z"
    }
   },
   "outputs": [
    {
     "name": "stdout",
     "output_type": "stream",
     "text": [
      "한국 시간 :  2021-02-22 18:03:29.982387+09:00\n"
     ]
    }
   ],
   "source": [
    "tz_KR = pytz.timezone('Asia/Seoul')\n",
    "datetime_KR = datetime.now(tz_KR)\n",
    "print('한국 시간 : ',datetime_KR)"
   ]
  }
 ],
 "metadata": {
  "kernelspec": {
   "display_name": "Python 3",
   "language": "python",
   "name": "python3"
  },
  "language_info": {
   "codemirror_mode": {
    "name": "ipython",
    "version": 3
   },
   "file_extension": ".py",
   "mimetype": "text/x-python",
   "name": "python",
   "nbconvert_exporter": "python",
   "pygments_lexer": "ipython3",
   "version": "3.8.5"
  },
  "toc": {
   "base_numbering": 1,
   "nav_menu": {},
   "number_sections": true,
   "sideBar": false,
   "skip_h1_title": false,
   "title_cell": "Table of Contents",
   "title_sidebar": "Contents",
   "toc_cell": false,
   "toc_position": {
    "height": "757px",
    "left": "1536px",
    "top": "92px",
    "width": "384px"
   },
   "toc_section_display": true,
   "toc_window_display": true
  },
  "varInspector": {
   "cols": {
    "lenName": 16,
    "lenType": 16,
    "lenVar": 40
   },
   "kernels_config": {
    "python": {
     "delete_cmd_postfix": "",
     "delete_cmd_prefix": "del ",
     "library": "var_list.py",
     "varRefreshCmd": "print(var_dic_list())"
    },
    "r": {
     "delete_cmd_postfix": ") ",
     "delete_cmd_prefix": "rm(",
     "library": "var_list.r",
     "varRefreshCmd": "cat(var_dic_list()) "
    }
   },
   "types_to_exclude": [
    "module",
    "function",
    "builtin_function_or_method",
    "instance",
    "_Feature"
   ],
   "window_display": false
  }
 },
 "nbformat": 4,
 "nbformat_minor": 4
}
