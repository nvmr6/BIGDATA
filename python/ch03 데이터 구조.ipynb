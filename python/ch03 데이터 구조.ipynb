{
 "cells": [
  {
   "cell_type": "markdown",
   "metadata": {},
   "source": [
    "# ch03 데이터 구조"
   ]
  },
  {
   "cell_type": "markdown",
   "metadata": {},
   "source": [
    "## 리스트"
   ]
  },
  {
   "cell_type": "markdown",
   "metadata": {},
   "source": [
    "### 리스트 만들기\n",
    "- []를 이용하여 여러개 값을 하나의 변수에 저장 / 관리\n",
    "- 인덱스: 각 요소의 위치, 인덱스는 0부터 시작\n",
    "- 슬라이싱: 부분 데이터 셋을 뽑아 내는 것. 인덱스 이용해서 쓰기와 읽기를 지원"
   ]
  },
  {
   "cell_type": "code",
   "execution_count": 4,
   "metadata": {
    "ExecuteTime": {
     "end_time": "2021-02-23T00:33:29.087111Z",
     "start_time": "2021-02-23T00:33:29.083121Z"
    }
   },
   "outputs": [
    {
     "name": "stdout",
     "output_type": "stream",
     "text": [
      "['banana', 'apple', 'orange', 'grape']\n"
     ]
    }
   ],
   "source": [
    "fruits = ['banana', 'apple', 'orange', 'grape']\n",
    "type(fruits)\n",
    "print(fruits)"
   ]
  },
  {
   "cell_type": "code",
   "execution_count": 5,
   "metadata": {
    "ExecuteTime": {
     "end_time": "2021-02-23T00:33:30.311717Z",
     "start_time": "2021-02-23T00:33:30.307727Z"
    }
   },
   "outputs": [
    {
     "name": "stdout",
     "output_type": "stream",
     "text": [
      "1 : banana\n",
      "2 : apple\n",
      "3 : orange\n",
      "4 : grape\n",
      "1번째 : banana\n",
      "2번째 : apple\n",
      "3번째 : orange\n",
      "4번째 : grape\n"
     ]
    }
   ],
   "source": [
    "# range(from, to, by) ; from부터 to바로 앞까지 by씩 증가되면서 만들어진 list\n",
    "      # from 생략시 0부터 / by 생략시 1씩\n",
    "for i in range(len(fruits)):\n",
    "    print(i+1,':',fruits[i])\n",
    "for idx in range(len(fruits)) :\n",
    "    print('{}번째 : {}'.format(idx+1, fruits[idx]))"
   ]
  },
  {
   "cell_type": "code",
   "execution_count": 6,
   "metadata": {
    "ExecuteTime": {
     "end_time": "2021-02-22T07:39:38.262430Z",
     "start_time": "2021-02-22T07:39:38.257443Z"
    }
   },
   "outputs": [
    {
     "name": "stdout",
     "output_type": "stream",
     "text": [
      "0\t1\t2\t3\t4\t"
     ]
    }
   ],
   "source": [
    "for i in range(5):\n",
    "    print(i,end='\\t')"
   ]
  },
  {
   "cell_type": "code",
   "execution_count": 40,
   "metadata": {
    "ExecuteTime": {
     "end_time": "2021-02-22T09:05:23.209892Z",
     "start_time": "2021-02-22T09:05:23.204928Z"
    }
   },
   "outputs": [
    {
     "name": "stdout",
     "output_type": "stream",
     "text": [
      "[[1, 2, 3, 4, 5], [10, 20, 30, 40, 50], [1, 3, 5, 7, 9], [2, 4, 6, 8, 10]]\n"
     ]
    }
   ],
   "source": [
    "# 2차원리스트\n",
    "numbers_2d =[[1,2,3,4,5],\n",
    "             [10,20,30,40,50],\n",
    "             [1,3,5,7,9],\n",
    "             [2,4,6,8,10]]\n",
    "print(numbers_2d)"
   ]
  },
  {
   "cell_type": "code",
   "execution_count": 41,
   "metadata": {
    "ExecuteTime": {
     "end_time": "2021-02-22T09:05:23.409263Z",
     "start_time": "2021-02-22T09:05:23.403303Z"
    }
   },
   "outputs": [
    {
     "name": "stdout",
     "output_type": "stream",
     "text": [
      "1\t2\t3\t4\t5\t\n",
      "10\t20\t30\t40\t50\t\n",
      "1\t3\t5\t7\t9\t\n",
      "2\t4\t6\t8\t10\t\n"
     ]
    }
   ],
   "source": [
    "for row in numbers_2d:\n",
    "    for data in row :\n",
    "        print(data, end='\\t')\n",
    "    print() # 개행"
   ]
  },
  {
   "cell_type": "code",
   "execution_count": 42,
   "metadata": {
    "ExecuteTime": {
     "end_time": "2021-02-22T09:05:23.576961Z",
     "start_time": "2021-02-22T09:05:23.571974Z"
    }
   },
   "outputs": [
    {
     "name": "stdout",
     "output_type": "stream",
     "text": [
      "0행0열 :  1\t0행1열 :  2\t0행2열 :  3\t0행3열 :  4\t0행4열 :  5\t\n",
      "1행0열 : 10\t1행1열 : 20\t1행2열 : 30\t1행3열 : 40\t1행4열 : 50\t\n",
      "2행0열 :  1\t2행1열 :  3\t2행2열 :  5\t2행3열 :  7\t2행4열 :  9\t\n",
      "3행0열 :  2\t3행1열 :  4\t3행2열 :  6\t3행3열 :  8\t3행4열 : 10\t\n"
     ]
    }
   ],
   "source": [
    "for i in range(len(numbers_2d)): # len(numbers_2d)=4\n",
    "    for j in range(len(numbers_2d[i])) :\n",
    "        print(\"{}행{}열 : {:>2}\".format(i, j, numbers_2d[i][j]), end='\\t')\n",
    "    print()"
   ]
  },
  {
   "cell_type": "markdown",
   "metadata": {},
   "source": [
    "### 기본 정보"
   ]
  },
  {
   "cell_type": "code",
   "execution_count": 10,
   "metadata": {
    "ExecuteTime": {
     "end_time": "2021-02-22T08:02:48.061050Z",
     "start_time": "2021-02-22T08:02:48.056062Z"
    }
   },
   "outputs": [],
   "source": [
    "numbers = [1,2,3,4,5]\n",
    "numbers_2d = [[1,2,3,4,5],\n",
    "             [11,22,33,44,55],\n",
    "             [10,20,30,40,50],\n",
    "             [2,4,6,8,10]]"
   ]
  },
  {
   "cell_type": "code",
   "execution_count": 11,
   "metadata": {
    "ExecuteTime": {
     "end_time": "2021-02-22T08:03:21.148044Z",
     "start_time": "2021-02-22T08:03:21.144055Z"
    }
   },
   "outputs": [
    {
     "name": "stdout",
     "output_type": "stream",
     "text": [
      "5\n",
      "4\n"
     ]
    }
   ],
   "source": [
    "#요소 수\n",
    "print(len(numbers))\n",
    "print(len(numbers_2d))"
   ]
  },
  {
   "cell_type": "code",
   "execution_count": 13,
   "metadata": {
    "ExecuteTime": {
     "end_time": "2021-02-22T08:05:54.036881Z",
     "start_time": "2021-02-22T08:05:54.031893Z"
    }
   },
   "outputs": [
    {
     "data": {
      "text/plain": [
       "(1, 5, [1, 2, 3, 4, 5], [11, 22, 33, 44, 55])"
      ]
     },
     "execution_count": 13,
     "metadata": {},
     "output_type": "execute_result"
    }
   ],
   "source": [
    "min(numbers),max(numbers),min(numbers_2d),max(numbers_2d)"
   ]
  },
  {
   "cell_type": "markdown",
   "metadata": {},
   "source": [
    "### 요소 추가"
   ]
  },
  {
   "cell_type": "code",
   "execution_count": 14,
   "metadata": {
    "ExecuteTime": {
     "end_time": "2021-02-22T08:08:06.258811Z",
     "start_time": "2021-02-22T08:08:06.255819Z"
    }
   },
   "outputs": [],
   "source": [
    "#+: 두 리스트 연결\n",
    "#*: 리스트를 곱한 후 만큼 반복\n",
    "#append(): 요소를 맨 뒤에 추가\n",
    "#extend(): 요소별로 맨 뒤에 추가\n",
    "# insert() 지정된 index 위치에 삽입"
   ]
  },
  {
   "cell_type": "code",
   "execution_count": 18,
   "metadata": {
    "ExecuteTime": {
     "end_time": "2021-02-22T08:12:21.570899Z",
     "start_time": "2021-02-22T08:12:21.566910Z"
    }
   },
   "outputs": [
    {
     "name": "stdout",
     "output_type": "stream",
     "text": [
      "[1, 2, 3, 4, 5, 6, 1, 2, 3, 4, 5, 6]\n",
      "[1, 2, 3, 4, 5, 6, 1, 2, 3, 4, 5, 6, 1, 2, 3, 4, 5, 6]\n",
      "[1, 2, 3, 4, 5, 6, 6]\n"
     ]
    }
   ],
   "source": [
    "print(numbers+numbers)\n",
    "print(numbers*3)\n",
    "numbers.append(6)\n",
    "print(numbers)"
   ]
  },
  {
   "cell_type": "code",
   "execution_count": 19,
   "metadata": {
    "ExecuteTime": {
     "end_time": "2021-02-22T08:14:13.436001Z",
     "start_time": "2021-02-22T08:14:13.431014Z"
    }
   },
   "outputs": [
    {
     "data": {
      "text/plain": [
       "[1, 2, 3, 4, 5, 6, 6, 7, 8, 9]"
      ]
     },
     "execution_count": 19,
     "metadata": {},
     "output_type": "execute_result"
    }
   ],
   "source": [
    "num = [7,8,9]\n",
    "numbers.extend(num)\n",
    "numbers"
   ]
  },
  {
   "cell_type": "code",
   "execution_count": 20,
   "metadata": {
    "ExecuteTime": {
     "end_time": "2021-02-22T08:15:52.483268Z",
     "start_time": "2021-02-22T08:15:52.479291Z"
    }
   },
   "outputs": [
    {
     "data": {
      "text/plain": [
       "[1, 2, 3, 'x', 4, 5, 6, 6, 7, 8, 9]"
      ]
     },
     "execution_count": 20,
     "metadata": {},
     "output_type": "execute_result"
    }
   ],
   "source": [
    "numbers.insert(3, 'x')\n",
    "numbers"
   ]
  },
  {
   "cell_type": "markdown",
   "metadata": {},
   "source": [
    "### 인덱싱"
   ]
  },
  {
   "cell_type": "markdown",
   "metadata": {},
   "source": [
    "- count(): 데이터의 갯수 반환\n",
    "- index(): 해당 요소의 위치 반환"
   ]
  },
  {
   "cell_type": "code",
   "execution_count": 25,
   "metadata": {
    "ExecuteTime": {
     "end_time": "2021-02-22T08:23:47.803861Z",
     "start_time": "2021-02-22T08:23:47.798875Z"
    }
   },
   "outputs": [
    {
     "data": {
      "text/plain": [
       "4"
      ]
     },
     "execution_count": 25,
     "metadata": {},
     "output_type": "execute_result"
    }
   ],
   "source": [
    "number = [1,2,3,[1,2,3],2]\n",
    "number.count(2), number.count([1,2,3])"
   ]
  },
  {
   "cell_type": "code",
   "execution_count": 26,
   "metadata": {
    "ExecuteTime": {
     "end_time": "2021-02-22T08:24:02.714765Z",
     "start_time": "2021-02-22T08:24:02.710804Z"
    }
   },
   "outputs": [
    {
     "data": {
      "text/plain": [
       "4"
      ]
     },
     "execution_count": 26,
     "metadata": {},
     "output_type": "execute_result"
    }
   ],
   "source": [
    "number.index(2,4)#4이후로 나오는 2 인덱스"
   ]
  },
  {
   "cell_type": "markdown",
   "metadata": {},
   "source": [
    "### 리스트 슬라이싱"
   ]
  },
  {
   "cell_type": "markdown",
   "metadata": {},
   "source": [
    "- [from:to:by]: from부터 to 바로 앞까지 by번 증가하는 인덱스 아이템"
   ]
  },
  {
   "cell_type": "code",
   "execution_count": 27,
   "metadata": {
    "ExecuteTime": {
     "end_time": "2021-02-22T08:40:23.420718Z",
     "start_time": "2021-02-22T08:40:23.415731Z"
    }
   },
   "outputs": [
    {
     "data": {
      "text/plain": [
       "[3, 4, 5]"
      ]
     },
     "execution_count": 27,
     "metadata": {},
     "output_type": "execute_result"
    }
   ],
   "source": [
    "number = [1,2,3,4,5]\n",
    "number[2:9]"
   ]
  },
  {
   "cell_type": "code",
   "execution_count": 28,
   "metadata": {
    "ExecuteTime": {
     "end_time": "2021-02-22T08:40:34.338780Z",
     "start_time": "2021-02-22T08:40:34.333821Z"
    }
   },
   "outputs": [
    {
     "data": {
      "text/plain": [
       "[5, 4, 3, 2, 1]"
      ]
     },
     "execution_count": 28,
     "metadata": {},
     "output_type": "execute_result"
    }
   ],
   "source": [
    "number[::-1]"
   ]
  },
  {
   "cell_type": "code",
   "execution_count": 29,
   "metadata": {
    "ExecuteTime": {
     "end_time": "2021-02-22T08:46:41.746871Z",
     "start_time": "2021-02-22T08:46:41.741884Z"
    }
   },
   "outputs": [
    {
     "name": "stdout",
     "output_type": "stream",
     "text": [
      "454\n",
      "76\n",
      "447\n",
      "33\n",
      "4869\n",
      "4845\n",
      "1154\n",
      "7788\n",
      "5\n",
      "4\n"
     ]
    }
   ],
   "source": [
    "numbers = [454,76,447,33,4869,4845,1154,7788,5,4]\n",
    "for i in numbers:\n",
    "    print(i)"
   ]
  },
  {
   "cell_type": "code",
   "execution_count": 30,
   "metadata": {
    "ExecuteTime": {
     "end_time": "2021-02-22T08:47:33.137792Z",
     "start_time": "2021-02-22T08:47:33.132805Z"
    }
   },
   "outputs": [
    {
     "data": {
      "text/plain": [
       "[454, 76, 447, 33, 4869, 4845, 1154, 7788, 5, 4]"
      ]
     },
     "execution_count": 30,
     "metadata": {},
     "output_type": "execute_result"
    }
   ],
   "source": [
    "#람다식\n",
    "[data for data in numbers]"
   ]
  },
  {
   "cell_type": "code",
   "execution_count": 31,
   "metadata": {
    "ExecuteTime": {
     "end_time": "2021-02-22T08:52:18.706259Z",
     "start_time": "2021-02-22T08:52:18.701269Z"
    }
   },
   "outputs": [
    {
     "data": {
      "text/plain": [
       "[454, 76, 1154, 7788, 4]"
      ]
     },
     "execution_count": 31,
     "metadata": {},
     "output_type": "execute_result"
    }
   ],
   "source": [
    "[x for x in numbers if x%2==0]"
   ]
  },
  {
   "cell_type": "code",
   "execution_count": 33,
   "metadata": {
    "ExecuteTime": {
     "end_time": "2021-02-22T08:55:01.882579Z",
     "start_time": "2021-02-22T08:55:01.877592Z"
    }
   },
   "outputs": [
    {
     "data": {
      "text/plain": [
       "['banana', 'orange']"
      ]
     },
     "execution_count": 33,
     "metadata": {},
     "output_type": "execute_result"
    }
   ],
   "source": [
    "[x for x in fruits if len(x)>=6]"
   ]
  },
  {
   "cell_type": "code",
   "execution_count": 34,
   "metadata": {
    "ExecuteTime": {
     "end_time": "2021-02-22T08:58:03.385581Z",
     "start_time": "2021-02-22T08:58:03.380595Z"
    }
   },
   "outputs": [
    {
     "data": {
      "text/plain": [
       "[1, 2, 3, 4, 5]"
      ]
     },
     "execution_count": 34,
     "metadata": {},
     "output_type": "execute_result"
    }
   ],
   "source": [
    "number"
   ]
  },
  {
   "cell_type": "code",
   "execution_count": 35,
   "metadata": {
    "ExecuteTime": {
     "end_time": "2021-02-22T08:58:20.225289Z",
     "start_time": "2021-02-22T08:58:20.220303Z"
    }
   },
   "outputs": [
    {
     "data": {
      "text/plain": [
       "[1, 4, 9, 16, 25]"
      ]
     },
     "execution_count": 35,
     "metadata": {},
     "output_type": "execute_result"
    }
   ],
   "source": [
    "[x**2 for x in number]"
   ]
  },
  {
   "cell_type": "code",
   "execution_count": 36,
   "metadata": {
    "ExecuteTime": {
     "end_time": "2021-02-22T08:58:29.537807Z",
     "start_time": "2021-02-22T08:58:29.532821Z"
    }
   },
   "outputs": [
    {
     "data": {
      "text/plain": [
       "[1, 8, 27, 64, 125]"
      ]
     },
     "execution_count": 36,
     "metadata": {},
     "output_type": "execute_result"
    }
   ],
   "source": [
    "[x**3 for x in number]"
   ]
  },
  {
   "cell_type": "code",
   "execution_count": 37,
   "metadata": {
    "ExecuteTime": {
     "end_time": "2021-02-22T08:58:37.600740Z",
     "start_time": "2021-02-22T08:58:37.596736Z"
    }
   },
   "outputs": [
    {
     "data": {
      "text/plain": [
       "[2, 4, 6, 8, 10]"
      ]
     },
     "execution_count": 37,
     "metadata": {},
     "output_type": "execute_result"
    }
   ],
   "source": [
    "[x*2 for x in number]"
   ]
  },
  {
   "cell_type": "markdown",
   "metadata": {},
   "source": [
    "### 요소 수정"
   ]
  },
  {
   "cell_type": "code",
   "execution_count": 6,
   "metadata": {
    "ExecuteTime": {
     "end_time": "2021-02-23T00:36:10.431598Z",
     "start_time": "2021-02-23T00:36:10.420627Z"
    }
   },
   "outputs": [
    {
     "data": {
      "text/plain": [
       "[0, 1, 2, 3, 4, 5, 6, 7, 8, 9]"
      ]
     },
     "execution_count": 6,
     "metadata": {},
     "output_type": "execute_result"
    }
   ],
   "source": [
    "numbers = [0,1,2,3,4,5,6,7,8,9]\n",
    "numbers"
   ]
  },
  {
   "cell_type": "code",
   "execution_count": 7,
   "metadata": {
    "ExecuteTime": {
     "end_time": "2021-02-23T00:38:28.801784Z",
     "start_time": "2021-02-23T00:38:28.796797Z"
    }
   },
   "outputs": [
    {
     "data": {
      "text/plain": [
       "[0, 1, 222, 3, 4, 5, 6, 7, 8, 9]"
      ]
     },
     "execution_count": 7,
     "metadata": {},
     "output_type": "execute_result"
    }
   ],
   "source": [
    "numbers[2] = 222\n",
    "numbers"
   ]
  },
  {
   "cell_type": "code",
   "execution_count": 8,
   "metadata": {
    "ExecuteTime": {
     "end_time": "2021-02-23T00:38:45.274399Z",
     "start_time": "2021-02-23T00:38:45.269432Z"
    }
   },
   "outputs": [
    {
     "data": {
      "text/plain": [
       "[9, 9, 9, 5, 6, 7, 8, 9]"
      ]
     },
     "execution_count": 8,
     "metadata": {},
     "output_type": "execute_result"
    }
   ],
   "source": [
    "numbers[0:5] = [9,9,9]\n",
    "numbers #맵핑이 아닌 대체"
   ]
  },
  {
   "cell_type": "code",
   "execution_count": 11,
   "metadata": {
    "ExecuteTime": {
     "end_time": "2021-02-23T00:43:18.758416Z",
     "start_time": "2021-02-23T00:43:18.754447Z"
    }
   },
   "outputs": [
    {
     "name": "stdout",
     "output_type": "stream",
     "text": [
      "[0, 0, 0, 0, 0, 0, 0, 0, 0, 0]\n",
      "[1, 0, 1, 0, 1, 0, 1, 0, 1, 0]\n"
     ]
    }
   ],
   "source": [
    "numbers = [0]*10\n",
    "print(numbers)\n",
    "numbers[::2] = [1,1,1,1,1] # by 포함시 수 일치\n",
    "print(numbers)"
   ]
  },
  {
   "cell_type": "markdown",
   "metadata": {},
   "source": [
    "### 요소 삭제\n",
    "- pop(): 마지막 요소 반환되고 삭제,pop(n): n번째 삭제\n",
    "- remove(): remove(data) 해당 데이터 삭제\n",
    "- del"
   ]
  },
  {
   "cell_type": "code",
   "execution_count": 14,
   "metadata": {
    "ExecuteTime": {
     "end_time": "2021-02-23T00:49:19.918171Z",
     "start_time": "2021-02-23T00:49:19.914182Z"
    }
   },
   "outputs": [
    {
     "name": "stdout",
     "output_type": "stream",
     "text": [
      "1\n",
      "[1, 0, 1, 0, 1, 0, 1, 0]\n"
     ]
    }
   ],
   "source": [
    "print(numbers.pop())\n",
    "print(numbers)"
   ]
  },
  {
   "cell_type": "code",
   "execution_count": 15,
   "metadata": {
    "ExecuteTime": {
     "end_time": "2021-02-23T00:51:07.592034Z",
     "start_time": "2021-02-23T00:51:07.587047Z"
    }
   },
   "outputs": [
    {
     "name": "stdout",
     "output_type": "stream",
     "text": [
      "[2, 4, 6, 8, 10]\n",
      "[[1, 2, 3, 4, 5], [10, 20, 30, 40, 50], [1, 3, 5, 7, 9]]\n"
     ]
    }
   ],
   "source": [
    "numbers_2d =[[1,2,3,4,5],\n",
    "             [10,20,30,40,50],\n",
    "             [1,3,5,7,9],\n",
    "             [2,4,6,8,10]]\n",
    "print(numbers_2d.pop())\n",
    "print(numbers_2d)"
   ]
  },
  {
   "cell_type": "code",
   "execution_count": 16,
   "metadata": {
    "ExecuteTime": {
     "end_time": "2021-02-23T00:52:43.125925Z",
     "start_time": "2021-02-23T00:52:43.121937Z"
    }
   },
   "outputs": [
    {
     "name": "stdout",
     "output_type": "stream",
     "text": [
      "None\n",
      "[0, 1, 0, 1, 0, 1, 0]\n"
     ]
    }
   ],
   "source": [
    "print(numbers.remove(1))\n",
    "print(numbers)"
   ]
  },
  {
   "cell_type": "code",
   "execution_count": 17,
   "metadata": {
    "ExecuteTime": {
     "end_time": "2021-02-23T00:54:40.895862Z",
     "start_time": "2021-02-23T00:54:40.891892Z"
    }
   },
   "outputs": [
    {
     "name": "stdout",
     "output_type": "stream",
     "text": [
      "[0, 1, 1, 0, 1, 0]\n"
     ]
    }
   ],
   "source": [
    "del numbers[2]\n",
    "print(numbers)"
   ]
  },
  {
   "cell_type": "code",
   "execution_count": 18,
   "metadata": {
    "ExecuteTime": {
     "end_time": "2021-02-23T00:56:24.341013Z",
     "start_time": "2021-02-23T00:56:24.338001Z"
    }
   },
   "outputs": [
    {
     "name": "stdout",
     "output_type": "stream",
     "text": [
      "[]\n"
     ]
    }
   ],
   "source": [
    "numbers.clear()\n",
    "print(numbers)"
   ]
  },
  {
   "cell_type": "markdown",
   "metadata": {},
   "source": [
    "### 요소 정렬"
   ]
  },
  {
   "cell_type": "code",
   "execution_count": 23,
   "metadata": {
    "ExecuteTime": {
     "end_time": "2021-02-23T01:02:08.974342Z",
     "start_time": "2021-02-23T01:02:08.969367Z"
    }
   },
   "outputs": [
    {
     "data": {
      "text/plain": [
       "[7, 9, 33, 41, 54, 78, 547, 565]"
      ]
     },
     "execution_count": 23,
     "metadata": {},
     "output_type": "execute_result"
    }
   ],
   "source": [
    "numbers = [7,565,78,54,33,9,41,547]\n",
    "numbers.sort()#기본 정렬: 오름 차순, 리스트 변경\n",
    "numbers\n",
    "#새로운 변수에 저장해도 기존 데이터 변경"
   ]
  },
  {
   "cell_type": "code",
   "execution_count": 22,
   "metadata": {
    "ExecuteTime": {
     "end_time": "2021-02-23T01:02:01.735255Z",
     "start_time": "2021-02-23T01:02:01.730268Z"
    }
   },
   "outputs": [
    {
     "data": {
      "text/plain": [
       "[565, 547, 78, 54, 41, 33, 9, 7]"
      ]
     },
     "execution_count": 22,
     "metadata": {},
     "output_type": "execute_result"
    }
   ],
   "source": [
    "numbers.sort(reverse = True)#내림 차순, 리스트 변경\n",
    "numbers"
   ]
  },
  {
   "cell_type": "markdown",
   "metadata": {},
   "source": [
    "### 리스트 복제"
   ]
  },
  {
   "cell_type": "code",
   "execution_count": 24,
   "metadata": {
    "ExecuteTime": {
     "end_time": "2021-02-23T01:11:06.766959Z",
     "start_time": "2021-02-23T01:11:06.761998Z"
    }
   },
   "outputs": [
    {
     "name": "stdout",
     "output_type": "stream",
     "text": [
      "[7, 565, 78, 54, 33, 9, 41, 547]\n",
      "[7, 9, 33, 41, 54, 78, 547, 565]\n"
     ]
    }
   ],
   "source": [
    "#새로운 변수에 저장해도 기존 데이터 변경\n",
    "#copy()함수 이용\n",
    "numbers = [7,565,78,54,33,9,41,547]\n",
    "new = numbers.copy()\n",
    "new.sort()\n",
    "print(numbers)\n",
    "print(new)"
   ]
  },
  {
   "cell_type": "markdown",
   "metadata": {},
   "source": [
    "## 튜플\n",
    "- 읽기 전용, 리스트와 유사, 수정이 필요없는 데이터\n",
    "- 수정이 불가하므로 튜플에 데이터 추가, 수정, 삭제 불가"
   ]
  },
  {
   "cell_type": "code",
   "execution_count": 25,
   "metadata": {
    "ExecuteTime": {
     "end_time": "2021-02-23T01:22:24.854083Z",
     "start_time": "2021-02-23T01:22:24.849095Z"
    }
   },
   "outputs": [
    {
     "data": {
      "text/plain": [
       "tuple"
      ]
     },
     "execution_count": 25,
     "metadata": {},
     "output_type": "execute_result"
    }
   ],
   "source": [
    "city = ('seoul', 'chicago', 'tokyo', 'paris', 'berlin')\n",
    "type(city)"
   ]
  },
  {
   "cell_type": "code",
   "execution_count": 29,
   "metadata": {
    "ExecuteTime": {
     "end_time": "2021-02-23T02:00:30.042741Z",
     "start_time": "2021-02-23T02:00:30.038777Z"
    }
   },
   "outputs": [
    {
     "name": "stdout",
     "output_type": "stream",
     "text": [
      "<class 'list'>\n",
      "['서울']\n"
     ]
    }
   ],
   "source": [
    "l = ['서울'] # 요소가 하나 있는 리스트\n",
    "print(type(l))\n",
    "print(l)"
   ]
  },
  {
   "cell_type": "code",
   "execution_count": 30,
   "metadata": {
    "ExecuteTime": {
     "end_time": "2021-02-23T02:00:30.354099Z",
     "start_time": "2021-02-23T02:00:30.349111Z"
    }
   },
   "outputs": [
    {
     "name": "stdout",
     "output_type": "stream",
     "text": [
      "<class 'tuple'> 1\n",
      "('서울',)\n"
     ]
    }
   ],
   "source": [
    "city = ('서울',) #요소가 하나 있는 튜플\n",
    "print(type(city), len(city))\n",
    "print(city)"
   ]
  },
  {
   "cell_type": "markdown",
   "metadata": {},
   "source": [
    "## 딕셔너리\n",
    "- 키와 값으로 이루어짐\n",
    "- 키는 중복을 허용하지 않음, 키에 리스트는 불가 튜플은 가능\n",
    "- 값은 중복 가능"
   ]
  },
  {
   "cell_type": "code",
   "execution_count": 28,
   "metadata": {
    "ExecuteTime": {
     "end_time": "2021-02-23T01:56:22.899180Z",
     "start_time": "2021-02-23T01:56:22.895191Z"
    }
   },
   "outputs": [
    {
     "name": "stdout",
     "output_type": "stream",
     "text": [
      "<class 'dict'>\n",
      "2\n"
     ]
    }
   ],
   "source": [
    "dic = {'key1':'value', 'key2':'value'}\n",
    "print(type(dic))\n",
    "print(len(dic))"
   ]
  },
  {
   "cell_type": "code",
   "execution_count": 105,
   "metadata": {
    "ExecuteTime": {
     "end_time": "2021-02-23T05:02:39.671578Z",
     "start_time": "2021-02-23T05:02:39.666592Z"
    }
   },
   "outputs": [
    {
     "data": {
      "text/plain": [
       "{'fruit': 'apple', 'number': 1, 'sport': 'golf'}"
      ]
     },
     "execution_count": 105,
     "metadata": {},
     "output_type": "execute_result"
    }
   ],
   "source": [
    "my_favorite = {'fruit':'apple', 'number':1, 'sport':'golf'}\n",
    "my_favorite"
   ]
  },
  {
   "cell_type": "code",
   "execution_count": 106,
   "metadata": {
    "ExecuteTime": {
     "end_time": "2021-02-23T05:02:39.758346Z",
     "start_time": "2021-02-23T05:02:39.673573Z"
    }
   },
   "outputs": [
    {
     "data": {
      "text/plain": [
       "'apple'"
      ]
     },
     "execution_count": 106,
     "metadata": {},
     "output_type": "execute_result"
    }
   ],
   "source": [
    "my_favorite.get('fruit')"
   ]
  },
  {
   "cell_type": "code",
   "execution_count": 107,
   "metadata": {
    "ExecuteTime": {
     "end_time": "2021-02-23T05:02:39.836610Z",
     "start_time": "2021-02-23T05:02:39.760341Z"
    }
   },
   "outputs": [
    {
     "ename": "KeyError",
     "evalue": "'people'",
     "output_type": "error",
     "traceback": [
      "\u001b[1;31m---------------------------------------------------------------------------\u001b[0m",
      "\u001b[1;31mKeyError\u001b[0m                                  Traceback (most recent call last)",
      "\u001b[1;32m<ipython-input-107-b504160f6186>\u001b[0m in \u001b[0;36m<module>\u001b[1;34m\u001b[0m\n\u001b[1;32m----> 1\u001b[1;33m \u001b[0mmy_favorite\u001b[0m\u001b[1;33m[\u001b[0m\u001b[1;34m'people'\u001b[0m\u001b[1;33m]\u001b[0m \u001b[1;31m# 키목록에 없는 데이터 참조시 에러\u001b[0m\u001b[1;33m\u001b[0m\u001b[1;33m\u001b[0m\u001b[0m\n\u001b[0m",
      "\u001b[1;31mKeyError\u001b[0m: 'people'"
     ]
    }
   ],
   "source": [
    "my_favorite['people'] # 키목록에 없는 데이터 참조시 에러"
   ]
  },
  {
   "cell_type": "code",
   "execution_count": null,
   "metadata": {
    "ExecuteTime": {
     "end_time": "2021-02-23T05:02:39.839603Z",
     "start_time": "2021-02-23T05:02:39.674Z"
    }
   },
   "outputs": [],
   "source": [
    "my_favorite[0] # 인덱스를 이용한 참조는 지원 안 함"
   ]
  },
  {
   "cell_type": "code",
   "execution_count": null,
   "metadata": {
    "ExecuteTime": {
     "end_time": "2021-02-23T05:02:39.841598Z",
     "start_time": "2021-02-23T05:02:39.677Z"
    }
   },
   "outputs": [],
   "source": [
    "# 키 : 문자, 숫자, 튜플. 중복불가\n",
    "# 값 : 모든 문자 타입. 중복 가능\n",
    "my_dic1 = {1:'Hello', 2:'World', 2:'Python'}\n",
    "my_dic1"
   ]
  },
  {
   "cell_type": "code",
   "execution_count": null,
   "metadata": {
    "ExecuteTime": {
     "end_time": "2021-02-23T05:02:39.842595Z",
     "start_time": "2021-02-23T05:02:39.679Z"
    }
   },
   "outputs": [],
   "source": [
    "my_dic1['people'] = ['홍길동','홍길순'] # my_dic1에 요소 추가\n",
    "my_dic1['study'] = ['python','hadoop'] # 추가\n",
    "my_dic1[1] = 'Hi'\n",
    "#my_dic1.append({'people':['홍길동','홍길순']}) 불가\n",
    "my_dic1"
   ]
  },
  {
   "cell_type": "code",
   "execution_count": null,
   "metadata": {
    "ExecuteTime": {
     "end_time": "2021-02-23T05:02:39.843592Z",
     "start_time": "2021-02-23T05:02:39.681Z"
    }
   },
   "outputs": [],
   "source": [
    "del my_dic1['study']\n",
    "my_dic1"
   ]
  },
  {
   "cell_type": "code",
   "execution_count": null,
   "metadata": {
    "ExecuteTime": {
     "end_time": "2021-02-23T05:02:39.844589Z",
     "start_time": "2021-02-23T05:02:39.684Z"
    }
   },
   "outputs": [],
   "source": [
    "my_dic2 = {'name':'Hong', 'name':'KilDong', 'age':30}\n",
    "my_dic2"
   ]
  },
  {
   "cell_type": "code",
   "execution_count": null,
   "metadata": {
    "ExecuteTime": {
     "end_time": "2021-02-23T05:02:39.846584Z",
     "start_time": "2021-02-23T05:02:39.686Z"
    }
   },
   "outputs": [],
   "source": [
    "# 키목록에 True와 1은 같은 키으로 간주. False와 0은 같은 키로 간주\n",
    "my_dic3 = {1:'Hello', True:'World', False:'Python', 0:'Hadoop'}\n",
    "my_dic3"
   ]
  },
  {
   "cell_type": "code",
   "execution_count": null,
   "metadata": {
    "ExecuteTime": {
     "end_time": "2021-02-23T05:02:39.847582Z",
     "start_time": "2021-02-23T05:02:39.688Z"
    }
   },
   "outputs": [],
   "source": [
    "my_list = ['홍길동',25,'010-9999-9999']\n",
    "my_tupple = ('홍길동',25,'010-9999-9999')\n",
    "for data in my_tupple:\n",
    "    print(data, end='\\t')\n",
    "print() # 개행\n",
    "for idx in range(len(my_list)):\n",
    "    print(\"{}번째 데이터 {}\".format(idx, my_tupple[idx]) , end='\\t')"
   ]
  },
  {
   "cell_type": "code",
   "execution_count": null,
   "metadata": {
    "ExecuteTime": {
     "end_time": "2021-02-23T05:02:39.848579Z",
     "start_time": "2021-02-23T05:02:39.690Z"
    }
   },
   "outputs": [],
   "source": [
    "my_dic = {'name':'홍길동','age':25, 'tel':'010-9999-9999'}\n",
    "for data in my_dic:\n",
    "    print(data, end='\\t')"
   ]
  },
  {
   "cell_type": "code",
   "execution_count": null,
   "metadata": {
    "ExecuteTime": {
     "end_time": "2021-02-23T05:02:39.849577Z",
     "start_time": "2021-02-23T05:02:39.692Z"
    }
   },
   "outputs": [],
   "source": [
    "my_dic.keys() # 키목록"
   ]
  },
  {
   "cell_type": "code",
   "execution_count": null,
   "metadata": {
    "ExecuteTime": {
     "end_time": "2021-02-23T05:02:39.850574Z",
     "start_time": "2021-02-23T05:02:39.694Z"
    }
   },
   "outputs": [],
   "source": [
    "my_dic.values() # 값들만"
   ]
  },
  {
   "cell_type": "code",
   "execution_count": null,
   "metadata": {
    "ExecuteTime": {
     "end_time": "2021-02-23T05:02:39.851572Z",
     "start_time": "2021-02-23T05:02:39.697Z"
    }
   },
   "outputs": [],
   "source": [
    "my_dic.items() # 튜플로 이루어진 (키,값) 들"
   ]
  },
  {
   "cell_type": "code",
   "execution_count": null,
   "metadata": {
    "ExecuteTime": {
     "end_time": "2021-02-23T05:02:39.852568Z",
     "start_time": "2021-02-23T05:02:39.699Z"
    }
   },
   "outputs": [],
   "source": [
    "for item in my_dic.items():\n",
    "    print(item)"
   ]
  },
  {
   "cell_type": "code",
   "execution_count": null,
   "metadata": {
    "ExecuteTime": {
     "end_time": "2021-02-23T05:02:39.853566Z",
     "start_time": "2021-02-23T05:02:39.701Z"
    }
   },
   "outputs": [],
   "source": [
    "for key, value in my_dic.items():\n",
    "    print(\"{}은 {}.\".format(key, value), end='\\t')"
   ]
  },
  {
   "cell_type": "code",
   "execution_count": null,
   "metadata": {
    "ExecuteTime": {
     "end_time": "2021-02-23T05:02:39.854564Z",
     "start_time": "2021-02-23T05:02:39.703Z"
    }
   },
   "outputs": [],
   "source": [
    "my_favorite = {'fruit':'apple','number':1, 'sport':'golf'}\n",
    "'golf' in my_favorite#키가 있는지 여부"
   ]
  },
  {
   "cell_type": "code",
   "execution_count": null,
   "metadata": {
    "ExecuteTime": {
     "end_time": "2021-02-23T05:02:39.855561Z",
     "start_time": "2021-02-23T05:02:39.705Z"
    }
   },
   "outputs": [],
   "source": [
    "my_favorite\n",
    "# 할당\n",
    "new_my_favorite = my_favorite\n",
    "print('new_my_favorite : ', new_my_favorite)\n",
    "print('my_favorite : ', my_favorite)"
   ]
  },
  {
   "cell_type": "code",
   "execution_count": null,
   "metadata": {
    "ExecuteTime": {
     "end_time": "2021-02-23T05:02:39.856558Z",
     "start_time": "2021-02-23T05:02:39.708Z"
    }
   },
   "outputs": [],
   "source": [
    "my_favorite['number'] = '다 좋아'\n",
    "print('new_my_favorite : ', new_my_favorite)\n",
    "print('my_favorite : ', my_favorite)\n",
    "print('new_my_favorite 주소 :', id(new_my_favorite))\n",
    "print('my_favorite 주소 :', id(my_favorite))"
   ]
  },
  {
   "cell_type": "code",
   "execution_count": null,
   "metadata": {
    "ExecuteTime": {
     "end_time": "2021-02-23T05:02:39.857556Z",
     "start_time": "2021-02-23T05:02:39.710Z"
    }
   },
   "outputs": [],
   "source": [
    "my_favorite\n",
    "# 복제\n",
    "new_my_favorite = my_favorite.copy()\n",
    "print('new_my_favorite : ', new_my_favorite)\n",
    "print('my_favorite : ', my_favorite)"
   ]
  },
  {
   "cell_type": "code",
   "execution_count": null,
   "metadata": {
    "ExecuteTime": {
     "end_time": "2021-02-23T05:02:39.858553Z",
     "start_time": "2021-02-23T05:02:39.712Z"
    }
   },
   "outputs": [],
   "source": [
    "my_favorite['number'] = 9\n",
    "print('new_my_favorite : ', new_my_favorite)\n",
    "print('my_favorite : ', my_favorite)\n",
    "print('new_my_favorite 주소 :', id(new_my_favorite))\n",
    "print('my_favorite 주소 :', id(my_favorite))"
   ]
  },
  {
   "cell_type": "markdown",
   "metadata": {},
   "source": [
    "## 셋\n",
    "- 순서가 정해지지 않고 , 중복을 허용하지 않는 집합\n",
    "- set(dict 타입): 키값만 셋에 추가\n",
    "- &:교집합, |:합집합, -:차집합"
   ]
  },
  {
   "cell_type": "code",
   "execution_count": 31,
   "metadata": {
    "ExecuteTime": {
     "end_time": "2021-02-23T02:56:31.436320Z",
     "start_time": "2021-02-23T02:56:31.431358Z"
    }
   },
   "outputs": [
    {
     "data": {
      "text/plain": [
       "{'apple', 'banana', 'grape'}"
      ]
     },
     "execution_count": 31,
     "metadata": {},
     "output_type": "execute_result"
    }
   ],
   "source": [
    "fruits = {'apple', 'banana', 'grape', 'banana'}\n",
    "fruits"
   ]
  },
  {
   "cell_type": "code",
   "execution_count": 110,
   "metadata": {
    "ExecuteTime": {
     "end_time": "2021-02-23T05:03:00.567743Z",
     "start_time": "2021-02-23T05:03:00.563779Z"
    }
   },
   "outputs": [
    {
     "data": {
      "text/plain": [
       "{1, 2, 3, 4}"
      ]
     },
     "execution_count": 110,
     "metadata": {},
     "output_type": "execute_result"
    }
   ],
   "source": [
    "s1 = set([1,2,3,4])\n",
    "s1"
   ]
  },
  {
   "cell_type": "code",
   "execution_count": 111,
   "metadata": {
    "ExecuteTime": {
     "end_time": "2021-02-23T05:03:01.219830Z",
     "start_time": "2021-02-23T05:03:01.211852Z"
    }
   },
   "outputs": [
    {
     "ename": "TypeError",
     "evalue": "unhashable type: 'list'",
     "output_type": "error",
     "traceback": [
      "\u001b[1;31m---------------------------------------------------------------------------\u001b[0m",
      "\u001b[1;31mTypeError\u001b[0m                                 Traceback (most recent call last)",
      "\u001b[1;32m<ipython-input-111-79dd1bf4b4a1>\u001b[0m in \u001b[0;36m<module>\u001b[1;34m\u001b[0m\n\u001b[1;32m----> 1\u001b[1;33m \u001b[0ms1\u001b[0m\u001b[1;33m.\u001b[0m\u001b[0madd\u001b[0m\u001b[1;33m(\u001b[0m\u001b[1;33m[\u001b[0m\u001b[1;36m10\u001b[0m\u001b[1;33m,\u001b[0m\u001b[1;36m11\u001b[0m\u001b[1;33m]\u001b[0m\u001b[1;33m)\u001b[0m\u001b[1;33m\u001b[0m\u001b[1;33m\u001b[0m\u001b[0m\n\u001b[0m",
      "\u001b[1;31mTypeError\u001b[0m: unhashable type: 'list'"
     ]
    }
   ],
   "source": [
    "s1.add([10,11])"
   ]
  },
  {
   "cell_type": "code",
   "execution_count": 112,
   "metadata": {
    "ExecuteTime": {
     "end_time": "2021-02-23T05:03:02.058757Z",
     "start_time": "2021-02-23T05:03:02.051799Z"
    }
   },
   "outputs": [
    {
     "ename": "TypeError",
     "evalue": "unhashable type: 'dict'",
     "output_type": "error",
     "traceback": [
      "\u001b[1;31m---------------------------------------------------------------------------\u001b[0m",
      "\u001b[1;31mTypeError\u001b[0m                                 Traceback (most recent call last)",
      "\u001b[1;32m<ipython-input-112-a69a02051c71>\u001b[0m in \u001b[0;36m<module>\u001b[1;34m\u001b[0m\n\u001b[1;32m----> 1\u001b[1;33m \u001b[0ms1\u001b[0m\u001b[1;33m.\u001b[0m\u001b[0madd\u001b[0m\u001b[1;33m(\u001b[0m\u001b[1;33m{\u001b[0m\u001b[1;34m'name'\u001b[0m\u001b[1;33m:\u001b[0m\u001b[1;34m'hong'\u001b[0m\u001b[1;33m}\u001b[0m\u001b[1;33m)\u001b[0m\u001b[1;33m\u001b[0m\u001b[1;33m\u001b[0m\u001b[0m\n\u001b[0m",
      "\u001b[1;31mTypeError\u001b[0m: unhashable type: 'dict'"
     ]
    }
   ],
   "source": [
    "s1.add({'name':'hong'})"
   ]
  },
  {
   "cell_type": "code",
   "execution_count": 35,
   "metadata": {
    "ExecuteTime": {
     "end_time": "2021-02-23T03:00:57.399674Z",
     "start_time": "2021-02-23T03:00:57.394688Z"
    }
   },
   "outputs": [
    {
     "data": {
      "text/plain": [
       "{1, 2, 3, 4, 5, 6, 7, 8, 9}"
      ]
     },
     "execution_count": 35,
     "metadata": {},
     "output_type": "execute_result"
    }
   ],
   "source": [
    "s1 = {1,2,3,4}\n",
    "s1.update([5,6,7,8,9])\n",
    "s1"
   ]
  },
  {
   "cell_type": "code",
   "execution_count": 41,
   "metadata": {
    "ExecuteTime": {
     "end_time": "2021-02-23T03:02:36.823508Z",
     "start_time": "2021-02-23T03:02:36.818520Z"
    }
   },
   "outputs": [
    {
     "data": {
      "text/plain": [
       "{1, 2, 3, 4, 5, 6, 7, 8, 9, 'name'}"
      ]
     },
     "execution_count": 41,
     "metadata": {},
     "output_type": "execute_result"
    }
   ],
   "source": [
    "s1.update({'name':'hong'})\n",
    "s1"
   ]
  },
  {
   "cell_type": "code",
   "execution_count": 42,
   "metadata": {
    "ExecuteTime": {
     "end_time": "2021-02-23T03:02:38.718924Z",
     "start_time": "2021-02-23T03:02:38.713936Z"
    }
   },
   "outputs": [
    {
     "data": {
      "text/plain": [
       "{1, 2, 3, 4, 5, 6, 7, 8, 9}"
      ]
     },
     "execution_count": 42,
     "metadata": {},
     "output_type": "execute_result"
    }
   ],
   "source": [
    "s1.remove('name')\n",
    "s1"
   ]
  },
  {
   "cell_type": "code",
   "execution_count": 43,
   "metadata": {
    "ExecuteTime": {
     "end_time": "2021-02-23T03:04:23.207778Z",
     "start_time": "2021-02-23T03:04:23.202817Z"
    }
   },
   "outputs": [
    {
     "data": {
      "text/plain": [
       "{0, True}"
      ]
     },
     "execution_count": 43,
     "metadata": {},
     "output_type": "execute_result"
    }
   ],
   "source": [
    "s1 = {0,False, True, 1}\n",
    "s1"
   ]
  },
  {
   "cell_type": "code",
   "execution_count": 46,
   "metadata": {
    "ExecuteTime": {
     "end_time": "2021-02-23T03:09:16.133764Z",
     "start_time": "2021-02-23T03:09:16.129784Z"
    }
   },
   "outputs": [
    {
     "name": "stdout",
     "output_type": "stream",
     "text": [
      "mike\tjames\tjim\t"
     ]
    }
   ],
   "source": [
    "names = {'james', 'jim', 'mike'}\n",
    "for name in names:\n",
    "    print(name, end='\\t')"
   ]
  },
  {
   "cell_type": "markdown",
   "metadata": {},
   "source": [
    "## Enumerate\n",
    "- 반복자 또는 순서 객체로 반복문을 처리할 때 인덱스 처리를 해결"
   ]
  },
  {
   "cell_type": "code",
   "execution_count": 52,
   "metadata": {
    "ExecuteTime": {
     "end_time": "2021-02-23T03:14:58.950009Z",
     "start_time": "2021-02-23T03:14:58.946044Z"
    }
   },
   "outputs": [
    {
     "name": "stdout",
     "output_type": "stream",
     "text": [
      "1번째: mike\n",
      "2번째: james\n",
      "3번째: jim\n"
     ]
    }
   ],
   "source": [
    "for index, name in enumerate(names):\n",
    "    print(\"{}번째: {}\".format(index+1, name))"
   ]
  },
  {
   "cell_type": "code",
   "execution_count": 115,
   "metadata": {
    "ExecuteTime": {
     "end_time": "2021-02-23T05:03:57.327826Z",
     "start_time": "2021-02-23T05:03:57.323857Z"
    }
   },
   "outputs": [
    {
     "data": {
      "text/plain": [
       "[(0, ('name', '홍길동')), (1, ('age', 35)), (2, ('address', '마포'))]"
      ]
     },
     "execution_count": 115,
     "metadata": {},
     "output_type": "execute_result"
    }
   ],
   "source": [
    "dic = {\"name\":\"홍길동\",\"age\":35, \"address\":\"마포\"}\n",
    "list(enumerate(dic.items()))"
   ]
  },
  {
   "cell_type": "code",
   "execution_count": 116,
   "metadata": {
    "ExecuteTime": {
     "end_time": "2021-02-23T05:03:57.839493Z",
     "start_time": "2021-02-23T05:03:57.835504Z"
    }
   },
   "outputs": [
    {
     "name": "stdout",
     "output_type": "stream",
     "text": [
      "0번째 키는 name, 값은 홍길동\n",
      "1번째 키는 age, 값은 35\n",
      "2번째 키는 address, 값은 마포\n"
     ]
    }
   ],
   "source": [
    "for idx, (key, value) in enumerate(dic.items()):\n",
    "    print(\"{}번째 키는 {}, 값은 {}\".format(idx, key, value))"
   ]
  },
  {
   "cell_type": "code",
   "execution_count": 59,
   "metadata": {
    "ExecuteTime": {
     "end_time": "2021-02-23T03:47:43.458788Z",
     "start_time": "2021-02-23T03:47:43.455818Z"
    }
   },
   "outputs": [],
   "source": [
    "numbers = [1,2,3,4,5,6,7,8,9,10]"
   ]
  },
  {
   "cell_type": "code",
   "execution_count": 61,
   "metadata": {
    "ExecuteTime": {
     "end_time": "2021-02-23T03:48:33.623201Z",
     "start_time": "2021-02-23T03:48:33.618208Z"
    }
   },
   "outputs": [
    {
     "data": {
      "text/plain": [
       "[1, 2, 3, 4, 5, 6, 7, 8, 9, 10, 100]"
      ]
     },
     "execution_count": 61,
     "metadata": {},
     "output_type": "execute_result"
    }
   ],
   "source": [
    "#1.숫 자 100 을 맨 뒤에 추가하세요\n",
    "numbers.extend([100])\n",
    "numbers"
   ]
  },
  {
   "cell_type": "code",
   "execution_count": 62,
   "metadata": {
    "ExecuteTime": {
     "end_time": "2021-02-23T03:49:07.148797Z",
     "start_time": "2021-02-23T03:49:07.143810Z"
    }
   },
   "outputs": [
    {
     "data": {
      "text/plain": [
       "[1, 2, 3, 4, 5, 6, 7, 8, 9, 10, 100, [200, 300, 400, 500]]"
      ]
     },
     "execution_count": 62,
     "metadata": {},
     "output_type": "execute_result"
    }
   ],
   "source": [
    "#2.다음 리스트를 numbers 리스트 맨 뒤에 추가하세요\n",
    "numbers.append([200,300,400,500])\n",
    "numbers"
   ]
  },
  {
   "cell_type": "code",
   "execution_count": 63,
   "metadata": {
    "ExecuteTime": {
     "end_time": "2021-02-23T03:49:23.468321Z",
     "start_time": "2021-02-23T03:49:23.463357Z"
    }
   },
   "outputs": [
    {
     "data": {
      "text/plain": [
       "[1, 2, 3, 4, 5]"
      ]
     },
     "execution_count": 63,
     "metadata": {},
     "output_type": "execute_result"
    }
   ],
   "source": [
    "#3.다음 다 섯 개 숫 자만 출력하세요\n",
    "numbers[:5]"
   ]
  },
  {
   "cell_type": "code",
   "execution_count": 65,
   "metadata": {
    "ExecuteTime": {
     "end_time": "2021-02-23T03:50:03.484004Z",
     "start_time": "2021-02-23T03:50:03.480033Z"
    }
   },
   "outputs": [
    {
     "data": {
      "text/plain": [
       "[2, 4, 6, 8, 10, [200, 300, 400, 500]]"
      ]
     },
     "execution_count": 65,
     "metadata": {},
     "output_type": "execute_result"
    }
   ],
   "source": [
    "#4.리스트에서 짝 수 번째 데이터만 출력하세요\n",
    "numbers[1::2]"
   ]
  },
  {
   "cell_type": "code",
   "execution_count": 66,
   "metadata": {
    "ExecuteTime": {
     "end_time": "2021-02-23T03:50:45.064204Z",
     "start_time": "2021-02-23T03:50:45.059239Z"
    }
   },
   "outputs": [
    {
     "data": {
      "text/plain": [
       "[1, 0, 3, 0, 5, 0, 7, 0, 9, 0, 100, 0]"
      ]
     },
     "execution_count": 66,
     "metadata": {},
     "output_type": "execute_result"
    }
   ],
   "source": [
    "#5.짝수번째 데이터를 모두 0 으로 바꾸세요\n",
    "numbers[1::2] = [0,0,0,0,0,0]\n",
    "numbers"
   ]
  },
  {
   "cell_type": "code",
   "execution_count": 67,
   "metadata": {
    "ExecuteTime": {
     "end_time": "2021-02-23T03:51:03.068725Z",
     "start_time": "2021-02-23T03:51:03.063760Z"
    }
   },
   "outputs": [
    {
     "data": {
      "text/plain": [
       "[0, 100, 0, 9, 0, 7, 0, 5, 0, 3, 0, 1]"
      ]
     },
     "execution_count": 67,
     "metadata": {},
     "output_type": "execute_result"
    }
   ],
   "source": [
    "#6.데이터를 역순으로 나열하세요 내림차순 정렬이 아 닙 니다\n",
    "numbers[::-1]"
   ]
  },
  {
   "cell_type": "code",
   "execution_count": 81,
   "metadata": {
    "ExecuteTime": {
     "end_time": "2021-02-23T04:04:01.571406Z",
     "start_time": "2021-02-23T04:04:01.567442Z"
    }
   },
   "outputs": [],
   "source": [
    "member_info = {\"name\":\"홍길동\", \"age\":20, \"address\" : \"서울시 마포구\",\"score\":90}"
   ]
  },
  {
   "cell_type": "code",
   "execution_count": 82,
   "metadata": {
    "ExecuteTime": {
     "end_time": "2021-02-23T04:04:02.318745Z",
     "start_time": "2021-02-23T04:04:02.313758Z"
    }
   },
   "outputs": [
    {
     "data": {
      "text/plain": [
       "'서울시 마포구'"
      ]
     },
     "execution_count": 82,
     "metadata": {},
     "output_type": "execute_result"
    }
   ],
   "source": [
    "#7.address 값을 출력하세요\n",
    "member_info[\"address\"]"
   ]
  },
  {
   "cell_type": "code",
   "execution_count": 83,
   "metadata": {
    "ExecuteTime": {
     "end_time": "2021-02-23T04:04:03.074955Z",
     "start_time": "2021-02-23T04:04:03.070966Z"
    }
   },
   "outputs": [],
   "source": [
    "#8.score 를 출력하고 member_info 딕셔너리에서 삭제하세요\n",
    "member_info[\"score\"]\n",
    "del member_info[\"score\"]"
   ]
  },
  {
   "cell_type": "code",
   "execution_count": 84,
   "metadata": {
    "ExecuteTime": {
     "end_time": "2021-02-23T04:04:05.203500Z",
     "start_time": "2021-02-23T04:04:05.199536Z"
    }
   },
   "outputs": [
    {
     "data": {
      "text/plain": [
       "{'name': '홍길동', 'age': 20, 'address': '서울시 서대문구'}"
      ]
     },
     "execution_count": 84,
     "metadata": {},
     "output_type": "execute_result"
    }
   ],
   "source": [
    "#9.Address 를 서 울 시 서대문구 로 변경하세요\n",
    "member_info[\"address\"] = \"서울시 서대문구\"\n",
    "member_info"
   ]
  },
  {
   "cell_type": "code",
   "execution_count": 85,
   "metadata": {
    "ExecuteTime": {
     "end_time": "2021-02-23T04:04:05.596058Z",
     "start_time": "2021-02-23T04:04:05.592092Z"
    }
   },
   "outputs": [
    {
     "data": {
      "text/plain": [
       "dict_values(['홍길동', 20, '서울시 서대문구'])"
      ]
     },
     "execution_count": 85,
     "metadata": {},
     "output_type": "execute_result"
    }
   ],
   "source": [
    "#10.member_info 딕셔너리 데이터의 값을 리스트로 출력하세요\n",
    "member_info.values()"
   ]
  },
  {
   "cell_type": "code",
   "execution_count": null,
   "metadata": {},
   "outputs": [],
   "source": []
  }
 ],
 "metadata": {
  "kernelspec": {
   "display_name": "Python 3",
   "language": "python",
   "name": "python3"
  },
  "language_info": {
   "codemirror_mode": {
    "name": "ipython",
    "version": 3
   },
   "file_extension": ".py",
   "mimetype": "text/x-python",
   "name": "python",
   "nbconvert_exporter": "python",
   "pygments_lexer": "ipython3",
   "version": "3.8.5"
  },
  "toc": {
   "base_numbering": 1,
   "nav_menu": {},
   "number_sections": true,
   "sideBar": false,
   "skip_h1_title": false,
   "title_cell": "Table of Contents",
   "title_sidebar": "Contents",
   "toc_cell": false,
   "toc_position": {
    "height": "757px",
    "left": "1536px",
    "top": "92px",
    "width": "384px"
   },
   "toc_section_display": true,
   "toc_window_display": true
  },
  "varInspector": {
   "cols": {
    "lenName": 16,
    "lenType": 16,
    "lenVar": 40
   },
   "kernels_config": {
    "python": {
     "delete_cmd_postfix": "",
     "delete_cmd_prefix": "del ",
     "library": "var_list.py",
     "varRefreshCmd": "print(var_dic_list())"
    },
    "r": {
     "delete_cmd_postfix": ") ",
     "delete_cmd_prefix": "rm(",
     "library": "var_list.r",
     "varRefreshCmd": "cat(var_dic_list()) "
    }
   },
   "types_to_exclude": [
    "module",
    "function",
    "builtin_function_or_method",
    "instance",
    "_Feature"
   ],
   "window_display": false
  }
 },
 "nbformat": 4,
 "nbformat_minor": 4
}
