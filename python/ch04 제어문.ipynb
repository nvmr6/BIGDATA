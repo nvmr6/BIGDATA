{
 "cells": [
  {
   "cell_type": "markdown",
   "metadata": {},
   "source": [
    "# 제어문\n",
    "- if, for, -in, while 중첩 가능, 중첩루프탈출"
   ]
  },
  {
   "cell_type": "markdown",
   "metadata": {},
   "source": [
    "## 조건문\n"
   ]
  },
  {
   "cell_type": "code",
   "execution_count": 1,
   "metadata": {
    "ExecuteTime": {
     "end_time": "2021-02-23T05:38:00.011172Z",
     "start_time": "2021-02-23T05:37:57.945317Z"
    }
   },
   "outputs": [
    {
     "name": "stdout",
     "output_type": "stream",
     "text": [
      "Enter your score: 55\n",
      "Do better\n"
     ]
    }
   ],
   "source": [
    "score = int(input(\"Enter your score: \"))\n",
    "if score >= 90:\n",
    "    print(\"Good\")\n",
    "else:\n",
    "    print(\"Do better\")"
   ]
  },
  {
   "cell_type": "code",
   "execution_count": 6,
   "metadata": {
    "ExecuteTime": {
     "end_time": "2021-02-23T05:54:56.153254Z",
     "start_time": "2021-02-23T05:54:54.243830Z"
    }
   },
   "outputs": [
    {
     "name": "stdout",
     "output_type": "stream",
     "text": [
      "Enter your score: 77\n",
      "C\n"
     ]
    }
   ],
   "source": [
    "score = int(input(\"Enter your score: \"))\n",
    "if 90 <= score <= 100:\n",
    "    grade = 'A'\n",
    "elif 80 <= score < 90:\n",
    "    grade = 'B'\n",
    "elif 70 <= score < 80:\n",
    "    grade = 'C'\n",
    "elif 60 <= score < 70:\n",
    "    grade = 'D'\n",
    "elif score < 60:\n",
    "    grade = 'F'\n",
    "else:\n",
    "    grade = None\n",
    "print(grade)\n",
    "    "
   ]
  },
  {
   "cell_type": "markdown",
   "metadata": {},
   "source": [
    "## 반복문"
   ]
  },
  {
   "cell_type": "markdown",
   "metadata": {},
   "source": [
    "### for - in\n",
    "- for 변수 in 나열가능한 자료:"
   ]
  },
  {
   "cell_type": "code",
   "execution_count": 10,
   "metadata": {
    "ExecuteTime": {
     "end_time": "2021-02-23T06:19:01.322174Z",
     "start_time": "2021-02-23T06:19:01.317187Z"
    }
   },
   "outputs": [
    {
     "name": "stdout",
     "output_type": "stream",
     "text": [
      "1\t3\t5\t7\t9\tDONE\n"
     ]
    }
   ],
   "source": [
    "for i in range(1,10,2):\n",
    "    print(i, end='\\t')\n",
    "print('DONE')"
   ]
  },
  {
   "cell_type": "markdown",
   "metadata": {},
   "source": [
    "### while\n",
    "- while 조건:\n",
    "  else:"
   ]
  },
  {
   "cell_type": "code",
   "execution_count": 11,
   "metadata": {
    "ExecuteTime": {
     "end_time": "2021-02-23T06:23:00.746563Z",
     "start_time": "2021-02-23T06:23:00.741601Z"
    }
   },
   "outputs": [
    {
     "name": "stdout",
     "output_type": "stream",
     "text": [
      "0\t1\t2\t3\t4\t5\t6\t7\t8\t9\ti = 10, DONE\n"
     ]
    }
   ],
   "source": [
    "i = 0\n",
    "while i<10:\n",
    "    print(i, end='\\t')\n",
    "    i += 1\n",
    "else:\n",
    "    print(\"i = {}, DONE\".format(i))"
   ]
  },
  {
   "cell_type": "code",
   "execution_count": 12,
   "metadata": {
    "ExecuteTime": {
     "end_time": "2021-02-23T06:37:14.242046Z",
     "start_time": "2021-02-23T06:37:14.237058Z"
    }
   },
   "outputs": [
    {
     "name": "stdout",
     "output_type": "stream",
     "text": [
      "110\n"
     ]
    }
   ],
   "source": [
    "sum = 0\n",
    "i = 1\n",
    "while i <= 20:\n",
    "    if i%2 == 0:\n",
    "        sum += i\n",
    "    i += 1\n",
    "else:\n",
    "    print(sum)"
   ]
  },
  {
   "cell_type": "markdown",
   "metadata": {},
   "source": [
    "- break, continue"
   ]
  },
  {
   "cell_type": "code",
   "execution_count": 14,
   "metadata": {
    "ExecuteTime": {
     "end_time": "2021-02-23T06:39:43.392541Z",
     "start_time": "2021-02-23T06:39:43.387573Z"
    }
   },
   "outputs": [
    {
     "name": "stdout",
     "output_type": "stream",
     "text": [
      "1 2 3 4 "
     ]
    }
   ],
   "source": [
    "num = 0\n",
    "while num<=10:\n",
    "    num+=1\n",
    "    if num==5:\n",
    "        break#현재 반복문 빠져나옴\n",
    "    print(num, end=\" \")"
   ]
  },
  {
   "cell_type": "code",
   "execution_count": null,
   "metadata": {
    "ExecuteTime": {
     "end_time": "2021-02-23T06:58:30.652589Z",
     "start_time": "2021-02-23T06:58:25.513Z"
    }
   },
   "outputs": [],
   "source": [
    "num = 0\n",
    "while num<=10:\n",
    "    num+=1\n",
    "    if num==5:\n",
    "        continue#반복문 조건으로 감\n",
    "    print(num, end=\" \")"
   ]
  },
  {
   "cell_type": "code",
   "execution_count": 20,
   "metadata": {
    "ExecuteTime": {
     "end_time": "2021-02-23T07:00:33.108427Z",
     "start_time": "2021-02-23T07:00:04.466843Z"
    }
   },
   "outputs": [
    {
     "name": "stdout",
     "output_type": "stream",
     "text": [
      "숫자 입력: 44\n",
      "smaller\n",
      "숫자 입력: 12\n",
      "bigger\n",
      "숫자 입력: 35\n",
      "범위 밖\n",
      "숫자 입력: 32\n",
      "범위 밖\n",
      "숫자 입력: 24\n",
      "bigger\n",
      "숫자 입력: 25\n",
      "bigger\n",
      "숫자 입력: 26\n",
      "bigger\n",
      "숫자 입력: 27\n",
      "bigger\n",
      "숫자 입력: 29\n",
      "DONE\n"
     ]
    }
   ],
   "source": [
    "import random\n",
    "number = random.randint(1,100)\n",
    "min = 1\n",
    "max = 100\n",
    "while num != number:\n",
    "    num = int(input(\"숫자 입력: \"))\n",
    "    if num<min | num>max:\n",
    "        print(\"범위 밖\")\n",
    "    elif num<number:\n",
    "        min = num+1\n",
    "        print('bigger')\n",
    "    elif num>number:\n",
    "        max = num-1\n",
    "        print('smaller')\n",
    "    else:\n",
    "        print(\"DONE\")\n",
    "\n"
   ]
  },
  {
   "cell_type": "markdown",
   "metadata": {},
   "source": [
    "## 중첩루프: 반복문 안의 반복문\n",
    "- 2이상의 데이터 구조의 모든 항목을 처리"
   ]
  },
  {
   "cell_type": "code",
   "execution_count": 21,
   "metadata": {
    "ExecuteTime": {
     "end_time": "2021-02-23T07:05:39.151191Z",
     "start_time": "2021-02-23T07:05:39.146205Z"
    }
   },
   "outputs": [
    {
     "name": "stdout",
     "output_type": "stream",
     "text": [
      "[[1, 2, 3, 4, 50], [10, 20, 30, 40, 50], [11, 22, 33, 44, 55]]\n"
     ]
    }
   ],
   "source": [
    "list_2d = [[1,2,3,4,50],\n",
    "                [10,20,30,40,50],\n",
    "                [11,22,33,44,55]]\n",
    "print(list_2d)"
   ]
  },
  {
   "cell_type": "code",
   "execution_count": 22,
   "metadata": {
    "ExecuteTime": {
     "end_time": "2021-02-23T07:08:20.671666Z",
     "start_time": "2021-02-23T07:08:20.666679Z"
    }
   },
   "outputs": [
    {
     "name": "stdout",
     "output_type": "stream",
     "text": [
      "1\t2\t3\t4\t50\t\n",
      "10\t20\t30\t40\t50\t\n",
      "11\t22\t33\t44\t55\t\n"
     ]
    }
   ],
   "source": [
    "for i in range(len(list_2d)):\n",
    "    for j in range(len(list_2d[i])):\n",
    "        print(list_2d[i][j], end='\\t')\n",
    "    print()"
   ]
  },
  {
   "cell_type": "code",
   "execution_count": 23,
   "metadata": {
    "ExecuteTime": {
     "end_time": "2021-02-23T07:09:30.806596Z",
     "start_time": "2021-02-23T07:09:30.802606Z"
    }
   },
   "outputs": [
    {
     "name": "stdout",
     "output_type": "stream",
     "text": [
      "1\t2\t3\t4\t50\t\n",
      "10\t20\t30\t40\t50\t\n",
      "11\t22\t33\t44\t55\t\n"
     ]
    }
   ],
   "source": [
    "for i, row in enumerate(list_2d):\n",
    "    for j,data in enumerate(row):\n",
    "        print(data, end='\\t')\n",
    "    print()"
   ]
  },
  {
   "cell_type": "code",
   "execution_count": 33,
   "metadata": {
    "ExecuteTime": {
     "end_time": "2021-02-23T07:14:23.919305Z",
     "start_time": "2021-02-23T07:14:23.914319Z"
    }
   },
   "outputs": [
    {
     "name": "stdout",
     "output_type": "stream",
     "text": [
      "2 x 1 = 2\t3 x 1 = 3\t4 x 1 = 4\t5 x 1 = 5\t6 x 1 = 6\t7 x 1 = 7\t8 x 1 = 8\t9 x 1 = 9\t\n",
      "2 x 2 = 4\t3 x 2 = 6\t4 x 2 = 8\t5 x 2 = 10\t6 x 2 = 12\t7 x 2 = 14\t8 x 2 = 16\t9 x 2 = 18\t\n",
      "2 x 3 = 6\t3 x 3 = 9\t4 x 3 = 12\t5 x 3 = 15\t6 x 3 = 18\t7 x 3 = 21\t8 x 3 = 24\t9 x 3 = 27\t\n",
      "2 x 4 = 8\t3 x 4 = 12\t4 x 4 = 16\t5 x 4 = 20\t6 x 4 = 24\t7 x 4 = 28\t8 x 4 = 32\t9 x 4 = 36\t\n",
      "2 x 5 = 10\t3 x 5 = 15\t4 x 5 = 20\t5 x 5 = 25\t6 x 5 = 30\t7 x 5 = 35\t8 x 5 = 40\t9 x 5 = 45\t\n",
      "2 x 6 = 12\t3 x 6 = 18\t4 x 6 = 24\t5 x 6 = 30\t6 x 6 = 36\t7 x 6 = 42\t8 x 6 = 48\t9 x 6 = 54\t\n",
      "2 x 7 = 14\t3 x 7 = 21\t4 x 7 = 28\t5 x 7 = 35\t6 x 7 = 42\t7 x 7 = 49\t8 x 7 = 56\t9 x 7 = 63\t\n",
      "2 x 8 = 16\t3 x 8 = 24\t4 x 8 = 32\t5 x 8 = 40\t6 x 8 = 48\t7 x 8 = 56\t8 x 8 = 64\t9 x 8 = 72\t\n",
      "2 x 9 = 18\t3 x 9 = 27\t4 x 9 = 36\t5 x 9 = 45\t6 x 9 = 54\t7 x 9 = 63\t8 x 9 = 72\t9 x 9 = 81\t\n"
     ]
    }
   ],
   "source": [
    "for i in range(1,10):\n",
    "    for j in range(2,10):\n",
    "        print(\"{} x {} = {}\".format(j,i,i*j), end='\\t')\n",
    "    print()"
   ]
  },
  {
   "cell_type": "markdown",
   "metadata": {},
   "source": [
    "### 중첩 루프 탈출"
   ]
  },
  {
   "cell_type": "code",
   "execution_count": 34,
   "metadata": {
    "ExecuteTime": {
     "end_time": "2021-02-23T07:20:46.094582Z",
     "start_time": "2021-02-23T07:20:46.090593Z"
    }
   },
   "outputs": [
    {
     "name": "stdout",
     "output_type": "stream",
     "text": [
      "0 1\n",
      "0 2\n",
      "2 1\n"
     ]
    }
   ],
   "source": [
    "#break\n",
    "for a in range(0,3):\n",
    "    for b in range(1,3):\n",
    "        if a ==b:\n",
    "            break;\n",
    "        print(a,b)"
   ]
  },
  {
   "cell_type": "code",
   "execution_count": 35,
   "metadata": {
    "ExecuteTime": {
     "end_time": "2021-02-23T07:37:28.949148Z",
     "start_time": "2021-02-23T07:37:28.945157Z"
    }
   },
   "outputs": [
    {
     "name": "stdout",
     "output_type": "stream",
     "text": [
      "0 1\n",
      "0 2\n"
     ]
    }
   ],
   "source": [
    "#break 만나면 바깥쪽 반복문까지 탈출, 플래그 변수\n",
    "breakflag = False\n",
    "for a in range(3):\n",
    "    for b in range(1,3):\n",
    "        if a==b:\n",
    "            breakflag = True\n",
    "            break;\n",
    "        print(a,b)\n",
    "    if breakflag:\n",
    "        break;"
   ]
  },
  {
   "cell_type": "code",
   "execution_count": 38,
   "metadata": {
    "ExecuteTime": {
     "end_time": "2021-02-23T07:44:24.204447Z",
     "start_time": "2021-02-23T07:44:24.200458Z"
    }
   },
   "outputs": [
    {
     "name": "stdout",
     "output_type": "stream",
     "text": [
      "0 1\n",
      "0 2\n"
     ]
    }
   ],
   "source": [
    "#break 만나면 바깥쪽 반복문까지 탈출,exception \n",
    "class BreakOutLoop(Exception):\n",
    "    pass #아무것도 실행하지 않음\n",
    "for a in range(3):\n",
    "    try:\n",
    "        for b in range(1,3):\n",
    "            if a==b:\n",
    "                raise BreakOutLoop\n",
    "            print(a,b)\n",
    "    except BreakOutLoop:\n",
    "        break;"
   ]
  },
  {
   "cell_type": "code",
   "execution_count": 65,
   "metadata": {
    "ExecuteTime": {
     "end_time": "2021-02-23T08:01:21.275175Z",
     "start_time": "2021-02-23T08:01:21.271186Z"
    }
   },
   "outputs": [],
   "source": [
    "#1.양의 정수를 입력 받아 홀수인지 짝수인지를 판별하는 프로그램을 작성하세요. \n",
    "#양의 정수가 아니면 숫자를 다시 입력 받아야 합니다.\n",
    "while num > 0:\n",
    "    num = int(input(\"숫자 입력: \"))\n",
    "    if num%2==1:\n",
    "        print('odd')\n",
    "    elif num%2==0:\n",
    "        print('even')\n",
    "    else:\n",
    "        print('양의 정수가 아님')"
   ]
  },
  {
   "cell_type": "code",
   "execution_count": 57,
   "metadata": {
    "ExecuteTime": {
     "end_time": "2021-02-23T07:58:23.260265Z",
     "start_time": "2021-02-23T07:58:23.255278Z"
    }
   },
   "outputs": [
    {
     "name": "stdout",
     "output_type": "stream",
     "text": [
      "408\n"
     ]
    }
   ],
   "source": [
    "#2.1~50까지 자연수 중 3의 배수의 총합을 출력하는 프로그램을 작성하세요\n",
    "sum = 0 \n",
    "for i in range(1,51):\n",
    "    if i%3 ==0: \n",
    "        sum = sum + i \n",
    "    else: \n",
    "        pass \n",
    "print(sum)"
   ]
  },
  {
   "cell_type": "code",
   "execution_count": 69,
   "metadata": {
    "ExecuteTime": {
     "end_time": "2021-02-23T08:08:19.226988Z",
     "start_time": "2021-02-23T08:08:19.222998Z"
    }
   },
   "outputs": [
    {
     "name": "stdout",
     "output_type": "stream",
     "text": [
      "*****\n",
      "*****\n",
      "*****\n",
      "*****\n",
      "*****\n"
     ]
    }
   ],
   "source": [
    "#3.아래 패턴의 별을 출력하는 프로그램을 작성하세요\n",
    "ast = '*'\n",
    "for i in range(5):\n",
    "    print(ast*5)"
   ]
  },
  {
   "cell_type": "code",
   "execution_count": 71,
   "metadata": {
    "ExecuteTime": {
     "end_time": "2021-02-23T08:09:28.386913Z",
     "start_time": "2021-02-23T08:09:28.382924Z"
    }
   },
   "outputs": [
    {
     "name": "stdout",
     "output_type": "stream",
     "text": [
      "*\n",
      "**\n",
      "***\n",
      "****\n",
      "*****\n"
     ]
    }
   ],
   "source": [
    "cnt = 1\n",
    "for i in range(5):\n",
    "    print(ast*cnt)\n",
    "    cnt += 1"
   ]
  },
  {
   "cell_type": "code",
   "execution_count": 73,
   "metadata": {
    "ExecuteTime": {
     "end_time": "2021-02-23T08:09:52.179485Z",
     "start_time": "2021-02-23T08:09:52.174525Z"
    }
   },
   "outputs": [
    {
     "name": "stdout",
     "output_type": "stream",
     "text": [
      "*****\n",
      "****\n",
      "***\n",
      "**\n",
      "*\n"
     ]
    }
   ],
   "source": [
    "cnt = 5\n",
    "for i in range(5):\n",
    "    print(ast*cnt)\n",
    "    cnt -= 1"
   ]
  },
  {
   "cell_type": "code",
   "execution_count": 77,
   "metadata": {
    "ExecuteTime": {
     "end_time": "2021-02-23T08:11:41.202913Z",
     "start_time": "2021-02-23T08:11:41.198950Z"
    }
   },
   "outputs": [
    {
     "name": "stdout",
     "output_type": "stream",
     "text": [
      "         *\n",
      "        **\n",
      "       ***\n",
      "      ****\n",
      "     *****\n"
     ]
    }
   ],
   "source": [
    "cnt = 1\n",
    "for i in range(5):\n",
    "    print(\"{:>10}\".format(ast*cnt))\n",
    "    cnt += 1"
   ]
  },
  {
   "cell_type": "code",
   "execution_count": 78,
   "metadata": {
    "ExecuteTime": {
     "end_time": "2021-02-23T08:11:56.858844Z",
     "start_time": "2021-02-23T08:11:56.854854Z"
    }
   },
   "outputs": [
    {
     "name": "stdout",
     "output_type": "stream",
     "text": [
      "     *****\n",
      "      ****\n",
      "       ***\n",
      "        **\n",
      "         *\n"
     ]
    }
   ],
   "source": [
    "cnt = 5\n",
    "for i in range(5):\n",
    "    print(\"{:>10}\".format(ast*cnt))\n",
    "    cnt -= 1"
   ]
  },
  {
   "cell_type": "code",
   "execution_count": 39,
   "metadata": {
    "ExecuteTime": {
     "end_time": "2021-02-23T07:48:23.477265Z",
     "start_time": "2021-02-23T07:48:23.473301Z"
    }
   },
   "outputs": [
    {
     "name": "stdout",
     "output_type": "stream",
     "text": [
      "165\n"
     ]
    }
   ],
   "source": [
    "#1.다음 코드는 1부터 30까지(30포함) 자연수 중에서 3의 배수의 총 합을 출력하는 프로그램입니다. \n",
    "#빈칸의 코드를 완성하시오.\n",
    "sum = 0 \n",
    "for i in range(1,31):\n",
    "    if i%3 ==0: \n",
    "        sum = sum + i \n",
    "    else: \n",
    "        pass \n",
    "print(sum)"
   ]
  },
  {
   "cell_type": "code",
   "execution_count": 41,
   "metadata": {
    "ExecuteTime": {
     "end_time": "2021-02-23T07:49:11.237161Z",
     "start_time": "2021-02-23T07:49:11.232198Z"
    }
   },
   "outputs": [
    {
     "name": "stdout",
     "output_type": "stream",
     "text": [
      "1 3 5 7 9 "
     ]
    }
   ],
   "source": [
    "#2.다음 코드의 실행결과가 “1 3 5 7 9”가 되도록 빈칸을 완성하시오\n",
    "num = 0 \n",
    "while num <= 10: \n",
    "    if num%2 == 1: \n",
    "        print(num, end =' ') \n",
    "    num += 1"
   ]
  },
  {
   "cell_type": "code",
   "execution_count": 54,
   "metadata": {
    "ExecuteTime": {
     "end_time": "2021-02-23T07:56:14.926844Z",
     "start_time": "2021-02-23T07:56:14.920861Z"
    }
   },
   "outputs": [
    {
     "name": "stdout",
     "output_type": "stream",
     "text": [
      "1\t2\t3\t\n",
      "4\t5\t6\t7\t\n",
      "8\t9\t\n"
     ]
    }
   ],
   "source": [
    "#3.다음 2차원 리스트의 모든 값을 출력하는 코드입니다. 빈칸을 완성하시오.\n",
    "list_2d = [ [1,2,3],[4,5,6,7],[8,9]]\n",
    "for i, row in enumerate(list_2d):\n",
    "    for j,data in enumerate(row):\n",
    "        print(data, end='\\t')\n",
    "    print()"
   ]
  },
  {
   "cell_type": "code",
   "execution_count": 49,
   "metadata": {
    "ExecuteTime": {
     "end_time": "2021-02-23T07:52:32.411572Z",
     "start_time": "2021-02-23T07:52:32.408603Z"
    }
   },
   "outputs": [
    {
     "name": "stdout",
     "output_type": "stream",
     "text": [
      "0 apple\n",
      "1 banana\n"
     ]
    }
   ],
   "source": [
    "#4.다음 빈칸에 들어갈 함수 이름은?\n",
    "colors = {\"red\":'apple', \"yello\":'banana'} \n",
    "for i, v in enumerate(colors.values()): \n",
    "    print(i, v)"
   ]
  },
  {
   "cell_type": "code",
   "execution_count": 51,
   "metadata": {
    "ExecuteTime": {
     "end_time": "2021-02-23T07:53:09.947997Z",
     "start_time": "2021-02-23T07:53:09.943988Z"
    }
   },
   "outputs": [
    {
     "name": "stdout",
     "output_type": "stream",
     "text": [
      "1 0\n"
     ]
    }
   ],
   "source": [
    "#5.다음 코드의 실행결과는?\n",
    "for i in range(0, 2): \n",
    "    for j in range(0,2): \n",
    "        if i==j: \n",
    "            break \n",
    "        print(i, j)"
   ]
  },
  {
   "cell_type": "code",
   "execution_count": 53,
   "metadata": {
    "ExecuteTime": {
     "end_time": "2021-02-23T07:53:53.356079Z",
     "start_time": "2021-02-23T07:53:53.352089Z"
    }
   },
   "outputs": [
    {
     "name": "stdout",
     "output_type": "stream",
     "text": [
      "0 0\n",
      "1 0\n",
      "1 1\n"
     ]
    }
   ],
   "source": [
    "#6.다음 코드의 실행 결과로 출력될 수 없는 것은?\n",
    "for i in range(0, 2): \n",
    "    for j in range(0,2): \n",
    "        print(i, j) \n",
    "        if i==j: \n",
    "            break"
   ]
  },
  {
   "cell_type": "code",
   "execution_count": 56,
   "metadata": {
    "ExecuteTime": {
     "end_time": "2021-02-23T07:57:12.780389Z",
     "start_time": "2021-02-23T07:57:12.775403Z"
    }
   },
   "outputs": [
    {
     "name": "stdout",
     "output_type": "stream",
     "text": [
      "3 5 7 9 "
     ]
    }
   ],
   "source": [
    "#7.다음 코드의 실행결과는?\n",
    "L = [3, 4, 5, 6, 7, 8, 9, 10] \n",
    "for i, data in enumerate(L): \n",
    "    if (i%2 == 0): \n",
    "        print(data, end=' ')"
   ]
  },
  {
   "cell_type": "code",
   "execution_count": null,
   "metadata": {},
   "outputs": [],
   "source": []
  }
 ],
 "metadata": {
  "kernelspec": {
   "display_name": "Python 3",
   "language": "python",
   "name": "python3"
  },
  "language_info": {
   "codemirror_mode": {
    "name": "ipython",
    "version": 3
   },
   "file_extension": ".py",
   "mimetype": "text/x-python",
   "name": "python",
   "nbconvert_exporter": "python",
   "pygments_lexer": "ipython3",
   "version": "3.8.5"
  },
  "toc": {
   "base_numbering": 1,
   "nav_menu": {},
   "number_sections": true,
   "sideBar": false,
   "skip_h1_title": false,
   "title_cell": "Table of Contents",
   "title_sidebar": "Contents",
   "toc_cell": false,
   "toc_position": {
    "height": "757px",
    "left": "1536px",
    "top": "92px",
    "width": "384px"
   },
   "toc_section_display": true,
   "toc_window_display": true
  },
  "varInspector": {
   "cols": {
    "lenName": 16,
    "lenType": 16,
    "lenVar": 40
   },
   "kernels_config": {
    "python": {
     "delete_cmd_postfix": "",
     "delete_cmd_prefix": "del ",
     "library": "var_list.py",
     "varRefreshCmd": "print(var_dic_list())"
    },
    "r": {
     "delete_cmd_postfix": ") ",
     "delete_cmd_prefix": "rm(",
     "library": "var_list.r",
     "varRefreshCmd": "cat(var_dic_list()) "
    }
   },
   "types_to_exclude": [
    "module",
    "function",
    "builtin_function_or_method",
    "instance",
    "_Feature"
   ],
   "window_display": false
  }
 },
 "nbformat": 4,
 "nbformat_minor": 4
}
