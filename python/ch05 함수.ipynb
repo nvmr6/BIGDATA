{
 "cells": [
  {
   "cell_type": "markdown",
   "metadata": {},
   "source": [
    "# ch05 함수\n",
    "- 반복해서 사용한 코드를 묶어 놓고 그것에 이름을 붙인 것\n",
    "- 반복해서 사용할 코드는 함수를 이용하면 훨씬 구조적인고 간결한 코드를 작성할 수 있다\n",
    "- def 함수명(parr1, par2):\n",
    "    expression"
   ]
  },
  {
   "cell_type": "markdown",
   "metadata": {},
   "source": [
    "## 1절 함수의 정의 및 사용"
   ]
  },
  {
   "cell_type": "code",
   "execution_count": 1,
   "metadata": {
    "ExecuteTime": {
     "end_time": "2021-02-24T00:39:22.105463Z",
     "start_time": "2021-02-24T00:39:22.101499Z"
    }
   },
   "outputs": [
    {
     "name": "stdout",
     "output_type": "stream",
     "text": [
      "Hello world!\n"
     ]
    }
   ],
   "source": [
    "def hello():\n",
    "    print('Hello world!')\n",
    "hello()"
   ]
  },
  {
   "cell_type": "markdown",
   "metadata": {},
   "source": [
    "### 키워드 인수"
   ]
  },
  {
   "cell_type": "code",
   "execution_count": 2,
   "metadata": {
    "ExecuteTime": {
     "end_time": "2021-02-24T00:46:35.855423Z",
     "start_time": "2021-02-24T00:46:35.850447Z"
    }
   },
   "outputs": [
    {
     "name": "stdout",
     "output_type": "stream",
     "text": [
      "60\n",
      "30\n"
     ]
    }
   ],
   "source": [
    "def add(num1, num2, num3=0): #기본값을 갖는 키워드 인수는 뒤에 위치\n",
    "    return num1+num2+num3\n",
    "print(add(10,20,30))\n",
    "print(add(10,20))\n",
    "#print(add(10)) error"
   ]
  },
  {
   "cell_type": "markdown",
   "metadata": {},
   "source": [
    "### docstring"
   ]
  },
  {
   "cell_type": "code",
   "execution_count": 3,
   "metadata": {
    "ExecuteTime": {
     "end_time": "2021-02-24T00:54:13.358000Z",
     "start_time": "2021-02-24T00:54:13.353013Z"
    }
   },
   "outputs": [
    {
     "name": "stdout",
     "output_type": "stream",
     "text": [
      "함수의 첫 라인에 독스트링을 포함, 대부분의 함수의 설명\n"
     ]
    }
   ],
   "source": [
    "def my_function():\n",
    "    \"함수의 첫 라인에 독스트링을 포함, 대부분의 함수의 설명\"\n",
    "    pass\n",
    "print(my_function.__doc__)"
   ]
  },
  {
   "cell_type": "code",
   "execution_count": 4,
   "metadata": {
    "ExecuteTime": {
     "end_time": "2021-02-24T00:59:56.461516Z",
     "start_time": "2021-02-24T00:59:56.456528Z"
    }
   },
   "outputs": [
    {
     "name": "stdout",
     "output_type": "stream",
     "text": [
      "0 1 1 2 3 5 8 "
     ]
    }
   ],
   "source": [
    "def fibonacci(n):\n",
    "    \"\"\"\n",
    "    매개변수로 들어온 n값 미만까지 피보나치 수열을 출력합니다.\n",
    "    \"\"\"\n",
    "    a, b = 0,1\n",
    "    while a < n:\n",
    "        print(a, end=\" \")\n",
    "        a,b = b, a+b\n",
    "fibonacci(10)"
   ]
  },
  {
   "cell_type": "markdown",
   "metadata": {},
   "source": [
    "### 지역변수와 전역변수"
   ]
  },
  {
   "cell_type": "code",
   "execution_count": 5,
   "metadata": {
    "ExecuteTime": {
     "end_time": "2021-02-24T01:04:51.451538Z",
     "start_time": "2021-02-24T01:04:51.447569Z"
    }
   },
   "outputs": [
    {
     "name": "stdout",
     "output_type": "stream",
     "text": [
      "100\n"
     ]
    }
   ],
   "source": [
    "global_var = 100 #전역변수\n",
    "def fun1():\n",
    "    print(global_var)\n",
    "fun1()"
   ]
  },
  {
   "cell_type": "code",
   "execution_count": 9,
   "metadata": {
    "ExecuteTime": {
     "end_time": "2021-02-24T01:07:30.579484Z",
     "start_time": "2021-02-24T01:07:30.575494Z"
    }
   },
   "outputs": [
    {
     "name": "stdout",
     "output_type": "stream",
     "text": [
      "200\n"
     ]
    }
   ],
   "source": [
    "def fun2():\n",
    "    local_var = 200#지역변수\n",
    "    print(local_var)\n",
    "fun2()"
   ]
  },
  {
   "cell_type": "code",
   "execution_count": 12,
   "metadata": {
    "ExecuteTime": {
     "end_time": "2021-02-24T01:08:47.932264Z",
     "start_time": "2021-02-24T01:08:47.928274Z"
    }
   },
   "outputs": [],
   "source": [
    "g_var = 100\n",
    "def fun3():\n",
    "    print('before', g_var)\n",
    "    g_var = 200 #지역 변수 선언 및 할당\n",
    "    print('after', g_var)\n",
    "#fun3() error"
   ]
  },
  {
   "cell_type": "code",
   "execution_count": 13,
   "metadata": {
    "ExecuteTime": {
     "end_time": "2021-02-24T01:14:12.028885Z",
     "start_time": "2021-02-24T01:14:12.024914Z"
    }
   },
   "outputs": [
    {
     "name": "stdout",
     "output_type": "stream",
     "text": [
      "before 100\n",
      "after 200\n"
     ]
    }
   ],
   "source": [
    "g_var = 100\n",
    "def fun3():\n",
    "    global g_var #변수는 전역변수를 쓸 예정\n",
    "    print('before', g_var)\n",
    "    g_var = 200 \n",
    "    print('after', g_var)\n",
    "fun3()"
   ]
  },
  {
   "cell_type": "code",
   "execution_count": 15,
   "metadata": {
    "ExecuteTime": {
     "end_time": "2021-02-24T01:18:52.700153Z",
     "start_time": "2021-02-24T01:18:52.696192Z"
    }
   },
   "outputs": [
    {
     "name": "stdout",
     "output_type": "stream",
     "text": [
      "100\n",
      "200\n",
      "100\n"
     ]
    }
   ],
   "source": [
    "global_var = 100\n",
    "def fn1():\n",
    "    global_var = 200\n",
    "    print(global_var)\n",
    "print(global_var)\n",
    "fn1()\n",
    "print(global_var)"
   ]
  },
  {
   "cell_type": "markdown",
   "metadata": {},
   "source": [
    "### 값에 의한 호출\n",
    "- 함수에 인수로 전달되는 변수가 스칼라 변수일 경우"
   ]
  },
  {
   "cell_type": "code",
   "execution_count": 16,
   "metadata": {
    "ExecuteTime": {
     "end_time": "2021-02-24T01:39:07.838477Z",
     "start_time": "2021-02-24T01:39:07.833491Z"
    }
   },
   "outputs": [
    {
     "data": {
      "text/plain": [
       "1833919397552"
      ]
     },
     "execution_count": 16,
     "metadata": {},
     "output_type": "execute_result"
    }
   ],
   "source": [
    "foo = 'a'#전역변수\n",
    "id(foo)"
   ]
  },
  {
   "cell_type": "code",
   "execution_count": 19,
   "metadata": {
    "ExecuteTime": {
     "end_time": "2021-02-24T01:40:58.546759Z",
     "start_time": "2021-02-24T01:40:58.541771Z"
    }
   },
   "outputs": [
    {
     "name": "stdout",
     "output_type": "stream",
     "text": [
      "before:  a 의 주소: 1833919397552\n",
      "after:  aaa 의 주소: 1831853038000\n"
     ]
    }
   ],
   "source": [
    "def fn1(foo):\n",
    "    print('before: ', foo, '의 주소:', id(foo))\n",
    "    foo = foo *3\n",
    "    print('after: ', foo, '의 주소:', id(foo))\n",
    "fn1(foo)"
   ]
  },
  {
   "cell_type": "code",
   "execution_count": 20,
   "metadata": {
    "ExecuteTime": {
     "end_time": "2021-02-24T01:43:33.107457Z",
     "start_time": "2021-02-24T01:43:33.103469Z"
    }
   },
   "outputs": [
    {
     "name": "stdout",
     "output_type": "stream",
     "text": [
      "a 1833919397552\n"
     ]
    }
   ],
   "source": [
    "print(foo, id(foo)) #전역변수 > 값이 전달"
   ]
  },
  {
   "cell_type": "markdown",
   "metadata": {},
   "source": [
    "### 참조에 의한 호출\n",
    "- 함수에 인수로 전달되는 변수가 리스트, 딕셔너리, 셋일 경우"
   ]
  },
  {
   "cell_type": "code",
   "execution_count": 24,
   "metadata": {
    "ExecuteTime": {
     "end_time": "2021-02-24T01:49:43.682632Z",
     "start_time": "2021-02-24T01:49:43.677665Z"
    }
   },
   "outputs": [
    {
     "data": {
      "text/plain": [
       "1831852827968"
      ]
     },
     "execution_count": 24,
     "metadata": {},
     "output_type": "execute_result"
    }
   ],
   "source": [
    "L = [1,2,3,4,5]\n",
    "id(L)"
   ]
  },
  {
   "cell_type": "code",
   "execution_count": 28,
   "metadata": {
    "ExecuteTime": {
     "end_time": "2021-02-24T01:50:29.381990Z",
     "start_time": "2021-02-24T01:50:29.375007Z"
    }
   },
   "outputs": [
    {
     "name": "stdout",
     "output_type": "stream",
     "text": [
      "before:  [1, 2, 3, 4, 5, 6, 6, 6] 의 주소: 1831852827968\n",
      "after:  [1, 2, 3, 4, 5, 6, 6, 6, 6] 의 주소: 1831852827968\n",
      "[1, 2, 3, 4, 5, 6, 6, 6, 6] 1831852827968\n"
     ]
    }
   ],
   "source": [
    "def fn2(foo):#지역 변수\n",
    "    print('before: ', foo, '의 주소:', id(foo))\n",
    "    foo.append(6)\n",
    "    print('after: ', foo, '의 주소:', id(foo))\n",
    "fn2(L)\n",
    "print(L, id(L))#참조에 의한 호출 > 주소가 바뀌지 않음"
   ]
  },
  {
   "cell_type": "markdown",
   "metadata": {},
   "source": [
    "### 함수 이름 변경"
   ]
  },
  {
   "cell_type": "code",
   "execution_count": 29,
   "metadata": {
    "ExecuteTime": {
     "end_time": "2021-02-24T01:52:16.602128Z",
     "start_time": "2021-02-24T01:52:16.598139Z"
    }
   },
   "outputs": [],
   "source": [
    "def fibonacci(n):\n",
    "    \"\"\"\n",
    "    매개변수로 들어온 n값 미만까지 피보나치 수열을 출력합니다.\n",
    "    \"\"\"\n",
    "    a, b = 0,1\n",
    "    while a < n:\n",
    "        print(a, end=\" \")\n",
    "        a,b = b, a+b"
   ]
  },
  {
   "cell_type": "code",
   "execution_count": 30,
   "metadata": {
    "ExecuteTime": {
     "end_time": "2021-02-24T01:52:27.113398Z",
     "start_time": "2021-02-24T01:52:27.109409Z"
    }
   },
   "outputs": [
    {
     "data": {
      "text/plain": [
       "function"
      ]
     },
     "execution_count": 30,
     "metadata": {},
     "output_type": "execute_result"
    }
   ],
   "source": [
    "type(fibonacci)"
   ]
  },
  {
   "cell_type": "code",
   "execution_count": 31,
   "metadata": {
    "ExecuteTime": {
     "end_time": "2021-02-24T01:52:34.488662Z",
     "start_time": "2021-02-24T01:52:34.485671Z"
    }
   },
   "outputs": [],
   "source": [
    "fib = fibonacci"
   ]
  },
  {
   "cell_type": "code",
   "execution_count": 32,
   "metadata": {
    "ExecuteTime": {
     "end_time": "2021-02-24T01:52:41.520540Z",
     "start_time": "2021-02-24T01:52:41.517548Z"
    }
   },
   "outputs": [
    {
     "name": "stdout",
     "output_type": "stream",
     "text": [
      "0 1 1 2 3 5 8 13 21 34 55 "
     ]
    }
   ],
   "source": [
    "fib(89)"
   ]
  },
  {
   "cell_type": "markdown",
   "metadata": {},
   "source": [
    "## 2절 함수의 실행 결과를 반환하는 return"
   ]
  },
  {
   "cell_type": "code",
   "execution_count": 33,
   "metadata": {
    "ExecuteTime": {
     "end_time": "2021-02-24T01:59:11.690992Z",
     "start_time": "2021-02-24T01:59:11.685033Z"
    }
   },
   "outputs": [
    {
     "data": {
      "text/plain": [
       "[0, 1, 1, 2, 3, 5, 8]"
      ]
     },
     "execution_count": 33,
     "metadata": {},
     "output_type": "execute_result"
    }
   ],
   "source": [
    "def fibonacci(n):\n",
    "    \"\"\"\n",
    "    매개변수로 들어온 n값 미만까지 피보나치 수열을 출력합니다.\n",
    "    \"\"\"\n",
    "    a, b = 0,1\n",
    "    while a < n:\n",
    "        print(a, end=\" \")\n",
    "        a,b = b, a+b\n",
    "def fibonacci(n):\n",
    "    \"n값 미만 피보나치 수열 return\"\n",
    "    a,b = 0,1\n",
    "    result = []\n",
    "    while a < n:\n",
    "        result.append(a)\n",
    "        a,b = b, a+b\n",
    "    return result\n",
    "fibonacci(10)"
   ]
  },
  {
   "cell_type": "code",
   "execution_count": 36,
   "metadata": {
    "ExecuteTime": {
     "end_time": "2021-02-24T02:04:40.696934Z",
     "start_time": "2021-02-24T02:04:40.692967Z"
    }
   },
   "outputs": [
    {
     "name": "stdout",
     "output_type": "stream",
     "text": [
      "[0, 1, 1, 2, 3, 5, 8, 13, 21, 34, 55, 89]\n"
     ]
    }
   ],
   "source": [
    "L = fibonacci(100)\n",
    "print(L)"
   ]
  },
  {
   "cell_type": "markdown",
   "metadata": {},
   "source": [
    "### 여러 값 반환"
   ]
  },
  {
   "cell_type": "code",
   "execution_count": 39,
   "metadata": {
    "ExecuteTime": {
     "end_time": "2021-02-24T02:07:09.760477Z",
     "start_time": "2021-02-24T02:07:09.756483Z"
    }
   },
   "outputs": [
    {
     "name": "stdout",
     "output_type": "stream",
     "text": [
      "1 2\n",
      "2 1\n"
     ]
    }
   ],
   "source": [
    "def swap(a,b):\n",
    "    return b,a #tuple로 반환\n",
    "x,y = 1,2\n",
    "print(x,y)\n",
    "x,y = swap(x,y)\n",
    "print(x,y)"
   ]
  },
  {
   "cell_type": "code",
   "execution_count": 42,
   "metadata": {
    "ExecuteTime": {
     "end_time": "2021-02-24T02:08:20.376677Z",
     "start_time": "2021-02-24T02:08:20.372713Z"
    }
   },
   "outputs": [
    {
     "name": "stdout",
     "output_type": "stream",
     "text": [
      "<class 'tuple'>\n",
      "(1, 2)\n"
     ]
    }
   ],
   "source": [
    "a = swap(x,y)\n",
    "print(type(a))\n",
    "print(a)"
   ]
  },
  {
   "cell_type": "markdown",
   "metadata": {},
   "source": [
    "## 3절 함수의 매개변수"
   ]
  },
  {
   "cell_type": "markdown",
   "metadata": {},
   "source": [
    "### 기본값을 갖는 매개변수"
   ]
  },
  {
   "cell_type": "code",
   "execution_count": 43,
   "metadata": {
    "ExecuteTime": {
     "end_time": "2021-02-24T02:14:52.913284Z",
     "start_time": "2021-02-24T02:14:52.908322Z"
    }
   },
   "outputs": [
    {
     "data": {
      "text/plain": [
       "'http://localhost:80'"
      ]
     },
     "execution_count": 43,
     "metadata": {},
     "output_type": "execute_result"
    }
   ],
   "source": [
    "def make_url(ip, port=80):\n",
    "    return \"http://{}:{}\".format(ip,port)\n",
    "make_url(\"localhost\")"
   ]
  },
  {
   "cell_type": "markdown",
   "metadata": {},
   "source": [
    "### 기본 변수를 갖는 매개변수"
   ]
  },
  {
   "cell_type": "code",
   "execution_count": 44,
   "metadata": {
    "ExecuteTime": {
     "end_time": "2021-02-24T02:19:27.471988Z",
     "start_time": "2021-02-24T02:19:27.469001Z"
    }
   },
   "outputs": [],
   "source": [
    "i=5\n",
    "def fn2(arg=i): # 기본값 셋팅, 정의되는 시점에서 한번 평가\n",
    "    print('arg = ',arg)"
   ]
  },
  {
   "cell_type": "code",
   "execution_count": 45,
   "metadata": {
    "ExecuteTime": {
     "end_time": "2021-02-24T02:19:35.318892Z",
     "start_time": "2021-02-24T02:19:35.315897Z"
    }
   },
   "outputs": [
    {
     "name": "stdout",
     "output_type": "stream",
     "text": [
      "arg =  5\n"
     ]
    }
   ],
   "source": [
    "i=6\n",
    "fn2()"
   ]
  },
  {
   "cell_type": "code",
   "execution_count": 46,
   "metadata": {
    "ExecuteTime": {
     "end_time": "2021-02-24T02:38:02.959847Z",
     "start_time": "2021-02-24T02:38:02.954859Z"
    }
   },
   "outputs": [
    {
     "name": "stdout",
     "output_type": "stream",
     "text": [
      "[1]\n"
     ]
    }
   ],
   "source": [
    "#기본 변수가 리스트, 셋, 딕셔너리 또는 객체일 때 함수를 호출 후 다시 전달\n",
    "list_ = []\n",
    "def fn3(a, L=list_): #빈 리스트롤 지정\n",
    "    L.append(a)\n",
    "    return L\n",
    "print(fn3(1))"
   ]
  },
  {
   "cell_type": "code",
   "execution_count": 52,
   "metadata": {
    "ExecuteTime": {
     "end_time": "2021-02-24T02:42:30.244886Z",
     "start_time": "2021-02-24T02:42:30.241908Z"
    }
   },
   "outputs": [
    {
     "name": "stdout",
     "output_type": "stream",
     "text": [
      "[1, 2, 2, 2, 2, 2, 2]\n"
     ]
    }
   ],
   "source": [
    "print(fn3(2))"
   ]
  },
  {
   "cell_type": "code",
   "execution_count": 55,
   "metadata": {
    "ExecuteTime": {
     "end_time": "2021-02-24T02:44:47.470911Z",
     "start_time": "2021-02-24T02:44:47.466919Z"
    }
   },
   "outputs": [
    {
     "name": "stdout",
     "output_type": "stream",
     "text": [
      "[1]\n"
     ]
    }
   ],
   "source": [
    "def func(a, L=[]):\n",
    "    L.append(a)\n",
    "    return L\n",
    "print(func(1))"
   ]
  },
  {
   "cell_type": "markdown",
   "metadata": {},
   "source": [
    "### 순서 인수와 키워드 인수\n",
    "- 순서 인수와 키워드 인수가 같이 올 때는 키워드 인수가 반드시 뒤에 온다"
   ]
  },
  {
   "cell_type": "code",
   "execution_count": 56,
   "metadata": {
    "ExecuteTime": {
     "end_time": "2021-02-24T02:53:31.991896Z",
     "start_time": "2021-02-24T02:53:31.985908Z"
    }
   },
   "outputs": [
    {
     "data": {
      "text/plain": [
       "[10]"
      ]
     },
     "execution_count": 56,
     "metadata": {},
     "output_type": "execute_result"
    }
   ],
   "source": [
    "def fn4(a, L=None):\n",
    "    if L is None:\n",
    "        L = []\n",
    "    L.append(a)\n",
    "    return L\n",
    "fn4(10)    "
   ]
  },
  {
   "cell_type": "code",
   "execution_count": 57,
   "metadata": {
    "ExecuteTime": {
     "end_time": "2021-02-24T02:54:14.230860Z",
     "start_time": "2021-02-24T02:54:14.225873Z"
    }
   },
   "outputs": [
    {
     "data": {
      "text/plain": [
       "[20]"
      ]
     },
     "execution_count": 57,
     "metadata": {},
     "output_type": "execute_result"
    }
   ],
   "source": [
    "fn4(20) #공유되지 않음"
   ]
  },
  {
   "cell_type": "code",
   "execution_count": 64,
   "metadata": {
    "ExecuteTime": {
     "end_time": "2021-02-24T02:55:53.397940Z",
     "start_time": "2021-02-24T02:55:53.393930Z"
    }
   },
   "outputs": [
    {
     "data": {
      "text/plain": [
       "[1, 2, 2, 2, 2, 2, 2, 4, 4, 4, 4, 4, 4, 4]"
      ]
     },
     "execution_count": 64,
     "metadata": {},
     "output_type": "execute_result"
    }
   ],
   "source": [
    "fn4(4,list_) #키워드 인수 입력시 공유"
   ]
  },
  {
   "cell_type": "markdown",
   "metadata": {},
   "source": [
    "### 튜플 매개변수"
   ]
  },
  {
   "cell_type": "code",
   "execution_count": 65,
   "metadata": {
    "ExecuteTime": {
     "end_time": "2021-02-24T03:07:44.693748Z",
     "start_time": "2021-02-24T03:07:44.689758Z"
    }
   },
   "outputs": [
    {
     "name": "stdout",
     "output_type": "stream",
     "text": [
      "3\n"
     ]
    }
   ],
   "source": [
    "def add(a,b):\n",
    "    return a+b\n",
    "print(add(1,2))"
   ]
  },
  {
   "cell_type": "code",
   "execution_count": 66,
   "metadata": {
    "ExecuteTime": {
     "end_time": "2021-02-24T03:08:35.509963Z",
     "start_time": "2021-02-24T03:08:35.504997Z"
    }
   },
   "outputs": [
    {
     "name": "stdout",
     "output_type": "stream",
     "text": [
      "6\n"
     ]
    }
   ],
   "source": [
    "def add(a,b,c):\n",
    "    return a+b+c\n",
    "print(add(1,2,3))"
   ]
  },
  {
   "cell_type": "code",
   "execution_count": 67,
   "metadata": {
    "ExecuteTime": {
     "end_time": "2021-02-24T03:08:42.577505Z",
     "start_time": "2021-02-24T03:08:42.569527Z"
    }
   },
   "outputs": [
    {
     "ename": "TypeError",
     "evalue": "add() missing 1 required positional argument: 'c'",
     "output_type": "error",
     "traceback": [
      "\u001b[1;31m---------------------------------------------------------------------------\u001b[0m",
      "\u001b[1;31mTypeError\u001b[0m                                 Traceback (most recent call last)",
      "\u001b[1;32m<ipython-input-67-9cd3bc5fb6d1>\u001b[0m in \u001b[0;36m<module>\u001b[1;34m\u001b[0m\n\u001b[1;32m----> 1\u001b[1;33m \u001b[0madd\u001b[0m\u001b[1;33m(\u001b[0m\u001b[1;36m2\u001b[0m\u001b[1;33m,\u001b[0m\u001b[1;36m3\u001b[0m\u001b[1;33m)\u001b[0m\u001b[1;33m\u001b[0m\u001b[1;33m\u001b[0m\u001b[0m\n\u001b[0m",
      "\u001b[1;31mTypeError\u001b[0m: add() missing 1 required positional argument: 'c'"
     ]
    }
   ],
   "source": [
    "add(2,3) #error > 함수의 중복(overloading)"
   ]
  },
  {
   "cell_type": "code",
   "execution_count": 69,
   "metadata": {
    "ExecuteTime": {
     "end_time": "2021-02-24T03:12:49.701554Z",
     "start_time": "2021-02-24T03:12:49.696558Z"
    }
   },
   "outputs": [
    {
     "data": {
      "text/plain": [
       "45"
      ]
     },
     "execution_count": 69,
     "metadata": {},
     "output_type": "execute_result"
    }
   ],
   "source": [
    "#*args: args가 tuple로 전달\n",
    "def add(*args):\n",
    "    sum = 0\n",
    "    for i in args:\n",
    "        sum += i\n",
    "    return sum\n",
    "add(1,2,3,4,5,6,7,8,9)"
   ]
  },
  {
   "cell_type": "code",
   "execution_count": 74,
   "metadata": {
    "ExecuteTime": {
     "end_time": "2021-02-24T03:18:19.190467Z",
     "start_time": "2021-02-24T03:18:19.185506Z"
    }
   },
   "outputs": [
    {
     "data": {
      "text/plain": [
       "'Hello_World'"
      ]
     },
     "execution_count": 74,
     "metadata": {},
     "output_type": "execute_result"
    }
   ],
   "source": [
    "def concat(*args, sep):\n",
    "    return sep.join(args)\n",
    "concat(\"Hello\", \"World\", sep=\"_\")"
   ]
  },
  {
   "cell_type": "code",
   "execution_count": 75,
   "metadata": {
    "ExecuteTime": {
     "end_time": "2021-02-24T03:23:30.590024Z",
     "start_time": "2021-02-24T03:23:30.585057Z"
    }
   },
   "outputs": [
    {
     "data": {
      "text/plain": [
       "'Hello-World'"
      ]
     },
     "execution_count": 75,
     "metadata": {},
     "output_type": "execute_result"
    }
   ],
   "source": [
    "def concat(sep,*args):\n",
    "    return sep.join(args)\n",
    "concat(\"-\",\"Hello\", \"World\")"
   ]
  },
  {
   "cell_type": "code",
   "execution_count": 76,
   "metadata": {
    "ExecuteTime": {
     "end_time": "2021-02-24T03:29:13.582162Z",
     "start_time": "2021-02-24T03:29:13.576202Z"
    }
   },
   "outputs": [
    {
     "data": {
      "text/plain": [
       "'Hello-World'"
      ]
     },
     "execution_count": 76,
     "metadata": {},
     "output_type": "execute_result"
    }
   ],
   "source": [
    "def concat(*args, sep=\"-\"):#순서인수 > 튜플인수> 키워드 인수\n",
    "    return sep.join(args)\n",
    "concat(\"Hello\", \"World\")"
   ]
  },
  {
   "cell_type": "markdown",
   "metadata": {},
   "source": [
    "### 딕셔너리 매개변수"
   ]
  },
  {
   "cell_type": "code",
   "execution_count": 78,
   "metadata": {
    "ExecuteTime": {
     "end_time": "2021-02-24T03:48:11.218539Z",
     "start_time": "2021-02-24T03:48:11.214549Z"
    }
   },
   "outputs": [
    {
     "name": "stdout",
     "output_type": "stream",
     "text": [
      "('name', 'hong')\n",
      "('age', '23')\n",
      "('gender', 'male')\n"
     ]
    }
   ],
   "source": [
    "def fn5(**args):#**args: 딕셔너리로 전달\n",
    "    for item in args.items():\n",
    "        print(item)\n",
    "fn5(name=\"hong\", age=\"23\", gender=\"male\")    "
   ]
  },
  {
   "cell_type": "code",
   "execution_count": 81,
   "metadata": {
    "ExecuteTime": {
     "end_time": "2021-02-24T03:53:17.147499Z",
     "start_time": "2021-02-24T03:53:17.143510Z"
    }
   },
   "outputs": [],
   "source": [
    "def fn6(a, *b, **c):#순서인수, 튜플인수, 딕셔너리인수\n",
    "    print(a)\n",
    "    print(b)\n",
    "    print(c)"
   ]
  },
  {
   "cell_type": "code",
   "execution_count": 82,
   "metadata": {
    "ExecuteTime": {
     "end_time": "2021-02-24T03:53:41.930275Z",
     "start_time": "2021-02-24T03:53:41.926311Z"
    }
   },
   "outputs": [
    {
     "name": "stdout",
     "output_type": "stream",
     "text": [
      "10\n",
      "(1, 2, 3, 4, 5)\n",
      "{'name': 'hong', 'age': 23}\n"
     ]
    }
   ],
   "source": [
    "fn6(10,1,2,3,4,5,name='hong', age=23)"
   ]
  },
  {
   "cell_type": "markdown",
   "metadata": {},
   "source": [
    "### 함수 정의 시 매개변수의 순서"
   ]
  },
  {
   "cell_type": "code",
   "execution_count": 84,
   "metadata": {
    "ExecuteTime": {
     "end_time": "2021-02-24T03:57:37.242911Z",
     "start_time": "2021-02-24T03:57:37.238922Z"
    }
   },
   "outputs": [],
   "source": [
    "def fn6(a, b, c,*d,e=10, **f):\n",
    "    print(a)\n",
    "    print(b)\n",
    "    print(c)\n",
    "    print(d)\n",
    "    print(e)\n",
    "    print(f)"
   ]
  },
  {
   "cell_type": "code",
   "execution_count": 85,
   "metadata": {
    "ExecuteTime": {
     "end_time": "2021-02-24T03:58:04.723148Z",
     "start_time": "2021-02-24T03:58:04.718162Z"
    }
   },
   "outputs": [
    {
     "name": "stdout",
     "output_type": "stream",
     "text": [
      "10\n",
      "20\n",
      "30\n",
      "(1, 2, 3, 4, 5, 6)\n",
      "30\n",
      "{'name': 'kim', 'age': 54}\n"
     ]
    }
   ],
   "source": [
    "fn6(10,20,30,1,2,3,4,5,6,e=30,name='kim', age=54)"
   ]
  },
  {
   "cell_type": "markdown",
   "metadata": {},
   "source": [
    "### 인수의 언패킹"
   ]
  },
  {
   "cell_type": "code",
   "execution_count": 86,
   "metadata": {
    "ExecuteTime": {
     "end_time": "2021-02-24T04:00:25.676350Z",
     "start_time": "2021-02-24T04:00:25.670365Z"
    }
   },
   "outputs": [
    {
     "data": {
      "text/plain": [
       "10"
      ]
     },
     "execution_count": 86,
     "metadata": {},
     "output_type": "execute_result"
    }
   ],
   "source": [
    "def add(*args):\n",
    "    sum=0\n",
    "    for num in args:\n",
    "        sum += num\n",
    "    return sum\n",
    "add(1,2,3,4)"
   ]
  },
  {
   "cell_type": "code",
   "execution_count": 88,
   "metadata": {
    "ExecuteTime": {
     "end_time": "2021-02-24T04:02:26.534192Z",
     "start_time": "2021-02-24T04:02:26.529205Z"
    }
   },
   "outputs": [
    {
     "data": {
      "text/plain": [
       "10"
      ]
     },
     "execution_count": 88,
     "metadata": {},
     "output_type": "execute_result"
    }
   ],
   "source": [
    "numbers = (1,2,3,4)\n",
    "add(*numbers) #튜플 언패킹"
   ]
  },
  {
   "cell_type": "code",
   "execution_count": 93,
   "metadata": {
    "ExecuteTime": {
     "end_time": "2021-02-24T04:21:04.698732Z",
     "start_time": "2021-02-24T04:21:04.693746Z"
    }
   },
   "outputs": [],
   "source": [
    "def range2(*args):\n",
    "    length = len(args)\n",
    "    result=[]\n",
    "    if length==0:\n",
    "        raise Exception('error')\n",
    "    elif length==1:\n",
    "        for i in range(args[0]):\n",
    "            result.append(i)\n",
    "    elif length==2:\n",
    "        for i in range(args[0], args[1]):\n",
    "            result.append(i)\n",
    "    elif length==3:\n",
    "        for i in range(args[0], args[1], args[2]):\n",
    "            result.append(i)\n",
    "    else:\n",
    "        print('too much')\n",
    "    return result"
   ]
  },
  {
   "cell_type": "code",
   "execution_count": 94,
   "metadata": {
    "ExecuteTime": {
     "end_time": "2021-02-24T05:36:16.510898Z",
     "start_time": "2021-02-24T05:36:16.505891Z"
    }
   },
   "outputs": [
    {
     "data": {
      "text/plain": [
       "[0, 1, 2, 3, 4, 5, 6, 7, 8, 9]"
      ]
     },
     "execution_count": 94,
     "metadata": {},
     "output_type": "execute_result"
    }
   ],
   "source": [
    "range2(10)"
   ]
  },
  {
   "cell_type": "code",
   "execution_count": 95,
   "metadata": {
    "ExecuteTime": {
     "end_time": "2021-02-24T05:36:26.572871Z",
     "start_time": "2021-02-24T05:36:26.568901Z"
    }
   },
   "outputs": [
    {
     "data": {
      "text/plain": [
       "[5, 6, 7, 8, 9]"
      ]
     },
     "execution_count": 95,
     "metadata": {},
     "output_type": "execute_result"
    }
   ],
   "source": [
    "range2(5,10)"
   ]
  },
  {
   "cell_type": "code",
   "execution_count": 96,
   "metadata": {
    "ExecuteTime": {
     "end_time": "2021-02-24T05:36:36.219536Z",
     "start_time": "2021-02-24T05:36:36.216557Z"
    }
   },
   "outputs": [
    {
     "data": {
      "text/plain": [
       "[3, 5, 7, 9]"
      ]
     },
     "execution_count": 96,
     "metadata": {},
     "output_type": "execute_result"
    }
   ],
   "source": [
    "range2(3,10,2)"
   ]
  },
  {
   "cell_type": "code",
   "execution_count": 97,
   "metadata": {
    "ExecuteTime": {
     "end_time": "2021-02-24T05:41:36.366021Z",
     "start_time": "2021-02-24T05:41:36.362031Z"
    }
   },
   "outputs": [
    {
     "name": "stdout",
     "output_type": "stream",
     "text": [
      "('name', 'hong')\n",
      "('age', 30)\n"
     ]
    }
   ],
   "source": [
    "def fn5(**data):\n",
    "    for item in data.items():\n",
    "        print(item)\n",
    "fn5(name='hong', age=30)"
   ]
  },
  {
   "cell_type": "code",
   "execution_count": 99,
   "metadata": {
    "ExecuteTime": {
     "end_time": "2021-02-24T05:42:45.685041Z",
     "start_time": "2021-02-24T05:42:45.680073Z"
    }
   },
   "outputs": [
    {
     "name": "stdout",
     "output_type": "stream",
     "text": [
      "('name', 'hong')\n",
      "('age', 30)\n",
      "('address', 'seoul')\n"
     ]
    }
   ],
   "source": [
    "customer = {'name':'hong', 'age':30, 'address':'seoul'}\n",
    "fn5(**customer) ##딕셔너리 언패킹"
   ]
  },
  {
   "cell_type": "markdown",
   "metadata": {},
   "source": [
    "## 람다식\n",
    "- 람다식은 작은 익명함수 의미\n",
    "- 실행할 문장 한 문장만 작성\n",
    "- return 구문이 없어도 statement 결과를 반환\n",
    "- list comprehension"
   ]
  },
  {
   "cell_type": "code",
   "execution_count": 100,
   "metadata": {
    "ExecuteTime": {
     "end_time": "2021-02-24T05:49:18.836986Z",
     "start_time": "2021-02-24T05:49:18.832000Z"
    }
   },
   "outputs": [
    {
     "data": {
      "text/plain": [
       "[1, 8, 27]"
      ]
     },
     "execution_count": 100,
     "metadata": {},
     "output_type": "execute_result"
    }
   ],
   "source": [
    "l = [1,2,3]\n",
    "[x**3 for x in l]"
   ]
  },
  {
   "cell_type": "markdown",
   "metadata": {},
   "source": [
    "### 람다식: 한 줄짜리 작은 익명함수"
   ]
  },
  {
   "cell_type": "code",
   "execution_count": 101,
   "metadata": {
    "ExecuteTime": {
     "end_time": "2021-02-24T05:50:40.180877Z",
     "start_time": "2021-02-24T05:50:40.175891Z"
    }
   },
   "outputs": [
    {
     "data": {
      "text/plain": [
       "11"
      ]
     },
     "execution_count": 101,
     "metadata": {},
     "output_type": "execute_result"
    }
   ],
   "source": [
    "def add(a,b):\n",
    "    return a+b\n",
    "add(5,6)"
   ]
  },
  {
   "cell_type": "code",
   "execution_count": 102,
   "metadata": {
    "ExecuteTime": {
     "end_time": "2021-02-24T05:53:59.517505Z",
     "start_time": "2021-02-24T05:53:59.512536Z"
    }
   },
   "outputs": [
    {
     "data": {
      "text/plain": [
       "5"
      ]
     },
     "execution_count": 102,
     "metadata": {},
     "output_type": "execute_result"
    }
   ],
   "source": [
    "add2 = lambda a,b:a+b #람다식\n",
    "add2(2,3)"
   ]
  },
  {
   "cell_type": "markdown",
   "metadata": {},
   "source": [
    "### 함수 인수에 람다식 이용"
   ]
  },
  {
   "cell_type": "code",
   "execution_count": 105,
   "metadata": {
    "ExecuteTime": {
     "end_time": "2021-02-24T06:02:53.746273Z",
     "start_time": "2021-02-24T06:02:53.743276Z"
    }
   },
   "outputs": [],
   "source": [
    "def map_template(fn, L=[]):\n",
    "    result=[]\n",
    "    for i in L:\n",
    "        result.append(fn(i))\n",
    "    return result"
   ]
  },
  {
   "cell_type": "code",
   "execution_count": 106,
   "metadata": {
    "ExecuteTime": {
     "end_time": "2021-02-24T06:02:53.963923Z",
     "start_time": "2021-02-24T06:02:53.958936Z"
    }
   },
   "outputs": [
    {
     "data": {
      "text/plain": [
       "[2, 4, 6, 8, 10]"
      ]
     },
     "execution_count": 106,
     "metadata": {},
     "output_type": "execute_result"
    }
   ],
   "source": [
    "list_data = [1,2,3,4,5]\n",
    "def x_2(x):\n",
    "    return x*2\n",
    "map_template(x_2, list_data)"
   ]
  },
  {
   "cell_type": "code",
   "execution_count": 108,
   "metadata": {
    "ExecuteTime": {
     "end_time": "2021-02-24T06:05:05.300105Z",
     "start_time": "2021-02-24T06:05:05.295118Z"
    }
   },
   "outputs": [
    {
     "data": {
      "text/plain": [
       "[2, 4, 6, 8, 10]"
      ]
     },
     "execution_count": 108,
     "metadata": {},
     "output_type": "execute_result"
    }
   ],
   "source": [
    "#람다식 이용\n",
    "map_template(lambda x:x*2, list_data)"
   ]
  },
  {
   "cell_type": "code",
   "execution_count": 120,
   "metadata": {
    "ExecuteTime": {
     "end_time": "2021-02-24T06:19:39.401441Z",
     "start_time": "2021-02-24T06:19:39.398438Z"
    }
   },
   "outputs": [
    {
     "data": {
      "text/plain": [
       "[2, 4, 6, 8, 10, 12, 14, 16, 18, 20]"
      ]
     },
     "execution_count": 120,
     "metadata": {},
     "output_type": "execute_result"
    }
   ],
   "source": [
    "#map()\n",
    "list(map(lambda x:x*2, list_data))"
   ]
  },
  {
   "cell_type": "code",
   "execution_count": 111,
   "metadata": {
    "ExecuteTime": {
     "end_time": "2021-02-24T06:08:19.691085Z",
     "start_time": "2021-02-24T06:08:19.687096Z"
    }
   },
   "outputs": [
    {
     "data": {
      "text/plain": [
       "[2, 4, 6, 8, 10]"
      ]
     },
     "execution_count": 111,
     "metadata": {},
     "output_type": "execute_result"
    }
   ],
   "source": [
    "#list comprehension\n",
    "[x*2 for x in list_data]"
   ]
  },
  {
   "cell_type": "code",
   "execution_count": 113,
   "metadata": {
    "ExecuteTime": {
     "end_time": "2021-02-24T06:15:20.340473Z",
     "start_time": "2021-02-24T06:15:20.335503Z"
    }
   },
   "outputs": [
    {
     "data": {
      "text/plain": [
       "[2, 4, 6, 8, 10]"
      ]
     },
     "execution_count": 113,
     "metadata": {},
     "output_type": "execute_result"
    }
   ],
   "source": [
    "list_data = [1,2,3,4,5,6,7,8,9,10]\n",
    "def filter_template(fn, L=[]):\n",
    "    result=[]\n",
    "    for i in L:\n",
    "        if fn(i):\n",
    "            result.append(i)\n",
    "    return result\n",
    "filter_template(lambda x:x%2==0, list_data) # True or False"
   ]
  },
  {
   "cell_type": "code",
   "execution_count": 119,
   "metadata": {
    "ExecuteTime": {
     "end_time": "2021-02-24T06:19:35.859988Z",
     "start_time": "2021-02-24T06:19:35.855001Z"
    }
   },
   "outputs": [
    {
     "data": {
      "text/plain": [
       "[2, 4, 6, 8, 10]"
      ]
     },
     "execution_count": 119,
     "metadata": {},
     "output_type": "execute_result"
    }
   ],
   "source": [
    "#filter()\n",
    "list(filter(lambda x:x%2==0, list_data))"
   ]
  },
  {
   "cell_type": "code",
   "execution_count": 121,
   "metadata": {
    "ExecuteTime": {
     "end_time": "2021-02-24T06:20:14.170969Z",
     "start_time": "2021-02-24T06:20:14.165982Z"
    }
   },
   "outputs": [
    {
     "data": {
      "text/plain": [
       "[2, 4, 6, 8, 10]"
      ]
     },
     "execution_count": 121,
     "metadata": {},
     "output_type": "execute_result"
    }
   ],
   "source": [
    "#list comprehension\n",
    "[x for x in list_data if x%2==0]"
   ]
  },
  {
   "cell_type": "code",
   "execution_count": 2,
   "metadata": {
    "ExecuteTime": {
     "end_time": "2021-02-25T00:45:05.108495Z",
     "start_time": "2021-02-25T00:45:05.098507Z"
    }
   },
   "outputs": [
    {
     "data": {
      "text/plain": [
       "[(1, 'one'), (2, 'two'), (3, 'three'), (4, 'four')]"
      ]
     },
     "execution_count": 2,
     "metadata": {},
     "output_type": "execute_result"
    }
   ],
   "source": [
    "pair = [(1,'one'), (3,'three'), (2,'two'), (4,'four')]\n",
    "pair.sort()\n",
    "pair"
   ]
  },
  {
   "cell_type": "code",
   "execution_count": 3,
   "metadata": {
    "ExecuteTime": {
     "end_time": "2021-02-25T00:45:05.693212Z",
     "start_time": "2021-02-25T00:45:05.689223Z"
    }
   },
   "outputs": [],
   "source": [
    "pair.sort(key=lambda pair:pair[1])"
   ]
  },
  {
   "cell_type": "code",
   "execution_count": 4,
   "metadata": {
    "ExecuteTime": {
     "end_time": "2021-02-25T00:45:09.461621Z",
     "start_time": "2021-02-25T00:45:09.457632Z"
    }
   },
   "outputs": [
    {
     "data": {
      "text/plain": [
       "2"
      ]
     },
     "execution_count": 4,
     "metadata": {},
     "output_type": "execute_result"
    }
   ],
   "source": [
    "(lambda pair:pair[1])([1,2,3,4,86,7,47354,])"
   ]
  },
  {
   "cell_type": "code",
   "execution_count": 132,
   "metadata": {
    "ExecuteTime": {
     "end_time": "2021-02-24T06:48:51.146378Z",
     "start_time": "2021-02-24T06:48:51.141416Z"
    }
   },
   "outputs": [
    {
     "data": {
      "text/plain": [
       "1000000"
      ]
     },
     "execution_count": 132,
     "metadata": {},
     "output_type": "execute_result"
    }
   ],
   "source": [
    "def apply(data, func=None):\n",
    "    if func == None:\n",
    "        return data\n",
    "    else:\n",
    "        return func(data)\n",
    "apply(100,lambda x:x**3)"
   ]
  },
  {
   "cell_type": "markdown",
   "metadata": {},
   "source": [
    "### 리턴문에 람다식 이용"
   ]
  },
  {
   "cell_type": "code",
   "execution_count": 133,
   "metadata": {
    "ExecuteTime": {
     "end_time": "2021-02-24T06:59:09.946306Z",
     "start_time": "2021-02-24T06:59:09.941321Z"
    }
   },
   "outputs": [],
   "source": [
    "def make_box(shape):\n",
    "    def box(init_value):\n",
    "        if len(shape)==1:\n",
    "            return [init_value]*shape[0]\n",
    "        elif len(shape)==2:\n",
    "            return [[init_value]*shape[1]]*shape[0]\n",
    "    return box"
   ]
  },
  {
   "cell_type": "code",
   "execution_count": 137,
   "metadata": {
    "ExecuteTime": {
     "end_time": "2021-02-24T07:01:29.769113Z",
     "start_time": "2021-02-24T07:01:29.764151Z"
    }
   },
   "outputs": [
    {
     "data": {
      "text/plain": [
       "[10, 10, 10, 10, 10]"
      ]
     },
     "execution_count": 137,
     "metadata": {},
     "output_type": "execute_result"
    }
   ],
   "source": [
    "box1 = make_box([5,])\n",
    "box1(10)"
   ]
  },
  {
   "cell_type": "code",
   "execution_count": 138,
   "metadata": {
    "ExecuteTime": {
     "end_time": "2021-02-24T07:01:48.337301Z",
     "start_time": "2021-02-24T07:01:48.332315Z"
    }
   },
   "outputs": [
    {
     "data": {
      "text/plain": [
       "[[10, 10, 10, 10],\n",
       " [10, 10, 10, 10],\n",
       " [10, 10, 10, 10],\n",
       " [10, 10, 10, 10],\n",
       " [10, 10, 10, 10]]"
      ]
     },
     "execution_count": 138,
     "metadata": {},
     "output_type": "execute_result"
    }
   ],
   "source": [
    "box2 = make_box([5,4])\n",
    "box2(10)"
   ]
  },
  {
   "cell_type": "code",
   "execution_count": 139,
   "metadata": {
    "ExecuteTime": {
     "end_time": "2021-02-24T07:05:12.969041Z",
     "start_time": "2021-02-24T07:05:12.964034Z"
    }
   },
   "outputs": [],
   "source": [
    "def make_boxL(shape):\n",
    "    if len(shape) == 1:\n",
    "        return lambda x:[x]*shape[0]\n",
    "    elif len(shape)==2:\n",
    "        return lambda x:[[x]*shape[1]]*shape[0]"
   ]
  },
  {
   "cell_type": "code",
   "execution_count": 140,
   "metadata": {
    "ExecuteTime": {
     "end_time": "2021-02-24T07:05:24.352698Z",
     "start_time": "2021-02-24T07:05:24.347711Z"
    }
   },
   "outputs": [
    {
     "data": {
      "text/plain": [
       "[10, 10, 10, 10, 10]"
      ]
     },
     "execution_count": 140,
     "metadata": {},
     "output_type": "execute_result"
    }
   ],
   "source": [
    "box1 = make_boxL([5,])\n",
    "box1(10)"
   ]
  },
  {
   "cell_type": "code",
   "execution_count": 143,
   "metadata": {
    "ExecuteTime": {
     "end_time": "2021-02-24T07:05:56.728417Z",
     "start_time": "2021-02-24T07:05:56.723430Z"
    }
   },
   "outputs": [
    {
     "data": {
      "text/plain": [
       "[[10, 10, 10, 10],\n",
       " [10, 10, 10, 10],\n",
       " [10, 10, 10, 10],\n",
       " [10, 10, 10, 10],\n",
       " [10, 10, 10, 10]]"
      ]
     },
     "execution_count": 143,
     "metadata": {},
     "output_type": "execute_result"
    }
   ],
   "source": [
    "box2 = make_boxL([5,4])\n",
    "box2(10)"
   ]
  },
  {
   "cell_type": "markdown",
   "metadata": {},
   "source": [
    "## 파이썬 내장 함수"
   ]
  },
  {
   "cell_type": "code",
   "execution_count": 144,
   "metadata": {
    "ExecuteTime": {
     "end_time": "2021-02-24T07:14:20.523756Z",
     "start_time": "2021-02-24T07:14:20.491823Z"
    }
   },
   "outputs": [
    {
     "data": {
      "text/plain": [
       "{'__name__': '__main__',\n",
       " '__doc__': 'Automatically created module for IPython interactive environment',\n",
       " '__package__': None,\n",
       " '__loader__': None,\n",
       " '__spec__': None,\n",
       " '__builtin__': <module 'builtins' (built-in)>,\n",
       " '__builtins__': <module 'builtins' (built-in)>,\n",
       " '_ih': ['',\n",
       "  \"def hello():\\n    print('Hello world!')\\nhello()\",\n",
       "  'def add(num1, num2, num3=0):\\n    return num1+num2+num3\\nprint(add(10,20,30))\\nprint(add(10,20))\\n    ',\n",
       "  'def my_function():\\n    \"함수의 첫 라인에 독스트링을 포함, 대부분의 함수의 설명\"\\n    pass\\nprint(my_function.__doc__)',\n",
       "  'def fibonacci(n):\\n    \"\"\"\\n    매개변수로 들어온 n값 미만까지 피보나치 수열을 출력합니다.\\n    \"\"\"\\n    a, b = 0,1\\n    while a < n:\\n        print(a, end=\" \")\\n        a,b = b, a+b\\nfibonacci(10)',\n",
       "  'global_var = 100 #전역변수\\ndef fun1():\\n    print(global_var)\\nfun1()',\n",
       "  'def fun2():\\n    local_var = 200\\n    print(local_var)\\nfun2()',\n",
       "  'local_var',\n",
       "  'global_var',\n",
       "  'def fun2():\\n    local_var = 200#지역변수\\n    print(local_var)\\nfun2()',\n",
       "  \"g_var = 100\\ndef fun3():\\n    print('before', g_var)\\n    g_var = 200\\n    print('after', g_var)\",\n",
       "  \"g_var = 100\\ndef fun3():\\n    print('before', g_var)\\n    g_var = 200\\n    print('after', g_var)\\nfun3()\",\n",
       "  \"g_var = 100\\ndef fun3():\\n    print('before', g_var)\\n    g_var = 200\\n    print('after', g_var)\\n#fun3() error\",\n",
       "  \"g_var = 100\\ndef fun3():\\n    global g_var #변수는 전역변수를 쓸 예정\\n    print('before', g_var)\\n    g_var = 200 \\n    print('after', g_var)\\nfun3()\",\n",
       "  'global_var = 100\\ndef fn1():\\n    global_var = 200\\n    print(global_var)\\nglobal_var\\nfn1()\\nglobal_var',\n",
       "  'global_var = 100\\ndef fn1():\\n    global_var = 200\\n    print(global_var)\\nprint(global_var)\\nfn1()\\nprint(global_var)',\n",
       "  \"foo = 'a'#전역변수\\nid(foo)\",\n",
       "  \"def fn1(foo):\\n    print('before: ', foo, '의 주소: id(foo)')\\n    foo = foo *3\\n    print('after: ', foo, '의 주소: id(foo)')\\nfn1()\",\n",
       "  \"def fn1(foo):\\n    print('before: ', foo, '의 주소: id(foo)')\\n    foo = foo *3\\n    print('after: ', foo, '의 주소: id(foo)')\\nfn1(foo)\",\n",
       "  \"def fn1(foo):\\n    print('before: ', foo, '의 주소:', id(foo))\\n    foo = foo *3\\n    print('after: ', foo, '의 주소:', id(foo))\\nfn1(foo)\",\n",
       "  'print(foo, id(foo))',\n",
       "  'list = [1,2,3,4,5]\\nid(list)',\n",
       "  \"def fn2(L):\\n    print('before: ', L, '의 주소:', id(L))\\n    L.append(6)\\n    print('after: ', L, '의 주소:', id(L))\\nfn2(L)\\nprint(L, id(L))\",\n",
       "  \"def fn2(foo):\\n    print('before: ', foo, '의 주소:', id(foo))\\n    foo.append(6)\\n    print('after: ', foo, '의 주소:', id(foo))\\nfn2(L)\",\n",
       "  'L = [1,2,3,4,5]\\nid(L)',\n",
       "  \"def fn2(foo):#지역 변수\\n    print('before: ', foo, '의 주소:', id(foo))\\n    foo.append(6)\\n    print('after: ', foo, '의 주소:', id(foo))\\nfn2(L)\",\n",
       "  \"def fn2(foo):#지역 변수\\n    print('before: ', foo, '의 주소:', id(foo))\\n    foo.append(6)\\n    print('after: ', foo, '의 주소:', id(foo))\\nfn2(L)\\nprint(foo, id(foo))\",\n",
       "  \"def fn2(foo):#지역 변수\\n    print('before: ', foo, '의 주소:', id(foo))\\n    foo.append(6)\\n    print('after: ', foo, '의 주소:', id(foo))\\nfn2(L)\\nprint(L, id(L))\",\n",
       "  \"def fn2(foo):#지역 변수\\n    print('before: ', foo, '의 주소:', id(foo))\\n    foo.append(6)\\n    print('after: ', foo, '의 주소:', id(foo))\\nfn2(L)\\nprint(L, id(L))#참조에 의한 호출 > 주소가 바뀌지 않음\",\n",
       "  'def fibonacci(n):\\n    \"\"\"\\n    매개변수로 들어온 n값 미만까지 피보나치 수열을 출력합니다.\\n    \"\"\"\\n    a, b = 0,1\\n    while a < n:\\n        print(a, end=\" \")\\n        a,b = b, a+b',\n",
       "  'type(fibonacci)',\n",
       "  'fib = fibonacci',\n",
       "  'fib(89)',\n",
       "  'def fibonacci(n):\\n    \"\"\"\\n    매개변수로 들어온 n값 미만까지 피보나치 수열을 출력합니다.\\n    \"\"\"\\n    a, b = 0,1\\n    while a < n:\\n        print(a, end=\" \")\\n        a,b = b, a+b\\ndef fibonacci(n):\\n    \"n값 미만 피보나치 수열 return\"\\n    a,b = 0,1\\n    result = []\\n    while a < n:\\n        result.append(a)\\n        a,b = b, a+b\\n    return result\\nfibonacci(10)',\n",
       "  'L = fibonacci(100)\\nprint(L)',\n",
       "  'fibonacci_print(10)\\nL = fibonacci(100)\\nprint(L)',\n",
       "  'L = fibonacci(100)\\nprint(L)',\n",
       "  'def swap(a,b):\\n    return b,a\\nx,y = swap(x,y)\\nprint(x,y)',\n",
       "  'def swap(a,b):\\n    return b,a\\nx,y = 1,2\\nx,y = swap(x,y)\\nprint(x,y)',\n",
       "  'def swap(a,b):\\n    return b,a\\nx,y = 1,2\\nprint(x,y)\\nx,y = swap(x,y)\\nprint(x,y)',\n",
       "  'a = swap(x,y)\\ntype(a)',\n",
       "  'a = swap(x,y)\\ntype(a)\\nprint(a)',\n",
       "  'a = swap(x,y)\\nprint(type(a))\\nprint(a)',\n",
       "  'def make_url(ip, port=80):\\n    return \"http://{}:{}\".format(ip,port)\\nmake_url(\"localhost\")',\n",
       "  \"i=5\\ndef fn2(arg=i):\\n    print('arg = ',arg)\",\n",
       "  'i=6\\nfn2()',\n",
       "  '#기본 변수가 리스트, 셋, 딕셔너리 또는 객체일 때 함수를 호출 후 다시 전달\\nlist_ = []\\ndef fn3(a, L=list_):\\n    L.append(a)\\n    return L\\nprint(fn3(1))',\n",
       "  'print(fn3(2))',\n",
       "  'print(fn3(2))',\n",
       "  'print(fn3(2))',\n",
       "  'print(fn3(2))',\n",
       "  'print(fn3(2))',\n",
       "  'print(fn3(2))',\n",
       "  'def func(a, L=[]):\\n    L.append(a)\\n    return L\\nprint(func(a))',\n",
       "  'def func(a, L=[]):\\n    L.append(a)\\n    return L\\nprint(func(1)',\n",
       "  'def func(a, L=[]):\\n    L.append(a)\\n    return L\\nprint(func(1))',\n",
       "  'def fn4(a, L=None):\\n    if L is None:\\n        L = []\\n    L.append(a)\\n    return L\\nfn4(10)\\n        ',\n",
       "  'fn4(20)',\n",
       "  'fn4(4,list_)',\n",
       "  'fn4(4,list_)',\n",
       "  'fn4(4,list_)',\n",
       "  'fn4(4,list_)',\n",
       "  'fn4(4,list_)',\n",
       "  'fn4(4,list_)',\n",
       "  'fn4(4,list_)',\n",
       "  'def add(a,b):\\n    return a+b\\nprint(add(1,2))',\n",
       "  'def add(a,b,c):\\n    return a+b+c\\nprint(add(1,2,3))',\n",
       "  'add(2,3)',\n",
       "  '#*args: args가 tuple로 전달\\ndef add(*args):\\n    sum = 0\\n    for i in args:\\n        sum += i\\nadd(1,2,3,4,5,6,7,8,9)',\n",
       "  '#*args: args가 tuple로 전달\\ndef add(*args):\\n    sum = 0\\n    for i in args:\\n        sum += i\\n    return sum\\nadd(1,2,3,4,5,6,7,8,9)',\n",
       "  'def concat(*args, sep):\\n    return sep.join(args)\\nconcat(a,b,c,d,e,f,sep=\"-\")',\n",
       "  'def concat(*args, sep):\\n    return sep.join(args)\\nconcat(1,2,3,4,5,6,7,8,9,sep=\"-\")',\n",
       "  'def concat(*args, sep):\\n    return sep.join(args)',\n",
       "  'def concat(*args, sep):\\n    return sep.join(args)\\nconcat(1,2,3,4,5,6,7,8,9,sep=\"-\")',\n",
       "  'def concat(*args, sep):\\n    return sep.join(args)\\nconcat(\"Hello\", \"World\", sep=\"_\")',\n",
       "  'def concat(sep,*args):\\n    return sep.join(args)\\nconcat(\"-\",\"Hello\", \"World\")',\n",
       "  'def concat(*args, sep=\"-\"):#순서인수 > 튜플인수> 키워드 인수\\n    return sep.join(args)\\nconcat(\"Hello\", \"World\")',\n",
       "  'def fn5(**args):#**args: 딕셔너리로 전달\\n    for item in args.items():\\n        print(item)\\nfn5(name=\"hong\", age=\"23\", gender=\"male\")\\n    ',\n",
       "  'def fn5(**args):#**args: 딕셔너리로 전달\\n    for item in args.items():\\n        print(item)\\nfn5(name=\"hong\", age=\"23\", gender=\"male\")    ',\n",
       "  'def(a, *b, **b):#순서인수, 튜플인수, 딕셔너리인수\\n    print(a)\\n    print(b)\\n    print(c)',\n",
       "  'def(a, *b, **c):#순서인수, 튜플인수, 딕셔너리인수\\n    print(a)\\n    print(b)\\n    print(c)',\n",
       "  'def fn6(a, *b, **c):#순서인수, 튜플인수, 딕셔너리인수\\n    print(a)\\n    print(b)\\n    print(c)',\n",
       "  \"fn6(10,1,2,3,4,5,name='hong', age=23)\",\n",
       "  'def fn6(a, b, c,*d,e=10, **f):\\n    print(a)\\n    print(b)\\n    print(c)\\n    print(c)\\n    print(c)',\n",
       "  'def fn6(a, b, c,*d,e=10, **f):\\n    print(a)\\n    print(b)\\n    print(c)\\n    print(d)\\n    print(e)\\n    print(f)',\n",
       "  \"fn6(10,20,30,1,2,3,4,5,6,e=30,name='kim', age=54)\",\n",
       "  'def add(*args):\\n    sum=0\\n    for num in args:\\n        sum += num\\n    return sum\\nadd(1,2,3,4)',\n",
       "  'numbers = (1,2,3,4)\\nadd(numbers)',\n",
       "  'numbers = (1,2,3,4)\\nadd(*numbers) #튜플 언패킹',\n",
       "  'def range2(*args):\\n    print([{}:{}:{}].format(args[0],args[1],args[2]))',\n",
       "  'def range2(*args):\\n    print([\"{}:{}:{}\"].format(args[0],args[1],args[2]))',\n",
       "  'range2(0,10,2)',\n",
       "  \"def range2(*args):\\n    length = len(args)\\n    result=[]\\n    if length==0:\\n        raise Exception('error')\\n    elif length==1:\\n        for i in range(args[0]):\\n            result.append(i)\\n    elif length==2:\\n        for i in range(args[0], args[1]):\\n            result.append(i)\\n    elif length==3\\n        for i in range(args[0], args[1], args[2]):\\n            result.append(i)\\n    else:\\n        print('too much')\\n    return result\",\n",
       "  \"def range2(*args):\\n    length = len(args)\\n    result=[]\\n    if length==0:\\n        raise Exception('error')\\n    elif length==1:\\n        for i in range(args[0]):\\n            result.append(i)\\n    elif length==2:\\n        for i in range(args[0], args[1]):\\n            result.append(i)\\n    elif length==3:\\n        for i in range(args[0], args[1], args[2]):\\n            result.append(i)\\n    else:\\n        print('too much')\\n    return result\",\n",
       "  'range2(10)',\n",
       "  'range2(5,10)',\n",
       "  'range2(3,10,2)',\n",
       "  \"def fn5(**data):\\n    for item in data.items():\\n        print(item)\\nfn5(name='hong', age=30)\",\n",
       "  \"customer = {'name':'hong', 'age':30, 'address':'seoul'}\\nfn5(customer)\",\n",
       "  \"customer = {'name':'hong', 'age':30, 'address':'seoul'}\\nfn5(**customer)\",\n",
       "  'l = [1,2,3]\\n[x**3 for x in l]',\n",
       "  'def add(a,b):\\n    return a+b\\nadd(5,6)',\n",
       "  'add2 = lambda a,b:a+b\\nadd2(2,3)',\n",
       "  'def map_template(fn, L=[]):\\n    result=[]',\n",
       "  'list_data = [1,2,3,4,5]\\ndef x_2(x):\\n    return x*2\\nmap_template(x_2, list_data)',\n",
       "  'def map_template(fn, L=[]):\\n    result=[]\\n    for i in L:\\n        result.append(fn(i))\\n    return result',\n",
       "  'list_data = [1,2,3,4,5]\\ndef x_2(x):\\n    return x*2\\nmap_template(x_2, list_data)',\n",
       "  '#람다식 이용\\nmap_template(lambda x;x*2, list_data)',\n",
       "  '#람다식 이용\\nmap_template(lambda x:x*2, list_data)',\n",
       "  '#map()\\nlist(map((lambda x:x*2, list_data)))',\n",
       "  '#map()\\nlist(map(lambda x:x*2, list_data))',\n",
       "  '#list comprehension\\n[x*2 for x in list_data]',\n",
       "  'def filter_template(fn, L=[]):\\n    result=[]\\n    for i in L:\\n        if fn(i):\\n            result.append(i)\\n    return result\\nfilter_template(lambda x:x%2==0, list_data)',\n",
       "  'list_data = [1,2,3,4,5,6,7,8,9,10]\\ndef filter_template(fn, L=[]):\\n    result=[]\\n    for i in L:\\n        if fn(i):\\n            result.append(i)\\n    return result\\nfilter_template(lambda x:x%2==0, list_data)',\n",
       "  '#map()\\nmap(lambda x:x*2, list_data)',\n",
       "  '#map()\\nlist(map(lambda x:x*2, list_data))',\n",
       "  '#filter()\\nfilter(lambda x:x%2==0, list_data)',\n",
       "  '#filter()\\nlist(filter(lambda x:x%2==0, list_data))',\n",
       "  '#filter()\\ndel list\\nlist(filter(lambda x:x%2==0, list_data))',\n",
       "  '#filter()\\nlist(filter(lambda x:x%2==0, list_data))',\n",
       "  '#map()\\nlist(map(lambda x:x*2, list_data))',\n",
       "  '#list comprehension\\n[x for x in list_data if x%2==0]',\n",
       "  \"pair = [(1,'one'), (3.'three'), (2,'two'), (4.'four')]\\npair.sort()\",\n",
       "  \"pair = [(1,'one'), (3,'three'), (2,'two'), (4'four')]\\npair.sort()\",\n",
       "  \"pair = [(1,'one'), (3,'three'), (2,'two'), (4,'four')]\\npair.sort()\",\n",
       "  \"pair = [(1,'one'), (3,'three'), (2,'two'), (4,'four')]\\npair.sort()\",\n",
       "  \"pair = [(1,'one'), (3,'three'), (2,'two'), (4,'four')]\\npair.sort()\\npair\",\n",
       "  \"pair = [(1,'one'), (3,'three'), (2,'two'), (4,'four')]\\npair.sort()\\npair\",\n",
       "  \"pair = [(1,'one'), (3,'three'), (2,'two'), (4,'four')]\\npair.sort()\\npair\",\n",
       "  'pair.sort(key=lambda pair:pair[1])',\n",
       "  'pair.sort(key=lambda pair:pair[1])',\n",
       "  '(lambda pair:pair[1])([1,2,3,4,86,7,47354,])',\n",
       "  'def apply(data, func=None):\\n    if func == None:\\n        return data\\n    else:\\n        return func(data)\\napply(100,lambda x:x**3)',\n",
       "  'def make_box(shape):\\n    def box(init_value):\\n        if len(shape)==1:\\n            return [init_value]*shape[0]\\n        elif len(shape)==2:\\n            return [[init_value]*shape[1]]*shape[0]\\n    return box',\n",
       "  'make_box(1)',\n",
       "  'box = make_box([5,])',\n",
       "  'box1 = make_box([5,])',\n",
       "  'box1 = make_box([5,])\\nbox1(10)',\n",
       "  'box2 = make_box([5,4])\\nbox2(10)',\n",
       "  'def make_boxL(shape):\\n    if len(shape) == 1:\\n        return lambda x:[x]*shape[0]\\n    elif len(shape)==2:\\n        return lambda x:[[x]*shape[1]]*shape[0]',\n",
       "  'box1 = make_boxL([5,])\\nbox1(10)',\n",
       "  'box2 = make_boxL([5,4])\\nbox2(10)',\n",
       "  'box2 = make_boxL([5,4])\\nbox2(10,2)',\n",
       "  'box2 = make_boxL([5,4])\\nbox2(10)',\n",
       "  'globals()'],\n",
       " '_oh': {8: 100,\n",
       "  14: 100,\n",
       "  16: 1833919397552,\n",
       "  21: 1831852986240,\n",
       "  24: 1831852827968,\n",
       "  30: function,\n",
       "  33: [0, 1, 1, 2, 3, 5, 8],\n",
       "  40: tuple,\n",
       "  43: 'http://localhost:80',\n",
       "  56: [10],\n",
       "  57: [20],\n",
       "  58: [1, 2, 2, 2, 2, 2, 2, 4, 4, 4, 4, 4, 4, 4],\n",
       "  59: [1, 2, 2, 2, 2, 2, 2, 4, 4, 4, 4, 4, 4, 4],\n",
       "  60: [1, 2, 2, 2, 2, 2, 2, 4, 4, 4, 4, 4, 4, 4],\n",
       "  61: [1, 2, 2, 2, 2, 2, 2, 4, 4, 4, 4, 4, 4, 4],\n",
       "  62: [1, 2, 2, 2, 2, 2, 2, 4, 4, 4, 4, 4, 4, 4],\n",
       "  63: [1, 2, 2, 2, 2, 2, 2, 4, 4, 4, 4, 4, 4, 4],\n",
       "  64: [1, 2, 2, 2, 2, 2, 2, 4, 4, 4, 4, 4, 4, 4],\n",
       "  69: 45,\n",
       "  74: 'Hello_World',\n",
       "  75: 'Hello-World',\n",
       "  76: 'Hello-World',\n",
       "  86: 10,\n",
       "  88: 10,\n",
       "  94: [0, 1, 2, 3, 4, 5, 6, 7, 8, 9],\n",
       "  95: [5, 6, 7, 8, 9],\n",
       "  96: [3, 5, 7, 9],\n",
       "  100: [1, 8, 27],\n",
       "  101: 11,\n",
       "  102: 5,\n",
       "  106: [2, 4, 6, 8, 10],\n",
       "  108: [2, 4, 6, 8, 10],\n",
       "  111: [2, 4, 6, 8, 10],\n",
       "  112: [2, 4],\n",
       "  113: [2, 4, 6, 8, 10],\n",
       "  114: <map at 0x1aa83ada250>,\n",
       "  116: <filter at 0x1aa83ada370>,\n",
       "  118: [2, 4, 6, 8, 10],\n",
       "  119: [2, 4, 6, 8, 10],\n",
       "  120: [2, 4, 6, 8, 10, 12, 14, 16, 18, 20],\n",
       "  121: [2, 4, 6, 8, 10],\n",
       "  126: [(1, 'one'), (2, 'two'), (3, 'three'), (4, 'four')],\n",
       "  127: [(1, 'one'), (2, 'two'), (3, 'three'), (4, 'four')],\n",
       "  128: [(4, 'four'), (1, 'one'), (3, 'three'), (2, 'two')],\n",
       "  131: 2,\n",
       "  132: 1000000,\n",
       "  134: <function __main__.make_box.<locals>.box(init_value)>,\n",
       "  137: [10, 10, 10, 10, 10],\n",
       "  138: [[10, 10, 10, 10],\n",
       "   [10, 10, 10, 10],\n",
       "   [10, 10, 10, 10],\n",
       "   [10, 10, 10, 10],\n",
       "   [10, 10, 10, 10]],\n",
       "  140: [10, 10, 10, 10, 10],\n",
       "  141: [[10, 10, 10, 10],\n",
       "   [10, 10, 10, 10],\n",
       "   [10, 10, 10, 10],\n",
       "   [10, 10, 10, 10],\n",
       "   [10, 10, 10, 10]],\n",
       "  143: [[10, 10, 10, 10],\n",
       "   [10, 10, 10, 10],\n",
       "   [10, 10, 10, 10],\n",
       "   [10, 10, 10, 10],\n",
       "   [10, 10, 10, 10]]},\n",
       " '_dh': ['D:\\\\BIGDATA\\\\source\\\\8_python'],\n",
       " 'In': ['',\n",
       "  \"def hello():\\n    print('Hello world!')\\nhello()\",\n",
       "  'def add(num1, num2, num3=0):\\n    return num1+num2+num3\\nprint(add(10,20,30))\\nprint(add(10,20))\\n    ',\n",
       "  'def my_function():\\n    \"함수의 첫 라인에 독스트링을 포함, 대부분의 함수의 설명\"\\n    pass\\nprint(my_function.__doc__)',\n",
       "  'def fibonacci(n):\\n    \"\"\"\\n    매개변수로 들어온 n값 미만까지 피보나치 수열을 출력합니다.\\n    \"\"\"\\n    a, b = 0,1\\n    while a < n:\\n        print(a, end=\" \")\\n        a,b = b, a+b\\nfibonacci(10)',\n",
       "  'global_var = 100 #전역변수\\ndef fun1():\\n    print(global_var)\\nfun1()',\n",
       "  'def fun2():\\n    local_var = 200\\n    print(local_var)\\nfun2()',\n",
       "  'local_var',\n",
       "  'global_var',\n",
       "  'def fun2():\\n    local_var = 200#지역변수\\n    print(local_var)\\nfun2()',\n",
       "  \"g_var = 100\\ndef fun3():\\n    print('before', g_var)\\n    g_var = 200\\n    print('after', g_var)\",\n",
       "  \"g_var = 100\\ndef fun3():\\n    print('before', g_var)\\n    g_var = 200\\n    print('after', g_var)\\nfun3()\",\n",
       "  \"g_var = 100\\ndef fun3():\\n    print('before', g_var)\\n    g_var = 200\\n    print('after', g_var)\\n#fun3() error\",\n",
       "  \"g_var = 100\\ndef fun3():\\n    global g_var #변수는 전역변수를 쓸 예정\\n    print('before', g_var)\\n    g_var = 200 \\n    print('after', g_var)\\nfun3()\",\n",
       "  'global_var = 100\\ndef fn1():\\n    global_var = 200\\n    print(global_var)\\nglobal_var\\nfn1()\\nglobal_var',\n",
       "  'global_var = 100\\ndef fn1():\\n    global_var = 200\\n    print(global_var)\\nprint(global_var)\\nfn1()\\nprint(global_var)',\n",
       "  \"foo = 'a'#전역변수\\nid(foo)\",\n",
       "  \"def fn1(foo):\\n    print('before: ', foo, '의 주소: id(foo)')\\n    foo = foo *3\\n    print('after: ', foo, '의 주소: id(foo)')\\nfn1()\",\n",
       "  \"def fn1(foo):\\n    print('before: ', foo, '의 주소: id(foo)')\\n    foo = foo *3\\n    print('after: ', foo, '의 주소: id(foo)')\\nfn1(foo)\",\n",
       "  \"def fn1(foo):\\n    print('before: ', foo, '의 주소:', id(foo))\\n    foo = foo *3\\n    print('after: ', foo, '의 주소:', id(foo))\\nfn1(foo)\",\n",
       "  'print(foo, id(foo))',\n",
       "  'list = [1,2,3,4,5]\\nid(list)',\n",
       "  \"def fn2(L):\\n    print('before: ', L, '의 주소:', id(L))\\n    L.append(6)\\n    print('after: ', L, '의 주소:', id(L))\\nfn2(L)\\nprint(L, id(L))\",\n",
       "  \"def fn2(foo):\\n    print('before: ', foo, '의 주소:', id(foo))\\n    foo.append(6)\\n    print('after: ', foo, '의 주소:', id(foo))\\nfn2(L)\",\n",
       "  'L = [1,2,3,4,5]\\nid(L)',\n",
       "  \"def fn2(foo):#지역 변수\\n    print('before: ', foo, '의 주소:', id(foo))\\n    foo.append(6)\\n    print('after: ', foo, '의 주소:', id(foo))\\nfn2(L)\",\n",
       "  \"def fn2(foo):#지역 변수\\n    print('before: ', foo, '의 주소:', id(foo))\\n    foo.append(6)\\n    print('after: ', foo, '의 주소:', id(foo))\\nfn2(L)\\nprint(foo, id(foo))\",\n",
       "  \"def fn2(foo):#지역 변수\\n    print('before: ', foo, '의 주소:', id(foo))\\n    foo.append(6)\\n    print('after: ', foo, '의 주소:', id(foo))\\nfn2(L)\\nprint(L, id(L))\",\n",
       "  \"def fn2(foo):#지역 변수\\n    print('before: ', foo, '의 주소:', id(foo))\\n    foo.append(6)\\n    print('after: ', foo, '의 주소:', id(foo))\\nfn2(L)\\nprint(L, id(L))#참조에 의한 호출 > 주소가 바뀌지 않음\",\n",
       "  'def fibonacci(n):\\n    \"\"\"\\n    매개변수로 들어온 n값 미만까지 피보나치 수열을 출력합니다.\\n    \"\"\"\\n    a, b = 0,1\\n    while a < n:\\n        print(a, end=\" \")\\n        a,b = b, a+b',\n",
       "  'type(fibonacci)',\n",
       "  'fib = fibonacci',\n",
       "  'fib(89)',\n",
       "  'def fibonacci(n):\\n    \"\"\"\\n    매개변수로 들어온 n값 미만까지 피보나치 수열을 출력합니다.\\n    \"\"\"\\n    a, b = 0,1\\n    while a < n:\\n        print(a, end=\" \")\\n        a,b = b, a+b\\ndef fibonacci(n):\\n    \"n값 미만 피보나치 수열 return\"\\n    a,b = 0,1\\n    result = []\\n    while a < n:\\n        result.append(a)\\n        a,b = b, a+b\\n    return result\\nfibonacci(10)',\n",
       "  'L = fibonacci(100)\\nprint(L)',\n",
       "  'fibonacci_print(10)\\nL = fibonacci(100)\\nprint(L)',\n",
       "  'L = fibonacci(100)\\nprint(L)',\n",
       "  'def swap(a,b):\\n    return b,a\\nx,y = swap(x,y)\\nprint(x,y)',\n",
       "  'def swap(a,b):\\n    return b,a\\nx,y = 1,2\\nx,y = swap(x,y)\\nprint(x,y)',\n",
       "  'def swap(a,b):\\n    return b,a\\nx,y = 1,2\\nprint(x,y)\\nx,y = swap(x,y)\\nprint(x,y)',\n",
       "  'a = swap(x,y)\\ntype(a)',\n",
       "  'a = swap(x,y)\\ntype(a)\\nprint(a)',\n",
       "  'a = swap(x,y)\\nprint(type(a))\\nprint(a)',\n",
       "  'def make_url(ip, port=80):\\n    return \"http://{}:{}\".format(ip,port)\\nmake_url(\"localhost\")',\n",
       "  \"i=5\\ndef fn2(arg=i):\\n    print('arg = ',arg)\",\n",
       "  'i=6\\nfn2()',\n",
       "  '#기본 변수가 리스트, 셋, 딕셔너리 또는 객체일 때 함수를 호출 후 다시 전달\\nlist_ = []\\ndef fn3(a, L=list_):\\n    L.append(a)\\n    return L\\nprint(fn3(1))',\n",
       "  'print(fn3(2))',\n",
       "  'print(fn3(2))',\n",
       "  'print(fn3(2))',\n",
       "  'print(fn3(2))',\n",
       "  'print(fn3(2))',\n",
       "  'print(fn3(2))',\n",
       "  'def func(a, L=[]):\\n    L.append(a)\\n    return L\\nprint(func(a))',\n",
       "  'def func(a, L=[]):\\n    L.append(a)\\n    return L\\nprint(func(1)',\n",
       "  'def func(a, L=[]):\\n    L.append(a)\\n    return L\\nprint(func(1))',\n",
       "  'def fn4(a, L=None):\\n    if L is None:\\n        L = []\\n    L.append(a)\\n    return L\\nfn4(10)\\n        ',\n",
       "  'fn4(20)',\n",
       "  'fn4(4,list_)',\n",
       "  'fn4(4,list_)',\n",
       "  'fn4(4,list_)',\n",
       "  'fn4(4,list_)',\n",
       "  'fn4(4,list_)',\n",
       "  'fn4(4,list_)',\n",
       "  'fn4(4,list_)',\n",
       "  'def add(a,b):\\n    return a+b\\nprint(add(1,2))',\n",
       "  'def add(a,b,c):\\n    return a+b+c\\nprint(add(1,2,3))',\n",
       "  'add(2,3)',\n",
       "  '#*args: args가 tuple로 전달\\ndef add(*args):\\n    sum = 0\\n    for i in args:\\n        sum += i\\nadd(1,2,3,4,5,6,7,8,9)',\n",
       "  '#*args: args가 tuple로 전달\\ndef add(*args):\\n    sum = 0\\n    for i in args:\\n        sum += i\\n    return sum\\nadd(1,2,3,4,5,6,7,8,9)',\n",
       "  'def concat(*args, sep):\\n    return sep.join(args)\\nconcat(a,b,c,d,e,f,sep=\"-\")',\n",
       "  'def concat(*args, sep):\\n    return sep.join(args)\\nconcat(1,2,3,4,5,6,7,8,9,sep=\"-\")',\n",
       "  'def concat(*args, sep):\\n    return sep.join(args)',\n",
       "  'def concat(*args, sep):\\n    return sep.join(args)\\nconcat(1,2,3,4,5,6,7,8,9,sep=\"-\")',\n",
       "  'def concat(*args, sep):\\n    return sep.join(args)\\nconcat(\"Hello\", \"World\", sep=\"_\")',\n",
       "  'def concat(sep,*args):\\n    return sep.join(args)\\nconcat(\"-\",\"Hello\", \"World\")',\n",
       "  'def concat(*args, sep=\"-\"):#순서인수 > 튜플인수> 키워드 인수\\n    return sep.join(args)\\nconcat(\"Hello\", \"World\")',\n",
       "  'def fn5(**args):#**args: 딕셔너리로 전달\\n    for item in args.items():\\n        print(item)\\nfn5(name=\"hong\", age=\"23\", gender=\"male\")\\n    ',\n",
       "  'def fn5(**args):#**args: 딕셔너리로 전달\\n    for item in args.items():\\n        print(item)\\nfn5(name=\"hong\", age=\"23\", gender=\"male\")    ',\n",
       "  'def(a, *b, **b):#순서인수, 튜플인수, 딕셔너리인수\\n    print(a)\\n    print(b)\\n    print(c)',\n",
       "  'def(a, *b, **c):#순서인수, 튜플인수, 딕셔너리인수\\n    print(a)\\n    print(b)\\n    print(c)',\n",
       "  'def fn6(a, *b, **c):#순서인수, 튜플인수, 딕셔너리인수\\n    print(a)\\n    print(b)\\n    print(c)',\n",
       "  \"fn6(10,1,2,3,4,5,name='hong', age=23)\",\n",
       "  'def fn6(a, b, c,*d,e=10, **f):\\n    print(a)\\n    print(b)\\n    print(c)\\n    print(c)\\n    print(c)',\n",
       "  'def fn6(a, b, c,*d,e=10, **f):\\n    print(a)\\n    print(b)\\n    print(c)\\n    print(d)\\n    print(e)\\n    print(f)',\n",
       "  \"fn6(10,20,30,1,2,3,4,5,6,e=30,name='kim', age=54)\",\n",
       "  'def add(*args):\\n    sum=0\\n    for num in args:\\n        sum += num\\n    return sum\\nadd(1,2,3,4)',\n",
       "  'numbers = (1,2,3,4)\\nadd(numbers)',\n",
       "  'numbers = (1,2,3,4)\\nadd(*numbers) #튜플 언패킹',\n",
       "  'def range2(*args):\\n    print([{}:{}:{}].format(args[0],args[1],args[2]))',\n",
       "  'def range2(*args):\\n    print([\"{}:{}:{}\"].format(args[0],args[1],args[2]))',\n",
       "  'range2(0,10,2)',\n",
       "  \"def range2(*args):\\n    length = len(args)\\n    result=[]\\n    if length==0:\\n        raise Exception('error')\\n    elif length==1:\\n        for i in range(args[0]):\\n            result.append(i)\\n    elif length==2:\\n        for i in range(args[0], args[1]):\\n            result.append(i)\\n    elif length==3\\n        for i in range(args[0], args[1], args[2]):\\n            result.append(i)\\n    else:\\n        print('too much')\\n    return result\",\n",
       "  \"def range2(*args):\\n    length = len(args)\\n    result=[]\\n    if length==0:\\n        raise Exception('error')\\n    elif length==1:\\n        for i in range(args[0]):\\n            result.append(i)\\n    elif length==2:\\n        for i in range(args[0], args[1]):\\n            result.append(i)\\n    elif length==3:\\n        for i in range(args[0], args[1], args[2]):\\n            result.append(i)\\n    else:\\n        print('too much')\\n    return result\",\n",
       "  'range2(10)',\n",
       "  'range2(5,10)',\n",
       "  'range2(3,10,2)',\n",
       "  \"def fn5(**data):\\n    for item in data.items():\\n        print(item)\\nfn5(name='hong', age=30)\",\n",
       "  \"customer = {'name':'hong', 'age':30, 'address':'seoul'}\\nfn5(customer)\",\n",
       "  \"customer = {'name':'hong', 'age':30, 'address':'seoul'}\\nfn5(**customer)\",\n",
       "  'l = [1,2,3]\\n[x**3 for x in l]',\n",
       "  'def add(a,b):\\n    return a+b\\nadd(5,6)',\n",
       "  'add2 = lambda a,b:a+b\\nadd2(2,3)',\n",
       "  'def map_template(fn, L=[]):\\n    result=[]',\n",
       "  'list_data = [1,2,3,4,5]\\ndef x_2(x):\\n    return x*2\\nmap_template(x_2, list_data)',\n",
       "  'def map_template(fn, L=[]):\\n    result=[]\\n    for i in L:\\n        result.append(fn(i))\\n    return result',\n",
       "  'list_data = [1,2,3,4,5]\\ndef x_2(x):\\n    return x*2\\nmap_template(x_2, list_data)',\n",
       "  '#람다식 이용\\nmap_template(lambda x;x*2, list_data)',\n",
       "  '#람다식 이용\\nmap_template(lambda x:x*2, list_data)',\n",
       "  '#map()\\nlist(map((lambda x:x*2, list_data)))',\n",
       "  '#map()\\nlist(map(lambda x:x*2, list_data))',\n",
       "  '#list comprehension\\n[x*2 for x in list_data]',\n",
       "  'def filter_template(fn, L=[]):\\n    result=[]\\n    for i in L:\\n        if fn(i):\\n            result.append(i)\\n    return result\\nfilter_template(lambda x:x%2==0, list_data)',\n",
       "  'list_data = [1,2,3,4,5,6,7,8,9,10]\\ndef filter_template(fn, L=[]):\\n    result=[]\\n    for i in L:\\n        if fn(i):\\n            result.append(i)\\n    return result\\nfilter_template(lambda x:x%2==0, list_data)',\n",
       "  '#map()\\nmap(lambda x:x*2, list_data)',\n",
       "  '#map()\\nlist(map(lambda x:x*2, list_data))',\n",
       "  '#filter()\\nfilter(lambda x:x%2==0, list_data)',\n",
       "  '#filter()\\nlist(filter(lambda x:x%2==0, list_data))',\n",
       "  '#filter()\\ndel list\\nlist(filter(lambda x:x%2==0, list_data))',\n",
       "  '#filter()\\nlist(filter(lambda x:x%2==0, list_data))',\n",
       "  '#map()\\nlist(map(lambda x:x*2, list_data))',\n",
       "  '#list comprehension\\n[x for x in list_data if x%2==0]',\n",
       "  \"pair = [(1,'one'), (3.'three'), (2,'two'), (4.'four')]\\npair.sort()\",\n",
       "  \"pair = [(1,'one'), (3,'three'), (2,'two'), (4'four')]\\npair.sort()\",\n",
       "  \"pair = [(1,'one'), (3,'three'), (2,'two'), (4,'four')]\\npair.sort()\",\n",
       "  \"pair = [(1,'one'), (3,'three'), (2,'two'), (4,'four')]\\npair.sort()\",\n",
       "  \"pair = [(1,'one'), (3,'three'), (2,'two'), (4,'four')]\\npair.sort()\\npair\",\n",
       "  \"pair = [(1,'one'), (3,'three'), (2,'two'), (4,'four')]\\npair.sort()\\npair\",\n",
       "  \"pair = [(1,'one'), (3,'three'), (2,'two'), (4,'four')]\\npair.sort()\\npair\",\n",
       "  'pair.sort(key=lambda pair:pair[1])',\n",
       "  'pair.sort(key=lambda pair:pair[1])',\n",
       "  '(lambda pair:pair[1])([1,2,3,4,86,7,47354,])',\n",
       "  'def apply(data, func=None):\\n    if func == None:\\n        return data\\n    else:\\n        return func(data)\\napply(100,lambda x:x**3)',\n",
       "  'def make_box(shape):\\n    def box(init_value):\\n        if len(shape)==1:\\n            return [init_value]*shape[0]\\n        elif len(shape)==2:\\n            return [[init_value]*shape[1]]*shape[0]\\n    return box',\n",
       "  'make_box(1)',\n",
       "  'box = make_box([5,])',\n",
       "  'box1 = make_box([5,])',\n",
       "  'box1 = make_box([5,])\\nbox1(10)',\n",
       "  'box2 = make_box([5,4])\\nbox2(10)',\n",
       "  'def make_boxL(shape):\\n    if len(shape) == 1:\\n        return lambda x:[x]*shape[0]\\n    elif len(shape)==2:\\n        return lambda x:[[x]*shape[1]]*shape[0]',\n",
       "  'box1 = make_boxL([5,])\\nbox1(10)',\n",
       "  'box2 = make_boxL([5,4])\\nbox2(10)',\n",
       "  'box2 = make_boxL([5,4])\\nbox2(10,2)',\n",
       "  'box2 = make_boxL([5,4])\\nbox2(10)',\n",
       "  'globals()'],\n",
       " 'Out': {8: 100,\n",
       "  14: 100,\n",
       "  16: 1833919397552,\n",
       "  21: 1831852986240,\n",
       "  24: 1831852827968,\n",
       "  30: function,\n",
       "  33: [0, 1, 1, 2, 3, 5, 8],\n",
       "  40: tuple,\n",
       "  43: 'http://localhost:80',\n",
       "  56: [10],\n",
       "  57: [20],\n",
       "  58: [1, 2, 2, 2, 2, 2, 2, 4, 4, 4, 4, 4, 4, 4],\n",
       "  59: [1, 2, 2, 2, 2, 2, 2, 4, 4, 4, 4, 4, 4, 4],\n",
       "  60: [1, 2, 2, 2, 2, 2, 2, 4, 4, 4, 4, 4, 4, 4],\n",
       "  61: [1, 2, 2, 2, 2, 2, 2, 4, 4, 4, 4, 4, 4, 4],\n",
       "  62: [1, 2, 2, 2, 2, 2, 2, 4, 4, 4, 4, 4, 4, 4],\n",
       "  63: [1, 2, 2, 2, 2, 2, 2, 4, 4, 4, 4, 4, 4, 4],\n",
       "  64: [1, 2, 2, 2, 2, 2, 2, 4, 4, 4, 4, 4, 4, 4],\n",
       "  69: 45,\n",
       "  74: 'Hello_World',\n",
       "  75: 'Hello-World',\n",
       "  76: 'Hello-World',\n",
       "  86: 10,\n",
       "  88: 10,\n",
       "  94: [0, 1, 2, 3, 4, 5, 6, 7, 8, 9],\n",
       "  95: [5, 6, 7, 8, 9],\n",
       "  96: [3, 5, 7, 9],\n",
       "  100: [1, 8, 27],\n",
       "  101: 11,\n",
       "  102: 5,\n",
       "  106: [2, 4, 6, 8, 10],\n",
       "  108: [2, 4, 6, 8, 10],\n",
       "  111: [2, 4, 6, 8, 10],\n",
       "  112: [2, 4],\n",
       "  113: [2, 4, 6, 8, 10],\n",
       "  114: <map at 0x1aa83ada250>,\n",
       "  116: <filter at 0x1aa83ada370>,\n",
       "  118: [2, 4, 6, 8, 10],\n",
       "  119: [2, 4, 6, 8, 10],\n",
       "  120: [2, 4, 6, 8, 10, 12, 14, 16, 18, 20],\n",
       "  121: [2, 4, 6, 8, 10],\n",
       "  126: [(1, 'one'), (2, 'two'), (3, 'three'), (4, 'four')],\n",
       "  127: [(1, 'one'), (2, 'two'), (3, 'three'), (4, 'four')],\n",
       "  128: [(4, 'four'), (1, 'one'), (3, 'three'), (2, 'two')],\n",
       "  131: 2,\n",
       "  132: 1000000,\n",
       "  134: <function __main__.make_box.<locals>.box(init_value)>,\n",
       "  137: [10, 10, 10, 10, 10],\n",
       "  138: [[10, 10, 10, 10],\n",
       "   [10, 10, 10, 10],\n",
       "   [10, 10, 10, 10],\n",
       "   [10, 10, 10, 10],\n",
       "   [10, 10, 10, 10]],\n",
       "  140: [10, 10, 10, 10, 10],\n",
       "  141: [[10, 10, 10, 10],\n",
       "   [10, 10, 10, 10],\n",
       "   [10, 10, 10, 10],\n",
       "   [10, 10, 10, 10],\n",
       "   [10, 10, 10, 10]],\n",
       "  143: [[10, 10, 10, 10],\n",
       "   [10, 10, 10, 10],\n",
       "   [10, 10, 10, 10],\n",
       "   [10, 10, 10, 10],\n",
       "   [10, 10, 10, 10]]},\n",
       " 'get_ipython': <function IPython.core.getipython.get_ipython()>,\n",
       " 'exit': <IPython.core.autocall.ZMQExitAutocall at 0x1aa809bc340>,\n",
       " 'quit': <IPython.core.autocall.ZMQExitAutocall at 0x1aa809bc340>,\n",
       " '_': [[10, 10, 10, 10],\n",
       "  [10, 10, 10, 10],\n",
       "  [10, 10, 10, 10],\n",
       "  [10, 10, 10, 10],\n",
       "  [10, 10, 10, 10]],\n",
       " '__': [[10, 10, 10, 10],\n",
       "  [10, 10, 10, 10],\n",
       "  [10, 10, 10, 10],\n",
       "  [10, 10, 10, 10],\n",
       "  [10, 10, 10, 10]],\n",
       " '___': [10, 10, 10, 10, 10],\n",
       " 'json': <module 'json' from 'C:\\\\Users\\\\tjoeun\\\\anaconda3\\\\lib\\\\json\\\\__init__.py'>,\n",
       " 'yapf_reformat': <function __main__.yapf_reformat(cell_text)>,\n",
       " 'autopep8': <module 'autopep8' from 'C:\\\\Users\\\\tjoeun\\\\anaconda3\\\\lib\\\\site-packages\\\\autopep8.py'>,\n",
       " 'getsizeof': <function sys.getsizeof>,\n",
       " 'NamespaceMagics': IPython.core.magics.namespace.NamespaceMagics,\n",
       " '_nms': <IPython.core.magics.namespace.NamespaceMagics at 0x1aa80af0400>,\n",
       " '_Jupyter': <ipykernel.zmqshell.ZMQInteractiveShell at 0x1aa809459a0>,\n",
       " 'np': <module 'numpy' from 'C:\\\\Users\\\\tjoeun\\\\anaconda3\\\\lib\\\\site-packages\\\\numpy\\\\__init__.py'>,\n",
       " '_getsizeof': <function __main__._getsizeof(x)>,\n",
       " '_getshapeof': <function __main__._getshapeof(x)>,\n",
       " 'var_dic_list': <function __main__.var_dic_list()>,\n",
       " '_i': 'box2 = make_boxL([5,4])\\nbox2(10)',\n",
       " '_ii': 'box2 = make_boxL([5,4])\\nbox2(10,2)',\n",
       " '_iii': 'box2 = make_boxL([5,4])\\nbox2(10)',\n",
       " '_i1': \"def hello():\\n    print('Hello world!')\\nhello()\",\n",
       " 'hello': <function __main__.hello()>,\n",
       " '_i2': 'def add(num1, num2, num3=0):\\n    return num1+num2+num3\\nprint(add(10,20,30))\\nprint(add(10,20))\\n    ',\n",
       " 'add': <function __main__.add(a, b)>,\n",
       " '_i3': 'def my_function():\\n    \"함수의 첫 라인에 독스트링을 포함, 대부분의 함수의 설명\"\\n    pass\\nprint(my_function.__doc__)',\n",
       " 'my_function': <function __main__.my_function()>,\n",
       " '_i4': 'def fibonacci(n):\\n    \"\"\"\\n    매개변수로 들어온 n값 미만까지 피보나치 수열을 출력합니다.\\n    \"\"\"\\n    a, b = 0,1\\n    while a < n:\\n        print(a, end=\" \")\\n        a,b = b, a+b\\nfibonacci(10)',\n",
       " 'fibonacci': <function __main__.fibonacci(n)>,\n",
       " '_i5': 'global_var = 100 #전역변수\\ndef fun1():\\n    print(global_var)\\nfun1()',\n",
       " 'global_var': 100,\n",
       " 'fun1': <function __main__.fun1()>,\n",
       " '_i6': 'def fun2():\\n    local_var = 200\\n    print(local_var)\\nfun2()',\n",
       " 'fun2': <function __main__.fun2()>,\n",
       " '_i7': 'local_var',\n",
       " '_i8': 'global_var',\n",
       " '_8': 100,\n",
       " '_i9': 'def fun2():\\n    local_var = 200#지역변수\\n    print(local_var)\\nfun2()',\n",
       " '_i10': \"g_var = 100\\ndef fun3():\\n    print('before', g_var)\\n    g_var = 200\\n    print('after', g_var)\",\n",
       " 'g_var': 200,\n",
       " 'fun3': <function __main__.fun3()>,\n",
       " '_i11': \"g_var = 100\\ndef fun3():\\n    print('before', g_var)\\n    g_var = 200\\n    print('after', g_var)\\nfun3()\",\n",
       " '_i12': \"g_var = 100\\ndef fun3():\\n    print('before', g_var)\\n    g_var = 200\\n    print('after', g_var)\\n#fun3() error\",\n",
       " '_i13': \"g_var = 100\\ndef fun3():\\n    global g_var #변수는 전역변수를 쓸 예정\\n    print('before', g_var)\\n    g_var = 200 \\n    print('after', g_var)\\nfun3()\",\n",
       " '_i14': 'global_var = 100\\ndef fn1():\\n    global_var = 200\\n    print(global_var)\\nglobal_var\\nfn1()\\nglobal_var',\n",
       " 'fn1': <function __main__.fn1(foo)>,\n",
       " '_14': 100,\n",
       " '_i15': 'global_var = 100\\ndef fn1():\\n    global_var = 200\\n    print(global_var)\\nprint(global_var)\\nfn1()\\nprint(global_var)',\n",
       " '_i16': \"foo = 'a'#전역변수\\nid(foo)\",\n",
       " 'foo': 'a',\n",
       " '_16': 1833919397552,\n",
       " '_i17': \"def fn1(foo):\\n    print('before: ', foo, '의 주소: id(foo)')\\n    foo = foo *3\\n    print('after: ', foo, '의 주소: id(foo)')\\nfn1()\",\n",
       " '_i18': \"def fn1(foo):\\n    print('before: ', foo, '의 주소: id(foo)')\\n    foo = foo *3\\n    print('after: ', foo, '의 주소: id(foo)')\\nfn1(foo)\",\n",
       " '_i19': \"def fn1(foo):\\n    print('before: ', foo, '의 주소:', id(foo))\\n    foo = foo *3\\n    print('after: ', foo, '의 주소:', id(foo))\\nfn1(foo)\",\n",
       " '_i20': 'print(foo, id(foo))',\n",
       " '_i21': 'list = [1,2,3,4,5]\\nid(list)',\n",
       " '_21': 1831852986240,\n",
       " '_i22': \"def fn2(L):\\n    print('before: ', L, '의 주소:', id(L))\\n    L.append(6)\\n    print('after: ', L, '의 주소:', id(L))\\nfn2(L)\\nprint(L, id(L))\",\n",
       " 'fn2': <function __main__.fn2(arg=5)>,\n",
       " '_i23': \"def fn2(foo):\\n    print('before: ', foo, '의 주소:', id(foo))\\n    foo.append(6)\\n    print('after: ', foo, '의 주소:', id(foo))\\nfn2(L)\",\n",
       " '_i24': 'L = [1,2,3,4,5]\\nid(L)',\n",
       " 'L': [0, 1, 1, 2, 3, 5, 8, 13, 21, 34, 55, 89],\n",
       " '_24': 1831852827968,\n",
       " '_i25': \"def fn2(foo):#지역 변수\\n    print('before: ', foo, '의 주소:', id(foo))\\n    foo.append(6)\\n    print('after: ', foo, '의 주소:', id(foo))\\nfn2(L)\",\n",
       " '_i26': \"def fn2(foo):#지역 변수\\n    print('before: ', foo, '의 주소:', id(foo))\\n    foo.append(6)\\n    print('after: ', foo, '의 주소:', id(foo))\\nfn2(L)\\nprint(foo, id(foo))\",\n",
       " '_i27': \"def fn2(foo):#지역 변수\\n    print('before: ', foo, '의 주소:', id(foo))\\n    foo.append(6)\\n    print('after: ', foo, '의 주소:', id(foo))\\nfn2(L)\\nprint(L, id(L))\",\n",
       " '_i28': \"def fn2(foo):#지역 변수\\n    print('before: ', foo, '의 주소:', id(foo))\\n    foo.append(6)\\n    print('after: ', foo, '의 주소:', id(foo))\\nfn2(L)\\nprint(L, id(L))#참조에 의한 호출 > 주소가 바뀌지 않음\",\n",
       " '_i29': 'def fibonacci(n):\\n    \"\"\"\\n    매개변수로 들어온 n값 미만까지 피보나치 수열을 출력합니다.\\n    \"\"\"\\n    a, b = 0,1\\n    while a < n:\\n        print(a, end=\" \")\\n        a,b = b, a+b',\n",
       " '_i30': 'type(fibonacci)',\n",
       " '_30': function,\n",
       " '_i31': 'fib = fibonacci',\n",
       " 'fib': <function __main__.fibonacci(n)>,\n",
       " '_i32': 'fib(89)',\n",
       " '_i33': 'def fibonacci(n):\\n    \"\"\"\\n    매개변수로 들어온 n값 미만까지 피보나치 수열을 출력합니다.\\n    \"\"\"\\n    a, b = 0,1\\n    while a < n:\\n        print(a, end=\" \")\\n        a,b = b, a+b\\ndef fibonacci(n):\\n    \"n값 미만 피보나치 수열 return\"\\n    a,b = 0,1\\n    result = []\\n    while a < n:\\n        result.append(a)\\n        a,b = b, a+b\\n    return result\\nfibonacci(10)',\n",
       " '_33': [0, 1, 1, 2, 3, 5, 8],\n",
       " '_i34': 'L = fibonacci(100)\\nprint(L)',\n",
       " '_i35': 'fibonacci_print(10)\\nL = fibonacci(100)\\nprint(L)',\n",
       " '_i36': 'L = fibonacci(100)\\nprint(L)',\n",
       " '_i37': 'def swap(a,b):\\n    return b,a\\nx,y = swap(x,y)\\nprint(x,y)',\n",
       " 'swap': <function __main__.swap(a, b)>,\n",
       " '_i38': 'def swap(a,b):\\n    return b,a\\nx,y = 1,2\\nx,y = swap(x,y)\\nprint(x,y)',\n",
       " 'x': 2,\n",
       " 'y': 1,\n",
       " '_i39': 'def swap(a,b):\\n    return b,a\\nx,y = 1,2\\nprint(x,y)\\nx,y = swap(x,y)\\nprint(x,y)',\n",
       " '_i40': 'a = swap(x,y)\\ntype(a)',\n",
       " 'a': (1, 2),\n",
       " '_40': tuple,\n",
       " '_i41': 'a = swap(x,y)\\ntype(a)\\nprint(a)',\n",
       " '_i42': 'a = swap(x,y)\\nprint(type(a))\\nprint(a)',\n",
       " '_i43': 'def make_url(ip, port=80):\\n    return \"http://{}:{}\".format(ip,port)\\nmake_url(\"localhost\")',\n",
       " 'make_url': <function __main__.make_url(ip, port=80)>,\n",
       " '_43': 'http://localhost:80',\n",
       " '_i44': \"i=5\\ndef fn2(arg=i):\\n    print('arg = ',arg)\",\n",
       " 'i': 6,\n",
       " '_i45': 'i=6\\nfn2()',\n",
       " '_i46': '#기본 변수가 리스트, 셋, 딕셔너리 또는 객체일 때 함수를 호출 후 다시 전달\\nlist_ = []\\ndef fn3(a, L=list_):\\n    L.append(a)\\n    return L\\nprint(fn3(1))',\n",
       " 'list_': [1, 2, 2, 2, 2, 2, 2, 4, 4, 4, 4, 4, 4, 4],\n",
       " 'fn3': <function __main__.fn3(a, L=[1, 2, 2, 2, 2, 2, 2, 4, 4, 4, 4, 4, 4, 4])>,\n",
       " '_i47': 'print(fn3(2))',\n",
       " '_i48': 'print(fn3(2))',\n",
       " '_i49': 'print(fn3(2))',\n",
       " '_i50': 'print(fn3(2))',\n",
       " '_i51': 'print(fn3(2))',\n",
       " '_i52': 'print(fn3(2))',\n",
       " '_i53': 'def func(a, L=[]):\\n    L.append(a)\\n    return L\\nprint(func(a))',\n",
       " 'func': <function __main__.func(a, L=[1])>,\n",
       " '_i54': 'def func(a, L=[]):\\n    L.append(a)\\n    return L\\nprint(func(1)',\n",
       " '_i55': 'def func(a, L=[]):\\n    L.append(a)\\n    return L\\nprint(func(1))',\n",
       " '_i56': 'def fn4(a, L=None):\\n    if L is None:\\n        L = []\\n    L.append(a)\\n    return L\\nfn4(10)\\n        ',\n",
       " 'fn4': <function __main__.fn4(a, L=None)>,\n",
       " '_56': [10],\n",
       " '_i57': 'fn4(20)',\n",
       " '_57': [20],\n",
       " '_i58': 'fn4(4,list_)',\n",
       " '_58': [1, 2, 2, 2, 2, 2, 2, 4, 4, 4, 4, 4, 4, 4],\n",
       " '_i59': 'fn4(4,list_)',\n",
       " '_59': [1, 2, 2, 2, 2, 2, 2, 4, 4, 4, 4, 4, 4, 4],\n",
       " '_i60': 'fn4(4,list_)',\n",
       " '_60': [1, 2, 2, 2, 2, 2, 2, 4, 4, 4, 4, 4, 4, 4],\n",
       " '_i61': 'fn4(4,list_)',\n",
       " '_61': [1, 2, 2, 2, 2, 2, 2, 4, 4, 4, 4, 4, 4, 4],\n",
       " '_i62': 'fn4(4,list_)',\n",
       " '_62': [1, 2, 2, 2, 2, 2, 2, 4, 4, 4, 4, 4, 4, 4],\n",
       " '_i63': 'fn4(4,list_)',\n",
       " '_63': [1, 2, 2, 2, 2, 2, 2, 4, 4, 4, 4, 4, 4, 4],\n",
       " '_i64': 'fn4(4,list_)',\n",
       " '_64': [1, 2, 2, 2, 2, 2, 2, 4, 4, 4, 4, 4, 4, 4],\n",
       " '_i65': 'def add(a,b):\\n    return a+b\\nprint(add(1,2))',\n",
       " '_i66': 'def add(a,b,c):\\n    return a+b+c\\nprint(add(1,2,3))',\n",
       " '_i67': 'add(2,3)',\n",
       " '_i68': '#*args: args가 tuple로 전달\\ndef add(*args):\\n    sum = 0\\n    for i in args:\\n        sum += i\\nadd(1,2,3,4,5,6,7,8,9)',\n",
       " '_i69': '#*args: args가 tuple로 전달\\ndef add(*args):\\n    sum = 0\\n    for i in args:\\n        sum += i\\n    return sum\\nadd(1,2,3,4,5,6,7,8,9)',\n",
       " '_69': 45,\n",
       " '_i70': 'def concat(*args, sep):\\n    return sep.join(args)\\nconcat(a,b,c,d,e,f,sep=\"-\")',\n",
       " 'concat': <function __main__.concat(*args, sep='-')>,\n",
       " '_i71': 'def concat(*args, sep):\\n    return sep.join(args)\\nconcat(1,2,3,4,5,6,7,8,9,sep=\"-\")',\n",
       " '_i72': 'def concat(*args, sep):\\n    return sep.join(args)',\n",
       " '_i73': 'def concat(*args, sep):\\n    return sep.join(args)\\nconcat(1,2,3,4,5,6,7,8,9,sep=\"-\")',\n",
       " '_i74': 'def concat(*args, sep):\\n    return sep.join(args)\\nconcat(\"Hello\", \"World\", sep=\"_\")',\n",
       " '_74': 'Hello_World',\n",
       " '_i75': 'def concat(sep,*args):\\n    return sep.join(args)\\nconcat(\"-\",\"Hello\", \"World\")',\n",
       " '_75': 'Hello-World',\n",
       " '_i76': 'def concat(*args, sep=\"-\"):#순서인수 > 튜플인수> 키워드 인수\\n    return sep.join(args)\\nconcat(\"Hello\", \"World\")',\n",
       " '_76': 'Hello-World',\n",
       " '_i77': 'def fn5(**args):#**args: 딕셔너리로 전달\\n    for item in args.items():\\n        print(item)\\nfn5(name=\"hong\", age=\"23\", gender=\"male\")\\n    ',\n",
       " 'fn5': <function __main__.fn5(**data)>,\n",
       " '_i78': 'def fn5(**args):#**args: 딕셔너리로 전달\\n    for item in args.items():\\n        print(item)\\nfn5(name=\"hong\", age=\"23\", gender=\"male\")    ',\n",
       " '_i79': 'def(a, *b, **b):#순서인수, 튜플인수, 딕셔너리인수\\n    print(a)\\n    print(b)\\n    print(c)',\n",
       " '_i80': 'def(a, *b, **c):#순서인수, 튜플인수, 딕셔너리인수\\n    print(a)\\n    print(b)\\n    print(c)',\n",
       " '_i81': 'def fn6(a, *b, **c):#순서인수, 튜플인수, 딕셔너리인수\\n    print(a)\\n    print(b)\\n    print(c)',\n",
       " 'fn6': <function __main__.fn6(a, b, c, *d, e=10, **f)>,\n",
       " '_i82': \"fn6(10,1,2,3,4,5,name='hong', age=23)\",\n",
       " '_i83': 'def fn6(a, b, c,*d,e=10, **f):\\n    print(a)\\n    print(b)\\n    print(c)\\n    print(c)\\n    print(c)',\n",
       " '_i84': 'def fn6(a, b, c,*d,e=10, **f):\\n    print(a)\\n    print(b)\\n    print(c)\\n    print(d)\\n    print(e)\\n    print(f)',\n",
       " '_i85': \"fn6(10,20,30,1,2,3,4,5,6,e=30,name='kim', age=54)\",\n",
       " '_i86': 'def add(*args):\\n    sum=0\\n    for num in args:\\n        sum += num\\n    return sum\\nadd(1,2,3,4)',\n",
       " '_86': 10,\n",
       " '_i87': 'numbers = (1,2,3,4)\\nadd(numbers)',\n",
       " 'numbers': (1, 2, 3, 4),\n",
       " '_i88': 'numbers = (1,2,3,4)\\nadd(*numbers) #튜플 언패킹',\n",
       " '_88': 10,\n",
       " '_i89': 'def range2(*args):\\n    print([{}:{}:{}].format(args[0],args[1],args[2]))',\n",
       " '_i90': 'def range2(*args):\\n    print([\"{}:{}:{}\"].format(args[0],args[1],args[2]))',\n",
       " 'range2': <function __main__.range2(*args)>,\n",
       " '_i91': 'range2(0,10,2)',\n",
       " '_i92': \"def range2(*args):\\n    length = len(args)\\n    result=[]\\n    if length==0:\\n        raise Exception('error')\\n    elif length==1:\\n        for i in range(args[0]):\\n            result.append(i)\\n    elif length==2:\\n        for i in range(args[0], args[1]):\\n            result.append(i)\\n    elif length==3\\n        for i in range(args[0], args[1], args[2]):\\n            result.append(i)\\n    else:\\n        print('too much')\\n    return result\",\n",
       " '_i93': \"def range2(*args):\\n    length = len(args)\\n    result=[]\\n    if length==0:\\n        raise Exception('error')\\n    elif length==1:\\n        for i in range(args[0]):\\n            result.append(i)\\n    elif length==2:\\n        for i in range(args[0], args[1]):\\n            result.append(i)\\n    elif length==3:\\n        for i in range(args[0], args[1], args[2]):\\n            result.append(i)\\n    else:\\n        print('too much')\\n    return result\",\n",
       " '_i94': 'range2(10)',\n",
       " '_94': [0, 1, 2, 3, 4, 5, 6, 7, 8, 9],\n",
       " '_i95': 'range2(5,10)',\n",
       " '_95': [5, 6, 7, 8, 9],\n",
       " '_i96': 'range2(3,10,2)',\n",
       " '_96': [3, 5, 7, 9],\n",
       " '_i97': \"def fn5(**data):\\n    for item in data.items():\\n        print(item)\\nfn5(name='hong', age=30)\",\n",
       " '_i98': \"customer = {'name':'hong', 'age':30, 'address':'seoul'}\\nfn5(customer)\",\n",
       " 'customer': {'name': 'hong', 'age': 30, 'address': 'seoul'},\n",
       " '_i99': \"customer = {'name':'hong', 'age':30, 'address':'seoul'}\\nfn5(**customer)\",\n",
       " '_i100': 'l = [1,2,3]\\n[x**3 for x in l]',\n",
       " 'l': [1, 2, 3],\n",
       " '_100': [1, 8, 27],\n",
       " '_i101': 'def add(a,b):\\n    return a+b\\nadd(5,6)',\n",
       " '_101': 11,\n",
       " '_i102': 'add2 = lambda a,b:a+b\\nadd2(2,3)',\n",
       " 'add2': <function __main__.<lambda>(a, b)>,\n",
       " '_102': 5,\n",
       " '_i103': 'def map_template(fn, L=[]):\\n    result=[]',\n",
       " 'map_template': <function __main__.map_template(fn, L=[])>,\n",
       " '_i104': 'list_data = [1,2,3,4,5]\\ndef x_2(x):\\n    return x*2\\nmap_template(x_2, list_data)',\n",
       " 'list_data': [1, 2, 3, 4, 5, 6, 7, 8, 9, 10],\n",
       " 'x_2': <function __main__.x_2(x)>,\n",
       " '_i105': 'def map_template(fn, L=[]):\\n    result=[]\\n    for i in L:\\n        result.append(fn(i))\\n    return result',\n",
       " '_i106': 'list_data = [1,2,3,4,5]\\ndef x_2(x):\\n    return x*2\\nmap_template(x_2, list_data)',\n",
       " '_106': [2, 4, 6, 8, 10],\n",
       " '_i107': '#람다식 이용\\nmap_template(lambda x;x*2, list_data)',\n",
       " '_i108': '#람다식 이용\\nmap_template(lambda x:x*2, list_data)',\n",
       " '_108': [2, 4, 6, 8, 10],\n",
       " '_i109': '#map()\\nlist(map((lambda x:x*2, list_data)))',\n",
       " '_i110': '#map()\\nlist(map(lambda x:x*2, list_data))',\n",
       " '_i111': '#list comprehension\\n[x*2 for x in list_data]',\n",
       " '_111': [2, 4, 6, 8, 10],\n",
       " '_i112': 'def filter_template(fn, L=[]):\\n    result=[]\\n    for i in L:\\n        if fn(i):\\n            result.append(i)\\n    return result\\nfilter_template(lambda x:x%2==0, list_data)',\n",
       " 'filter_template': <function __main__.filter_template(fn, L=[])>,\n",
       " '_112': [2, 4],\n",
       " '_i113': 'list_data = [1,2,3,4,5,6,7,8,9,10]\\ndef filter_template(fn, L=[]):\\n    result=[]\\n    for i in L:\\n        if fn(i):\\n            result.append(i)\\n    return result\\nfilter_template(lambda x:x%2==0, list_data)',\n",
       " '_113': [2, 4, 6, 8, 10],\n",
       " '_i114': '#map()\\nmap(lambda x:x*2, list_data)',\n",
       " '_114': <map at 0x1aa83ada250>,\n",
       " '_i115': '#map()\\nlist(map(lambda x:x*2, list_data))',\n",
       " '_i116': '#filter()\\nfilter(lambda x:x%2==0, list_data)',\n",
       " '_116': <filter at 0x1aa83ada370>,\n",
       " '_i117': '#filter()\\nlist(filter(lambda x:x%2==0, list_data))',\n",
       " '_i118': '#filter()\\ndel list\\nlist(filter(lambda x:x%2==0, list_data))',\n",
       " '_118': [2, 4, 6, 8, 10],\n",
       " '_i119': '#filter()\\nlist(filter(lambda x:x%2==0, list_data))',\n",
       " '_119': [2, 4, 6, 8, 10],\n",
       " '_i120': '#map()\\nlist(map(lambda x:x*2, list_data))',\n",
       " '_120': [2, 4, 6, 8, 10, 12, 14, 16, 18, 20],\n",
       " '_i121': '#list comprehension\\n[x for x in list_data if x%2==0]',\n",
       " '_121': [2, 4, 6, 8, 10],\n",
       " '_i122': \"pair = [(1,'one'), (3.'three'), (2,'two'), (4.'four')]\\npair.sort()\",\n",
       " '_i123': \"pair = [(1,'one'), (3,'three'), (2,'two'), (4'four')]\\npair.sort()\",\n",
       " '_i124': \"pair = [(1,'one'), (3,'three'), (2,'two'), (4,'four')]\\npair.sort()\",\n",
       " 'pair': [(4, 'four'), (1, 'one'), (3, 'three'), (2, 'two')],\n",
       " '_i125': \"pair = [(1,'one'), (3,'three'), (2,'two'), (4,'four')]\\npair.sort()\",\n",
       " '_i126': \"pair = [(1,'one'), (3,'three'), (2,'two'), (4,'four')]\\npair.sort()\\npair\",\n",
       " '_126': [(1, 'one'), (2, 'two'), (3, 'three'), (4, 'four')],\n",
       " '_i127': \"pair = [(1,'one'), (3,'three'), (2,'two'), (4,'four')]\\npair.sort()\\npair\",\n",
       " '_127': [(1, 'one'), (2, 'two'), (3, 'three'), (4, 'four')],\n",
       " '_i128': \"pair = [(1,'one'), (3,'three'), (2,'two'), (4,'four')]\\npair.sort()\\npair\",\n",
       " '_128': [(4, 'four'), (1, 'one'), (3, 'three'), (2, 'two')],\n",
       " '_i129': 'pair.sort(key=lambda pair:pair[1])',\n",
       " '_i130': 'pair.sort(key=lambda pair:pair[1])',\n",
       " '_i131': '(lambda pair:pair[1])([1,2,3,4,86,7,47354,])',\n",
       " '_131': 2,\n",
       " '_i132': 'def apply(data, func=None):\\n    if func == None:\\n        return data\\n    else:\\n        return func(data)\\napply(100,lambda x:x**3)',\n",
       " 'apply': <function __main__.apply(data, func=None)>,\n",
       " '_132': 1000000,\n",
       " '_i133': 'def make_box(shape):\\n    def box(init_value):\\n        if len(shape)==1:\\n            return [init_value]*shape[0]\\n        elif len(shape)==2:\\n            return [[init_value]*shape[1]]*shape[0]\\n    return box',\n",
       " 'make_box': <function __main__.make_box(shape)>,\n",
       " '_i134': 'make_box(1)',\n",
       " '_134': <function __main__.make_box.<locals>.box(init_value)>,\n",
       " '_i135': 'box = make_box([5,])',\n",
       " 'box': <function __main__.make_box.<locals>.box(init_value)>,\n",
       " '_i136': 'box1 = make_box([5,])',\n",
       " 'box1': <function __main__.make_boxL.<locals>.<lambda>(x)>,\n",
       " '_i137': 'box1 = make_box([5,])\\nbox1(10)',\n",
       " '_137': [10, 10, 10, 10, 10],\n",
       " '_i138': 'box2 = make_box([5,4])\\nbox2(10)',\n",
       " 'box2': <function __main__.make_boxL.<locals>.<lambda>(x)>,\n",
       " '_138': [[10, 10, 10, 10],\n",
       "  [10, 10, 10, 10],\n",
       "  [10, 10, 10, 10],\n",
       "  [10, 10, 10, 10],\n",
       "  [10, 10, 10, 10]],\n",
       " '_i139': 'def make_boxL(shape):\\n    if len(shape) == 1:\\n        return lambda x:[x]*shape[0]\\n    elif len(shape)==2:\\n        return lambda x:[[x]*shape[1]]*shape[0]',\n",
       " 'make_boxL': <function __main__.make_boxL(shape)>,\n",
       " '_i140': 'box1 = make_boxL([5,])\\nbox1(10)',\n",
       " '_140': [10, 10, 10, 10, 10],\n",
       " '_i141': 'box2 = make_boxL([5,4])\\nbox2(10)',\n",
       " '_141': [[10, 10, 10, 10],\n",
       "  [10, 10, 10, 10],\n",
       "  [10, 10, 10, 10],\n",
       "  [10, 10, 10, 10],\n",
       "  [10, 10, 10, 10]],\n",
       " '_i142': 'box2 = make_boxL([5,4])\\nbox2(10,2)',\n",
       " '_i143': 'box2 = make_boxL([5,4])\\nbox2(10)',\n",
       " '_143': [[10, 10, 10, 10],\n",
       "  [10, 10, 10, 10],\n",
       "  [10, 10, 10, 10],\n",
       "  [10, 10, 10, 10],\n",
       "  [10, 10, 10, 10]],\n",
       " '_i144': 'globals()'}"
      ]
     },
     "execution_count": 144,
     "metadata": {},
     "output_type": "execute_result"
    }
   ],
   "source": [
    "globals()"
   ]
  },
  {
   "cell_type": "code",
   "execution_count": 145,
   "metadata": {
    "ExecuteTime": {
     "end_time": "2021-02-24T07:19:00.922505Z",
     "start_time": "2021-02-24T07:19:00.915504Z"
    }
   },
   "outputs": [
    {
     "name": "stdout",
     "output_type": "stream",
     "text": [
      "{'n': 5, 'L': [0, 1, 2, 3, 4], 'i': 4}\n"
     ]
    },
    {
     "data": {
      "text/plain": [
       "[0, 1, 2, 3, 4]"
      ]
     },
     "execution_count": 145,
     "metadata": {},
     "output_type": "execute_result"
    }
   ],
   "source": [
    "def abc(n):\n",
    "    L=[]\n",
    "    for i in range(n):\n",
    "        L.append(i)\n",
    "    print(locals())\n",
    "    return L\n",
    "abc(5)"
   ]
  },
  {
   "cell_type": "code",
   "execution_count": 146,
   "metadata": {
    "ExecuteTime": {
     "end_time": "2021-02-24T07:19:52.735797Z",
     "start_time": "2021-02-24T07:19:52.730810Z"
    }
   },
   "outputs": [
    {
     "data": {
      "text/plain": [
       "True"
      ]
     },
     "execution_count": 146,
     "metadata": {},
     "output_type": "execute_result"
    }
   ],
   "source": [
    "isinstance(1.5, float)"
   ]
  },
  {
   "cell_type": "code",
   "execution_count": 147,
   "metadata": {
    "ExecuteTime": {
     "end_time": "2021-02-24T07:26:01.935092Z",
     "start_time": "2021-02-24T07:26:01.931102Z"
    }
   },
   "outputs": [
    {
     "data": {
      "text/plain": [
       "[(0, 10), (1, 20), (2, 30)]"
      ]
     },
     "execution_count": 147,
     "metadata": {},
     "output_type": "execute_result"
    }
   ],
   "source": [
    "list(enumerate([10,20,30]))"
   ]
  },
  {
   "cell_type": "code",
   "execution_count": 148,
   "metadata": {
    "ExecuteTime": {
     "end_time": "2021-02-24T07:26:18.207809Z",
     "start_time": "2021-02-24T07:26:18.202845Z"
    }
   },
   "outputs": [
    {
     "data": {
      "text/plain": [
       "False"
      ]
     },
     "execution_count": 148,
     "metadata": {},
     "output_type": "execute_result"
    }
   ],
   "source": [
    "all([0,1,2,3])"
   ]
  },
  {
   "cell_type": "code",
   "execution_count": 149,
   "metadata": {
    "ExecuteTime": {
     "end_time": "2021-02-24T07:26:24.680024Z",
     "start_time": "2021-02-24T07:26:24.675065Z"
    }
   },
   "outputs": [
    {
     "data": {
      "text/plain": [
       "True"
      ]
     },
     "execution_count": 149,
     "metadata": {},
     "output_type": "execute_result"
    }
   ],
   "source": [
    "any([0,1,2,3])"
   ]
  },
  {
   "cell_type": "code",
   "execution_count": 150,
   "metadata": {
    "ExecuteTime": {
     "end_time": "2021-02-24T07:26:43.863047Z",
     "start_time": "2021-02-24T07:26:43.858060Z"
    }
   },
   "outputs": [
    {
     "data": {
      "text/plain": [
       "(4, 3.7)"
      ]
     },
     "execution_count": 150,
     "metadata": {},
     "output_type": "execute_result"
    }
   ],
   "source": [
    "round(3.69), round(3.69,1)"
   ]
  },
  {
   "cell_type": "markdown",
   "metadata": {},
   "source": [
    "## Practice"
   ]
  },
  {
   "cell_type": "code",
   "execution_count": 151,
   "metadata": {
    "ExecuteTime": {
     "end_time": "2021-02-24T07:51:38.338542Z",
     "start_time": "2021-02-24T07:51:38.332558Z"
    }
   },
   "outputs": [
    {
     "data": {
      "text/plain": [
       "[1, 6]"
      ]
     },
     "execution_count": 151,
     "metadata": {},
     "output_type": "execute_result"
    }
   ],
   "source": [
    "#1\n",
    "def get_max_min(L):\n",
    "    result=[]\n",
    "    result.append(min(L))\n",
    "    result.append(max(L))\n",
    "    return result\n",
    "get_max_min([1,2,3,4,5,6])"
   ]
  },
  {
   "cell_type": "code",
   "execution_count": 152,
   "metadata": {
    "ExecuteTime": {
     "end_time": "2021-02-24T07:55:01.542303Z",
     "start_time": "2021-02-24T07:55:01.537344Z"
    }
   },
   "outputs": [
    {
     "name": "stdout",
     "output_type": "stream",
     "text": [
      "마른 체형\n"
     ]
    }
   ],
   "source": [
    "#2.\n",
    "def state(h,w):\n",
    "    bmi = w/h**2\n",
    "    if bmi<18.5:\n",
    "        print('마른 체형')\n",
    "    elif 18.5<=bmi<25.0:\n",
    "        print('표준 체형')\n",
    "    elif 25.0<=bmi<30.0:\n",
    "        print('비만 체형')\n",
    "    elif bmi>=30.0:\n",
    "        print('고도 비만 체형')\n",
    "state(175,64)"
   ]
  },
  {
   "cell_type": "code",
   "execution_count": 158,
   "metadata": {
    "ExecuteTime": {
     "end_time": "2021-02-24T08:00:09.742841Z",
     "start_time": "2021-02-24T08:00:09.736882Z"
    }
   },
   "outputs": [
    {
     "data": {
      "text/plain": [
       "[13.8309518948453, 7.5]"
      ]
     },
     "execution_count": 158,
     "metadata": {},
     "output_type": "execute_result"
    }
   ],
   "source": [
    "#3.\n",
    "import math\n",
    "def get_triangle(width, height):\n",
    "    result=[]\n",
    "    result.append(width+height+math.sqrt(width**2+height**2))\n",
    "    result.append(width*height*0.5)\n",
    "    return result\n",
    "get_triangle(3,5)"
   ]
  },
  {
   "cell_type": "code",
   "execution_count": 211,
   "metadata": {
    "ExecuteTime": {
     "end_time": "2021-02-24T08:54:50.626360Z",
     "start_time": "2021-02-24T08:54:50.621398Z"
    }
   },
   "outputs": [
    {
     "data": {
      "text/plain": [
       "15"
      ]
     },
     "execution_count": 211,
     "metadata": {},
     "output_type": "execute_result"
    }
   ],
   "source": [
    "#4.\n",
    "def mysum(start,end):\n",
    "    result=0\n",
    "    for i in range(start, end+1):\n",
    "       result += i\n",
    "    return result\n",
    "mysum(0,5)"
   ]
  },
  {
   "cell_type": "code",
   "execution_count": 162,
   "metadata": {
    "ExecuteTime": {
     "end_time": "2021-02-24T08:06:23.790404Z",
     "start_time": "2021-02-24T08:06:23.784420Z"
    }
   },
   "outputs": [
    {
     "data": {
      "text/plain": [
       "['Seo', 'Dae', 'Kwa', 'Jej']"
      ]
     },
     "execution_count": 162,
     "metadata": {},
     "output_type": "execute_result"
    }
   ],
   "source": [
    "#5.\n",
    "def get_abbrs(L):\n",
    "    result=[]\n",
    "    for i in L:\n",
    "        result.append(i[:3])\n",
    "    return result\n",
    "get_abbrs(['Seoul','Daegu', 'Kwangju', 'Jeju'])\n",
    "#return [x[:3] for x in L]"
   ]
  },
  {
   "cell_type": "code",
   "execution_count": 163,
   "metadata": {
    "ExecuteTime": {
     "end_time": "2021-02-24T08:07:43.844543Z",
     "start_time": "2021-02-24T08:07:43.839556Z"
    }
   },
   "outputs": [
    {
     "data": {
      "text/plain": [
       "<function __main__.<lambda>(x, y)>"
      ]
     },
     "execution_count": 163,
     "metadata": {},
     "output_type": "execute_result"
    }
   ],
   "source": [
    "#6.\n",
    "lambda x,y:x**y"
   ]
  },
  {
   "cell_type": "code",
   "execution_count": 164,
   "metadata": {
    "ExecuteTime": {
     "end_time": "2021-02-24T08:08:53.366447Z",
     "start_time": "2021-02-24T08:08:53.360482Z"
    }
   },
   "outputs": [
    {
     "data": {
      "text/plain": [
       "[1, 4, 9, 16, 25]"
      ]
     },
     "execution_count": 164,
     "metadata": {},
     "output_type": "execute_result"
    }
   ],
   "source": [
    "#7.\n",
    "list_data = [1,2,3,4,5]\n",
    "#map()\n",
    "list(map(lambda x:x**2, list_data))\n",
    "#list comprehension\n",
    "[x**2 for x in list_data]"
   ]
  },
  {
   "cell_type": "code",
   "execution_count": 165,
   "metadata": {
    "ExecuteTime": {
     "end_time": "2021-02-24T08:09:38.484277Z",
     "start_time": "2021-02-24T08:09:38.480313Z"
    }
   },
   "outputs": [
    {
     "name": "stdout",
     "output_type": "stream",
     "text": [
      "1 2 3\n",
      "[1, 2, 3]\n"
     ]
    }
   ],
   "source": [
    "#8.\n",
    "a = [1,2,3]\n",
    "print(*a) #리스트의 언패킹\n",
    "print(a)"
   ]
  },
  {
   "cell_type": "code",
   "execution_count": 166,
   "metadata": {
    "ExecuteTime": {
     "end_time": "2021-02-24T08:11:08.205003Z",
     "start_time": "2021-02-24T08:11:08.200045Z"
    }
   },
   "outputs": [
    {
     "data": {
      "text/plain": [
       "'2019-9-6'"
      ]
     },
     "execution_count": 166,
     "metadata": {},
     "output_type": "execute_result"
    }
   ],
   "source": [
    "#9.\n",
    "date_info = {'year':'2019','month':'9', 'day':'6'}\n",
    "result = \"{year}-{month}-{day}\".format(**date_info)\n",
    "result"
   ]
  },
  {
   "cell_type": "code",
   "execution_count": 6,
   "metadata": {
    "ExecuteTime": {
     "end_time": "2021-02-25T02:56:12.374839Z",
     "start_time": "2021-02-25T02:56:12.369851Z"
    }
   },
   "outputs": [
    {
     "data": {
      "text/plain": [
       "True"
      ]
     },
     "execution_count": 6,
     "metadata": {},
     "output_type": "execute_result"
    }
   ],
   "source": [
    "#10\n",
    "def vector_size_check(*vector_var):\n",
    "    return len(set([len(vector) for vector in vector_var])) == 1\n",
    "vector_size_check([1,2,3,4], (9,8,7,6))"
   ]
  },
  {
   "cell_type": "code",
   "execution_count": 7,
   "metadata": {
    "ExecuteTime": {
     "end_time": "2021-02-25T02:56:59.948837Z",
     "start_time": "2021-02-25T02:56:59.941880Z"
    }
   },
   "outputs": [
    {
     "data": {
      "text/plain": [
       "[5, 10, 15, 20]"
      ]
     },
     "execution_count": 7,
     "metadata": {},
     "output_type": "execute_result"
    }
   ],
   "source": [
    "#11.\n",
    "def scalar_vector_product(a, L=[]):\n",
    "    def x_a(x):\n",
    "        return x*a\n",
    "    result=[]\n",
    "    for i in L:\n",
    "        result.append(x_a(i))\n",
    "    return result\n",
    "scalar_vector_product(5, [1,2,3,4])\n",
    "\n",
    "def scalar_vector_product(a, L):\n",
    "    return [a*t for t in L]\n",
    "scalar_vector_product(5, [1,2,3,4])"
   ]
  },
  {
   "cell_type": "code",
   "execution_count": 187,
   "metadata": {
    "ExecuteTime": {
     "end_time": "2021-02-24T08:37:44.203419Z",
     "start_time": "2021-02-24T08:37:44.198458Z"
    }
   },
   "outputs": [
    {
     "name": "stdout",
     "output_type": "stream",
     "text": [
      "9 0 2 "
     ]
    }
   ],
   "source": [
    "#1.\n",
    "def mapping(addr): \n",
    "    table = [1,2,5,9,6,4,0,3,8,7] \n",
    "    return table [addr//SIZE] \n",
    "SIZE = 20 \n",
    "group = [9,8,7,6,5,4,3,2,1,0] \n",
    "loc = [127, 64, 188] \n",
    "for a, b in enumerate(loc): \n",
    "    print(group[mapping(loc[a])], end=' ')"
   ]
  },
  {
   "cell_type": "code",
   "execution_count": 9,
   "metadata": {
    "ExecuteTime": {
     "end_time": "2021-02-25T03:10:04.637207Z",
     "start_time": "2021-02-25T03:10:04.632223Z"
    }
   },
   "outputs": [
    {
     "name": "stdout",
     "output_type": "stream",
     "text": [
      "6 12 6 13 "
     ]
    }
   ],
   "source": [
    "#2.\n",
    "a=10\n",
    "def sub():\n",
    "    global a\n",
    "    a+=1\n",
    "    print(a,end=' ')\n",
    "\n",
    "def func():\n",
    "    for i in range(2):\n",
    "        a=5\n",
    "        a+=1\n",
    "        print(a,end=' ')\n",
    "        sub()\n",
    "a+=1\n",
    "func()"
   ]
  },
  {
   "cell_type": "code",
   "execution_count": 198,
   "metadata": {
    "ExecuteTime": {
     "end_time": "2021-02-24T08:46:01.482278Z",
     "start_time": "2021-02-24T08:46:01.478301Z"
    }
   },
   "outputs": [
    {
     "name": "stdout",
     "output_type": "stream",
     "text": [
      "100\n"
     ]
    }
   ],
   "source": [
    "#3.\n",
    "var = 100 \n",
    "def func(var): \n",
    "    var = 200#지역 변수\n",
    "func(var)\n",
    "print(var)"
   ]
  },
  {
   "cell_type": "code",
   "execution_count": 208,
   "metadata": {
    "ExecuteTime": {
     "end_time": "2021-02-24T08:53:34.509610Z",
     "start_time": "2021-02-24T08:53:34.504636Z"
    }
   },
   "outputs": [
    {
     "data": {
      "text/plain": [
       "5"
      ]
     },
     "execution_count": 208,
     "metadata": {},
     "output_type": "execute_result"
    }
   ],
   "source": [
    "#4.\n",
    "import numpy as np \n",
    "\n",
    "def my_func(func, *args): \n",
    "    return func(*args) \n",
    "my_func(np.add, 2, 3)"
   ]
  },
  {
   "cell_type": "code",
   "execution_count": 202,
   "metadata": {
    "ExecuteTime": {
     "end_time": "2021-02-24T08:48:33.988004Z",
     "start_time": "2021-02-24T08:48:33.982020Z"
    }
   },
   "outputs": [
    {
     "data": {
      "text/plain": [
       "9"
      ]
     },
     "execution_count": 202,
     "metadata": {},
     "output_type": "execute_result"
    }
   ],
   "source": [
    "#5.\n",
    "def my_func(func, *args): \n",
    "    return func(*args) \n",
    "my_func(lambda a, b : a**b, 3, 2)"
   ]
  },
  {
   "cell_type": "code",
   "execution_count": 203,
   "metadata": {
    "ExecuteTime": {
     "end_time": "2021-02-24T08:49:44.312816Z",
     "start_time": "2021-02-24T08:49:44.309849Z"
    }
   },
   "outputs": [],
   "source": [
    "#6.\n",
    "#1번"
   ]
  },
  {
   "cell_type": "code",
   "execution_count": 204,
   "metadata": {
    "ExecuteTime": {
     "end_time": "2021-02-24T08:50:21.176906Z",
     "start_time": "2021-02-24T08:50:21.173935Z"
    }
   },
   "outputs": [],
   "source": [
    "#7.\n",
    "#4번"
   ]
  },
  {
   "cell_type": "code",
   "execution_count": 205,
   "metadata": {
    "ExecuteTime": {
     "end_time": "2021-02-24T08:50:37.264956Z",
     "start_time": "2021-02-24T08:50:37.261991Z"
    }
   },
   "outputs": [],
   "source": [
    "#8.\n",
    "#lambda"
   ]
  },
  {
   "cell_type": "code",
   "execution_count": null,
   "metadata": {},
   "outputs": [],
   "source": [
    "#9.\n",
    "#2번"
   ]
  }
 ],
 "metadata": {
  "kernelspec": {
   "display_name": "Python 3",
   "language": "python",
   "name": "python3"
  },
  "language_info": {
   "codemirror_mode": {
    "name": "ipython",
    "version": 3
   },
   "file_extension": ".py",
   "mimetype": "text/x-python",
   "name": "python",
   "nbconvert_exporter": "python",
   "pygments_lexer": "ipython3",
   "version": "3.8.5"
  },
  "toc": {
   "base_numbering": 1,
   "nav_menu": {},
   "number_sections": true,
   "sideBar": false,
   "skip_h1_title": false,
   "title_cell": "Table of Contents",
   "title_sidebar": "Contents",
   "toc_cell": false,
   "toc_position": {
    "height": "757px",
    "left": "1634px",
    "top": "92px",
    "width": "262px"
   },
   "toc_section_display": true,
   "toc_window_display": false
  },
  "varInspector": {
   "cols": {
    "lenName": 16,
    "lenType": 16,
    "lenVar": 40
   },
   "kernels_config": {
    "python": {
     "delete_cmd_postfix": "",
     "delete_cmd_prefix": "del ",
     "library": "var_list.py",
     "varRefreshCmd": "print(var_dic_list())"
    },
    "r": {
     "delete_cmd_postfix": ") ",
     "delete_cmd_prefix": "rm(",
     "library": "var_list.r",
     "varRefreshCmd": "cat(var_dic_list()) "
    }
   },
   "types_to_exclude": [
    "module",
    "function",
    "builtin_function_or_method",
    "instance",
    "_Feature"
   ],
   "window_display": false
  }
 },
 "nbformat": 4,
 "nbformat_minor": 4
}
