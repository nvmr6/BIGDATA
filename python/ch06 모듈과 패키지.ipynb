{
 "cells": [
  {
   "cell_type": "markdown",
   "metadata": {},
   "source": [
    "# ch06 모듈과 패키지\n",
    "- 파이썬 모듈은 파이썬 정의와 문장을 담고 있는 파일(함수, 변수, 클래스 - *.py)\n",
    "- 200여개의 파이썬 모듈이 파이썬 인터프리터에 포함"
   ]
  },
  {
   "cell_type": "markdown",
   "metadata": {},
   "source": [
    "## import"
   ]
  },
  {
   "cell_type": "markdown",
   "metadata": {},
   "source": [
    "### import usage"
   ]
  },
  {
   "cell_type": "code",
   "execution_count": null,
   "metadata": {},
   "outputs": [],
   "source": [
    "#1. import module / package"
   ]
  },
  {
   "cell_type": "code",
   "execution_count": 2,
   "metadata": {
    "ExecuteTime": {
     "end_time": "2021-02-25T03:50:24.496573Z",
     "start_time": "2021-02-25T03:50:24.492584Z"
    }
   },
   "outputs": [
    {
     "data": {
      "text/plain": [
       "'Thu Feb 25 12:50:24 2021'"
      ]
     },
     "execution_count": 2,
     "metadata": {},
     "output_type": "execute_result"
    }
   ],
   "source": [
    "# import module / package 모듈 안의 함수 모두 사용\n",
    "import time #time 모듈 안의 함수, 변수, 클래스 사용 가능\n",
    "time.ctime()"
   ]
  },
  {
   "cell_type": "code",
   "execution_count": 3,
   "metadata": {
    "ExecuteTime": {
     "end_time": "2021-02-25T03:51:47.607244Z",
     "start_time": "2021-02-25T03:51:47.603255Z"
    }
   },
   "outputs": [],
   "source": [
    "del time #unload"
   ]
  },
  {
   "cell_type": "code",
   "execution_count": 4,
   "metadata": {
    "ExecuteTime": {
     "end_time": "2021-02-25T03:54:18.975547Z",
     "start_time": "2021-02-25T03:54:18.972553Z"
    }
   },
   "outputs": [],
   "source": [
    "#2. from module import function / from package import module"
   ]
  },
  {
   "cell_type": "code",
   "execution_count": 6,
   "metadata": {
    "ExecuteTime": {
     "end_time": "2021-02-25T03:55:58.089182Z",
     "start_time": "2021-02-25T03:55:58.084215Z"
    }
   },
   "outputs": [
    {
     "data": {
      "text/plain": [
       "'Thu Feb 25 12:55:58 2021'"
      ]
     },
     "execution_count": 6,
     "metadata": {},
     "output_type": "execute_result"
    }
   ],
   "source": [
    "from time import ctime\n",
    "ctime()"
   ]
  },
  {
   "cell_type": "code",
   "execution_count": 7,
   "metadata": {
    "ExecuteTime": {
     "end_time": "2021-02-25T03:56:17.646387Z",
     "start_time": "2021-02-25T03:56:17.643417Z"
    }
   },
   "outputs": [],
   "source": [
    "del ctime"
   ]
  },
  {
   "cell_type": "code",
   "execution_count": 8,
   "metadata": {
    "ExecuteTime": {
     "end_time": "2021-02-25T03:58:04.566967Z",
     "start_time": "2021-02-25T03:58:04.564001Z"
    }
   },
   "outputs": [],
   "source": [
    "#3. import module as nickname"
   ]
  },
  {
   "cell_type": "code",
   "execution_count": 9,
   "metadata": {
    "ExecuteTime": {
     "end_time": "2021-02-25T03:58:48.663565Z",
     "start_time": "2021-02-25T03:58:48.659591Z"
    }
   },
   "outputs": [
    {
     "data": {
      "text/plain": [
       "'Thu Feb 25 12:58:48 2021'"
      ]
     },
     "execution_count": 9,
     "metadata": {},
     "output_type": "execute_result"
    }
   ],
   "source": [
    "import time as t\n",
    "t.ctime()"
   ]
  },
  {
   "cell_type": "code",
   "execution_count": 11,
   "metadata": {
    "ExecuteTime": {
     "end_time": "2021-02-25T04:01:45.447526Z",
     "start_time": "2021-02-25T04:01:45.444533Z"
    }
   },
   "outputs": [],
   "source": [
    "#4. from module import function as nickname / from package import module as nickname"
   ]
  },
  {
   "cell_type": "code",
   "execution_count": 13,
   "metadata": {
    "ExecuteTime": {
     "end_time": "2021-02-25T04:02:16.639519Z",
     "start_time": "2021-02-25T04:02:16.635541Z"
    }
   },
   "outputs": [
    {
     "data": {
      "text/plain": [
       "'Thu Feb 25 13:02:16 2021'"
      ]
     },
     "execution_count": 13,
     "metadata": {},
     "output_type": "execute_result"
    }
   ],
   "source": [
    "from time import ctime as ct\n",
    "ct()"
   ]
  },
  {
   "cell_type": "code",
   "execution_count": 14,
   "metadata": {
    "ExecuteTime": {
     "end_time": "2021-02-25T04:04:54.095650Z",
     "start_time": "2021-02-25T04:04:54.091661Z"
    }
   },
   "outputs": [],
   "source": [
    "del ct"
   ]
  },
  {
   "cell_type": "code",
   "execution_count": 17,
   "metadata": {
    "ExecuteTime": {
     "end_time": "2021-02-25T04:05:28.031485Z",
     "start_time": "2021-02-25T04:05:28.027482Z"
    }
   },
   "outputs": [
    {
     "data": {
      "text/plain": [
       "['_STRUCT_TM_ITEMS',\n",
       " '__doc__',\n",
       " '__loader__',\n",
       " '__name__',\n",
       " '__package__',\n",
       " '__spec__',\n",
       " 'altzone',\n",
       " 'asctime',\n",
       " 'ctime',\n",
       " 'daylight',\n",
       " 'get_clock_info',\n",
       " 'gmtime',\n",
       " 'localtime',\n",
       " 'mktime',\n",
       " 'monotonic',\n",
       " 'monotonic_ns',\n",
       " 'perf_counter',\n",
       " 'perf_counter_ns',\n",
       " 'process_time',\n",
       " 'process_time_ns',\n",
       " 'sleep',\n",
       " 'strftime',\n",
       " 'strptime',\n",
       " 'struct_time',\n",
       " 'thread_time',\n",
       " 'thread_time_ns',\n",
       " 'time',\n",
       " 'time_ns',\n",
       " 'timezone',\n",
       " 'tzname']"
      ]
     },
     "execution_count": 17,
     "metadata": {},
     "output_type": "execute_result"
    }
   ],
   "source": [
    "import time\n",
    "dir(time) #변수, 함수, 클래스"
   ]
  },
  {
   "cell_type": "markdown",
   "metadata": {},
   "source": [
    "## 사용자 정의 모듈\n",
    "- 함수나 클래스 등을 파이썬 파일에 저장해서 모듈을 만들고 재사용할 수 있음\n",
    "- 모듈을 가져오는 순서\n",
    "- 1) 내장 모듈 2) sys.path 변수에 지정된 경로"
   ]
  },
  {
   "cell_type": "code",
   "execution_count": 18,
   "metadata": {
    "ExecuteTime": {
     "end_time": "2021-02-25T05:47:21.068110Z",
     "start_time": "2021-02-25T05:47:21.064116Z"
    },
    "scrolled": true
   },
   "outputs": [
    {
     "data": {
      "text/plain": [
       "['D:\\\\BIGDATA\\\\source\\\\8_python',\n",
       " 'C:\\\\Users\\\\tjoeun\\\\anaconda3\\\\python38.zip',\n",
       " 'C:\\\\Users\\\\tjoeun\\\\anaconda3\\\\DLLs',\n",
       " 'C:\\\\Users\\\\tjoeun\\\\anaconda3\\\\lib',\n",
       " 'C:\\\\Users\\\\tjoeun\\\\anaconda3',\n",
       " '',\n",
       " 'C:\\\\Users\\\\tjoeun\\\\anaconda3\\\\lib\\\\site-packages',\n",
       " 'C:\\\\Users\\\\tjoeun\\\\anaconda3\\\\lib\\\\site-packages\\\\win32',\n",
       " 'C:\\\\Users\\\\tjoeun\\\\anaconda3\\\\lib\\\\site-packages\\\\win32\\\\lib',\n",
       " 'C:\\\\Users\\\\tjoeun\\\\anaconda3\\\\lib\\\\site-packages\\\\Pythonwin',\n",
       " 'C:\\\\Users\\\\tjoeun\\\\anaconda3\\\\lib\\\\site-packages\\\\IPython\\\\extensions',\n",
       " 'C:\\\\Users\\\\tjoeun\\\\.ipython']"
      ]
     },
     "execution_count": 18,
     "metadata": {},
     "output_type": "execute_result"
    }
   ],
   "source": [
    "import sys\n",
    "sys.path"
   ]
  },
  {
   "cell_type": "code",
   "execution_count": 19,
   "metadata": {
    "ExecuteTime": {
     "end_time": "2021-02-25T05:48:40.057148Z",
     "start_time": "2021-02-25T05:48:40.053185Z"
    }
   },
   "outputs": [],
   "source": [
    "sys.path.append('D:\\\\BIGDATA\\\\source\\\\pylib')"
   ]
  },
  {
   "cell_type": "code",
   "execution_count": 20,
   "metadata": {
    "ExecuteTime": {
     "end_time": "2021-02-25T05:48:54.529231Z",
     "start_time": "2021-02-25T05:48:54.524236Z"
    }
   },
   "outputs": [
    {
     "data": {
      "text/plain": [
       "['D:\\\\BIGDATA\\\\source\\\\8_python',\n",
       " 'C:\\\\Users\\\\tjoeun\\\\anaconda3\\\\python38.zip',\n",
       " 'C:\\\\Users\\\\tjoeun\\\\anaconda3\\\\DLLs',\n",
       " 'C:\\\\Users\\\\tjoeun\\\\anaconda3\\\\lib',\n",
       " 'C:\\\\Users\\\\tjoeun\\\\anaconda3',\n",
       " '',\n",
       " 'C:\\\\Users\\\\tjoeun\\\\anaconda3\\\\lib\\\\site-packages',\n",
       " 'C:\\\\Users\\\\tjoeun\\\\anaconda3\\\\lib\\\\site-packages\\\\win32',\n",
       " 'C:\\\\Users\\\\tjoeun\\\\anaconda3\\\\lib\\\\site-packages\\\\win32\\\\lib',\n",
       " 'C:\\\\Users\\\\tjoeun\\\\anaconda3\\\\lib\\\\site-packages\\\\Pythonwin',\n",
       " 'C:\\\\Users\\\\tjoeun\\\\anaconda3\\\\lib\\\\site-packages\\\\IPython\\\\extensions',\n",
       " 'C:\\\\Users\\\\tjoeun\\\\.ipython',\n",
       " 'D:\\\\BIGDATA\\\\source\\\\pylib']"
      ]
     },
     "execution_count": 20,
     "metadata": {},
     "output_type": "execute_result"
    }
   ],
   "source": [
    "sys.path"
   ]
  },
  {
   "cell_type": "code",
   "execution_count": 22,
   "metadata": {
    "ExecuteTime": {
     "end_time": "2021-02-25T05:58:13.945492Z",
     "start_time": "2021-02-25T05:58:13.940505Z"
    }
   },
   "outputs": [
    {
     "name": "stdout",
     "output_type": "stream",
     "text": [
      "0 1 1 2 3 5 8 13 21 34 55 89 \n"
     ]
    }
   ],
   "source": [
    "import fibonacci as fib\n",
    "fib.fibo_print(99)\n",
    "#from fibonacci import fibo_print\n",
    "#fibo_print(99)"
   ]
  },
  {
   "cell_type": "code",
   "execution_count": 24,
   "metadata": {
    "ExecuteTime": {
     "end_time": "2021-02-25T06:10:03.182733Z",
     "start_time": "2021-02-25T06:10:03.179760Z"
    }
   },
   "outputs": [],
   "source": [
    "import sys\n",
    "sys.path.append('D:\\\\BIGDATA\\\\source\\\\pylib')\n",
    "import fibonacci"
   ]
  },
  {
   "cell_type": "code",
   "execution_count": 29,
   "metadata": {
    "ExecuteTime": {
     "end_time": "2021-02-25T06:14:45.003659Z",
     "start_time": "2021-02-25T06:14:44.994707Z"
    }
   },
   "outputs": [
    {
     "data": {
      "text/plain": [
       "<module 'fibonacci' from 'D:\\\\BIGDATA\\\\source\\\\pylib\\\\fibonacci.py'>"
      ]
     },
     "execution_count": 29,
     "metadata": {},
     "output_type": "execute_result"
    }
   ],
   "source": [
    "from importlib import reload #패키지나 모듈 다시 로드\n",
    "reload(fibonacci)"
   ]
  },
  {
   "cell_type": "code",
   "execution_count": 30,
   "metadata": {
    "ExecuteTime": {
     "end_time": "2021-02-25T06:14:47.528718Z",
     "start_time": "2021-02-25T06:14:47.428131Z"
    }
   },
   "outputs": [
    {
     "name": "stdout",
     "output_type": "stream",
     "text": [
      "0 1 1 2 3 5 8 13 21 34 55 89 144 233 377 \n"
     ]
    }
   ],
   "source": [
    "!python D:\\\\BIGDATA\\\\source\\\\pylib\\\\fibonacci.py 500"
   ]
  },
  {
   "cell_type": "code",
   "execution_count": 32,
   "metadata": {
    "ExecuteTime": {
     "end_time": "2021-02-25T06:15:51.993899Z",
     "start_time": "2021-02-25T06:15:51.986911Z"
    }
   },
   "outputs": [
    {
     "data": {
      "text/plain": [
       "'D:\\\\BIGDATA\\\\source\\\\pylib\\\\__pycache__\\\\fibonacci.cpython-38.pyc'"
      ]
     },
     "execution_count": 32,
     "metadata": {},
     "output_type": "execute_result"
    }
   ],
   "source": [
    "import py_compile\n",
    "py_compile.compile('D:\\\\BIGDATA\\\\source\\\\pylib\\\\fibonacci.py')"
   ]
  },
  {
   "cell_type": "code",
   "execution_count": 34,
   "metadata": {
    "ExecuteTime": {
     "end_time": "2021-02-25T06:16:28.245977Z",
     "start_time": "2021-02-25T06:16:28.122728Z"
    }
   },
   "outputs": [],
   "source": [
    "!python -m py_compile \"D:\\BIGDATA\\source\\pylib\\\\fibonacci.py\""
   ]
  },
  {
   "cell_type": "code",
   "execution_count": 37,
   "metadata": {
    "ExecuteTime": {
     "end_time": "2021-02-25T06:18:53.745285Z",
     "start_time": "2021-02-25T06:18:53.635408Z"
    }
   },
   "outputs": [
    {
     "name": "stdout",
     "output_type": "stream",
     "text": [
      "0 1 1 2 3 5 8 13 21 34 55 89 144 233 377 610 987 \n"
     ]
    }
   ],
   "source": [
    "!python D:\\BIGDATA\\source\\pylib\\\\__pycache__\\\\fibonacci.cpython-38.pyc 1000"
   ]
  },
  {
   "cell_type": "markdown",
   "metadata": {},
   "source": [
    "## 패키지"
   ]
  },
  {
   "cell_type": "markdown",
   "metadata": {},
   "source": [
    "- 모듈이름이 a.b라면 a라는 패키지 안에 b라는 서브 모듈"
   ]
  },
  {
   "cell_type": "code",
   "execution_count": 1,
   "metadata": {
    "ExecuteTime": {
     "end_time": "2021-02-25T06:59:25.922247Z",
     "start_time": "2021-02-25T06:59:25.912299Z"
    }
   },
   "outputs": [
    {
     "data": {
      "text/plain": [
       "['D:\\\\BIGDATA\\\\source\\\\8_python',\n",
       " 'C:\\\\Users\\\\tjoeun\\\\anaconda3\\\\python38.zip',\n",
       " 'C:\\\\Users\\\\tjoeun\\\\anaconda3\\\\DLLs',\n",
       " 'C:\\\\Users\\\\tjoeun\\\\anaconda3\\\\lib',\n",
       " 'C:\\\\Users\\\\tjoeun\\\\anaconda3',\n",
       " '',\n",
       " 'C:\\\\Users\\\\tjoeun\\\\anaconda3\\\\lib\\\\site-packages',\n",
       " 'C:\\\\Users\\\\tjoeun\\\\anaconda3\\\\lib\\\\site-packages\\\\win32',\n",
       " 'C:\\\\Users\\\\tjoeun\\\\anaconda3\\\\lib\\\\site-packages\\\\win32\\\\lib',\n",
       " 'C:\\\\Users\\\\tjoeun\\\\anaconda3\\\\lib\\\\site-packages\\\\Pythonwin',\n",
       " 'C:\\\\Users\\\\tjoeun\\\\anaconda3\\\\lib\\\\site-packages\\\\IPython\\\\extensions',\n",
       " 'C:\\\\Users\\\\tjoeun\\\\.ipython']"
      ]
     },
     "execution_count": 1,
     "metadata": {},
     "output_type": "execute_result"
    }
   ],
   "source": [
    "import sys\n",
    "sys.path"
   ]
  },
  {
   "cell_type": "code",
   "execution_count": 2,
   "metadata": {
    "ExecuteTime": {
     "end_time": "2021-02-25T06:59:31.230547Z",
     "start_time": "2021-02-25T06:59:31.224562Z"
    }
   },
   "outputs": [
    {
     "name": "stdout",
     "output_type": "stream",
     "text": [
      "sample_pac package load\n"
     ]
    }
   ],
   "source": [
    "sys.path.append('D:\\\\BIGDATA\\\\source\\\\pylib')\n",
    "import sample_pac #상위 패키지 로드, 하위 패키지는 로드되지 않음"
   ]
  },
  {
   "cell_type": "code",
   "execution_count": 43,
   "metadata": {
    "ExecuteTime": {
     "end_time": "2021-02-25T06:51:38.828818Z",
     "start_time": "2021-02-25T06:51:38.824820Z"
    }
   },
   "outputs": [],
   "source": [
    "from sample_pac.ab.a import hello"
   ]
  },
  {
   "cell_type": "code",
   "execution_count": 44,
   "metadata": {
    "ExecuteTime": {
     "end_time": "2021-02-25T06:51:47.276903Z",
     "start_time": "2021-02-25T06:51:47.272913Z"
    }
   },
   "outputs": [
    {
     "name": "stdout",
     "output_type": "stream",
     "text": [
      "hello in a\n"
     ]
    }
   ],
   "source": [
    "hello()"
   ]
  },
  {
   "cell_type": "code",
   "execution_count": 3,
   "metadata": {
    "ExecuteTime": {
     "end_time": "2021-02-25T06:59:39.194179Z",
     "start_time": "2021-02-25T06:59:39.184201Z"
    }
   },
   "outputs": [
    {
     "name": "stdout",
     "output_type": "stream",
     "text": [
      "sample_pac\\ab package\n"
     ]
    }
   ],
   "source": [
    "from sample_pac.ab import *"
   ]
  },
  {
   "cell_type": "code",
   "execution_count": 4,
   "metadata": {
    "ExecuteTime": {
     "end_time": "2021-02-25T06:59:40.948119Z",
     "start_time": "2021-02-25T06:59:40.944130Z"
    }
   },
   "outputs": [
    {
     "name": "stdout",
     "output_type": "stream",
     "text": [
      "world in b\n"
     ]
    }
   ],
   "source": [
    "b.hello()"
   ]
  },
  {
   "cell_type": "code",
   "execution_count": 5,
   "metadata": {
    "ExecuteTime": {
     "end_time": "2021-02-25T07:07:21.443222Z",
     "start_time": "2021-02-25T07:07:21.434246Z"
    }
   },
   "outputs": [
    {
     "name": "stdout",
     "output_type": "stream",
     "text": [
      "sample_pac\\cd package\n",
      "nice in c\n",
      "hello in a\n"
     ]
    }
   ],
   "source": [
    "from sample_pac.cd import c\n",
    "c.nice()"
   ]
  },
  {
   "cell_type": "code",
   "execution_count": 6,
   "metadata": {
    "ExecuteTime": {
     "end_time": "2021-02-25T07:41:08.898071Z",
     "start_time": "2021-02-25T07:41:08.895107Z"
    }
   },
   "outputs": [],
   "source": [
    "#특수속성\n",
    "#__all__\n",
    "#__name__\n",
    "#__path__\n",
    "#__file__"
   ]
  },
  {
   "cell_type": "code",
   "execution_count": 7,
   "metadata": {
    "ExecuteTime": {
     "end_time": "2021-02-25T07:41:16.538240Z",
     "start_time": "2021-02-25T07:41:16.534277Z"
    }
   },
   "outputs": [
    {
     "data": {
      "text/plain": [
       "['D:\\\\BIGDATA\\\\source\\\\8_python',\n",
       " 'C:\\\\Users\\\\tjoeun\\\\anaconda3\\\\python38.zip',\n",
       " 'C:\\\\Users\\\\tjoeun\\\\anaconda3\\\\DLLs',\n",
       " 'C:\\\\Users\\\\tjoeun\\\\anaconda3\\\\lib',\n",
       " 'C:\\\\Users\\\\tjoeun\\\\anaconda3',\n",
       " '',\n",
       " 'C:\\\\Users\\\\tjoeun\\\\anaconda3\\\\lib\\\\site-packages',\n",
       " 'C:\\\\Users\\\\tjoeun\\\\anaconda3\\\\lib\\\\site-packages\\\\win32',\n",
       " 'C:\\\\Users\\\\tjoeun\\\\anaconda3\\\\lib\\\\site-packages\\\\win32\\\\lib',\n",
       " 'C:\\\\Users\\\\tjoeun\\\\anaconda3\\\\lib\\\\site-packages\\\\Pythonwin',\n",
       " 'C:\\\\Users\\\\tjoeun\\\\anaconda3\\\\lib\\\\site-packages\\\\IPython\\\\extensions',\n",
       " 'C:\\\\Users\\\\tjoeun\\\\.ipython',\n",
       " 'D:\\\\BIGDATA\\\\source\\\\pylib']"
      ]
     },
     "execution_count": 7,
     "metadata": {},
     "output_type": "execute_result"
    }
   ],
   "source": [
    "sys.path"
   ]
  },
  {
   "cell_type": "code",
   "execution_count": 8,
   "metadata": {
    "ExecuteTime": {
     "end_time": "2021-02-25T07:41:52.067023Z",
     "start_time": "2021-02-25T07:41:52.054057Z"
    }
   },
   "outputs": [
    {
     "name": "stdout",
     "output_type": "stream",
     "text": [
      "_mypkg_foo import\n"
     ]
    }
   ],
   "source": [
    "from mypkg import foo"
   ]
  },
  {
   "cell_type": "code",
   "execution_count": 9,
   "metadata": {
    "ExecuteTime": {
     "end_time": "2021-02-25T07:42:01.897771Z",
     "start_time": "2021-02-25T07:42:01.893791Z"
    }
   },
   "outputs": [
    {
     "name": "stdout",
     "output_type": "stream",
     "text": [
      "foo_hello(under _mypkg_foo)\n"
     ]
    }
   ],
   "source": [
    "foo.foo_hello()"
   ]
  },
  {
   "cell_type": "code",
   "execution_count": 11,
   "metadata": {
    "ExecuteTime": {
     "end_time": "2021-02-25T07:44:27.522710Z",
     "start_time": "2021-02-25T07:44:27.517697Z"
    }
   },
   "outputs": [],
   "source": [
    "from mypkg import bar"
   ]
  },
  {
   "cell_type": "code",
   "execution_count": 12,
   "metadata": {
    "ExecuteTime": {
     "end_time": "2021-02-25T07:44:39.809891Z",
     "start_time": "2021-02-25T07:44:39.805928Z"
    }
   },
   "outputs": [
    {
     "name": "stdout",
     "output_type": "stream",
     "text": [
      "hello in bar\n"
     ]
    }
   ],
   "source": [
    "bar.bar_hello()"
   ]
  },
  {
   "cell_type": "markdown",
   "metadata": {},
   "source": [
    "## 패키지 설치 및 삭제"
   ]
  },
  {
   "cell_type": "code",
   "execution_count": 1,
   "metadata": {
    "ExecuteTime": {
     "end_time": "2021-02-25T08:05:50.727409Z",
     "start_time": "2021-02-25T08:05:50.519939Z"
    }
   },
   "outputs": [
    {
     "ename": "ModuleNotFoundError",
     "evalue": "No module named 'objgraph'",
     "output_type": "error",
     "traceback": [
      "\u001b[1;31m---------------------------------------------------------------------------\u001b[0m",
      "\u001b[1;31mModuleNotFoundError\u001b[0m                       Traceback (most recent call last)",
      "\u001b[1;32m<ipython-input-1-be32c11a8b6f>\u001b[0m in \u001b[0;36m<module>\u001b[1;34m\u001b[0m\n\u001b[1;32m----> 1\u001b[1;33m \u001b[1;32mimport\u001b[0m \u001b[0mobjgraph\u001b[0m\u001b[1;33m\u001b[0m\u001b[1;33m\u001b[0m\u001b[0m\n\u001b[0m\u001b[0;32m      2\u001b[0m \u001b[0mobjgraph\u001b[0m\u001b[1;33m.\u001b[0m\u001b[0mshow_most_common_types\u001b[0m\u001b[1;33m(\u001b[0m\u001b[1;33m)\u001b[0m\u001b[1;31m#메모리 사용량 출력\u001b[0m\u001b[1;33m\u001b[0m\u001b[1;33m\u001b[0m\u001b[0m\n",
      "\u001b[1;31mModuleNotFoundError\u001b[0m: No module named 'objgraph'"
     ]
    }
   ],
   "source": [
    "import objgraph\n",
    "objgraph.show_most_common_types()#메모리 사용량 출력"
   ]
  },
  {
   "cell_type": "code",
   "execution_count": 14,
   "metadata": {
    "ExecuteTime": {
     "end_time": "2021-02-25T07:59:45.337161Z",
     "start_time": "2021-02-25T07:59:45.333171Z"
    }
   },
   "outputs": [],
   "source": [
    "l = [10,20,30,40,50,60]"
   ]
  },
  {
   "cell_type": "code",
   "execution_count": null,
   "metadata": {},
   "outputs": [],
   "source": []
  },
  {
   "cell_type": "code",
   "execution_count": null,
   "metadata": {},
   "outputs": [],
   "source": []
  },
  {
   "cell_type": "code",
   "execution_count": null,
   "metadata": {},
   "outputs": [],
   "source": []
  },
  {
   "cell_type": "code",
   "execution_count": null,
   "metadata": {},
   "outputs": [],
   "source": []
  },
  {
   "cell_type": "code",
   "execution_count": null,
   "metadata": {},
   "outputs": [],
   "source": []
  },
  {
   "cell_type": "code",
   "execution_count": null,
   "metadata": {},
   "outputs": [],
   "source": []
  },
  {
   "cell_type": "code",
   "execution_count": null,
   "metadata": {},
   "outputs": [],
   "source": []
  },
  {
   "cell_type": "code",
   "execution_count": null,
   "metadata": {},
   "outputs": [],
   "source": []
  },
  {
   "cell_type": "code",
   "execution_count": null,
   "metadata": {},
   "outputs": [],
   "source": []
  }
 ],
 "metadata": {
  "kernelspec": {
   "display_name": "Python 3",
   "language": "python",
   "name": "python3"
  },
  "language_info": {
   "codemirror_mode": {
    "name": "ipython",
    "version": 3
   },
   "file_extension": ".py",
   "mimetype": "text/x-python",
   "name": "python",
   "nbconvert_exporter": "python",
   "pygments_lexer": "ipython3",
   "version": "3.8.5"
  },
  "toc": {
   "base_numbering": 1,
   "nav_menu": {},
   "number_sections": true,
   "sideBar": false,
   "skip_h1_title": false,
   "title_cell": "Table of Contents",
   "title_sidebar": "Contents",
   "toc_cell": false,
   "toc_position": {
    "height": "757px",
    "left": "1637px",
    "top": "92px",
    "width": "257px"
   },
   "toc_section_display": true,
   "toc_window_display": true
  },
  "varInspector": {
   "cols": {
    "lenName": 16,
    "lenType": 16,
    "lenVar": 40
   },
   "kernels_config": {
    "python": {
     "delete_cmd_postfix": "",
     "delete_cmd_prefix": "del ",
     "library": "var_list.py",
     "varRefreshCmd": "print(var_dic_list())"
    },
    "r": {
     "delete_cmd_postfix": ") ",
     "delete_cmd_prefix": "rm(",
     "library": "var_list.r",
     "varRefreshCmd": "cat(var_dic_list()) "
    }
   },
   "types_to_exclude": [
    "module",
    "function",
    "builtin_function_or_method",
    "instance",
    "_Feature"
   ],
   "window_display": false
  }
 },
 "nbformat": 4,
 "nbformat_minor": 4
}
