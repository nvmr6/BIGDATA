{
 "cells": [
  {
   "cell_type": "markdown",
   "metadata": {},
   "source": [
    "# ch07 객체지향 프로그래밍"
   ]
  },
  {
   "cell_type": "markdown",
   "metadata": {},
   "source": [
    "## 객체와 클래스\n",
    "class 클래스명(상속받을 클래스명):\n",
    "    함수나 변수들 선언"
   ]
  },
  {
   "cell_type": "code",
   "execution_count": 1,
   "metadata": {
    "ExecuteTime": {
     "end_time": "2021-02-25T08:20:49.631587Z",
     "start_time": "2021-02-25T08:20:49.620590Z"
    }
   },
   "outputs": [
    {
     "data": {
      "text/plain": [
       "__main__.Person"
      ]
     },
     "execution_count": 1,
     "metadata": {},
     "output_type": "execute_result"
    }
   ],
   "source": [
    "class Person:\n",
    "    \"Person class\"\n",
    "    pass\n",
    "p1 = Person()\n",
    "type(p1)"
   ]
  },
  {
   "cell_type": "markdown",
   "metadata": {},
   "source": [
    "## 변수와 메소드"
   ]
  },
  {
   "cell_type": "code",
   "execution_count": 2,
   "metadata": {
    "ExecuteTime": {
     "end_time": "2021-02-25T08:35:31.855639Z",
     "start_time": "2021-02-25T08:35:31.851649Z"
    }
   },
   "outputs": [
    {
     "name": "stdout",
     "output_type": "stream",
     "text": [
      "hong male\n"
     ]
    }
   ],
   "source": [
    "#변수 추가\n",
    "class person:\n",
    "    name = 'hong'\n",
    "    gender = 'male'\n",
    "p1 = person()\n",
    "print(p1.name, p1.gender)"
   ]
  },
  {
   "cell_type": "code",
   "execution_count": 3,
   "metadata": {
    "ExecuteTime": {
     "end_time": "2021-02-25T08:36:35.374879Z",
     "start_time": "2021-02-25T08:36:35.370889Z"
    }
   },
   "outputs": [
    {
     "name": "stdout",
     "output_type": "stream",
     "text": [
      "lee male\n"
     ]
    }
   ],
   "source": [
    "p2 = person()\n",
    "p2.name = 'lee'\n",
    "print(p2.name, p2.gender)"
   ]
  },
  {
   "cell_type": "code",
   "execution_count": 4,
   "metadata": {
    "ExecuteTime": {
     "end_time": "2021-02-25T08:41:05.862859Z",
     "start_time": "2021-02-25T08:41:05.858870Z"
    }
   },
   "outputs": [],
   "source": [
    "person.name = 'kim'\n",
    "person.gender = 'female' #클래스 속성 수정"
   ]
  },
  {
   "cell_type": "code",
   "execution_count": 5,
   "metadata": {
    "ExecuteTime": {
     "end_time": "2021-02-25T08:41:18.071018Z",
     "start_time": "2021-02-25T08:41:18.066057Z"
    }
   },
   "outputs": [
    {
     "name": "stdout",
     "output_type": "stream",
     "text": [
      "kim female\n",
      "lee female\n"
     ]
    }
   ],
   "source": [
    "print(p1.name, p1.gender)\n",
    "print(p2.name, p2.gender)"
   ]
  },
  {
   "cell_type": "code",
   "execution_count": 6,
   "metadata": {
    "ExecuteTime": {
     "end_time": "2021-02-25T08:43:35.424272Z",
     "start_time": "2021-02-25T08:43:35.419311Z"
    }
   },
   "outputs": [
    {
     "name": "stdout",
     "output_type": "stream",
     "text": [
      "kim female\n",
      "shin male\n",
      "lee female\n"
     ]
    }
   ],
   "source": [
    "p1.name = 'shin'\n",
    "p1.gender = 'male'\n",
    "print(person.name, person.gender)\n",
    "print(p1.name, p1.gender)\n",
    "print(p2.name, p2.gender)"
   ]
  },
  {
   "cell_type": "code",
   "execution_count": 7,
   "metadata": {
    "ExecuteTime": {
     "end_time": "2021-02-25T08:46:46.903817Z",
     "start_time": "2021-02-25T08:46:46.898856Z"
    }
   },
   "outputs": [
    {
     "name": "stdout",
     "output_type": "stream",
     "text": [
      "hong male\n",
      "method of person\n"
     ]
    }
   ],
   "source": [
    "class person:\n",
    "    name = 'hong'\n",
    "    gender = 'male'\n",
    "    def print_info():\n",
    "        print('method of person')\n",
    "print(person.name, person.gender)\n",
    "person.print_info()"
   ]
  },
  {
   "cell_type": "code",
   "execution_count": 8,
   "metadata": {
    "ExecuteTime": {
     "end_time": "2021-02-25T08:48:35.182744Z",
     "start_time": "2021-02-25T08:48:35.178753Z"
    }
   },
   "outputs": [
    {
     "name": "stdout",
     "output_type": "stream",
     "text": [
      "hong male\n"
     ]
    }
   ],
   "source": [
    "p1 = person()\n",
    "print(p1.name, p1.gender)"
   ]
  },
  {
   "cell_type": "code",
   "execution_count": 9,
   "metadata": {
    "ExecuteTime": {
     "end_time": "2021-02-25T08:52:40.945622Z",
     "start_time": "2021-02-25T08:52:40.706054Z"
    }
   },
   "outputs": [
    {
     "ename": "TypeError",
     "evalue": "print_info() takes 0 positional arguments but 1 was given",
     "output_type": "error",
     "traceback": [
      "\u001b[1;31m---------------------------------------------------------------------------\u001b[0m",
      "\u001b[1;31mTypeError\u001b[0m                                 Traceback (most recent call last)",
      "\u001b[1;32m<ipython-input-9-46d6307d0b78>\u001b[0m in \u001b[0;36m<module>\u001b[1;34m\u001b[0m\n\u001b[1;32m----> 1\u001b[1;33m \u001b[0mp1\u001b[0m\u001b[1;33m.\u001b[0m\u001b[0mprint_info\u001b[0m\u001b[1;33m(\u001b[0m\u001b[1;33m)\u001b[0m \u001b[1;31m# error\u001b[0m\u001b[1;33m\u001b[0m\u001b[1;33m\u001b[0m\u001b[0m\n\u001b[0m",
      "\u001b[1;31mTypeError\u001b[0m: print_info() takes 0 positional arguments but 1 was given"
     ]
    }
   ],
   "source": [
    "p1.print_info() # error"
   ]
  },
  {
   "cell_type": "code",
   "execution_count": 13,
   "metadata": {
    "ExecuteTime": {
     "end_time": "2021-02-25T08:59:54.510745Z",
     "start_time": "2021-02-25T08:59:54.505757Z"
    }
   },
   "outputs": [
    {
     "name": "stdout",
     "output_type": "stream",
     "text": [
      "hong is 25 years old male.\n"
     ]
    }
   ],
   "source": [
    "class person:\n",
    "    name = 'hong'\n",
    "    gender = 'male'\n",
    "    age = 25\n",
    "    def print_info(self): # instance method, self는 this와 같음\n",
    "        print('{} is {} years old {}.'.format(self.name, self.age, self.gender))\n",
    "p1 = person()\n",
    "p1.print_info()"
   ]
  },
  {
   "cell_type": "code",
   "execution_count": 14,
   "metadata": {
    "ExecuteTime": {
     "end_time": "2021-02-25T09:06:36.663477Z",
     "start_time": "2021-02-25T09:06:36.660509Z"
    }
   },
   "outputs": [],
   "source": [
    "#파이썬은 클래스와 인스턴스의 이름공간이 분리되어 있음\n",
    "#클래스와 인스턴스의 변수명이 다를 수 있다\n",
    "#동적으로 인스턴스에 멤버 추가 가능"
   ]
  },
  {
   "cell_type": "code",
   "execution_count": 15,
   "metadata": {
    "ExecuteTime": {
     "end_time": "2021-02-25T09:08:26.453667Z",
     "start_time": "2021-02-25T09:08:26.449698Z"
    }
   },
   "outputs": [],
   "source": [
    "# instance method: 인자에 self, 객체를 통해서 호출한 메소드\n",
    "#class method: @classemthod를 통해서 선언한 메소드, 인자에 cls, 클래스를 통해서 호출\n",
    "#static method: @staticmethod를 통해 선언한 메소드"
   ]
  },
  {
   "cell_type": "code",
   "execution_count": 8,
   "metadata": {
    "ExecuteTime": {
     "end_time": "2021-02-26T01:00:50.222591Z",
     "start_time": "2021-02-26T01:00:50.216607Z"
    }
   },
   "outputs": [],
   "source": [
    "class person:\n",
    "    name = 'hong'\n",
    "    gender = 'male'\n",
    "    age = 30\n",
    "    def print_info(self): #self > instance method\n",
    "        print(\"{} is {} years old {} - instance method\".format(self.name, self.age, self.gender))\n",
    "        \n",
    "    @classmethod\n",
    "    def do_(cls): # class method, 인자 필요\n",
    "        cls.name = 'kim'\n",
    "        cls.gender = 'female'\n",
    "        cls.age = 33\n",
    "        print(\"{} is {} years old {} - class method\".format(cls.name, cls.age, cls.gender))\n",
    "              \n",
    "    @staticmethod\n",
    "    def that_(): # static method, 인자 없음\n",
    "        print(\"{} is {} years old {} - static method\".format(person.name, person.age, person.gender))"
   ]
  },
  {
   "cell_type": "markdown",
   "metadata": {},
   "source": [
    "## 생성자(_ _ init _ _()) / 소멸자(_ _ del _ _())\n",
    "- 생성자 함수: _ _ init _ _(selt[p,p,p...]) \n",
    "> 객체가 생성될 때 자동 실행, 생성시 필요한 코드 - 객체멤버의 초기화\n",
    "- 소멸자 함수: _ _ init _ _(self) \n",
    "> 객체가 소멸될 때 자동실행, 소멸시 필요한 코드를 포함, 인스턴스 객체의 레퍼런스 카운터가 0일 때 실행 "
   ]
  },
  {
   "cell_type": "code",
   "execution_count": 9,
   "metadata": {
    "ExecuteTime": {
     "end_time": "2021-02-26T01:12:47.116956Z",
     "start_time": "2021-02-26T01:12:47.112990Z"
    }
   },
   "outputs": [],
   "source": [
    "class person:\n",
    "    def __init__(self):\n",
    "        print(\"person obj\")\n",
    "        self.name = 'hong' #일반 변수\n",
    "        self.gender = 'male'\n",
    "    def __del__(self):\n",
    "        print(\"person obj\")\n",
    "    def print_info(self):\n",
    "        print(\"method\")"
   ]
  },
  {
   "cell_type": "code",
   "execution_count": 14,
   "metadata": {
    "ExecuteTime": {
     "end_time": "2021-02-26T01:18:05.178193Z",
     "start_time": "2021-02-26T01:18:05.174224Z"
    }
   },
   "outputs": [
    {
     "name": "stdout",
     "output_type": "stream",
     "text": [
      "person obj\n",
      "method\n"
     ]
    }
   ],
   "source": [
    "p1 = person()\n",
    "p1.print_info()"
   ]
  },
  {
   "cell_type": "code",
   "execution_count": 15,
   "metadata": {
    "ExecuteTime": {
     "end_time": "2021-02-26T01:18:05.593370Z",
     "start_time": "2021-02-26T01:18:05.589390Z"
    }
   },
   "outputs": [
    {
     "name": "stdout",
     "output_type": "stream",
     "text": [
      "method\n"
     ]
    }
   ],
   "source": [
    "p1.name = 'kim'\n",
    "p1.print_info()"
   ]
  },
  {
   "cell_type": "code",
   "execution_count": 16,
   "metadata": {
    "ExecuteTime": {
     "end_time": "2021-02-26T01:18:06.113563Z",
     "start_time": "2021-02-26T01:18:06.109594Z"
    }
   },
   "outputs": [
    {
     "name": "stdout",
     "output_type": "stream",
     "text": [
      "person obj\n"
     ]
    }
   ],
   "source": [
    "del p1 #가르키는 수, 레퍼런스 카운트가 0이 되야 소멸"
   ]
  },
  {
   "cell_type": "code",
   "execution_count": 22,
   "metadata": {
    "ExecuteTime": {
     "end_time": "2021-02-26T01:39:15.577195Z",
     "start_time": "2021-02-26T01:39:15.573231Z"
    }
   },
   "outputs": [],
   "source": [
    " class person:\n",
    "    def __init__(self, name, gender):\n",
    "        print(\"person obj init\")\n",
    "        self.name = name\n",
    "        self.gender = gender\n",
    "    def __del__(self):\n",
    "        print(\"person obj del\")\n",
    "    def print_info(self):\n",
    "        print(self.name, self.gender)"
   ]
  },
  {
   "cell_type": "code",
   "execution_count": 24,
   "metadata": {
    "ExecuteTime": {
     "end_time": "2021-02-26T01:39:29.593179Z",
     "start_time": "2021-02-26T01:39:29.589216Z"
    }
   },
   "outputs": [
    {
     "name": "stdout",
     "output_type": "stream",
     "text": [
      "person obj\n",
      "person obj\n",
      "kim male\n"
     ]
    }
   ],
   "source": [
    "p1 = person('kim', 'male')\n",
    "p1.print_info()"
   ]
  },
  {
   "cell_type": "code",
   "execution_count": null,
   "metadata": {},
   "outputs": [],
   "source": [
    "#생성자 함수를 통한 멤버 변수의 초기화\n",
    "#파이썬은 함수의 중복정의(오버로딩)를 허용하지 않는다\n",
    "#생성자 함수 중복정의 불가"
   ]
  },
  {
   "cell_type": "code",
   "execution_count": 25,
   "metadata": {
    "ExecuteTime": {
     "end_time": "2021-02-26T01:50:19.081157Z",
     "start_time": "2021-02-26T01:50:19.077168Z"
    }
   },
   "outputs": [],
   "source": [
    " class person:\n",
    "    def __init__(self, name='hong', gender='male'):\n",
    "        print(\"person obj init\")\n",
    "        self.name = name\n",
    "        self.gender = gender\n",
    "    def __del__(self):\n",
    "        print(\"person obj del\")\n",
    "    def print_info(self):\n",
    "        print(self.name, self.gender)"
   ]
  },
  {
   "cell_type": "code",
   "execution_count": 26,
   "metadata": {
    "ExecuteTime": {
     "end_time": "2021-02-26T01:50:53.439900Z",
     "start_time": "2021-02-26T01:50:53.436905Z"
    }
   },
   "outputs": [
    {
     "name": "stdout",
     "output_type": "stream",
     "text": [
      "person obj init\n",
      "person obj\n",
      "person obj init\n",
      "person obj init\n"
     ]
    }
   ],
   "source": [
    "p1 = person('kim', 'female')\n",
    "p2 = person('han')\n",
    "p3 = person()"
   ]
  },
  {
   "cell_type": "code",
   "execution_count": 27,
   "metadata": {
    "ExecuteTime": {
     "end_time": "2021-02-26T01:51:15.720440Z",
     "start_time": "2021-02-26T01:51:15.716451Z"
    }
   },
   "outputs": [
    {
     "name": "stdout",
     "output_type": "stream",
     "text": [
      "kim female\n",
      "han male\n",
      "hong male\n"
     ]
    }
   ],
   "source": [
    "p1.print_info()\n",
    "p2.print_info()\n",
    "p3.print_info()"
   ]
  },
  {
   "cell_type": "markdown",
   "metadata": {},
   "source": [
    "## 상속과 재정의"
   ]
  },
  {
   "cell_type": "code",
   "execution_count": 28,
   "metadata": {
    "ExecuteTime": {
     "end_time": "2021-02-26T01:59:40.927747Z",
     "start_time": "2021-02-26T01:59:40.924756Z"
    }
   },
   "outputs": [],
   "source": [
    "class student(person):\n",
    "    pass"
   ]
  },
  {
   "cell_type": "code",
   "execution_count": 30,
   "metadata": {
    "ExecuteTime": {
     "end_time": "2021-02-26T01:59:57.896135Z",
     "start_time": "2021-02-26T01:59:57.891174Z"
    }
   },
   "outputs": [
    {
     "data": {
      "text/plain": [
       "True"
      ]
     },
     "execution_count": 30,
     "metadata": {},
     "output_type": "execute_result"
    }
   ],
   "source": [
    "issubclass(student,person)"
   ]
  },
  {
   "cell_type": "code",
   "execution_count": 34,
   "metadata": {
    "ExecuteTime": {
     "end_time": "2021-02-26T02:01:41.727801Z",
     "start_time": "2021-02-26T02:01:41.723837Z"
    }
   },
   "outputs": [],
   "source": [
    "class person:\n",
    "    def __init__(self, name, gender):\n",
    "        print(\"person obj init\")\n",
    "        self.name = name\n",
    "        self.gender = gender\n",
    "    def __del__(self):\n",
    "        print(\"person obj del\")\n",
    "    def print_info(self):\n",
    "        print(self.name, self.gender)\n",
    "    def __str__(self):\n",
    "        print(self.name, self.gender)"
   ]
  },
  {
   "cell_type": "code",
   "execution_count": 35,
   "metadata": {
    "ExecuteTime": {
     "end_time": "2021-02-26T02:01:55.111365Z",
     "start_time": "2021-02-26T02:01:55.107376Z"
    }
   },
   "outputs": [
    {
     "name": "stdout",
     "output_type": "stream",
     "text": [
      "person obj init\n"
     ]
    }
   ],
   "source": [
    "p1=person('hong', 'male')"
   ]
  },
  {
   "cell_type": "code",
   "execution_count": 36,
   "metadata": {
    "ExecuteTime": {
     "end_time": "2021-02-26T02:02:25.223764Z",
     "start_time": "2021-02-26T02:02:25.219793Z"
    }
   },
   "outputs": [],
   "source": [
    "class student(person):\n",
    "    pass"
   ]
  },
  {
   "cell_type": "code",
   "execution_count": 40,
   "metadata": {
    "ExecuteTime": {
     "end_time": "2021-02-26T02:03:03.304071Z",
     "start_time": "2021-02-26T02:03:03.300083Z"
    }
   },
   "outputs": [
    {
     "name": "stdout",
     "output_type": "stream",
     "text": [
      "person obj init\n"
     ]
    }
   ],
   "source": [
    "s1 = student('lee', 'female')"
   ]
  },
  {
   "cell_type": "code",
   "execution_count": 41,
   "metadata": {
    "ExecuteTime": {
     "end_time": "2021-02-26T02:03:22.727832Z",
     "start_time": "2021-02-26T02:03:22.723842Z"
    }
   },
   "outputs": [
    {
     "name": "stdout",
     "output_type": "stream",
     "text": [
      "lee female\n"
     ]
    }
   ],
   "source": [
    "s1.print_info()"
   ]
  },
  {
   "cell_type": "code",
   "execution_count": 42,
   "metadata": {
    "ExecuteTime": {
     "end_time": "2021-02-26T02:06:22.528458Z",
     "start_time": "2021-02-26T02:06:22.524491Z"
    }
   },
   "outputs": [],
   "source": [
    "class person:\n",
    "    def __init__(self, name, gender):\n",
    "        print(\"person obj init\")\n",
    "        self.name = name\n",
    "        self.gender = gender\n",
    "    def __del__(self):\n",
    "        print(\"person obj del\")\n",
    "    def print_info(self):\n",
    "        print(self.name, self.gender)\n",
    "    def __str__(self):\n",
    "        print(self.name, self.gender)"
   ]
  },
  {
   "cell_type": "code",
   "execution_count": 60,
   "metadata": {
    "ExecuteTime": {
     "end_time": "2021-02-26T02:17:45.391321Z",
     "start_time": "2021-02-26T02:17:45.386334Z"
    }
   },
   "outputs": [],
   "source": [
    "class student(person):\n",
    "    \"major 변수를 갖는 타입\"\n",
    "    def __init__(self, name, gender, major):\n",
    "        print(\"person obj init\")\n",
    "        self.name = name\n",
    "        self.gender = gender\n",
    "        self.major = major\n",
    "    def __del__(self):\n",
    "        pass\n",
    "    def print_info(self):\n",
    "        print(self.name, self.gender, self.major) #재정의\n",
    "    def __str__(self):\n",
    "        return (\"{} {} {}\".format(self.name, self.gender, self.major))"
   ]
  },
  {
   "cell_type": "code",
   "execution_count": 61,
   "metadata": {
    "ExecuteTime": {
     "end_time": "2021-02-26T02:17:45.759471Z",
     "start_time": "2021-02-26T02:17:45.755506Z"
    }
   },
   "outputs": [
    {
     "name": "stdout",
     "output_type": "stream",
     "text": [
      "person obj init\n"
     ]
    }
   ],
   "source": [
    "s1 = student('jung', 'male', 'EE')"
   ]
  },
  {
   "cell_type": "code",
   "execution_count": 62,
   "metadata": {
    "ExecuteTime": {
     "end_time": "2021-02-26T02:17:46.055865Z",
     "start_time": "2021-02-26T02:17:46.051875Z"
    }
   },
   "outputs": [
    {
     "name": "stdout",
     "output_type": "stream",
     "text": [
      "jung male EE\n",
      "jung male EE\n"
     ]
    }
   ],
   "source": [
    "print(s1)\n",
    "s1.print_info()"
   ]
  },
  {
   "cell_type": "code",
   "execution_count": 4,
   "metadata": {
    "ExecuteTime": {
     "end_time": "2021-02-26T02:53:35.901579Z",
     "start_time": "2021-02-26T02:53:35.896617Z"
    }
   },
   "outputs": [],
   "source": [
    "class person:\n",
    "    def __init__(self, name, gender):\n",
    "        print(\"person obj init\")\n",
    "        self.name = name\n",
    "        self.gender = gender\n",
    "    def __del__(self):\n",
    "        print(\"person obj del\")\n",
    "    def print_info(self):\n",
    "        print(self.name, self.gender)\n",
    "    def __str__(self):\n",
    "        return (\"{} {}\".format(self.name, self.gender))"
   ]
  },
  {
   "cell_type": "code",
   "execution_count": 5,
   "metadata": {
    "ExecuteTime": {
     "end_time": "2021-02-26T02:53:36.333155Z",
     "start_time": "2021-02-26T02:53:36.328196Z"
    }
   },
   "outputs": [],
   "source": [
    "class student(person):\n",
    "    \"major 변수를 갖는 타입\"\n",
    "    def __init__(self, name, gender, major):\n",
    "        #부모 클래스의 생성자를 호출하여 자식 클래스의 생성자를 쉽게\n",
    "        person.__init__(self,name,gender)\n",
    "        self.major = major\n",
    "    def __del__(self):\n",
    "        pass\n",
    "    def print_info(self):\n",
    "        print(self.name, self.gender, self.major) #재정의\n",
    "    def __str__(self):\n",
    "        return super().__str__()+\" {}\".format(self.major)"
   ]
  },
  {
   "cell_type": "code",
   "execution_count": 13,
   "metadata": {
    "ExecuteTime": {
     "end_time": "2021-02-26T02:55:49.726219Z",
     "start_time": "2021-02-26T02:55:49.721230Z"
    },
    "scrolled": true
   },
   "outputs": [
    {
     "name": "stdout",
     "output_type": "stream",
     "text": [
      "person obj init\n",
      "choi female korean\n"
     ]
    }
   ],
   "source": [
    "s2 = student('choi', 'female', 'korean')\n",
    "print(s2)"
   ]
  },
  {
   "cell_type": "markdown",
   "metadata": {},
   "source": [
    "static 변수: 여러 객체들 사이에 데이터를 공유하고 싶을 때 사용\n",
    "> 클래스 변수 이름 앞에 __ 추가 >내부적으로 클래스명._클래스명 변수 이름으로 참조"
   ]
  },
  {
   "cell_type": "code",
   "execution_count": 8,
   "metadata": {
    "ExecuteTime": {
     "end_time": "2021-02-26T02:53:38.046047Z",
     "start_time": "2021-02-26T02:53:38.040089Z"
    }
   },
   "outputs": [],
   "source": [
    "class student(person):\n",
    "    \"major 변수를 갖는 타입\"\n",
    "    __count = 0 #static 변수\n",
    "    def __init__(self, name, gender, major):\n",
    "        #부모 클래스의 생성자를 호출하여 자식 클래스의 생성자를 쉽게\n",
    "        student._student__count += 1 #생성시 count 증가\n",
    "        person.__init__(self,name,gender)\n",
    "        self.major = major\n",
    "    def __del__(self):\n",
    "        student._student__count -= 1#객체 소멸시 count 감소\n",
    "    def print_info(self):\n",
    "        print(self.name, self.gender, self.major) #재정의\n",
    "    def __str__(self):\n",
    "        return super().__str__()+\" {}\".format(self.major)\n",
    "    @classmethod\n",
    "    def get_count(cls):\n",
    "        return student._student__count"
   ]
  },
  {
   "cell_type": "code",
   "execution_count": 25,
   "metadata": {
    "ExecuteTime": {
     "end_time": "2021-02-26T03:24:10.808756Z",
     "start_time": "2021-02-26T03:24:10.798782Z"
    },
    "scrolled": true
   },
   "outputs": [
    {
     "name": "stdout",
     "output_type": "stream",
     "text": [
      "person obj init\n",
      "hong male QQ\n",
      "3\n"
     ]
    },
    {
     "data": {
      "text/plain": [
       "3"
      ]
     },
     "execution_count": 25,
     "metadata": {},
     "output_type": "execute_result"
    }
   ],
   "source": [
    "s1 = student('hong','male','QQ')\n",
    "s1.print_info()\n",
    "print(s1.get_count())"
   ]
  },
  {
   "cell_type": "code",
   "execution_count": 10,
   "metadata": {
    "ExecuteTime": {
     "end_time": "2021-02-26T02:53:39.645224Z",
     "start_time": "2021-02-26T02:53:39.641234Z"
    }
   },
   "outputs": [
    {
     "name": "stdout",
     "output_type": "stream",
     "text": [
      "person obj init\n",
      "jung male EE\n",
      "2\n"
     ]
    }
   ],
   "source": [
    "s2 = student('jung','male','EE')\n",
    "s2.print_info()\n",
    "print(s2.get_count())"
   ]
  },
  {
   "cell_type": "code",
   "execution_count": 11,
   "metadata": {
    "ExecuteTime": {
     "end_time": "2021-02-26T02:53:43.099810Z",
     "start_time": "2021-02-26T02:53:43.096817Z"
    }
   },
   "outputs": [
    {
     "name": "stdout",
     "output_type": "stream",
     "text": [
      "1\n"
     ]
    }
   ],
   "source": [
    "del s1\n",
    "print(student.get_count())"
   ]
  },
  {
   "cell_type": "code",
   "execution_count": 1,
   "metadata": {
    "ExecuteTime": {
     "end_time": "2021-02-26T05:42:54.688162Z",
     "start_time": "2021-02-26T05:42:54.683175Z"
    }
   },
   "outputs": [],
   "source": [
    "# 실습형 1\n",
    "class Shape:\n",
    "    def __init__(self, x=0, y=0):\n",
    "        self.x = x\n",
    "        self.y = y\n",
    "        \n",
    "    def __str__(self):\n",
    "        return \"x좌표값:{}, y좌표값:{}\".format(self.x, self.y)\n",
    "\n",
    "    def move(self, x, y):\n",
    "        self.x += x\n",
    "        self.y += y\n",
    "        \n",
    "    def calc_area(self):\n",
    "        raise Exception(\"이 메소드는 반드시 구현되어야 합니다\")\n",
    "    \n",
    "    @staticmethod\n",
    "    def staticmethod_():\n",
    "        print(\"도형 클래스 staticmethod 호출\")"
   ]
  },
  {
   "cell_type": "code",
   "execution_count": 2,
   "metadata": {
    "ExecuteTime": {
     "end_time": "2021-02-26T05:42:54.854069Z",
     "start_time": "2021-02-26T05:42:54.849069Z"
    }
   },
   "outputs": [],
   "source": [
    "class Triangle(Shape):\n",
    "    __count = 0\n",
    "    def __init__(self, width, height, x=0, y=0):\n",
    "        Triangle._Triangle__count += 1\n",
    "        Shape.__init__(self, x, y)\n",
    "        self.width = width\n",
    "        self.height = height    \n",
    "    def __del__(self):\n",
    "        Triangle._Triangle__count -= 1        \n",
    "    def __str__(self):\n",
    "        #return Shape.__str__(self) + \", width:{}, height:{}\".format(self.width, \n",
    "         #                                                           self.height)\n",
    "        return super().__str__() + \", width:{}, height:{}\".format(self.width, \n",
    "                                                                  self.height)    \n",
    "    def calc_area(self):\n",
    "        return (self.width*self.height)/2    \n",
    "    @classmethod\n",
    "    def get_count(cls):\n",
    "        return cls.__count"
   ]
  },
  {
   "cell_type": "code",
   "execution_count": 3,
   "metadata": {
    "ExecuteTime": {
     "end_time": "2021-02-26T05:42:55.042394Z",
     "start_time": "2021-02-26T05:42:55.038412Z"
    }
   },
   "outputs": [],
   "source": [
    "s1 = Shape()"
   ]
  },
  {
   "cell_type": "code",
   "execution_count": 4,
   "metadata": {
    "ExecuteTime": {
     "end_time": "2021-02-26T05:43:02.074626Z",
     "start_time": "2021-02-26T05:43:01.860195Z"
    }
   },
   "outputs": [
    {
     "ename": "Exception",
     "evalue": "이 메소드는 반드시 구현되어야 합니다",
     "output_type": "error",
     "traceback": [
      "\u001b[1;31m---------------------------------------------------------------------------\u001b[0m",
      "\u001b[1;31mException\u001b[0m                                 Traceback (most recent call last)",
      "\u001b[1;32m<ipython-input-4-9fa41ec1c1e8>\u001b[0m in \u001b[0;36m<module>\u001b[1;34m\u001b[0m\n\u001b[1;32m----> 1\u001b[1;33m \u001b[0ms1\u001b[0m\u001b[1;33m.\u001b[0m\u001b[0mcalc_area\u001b[0m\u001b[1;33m(\u001b[0m\u001b[1;33m)\u001b[0m \u001b[1;31m# calc_area()호출시 오류 발생\u001b[0m\u001b[1;33m\u001b[0m\u001b[1;33m\u001b[0m\u001b[0m\n\u001b[0m",
      "\u001b[1;32m<ipython-input-1-8874e7c4eef7>\u001b[0m in \u001b[0;36mcalc_area\u001b[1;34m(self)\u001b[0m\n\u001b[0;32m     13\u001b[0m \u001b[1;33m\u001b[0m\u001b[0m\n\u001b[0;32m     14\u001b[0m     \u001b[1;32mdef\u001b[0m \u001b[0mcalc_area\u001b[0m\u001b[1;33m(\u001b[0m\u001b[0mself\u001b[0m\u001b[1;33m)\u001b[0m\u001b[1;33m:\u001b[0m\u001b[1;33m\u001b[0m\u001b[1;33m\u001b[0m\u001b[0m\n\u001b[1;32m---> 15\u001b[1;33m         \u001b[1;32mraise\u001b[0m \u001b[0mException\u001b[0m\u001b[1;33m(\u001b[0m\u001b[1;34m\"이 메소드는 반드시 구현되어야 합니다\"\u001b[0m\u001b[1;33m)\u001b[0m\u001b[1;33m\u001b[0m\u001b[1;33m\u001b[0m\u001b[0m\n\u001b[0m\u001b[0;32m     16\u001b[0m \u001b[1;33m\u001b[0m\u001b[0m\n\u001b[0;32m     17\u001b[0m     \u001b[1;33m@\u001b[0m\u001b[0mstaticmethod\u001b[0m\u001b[1;33m\u001b[0m\u001b[1;33m\u001b[0m\u001b[0m\n",
      "\u001b[1;31mException\u001b[0m: 이 메소드는 반드시 구현되어야 합니다"
     ]
    }
   ],
   "source": [
    "s1.calc_area() # calc_area()호출시 오류 발생"
   ]
  },
  {
   "cell_type": "code",
   "execution_count": 5,
   "metadata": {
    "ExecuteTime": {
     "end_time": "2021-02-26T05:43:11.146485Z",
     "start_time": "2021-02-26T05:43:11.142495Z"
    }
   },
   "outputs": [],
   "source": [
    "t1 = Triangle(10, 20)\n",
    "t2 = Triangle(3, 4, 5, 5)"
   ]
  },
  {
   "cell_type": "code",
   "execution_count": 6,
   "metadata": {
    "ExecuteTime": {
     "end_time": "2021-02-26T05:47:28.971945Z",
     "start_time": "2021-02-26T05:47:28.966957Z"
    }
   },
   "outputs": [
    {
     "name": "stdout",
     "output_type": "stream",
     "text": [
      "x좌표값:0, y좌표값:0, width:10, height:20\n",
      "x좌표값:5, y좌표값:5, width:3, height:4\n",
      "Triangle 객체 갯수 : 2\n",
      "Triangle 객체 갯수 : 2\n",
      "Triangle 객체 갯수 : 2\n"
     ]
    }
   ],
   "source": [
    "print(t1)\n",
    "print(t2)\n",
    "print('Triangle 객체 갯수 :', Triangle.get_count())\n",
    "print('Triangle 객체 갯수 :', t1.get_count())\n",
    "print('Triangle 객체 갯수 :', t2.get_count())"
   ]
  },
  {
   "cell_type": "code",
   "execution_count": 8,
   "metadata": {
    "ExecuteTime": {
     "end_time": "2021-02-26T05:47:46.578435Z",
     "start_time": "2021-02-26T05:47:46.574431Z"
    }
   },
   "outputs": [
    {
     "name": "stdout",
     "output_type": "stream",
     "text": [
      "x좌표값:100, y좌표값:100, width:10, height:20\n"
     ]
    }
   ],
   "source": [
    "t1.move(50,50)\n",
    "print(t1)"
   ]
  },
  {
   "cell_type": "code",
   "execution_count": 10,
   "metadata": {
    "ExecuteTime": {
     "end_time": "2021-02-26T05:51:54.555475Z",
     "start_time": "2021-02-26T05:51:54.550516Z"
    }
   },
   "outputs": [
    {
     "name": "stdout",
     "output_type": "stream",
     "text": [
      "lee\n"
     ]
    }
   ],
   "source": [
    "#dict\n",
    "class person:\n",
    "    def __init__(self,name=\"lee\"):\n",
    "        self.name = name\n",
    "    def __del__(self):\n",
    "        pass\n",
    "    def __str__(self):\n",
    "        return self.name\n",
    "p = person()\n",
    "print(p)"
   ]
  },
  {
   "cell_type": "code",
   "execution_count": 13,
   "metadata": {
    "ExecuteTime": {
     "end_time": "2021-02-26T05:52:20.758646Z",
     "start_time": "2021-02-26T05:52:20.750655Z"
    }
   },
   "outputs": [
    {
     "data": {
      "text/plain": [
       "{'name': 'lee'}"
      ]
     },
     "execution_count": 13,
     "metadata": {},
     "output_type": "execute_result"
    }
   ],
   "source": [
    "p.__dict__ #클래스의 멤버들"
   ]
  }
 ],
 "metadata": {
  "kernelspec": {
   "display_name": "Python 3",
   "language": "python",
   "name": "python3"
  },
  "language_info": {
   "codemirror_mode": {
    "name": "ipython",
    "version": 3
   },
   "file_extension": ".py",
   "mimetype": "text/x-python",
   "name": "python",
   "nbconvert_exporter": "python",
   "pygments_lexer": "ipython3",
   "version": "3.8.5"
  },
  "toc": {
   "base_numbering": 1,
   "nav_menu": {},
   "number_sections": true,
   "sideBar": false,
   "skip_h1_title": false,
   "title_cell": "Table of Contents",
   "title_sidebar": "Contents",
   "toc_cell": false,
   "toc_position": {
    "height": "757px",
    "left": "1626px",
    "top": "92px",
    "width": "269px"
   },
   "toc_section_display": true,
   "toc_window_display": true
  },
  "varInspector": {
   "cols": {
    "lenName": 16,
    "lenType": 16,
    "lenVar": 40
   },
   "kernels_config": {
    "python": {
     "delete_cmd_postfix": "",
     "delete_cmd_prefix": "del ",
     "library": "var_list.py",
     "varRefreshCmd": "print(var_dic_list())"
    },
    "r": {
     "delete_cmd_postfix": ") ",
     "delete_cmd_prefix": "rm(",
     "library": "var_list.r",
     "varRefreshCmd": "cat(var_dic_list()) "
    }
   },
   "types_to_exclude": [
    "module",
    "function",
    "builtin_function_or_method",
    "instance",
    "_Feature"
   ],
   "window_display": false
  }
 },
 "nbformat": 4,
 "nbformat_minor": 4
}
