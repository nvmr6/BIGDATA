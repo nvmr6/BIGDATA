{
 "cells": [
  {
   "cell_type": "markdown",
   "metadata": {},
   "source": [
    "# ch08 예외 처리"
   ]
  },
  {
   "cell_type": "markdown",
   "metadata": {},
   "source": [
    "## 예외 처리\n",
    "- 예외가 날 가능성이 있는 부분에 대해 미리 프로그래밍"
   ]
  },
  {
   "cell_type": "code",
   "execution_count": 2,
   "metadata": {
    "ExecuteTime": {
     "end_time": "2021-02-26T06:10:31.421752Z",
     "start_time": "2021-02-26T06:10:28.028141Z"
    }
   },
   "outputs": [
    {
     "name": "stdout",
     "output_type": "stream",
     "text": [
      "file name: hello\n"
     ]
    },
    {
     "data": {
      "text/plain": [
       "'UTF-8\\n'"
      ]
     },
     "execution_count": 2,
     "metadata": {},
     "output_type": "execute_result"
    }
   ],
   "source": [
    "filename = input('file name: ')\n",
    "f = open('data/'+filename+'.txt','r')\n",
    "firstline = f.readline()\n",
    "f.close()\n",
    "firstline"
   ]
  },
  {
   "cell_type": "code",
   "execution_count": 3,
   "metadata": {
    "ExecuteTime": {
     "end_time": "2021-02-26T06:14:25.974071Z",
     "start_time": "2021-02-26T06:14:20.627840Z"
    }
   },
   "outputs": [
    {
     "name": "stdout",
     "output_type": "stream",
     "text": [
      "정수 입력: s\n"
     ]
    },
    {
     "ename": "ValueError",
     "evalue": "invalid literal for int() with base 10: 's'",
     "output_type": "error",
     "traceback": [
      "\u001b[1;31m---------------------------------------------------------------------------\u001b[0m",
      "\u001b[1;31mValueError\u001b[0m                                Traceback (most recent call last)",
      "\u001b[1;32m<ipython-input-3-d245f878dec8>\u001b[0m in \u001b[0;36m<module>\u001b[1;34m\u001b[0m\n\u001b[1;32m----> 1\u001b[1;33m \u001b[0mnum\u001b[0m \u001b[1;33m=\u001b[0m\u001b[0mint\u001b[0m\u001b[1;33m(\u001b[0m\u001b[0minput\u001b[0m\u001b[1;33m(\u001b[0m\u001b[1;34m\"정수 입력: \"\u001b[0m\u001b[1;33m)\u001b[0m\u001b[1;33m)\u001b[0m\u001b[1;33m\u001b[0m\u001b[1;33m\u001b[0m\u001b[0m\n\u001b[0m",
      "\u001b[1;31mValueError\u001b[0m: invalid literal for int() with base 10: 's'"
     ]
    }
   ],
   "source": [
    "num =int(input(\"정수 입력: \"))"
   ]
  },
  {
   "cell_type": "code",
   "execution_count": 4,
   "metadata": {
    "ExecuteTime": {
     "end_time": "2021-02-26T06:14:53.002989Z",
     "start_time": "2021-02-26T06:14:51.724124Z"
    }
   },
   "outputs": [
    {
     "name": "stdout",
     "output_type": "stream",
     "text": [
      "정수 입력: 0\n"
     ]
    },
    {
     "ename": "ZeroDivisionError",
     "evalue": "division by zero",
     "output_type": "error",
     "traceback": [
      "\u001b[1;31m---------------------------------------------------------------------------\u001b[0m",
      "\u001b[1;31mZeroDivisionError\u001b[0m                         Traceback (most recent call last)",
      "\u001b[1;32m<ipython-input-4-811cad1d00c7>\u001b[0m in \u001b[0;36m<module>\u001b[1;34m\u001b[0m\n\u001b[0;32m      1\u001b[0m \u001b[0mnum\u001b[0m \u001b[1;33m=\u001b[0m\u001b[0mint\u001b[0m\u001b[1;33m(\u001b[0m\u001b[0minput\u001b[0m\u001b[1;33m(\u001b[0m\u001b[1;34m\"정수 입력: \"\u001b[0m\u001b[1;33m)\u001b[0m\u001b[1;33m)\u001b[0m\u001b[1;33m\u001b[0m\u001b[1;33m\u001b[0m\u001b[0m\n\u001b[1;32m----> 2\u001b[1;33m \u001b[1;36m10\u001b[0m\u001b[1;33m/\u001b[0m\u001b[0mnum\u001b[0m\u001b[1;33m\u001b[0m\u001b[1;33m\u001b[0m\u001b[0m\n\u001b[0m",
      "\u001b[1;31mZeroDivisionError\u001b[0m: division by zero"
     ]
    }
   ],
   "source": [
    "num =int(input(\"정수 입력: \"))\n",
    "10/num"
   ]
  },
  {
   "cell_type": "markdown",
   "metadata": {},
   "source": [
    "## 예외 처리하기(try ~ except) "
   ]
  },
  {
   "cell_type": "code",
   "execution_count": null,
   "metadata": {
    "ExecuteTime": {
     "end_time": "2021-02-26T06:47:37.313141Z",
     "start_time": "2021-02-26T06:44:30.953Z"
    }
   },
   "outputs": [],
   "source": [
    "while True:\n",
    "    try:\n",
    "        num =int(input(\"정수 입력: \"))\n",
    "        print(\"입력한 정수는 {}\".format(num))\n",
    "        break;\n",
    "    except ValueError as e:\n",
    "        print(\"not valid\")"
   ]
  },
  {
   "cell_type": "code",
   "execution_count": null,
   "metadata": {
    "ExecuteTime": {
     "end_time": "2021-02-26T06:52:44.805559Z",
     "start_time": "2021-02-26T06:52:41.687Z"
    }
   },
   "outputs": [],
   "source": [
    "while True:\n",
    "    try:\n",
    "        num =int(input(\"정수 입력: \"))\n",
    "        print(\"입력한 정수는 {}\".format(num))\n",
    "        print(100/num)\n",
    "        break;\n",
    "    except ValueError:\n",
    "        print(\"not valid\")\n",
    "    except ZeroDivisionError:\n",
    "        print(\"cannot divide by 0\")\n",
    "#최상위 예외: Exception > 상단에 작성시 모든 예외 걸림"
   ]
  },
  {
   "cell_type": "code",
   "execution_count": 30,
   "metadata": {
    "ExecuteTime": {
     "end_time": "2021-02-26T07:05:32.150056Z",
     "start_time": "2021-02-26T07:05:32.145070Z"
    }
   },
   "outputs": [
    {
     "name": "stdout",
     "output_type": "stream",
     "text": [
      "UTF-8\n",
      "Hello\n"
     ]
    }
   ],
   "source": [
    "#try에 예외 발생시 except, 그렇지 않으면 else 실행\n",
    "try:\n",
    "    f = open('data/hello.txt','r')\n",
    "except FileNotFoundError:\n",
    "    print(\"no file\")\n",
    "else:\n",
    "    data = f.read()\n",
    "    print(data)\n",
    "    f.close()"
   ]
  },
  {
   "cell_type": "code",
   "execution_count": 32,
   "metadata": {
    "ExecuteTime": {
     "end_time": "2021-02-26T07:12:31.169042Z",
     "start_time": "2021-02-26T07:12:25.913213Z"
    }
   },
   "outputs": [
    {
     "name": "stdout",
     "output_type": "stream",
     "text": [
      "정수 입력: e\n",
      "not valid\n",
      "(\"invalid literal for int() with base 10: 'e'\",)\n",
      "정수 입력: 2\n",
      "입력한 정수는 2\n",
      "50.0\n"
     ]
    }
   ],
   "source": [
    "#예외 인수 e\n",
    "while True:\n",
    "    try:\n",
    "        num =int(input(\"정수 입력: \"))\n",
    "        print(\"입력한 정수는 {}\".format(num))\n",
    "        print(100/num)\n",
    "        break;\n",
    "    except ValueError as e:\n",
    "        print(\"not valid\")\n",
    "        print(e.args) #튜플 타입\n",
    "    except ZeroDivisionError:\n",
    "        print(\"cannot divide by 0\")"
   ]
  },
  {
   "cell_type": "markdown",
   "metadata": {},
   "source": [
    "## 강제 예외 발생"
   ]
  },
  {
   "cell_type": "code",
   "execution_count": 33,
   "metadata": {
    "ExecuteTime": {
     "end_time": "2021-02-26T07:14:48.360846Z",
     "start_time": "2021-02-26T07:14:48.351881Z"
    }
   },
   "outputs": [
    {
     "ename": "NameError",
     "evalue": "error",
     "output_type": "error",
     "traceback": [
      "\u001b[1;31m---------------------------------------------------------------------------\u001b[0m",
      "\u001b[1;31mNameError\u001b[0m                                 Traceback (most recent call last)",
      "\u001b[1;32m<ipython-input-33-dbff0e85b15b>\u001b[0m in \u001b[0;36m<module>\u001b[1;34m\u001b[0m\n\u001b[1;32m----> 1\u001b[1;33m \u001b[1;32mraise\u001b[0m \u001b[0mNameError\u001b[0m\u001b[1;33m(\u001b[0m\u001b[1;34m'error'\u001b[0m\u001b[1;33m)\u001b[0m\u001b[1;33m\u001b[0m\u001b[1;33m\u001b[0m\u001b[0m\n\u001b[0m",
      "\u001b[1;31mNameError\u001b[0m: error"
     ]
    }
   ],
   "source": [
    "raise NameError('error')"
   ]
  },
  {
   "cell_type": "code",
   "execution_count": 36,
   "metadata": {
    "ExecuteTime": {
     "end_time": "2021-02-26T07:16:16.306834Z",
     "start_time": "2021-02-26T07:16:16.295851Z"
    }
   },
   "outputs": [
    {
     "ename": "Exception",
     "evalue": "it's 0",
     "output_type": "error",
     "traceback": [
      "\u001b[1;31m---------------------------------------------------------------------------\u001b[0m",
      "\u001b[1;31mException\u001b[0m                                 Traceback (most recent call last)",
      "\u001b[1;32m<ipython-input-36-a22f6aeed034>\u001b[0m in \u001b[0;36m<module>\u001b[1;34m\u001b[0m\n\u001b[0;32m      3\u001b[0m         \u001b[1;32mraise\u001b[0m \u001b[0mException\u001b[0m\u001b[1;33m(\u001b[0m\u001b[1;34m\"it's 0\"\u001b[0m\u001b[1;33m)\u001b[0m\u001b[1;33m\u001b[0m\u001b[1;33m\u001b[0m\u001b[0m\n\u001b[0;32m      4\u001b[0m     \u001b[0mprint\u001b[0m\u001b[1;33m(\u001b[0m\u001b[0mdata\u001b[0m\u001b[1;33m,\u001b[0m \u001b[0minsert\u001b[0m\u001b[1;33m)\u001b[0m\u001b[1;33m\u001b[0m\u001b[1;33m\u001b[0m\u001b[0m\n\u001b[1;32m----> 5\u001b[1;33m \u001b[0minsert\u001b[0m\u001b[1;33m(\u001b[0m\u001b[1;33m[\u001b[0m\u001b[1;33m]\u001b[0m\u001b[1;33m)\u001b[0m\u001b[1;33m\u001b[0m\u001b[1;33m\u001b[0m\u001b[0m\n\u001b[0m",
      "\u001b[1;32m<ipython-input-36-a22f6aeed034>\u001b[0m in \u001b[0;36minsert\u001b[1;34m(data)\u001b[0m\n\u001b[0;32m      1\u001b[0m \u001b[1;32mdef\u001b[0m \u001b[0minsert\u001b[0m\u001b[1;33m(\u001b[0m\u001b[0mdata\u001b[0m\u001b[1;33m)\u001b[0m\u001b[1;33m:\u001b[0m\u001b[1;33m\u001b[0m\u001b[1;33m\u001b[0m\u001b[0m\n\u001b[0;32m      2\u001b[0m     \u001b[1;32mif\u001b[0m \u001b[0mlen\u001b[0m\u001b[1;33m(\u001b[0m\u001b[0mdata\u001b[0m\u001b[1;33m)\u001b[0m\u001b[1;33m==\u001b[0m\u001b[1;36m0\u001b[0m\u001b[1;33m:\u001b[0m\u001b[1;33m\u001b[0m\u001b[1;33m\u001b[0m\u001b[0m\n\u001b[1;32m----> 3\u001b[1;33m         \u001b[1;32mraise\u001b[0m \u001b[0mException\u001b[0m\u001b[1;33m(\u001b[0m\u001b[1;34m\"it's 0\"\u001b[0m\u001b[1;33m)\u001b[0m\u001b[1;33m\u001b[0m\u001b[1;33m\u001b[0m\u001b[0m\n\u001b[0m\u001b[0;32m      4\u001b[0m     \u001b[0mprint\u001b[0m\u001b[1;33m(\u001b[0m\u001b[0mdata\u001b[0m\u001b[1;33m,\u001b[0m \u001b[0minsert\u001b[0m\u001b[1;33m)\u001b[0m\u001b[1;33m\u001b[0m\u001b[1;33m\u001b[0m\u001b[0m\n\u001b[0;32m      5\u001b[0m \u001b[0minsert\u001b[0m\u001b[1;33m(\u001b[0m\u001b[1;33m[\u001b[0m\u001b[1;33m]\u001b[0m\u001b[1;33m)\u001b[0m\u001b[1;33m\u001b[0m\u001b[1;33m\u001b[0m\u001b[0m\n",
      "\u001b[1;31mException\u001b[0m: it's 0"
     ]
    }
   ],
   "source": [
    "def insert(data):\n",
    "    if len(data)==0:\n",
    "        raise Exception(\"it's 0\")\n",
    "    print(data, insert)\n",
    "insert([])"
   ]
  },
  {
   "cell_type": "markdown",
   "metadata": {},
   "source": [
    "## raise로 추상 클래스 정의하기\n",
    "- 추상 클래스는 존재하지 않으나 raise로 흉내냄\n",
    "\n",
    "## 사용자 정의 예외"
   ]
  },
  {
   "cell_type": "code",
   "execution_count": 37,
   "metadata": {
    "ExecuteTime": {
     "end_time": "2021-02-26T07:40:08.420110Z",
     "start_time": "2021-02-26T07:40:08.416147Z"
    }
   },
   "outputs": [],
   "source": [
    "class abstractError(Exception):\n",
    "    \"추상 클래스 이용하여 객체 생성 시 나는 오류\"\n",
    "    def __init__(self):\n",
    "        Exception.__init__(self, \"shape is abstract class\")"
   ]
  },
  {
   "cell_type": "code",
   "execution_count": 38,
   "metadata": {
    "ExecuteTime": {
     "end_time": "2021-02-26T07:41:56.762291Z",
     "start_time": "2021-02-26T07:41:56.759324Z"
    }
   },
   "outputs": [],
   "source": [
    "class shape:\n",
    "    def __init__(self):\n",
    "        raise abstractError()\n",
    "    def cal_area(self):\n",
    "        raise abstractError()"
   ]
  },
  {
   "cell_type": "code",
   "execution_count": 39,
   "metadata": {
    "ExecuteTime": {
     "end_time": "2021-02-26T07:42:59.225794Z",
     "start_time": "2021-02-26T07:42:59.222797Z"
    }
   },
   "outputs": [],
   "source": [
    "class circle(shape):\n",
    "    def __init__(self, r):\n",
    "        self.r = r\n",
    "    def cal_area(self):\n",
    "        return r**2*3.14"
   ]
  },
  {
   "cell_type": "markdown",
   "metadata": {},
   "source": [
    "## 파일 정리 작업"
   ]
  },
  {
   "cell_type": "code",
   "execution_count": 40,
   "metadata": {
    "ExecuteTime": {
     "end_time": "2021-02-26T07:47:00.114471Z",
     "start_time": "2021-02-26T07:46:57.782992Z"
    }
   },
   "outputs": [
    {
     "name": "stdout",
     "output_type": "stream",
     "text": [
      "file name: hello\n",
      "['UTF-8\\n', 'Hello']\n"
     ]
    }
   ],
   "source": [
    "filename = input('file name: ')\n",
    "try:\n",
    "    f = open('data/'+filename+'.txt','r')\n",
    "    lines = f.readlines()\n",
    "    print(lines)\n",
    "except:\n",
    "    pass\n",
    "finally:\n",
    "    f.close()"
   ]
  },
  {
   "cell_type": "code",
   "execution_count": 41,
   "metadata": {
    "ExecuteTime": {
     "end_time": "2021-02-26T07:51:21.899435Z",
     "start_time": "2021-02-26T07:51:21.895447Z"
    }
   },
   "outputs": [
    {
     "name": "stdout",
     "output_type": "stream",
     "text": [
      "['UTF-8\\n', 'Hello']\n"
     ]
    }
   ],
   "source": [
    "with open('data/hello.txt', 'r') as f: #자동으로 close\n",
    "    lines = f.readlines()\n",
    "    print(lines)"
   ]
  },
  {
   "cell_type": "code",
   "execution_count": 43,
   "metadata": {
    "ExecuteTime": {
     "end_time": "2021-02-26T07:56:28.536091Z",
     "start_time": "2021-02-26T07:56:23.270012Z"
    }
   },
   "outputs": [
    {
     "name": "stdout",
     "output_type": "stream",
     "text": [
      "실수1 입력: \n",
      "유효하지 않습니다. 다시 시도하세요.\n",
      "실수1 입력: 12\n",
      "실수2 입력: 2\n",
      "입력한 정수는 12.0, 2.0\n",
      "12.0를 2.0로 나눈 값은 6.0입니다. \n"
     ]
    }
   ],
   "source": [
    "while True:\n",
    "    try:\n",
    "        num1 =float(input(\"실수1 입력: \"))\n",
    "        num2 =float(input(\"실수2 입력: \"))\n",
    "        print(\"입력한 정수는 {}, {}\".format(num1, num2))\n",
    "        print(\"{}를 {}로 나눈 값은 {}입니다. \".format(num1, num2,num1/num2))\n",
    "        break;\n",
    "    except :\n",
    "        print(\"유효하지 않습니다. 다시 시도하세요.\")"
   ]
  },
  {
   "cell_type": "code",
   "execution_count": 44,
   "metadata": {
    "ExecuteTime": {
     "end_time": "2021-02-26T07:56:39.687752Z",
     "start_time": "2021-02-26T07:56:31.141255Z"
    }
   },
   "outputs": [
    {
     "name": "stdout",
     "output_type": "stream",
     "text": [
      "실수1 입력: 12\n",
      "실수2 입력: ㄷ\n",
      "유효하지 않은 숫자입니다\n",
      "실수1 입력: 12\n",
      "실수2 입력: 0\n",
      "입력한 정수는 12.0, 0.0\n",
      "0으로 나눌 수 없습니다.\n",
      "실수1 입력: 12\n",
      "실수2 입력: 2\n",
      "입력한 정수는 12.0, 2.0\n",
      "12.0를 2.0로 나눈 값은 6.0입니다. \n"
     ]
    }
   ],
   "source": [
    "while True:\n",
    "    try:\n",
    "        num1 =float(input(\"실수1 입력: \"))\n",
    "        num2 =float(input(\"실수2 입력: \"))\n",
    "        print(\"입력한 정수는 {}, {}\".format(num1, num2))\n",
    "        print(\"{}를 {}로 나눈 값은 {}입니다. \".format(num1, num2,num1/num2))\n",
    "        break;\n",
    "    except ValueError:\n",
    "        print(\"유효하지 않은 숫자입니다\")\n",
    "    except ZeroDivisionError:\n",
    "        print(\"0으로 나눌 수 없습니다.\")"
   ]
  },
  {
   "cell_type": "code",
   "execution_count": null,
   "metadata": {},
   "outputs": [],
   "source": []
  },
  {
   "cell_type": "code",
   "execution_count": null,
   "metadata": {},
   "outputs": [],
   "source": []
  },
  {
   "cell_type": "code",
   "execution_count": null,
   "metadata": {},
   "outputs": [],
   "source": []
  },
  {
   "cell_type": "code",
   "execution_count": null,
   "metadata": {},
   "outputs": [],
   "source": []
  },
  {
   "cell_type": "code",
   "execution_count": null,
   "metadata": {},
   "outputs": [],
   "source": []
  },
  {
   "cell_type": "code",
   "execution_count": null,
   "metadata": {},
   "outputs": [],
   "source": []
  },
  {
   "cell_type": "code",
   "execution_count": null,
   "metadata": {},
   "outputs": [],
   "source": []
  },
  {
   "cell_type": "code",
   "execution_count": null,
   "metadata": {},
   "outputs": [],
   "source": []
  },
  {
   "cell_type": "code",
   "execution_count": null,
   "metadata": {},
   "outputs": [],
   "source": []
  }
 ],
 "metadata": {
  "kernelspec": {
   "display_name": "Python 3",
   "language": "python",
   "name": "python3"
  },
  "toc": {
   "base_numbering": 1,
   "nav_menu": {},
   "number_sections": true,
   "sideBar": true,
   "skip_h1_title": false,
   "title_cell": "Table of Contents",
   "title_sidebar": "Contents",
   "toc_cell": false,
   "toc_position": {},
   "toc_section_display": true,
   "toc_window_display": false
  },
  "varInspector": {
   "cols": {
    "lenName": 16,
    "lenType": 16,
    "lenVar": 40
   },
   "kernels_config": {
    "python": {
     "delete_cmd_postfix": "",
     "delete_cmd_prefix": "del ",
     "library": "var_list.py",
     "varRefreshCmd": "print(var_dic_list())"
    },
    "r": {
     "delete_cmd_postfix": ") ",
     "delete_cmd_prefix": "rm(",
     "library": "var_list.r",
     "varRefreshCmd": "cat(var_dic_list()) "
    }
   },
   "types_to_exclude": [
    "module",
    "function",
    "builtin_function_or_method",
    "instance",
    "_Feature"
   ],
   "window_display": false
  }
 },
 "nbformat": 4,
 "nbformat_minor": 4
}
