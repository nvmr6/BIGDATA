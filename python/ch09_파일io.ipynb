{
 "cells": [
  {
   "cell_type": "markdown",
   "metadata": {},
   "source": [
    "# ch08 입출력 프로그래밍"
   ]
  },
  {
   "cell_type": "markdown",
   "metadata": {},
   "source": [
    "## 1절. 파일에 데이터 저장하고 불러오기"
   ]
  },
  {
   "cell_type": "code",
   "execution_count": 4,
   "metadata": {},
   "outputs": [
    {
     "name": "stdout",
     "output_type": "stream",
     "text": [
      "True\n"
     ]
    }
   ],
   "source": [
    "f = open('data/ch09_sample.txt','w')\n",
    "print(f.writable())"
   ]
  },
  {
   "cell_type": "code",
   "execution_count": 5,
   "metadata": {},
   "outputs": [
    {
     "data": {
      "text/plain": [
       "24"
      ]
     },
     "execution_count": 5,
     "metadata": {},
     "output_type": "execute_result"
    }
   ],
   "source": [
    "f.write('Hello\\nWorld\\nHello\\nPython')"
   ]
  },
  {
   "cell_type": "code",
   "execution_count": 6,
   "metadata": {},
   "outputs": [],
   "source": [
    "f.close()"
   ]
  },
  {
   "cell_type": "code",
   "execution_count": 7,
   "metadata": {},
   "outputs": [
    {
     "name": "stdout",
     "output_type": "stream",
     "text": [
      "True\n"
     ]
    }
   ],
   "source": [
    "# with구문 이용하면 파일을 열어 사용한후 매번 닫아주는 코드를 작성하지 않아도 됨\n",
    "with open('data/ch09_sample.txt', 'w') as f:\n",
    "    print(f.writable())\n",
    "    f.write('Python is easy.\\nPython is smart.')"
   ]
  },
  {
   "cell_type": "code",
   "execution_count": 9,
   "metadata": {},
   "outputs": [],
   "source": [
    "with open('data/ch09_sample.txt', 'a') as f:\n",
    "    print(\"프린트 함수로 파일 쓰기가 가능합니다.\", file=f)"
   ]
  },
  {
   "cell_type": "code",
   "execution_count": 12,
   "metadata": {},
   "outputs": [],
   "source": [
    "with open('data/ch09_sample.txt', 'a') as f:\n",
    "    f.write('1 방법. Hello\\nWorld\\n')\n",
    "    textlist = ['Python is easy.', 'R is easy.', 'Java is easy.']\n",
    "    f.write('2 방법.')\n",
    "    for line in textlist:\n",
    "        f.write(line+'\\n')\n",
    "    f.write('3 방법.')\n",
    "    f.writelines(textlist)"
   ]
  },
  {
   "cell_type": "code",
   "execution_count": 13,
   "metadata": {},
   "outputs": [
    {
     "name": "stdout",
     "output_type": "stream",
     "text": [
      "['Python is easy.\\n', 'Python is smart.프린트 함수로 파일 쓰기가 가능합니다.\\n', '프린트 함수로 파일 쓰기가 가능합니다.\\n', '1 방법. Hello\\n', 'World\\n', '2 방법.1 방법. Hello\\n', 'World\\n', '2 방법.Python is easy.R is easy.Java is easy.3 방법.Python is easy.R is easy.Java is easy.1 방법. Hello\\n', 'World\\n', '2 방법.Python is easy.\\n', 'R is easy.\\n', 'Java is easy.\\n', '3 방법.Python is easy.R is easy.Java is easy.']\n"
     ]
    }
   ],
   "source": [
    "with open('data/ch09_sample.txt', 'r') as txtfile:\n",
    "    lines = txtfile.readlines() # 한꺼번 txtfile읽기\n",
    "    print(lines)"
   ]
  },
  {
   "cell_type": "code",
   "execution_count": 16,
   "metadata": {},
   "outputs": [
    {
     "name": "stdout",
     "output_type": "stream",
     "text": [
      "Python is easy.\n",
      "Python is smart.프린트 함수로 파일 쓰기가 가능합니다.\n",
      "프린트 함수로 파일 쓰기가 가능합니다.\n",
      "1 방법. Hello\n",
      "World\n",
      "2 방법.1 방법. Hello\n",
      "World\n",
      "2 방법.Python is easy.R is easy.Java is easy.3 방법.Python is easy.R is easy.Java is easy.1 방법. Hello\n",
      "World\n",
      "2 방법.Python is easy.\n",
      "R is easy.\n",
      "Java is easy.\n",
      "3 방법.Python is easy.R is easy.Java is easy.\n"
     ]
    }
   ],
   "source": [
    "# 파일을 통째로 읽어 한줄씩 출력\n",
    "with open('data/ch09_sample.txt', 'r') as f:\n",
    "    lines = f.readlines() \n",
    "    for line in lines:\n",
    "        #print(line, end='')\n",
    "        print(line.strip())"
   ]
  },
  {
   "cell_type": "code",
   "execution_count": 17,
   "metadata": {},
   "outputs": [
    {
     "name": "stdout",
     "output_type": "stream",
     "text": [
      "Python is easy.\n",
      "Python is smart.프린트 함수로 파일 쓰기가 가능합니다.\n",
      "프린트 함수로 파일 쓰기가 가능합니다.\n",
      "1 방법. Hello\n",
      "World\n",
      "2 방법.1 방법. Hello\n",
      "World\n",
      "2 방법.Python is easy.R is easy.Java is easy.3 방법.Python is easy.R is easy.Java is easy.1 방법. Hello\n",
      "World\n",
      "2 방법.Python is easy.\n",
      "R is easy.\n",
      "Java is easy.\n",
      "3 방법.Python is easy.R is easy.Java is easy."
     ]
    }
   ],
   "source": [
    "# 파일을 한줄읽고 한줄 출력하고, 한줄 읽고 한줄 출력,......\n",
    "with open('data/ch09_sample.txt', 'r') as f:\n",
    "    line = f.readline()\n",
    "    while line != '':\n",
    "        print(line, end='')\n",
    "        line = f.readline()"
   ]
  },
  {
   "cell_type": "markdown",
   "metadata": {},
   "source": [
    "## 2절. 피클을 이용한 객체 저장 및 불러오기"
   ]
  },
  {
   "cell_type": "markdown",
   "metadata": {},
   "source": [
    "### 2.1 형식이 있는 텍스트 데이터"
   ]
  },
  {
   "cell_type": "code",
   "execution_count": 18,
   "metadata": {},
   "outputs": [
    {
     "name": "stdout",
     "output_type": "stream",
     "text": [
      "이름:홍길동\t나이:20\t메일:kildong@tjoeun.co.kr\t주소:서울시 강동구\n",
      "이름:홍길순\t나이:22\t메일:kilsun@tjoeun.co.kr\t주소:서울시 마포구\n"
     ]
    }
   ],
   "source": [
    "with open('data/ch09_member.txt', 'r', encoding='UTF8') as f:\n",
    "    lines = f.readlines()\n",
    "    for line in lines:\n",
    "        data = line.strip().split(',')\n",
    "        name = data[0]\n",
    "        age = int(data[1].strip())\n",
    "        email = data[2].strip()\n",
    "        address = data[3].strip()\n",
    "        print(\"이름:{}\\t나이:{}\\t메일:{}\\t주소:{}\".format(name, age, email, address))    "
   ]
  },
  {
   "cell_type": "markdown",
   "metadata": {},
   "source": [
    "### 2.2 피클링"
   ]
  },
  {
   "cell_type": "code",
   "execution_count": 19,
   "metadata": {},
   "outputs": [],
   "source": [
    "class Member:\n",
    "    def __init__(self, name, age, email, address):\n",
    "        self.name = name\n",
    "        self.age = age\n",
    "        self.email = email\n",
    "        self.address = address\n",
    "    def __str__(self):\n",
    "        return \"이름:{}\\t나이:{}\\t메일:{}\\t주소:{}\".format(self.name, self.age, \n",
    "                                                   self.email, self.address)"
   ]
  },
  {
   "cell_type": "code",
   "execution_count": 20,
   "metadata": {},
   "outputs": [],
   "source": [
    "user1 = Member(\"홍길동\", 20, \"hong@hong.com\",\"서울\")\n",
    "user2 = Member(\"김길동\", 30, \"hong@hong.com\",\"부산\")\n",
    "user3 = Member(\"박길동\", 40, \"hong@hong.com\",\"창원\")\n",
    "user_list = [user1, user2, user3]"
   ]
  },
  {
   "cell_type": "code",
   "execution_count": 22,
   "metadata": {},
   "outputs": [
    {
     "name": "stdout",
     "output_type": "stream",
     "text": [
      "이름:홍길동\t나이:20\t메일:hong@hong.com\t주소:서울\n",
      "이름:김길동\t나이:30\t메일:hong@hong.com\t주소:부산\n",
      "이름:박길동\t나이:40\t메일:hong@hong.com\t주소:창원\n"
     ]
    }
   ],
   "source": [
    "for user in user_list:\n",
    "    print(user)"
   ]
  },
  {
   "cell_type": "code",
   "execution_count": 23,
   "metadata": {},
   "outputs": [],
   "source": [
    "with open('data/ch09_member.data','wb') as f:\n",
    "    import pickle\n",
    "    pickle.dump(user_list,f)"
   ]
  },
  {
   "cell_type": "code",
   "execution_count": 24,
   "metadata": {},
   "outputs": [],
   "source": [
    "with open('data/ch09_member.data', 'rb') as f:\n",
    "    ul = pickle.load(f)"
   ]
  },
  {
   "cell_type": "code",
   "execution_count": 25,
   "metadata": {},
   "outputs": [
    {
     "name": "stdout",
     "output_type": "stream",
     "text": [
      "이름:홍길동\t나이:20\t메일:hong@hong.com\t주소:서울\n",
      "이름:김길동\t나이:30\t메일:hong@hong.com\t주소:부산\n",
      "이름:박길동\t나이:40\t메일:hong@hong.com\t주소:창원\n"
     ]
    }
   ],
   "source": [
    "for user in ul:\n",
    "    print(user)"
   ]
  },
  {
   "cell_type": "markdown",
   "metadata": {},
   "source": [
    "## 3절. CSV 형식 파일 읽기/쓰기"
   ]
  },
  {
   "cell_type": "markdown",
   "metadata": {},
   "source": [
    "### 3.1 reader"
   ]
  },
  {
   "cell_type": "code",
   "execution_count": 7,
   "metadata": {},
   "outputs": [
    {
     "name": "stdout",
     "output_type": "stream",
     "text": [
      "['홍길동', '20', 'kildong@hong.com', '서울시강동구']\n",
      "['윤길동', '30', 'yunkil@hong.com', '서울시강서구']\n",
      "['홍길가', '25', 'hongka@hong.com', '서울시마포구']\n"
     ]
    }
   ],
   "source": [
    "# UTF8로 인코딩된 csv파일 read\n",
    "import csv\n",
    "with open('data/ch09_member1.csv', 'r', encoding='UTF8') as f:\n",
    "    reader = csv.reader(f)\n",
    "    #print(list(reader))\n",
    "    for row in reader:\n",
    "        print(row)"
   ]
  },
  {
   "cell_type": "code",
   "execution_count": 8,
   "metadata": {},
   "outputs": [
    {
     "name": "stdout",
     "output_type": "stream",
     "text": [
      "마길동 - 20 - ma@hong.com - 광주\n",
      "석길동 - 25 - ki@hong.com - 마산\n",
      "탁길동 - 22 - ta@hong.com - 울산\n"
     ]
    }
   ],
   "source": [
    "# CP949로 인코딩 된 csv 파일 read (ch09_member1-1.csv)\n",
    "import csv\n",
    "with open('data/ch09_member1-1.csv') as f:\n",
    "    reader = csv.reader(f)\n",
    "    for row in reader:\n",
    "        print(' - '.join(row))"
   ]
  },
  {
   "cell_type": "code",
   "execution_count": 10,
   "metadata": {},
   "outputs": [
    {
     "name": "stdout",
     "output_type": "stream",
     "text": [
      "['홍길동', 20.0, 'kildong@hong.com', '서울시강동구']\n",
      "['윤길동', 30.0, 'yunkil@hong.com', '서울시강서구']\n",
      "['홍길가', 25.0, 'hongka@hong.com', '서울시마포구']\n"
     ]
    }
   ],
   "source": [
    "# numeric엔 따옴표를 뺌\n",
    "with open('data/ch09_member1.csv', encoding='utf8') as f:\n",
    "    reader = csv.reader(f, quotechar='\"', quoting=csv.QUOTE_NONNUMERIC)\n",
    "    for row in reader:\n",
    "        print(row)"
   ]
  },
  {
   "cell_type": "markdown",
   "metadata": {},
   "source": [
    "### 3.2 writer"
   ]
  },
  {
   "cell_type": "code",
   "execution_count": 12,
   "metadata": {},
   "outputs": [],
   "source": [
    "user_list= [['홍길동',20,'hong@hong.com','서울'],\n",
    "            ['마길동',25,'ma@hong.com','인천']]"
   ]
  },
  {
   "cell_type": "code",
   "execution_count": 15,
   "metadata": {},
   "outputs": [],
   "source": [
    "# newline='' 옵션을 빼면 개행 2번\n",
    "try:\n",
    "    with open('data/ch09_member2.csv','w', newline='', encoding='utf8') as f:\n",
    "        writer = csv.writer(f)\n",
    "        for user in user_list:\n",
    "            writer.writerow(user)\n",
    "except FileNotFoundError as e:\n",
    "    print(e)"
   ]
  },
  {
   "cell_type": "code",
   "execution_count": 17,
   "metadata": {},
   "outputs": [],
   "source": [
    "# 숫자만 따옴표 안 붙고, 문자엔 따옴표가 붙게 csv write\n",
    "with open('data/ch09_member2-1.csv', 'w', newline='', encoding='CP949') as f:\n",
    "    writer = csv.writer(f, quoting=csv.QUOTE_NONNUMERIC)\n",
    "    writer.writerows(user_list)"
   ]
  },
  {
   "cell_type": "markdown",
   "metadata": {},
   "source": [
    "### 3.3 DictReader\n",
    " - csv 파일의 자료를 딕셔너리 데이터로 읽기"
   ]
  },
  {
   "cell_type": "code",
   "execution_count": 42,
   "metadata": {},
   "outputs": [
    {
     "name": "stdout",
     "output_type": "stream",
     "text": [
      "홍길동 20 kildong@hong.com 서울\n",
      "윤석동 23 yun@hong.com 인천\n",
      "마동길 22 ma@hong.com 안양\n"
     ]
    }
   ],
   "source": [
    "# header가 있는 csv파일을 딕셔너리데이터로 읽기\n",
    "import csv\n",
    "with open('data/ch09_member3.csv', 'r', encoding='utf8') as f:\n",
    "    dict_reader = csv.DictReader(f)\n",
    "#     print(list(dict_reader))\n",
    "    for row in dict_reader:\n",
    "        print(row['name'], row['age'], row['email'], row['address'])"
   ]
  },
  {
   "cell_type": "code",
   "execution_count": 24,
   "metadata": {},
   "outputs": [
    {
     "name": "stdout",
     "output_type": "stream",
     "text": [
      "마길동 20 ma@hong.com 광주\n",
      "석길동 25 ki@hong.com 마산\n",
      "탁길동 22 ta@hong.com 울산\n"
     ]
    }
   ],
   "source": [
    "# header가 없는 csv파일을 딕셔너리 데이터로 읽기\n",
    "with open('data/ch09_member1-1.csv', 'r', encoding='CP949') as f:\n",
    "    dict_reader = csv.DictReader(f,\n",
    "                        fieldnames=['Name','Age','Email','Address'])\n",
    "    for row in dict_reader:\n",
    "        print(row['Name'], row['Age'], row['Email'], row['Address'])"
   ]
  },
  {
   "cell_type": "code",
   "execution_count": 29,
   "metadata": {},
   "outputs": [
    {
     "name": "stdout",
     "output_type": "stream",
     "text": [
      "마길동 20 ma@hong.com 광주 \n",
      "석길동 25 ki@hong.com 마산 팀장\n",
      "탁길동 22 ta@hong.com 울산 \n"
     ]
    }
   ],
   "source": [
    "# 한행에 팀장 표시 추가(header가 없는 경우)\n",
    "with open('data/ch09_member1-1.csv', 'r', encoding='CP949') as f:\n",
    "    dict_reader = csv.DictReader(f,\n",
    "                        fieldnames=['Name','Age','Email','Address','job'])\n",
    "    for row in dict_reader:\n",
    "        print(row['Name'], row['Age'], row['Email'], row['Address'], row['job'])"
   ]
  },
  {
   "cell_type": "code",
   "execution_count": 45,
   "metadata": {},
   "outputs": [
    {
     "name": "stdout",
     "output_type": "stream",
     "text": [
      "마길동 20 ma@hong.com 광주\n",
      "석길동 25 ki@hong.com 마산 팀장\n",
      "탁길동 22 ta@hong.com 울산\n"
     ]
    }
   ],
   "source": [
    "# 한행에 팀장 표시 추가(header가 없는 경우 member1-1.csv)\n",
    "with open('data/ch09_member1-1.csv', 'r') as f:\n",
    "    dict_reader = csv.DictReader(f, \n",
    "                 fieldnames=['Name','Age','Email','Address'],\n",
    "                 restkey='job')\n",
    "    for row in dict_reader:\n",
    "        if row['job'][0] == '':\n",
    "            print(row['Name'], row['Age'], row['Email'], row['Address'])\n",
    "        else:\n",
    "            print(row['Name'], row['Age'], row['Email'], row['Address'], row['job'][0])"
   ]
  },
  {
   "cell_type": "code",
   "execution_count": 43,
   "metadata": {},
   "outputs": [
    {
     "name": "stdout",
     "output_type": "stream",
     "text": [
      "홍길동 20 kildong@hong.com 서울 \n",
      "윤석동 23 yun@hong.com 인천 팀장\n",
      "마동길 22 ma@hong.com 안양 \n"
     ]
    }
   ],
   "source": [
    "# 한행에 팀장 표시 추가(header가 있는 경우 member3.csv)\n",
    "with open('data/ch09_member3.csv', 'r', encoding='utf8') as f:\n",
    "    dict_reader = csv.DictReader(f, restval='')\n",
    "    for row in dict_reader:\n",
    "        print(row['name'], row['age'], row['email'],row['address'], row['job'])"
   ]
  },
  {
   "cell_type": "markdown",
   "metadata": {},
   "source": [
    "### 3.4. DictWriter\n",
    "- 딕셔너리변수의 내용을 csv파일로 쓰기"
   ]
  },
  {
   "cell_type": "code",
   "execution_count": 49,
   "metadata": {},
   "outputs": [],
   "source": [
    "user1 = {'name':'홍길동', 'age':20, 'email':'hong@hong.com','address':'서울'}\n",
    "user2 = {'name':'마길동', 'age':30, 'email':'ma@hong.com','address':'광주'}\n",
    "user3 = {'name':'윤선동', 'age':40, 'email':'yun@hong.com','address':'군산'}\n",
    "user_list = [user1, user2, user3]\n",
    "fieldnames = list(user1.keys()) #해더로 쓸 내용 : ['name', 'age', 'email', 'address']"
   ]
  },
  {
   "cell_type": "markdown",
   "metadata": {},
   "source": [
    "<pre>\n",
    "csv 파일의 내용\n",
    "name,age,email,address\n",
    "홍길동,20,hong@hong.com,서울\n",
    "..."
   ]
  },
  {
   "cell_type": "code",
   "execution_count": 55,
   "metadata": {},
   "outputs": [],
   "source": [
    "with open('data/ch09_member4.csv','w',encoding='UTF8', newline='') as f:\n",
    "    dict_writer = csv.DictWriter(f, fieldnames=fieldnames)\n",
    "    dict_writer.writeheader() # header 부분 write\n",
    "#     dict_writer.writerow(user1)\n",
    "#     dict_writer.writerow(user2)\n",
    "#     dict_writer.writerow(user3)\n",
    "#     for user in user_list:\n",
    "#         dict_writer.writerow(user)\n",
    "    dict_writer.writerows(user_list)"
   ]
  },
  {
   "cell_type": "code",
   "execution_count": 69,
   "metadata": {},
   "outputs": [],
   "source": [
    "user1 = {'name':'홍길동', 'age':20, 'email':'hong@hong.com','address':'서울'}\n",
    "user2 = {'name':'마길동', 'age':30, 'email':'ma@hong.com','address':'광주','job':'팀장'}\n",
    "user3 = {'name':'윤선동', 'age':40, 'email':'yun@hong.com','address':'군산'}\n",
    "user_list = [user1, user2, user3]\n",
    "fieldnames = list(user1.keys()) #해더로 쓸 내용 : ['name', 'age', 'email', 'address']\n",
    "#fieldnames.append('job')"
   ]
  },
  {
   "cell_type": "code",
   "execution_count": 70,
   "metadata": {},
   "outputs": [
    {
     "ename": "ValueError",
     "evalue": "dict contains fields not in fieldnames: 'job'",
     "output_type": "error",
     "traceback": [
      "\u001b[1;31m-------------------------------------------\u001b[0m",
      "\u001b[1;31mValueError\u001b[0mTraceback (most recent call last)",
      "\u001b[1;32m<ipython-input-70-c0bb05d44a10>\u001b[0m in \u001b[0;36m<module>\u001b[1;34m\u001b[0m\n\u001b[0;32m      4\u001b[0m                                 extrasaction='raise') # fieldnames 없는 필드면 error\n\u001b[0;32m      5\u001b[0m     \u001b[0mdict_writer\u001b[0m\u001b[1;33m.\u001b[0m\u001b[0mwriteheader\u001b[0m\u001b[1;33m(\u001b[0m\u001b[1;33m)\u001b[0m\u001b[1;33m\u001b[0m\u001b[1;33m\u001b[0m\u001b[0m\n\u001b[1;32m----> 6\u001b[1;33m     \u001b[0mdict_writer\u001b[0m\u001b[1;33m.\u001b[0m\u001b[0mwriterows\u001b[0m\u001b[1;33m(\u001b[0m\u001b[0muser_list\u001b[0m\u001b[1;33m)\u001b[0m\u001b[1;33m\u001b[0m\u001b[1;33m\u001b[0m\u001b[0m\n\u001b[0m",
      "\u001b[1;32m~\\anaconda3\\lib\\csv.py\u001b[0m in \u001b[0;36mwriterows\u001b[1;34m(self, rowdicts)\u001b[0m\n\u001b[0;32m    155\u001b[0m \u001b[1;33m\u001b[0m\u001b[0m\n\u001b[0;32m    156\u001b[0m     \u001b[1;32mdef\u001b[0m \u001b[0mwriterows\u001b[0m\u001b[1;33m(\u001b[0m\u001b[0mself\u001b[0m\u001b[1;33m,\u001b[0m \u001b[0mrowdicts\u001b[0m\u001b[1;33m)\u001b[0m\u001b[1;33m:\u001b[0m\u001b[1;33m\u001b[0m\u001b[1;33m\u001b[0m\u001b[0m\n\u001b[1;32m--> 157\u001b[1;33m         \u001b[1;32mreturn\u001b[0m \u001b[0mself\u001b[0m\u001b[1;33m.\u001b[0m\u001b[0mwriter\u001b[0m\u001b[1;33m.\u001b[0m\u001b[0mwriterows\u001b[0m\u001b[1;33m(\u001b[0m\u001b[0mmap\u001b[0m\u001b[1;33m(\u001b[0m\u001b[0mself\u001b[0m\u001b[1;33m.\u001b[0m\u001b[0m_dict_to_list\u001b[0m\u001b[1;33m,\u001b[0m \u001b[0mrowdicts\u001b[0m\u001b[1;33m)\u001b[0m\u001b[1;33m)\u001b[0m\u001b[1;33m\u001b[0m\u001b[1;33m\u001b[0m\u001b[0m\n\u001b[0m\u001b[0;32m    158\u001b[0m \u001b[1;33m\u001b[0m\u001b[0m\n\u001b[0;32m    159\u001b[0m \u001b[1;31m# Guard Sniffer's type checking against builds that exclude complex()\u001b[0m\u001b[1;33m\u001b[0m\u001b[1;33m\u001b[0m\u001b[1;33m\u001b[0m\u001b[0m\n",
      "\u001b[1;32m~\\anaconda3\\lib\\csv.py\u001b[0m in \u001b[0;36m_dict_to_list\u001b[1;34m(self, rowdict)\u001b[0m\n\u001b[0;32m    147\u001b[0m             \u001b[0mwrong_fields\u001b[0m \u001b[1;33m=\u001b[0m \u001b[0mrowdict\u001b[0m\u001b[1;33m.\u001b[0m\u001b[0mkeys\u001b[0m\u001b[1;33m(\u001b[0m\u001b[1;33m)\u001b[0m \u001b[1;33m-\u001b[0m \u001b[0mself\u001b[0m\u001b[1;33m.\u001b[0m\u001b[0mfieldnames\u001b[0m\u001b[1;33m\u001b[0m\u001b[1;33m\u001b[0m\u001b[0m\n\u001b[0;32m    148\u001b[0m             \u001b[1;32mif\u001b[0m \u001b[0mwrong_fields\u001b[0m\u001b[1;33m:\u001b[0m\u001b[1;33m\u001b[0m\u001b[1;33m\u001b[0m\u001b[0m\n\u001b[1;32m--> 149\u001b[1;33m                 raise ValueError(\"dict contains fields not in fieldnames: \"\n\u001b[0m\u001b[0;32m    150\u001b[0m                                  + \", \".join([repr(x) for x in wrong_fields]))\n\u001b[0;32m    151\u001b[0m         \u001b[1;32mreturn\u001b[0m \u001b[1;33m(\u001b[0m\u001b[0mrowdict\u001b[0m\u001b[1;33m.\u001b[0m\u001b[0mget\u001b[0m\u001b[1;33m(\u001b[0m\u001b[0mkey\u001b[0m\u001b[1;33m,\u001b[0m \u001b[0mself\u001b[0m\u001b[1;33m.\u001b[0m\u001b[0mrestval\u001b[0m\u001b[1;33m)\u001b[0m \u001b[1;32mfor\u001b[0m \u001b[0mkey\u001b[0m \u001b[1;32min\u001b[0m \u001b[0mself\u001b[0m\u001b[1;33m.\u001b[0m\u001b[0mfieldnames\u001b[0m\u001b[1;33m)\u001b[0m\u001b[1;33m\u001b[0m\u001b[1;33m\u001b[0m\u001b[0m\n",
      "\u001b[1;31mValueError\u001b[0m: dict contains fields not in fieldnames: 'job'"
     ]
    }
   ],
   "source": [
    "with open('data/ch09_member5.csv','w', newline='', encoding='UTF8') as f:\n",
    "    dict_writer = csv.DictWriter(f, fieldnames=fieldnames,\n",
    "                               # extrasaction='ignore') # fieldnames 없는 필드는 무시\n",
    "                                extrasaction='raise') # fieldnames 없는 필드면 error\n",
    "    dict_writer.writeheader()\n",
    "    dict_writer.writerows(user_list)"
   ]
  },
  {
   "cell_type": "markdown",
   "metadata": {},
   "source": [
    "## 4절. JSON 데이터 저장하고 불러오기 (dump, load)"
   ]
  },
  {
   "cell_type": "markdown",
   "metadata": {},
   "source": [
    "### 4.1 JSON dump"
   ]
  },
  {
   "cell_type": "code",
   "execution_count": 71,
   "metadata": {},
   "outputs": [],
   "source": [
    "data = [\n",
    "    {\"name\":\"홍길동\",\n",
    "     \"age\":20,\n",
    "     \"email\":'hong@naver.com',\n",
    "     \"address\":\"서울\"},\n",
    "    {\"name\":\"김말똥\",\n",
    "     \"age\":30,\n",
    "     \"email\":'kim@naver.com',\n",
    "     \"address\":\"천안\"}\n",
    "]"
   ]
  },
  {
   "cell_type": "code",
   "execution_count": 72,
   "metadata": {},
   "outputs": [
    {
     "data": {
      "text/plain": [
       "[{'name': '홍길동', 'age': 20, 'email': 'hong@naver.com', 'address': '서울'},\n",
       " {'name': '김말똥', 'age': 30, 'email': 'kim@naver.com', 'address': '천안'}]"
      ]
     },
     "execution_count": 72,
     "metadata": {},
     "output_type": "execute_result"
    }
   ],
   "source": [
    "data"
   ]
  },
  {
   "cell_type": "code",
   "execution_count": 75,
   "metadata": {},
   "outputs": [],
   "source": [
    "# 딕셔너리 list를 json파일로 저장\n",
    "# ensure_ascii=False 부분이 없으면 한글이 유니코드로 저장.\n",
    "import json\n",
    "with open('data/ch09_member1.json','w') as jsonfile:\n",
    "    json.dump(data, jsonfile, ensure_ascii=False, indent='\\t')"
   ]
  },
  {
   "cell_type": "code",
   "execution_count": 76,
   "metadata": {},
   "outputs": [],
   "source": [
    "# Member 객체 리스트를 json파일로 저장"
   ]
  },
  {
   "cell_type": "code",
   "execution_count": 79,
   "metadata": {},
   "outputs": [],
   "source": [
    "class Member:\n",
    "    def __init__(self, name, age, email, address):\n",
    "        self.name = name\n",
    "        self.age = age\n",
    "        self.email = email\n",
    "        self.address = address\n",
    "    def as_dict(self):\n",
    "        return {\"name\":self.name, \"age\":self.age, \n",
    "                \"email\":self.email, \"address\":self.address}\n",
    "    def __str__(self):\n",
    "        return \"{}\\t{}\\t{}\\t{}\".format(self.name, self.age, self.email, self.address)"
   ]
  },
  {
   "cell_type": "code",
   "execution_count": 82,
   "metadata": {},
   "outputs": [],
   "source": [
    "member1 = Member(\"홍길동\",20,'hong@hong.com','서울')\n",
    "member2 = Member(\"김길동\",30,'kim@hong.com','파주')\n",
    "member3 = Member(\"윤길동\",40,'yun@hong.com','인천')\n",
    "member_list = [member1, member2, member3]"
   ]
  },
  {
   "cell_type": "code",
   "execution_count": 83,
   "metadata": {},
   "outputs": [],
   "source": [
    "with open('data/ch09_member2.json', 'w', encoding='utf8') as jsonfile:\n",
    "    json.dump(member_list, jsonfile, ensure_ascii=False,\n",
    "             indent='\\t',\n",
    "             default=Member.as_dict)"
   ]
  },
  {
   "cell_type": "code",
   "execution_count": 88,
   "metadata": {},
   "outputs": [],
   "source": [
    "# whos는 주석과 같이 쓸 수 없음"
   ]
  },
  {
   "cell_type": "code",
   "execution_count": 87,
   "metadata": {},
   "outputs": [
    {
     "name": "stdout",
     "output_type": "stream",
     "text": [
      "Variable          Type                          Data/Info\n",
      "---------------------------------------------------------\n",
      "Member            type                          <class '__main__.Member'>\n",
      "NamespaceMagics   MetaHasTraits                 <class 'IPython.core.magi<...>mespace.NamespaceMagics'>\n",
      "autopep8          module                        <module 'autopep8' from '<...>e-packages\\\\autopep8.py'>\n",
      "csv               module                        <module 'csv' from 'C:\\\\U<...>\\anaconda3\\\\lib\\\\csv.py'>\n",
      "data              list                          n=2\n",
      "dict_reader       DictReader                    <csv.DictReader object at 0x0000013C0F590070>\n",
      "dict_writer       DictWriter                    <csv.DictWriter object at 0x0000013C0F972AC0>\n",
      "f                 TextIOWrapper                 <_io.TextIOWrapper name='<...>mode='w' encoding='UTF8'>\n",
      "fieldnames        list                          n=4\n",
      "get_ipython       function                      <function get_ipython at 0x0000013C0ABBFEE0>\n",
      "getsizeof         builtin_function_or_method    <built-in function getsizeof>\n",
      "json              module                        <module 'json' from 'C:\\\\<...>\\lib\\\\json\\\\__init__.py'>\n",
      "jsonfile          TextIOWrapper                 <_io.TextIOWrapper name='<...>mode='w' encoding='utf8'>\n",
      "member1           Member                        홍길동\t20\thong@hong.com\t서울\n",
      "member2           Member                        김길동\t30\tkim@hong.com\t파주\n",
      "member3           Member                        윤길동\t40\tyun@hong.com\t인천\n",
      "member_list       list                          n=3\n",
      "np                module                        <module 'numpy' from 'C:\\<...>ges\\\\numpy\\\\__init__.py'>\n",
      "reader            reader                        <_csv.reader object at 0x0000013C0F726D60>\n",
      "row               dict                          n=5\n",
      "use               list                          n=4\n",
      "user              dict                          n=4\n",
      "user1             dict                          n=4\n",
      "user2             dict                          n=5\n",
      "user3             dict                          n=4\n",
      "user_list         list                          n=3\n",
      "var_dic_list      function                      <function var_dic_list at 0x0000013C0D5B5A60>\n",
      "writer            writer                        <_csv.writer object at 0x0000013C0F7CB450>\n",
      "yapf_reformat     function                      <function yapf_reformat at 0x0000013C0D18AAF0>\n"
     ]
    }
   ],
   "source": [
    "whos"
   ]
  },
  {
   "cell_type": "code",
   "execution_count": 90,
   "metadata": {},
   "outputs": [],
   "source": [
    "del member1, member2, member3, member_list"
   ]
  },
  {
   "cell_type": "code",
   "execution_count": 91,
   "metadata": {},
   "outputs": [
    {
     "ename": "NameError",
     "evalue": "name 'member_list' is not defined",
     "output_type": "error",
     "traceback": [
      "\u001b[1;31m-------------------------------------------\u001b[0m",
      "\u001b[1;31mNameError\u001b[0m Traceback (most recent call last)",
      "\u001b[1;32m<ipython-input-91-3c158b68dc07>\u001b[0m in \u001b[0;36m<module>\u001b[1;34m\u001b[0m\n\u001b[1;32m----> 1\u001b[1;33m \u001b[0mmember_list\u001b[0m\u001b[1;33m\u001b[0m\u001b[1;33m\u001b[0m\u001b[0m\n\u001b[0m",
      "\u001b[1;31mNameError\u001b[0m: name 'member_list' is not defined"
     ]
    }
   ],
   "source": [
    "member_list"
   ]
  },
  {
   "cell_type": "markdown",
   "metadata": {},
   "source": [
    "### 4.2 JSON load"
   ]
  },
  {
   "cell_type": "code",
   "execution_count": 95,
   "metadata": {},
   "outputs": [
    {
     "name": "stdout",
     "output_type": "stream",
     "text": [
      "{'name': '홍길동', 'age': 20, 'email': 'hong@hong.com', 'address': '서울'}\n",
      "{'name': '김길동', 'age': 30, 'email': 'kim@hong.com', 'address': '파주'}\n",
      "{'name': '윤길동', 'age': 40, 'email': 'yun@hong.com', 'address': '인천'}\n"
     ]
    }
   ],
   "source": [
    "# json파일을 딕셔너리 리스트 변수로 laod\n",
    "with open('data/ch09_member2.json', 'r', encoding='utf8') as jsonfile:\n",
    "    member_list = json.load(jsonfile)\n",
    "    for row in member_list:\n",
    "        print(row)"
   ]
  },
  {
   "cell_type": "code",
   "execution_count": 98,
   "metadata": {},
   "outputs": [
    {
     "data": {
      "text/plain": [
       "(list, dict)"
      ]
     },
     "execution_count": 98,
     "metadata": {},
     "output_type": "execute_result"
    }
   ],
   "source": [
    "type(member_list), type(member_list[0])"
   ]
  },
  {
   "cell_type": "code",
   "execution_count": null,
   "metadata": {},
   "outputs": [],
   "source": [
    "# json 파일을 객체 리스트변수로 load"
   ]
  },
  {
   "cell_type": "code",
   "execution_count": 105,
   "metadata": {},
   "outputs": [],
   "source": [
    "class Member:\n",
    "    def __init__(self, name, age, email, address):\n",
    "        self.name = name\n",
    "        self.age = age\n",
    "        self.email = email\n",
    "        self.address = address\n",
    "    def __str__(self):\n",
    "        return \"{}\\t{}\\t{}\\t{}\".format(self.name, self.age, self.email, self.address)"
   ]
  },
  {
   "cell_type": "code",
   "execution_count": 106,
   "metadata": {},
   "outputs": [],
   "source": [
    "def as_member(dict):\n",
    "    return Member(dict['name'], dict['age'], dict['email'], dict['address'])"
   ]
  },
  {
   "cell_type": "code",
   "execution_count": 107,
   "metadata": {},
   "outputs": [],
   "source": [
    "m = {'name':'홍길동','age':20,'email':'hong@hong.com','address':'서울'}"
   ]
  },
  {
   "cell_type": "code",
   "execution_count": 108,
   "metadata": {},
   "outputs": [
    {
     "name": "stdout",
     "output_type": "stream",
     "text": [
      "홍길동\t20\thong@hong.com\t서울\n"
     ]
    }
   ],
   "source": [
    "print(as_member(m))"
   ]
  },
  {
   "cell_type": "code",
   "execution_count": 109,
   "metadata": {},
   "outputs": [],
   "source": [
    "with open('data/ch09_member2.json','r', encoding='UTF8') as jsonfile:\n",
    "    member_list = json.load(jsonfile, object_hook=as_member)"
   ]
  },
  {
   "cell_type": "code",
   "execution_count": 110,
   "metadata": {},
   "outputs": [
    {
     "name": "stdout",
     "output_type": "stream",
     "text": [
      "홍길동\t20\thong@hong.com\t서울\n",
      "김길동\t30\tkim@hong.com\t파주\n",
      "윤길동\t40\tyun@hong.com\t인천\n"
     ]
    }
   ],
   "source": [
    "for member in member_list:\n",
    "    print(member)"
   ]
  },
  {
   "cell_type": "code",
   "execution_count": 111,
   "metadata": {},
   "outputs": [
    {
     "data": {
      "text/plain": [
       "(list, __main__.Member)"
      ]
     },
     "execution_count": 111,
     "metadata": {},
     "output_type": "execute_result"
    }
   ],
   "source": [
    "type(member_list), type(member_list[0])"
   ]
  },
  {
   "cell_type": "markdown",
   "metadata": {},
   "source": [
    "## 5절. HDF5 파일 읽기 / 쓰기"
   ]
  },
  {
   "cell_type": "markdown",
   "metadata": {},
   "source": [
    "### 5.1 h5py 사용 사용"
   ]
  },
  {
   "cell_type": "code",
   "execution_count": 12,
   "metadata": {},
   "outputs": [
    {
     "data": {
      "text/html": [
       "<div>\n",
       "<style scoped>\n",
       "    .dataframe tbody tr th:only-of-type {\n",
       "        vertical-align: middle;\n",
       "    }\n",
       "\n",
       "    .dataframe tbody tr th {\n",
       "        vertical-align: top;\n",
       "    }\n",
       "\n",
       "    .dataframe thead th {\n",
       "        text-align: right;\n",
       "    }\n",
       "</style>\n",
       "<table border=\"1\" class=\"dataframe\">\n",
       "  <thead>\n",
       "    <tr style=\"text-align: right;\">\n",
       "      <th></th>\n",
       "      <th>sepal_length</th>\n",
       "      <th>sepal_width</th>\n",
       "      <th>petal_length</th>\n",
       "      <th>petal_width</th>\n",
       "      <th>species</th>\n",
       "    </tr>\n",
       "  </thead>\n",
       "  <tbody>\n",
       "    <tr>\n",
       "      <th>0</th>\n",
       "      <td>5.1</td>\n",
       "      <td>3.5</td>\n",
       "      <td>1.4</td>\n",
       "      <td>0.2</td>\n",
       "      <td>setosa</td>\n",
       "    </tr>\n",
       "    <tr>\n",
       "      <th>1</th>\n",
       "      <td>4.9</td>\n",
       "      <td>3.0</td>\n",
       "      <td>1.4</td>\n",
       "      <td>0.2</td>\n",
       "      <td>setosa</td>\n",
       "    </tr>\n",
       "    <tr>\n",
       "      <th>2</th>\n",
       "      <td>4.7</td>\n",
       "      <td>3.2</td>\n",
       "      <td>1.3</td>\n",
       "      <td>0.2</td>\n",
       "      <td>setosa</td>\n",
       "    </tr>\n",
       "    <tr>\n",
       "      <th>3</th>\n",
       "      <td>4.6</td>\n",
       "      <td>3.1</td>\n",
       "      <td>1.5</td>\n",
       "      <td>0.2</td>\n",
       "      <td>setosa</td>\n",
       "    </tr>\n",
       "    <tr>\n",
       "      <th>4</th>\n",
       "      <td>5.0</td>\n",
       "      <td>3.6</td>\n",
       "      <td>1.4</td>\n",
       "      <td>0.2</td>\n",
       "      <td>setosa</td>\n",
       "    </tr>\n",
       "    <tr>\n",
       "      <th>...</th>\n",
       "      <td>...</td>\n",
       "      <td>...</td>\n",
       "      <td>...</td>\n",
       "      <td>...</td>\n",
       "      <td>...</td>\n",
       "    </tr>\n",
       "    <tr>\n",
       "      <th>145</th>\n",
       "      <td>6.7</td>\n",
       "      <td>3.0</td>\n",
       "      <td>5.2</td>\n",
       "      <td>2.3</td>\n",
       "      <td>virginica</td>\n",
       "    </tr>\n",
       "    <tr>\n",
       "      <th>146</th>\n",
       "      <td>6.3</td>\n",
       "      <td>2.5</td>\n",
       "      <td>5.0</td>\n",
       "      <td>1.9</td>\n",
       "      <td>virginica</td>\n",
       "    </tr>\n",
       "    <tr>\n",
       "      <th>147</th>\n",
       "      <td>6.5</td>\n",
       "      <td>3.0</td>\n",
       "      <td>5.2</td>\n",
       "      <td>2.0</td>\n",
       "      <td>virginica</td>\n",
       "    </tr>\n",
       "    <tr>\n",
       "      <th>148</th>\n",
       "      <td>6.2</td>\n",
       "      <td>3.4</td>\n",
       "      <td>5.4</td>\n",
       "      <td>2.3</td>\n",
       "      <td>virginica</td>\n",
       "    </tr>\n",
       "    <tr>\n",
       "      <th>149</th>\n",
       "      <td>5.9</td>\n",
       "      <td>3.0</td>\n",
       "      <td>5.1</td>\n",
       "      <td>1.8</td>\n",
       "      <td>virginica</td>\n",
       "    </tr>\n",
       "  </tbody>\n",
       "</table>\n",
       "<p>150 rows × 5 columns</p>\n",
       "</div>"
      ],
      "text/plain": [
       "     sepal_length  sepal_width  petal_length  petal_width    species\n",
       "0             5.1          3.5           1.4          0.2     setosa\n",
       "1             4.9          3.0           1.4          0.2     setosa\n",
       "2             4.7          3.2           1.3          0.2     setosa\n",
       "3             4.6          3.1           1.5          0.2     setosa\n",
       "4             5.0          3.6           1.4          0.2     setosa\n",
       "..            ...          ...           ...          ...        ...\n",
       "145           6.7          3.0           5.2          2.3  virginica\n",
       "146           6.3          2.5           5.0          1.9  virginica\n",
       "147           6.5          3.0           5.2          2.0  virginica\n",
       "148           6.2          3.4           5.4          2.3  virginica\n",
       "149           5.9          3.0           5.1          1.8  virginica\n",
       "\n",
       "[150 rows x 5 columns]"
      ]
     },
     "execution_count": 12,
     "metadata": {},
     "output_type": "execute_result"
    }
   ],
   "source": [
    "import seaborn as sns\n",
    "iris_df = sns.load_dataset(\"iris\")\n",
    "iris_df"
   ]
  },
  {
   "cell_type": "code",
   "execution_count": 113,
   "metadata": {},
   "outputs": [
    {
     "data": {
      "text/plain": [
       "pandas.core.frame.DataFrame"
      ]
     },
     "execution_count": 113,
     "metadata": {},
     "output_type": "execute_result"
    }
   ],
   "source": [
    "type(iris_df)"
   ]
  },
  {
   "cell_type": "code",
   "execution_count": 13,
   "metadata": {},
   "outputs": [
    {
     "data": {
      "text/plain": [
       "{'sepal_length': {0: 5.1,\n",
       "  1: 4.9,\n",
       "  2: 4.7,\n",
       "  3: 4.6,\n",
       "  4: 5.0,\n",
       "  5: 5.4,\n",
       "  6: 4.6,\n",
       "  7: 5.0,\n",
       "  8: 4.4,\n",
       "  9: 4.9,\n",
       "  10: 5.4,\n",
       "  11: 4.8,\n",
       "  12: 4.8,\n",
       "  13: 4.3,\n",
       "  14: 5.8,\n",
       "  15: 5.7,\n",
       "  16: 5.4,\n",
       "  17: 5.1,\n",
       "  18: 5.7,\n",
       "  19: 5.1,\n",
       "  20: 5.4,\n",
       "  21: 5.1,\n",
       "  22: 4.6,\n",
       "  23: 5.1,\n",
       "  24: 4.8,\n",
       "  25: 5.0,\n",
       "  26: 5.0,\n",
       "  27: 5.2,\n",
       "  28: 5.2,\n",
       "  29: 4.7,\n",
       "  30: 4.8,\n",
       "  31: 5.4,\n",
       "  32: 5.2,\n",
       "  33: 5.5,\n",
       "  34: 4.9,\n",
       "  35: 5.0,\n",
       "  36: 5.5,\n",
       "  37: 4.9,\n",
       "  38: 4.4,\n",
       "  39: 5.1,\n",
       "  40: 5.0,\n",
       "  41: 4.5,\n",
       "  42: 4.4,\n",
       "  43: 5.0,\n",
       "  44: 5.1,\n",
       "  45: 4.8,\n",
       "  46: 5.1,\n",
       "  47: 4.6,\n",
       "  48: 5.3,\n",
       "  49: 5.0,\n",
       "  50: 7.0,\n",
       "  51: 6.4,\n",
       "  52: 6.9,\n",
       "  53: 5.5,\n",
       "  54: 6.5,\n",
       "  55: 5.7,\n",
       "  56: 6.3,\n",
       "  57: 4.9,\n",
       "  58: 6.6,\n",
       "  59: 5.2,\n",
       "  60: 5.0,\n",
       "  61: 5.9,\n",
       "  62: 6.0,\n",
       "  63: 6.1,\n",
       "  64: 5.6,\n",
       "  65: 6.7,\n",
       "  66: 5.6,\n",
       "  67: 5.8,\n",
       "  68: 6.2,\n",
       "  69: 5.6,\n",
       "  70: 5.9,\n",
       "  71: 6.1,\n",
       "  72: 6.3,\n",
       "  73: 6.1,\n",
       "  74: 6.4,\n",
       "  75: 6.6,\n",
       "  76: 6.8,\n",
       "  77: 6.7,\n",
       "  78: 6.0,\n",
       "  79: 5.7,\n",
       "  80: 5.5,\n",
       "  81: 5.5,\n",
       "  82: 5.8,\n",
       "  83: 6.0,\n",
       "  84: 5.4,\n",
       "  85: 6.0,\n",
       "  86: 6.7,\n",
       "  87: 6.3,\n",
       "  88: 5.6,\n",
       "  89: 5.5,\n",
       "  90: 5.5,\n",
       "  91: 6.1,\n",
       "  92: 5.8,\n",
       "  93: 5.0,\n",
       "  94: 5.6,\n",
       "  95: 5.7,\n",
       "  96: 5.7,\n",
       "  97: 6.2,\n",
       "  98: 5.1,\n",
       "  99: 5.7,\n",
       "  100: 6.3,\n",
       "  101: 5.8,\n",
       "  102: 7.1,\n",
       "  103: 6.3,\n",
       "  104: 6.5,\n",
       "  105: 7.6,\n",
       "  106: 4.9,\n",
       "  107: 7.3,\n",
       "  108: 6.7,\n",
       "  109: 7.2,\n",
       "  110: 6.5,\n",
       "  111: 6.4,\n",
       "  112: 6.8,\n",
       "  113: 5.7,\n",
       "  114: 5.8,\n",
       "  115: 6.4,\n",
       "  116: 6.5,\n",
       "  117: 7.7,\n",
       "  118: 7.7,\n",
       "  119: 6.0,\n",
       "  120: 6.9,\n",
       "  121: 5.6,\n",
       "  122: 7.7,\n",
       "  123: 6.3,\n",
       "  124: 6.7,\n",
       "  125: 7.2,\n",
       "  126: 6.2,\n",
       "  127: 6.1,\n",
       "  128: 6.4,\n",
       "  129: 7.2,\n",
       "  130: 7.4,\n",
       "  131: 7.9,\n",
       "  132: 6.4,\n",
       "  133: 6.3,\n",
       "  134: 6.1,\n",
       "  135: 7.7,\n",
       "  136: 6.3,\n",
       "  137: 6.4,\n",
       "  138: 6.0,\n",
       "  139: 6.9,\n",
       "  140: 6.7,\n",
       "  141: 6.9,\n",
       "  142: 5.8,\n",
       "  143: 6.8,\n",
       "  144: 6.7,\n",
       "  145: 6.7,\n",
       "  146: 6.3,\n",
       "  147: 6.5,\n",
       "  148: 6.2,\n",
       "  149: 5.9},\n",
       " 'sepal_width': {0: 3.5,\n",
       "  1: 3.0,\n",
       "  2: 3.2,\n",
       "  3: 3.1,\n",
       "  4: 3.6,\n",
       "  5: 3.9,\n",
       "  6: 3.4,\n",
       "  7: 3.4,\n",
       "  8: 2.9,\n",
       "  9: 3.1,\n",
       "  10: 3.7,\n",
       "  11: 3.4,\n",
       "  12: 3.0,\n",
       "  13: 3.0,\n",
       "  14: 4.0,\n",
       "  15: 4.4,\n",
       "  16: 3.9,\n",
       "  17: 3.5,\n",
       "  18: 3.8,\n",
       "  19: 3.8,\n",
       "  20: 3.4,\n",
       "  21: 3.7,\n",
       "  22: 3.6,\n",
       "  23: 3.3,\n",
       "  24: 3.4,\n",
       "  25: 3.0,\n",
       "  26: 3.4,\n",
       "  27: 3.5,\n",
       "  28: 3.4,\n",
       "  29: 3.2,\n",
       "  30: 3.1,\n",
       "  31: 3.4,\n",
       "  32: 4.1,\n",
       "  33: 4.2,\n",
       "  34: 3.1,\n",
       "  35: 3.2,\n",
       "  36: 3.5,\n",
       "  37: 3.6,\n",
       "  38: 3.0,\n",
       "  39: 3.4,\n",
       "  40: 3.5,\n",
       "  41: 2.3,\n",
       "  42: 3.2,\n",
       "  43: 3.5,\n",
       "  44: 3.8,\n",
       "  45: 3.0,\n",
       "  46: 3.8,\n",
       "  47: 3.2,\n",
       "  48: 3.7,\n",
       "  49: 3.3,\n",
       "  50: 3.2,\n",
       "  51: 3.2,\n",
       "  52: 3.1,\n",
       "  53: 2.3,\n",
       "  54: 2.8,\n",
       "  55: 2.8,\n",
       "  56: 3.3,\n",
       "  57: 2.4,\n",
       "  58: 2.9,\n",
       "  59: 2.7,\n",
       "  60: 2.0,\n",
       "  61: 3.0,\n",
       "  62: 2.2,\n",
       "  63: 2.9,\n",
       "  64: 2.9,\n",
       "  65: 3.1,\n",
       "  66: 3.0,\n",
       "  67: 2.7,\n",
       "  68: 2.2,\n",
       "  69: 2.5,\n",
       "  70: 3.2,\n",
       "  71: 2.8,\n",
       "  72: 2.5,\n",
       "  73: 2.8,\n",
       "  74: 2.9,\n",
       "  75: 3.0,\n",
       "  76: 2.8,\n",
       "  77: 3.0,\n",
       "  78: 2.9,\n",
       "  79: 2.6,\n",
       "  80: 2.4,\n",
       "  81: 2.4,\n",
       "  82: 2.7,\n",
       "  83: 2.7,\n",
       "  84: 3.0,\n",
       "  85: 3.4,\n",
       "  86: 3.1,\n",
       "  87: 2.3,\n",
       "  88: 3.0,\n",
       "  89: 2.5,\n",
       "  90: 2.6,\n",
       "  91: 3.0,\n",
       "  92: 2.6,\n",
       "  93: 2.3,\n",
       "  94: 2.7,\n",
       "  95: 3.0,\n",
       "  96: 2.9,\n",
       "  97: 2.9,\n",
       "  98: 2.5,\n",
       "  99: 2.8,\n",
       "  100: 3.3,\n",
       "  101: 2.7,\n",
       "  102: 3.0,\n",
       "  103: 2.9,\n",
       "  104: 3.0,\n",
       "  105: 3.0,\n",
       "  106: 2.5,\n",
       "  107: 2.9,\n",
       "  108: 2.5,\n",
       "  109: 3.6,\n",
       "  110: 3.2,\n",
       "  111: 2.7,\n",
       "  112: 3.0,\n",
       "  113: 2.5,\n",
       "  114: 2.8,\n",
       "  115: 3.2,\n",
       "  116: 3.0,\n",
       "  117: 3.8,\n",
       "  118: 2.6,\n",
       "  119: 2.2,\n",
       "  120: 3.2,\n",
       "  121: 2.8,\n",
       "  122: 2.8,\n",
       "  123: 2.7,\n",
       "  124: 3.3,\n",
       "  125: 3.2,\n",
       "  126: 2.8,\n",
       "  127: 3.0,\n",
       "  128: 2.8,\n",
       "  129: 3.0,\n",
       "  130: 2.8,\n",
       "  131: 3.8,\n",
       "  132: 2.8,\n",
       "  133: 2.8,\n",
       "  134: 2.6,\n",
       "  135: 3.0,\n",
       "  136: 3.4,\n",
       "  137: 3.1,\n",
       "  138: 3.0,\n",
       "  139: 3.1,\n",
       "  140: 3.1,\n",
       "  141: 3.1,\n",
       "  142: 2.7,\n",
       "  143: 3.2,\n",
       "  144: 3.3,\n",
       "  145: 3.0,\n",
       "  146: 2.5,\n",
       "  147: 3.0,\n",
       "  148: 3.4,\n",
       "  149: 3.0},\n",
       " 'petal_length': {0: 1.4,\n",
       "  1: 1.4,\n",
       "  2: 1.3,\n",
       "  3: 1.5,\n",
       "  4: 1.4,\n",
       "  5: 1.7,\n",
       "  6: 1.4,\n",
       "  7: 1.5,\n",
       "  8: 1.4,\n",
       "  9: 1.5,\n",
       "  10: 1.5,\n",
       "  11: 1.6,\n",
       "  12: 1.4,\n",
       "  13: 1.1,\n",
       "  14: 1.2,\n",
       "  15: 1.5,\n",
       "  16: 1.3,\n",
       "  17: 1.4,\n",
       "  18: 1.7,\n",
       "  19: 1.5,\n",
       "  20: 1.7,\n",
       "  21: 1.5,\n",
       "  22: 1.0,\n",
       "  23: 1.7,\n",
       "  24: 1.9,\n",
       "  25: 1.6,\n",
       "  26: 1.6,\n",
       "  27: 1.5,\n",
       "  28: 1.4,\n",
       "  29: 1.6,\n",
       "  30: 1.6,\n",
       "  31: 1.5,\n",
       "  32: 1.5,\n",
       "  33: 1.4,\n",
       "  34: 1.5,\n",
       "  35: 1.2,\n",
       "  36: 1.3,\n",
       "  37: 1.4,\n",
       "  38: 1.3,\n",
       "  39: 1.5,\n",
       "  40: 1.3,\n",
       "  41: 1.3,\n",
       "  42: 1.3,\n",
       "  43: 1.6,\n",
       "  44: 1.9,\n",
       "  45: 1.4,\n",
       "  46: 1.6,\n",
       "  47: 1.4,\n",
       "  48: 1.5,\n",
       "  49: 1.4,\n",
       "  50: 4.7,\n",
       "  51: 4.5,\n",
       "  52: 4.9,\n",
       "  53: 4.0,\n",
       "  54: 4.6,\n",
       "  55: 4.5,\n",
       "  56: 4.7,\n",
       "  57: 3.3,\n",
       "  58: 4.6,\n",
       "  59: 3.9,\n",
       "  60: 3.5,\n",
       "  61: 4.2,\n",
       "  62: 4.0,\n",
       "  63: 4.7,\n",
       "  64: 3.6,\n",
       "  65: 4.4,\n",
       "  66: 4.5,\n",
       "  67: 4.1,\n",
       "  68: 4.5,\n",
       "  69: 3.9,\n",
       "  70: 4.8,\n",
       "  71: 4.0,\n",
       "  72: 4.9,\n",
       "  73: 4.7,\n",
       "  74: 4.3,\n",
       "  75: 4.4,\n",
       "  76: 4.8,\n",
       "  77: 5.0,\n",
       "  78: 4.5,\n",
       "  79: 3.5,\n",
       "  80: 3.8,\n",
       "  81: 3.7,\n",
       "  82: 3.9,\n",
       "  83: 5.1,\n",
       "  84: 4.5,\n",
       "  85: 4.5,\n",
       "  86: 4.7,\n",
       "  87: 4.4,\n",
       "  88: 4.1,\n",
       "  89: 4.0,\n",
       "  90: 4.4,\n",
       "  91: 4.6,\n",
       "  92: 4.0,\n",
       "  93: 3.3,\n",
       "  94: 4.2,\n",
       "  95: 4.2,\n",
       "  96: 4.2,\n",
       "  97: 4.3,\n",
       "  98: 3.0,\n",
       "  99: 4.1,\n",
       "  100: 6.0,\n",
       "  101: 5.1,\n",
       "  102: 5.9,\n",
       "  103: 5.6,\n",
       "  104: 5.8,\n",
       "  105: 6.6,\n",
       "  106: 4.5,\n",
       "  107: 6.3,\n",
       "  108: 5.8,\n",
       "  109: 6.1,\n",
       "  110: 5.1,\n",
       "  111: 5.3,\n",
       "  112: 5.5,\n",
       "  113: 5.0,\n",
       "  114: 5.1,\n",
       "  115: 5.3,\n",
       "  116: 5.5,\n",
       "  117: 6.7,\n",
       "  118: 6.9,\n",
       "  119: 5.0,\n",
       "  120: 5.7,\n",
       "  121: 4.9,\n",
       "  122: 6.7,\n",
       "  123: 4.9,\n",
       "  124: 5.7,\n",
       "  125: 6.0,\n",
       "  126: 4.8,\n",
       "  127: 4.9,\n",
       "  128: 5.6,\n",
       "  129: 5.8,\n",
       "  130: 6.1,\n",
       "  131: 6.4,\n",
       "  132: 5.6,\n",
       "  133: 5.1,\n",
       "  134: 5.6,\n",
       "  135: 6.1,\n",
       "  136: 5.6,\n",
       "  137: 5.5,\n",
       "  138: 4.8,\n",
       "  139: 5.4,\n",
       "  140: 5.6,\n",
       "  141: 5.1,\n",
       "  142: 5.1,\n",
       "  143: 5.9,\n",
       "  144: 5.7,\n",
       "  145: 5.2,\n",
       "  146: 5.0,\n",
       "  147: 5.2,\n",
       "  148: 5.4,\n",
       "  149: 5.1},\n",
       " 'petal_width': {0: 0.2,\n",
       "  1: 0.2,\n",
       "  2: 0.2,\n",
       "  3: 0.2,\n",
       "  4: 0.2,\n",
       "  5: 0.4,\n",
       "  6: 0.3,\n",
       "  7: 0.2,\n",
       "  8: 0.2,\n",
       "  9: 0.1,\n",
       "  10: 0.2,\n",
       "  11: 0.2,\n",
       "  12: 0.1,\n",
       "  13: 0.1,\n",
       "  14: 0.2,\n",
       "  15: 0.4,\n",
       "  16: 0.4,\n",
       "  17: 0.3,\n",
       "  18: 0.3,\n",
       "  19: 0.3,\n",
       "  20: 0.2,\n",
       "  21: 0.4,\n",
       "  22: 0.2,\n",
       "  23: 0.5,\n",
       "  24: 0.2,\n",
       "  25: 0.2,\n",
       "  26: 0.4,\n",
       "  27: 0.2,\n",
       "  28: 0.2,\n",
       "  29: 0.2,\n",
       "  30: 0.2,\n",
       "  31: 0.4,\n",
       "  32: 0.1,\n",
       "  33: 0.2,\n",
       "  34: 0.2,\n",
       "  35: 0.2,\n",
       "  36: 0.2,\n",
       "  37: 0.1,\n",
       "  38: 0.2,\n",
       "  39: 0.2,\n",
       "  40: 0.3,\n",
       "  41: 0.3,\n",
       "  42: 0.2,\n",
       "  43: 0.6,\n",
       "  44: 0.4,\n",
       "  45: 0.3,\n",
       "  46: 0.2,\n",
       "  47: 0.2,\n",
       "  48: 0.2,\n",
       "  49: 0.2,\n",
       "  50: 1.4,\n",
       "  51: 1.5,\n",
       "  52: 1.5,\n",
       "  53: 1.3,\n",
       "  54: 1.5,\n",
       "  55: 1.3,\n",
       "  56: 1.6,\n",
       "  57: 1.0,\n",
       "  58: 1.3,\n",
       "  59: 1.4,\n",
       "  60: 1.0,\n",
       "  61: 1.5,\n",
       "  62: 1.0,\n",
       "  63: 1.4,\n",
       "  64: 1.3,\n",
       "  65: 1.4,\n",
       "  66: 1.5,\n",
       "  67: 1.0,\n",
       "  68: 1.5,\n",
       "  69: 1.1,\n",
       "  70: 1.8,\n",
       "  71: 1.3,\n",
       "  72: 1.5,\n",
       "  73: 1.2,\n",
       "  74: 1.3,\n",
       "  75: 1.4,\n",
       "  76: 1.4,\n",
       "  77: 1.7,\n",
       "  78: 1.5,\n",
       "  79: 1.0,\n",
       "  80: 1.1,\n",
       "  81: 1.0,\n",
       "  82: 1.2,\n",
       "  83: 1.6,\n",
       "  84: 1.5,\n",
       "  85: 1.6,\n",
       "  86: 1.5,\n",
       "  87: 1.3,\n",
       "  88: 1.3,\n",
       "  89: 1.3,\n",
       "  90: 1.2,\n",
       "  91: 1.4,\n",
       "  92: 1.2,\n",
       "  93: 1.0,\n",
       "  94: 1.3,\n",
       "  95: 1.2,\n",
       "  96: 1.3,\n",
       "  97: 1.3,\n",
       "  98: 1.1,\n",
       "  99: 1.3,\n",
       "  100: 2.5,\n",
       "  101: 1.9,\n",
       "  102: 2.1,\n",
       "  103: 1.8,\n",
       "  104: 2.2,\n",
       "  105: 2.1,\n",
       "  106: 1.7,\n",
       "  107: 1.8,\n",
       "  108: 1.8,\n",
       "  109: 2.5,\n",
       "  110: 2.0,\n",
       "  111: 1.9,\n",
       "  112: 2.1,\n",
       "  113: 2.0,\n",
       "  114: 2.4,\n",
       "  115: 2.3,\n",
       "  116: 1.8,\n",
       "  117: 2.2,\n",
       "  118: 2.3,\n",
       "  119: 1.5,\n",
       "  120: 2.3,\n",
       "  121: 2.0,\n",
       "  122: 2.0,\n",
       "  123: 1.8,\n",
       "  124: 2.1,\n",
       "  125: 1.8,\n",
       "  126: 1.8,\n",
       "  127: 1.8,\n",
       "  128: 2.1,\n",
       "  129: 1.6,\n",
       "  130: 1.9,\n",
       "  131: 2.0,\n",
       "  132: 2.2,\n",
       "  133: 1.5,\n",
       "  134: 1.4,\n",
       "  135: 2.3,\n",
       "  136: 2.4,\n",
       "  137: 1.8,\n",
       "  138: 1.8,\n",
       "  139: 2.1,\n",
       "  140: 2.4,\n",
       "  141: 2.3,\n",
       "  142: 1.9,\n",
       "  143: 2.3,\n",
       "  144: 2.5,\n",
       "  145: 2.3,\n",
       "  146: 1.9,\n",
       "  147: 2.0,\n",
       "  148: 2.3,\n",
       "  149: 1.8},\n",
       " 'species': {0: 'setosa',\n",
       "  1: 'setosa',\n",
       "  2: 'setosa',\n",
       "  3: 'setosa',\n",
       "  4: 'setosa',\n",
       "  5: 'setosa',\n",
       "  6: 'setosa',\n",
       "  7: 'setosa',\n",
       "  8: 'setosa',\n",
       "  9: 'setosa',\n",
       "  10: 'setosa',\n",
       "  11: 'setosa',\n",
       "  12: 'setosa',\n",
       "  13: 'setosa',\n",
       "  14: 'setosa',\n",
       "  15: 'setosa',\n",
       "  16: 'setosa',\n",
       "  17: 'setosa',\n",
       "  18: 'setosa',\n",
       "  19: 'setosa',\n",
       "  20: 'setosa',\n",
       "  21: 'setosa',\n",
       "  22: 'setosa',\n",
       "  23: 'setosa',\n",
       "  24: 'setosa',\n",
       "  25: 'setosa',\n",
       "  26: 'setosa',\n",
       "  27: 'setosa',\n",
       "  28: 'setosa',\n",
       "  29: 'setosa',\n",
       "  30: 'setosa',\n",
       "  31: 'setosa',\n",
       "  32: 'setosa',\n",
       "  33: 'setosa',\n",
       "  34: 'setosa',\n",
       "  35: 'setosa',\n",
       "  36: 'setosa',\n",
       "  37: 'setosa',\n",
       "  38: 'setosa',\n",
       "  39: 'setosa',\n",
       "  40: 'setosa',\n",
       "  41: 'setosa',\n",
       "  42: 'setosa',\n",
       "  43: 'setosa',\n",
       "  44: 'setosa',\n",
       "  45: 'setosa',\n",
       "  46: 'setosa',\n",
       "  47: 'setosa',\n",
       "  48: 'setosa',\n",
       "  49: 'setosa',\n",
       "  50: 'versicolor',\n",
       "  51: 'versicolor',\n",
       "  52: 'versicolor',\n",
       "  53: 'versicolor',\n",
       "  54: 'versicolor',\n",
       "  55: 'versicolor',\n",
       "  56: 'versicolor',\n",
       "  57: 'versicolor',\n",
       "  58: 'versicolor',\n",
       "  59: 'versicolor',\n",
       "  60: 'versicolor',\n",
       "  61: 'versicolor',\n",
       "  62: 'versicolor',\n",
       "  63: 'versicolor',\n",
       "  64: 'versicolor',\n",
       "  65: 'versicolor',\n",
       "  66: 'versicolor',\n",
       "  67: 'versicolor',\n",
       "  68: 'versicolor',\n",
       "  69: 'versicolor',\n",
       "  70: 'versicolor',\n",
       "  71: 'versicolor',\n",
       "  72: 'versicolor',\n",
       "  73: 'versicolor',\n",
       "  74: 'versicolor',\n",
       "  75: 'versicolor',\n",
       "  76: 'versicolor',\n",
       "  77: 'versicolor',\n",
       "  78: 'versicolor',\n",
       "  79: 'versicolor',\n",
       "  80: 'versicolor',\n",
       "  81: 'versicolor',\n",
       "  82: 'versicolor',\n",
       "  83: 'versicolor',\n",
       "  84: 'versicolor',\n",
       "  85: 'versicolor',\n",
       "  86: 'versicolor',\n",
       "  87: 'versicolor',\n",
       "  88: 'versicolor',\n",
       "  89: 'versicolor',\n",
       "  90: 'versicolor',\n",
       "  91: 'versicolor',\n",
       "  92: 'versicolor',\n",
       "  93: 'versicolor',\n",
       "  94: 'versicolor',\n",
       "  95: 'versicolor',\n",
       "  96: 'versicolor',\n",
       "  97: 'versicolor',\n",
       "  98: 'versicolor',\n",
       "  99: 'versicolor',\n",
       "  100: 'virginica',\n",
       "  101: 'virginica',\n",
       "  102: 'virginica',\n",
       "  103: 'virginica',\n",
       "  104: 'virginica',\n",
       "  105: 'virginica',\n",
       "  106: 'virginica',\n",
       "  107: 'virginica',\n",
       "  108: 'virginica',\n",
       "  109: 'virginica',\n",
       "  110: 'virginica',\n",
       "  111: 'virginica',\n",
       "  112: 'virginica',\n",
       "  113: 'virginica',\n",
       "  114: 'virginica',\n",
       "  115: 'virginica',\n",
       "  116: 'virginica',\n",
       "  117: 'virginica',\n",
       "  118: 'virginica',\n",
       "  119: 'virginica',\n",
       "  120: 'virginica',\n",
       "  121: 'virginica',\n",
       "  122: 'virginica',\n",
       "  123: 'virginica',\n",
       "  124: 'virginica',\n",
       "  125: 'virginica',\n",
       "  126: 'virginica',\n",
       "  127: 'virginica',\n",
       "  128: 'virginica',\n",
       "  129: 'virginica',\n",
       "  130: 'virginica',\n",
       "  131: 'virginica',\n",
       "  132: 'virginica',\n",
       "  133: 'virginica',\n",
       "  134: 'virginica',\n",
       "  135: 'virginica',\n",
       "  136: 'virginica',\n",
       "  137: 'virginica',\n",
       "  138: 'virginica',\n",
       "  139: 'virginica',\n",
       "  140: 'virginica',\n",
       "  141: 'virginica',\n",
       "  142: 'virginica',\n",
       "  143: 'virginica',\n",
       "  144: 'virginica',\n",
       "  145: 'virginica',\n",
       "  146: 'virginica',\n",
       "  147: 'virginica',\n",
       "  148: 'virginica',\n",
       "  149: 'virginica'}}"
      ]
     },
     "execution_count": 13,
     "metadata": {},
     "output_type": "execute_result"
    }
   ],
   "source": [
    "iris_dic = iris_df.to_dict() # 데이터프레임변수를 딕셔너리변수로\n",
    "iris_dic"
   ]
  },
  {
   "cell_type": "code",
   "execution_count": 117,
   "metadata": {},
   "outputs": [
    {
     "data": {
      "text/plain": [
       "dict_keys(['sepal_length', 'sepal_width', 'petal_length', 'petal_width', 'species'])"
      ]
     },
     "execution_count": 117,
     "metadata": {},
     "output_type": "execute_result"
    }
   ],
   "source": [
    "iris_dic.keys()"
   ]
  },
  {
   "cell_type": "code",
   "execution_count": 118,
   "metadata": {},
   "outputs": [
    {
     "name": "stdout",
     "output_type": "stream",
     "text": [
      "sepal_length {0: 5.1, 1: 4.9, 2: 4.7, 3: 4.6, 4: 5.0, 5: 5.4, 6: 4.6, 7: 5.0, 8: 4.4, 9: 4.9, 10: 5.4, 11: 4.8, 12: 4.8, 13: 4.3, 14: 5.8, 15: 5.7, 16: 5.4, 17: 5.1, 18: 5.7, 19: 5.1, 20: 5.4, 21: 5.1, 22: 4.6, 23: 5.1, 24: 4.8, 25: 5.0, 26: 5.0, 27: 5.2, 28: 5.2, 29: 4.7, 30: 4.8, 31: 5.4, 32: 5.2, 33: 5.5, 34: 4.9, 35: 5.0, 36: 5.5, 37: 4.9, 38: 4.4, 39: 5.1, 40: 5.0, 41: 4.5, 42: 4.4, 43: 5.0, 44: 5.1, 45: 4.8, 46: 5.1, 47: 4.6, 48: 5.3, 49: 5.0, 50: 7.0, 51: 6.4, 52: 6.9, 53: 5.5, 54: 6.5, 55: 5.7, 56: 6.3, 57: 4.9, 58: 6.6, 59: 5.2, 60: 5.0, 61: 5.9, 62: 6.0, 63: 6.1, 64: 5.6, 65: 6.7, 66: 5.6, 67: 5.8, 68: 6.2, 69: 5.6, 70: 5.9, 71: 6.1, 72: 6.3, 73: 6.1, 74: 6.4, 75: 6.6, 76: 6.8, 77: 6.7, 78: 6.0, 79: 5.7, 80: 5.5, 81: 5.5, 82: 5.8, 83: 6.0, 84: 5.4, 85: 6.0, 86: 6.7, 87: 6.3, 88: 5.6, 89: 5.5, 90: 5.5, 91: 6.1, 92: 5.8, 93: 5.0, 94: 5.6, 95: 5.7, 96: 5.7, 97: 6.2, 98: 5.1, 99: 5.7, 100: 6.3, 101: 5.8, 102: 7.1, 103: 6.3, 104: 6.5, 105: 7.6, 106: 4.9, 107: 7.3, 108: 6.7, 109: 7.2, 110: 6.5, 111: 6.4, 112: 6.8, 113: 5.7, 114: 5.8, 115: 6.4, 116: 6.5, 117: 7.7, 118: 7.7, 119: 6.0, 120: 6.9, 121: 5.6, 122: 7.7, 123: 6.3, 124: 6.7, 125: 7.2, 126: 6.2, 127: 6.1, 128: 6.4, 129: 7.2, 130: 7.4, 131: 7.9, 132: 6.4, 133: 6.3, 134: 6.1, 135: 7.7, 136: 6.3, 137: 6.4, 138: 6.0, 139: 6.9, 140: 6.7, 141: 6.9, 142: 5.8, 143: 6.8, 144: 6.7, 145: 6.7, 146: 6.3, 147: 6.5, 148: 6.2, 149: 5.9}\n",
      "\n",
      "\n",
      "sepal_width {0: 3.5, 1: 3.0, 2: 3.2, 3: 3.1, 4: 3.6, 5: 3.9, 6: 3.4, 7: 3.4, 8: 2.9, 9: 3.1, 10: 3.7, 11: 3.4, 12: 3.0, 13: 3.0, 14: 4.0, 15: 4.4, 16: 3.9, 17: 3.5, 18: 3.8, 19: 3.8, 20: 3.4, 21: 3.7, 22: 3.6, 23: 3.3, 24: 3.4, 25: 3.0, 26: 3.4, 27: 3.5, 28: 3.4, 29: 3.2, 30: 3.1, 31: 3.4, 32: 4.1, 33: 4.2, 34: 3.1, 35: 3.2, 36: 3.5, 37: 3.6, 38: 3.0, 39: 3.4, 40: 3.5, 41: 2.3, 42: 3.2, 43: 3.5, 44: 3.8, 45: 3.0, 46: 3.8, 47: 3.2, 48: 3.7, 49: 3.3, 50: 3.2, 51: 3.2, 52: 3.1, 53: 2.3, 54: 2.8, 55: 2.8, 56: 3.3, 57: 2.4, 58: 2.9, 59: 2.7, 60: 2.0, 61: 3.0, 62: 2.2, 63: 2.9, 64: 2.9, 65: 3.1, 66: 3.0, 67: 2.7, 68: 2.2, 69: 2.5, 70: 3.2, 71: 2.8, 72: 2.5, 73: 2.8, 74: 2.9, 75: 3.0, 76: 2.8, 77: 3.0, 78: 2.9, 79: 2.6, 80: 2.4, 81: 2.4, 82: 2.7, 83: 2.7, 84: 3.0, 85: 3.4, 86: 3.1, 87: 2.3, 88: 3.0, 89: 2.5, 90: 2.6, 91: 3.0, 92: 2.6, 93: 2.3, 94: 2.7, 95: 3.0, 96: 2.9, 97: 2.9, 98: 2.5, 99: 2.8, 100: 3.3, 101: 2.7, 102: 3.0, 103: 2.9, 104: 3.0, 105: 3.0, 106: 2.5, 107: 2.9, 108: 2.5, 109: 3.6, 110: 3.2, 111: 2.7, 112: 3.0, 113: 2.5, 114: 2.8, 115: 3.2, 116: 3.0, 117: 3.8, 118: 2.6, 119: 2.2, 120: 3.2, 121: 2.8, 122: 2.8, 123: 2.7, 124: 3.3, 125: 3.2, 126: 2.8, 127: 3.0, 128: 2.8, 129: 3.0, 130: 2.8, 131: 3.8, 132: 2.8, 133: 2.8, 134: 2.6, 135: 3.0, 136: 3.4, 137: 3.1, 138: 3.0, 139: 3.1, 140: 3.1, 141: 3.1, 142: 2.7, 143: 3.2, 144: 3.3, 145: 3.0, 146: 2.5, 147: 3.0, 148: 3.4, 149: 3.0}\n",
      "\n",
      "\n",
      "petal_length {0: 1.4, 1: 1.4, 2: 1.3, 3: 1.5, 4: 1.4, 5: 1.7, 6: 1.4, 7: 1.5, 8: 1.4, 9: 1.5, 10: 1.5, 11: 1.6, 12: 1.4, 13: 1.1, 14: 1.2, 15: 1.5, 16: 1.3, 17: 1.4, 18: 1.7, 19: 1.5, 20: 1.7, 21: 1.5, 22: 1.0, 23: 1.7, 24: 1.9, 25: 1.6, 26: 1.6, 27: 1.5, 28: 1.4, 29: 1.6, 30: 1.6, 31: 1.5, 32: 1.5, 33: 1.4, 34: 1.5, 35: 1.2, 36: 1.3, 37: 1.4, 38: 1.3, 39: 1.5, 40: 1.3, 41: 1.3, 42: 1.3, 43: 1.6, 44: 1.9, 45: 1.4, 46: 1.6, 47: 1.4, 48: 1.5, 49: 1.4, 50: 4.7, 51: 4.5, 52: 4.9, 53: 4.0, 54: 4.6, 55: 4.5, 56: 4.7, 57: 3.3, 58: 4.6, 59: 3.9, 60: 3.5, 61: 4.2, 62: 4.0, 63: 4.7, 64: 3.6, 65: 4.4, 66: 4.5, 67: 4.1, 68: 4.5, 69: 3.9, 70: 4.8, 71: 4.0, 72: 4.9, 73: 4.7, 74: 4.3, 75: 4.4, 76: 4.8, 77: 5.0, 78: 4.5, 79: 3.5, 80: 3.8, 81: 3.7, 82: 3.9, 83: 5.1, 84: 4.5, 85: 4.5, 86: 4.7, 87: 4.4, 88: 4.1, 89: 4.0, 90: 4.4, 91: 4.6, 92: 4.0, 93: 3.3, 94: 4.2, 95: 4.2, 96: 4.2, 97: 4.3, 98: 3.0, 99: 4.1, 100: 6.0, 101: 5.1, 102: 5.9, 103: 5.6, 104: 5.8, 105: 6.6, 106: 4.5, 107: 6.3, 108: 5.8, 109: 6.1, 110: 5.1, 111: 5.3, 112: 5.5, 113: 5.0, 114: 5.1, 115: 5.3, 116: 5.5, 117: 6.7, 118: 6.9, 119: 5.0, 120: 5.7, 121: 4.9, 122: 6.7, 123: 4.9, 124: 5.7, 125: 6.0, 126: 4.8, 127: 4.9, 128: 5.6, 129: 5.8, 130: 6.1, 131: 6.4, 132: 5.6, 133: 5.1, 134: 5.6, 135: 6.1, 136: 5.6, 137: 5.5, 138: 4.8, 139: 5.4, 140: 5.6, 141: 5.1, 142: 5.1, 143: 5.9, 144: 5.7, 145: 5.2, 146: 5.0, 147: 5.2, 148: 5.4, 149: 5.1}\n",
      "\n",
      "\n",
      "petal_width {0: 0.2, 1: 0.2, 2: 0.2, 3: 0.2, 4: 0.2, 5: 0.4, 6: 0.3, 7: 0.2, 8: 0.2, 9: 0.1, 10: 0.2, 11: 0.2, 12: 0.1, 13: 0.1, 14: 0.2, 15: 0.4, 16: 0.4, 17: 0.3, 18: 0.3, 19: 0.3, 20: 0.2, 21: 0.4, 22: 0.2, 23: 0.5, 24: 0.2, 25: 0.2, 26: 0.4, 27: 0.2, 28: 0.2, 29: 0.2, 30: 0.2, 31: 0.4, 32: 0.1, 33: 0.2, 34: 0.2, 35: 0.2, 36: 0.2, 37: 0.1, 38: 0.2, 39: 0.2, 40: 0.3, 41: 0.3, 42: 0.2, 43: 0.6, 44: 0.4, 45: 0.3, 46: 0.2, 47: 0.2, 48: 0.2, 49: 0.2, 50: 1.4, 51: 1.5, 52: 1.5, 53: 1.3, 54: 1.5, 55: 1.3, 56: 1.6, 57: 1.0, 58: 1.3, 59: 1.4, 60: 1.0, 61: 1.5, 62: 1.0, 63: 1.4, 64: 1.3, 65: 1.4, 66: 1.5, 67: 1.0, 68: 1.5, 69: 1.1, 70: 1.8, 71: 1.3, 72: 1.5, 73: 1.2, 74: 1.3, 75: 1.4, 76: 1.4, 77: 1.7, 78: 1.5, 79: 1.0, 80: 1.1, 81: 1.0, 82: 1.2, 83: 1.6, 84: 1.5, 85: 1.6, 86: 1.5, 87: 1.3, 88: 1.3, 89: 1.3, 90: 1.2, 91: 1.4, 92: 1.2, 93: 1.0, 94: 1.3, 95: 1.2, 96: 1.3, 97: 1.3, 98: 1.1, 99: 1.3, 100: 2.5, 101: 1.9, 102: 2.1, 103: 1.8, 104: 2.2, 105: 2.1, 106: 1.7, 107: 1.8, 108: 1.8, 109: 2.5, 110: 2.0, 111: 1.9, 112: 2.1, 113: 2.0, 114: 2.4, 115: 2.3, 116: 1.8, 117: 2.2, 118: 2.3, 119: 1.5, 120: 2.3, 121: 2.0, 122: 2.0, 123: 1.8, 124: 2.1, 125: 1.8, 126: 1.8, 127: 1.8, 128: 2.1, 129: 1.6, 130: 1.9, 131: 2.0, 132: 2.2, 133: 1.5, 134: 1.4, 135: 2.3, 136: 2.4, 137: 1.8, 138: 1.8, 139: 2.1, 140: 2.4, 141: 2.3, 142: 1.9, 143: 2.3, 144: 2.5, 145: 2.3, 146: 1.9, 147: 2.0, 148: 2.3, 149: 1.8}\n",
      "\n",
      "\n",
      "species {0: 'setosa', 1: 'setosa', 2: 'setosa', 3: 'setosa', 4: 'setosa', 5: 'setosa', 6: 'setosa', 7: 'setosa', 8: 'setosa', 9: 'setosa', 10: 'setosa', 11: 'setosa', 12: 'setosa', 13: 'setosa', 14: 'setosa', 15: 'setosa', 16: 'setosa', 17: 'setosa', 18: 'setosa', 19: 'setosa', 20: 'setosa', 21: 'setosa', 22: 'setosa', 23: 'setosa', 24: 'setosa', 25: 'setosa', 26: 'setosa', 27: 'setosa', 28: 'setosa', 29: 'setosa', 30: 'setosa', 31: 'setosa', 32: 'setosa', 33: 'setosa', 34: 'setosa', 35: 'setosa', 36: 'setosa', 37: 'setosa', 38: 'setosa', 39: 'setosa', 40: 'setosa', 41: 'setosa', 42: 'setosa', 43: 'setosa', 44: 'setosa', 45: 'setosa', 46: 'setosa', 47: 'setosa', 48: 'setosa', 49: 'setosa', 50: 'versicolor', 51: 'versicolor', 52: 'versicolor', 53: 'versicolor', 54: 'versicolor', 55: 'versicolor', 56: 'versicolor', 57: 'versicolor', 58: 'versicolor', 59: 'versicolor', 60: 'versicolor', 61: 'versicolor', 62: 'versicolor', 63: 'versicolor', 64: 'versicolor', 65: 'versicolor', 66: 'versicolor', 67: 'versicolor', 68: 'versicolor', 69: 'versicolor', 70: 'versicolor', 71: 'versicolor', 72: 'versicolor', 73: 'versicolor', 74: 'versicolor', 75: 'versicolor', 76: 'versicolor', 77: 'versicolor', 78: 'versicolor', 79: 'versicolor', 80: 'versicolor', 81: 'versicolor', 82: 'versicolor', 83: 'versicolor', 84: 'versicolor', 85: 'versicolor', 86: 'versicolor', 87: 'versicolor', 88: 'versicolor', 89: 'versicolor', 90: 'versicolor', 91: 'versicolor', 92: 'versicolor', 93: 'versicolor', 94: 'versicolor', 95: 'versicolor', 96: 'versicolor', 97: 'versicolor', 98: 'versicolor', 99: 'versicolor', 100: 'virginica', 101: 'virginica', 102: 'virginica', 103: 'virginica', 104: 'virginica', 105: 'virginica', 106: 'virginica', 107: 'virginica', 108: 'virginica', 109: 'virginica', 110: 'virginica', 111: 'virginica', 112: 'virginica', 113: 'virginica', 114: 'virginica', 115: 'virginica', 116: 'virginica', 117: 'virginica', 118: 'virginica', 119: 'virginica', 120: 'virginica', 121: 'virginica', 122: 'virginica', 123: 'virginica', 124: 'virginica', 125: 'virginica', 126: 'virginica', 127: 'virginica', 128: 'virginica', 129: 'virginica', 130: 'virginica', 131: 'virginica', 132: 'virginica', 133: 'virginica', 134: 'virginica', 135: 'virginica', 136: 'virginica', 137: 'virginica', 138: 'virginica', 139: 'virginica', 140: 'virginica', 141: 'virginica', 142: 'virginica', 143: 'virginica', 144: 'virginica', 145: 'virginica', 146: 'virginica', 147: 'virginica', 148: 'virginica', 149: 'virginica'}\n",
      "\n",
      "\n"
     ]
    }
   ],
   "source": [
    "for group, value in iris_dic.items():\n",
    "    print(group, value)\n",
    "    print('\\n')"
   ]
  },
  {
   "cell_type": "code",
   "execution_count": 119,
   "metadata": {},
   "outputs": [
    {
     "name": "stdout",
     "output_type": "stream",
     "text": [
      "변수는  sepal_length\n",
      "0:5.1\t1:4.9\t2:4.7\t3:4.6\t4:5.0\t5:5.4\t6:4.6\t7:5.0\t8:4.4\t9:4.9\t10:5.4\t11:4.8\t12:4.8\t13:4.3\t14:5.8\t15:5.7\t16:5.4\t17:5.1\t18:5.7\t19:5.1\t20:5.4\t21:5.1\t22:4.6\t23:5.1\t24:4.8\t25:5.0\t26:5.0\t27:5.2\t28:5.2\t29:4.7\t30:4.8\t31:5.4\t32:5.2\t33:5.5\t34:4.9\t35:5.0\t36:5.5\t37:4.9\t38:4.4\t39:5.1\t40:5.0\t41:4.5\t42:4.4\t43:5.0\t44:5.1\t45:4.8\t46:5.1\t47:4.6\t48:5.3\t49:5.0\t50:7.0\t51:6.4\t52:6.9\t53:5.5\t54:6.5\t55:5.7\t56:6.3\t57:4.9\t58:6.6\t59:5.2\t60:5.0\t61:5.9\t62:6.0\t63:6.1\t64:5.6\t65:6.7\t66:5.6\t67:5.8\t68:6.2\t69:5.6\t70:5.9\t71:6.1\t72:6.3\t73:6.1\t74:6.4\t75:6.6\t76:6.8\t77:6.7\t78:6.0\t79:5.7\t80:5.5\t81:5.5\t82:5.8\t83:6.0\t84:5.4\t85:6.0\t86:6.7\t87:6.3\t88:5.6\t89:5.5\t90:5.5\t91:6.1\t92:5.8\t93:5.0\t94:5.6\t95:5.7\t96:5.7\t97:6.2\t98:5.1\t99:5.7\t100:6.3\t101:5.8\t102:7.1\t103:6.3\t104:6.5\t105:7.6\t106:4.9\t107:7.3\t108:6.7\t109:7.2\t110:6.5\t111:6.4\t112:6.8\t113:5.7\t114:5.8\t115:6.4\t116:6.5\t117:7.7\t118:7.7\t119:6.0\t120:6.9\t121:5.6\t122:7.7\t123:6.3\t124:6.7\t125:7.2\t126:6.2\t127:6.1\t128:6.4\t129:7.2\t130:7.4\t131:7.9\t132:6.4\t133:6.3\t134:6.1\t135:7.7\t136:6.3\t137:6.4\t138:6.0\t139:6.9\t140:6.7\t141:6.9\t142:5.8\t143:6.8\t144:6.7\t145:6.7\t146:6.3\t147:6.5\t148:6.2\t149:5.9\t\n",
      "\n",
      "변수는  sepal_width\n",
      "0:3.5\t1:3.0\t2:3.2\t3:3.1\t4:3.6\t5:3.9\t6:3.4\t7:3.4\t8:2.9\t9:3.1\t10:3.7\t11:3.4\t12:3.0\t13:3.0\t14:4.0\t15:4.4\t16:3.9\t17:3.5\t18:3.8\t19:3.8\t20:3.4\t21:3.7\t22:3.6\t23:3.3\t24:3.4\t25:3.0\t26:3.4\t27:3.5\t28:3.4\t29:3.2\t30:3.1\t31:3.4\t32:4.1\t33:4.2\t34:3.1\t35:3.2\t36:3.5\t37:3.6\t38:3.0\t39:3.4\t40:3.5\t41:2.3\t42:3.2\t43:3.5\t44:3.8\t45:3.0\t46:3.8\t47:3.2\t48:3.7\t49:3.3\t50:3.2\t51:3.2\t52:3.1\t53:2.3\t54:2.8\t55:2.8\t56:3.3\t57:2.4\t58:2.9\t59:2.7\t60:2.0\t61:3.0\t62:2.2\t63:2.9\t64:2.9\t65:3.1\t66:3.0\t67:2.7\t68:2.2\t69:2.5\t70:3.2\t71:2.8\t72:2.5\t73:2.8\t74:2.9\t75:3.0\t76:2.8\t77:3.0\t78:2.9\t79:2.6\t80:2.4\t81:2.4\t82:2.7\t83:2.7\t84:3.0\t85:3.4\t86:3.1\t87:2.3\t88:3.0\t89:2.5\t90:2.6\t91:3.0\t92:2.6\t93:2.3\t94:2.7\t95:3.0\t96:2.9\t97:2.9\t98:2.5\t99:2.8\t100:3.3\t101:2.7\t102:3.0\t103:2.9\t104:3.0\t105:3.0\t106:2.5\t107:2.9\t108:2.5\t109:3.6\t110:3.2\t111:2.7\t112:3.0\t113:2.5\t114:2.8\t115:3.2\t116:3.0\t117:3.8\t118:2.6\t119:2.2\t120:3.2\t121:2.8\t122:2.8\t123:2.7\t124:3.3\t125:3.2\t126:2.8\t127:3.0\t128:2.8\t129:3.0\t130:2.8\t131:3.8\t132:2.8\t133:2.8\t134:2.6\t135:3.0\t136:3.4\t137:3.1\t138:3.0\t139:3.1\t140:3.1\t141:3.1\t142:2.7\t143:3.2\t144:3.3\t145:3.0\t146:2.5\t147:3.0\t148:3.4\t149:3.0\t\n",
      "\n",
      "변수는  petal_length\n",
      "0:1.4\t1:1.4\t2:1.3\t3:1.5\t4:1.4\t5:1.7\t6:1.4\t7:1.5\t8:1.4\t9:1.5\t10:1.5\t11:1.6\t12:1.4\t13:1.1\t14:1.2\t15:1.5\t16:1.3\t17:1.4\t18:1.7\t19:1.5\t20:1.7\t21:1.5\t22:1.0\t23:1.7\t24:1.9\t25:1.6\t26:1.6\t27:1.5\t28:1.4\t29:1.6\t30:1.6\t31:1.5\t32:1.5\t33:1.4\t34:1.5\t35:1.2\t36:1.3\t37:1.4\t38:1.3\t39:1.5\t40:1.3\t41:1.3\t42:1.3\t43:1.6\t44:1.9\t45:1.4\t46:1.6\t47:1.4\t48:1.5\t49:1.4\t50:4.7\t51:4.5\t52:4.9\t53:4.0\t54:4.6\t55:4.5\t56:4.7\t57:3.3\t58:4.6\t59:3.9\t60:3.5\t61:4.2\t62:4.0\t63:4.7\t64:3.6\t65:4.4\t66:4.5\t67:4.1\t68:4.5\t69:3.9\t70:4.8\t71:4.0\t72:4.9\t73:4.7\t74:4.3\t75:4.4\t76:4.8\t77:5.0\t78:4.5\t79:3.5\t80:3.8\t81:3.7\t82:3.9\t83:5.1\t84:4.5\t85:4.5\t86:4.7\t87:4.4\t88:4.1\t89:4.0\t90:4.4\t91:4.6\t92:4.0\t93:3.3\t94:4.2\t95:4.2\t96:4.2\t97:4.3\t98:3.0\t99:4.1\t100:6.0\t101:5.1\t102:5.9\t103:5.6\t104:5.8\t105:6.6\t106:4.5\t107:6.3\t108:5.8\t109:6.1\t110:5.1\t111:5.3\t112:5.5\t113:5.0\t114:5.1\t115:5.3\t116:5.5\t117:6.7\t118:6.9\t119:5.0\t120:5.7\t121:4.9\t122:6.7\t123:4.9\t124:5.7\t125:6.0\t126:4.8\t127:4.9\t128:5.6\t129:5.8\t130:6.1\t131:6.4\t132:5.6\t133:5.1\t134:5.6\t135:6.1\t136:5.6\t137:5.5\t138:4.8\t139:5.4\t140:5.6\t141:5.1\t142:5.1\t143:5.9\t144:5.7\t145:5.2\t146:5.0\t147:5.2\t148:5.4\t149:5.1\t\n",
      "\n",
      "변수는  petal_width\n",
      "0:0.2\t1:0.2\t2:0.2\t3:0.2\t4:0.2\t5:0.4\t6:0.3\t7:0.2\t8:0.2\t9:0.1\t10:0.2\t11:0.2\t12:0.1\t13:0.1\t14:0.2\t15:0.4\t16:0.4\t17:0.3\t18:0.3\t19:0.3\t20:0.2\t21:0.4\t22:0.2\t23:0.5\t24:0.2\t25:0.2\t26:0.4\t27:0.2\t28:0.2\t29:0.2\t30:0.2\t31:0.4\t32:0.1\t33:0.2\t34:0.2\t35:0.2\t36:0.2\t37:0.1\t38:0.2\t39:0.2\t40:0.3\t41:0.3\t42:0.2\t43:0.6\t44:0.4\t45:0.3\t46:0.2\t47:0.2\t48:0.2\t49:0.2\t50:1.4\t51:1.5\t52:1.5\t53:1.3\t54:1.5\t55:1.3\t56:1.6\t57:1.0\t58:1.3\t59:1.4\t60:1.0\t61:1.5\t62:1.0\t63:1.4\t64:1.3\t65:1.4\t66:1.5\t67:1.0\t68:1.5\t69:1.1\t70:1.8\t71:1.3\t72:1.5\t73:1.2\t74:1.3\t75:1.4\t76:1.4\t77:1.7\t78:1.5\t79:1.0\t80:1.1\t81:1.0\t82:1.2\t83:1.6\t84:1.5\t85:1.6\t86:1.5\t87:1.3\t88:1.3\t89:1.3\t90:1.2\t91:1.4\t92:1.2\t93:1.0\t94:1.3\t95:1.2\t96:1.3\t97:1.3\t98:1.1\t99:1.3\t100:2.5\t101:1.9\t102:2.1\t103:1.8\t104:2.2\t105:2.1\t106:1.7\t107:1.8\t108:1.8\t109:2.5\t110:2.0\t111:1.9\t112:2.1\t113:2.0\t114:2.4\t115:2.3\t116:1.8\t117:2.2\t118:2.3\t119:1.5\t120:2.3\t121:2.0\t122:2.0\t123:1.8\t124:2.1\t125:1.8\t126:1.8\t127:1.8\t128:2.1\t129:1.6\t130:1.9\t131:2.0\t132:2.2\t133:1.5\t134:1.4\t135:2.3\t136:2.4\t137:1.8\t138:1.8\t139:2.1\t140:2.4\t141:2.3\t142:1.9\t143:2.3\t144:2.5\t145:2.3\t146:1.9\t147:2.0\t148:2.3\t149:1.8\t\n",
      "\n",
      "변수는  species\n",
      "0:setosa\t1:setosa\t2:setosa\t3:setosa\t4:setosa\t5:setosa\t6:setosa\t7:setosa\t8:setosa\t9:setosa\t10:setosa\t11:setosa\t12:setosa\t13:setosa\t14:setosa\t15:setosa\t16:setosa\t17:setosa\t18:setosa\t19:setosa\t20:setosa\t21:setosa\t22:setosa\t23:setosa\t24:setosa\t25:setosa\t26:setosa\t27:setosa\t28:setosa\t29:setosa\t30:setosa\t31:setosa\t32:setosa\t33:setosa\t34:setosa\t35:setosa\t36:setosa\t37:setosa\t38:setosa\t39:setosa\t40:setosa\t41:setosa\t42:setosa\t43:setosa\t44:setosa\t45:setosa\t46:setosa\t47:setosa\t48:setosa\t49:setosa\t50:versicolor\t51:versicolor\t52:versicolor\t53:versicolor\t54:versicolor\t55:versicolor\t56:versicolor\t57:versicolor\t58:versicolor\t59:versicolor\t60:versicolor\t61:versicolor\t62:versicolor\t63:versicolor\t64:versicolor\t65:versicolor\t66:versicolor\t67:versicolor\t68:versicolor\t69:versicolor\t70:versicolor\t71:versicolor\t72:versicolor\t73:versicolor\t74:versicolor\t75:versicolor\t76:versicolor\t77:versicolor\t78:versicolor\t79:versicolor\t80:versicolor\t81:versicolor\t82:versicolor\t83:versicolor\t84:versicolor\t85:versicolor\t86:versicolor\t87:versicolor\t88:versicolor\t89:versicolor\t90:versicolor\t91:versicolor\t92:versicolor\t93:versicolor\t94:versicolor\t95:versicolor\t96:versicolor\t97:versicolor\t98:versicolor\t99:versicolor\t100:virginica\t101:virginica\t102:virginica\t103:virginica\t104:virginica\t105:virginica\t106:virginica\t107:virginica\t108:virginica\t109:virginica\t110:virginica\t111:virginica\t112:virginica\t113:virginica\t114:virginica\t115:virginica\t116:virginica\t117:virginica\t118:virginica\t119:virginica\t120:virginica\t121:virginica\t122:virginica\t123:virginica\t124:virginica\t125:virginica\t126:virginica\t127:virginica\t128:virginica\t129:virginica\t130:virginica\t131:virginica\t132:virginica\t133:virginica\t134:virginica\t135:virginica\t136:virginica\t137:virginica\t138:virginica\t139:virginica\t140:virginica\t141:virginica\t142:virginica\t143:virginica\t144:virginica\t145:virginica\t146:virginica\t147:virginica\t148:virginica\t149:virginica\t\n",
      "\n"
     ]
    }
   ],
   "source": [
    "for group, value in iris_dic.items():\n",
    "    print('변수는 ',group)\n",
    "    for key, data in value.items():\n",
    "        print(\"{}:{}\".format(key,data), end='\\t')\n",
    "    print('\\n')"
   ]
  },
  {
   "cell_type": "code",
   "execution_count": 120,
   "metadata": {},
   "outputs": [],
   "source": [
    "# iris_dic를 hdf5파일로 쓰기\n",
    "import h5py\n",
    "with h5py.File('data/ch09_iris.hdf5', 'w') as f:\n",
    "    for group, value in iris_dic.items():\n",
    "        grp = f.create_group(group)\n",
    "        for key, data in value.items():\n",
    "            grp.create_dataset(str(key), data=data)"
   ]
  },
  {
   "cell_type": "code",
   "execution_count": 15,
   "metadata": {},
   "outputs": [],
   "source": [
    "# iris_df를 hdf5 파일로 쓰기\n",
    "iris_df.to_hdf('data/ch09_iris2.hdf5', key=\"iris\")"
   ]
  },
  {
   "cell_type": "code",
   "execution_count": 29,
   "metadata": {},
   "outputs": [
    {
     "data": {
      "text/plain": [
       "{'name': '김', 'age': 20, 'address': '마포'}"
      ]
     },
     "execution_count": 29,
     "metadata": {},
     "output_type": "execute_result"
    }
   ],
   "source": [
    "# hdf5데이터를 딕셔너리로 불러오기\n",
    "dict_data ={}\n",
    "dict_data.update( {'name':'김'})\n",
    "dict_data.update({'age':20})\n",
    "dict_data.update({'address':'마포'})\n",
    "dict_data"
   ]
  },
  {
   "cell_type": "code",
   "execution_count": 31,
   "metadata": {},
   "outputs": [
    {
     "name": "stderr",
     "output_type": "stream",
     "text": [
      "<ipython-input-31-738dce8b9e69>:7: H5pyDeprecationWarning: dataset.value has been deprecated. Use dataset[()] instead.\n",
      "  cols.update({int(key):data.value})\n"
     ]
    }
   ],
   "source": [
    "import h5py\n",
    "iris_dic2 = {}\n",
    "with h5py.File('data/ch09_iris.hdf5','r') as f:\n",
    "    for group, value in f.items():\n",
    "        cols = {}\n",
    "        for key, data in value.items():\n",
    "            cols.update({int(key):data.value})\n",
    "        iris_dic2.update({group:cols})"
   ]
  },
  {
   "cell_type": "code",
   "execution_count": 32,
   "metadata": {},
   "outputs": [
    {
     "name": "stdout",
     "output_type": "stream",
     "text": [
      "petal_length\n",
      "0:1.4\t1:1.4\t10:1.5\t100:6.0\t101:5.1\t102:5.9\t103:5.6\t104:5.8\t105:6.6\t106:4.5\t107:6.3\t108:5.8\t109:6.1\t11:1.6\t110:5.1\t111:5.3\t112:5.5\t113:5.0\t114:5.1\t115:5.3\t116:5.5\t117:6.7\t118:6.9\t119:5.0\t12:1.4\t120:5.7\t121:4.9\t122:6.7\t123:4.9\t124:5.7\t125:6.0\t126:4.8\t127:4.9\t128:5.6\t129:5.8\t13:1.1\t130:6.1\t131:6.4\t132:5.6\t133:5.1\t134:5.6\t135:6.1\t136:5.6\t137:5.5\t138:4.8\t139:5.4\t14:1.2\t140:5.6\t141:5.1\t142:5.1\t143:5.9\t144:5.7\t145:5.2\t146:5.0\t147:5.2\t148:5.4\t149:5.1\t15:1.5\t16:1.3\t17:1.4\t18:1.7\t19:1.5\t2:1.3\t20:1.7\t21:1.5\t22:1.0\t23:1.7\t24:1.9\t25:1.6\t26:1.6\t27:1.5\t28:1.4\t29:1.6\t3:1.5\t30:1.6\t31:1.5\t32:1.5\t33:1.4\t34:1.5\t35:1.2\t36:1.3\t37:1.4\t38:1.3\t39:1.5\t4:1.4\t40:1.3\t41:1.3\t42:1.3\t43:1.6\t44:1.9\t45:1.4\t46:1.6\t47:1.4\t48:1.5\t49:1.4\t5:1.7\t50:4.7\t51:4.5\t52:4.9\t53:4.0\t54:4.6\t55:4.5\t56:4.7\t57:3.3\t58:4.6\t59:3.9\t6:1.4\t60:3.5\t61:4.2\t62:4.0\t63:4.7\t64:3.6\t65:4.4\t66:4.5\t67:4.1\t68:4.5\t69:3.9\t7:1.5\t70:4.8\t71:4.0\t72:4.9\t73:4.7\t74:4.3\t75:4.4\t76:4.8\t77:5.0\t78:4.5\t79:3.5\t8:1.4\t80:3.8\t81:3.7\t82:3.9\t83:5.1\t84:4.5\t85:4.5\t86:4.7\t87:4.4\t88:4.1\t89:4.0\t9:1.5\t90:4.4\t91:4.6\t92:4.0\t93:3.3\t94:4.2\t95:4.2\t96:4.2\t97:4.3\t98:3.0\t99:4.1\t\n",
      "\n",
      "petal_width\n",
      "0:0.2\t1:0.2\t10:0.2\t100:2.5\t101:1.9\t102:2.1\t103:1.8\t104:2.2\t105:2.1\t106:1.7\t107:1.8\t108:1.8\t109:2.5\t11:0.2\t110:2.0\t111:1.9\t112:2.1\t113:2.0\t114:2.4\t115:2.3\t116:1.8\t117:2.2\t118:2.3\t119:1.5\t12:0.1\t120:2.3\t121:2.0\t122:2.0\t123:1.8\t124:2.1\t125:1.8\t126:1.8\t127:1.8\t128:2.1\t129:1.6\t13:0.1\t130:1.9\t131:2.0\t132:2.2\t133:1.5\t134:1.4\t135:2.3\t136:2.4\t137:1.8\t138:1.8\t139:2.1\t14:0.2\t140:2.4\t141:2.3\t142:1.9\t143:2.3\t144:2.5\t145:2.3\t146:1.9\t147:2.0\t148:2.3\t149:1.8\t15:0.4\t16:0.4\t17:0.3\t18:0.3\t19:0.3\t2:0.2\t20:0.2\t21:0.4\t22:0.2\t23:0.5\t24:0.2\t25:0.2\t26:0.4\t27:0.2\t28:0.2\t29:0.2\t3:0.2\t30:0.2\t31:0.4\t32:0.1\t33:0.2\t34:0.2\t35:0.2\t36:0.2\t37:0.1\t38:0.2\t39:0.2\t4:0.2\t40:0.3\t41:0.3\t42:0.2\t43:0.6\t44:0.4\t45:0.3\t46:0.2\t47:0.2\t48:0.2\t49:0.2\t5:0.4\t50:1.4\t51:1.5\t52:1.5\t53:1.3\t54:1.5\t55:1.3\t56:1.6\t57:1.0\t58:1.3\t59:1.4\t6:0.3\t60:1.0\t61:1.5\t62:1.0\t63:1.4\t64:1.3\t65:1.4\t66:1.5\t67:1.0\t68:1.5\t69:1.1\t7:0.2\t70:1.8\t71:1.3\t72:1.5\t73:1.2\t74:1.3\t75:1.4\t76:1.4\t77:1.7\t78:1.5\t79:1.0\t8:0.2\t80:1.1\t81:1.0\t82:1.2\t83:1.6\t84:1.5\t85:1.6\t86:1.5\t87:1.3\t88:1.3\t89:1.3\t9:0.1\t90:1.2\t91:1.4\t92:1.2\t93:1.0\t94:1.3\t95:1.2\t96:1.3\t97:1.3\t98:1.1\t99:1.3\t\n",
      "\n",
      "sepal_length\n",
      "0:5.1\t1:4.9\t10:5.4\t100:6.3\t101:5.8\t102:7.1\t103:6.3\t104:6.5\t105:7.6\t106:4.9\t107:7.3\t108:6.7\t109:7.2\t11:4.8\t110:6.5\t111:6.4\t112:6.8\t113:5.7\t114:5.8\t115:6.4\t116:6.5\t117:7.7\t118:7.7\t119:6.0\t12:4.8\t120:6.9\t121:5.6\t122:7.7\t123:6.3\t124:6.7\t125:7.2\t126:6.2\t127:6.1\t128:6.4\t129:7.2\t13:4.3\t130:7.4\t131:7.9\t132:6.4\t133:6.3\t134:6.1\t135:7.7\t136:6.3\t137:6.4\t138:6.0\t139:6.9\t14:5.8\t140:6.7\t141:6.9\t142:5.8\t143:6.8\t144:6.7\t145:6.7\t146:6.3\t147:6.5\t148:6.2\t149:5.9\t15:5.7\t16:5.4\t17:5.1\t18:5.7\t19:5.1\t2:4.7\t20:5.4\t21:5.1\t22:4.6\t23:5.1\t24:4.8\t25:5.0\t26:5.0\t27:5.2\t28:5.2\t29:4.7\t3:4.6\t30:4.8\t31:5.4\t32:5.2\t33:5.5\t34:4.9\t35:5.0\t36:5.5\t37:4.9\t38:4.4\t39:5.1\t4:5.0\t40:5.0\t41:4.5\t42:4.4\t43:5.0\t44:5.1\t45:4.8\t46:5.1\t47:4.6\t48:5.3\t49:5.0\t5:5.4\t50:7.0\t51:6.4\t52:6.9\t53:5.5\t54:6.5\t55:5.7\t56:6.3\t57:4.9\t58:6.6\t59:5.2\t6:4.6\t60:5.0\t61:5.9\t62:6.0\t63:6.1\t64:5.6\t65:6.7\t66:5.6\t67:5.8\t68:6.2\t69:5.6\t7:5.0\t70:5.9\t71:6.1\t72:6.3\t73:6.1\t74:6.4\t75:6.6\t76:6.8\t77:6.7\t78:6.0\t79:5.7\t8:4.4\t80:5.5\t81:5.5\t82:5.8\t83:6.0\t84:5.4\t85:6.0\t86:6.7\t87:6.3\t88:5.6\t89:5.5\t9:4.9\t90:5.5\t91:6.1\t92:5.8\t93:5.0\t94:5.6\t95:5.7\t96:5.7\t97:6.2\t98:5.1\t99:5.7\t\n",
      "\n",
      "sepal_width\n",
      "0:3.5\t1:3.0\t10:3.7\t100:3.3\t101:2.7\t102:3.0\t103:2.9\t104:3.0\t105:3.0\t106:2.5\t107:2.9\t108:2.5\t109:3.6\t11:3.4\t110:3.2\t111:2.7\t112:3.0\t113:2.5\t114:2.8\t115:3.2\t116:3.0\t117:3.8\t118:2.6\t119:2.2\t12:3.0\t120:3.2\t121:2.8\t122:2.8\t123:2.7\t124:3.3\t125:3.2\t126:2.8\t127:3.0\t128:2.8\t129:3.0\t13:3.0\t130:2.8\t131:3.8\t132:2.8\t133:2.8\t134:2.6\t135:3.0\t136:3.4\t137:3.1\t138:3.0\t139:3.1\t14:4.0\t140:3.1\t141:3.1\t142:2.7\t143:3.2\t144:3.3\t145:3.0\t146:2.5\t147:3.0\t148:3.4\t149:3.0\t15:4.4\t16:3.9\t17:3.5\t18:3.8\t19:3.8\t2:3.2\t20:3.4\t21:3.7\t22:3.6\t23:3.3\t24:3.4\t25:3.0\t26:3.4\t27:3.5\t28:3.4\t29:3.2\t3:3.1\t30:3.1\t31:3.4\t32:4.1\t33:4.2\t34:3.1\t35:3.2\t36:3.5\t37:3.6\t38:3.0\t39:3.4\t4:3.6\t40:3.5\t41:2.3\t42:3.2\t43:3.5\t44:3.8\t45:3.0\t46:3.8\t47:3.2\t48:3.7\t49:3.3\t5:3.9\t50:3.2\t51:3.2\t52:3.1\t53:2.3\t54:2.8\t55:2.8\t56:3.3\t57:2.4\t58:2.9\t59:2.7\t6:3.4\t60:2.0\t61:3.0\t62:2.2\t63:2.9\t64:2.9\t65:3.1\t66:3.0\t67:2.7\t68:2.2\t69:2.5\t7:3.4\t70:3.2\t71:2.8\t72:2.5\t73:2.8\t74:2.9\t75:3.0\t76:2.8\t77:3.0\t78:2.9\t79:2.6\t8:2.9\t80:2.4\t81:2.4\t82:2.7\t83:2.7\t84:3.0\t85:3.4\t86:3.1\t87:2.3\t88:3.0\t89:2.5\t9:3.1\t90:2.6\t91:3.0\t92:2.6\t93:2.3\t94:2.7\t95:3.0\t96:2.9\t97:2.9\t98:2.5\t99:2.8\t\n",
      "\n",
      "species\n",
      "0:setosa\t1:setosa\t10:setosa\t100:virginica\t101:virginica\t102:virginica\t103:virginica\t104:virginica\t105:virginica\t106:virginica\t107:virginica\t108:virginica\t109:virginica\t11:setosa\t110:virginica\t111:virginica\t112:virginica\t113:virginica\t114:virginica\t115:virginica\t116:virginica\t117:virginica\t118:virginica\t119:virginica\t12:setosa\t120:virginica\t121:virginica\t122:virginica\t123:virginica\t124:virginica\t125:virginica\t126:virginica\t127:virginica\t128:virginica\t129:virginica\t13:setosa\t130:virginica\t131:virginica\t132:virginica\t133:virginica\t134:virginica\t135:virginica\t136:virginica\t137:virginica\t138:virginica\t139:virginica\t14:setosa\t140:virginica\t141:virginica\t142:virginica\t143:virginica\t144:virginica\t145:virginica\t146:virginica\t147:virginica\t148:virginica\t149:virginica\t15:setosa\t16:setosa\t17:setosa\t18:setosa\t19:setosa\t2:setosa\t20:setosa\t21:setosa\t22:setosa\t23:setosa\t24:setosa\t25:setosa\t26:setosa\t27:setosa\t28:setosa\t29:setosa\t3:setosa\t30:setosa\t31:setosa\t32:setosa\t33:setosa\t34:setosa\t35:setosa\t36:setosa\t37:setosa\t38:setosa\t39:setosa\t4:setosa\t40:setosa\t41:setosa\t42:setosa\t43:setosa\t44:setosa\t45:setosa\t46:setosa\t47:setosa\t48:setosa\t49:setosa\t5:setosa\t50:versicolor\t51:versicolor\t52:versicolor\t53:versicolor\t54:versicolor\t55:versicolor\t56:versicolor\t57:versicolor\t58:versicolor\t59:versicolor\t6:setosa\t60:versicolor\t61:versicolor\t62:versicolor\t63:versicolor\t64:versicolor\t65:versicolor\t66:versicolor\t67:versicolor\t68:versicolor\t69:versicolor\t7:setosa\t70:versicolor\t71:versicolor\t72:versicolor\t73:versicolor\t74:versicolor\t75:versicolor\t76:versicolor\t77:versicolor\t78:versicolor\t79:versicolor\t8:setosa\t80:versicolor\t81:versicolor\t82:versicolor\t83:versicolor\t84:versicolor\t85:versicolor\t86:versicolor\t87:versicolor\t88:versicolor\t89:versicolor\t9:setosa\t90:versicolor\t91:versicolor\t92:versicolor\t93:versicolor\t94:versicolor\t95:versicolor\t96:versicolor\t97:versicolor\t98:versicolor\t99:versicolor\t\n",
      "\n"
     ]
    }
   ],
   "source": [
    "for group, value in iris_dic2.items():\n",
    "    print(group)\n",
    "    for key, data in value.items():\n",
    "        print(\"{}:{}\".format(key, data), end='\\t')\n",
    "    print('\\n')"
   ]
  },
  {
   "cell_type": "markdown",
   "metadata": {},
   "source": [
    "### 5.2 pandas 라이브러리를 통해 hdf5 파일 읽어오기"
   ]
  },
  {
   "cell_type": "code",
   "execution_count": 18,
   "metadata": {},
   "outputs": [
    {
     "data": {
      "text/html": [
       "<div>\n",
       "<style scoped>\n",
       "    .dataframe tbody tr th:only-of-type {\n",
       "        vertical-align: middle;\n",
       "    }\n",
       "\n",
       "    .dataframe tbody tr th {\n",
       "        vertical-align: top;\n",
       "    }\n",
       "\n",
       "    .dataframe thead th {\n",
       "        text-align: right;\n",
       "    }\n",
       "</style>\n",
       "<table border=\"1\" class=\"dataframe\">\n",
       "  <thead>\n",
       "    <tr style=\"text-align: right;\">\n",
       "      <th></th>\n",
       "      <th>sepal_length</th>\n",
       "      <th>sepal_width</th>\n",
       "      <th>petal_length</th>\n",
       "      <th>petal_width</th>\n",
       "      <th>species</th>\n",
       "    </tr>\n",
       "  </thead>\n",
       "  <tbody>\n",
       "    <tr>\n",
       "      <th>0</th>\n",
       "      <td>5.1</td>\n",
       "      <td>3.5</td>\n",
       "      <td>1.4</td>\n",
       "      <td>0.2</td>\n",
       "      <td>setosa</td>\n",
       "    </tr>\n",
       "    <tr>\n",
       "      <th>1</th>\n",
       "      <td>4.9</td>\n",
       "      <td>3.0</td>\n",
       "      <td>1.4</td>\n",
       "      <td>0.2</td>\n",
       "      <td>setosa</td>\n",
       "    </tr>\n",
       "    <tr>\n",
       "      <th>2</th>\n",
       "      <td>4.7</td>\n",
       "      <td>3.2</td>\n",
       "      <td>1.3</td>\n",
       "      <td>0.2</td>\n",
       "      <td>setosa</td>\n",
       "    </tr>\n",
       "    <tr>\n",
       "      <th>3</th>\n",
       "      <td>4.6</td>\n",
       "      <td>3.1</td>\n",
       "      <td>1.5</td>\n",
       "      <td>0.2</td>\n",
       "      <td>setosa</td>\n",
       "    </tr>\n",
       "    <tr>\n",
       "      <th>4</th>\n",
       "      <td>5.0</td>\n",
       "      <td>3.6</td>\n",
       "      <td>1.4</td>\n",
       "      <td>0.2</td>\n",
       "      <td>setosa</td>\n",
       "    </tr>\n",
       "    <tr>\n",
       "      <th>...</th>\n",
       "      <td>...</td>\n",
       "      <td>...</td>\n",
       "      <td>...</td>\n",
       "      <td>...</td>\n",
       "      <td>...</td>\n",
       "    </tr>\n",
       "    <tr>\n",
       "      <th>145</th>\n",
       "      <td>6.7</td>\n",
       "      <td>3.0</td>\n",
       "      <td>5.2</td>\n",
       "      <td>2.3</td>\n",
       "      <td>virginica</td>\n",
       "    </tr>\n",
       "    <tr>\n",
       "      <th>146</th>\n",
       "      <td>6.3</td>\n",
       "      <td>2.5</td>\n",
       "      <td>5.0</td>\n",
       "      <td>1.9</td>\n",
       "      <td>virginica</td>\n",
       "    </tr>\n",
       "    <tr>\n",
       "      <th>147</th>\n",
       "      <td>6.5</td>\n",
       "      <td>3.0</td>\n",
       "      <td>5.2</td>\n",
       "      <td>2.0</td>\n",
       "      <td>virginica</td>\n",
       "    </tr>\n",
       "    <tr>\n",
       "      <th>148</th>\n",
       "      <td>6.2</td>\n",
       "      <td>3.4</td>\n",
       "      <td>5.4</td>\n",
       "      <td>2.3</td>\n",
       "      <td>virginica</td>\n",
       "    </tr>\n",
       "    <tr>\n",
       "      <th>149</th>\n",
       "      <td>5.9</td>\n",
       "      <td>3.0</td>\n",
       "      <td>5.1</td>\n",
       "      <td>1.8</td>\n",
       "      <td>virginica</td>\n",
       "    </tr>\n",
       "  </tbody>\n",
       "</table>\n",
       "<p>150 rows × 5 columns</p>\n",
       "</div>"
      ],
      "text/plain": [
       "     sepal_length  sepal_width  petal_length  petal_width    species\n",
       "0             5.1          3.5           1.4          0.2     setosa\n",
       "1             4.9          3.0           1.4          0.2     setosa\n",
       "2             4.7          3.2           1.3          0.2     setosa\n",
       "3             4.6          3.1           1.5          0.2     setosa\n",
       "4             5.0          3.6           1.4          0.2     setosa\n",
       "..            ...          ...           ...          ...        ...\n",
       "145           6.7          3.0           5.2          2.3  virginica\n",
       "146           6.3          2.5           5.0          1.9  virginica\n",
       "147           6.5          3.0           5.2          2.0  virginica\n",
       "148           6.2          3.4           5.4          2.3  virginica\n",
       "149           5.9          3.0           5.1          1.8  virginica\n",
       "\n",
       "[150 rows x 5 columns]"
      ]
     },
     "execution_count": 18,
     "metadata": {},
     "output_type": "execute_result"
    }
   ],
   "source": [
    "import pandas as pd\n",
    "iris_df2 = pd.read_hdf('data/ch09_iris2.hdf5', key='iris')\n",
    "iris_df2"
   ]
  },
  {
   "cell_type": "markdown",
   "metadata": {},
   "source": [
    "## 연습문제. 고객관리 애플리케이션"
   ]
  },
  {
   "cell_type": "code",
   "execution_count": 60,
   "metadata": {},
   "outputs": [],
   "source": [
    "# 필요한 클래스나 함수들 정의\n",
    "class Customer:\n",
    "    def __init__(self, name, phone, email, age, grade, etc):\n",
    "        self.name = name\n",
    "        self.phone = phone\n",
    "        self.email = email\n",
    "        self.age = age\n",
    "        self.grade = grade\n",
    "        self.etc = etc\n",
    "    def as_dict (self): # csv파일 저장시 필요\n",
    "        return {\"name\":self.name, \"phone\":self.phone,\n",
    "                 \"email\":self.email, \"age\":self.age,\n",
    "                 \"grade\":self.grade, \"etc\":self.etc}\n",
    "    def to_list_style(self): # txt파일 저장시 필요 홍길동 9999-9999 e@e.com\n",
    "        temp = [self.name, self.phone, self.email, str(self.age),\n",
    "                str(self.grade), self.etc,'\\n']\n",
    "        return ' '.join(temp)\n",
    "    def __str__(self):\n",
    "        return \"{:>5}\\t{:3}\\t{:15}\\t{:15}\\t{:3}\\t{}\".format('*'*self.grade, \n",
    "                self.name, self.phone, self.email, self.age, self.etc)  "
   ]
  },
  {
   "cell_type": "code",
   "execution_count": 61,
   "metadata": {},
   "outputs": [],
   "source": [
    "# txt파일 내용: 홍길동 010-9999-9999 h@hong.com 20 5 열심히 \n",
    "# txt파일의 내용을 Customer 객체로 반환\n",
    "# row는 txt파일 한 줄 읽은 내용 :홍길동 010-9999-9999 h@hong.com 20 5 열심히 \n",
    "def to_customer(row):\n",
    "    data = row.strip().split(' ')\n",
    "    name = data[0]\n",
    "    phone = data[1]\n",
    "    email = data[2]\n",
    "    age = int(data[3])\n",
    "    grade = int(data[4])\n",
    "    etc = data[5]\n",
    "    return Customer(name, phone, email, age, grade, etc)"
   ]
  },
  {
   "cell_type": "code",
   "execution_count": 62,
   "metadata": {},
   "outputs": [],
   "source": [
    "# 0. 실행하면서 customers 파일의 내용 load\n",
    "def load_customers():\n",
    "    customer_list = []\n",
    "    try:\n",
    "        with open('data/ch09_customers.txt','r', encoding=\"UTF8\") as f:\n",
    "            lines = f.readlines()\n",
    "            for row in lines:\n",
    "                customer = to_customer(row)\n",
    "                customer_list.append(customer)\n",
    "        print('데이터가 로드 되었습니다')\n",
    "    except FileNotFoundError:\n",
    "        print('데이터 파일이 없어 초기화하였습니다.')\n",
    "        f = open('data/ch09_customers.txt','w', encoding='UTF8')\n",
    "        f.write('')\n",
    "        f.close()\n",
    "    return customer_list"
   ]
  },
  {
   "cell_type": "code",
   "execution_count": 77,
   "metadata": {},
   "outputs": [
    {
     "name": "stdout",
     "output_type": "stream",
     "text": [
      "데이터가 로드 되었습니다\n",
      "*****\t홍길동\t010-9999-9999  \th@hong.com     \t 20\t열심히\n",
      "*****\t홍길동\t010-8888-8888  \th2@hong.com    \t 31\tabc\n",
      "   **\t유길동\t010-5432-2222  \tyu@hong.com    \t 20\t까칠해\n"
     ]
    }
   ],
   "source": [
    "for cust in load_customers():\n",
    "    print(cust)"
   ]
  },
  {
   "cell_type": "code",
   "execution_count": 63,
   "metadata": {},
   "outputs": [],
   "source": [
    "# 1. 입력\n",
    "def insert_customer_info():\n",
    "    name = input('이름 : ')\n",
    "    phone = input(\"전화번호 : \")\n",
    "    email = input(\"이메일 : \")\n",
    "    try:\n",
    "        age = int(input(\"나이 : \"))\n",
    "    except ValueError as e:\n",
    "        print('유효하지 않은 나이  입력시 나이는 0으로 초기화')\n",
    "        age = 0\n",
    "    try:\n",
    "        grade = int(input(\"고객등급(1~5) : \"))\n",
    "        if grade < 1 :\n",
    "            grade = 1\n",
    "        if grade > 5 :\n",
    "            greade = 5\n",
    "    except ValueError as e:\n",
    "        print('유효하지 않은 등급을 입력시 등급은 1로 초기화')\n",
    "        grade = 1\n",
    "    etc = input(\"기타 정보 : \")\n",
    "    customer = Customer(name, phone, email, age, grade, etc)\n",
    "    return customer"
   ]
  },
  {
   "cell_type": "code",
   "execution_count": 64,
   "metadata": {},
   "outputs": [],
   "source": [
    "# 2. 전체 출력\n",
    "def print_customers(customer_list):\n",
    "    print('='*70)\n",
    "    print(\"{:^70}\".format(\"고객 정보\"))\n",
    "    print('-'*70)\n",
    "    print(\"{}\\t{}\\t{}\\t\\t{}\\t\\t{}\\t{}\".format(\"GRADE\",\n",
    "                                    \"이름\",\"전화\",\"메일\",\"나이\",\"기타\"))\n",
    "    print('='*70)\n",
    "    for customer in customer_list:\n",
    "        print(customer)\n",
    "    print('='*70)"
   ]
  },
  {
   "cell_type": "code",
   "execution_count": 65,
   "metadata": {},
   "outputs": [],
   "source": [
    "# 3. 삭제\n",
    "def delete_customer(customer_list):\n",
    "    name = input('삭제할 이름은? ')\n",
    "    delete_flag = False\n",
    "    delete_idx = []\n",
    "    for i, customer in enumerate(customer_list):\n",
    "        # 삭제할 이름과 같은 데이터의 인덱스를 delete_idx에 추가(동명이인 고려)\n",
    "        if customer.name == name: \n",
    "            delete_idx.append(i)\n",
    "    #끝 idx부터 지워야 동명이인일 경우 제대로 작동\n",
    "    for i in range(len(delete_idx)-1,-1,-1):\n",
    "        del customer_list[delete_idx[i]]\n",
    "        delete_flag = True\n",
    "    if delete_flag:\n",
    "        print('\\\"{}\\\"님을 삭제하였습니다'.format(name))\n",
    "    else:\n",
    "        print('\\\"{}\\\"님이 데이터에 존재하지 않습니다'.format(name))"
   ]
  },
  {
   "cell_type": "code",
   "execution_count": 66,
   "metadata": {},
   "outputs": [],
   "source": [
    "# 4. 이름찾기(동명이인도 모두 검색)\n",
    "def search_customer(customer_list):\n",
    "    name = input('검색할 이름은? ')\n",
    "    search_result = []\n",
    "    for customer in customer_list:\n",
    "        if customer.name == name:\n",
    "            search_result.append(customer)\n",
    "    if len(search_result)==0:\n",
    "        print('검색한 고객이 데이터에 존재하지 않습니다')\n",
    "    else:\n",
    "        for customer in search_result:\n",
    "            print(customer)"
   ]
  },
  {
   "cell_type": "code",
   "execution_count": 67,
   "metadata": {},
   "outputs": [],
   "source": [
    "# 5. 내보내기(CSV)\n",
    "def save_customer_csv(customer_list):\n",
    "    import csv\n",
    "    fieldnames = [\"name\",\"phone\",\"email\",\"age\",\"grade\",\"etc\"]\n",
    "    customer_dict_list = [] \n",
    "    for customer in customer_list:\n",
    "        customer_dict_list.append(customer.as_dict())\n",
    "    filename = input('저장할 파일 이름은?')\n",
    "    try:\n",
    "        with open(\"data/\"+filename, \"w\", newline='', encoding=\"UTF-8\") as f:\n",
    "            dict_writer = csv.DictWriter(f, fieldnames=fieldnames)\n",
    "            dict_writer.writeheader()\n",
    "            dict_writer.writerows(customer_dict_list)\n",
    "    except Exception as e:\n",
    "        print('데이터 내보내기 예외 :', e)"
   ]
  },
  {
   "cell_type": "code",
   "execution_count": 68,
   "metadata": {},
   "outputs": [],
   "source": [
    "# 5. 종료하기 전 txt파일로 저장\n",
    "def save_customer_txt(customer_list):\n",
    "    customer_text_list = [] \n",
    "    for customer in customer_list:\n",
    "        customer_text_list.append(customer.to_list_style())\n",
    "    try:\n",
    "        with open(\"data/ch09_customers.txt\", \"w\", encoding=\"UTF-8\") as f:\n",
    "            f.writelines(customer_text_list)\n",
    "    except Exception as e:\n",
    "        print('데이터 내보내기 예외 :', e)"
   ]
  },
  {
   "cell_type": "code",
   "execution_count": 70,
   "metadata": {},
   "outputs": [],
   "source": [
    "def main():\n",
    "    customer_list = load_customers()\n",
    "    while True:\n",
    "        print(\"1:입력\",\"2:전체출력\",\"3:삭제\", \"4:이름찾기\",\"5:내보내기(CSV)\", \n",
    "              \"9:종료\", sep=\"|\", end=\"\")\n",
    "        menu = int(input(\"메뉴 선택 : \"))\n",
    "        if menu == 1:\n",
    "            customer = insert_customer_info()\n",
    "            customer_list.append(customer)\n",
    "        elif menu == 2:\n",
    "            print_customers(customer_list)\n",
    "        elif menu == 3:\n",
    "            delete_customer(customer_list)\n",
    "        elif menu == 4:\n",
    "            search_customer(customer_list)\n",
    "        elif menu == 5:\n",
    "            save_customer_csv(customer_list)\n",
    "        elif menu == 9:\n",
    "            save_customer_txt(customer_list)\n",
    "            break"
   ]
  },
  {
   "cell_type": "code",
   "execution_count": 79,
   "metadata": {},
   "outputs": [
    {
     "name": "stdout",
     "output_type": "stream",
     "text": [
      "데이터가 로드 되었습니다\n",
      "1:입력|2:전체출력|3:삭제|4:이름찾기|5:내보내기(CSV)|9:종료메뉴 선택 : 1\n",
      "이름 : 김철수\n",
      "전화번호 : 010-1111-1111\n",
      "이메일 : k@kim.com\n",
      "나이 : 35\n",
      "고객등급(1~5) : 4\n",
      "기타 정보 : abc\n",
      "1:입력|2:전체출력|3:삭제|4:이름찾기|5:내보내기(CSV)|9:종료메뉴 선택 : 2\n",
      "======================================================================\n",
      "                                고객 정보                                 \n",
      "----------------------------------------------------------------------\n",
      "GRADE\t이름\t전화\t\t메일\t\t나이\t기타\n",
      "======================================================================\n",
      "*****\t홍길동\t010-9999-9999  \th@hong.com     \t 20\t열심히\n",
      "*****\t홍길동\t010-8888-8888  \th2@hong.com    \t 31\tabc\n",
      "   **\t유길동\t010-5432-2222  \tyu@hong.com    \t 20\t까칠해\n",
      " ****\t김철수\t010-1111-1111  \tk@kim.com      \t 35\tabc\n",
      "======================================================================\n",
      "1:입력|2:전체출력|3:삭제|4:이름찾기|5:내보내기(CSV)|9:종료메뉴 선택 : 3\n",
      "삭제할 이름은? 홍길동\n",
      "\"홍길동\"님을 삭제하였습니다\n",
      "1:입력|2:전체출력|3:삭제|4:이름찾기|5:내보내기(CSV)|9:종료메뉴 선택 : 2\n",
      "======================================================================\n",
      "                                고객 정보                                 \n",
      "----------------------------------------------------------------------\n",
      "GRADE\t이름\t전화\t\t메일\t\t나이\t기타\n",
      "======================================================================\n",
      "   **\t유길동\t010-5432-2222  \tyu@hong.com    \t 20\t까칠해\n",
      " ****\t김철수\t010-1111-1111  \tk@kim.com      \t 35\tabc\n",
      "======================================================================\n",
      "1:입력|2:전체출력|3:삭제|4:이름찾기|5:내보내기(CSV)|9:종료메뉴 선택 : 4\n",
      "삭제할 이름은? 마마무\n",
      "검색한 고객이 데이터에 존재하지 않습니다\n",
      "1:입력|2:전체출력|3:삭제|4:이름찾기|5:내보내기(CSV)|9:종료메뉴 선택 : 5\n",
      "저장할 파일 이름은?ch09_customer.csv\n",
      "1:입력|2:전체출력|3:삭제|4:이름찾기|5:내보내기(CSV)|9:종료메뉴 선택 : 9\n"
     ]
    }
   ],
   "source": [
    "if __name__=='__main__':\n",
    "    main()"
   ]
  },
  {
   "cell_type": "code",
   "execution_count": null,
   "metadata": {},
   "outputs": [],
   "source": []
  }
 ],
 "metadata": {
  "kernelspec": {
   "display_name": "Python 3",
   "language": "python",
   "name": "python3"
  },
  "language_info": {
   "codemirror_mode": {
    "name": "ipython",
    "version": 3
   },
   "file_extension": ".py",
   "mimetype": "text/x-python",
   "name": "python",
   "nbconvert_exporter": "python",
   "pygments_lexer": "ipython3",
   "version": "3.8.5"
  },
  "toc": {
   "base_numbering": 1,
   "nav_menu": {},
   "number_sections": false,
   "sideBar": false,
   "skip_h1_title": false,
   "title_cell": "Table of Contents",
   "title_sidebar": "Contents",
   "toc_cell": false,
   "toc_position": {
    "height": "757px",
    "left": "1536px",
    "top": "92px",
    "width": "384px"
   },
   "toc_section_display": true,
   "toc_window_display": true
  },
  "varInspector": {
   "cols": {
    "lenName": 16,
    "lenType": 16,
    "lenVar": 40
   },
   "kernels_config": {
    "python": {
     "delete_cmd_postfix": "",
     "delete_cmd_prefix": "del ",
     "library": "var_list.py",
     "varRefreshCmd": "print(var_dic_list())"
    },
    "r": {
     "delete_cmd_postfix": ") ",
     "delete_cmd_prefix": "rm(",
     "library": "var_list.r",
     "varRefreshCmd": "cat(var_dic_list()) "
    }
   },
   "types_to_exclude": [
    "module",
    "function",
    "builtin_function_or_method",
    "instance",
    "_Feature"
   ],
   "window_display": false
  }
 },
 "nbformat": 4,
 "nbformat_minor": 4
}
