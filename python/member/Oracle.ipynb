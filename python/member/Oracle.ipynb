{
 "cells": [
  {
   "cell_type": "code",
   "execution_count": 1,
   "metadata": {
    "ExecuteTime": {
     "end_time": "2021-03-04T00:34:35.833781Z",
     "start_time": "2021-03-04T00:34:35.715908Z"
    }
   },
   "outputs": [],
   "source": [
    "import cx_Oracle\n",
    "oracle_dsn = cx_Oracle.makedsn(host=\"localhost\", port=1521, sid=\"xe\")\n",
    "global conn\n",
    "conn = cx_Oracle.connect(\"scott\", \"tiger\", dsn=oracle_dsn)\n",
    "cursor = conn.cursor()\n",
    "cursor.execute(\"\"\"\n",
    "    CREATE TABLE MEMBERS(\n",
    "        NAME VARCHAR2(20),\n",
    "        PHONE VARCHAR2(20),\n",
    "        EMAIL VARCHAR2(30),\n",
    "        AGE NUMBER(3),\n",
    "        GRADE NUMBER(2),\n",
    "        ETC VARCHAR2(50)\n",
    "    )\n",
    "\"\"\")"
   ]
  },
  {
   "cell_type": "code",
   "execution_count": 10,
   "metadata": {
    "ExecuteTime": {
     "end_time": "2021-03-04T00:36:53.726025Z",
     "start_time": "2021-03-04T00:35:27.248038Z"
    }
   },
   "outputs": [
    {
     "name": "stdout",
     "output_type": "stream",
     "text": [
      "1:입력|2:전체출력|3:삭제|4:이름찾기|5:내보내기(CSV)|9:종료메뉴 선택 : 1\n",
      "이름: 신정우\n",
      "전화번호: 010-3434-2131\n",
      "이메일: gsl@qw.com\n",
      "나이 : 32\n",
      "고객등급(1~5) : 2\n",
      "세부사항: n\n",
      "1:입력|2:전체출력|3:삭제|4:이름찾기|5:내보내기(CSV)|9:종료메뉴 선택 : 2\n",
      "  NAME          PHONE       EMAIL  AGE  GRADE ETC\n",
      "0  강기영          12121  qwq@qw.com   23      3   n\n",
      "1  신정우  010-3434-2131  gsl@qw.com   32      2   n\n",
      "1:입력|2:전체출력|3:삭제|4:이름찾기|5:내보내기(CSV)|9:종료메뉴 선택 : 1\n",
      "이름: 신정우\n",
      "전화번호: 010-2323-3231\n",
      "이메일: glwe@qw.com\n",
      "나이 : 23\n",
      "고객등급(1~5) : 1\n",
      "세부사항: n\n",
      "1:입력|2:전체출력|3:삭제|4:이름찾기|5:내보내기(CSV)|9:종료메뉴 선택 : 4\n",
      "검색할 이름은? 신정우\n",
      "('신정우', '010-3434-2131', 'gsl@qw.com', 32, 2, 'n')\n",
      "('신정우', '010-2323-3231', 'glwe@qw.com', 23, 1, 'n')\n",
      "1:입력|2:전체출력|3:삭제|4:이름찾기|5:내보내기(CSV)|9:종료메뉴 선택 : 3\n",
      "삭제할 이름은? 강기영\n",
      "1:입력|2:전체출력|3:삭제|4:이름찾기|5:내보내기(CSV)|9:종료메뉴 선택 : 5\n",
      "저장할 파일 이름은?member_oracle.csv\n",
      "1:입력|2:전체출력|3:삭제|4:이름찾기|5:내보내기(CSV)|9:종료메뉴 선택 : 9\n"
     ]
    }
   ],
   "source": [
    "def main():\n",
    "    cursor = conn.cursor()\n",
    "    while True:\n",
    "        print(\"1:입력\",\"2:전체출력\",\"3:삭제\", \"4:이름찾기\",\"5:내보내기(CSV)\", \n",
    "              \"9:종료\", sep=\"|\", end=\"\")\n",
    "        menu = int(input(\"메뉴 선택 : \"))\n",
    "        if menu == 1:\n",
    "            insert_customer_info(cursor)\n",
    "        elif menu == 2:\n",
    "            print_customers(cursor)\n",
    "        elif menu == 3:\n",
    "            delete_customer(cursor)\n",
    "        elif menu == 4:\n",
    "            search_customer(cursor)\n",
    "        elif menu == 5:\n",
    "            save_customer_csv(cursor)\n",
    "        elif menu == 9:\n",
    "            conn.close()\n",
    "            break\n",
    "if __name__=='__main__':\n",
    "    import cx_Oracle\n",
    "    oracle_dsn = cx_Oracle.makedsn(host=\"localhost\", port=1521, sid=\"xe\")\n",
    "    global conn\n",
    "    conn = cx_Oracle.connect(\"scott\", \"tiger\", dsn=oracle_dsn)\n",
    "    main()"
   ]
  },
  {
   "cell_type": "code",
   "execution_count": 2,
   "metadata": {
    "ExecuteTime": {
     "end_time": "2021-03-04T00:34:43.135016Z",
     "start_time": "2021-03-04T00:34:43.129032Z"
    }
   },
   "outputs": [],
   "source": [
    "#1. 입력\n",
    "def insert_customer_info(cursor):\n",
    "    name = input(\"이름: \")\n",
    "    phone = input(\"전화번호: \")\n",
    "    email = input(\"이메일: \")\n",
    "    try:\n",
    "        age = int(input(\"나이 : \"))\n",
    "    except ValueError as e:\n",
    "        print('유효하지 않은 나이  입력시 나이는 0으로 초기화')\n",
    "        age = 0\n",
    "    try:\n",
    "        grade = int(input(\"고객등급(1~5) : \"))\n",
    "        if grade < 1 :\n",
    "            grade = 1\n",
    "        if grade > 5 :\n",
    "            greade = 5\n",
    "    except ValueError as e:\n",
    "        print('유효하지 않은 등급을 입력시 등급은 1로 초기화')\n",
    "        grade = 1\n",
    "    etc = input(\"세부사항: \")\n",
    "    cursor.execute(\"INSERT INTO MEMBERS VALUES (:name, :phone, :email, :age, :grade, :etc)\", \n",
    "                   {'name':name, 'phone':phone, 'email':email, 'age':age, 'grade':grade, 'etc':etc})\n",
    "    conn.commit()"
   ]
  },
  {
   "cell_type": "code",
   "execution_count": 3,
   "metadata": {
    "ExecuteTime": {
     "end_time": "2021-03-04T00:34:43.300799Z",
     "start_time": "2021-03-04T00:34:43.295810Z"
    }
   },
   "outputs": [],
   "source": [
    "# 2. 전체 출력\n",
    "def print_customers(cursor):\n",
    "    import pandas as pd\n",
    "    cursor.execute(\"SELECT * FROM MEMBERS\")\n",
    "    customers = cursor.fetchall()\n",
    "    data_df = pd.DataFrame(customers)\n",
    "    data_df.columns = [row[0] for row in cursor.description]\n",
    "    print(data_df)"
   ]
  },
  {
   "cell_type": "code",
   "execution_count": 4,
   "metadata": {
    "ExecuteTime": {
     "end_time": "2021-03-04T00:34:43.483717Z",
     "start_time": "2021-03-04T00:34:43.479727Z"
    }
   },
   "outputs": [],
   "source": [
    "# 3. 삭제\n",
    "def delete_customer(cursor):\n",
    "    name = input('삭제할 이름은? ')\n",
    "    cursor.execute(\"DELETE FROM MEMBERS WHERE NAME=:name\", {'name':name})\n",
    "    conn.commit()"
   ]
  },
  {
   "cell_type": "code",
   "execution_count": 5,
   "metadata": {
    "ExecuteTime": {
     "end_time": "2021-03-04T00:34:43.652489Z",
     "start_time": "2021-03-04T00:34:43.647502Z"
    }
   },
   "outputs": [],
   "source": [
    "# 4. 이름찾기(동명이인도 모두 검색)\n",
    "def search_customer(cursor):\n",
    "    name = input('검색할 이름은? ')\n",
    "    cursor.execute(\"SELECT * FROM MEMBERS WHERE NAME=:name\", {'name':name})\n",
    "    customers = cursor.fetchall()\n",
    "    if len(customers)==0:\n",
    "        print('검색한 고객이 데이터에 존재하지 않습니다')\n",
    "    else:\n",
    "        for c in customers:\n",
    "            print(c)\n"
   ]
  },
  {
   "cell_type": "code",
   "execution_count": 6,
   "metadata": {
    "ExecuteTime": {
     "end_time": "2021-03-04T00:34:43.829541Z",
     "start_time": "2021-03-04T00:34:43.825589Z"
    }
   },
   "outputs": [],
   "source": [
    "def lid(keys, values):\n",
    "    return{key: value for key, value in zip (keys, values)}"
   ]
  },
  {
   "cell_type": "code",
   "execution_count": 7,
   "metadata": {
    "ExecuteTime": {
     "end_time": "2021-03-04T00:34:44.854017Z",
     "start_time": "2021-03-04T00:34:44.848033Z"
    }
   },
   "outputs": [],
   "source": [
    "# 5. 내보내기(CSV)\n",
    "def save_customer_csv(cursor):\n",
    "    import csv\n",
    "    customer_dict_list = []\n",
    "    cursor.execute(\"SELECT * FROM MEMBER\")\n",
    "    customers = cursor.fetchall()\n",
    "    fieldname = [row[0] for row in cursor.description]\n",
    "    for c in customers:\n",
    "        temp = list(c)\n",
    "        customer_dict_list.append(lid(fieldname, temp))\n",
    "    filename = input('저장할 파일 이름은?')\n",
    "    try:\n",
    "        with open(filename, \"w\", newline='', encoding=\"CP949\") as f:\n",
    "            dict_writer = csv.DictWriter(f, fieldnames=fieldname)\n",
    "            dict_writer.writeheader()\n",
    "            dict_writer.writerows(customer_dict_list)\n",
    "    except Exception as e:\n",
    "        print('데이터 내보내기 예외 :', e)"
   ]
  },
  {
   "cell_type": "code",
   "execution_count": null,
   "metadata": {},
   "outputs": [],
   "source": []
  }
 ],
 "metadata": {
  "kernelspec": {
   "display_name": "Python 3",
   "language": "python",
   "name": "python3"
  },
  "language_info": {
   "codemirror_mode": {
    "name": "ipython",
    "version": 3
   },
   "file_extension": ".py",
   "mimetype": "text/x-python",
   "name": "python",
   "nbconvert_exporter": "python",
   "pygments_lexer": "ipython3",
   "version": "3.8.5"
  },
  "toc": {
   "base_numbering": 1,
   "nav_menu": {},
   "number_sections": true,
   "sideBar": true,
   "skip_h1_title": false,
   "title_cell": "Table of Contents",
   "title_sidebar": "Contents",
   "toc_cell": false,
   "toc_position": {},
   "toc_section_display": true,
   "toc_window_display": false
  },
  "varInspector": {
   "cols": {
    "lenName": 16,
    "lenType": 16,
    "lenVar": 40
   },
   "kernels_config": {
    "python": {
     "delete_cmd_postfix": "",
     "delete_cmd_prefix": "del ",
     "library": "var_list.py",
     "varRefreshCmd": "print(var_dic_list())"
    },
    "r": {
     "delete_cmd_postfix": ") ",
     "delete_cmd_prefix": "rm(",
     "library": "var_list.r",
     "varRefreshCmd": "cat(var_dic_list()) "
    }
   },
   "types_to_exclude": [
    "module",
    "function",
    "builtin_function_or_method",
    "instance",
    "_Feature"
   ],
   "window_display": false
  }
 },
 "nbformat": 4,
 "nbformat_minor": 4
}
