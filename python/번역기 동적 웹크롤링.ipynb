{
 "cells": [
  {
   "cell_type": "code",
   "execution_count": 1,
   "metadata": {
    "ExecuteTime": {
     "end_time": "2021-03-18T03:47:51.609204Z",
     "start_time": "2021-03-18T03:47:51.599246Z"
    }
   },
   "outputs": [
    {
     "data": {
      "text/html": [
       "\n",
       "<style>\n",
       "div.container{width:80% !important;}\n",
       "</style>\n"
      ],
      "text/plain": [
       "<IPython.core.display.HTML object>"
      ]
     },
     "metadata": {},
     "output_type": "display_data"
    }
   ],
   "source": [
    "from IPython.display import display, HTML\n",
    "display(HTML(\"\"\"\n",
    "<style>\n",
    "div.container{width:80% !important;}\n",
    "</style>\n",
    "\"\"\"))"
   ]
  },
  {
   "cell_type": "code",
   "execution_count": 4,
   "metadata": {
    "ExecuteTime": {
     "end_time": "2021-03-18T03:54:00.264974Z",
     "start_time": "2021-03-18T03:53:59.993682Z"
    }
   },
   "outputs": [],
   "source": [
    "from selenium import webdriver\n",
    "from selenium.webdriver.common.keys import Keys\n",
    "from bs4 import BeautifulSoup\n",
    "import time"
   ]
  },
  {
   "cell_type": "code",
   "execution_count": 7,
   "metadata": {
    "ExecuteTime": {
     "end_time": "2021-03-18T04:09:25.800311Z",
     "start_time": "2021-03-18T04:08:58.576424Z"
    }
   },
   "outputs": [],
   "source": [
    "with open(\"data/dummy.txt\",\"r\", encoding=\"utf-8\") as f:\n",
    "    text = f.read()\n",
    "ready_list = []\n",
    "results = \"\"\n",
    "while len(text) > 5000:\n",
    "    temp_str = text[:5000]\n",
    "    space_idx = temp_str.rfind(' ')\n",
    "    ready_list.append(text[:space_idx])\n",
    "    text = text[space_idx:]\n",
    "ready_list.append(text)\n",
    "dv = webdriver.Chrome(\"D:\\BIGDATA\\source\\8_python\\selenium/chromedriver\")\n",
    "dv.get(\"https://translate.kakao.com/\")\n",
    "textarea = dv.find_element_by_class_name(\"tf_translation\")\n",
    "for ready in ready_list:\n",
    "    textarea.clear()\n",
    "    textarea.send_keys(ready)\n",
    "    button = dv.find_element_by_class_name(\"btn_translation\")\n",
    "    time.sleep(2)\n",
    "    soup = BeautifulSoup(dv.page_source, \"html.parser\")\n",
    "    result = soup.select_one(\"p.desc_translation\").text\n",
    "    results += result.replace('.','.\\n')\n",
    "with open('data/wer.txt','w',encoding='utf-8') as f:\n",
    "    f.write(results)\n",
    "dv.close()"
   ]
  },
  {
   "cell_type": "code",
   "execution_count": null,
   "metadata": {},
   "outputs": [],
   "source": []
  }
 ],
 "metadata": {
  "kernelspec": {
   "display_name": "Python 3",
   "language": "python",
   "name": "python3"
  },
  "language_info": {
   "codemirror_mode": {
    "name": "ipython",
    "version": 3
   },
   "file_extension": ".py",
   "mimetype": "text/x-python",
   "name": "python",
   "nbconvert_exporter": "python",
   "pygments_lexer": "ipython3",
   "version": "3.8.5"
  },
  "toc": {
   "base_numbering": 1,
   "nav_menu": {},
   "number_sections": true,
   "sideBar": true,
   "skip_h1_title": false,
   "title_cell": "Table of Contents",
   "title_sidebar": "Contents",
   "toc_cell": false,
   "toc_position": {},
   "toc_section_display": true,
   "toc_window_display": false
  },
  "varInspector": {
   "cols": {
    "lenName": 16,
    "lenType": 16,
    "lenVar": 40
   },
   "kernels_config": {
    "python": {
     "delete_cmd_postfix": "",
     "delete_cmd_prefix": "del ",
     "library": "var_list.py",
     "varRefreshCmd": "print(var_dic_list())"
    },
    "r": {
     "delete_cmd_postfix": ") ",
     "delete_cmd_prefix": "rm(",
     "library": "var_list.r",
     "varRefreshCmd": "cat(var_dic_list()) "
    }
   },
   "types_to_exclude": [
    "module",
    "function",
    "builtin_function_or_method",
    "instance",
    "_Feature"
   ],
   "window_display": false
  }
 },
 "nbformat": 4,
 "nbformat_minor": 4
}
