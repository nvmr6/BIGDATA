{
 "cells": [
  {
   "cell_type": "code",
   "execution_count": 32,
   "metadata": {
    "ExecuteTime": {
     "end_time": "2021-03-18T03:08:23.772936Z",
     "start_time": "2021-03-18T03:08:23.767970Z"
    }
   },
   "outputs": [
    {
     "data": {
      "text/html": [
       "\n",
       "<style>\n",
       "div.container{width:80% !important;}\n",
       "</style>\n"
      ],
      "text/plain": [
       "<IPython.core.display.HTML object>"
      ]
     },
     "metadata": {},
     "output_type": "display_data"
    }
   ],
   "source": [
    "from IPython.display import display, HTML\n",
    "display(HTML(\"\"\"\n",
    "<style>\n",
    "div.container{width:80% !important;}\n",
    "</style>\n",
    "\"\"\"))"
   ]
  },
  {
   "cell_type": "code",
   "execution_count": 81,
   "metadata": {
    "ExecuteTime": {
     "end_time": "2021-03-18T03:38:02.966674Z",
     "start_time": "2021-03-18T03:38:02.962683Z"
    }
   },
   "outputs": [],
   "source": [
    "#예제1 예스24 베스트셀러 리스트 웹크롤링"
   ]
  },
  {
   "cell_type": "code",
   "execution_count": 2,
   "metadata": {
    "ExecuteTime": {
     "end_time": "2021-03-18T05:05:06.936684Z",
     "start_time": "2021-03-18T05:05:06.688037Z"
    }
   },
   "outputs": [],
   "source": [
    "import requests\n",
    "from bs4 import BeautifulSoup"
   ]
  },
  {
   "cell_type": "code",
   "execution_count": 3,
   "metadata": {
    "ExecuteTime": {
     "end_time": "2021-03-18T05:05:07.687416Z",
     "start_time": "2021-03-18T05:05:06.948625Z"
    }
   },
   "outputs": [],
   "source": [
    "url = \"http://www.yes24.com/24/Category/BestSeller\"\n",
    "book_ranking = requests.get(url)"
   ]
  },
  {
   "cell_type": "code",
   "execution_count": 4,
   "metadata": {
    "ExecuteTime": {
     "end_time": "2021-03-18T05:05:07.950671Z",
     "start_time": "2021-03-18T05:05:07.700315Z"
    }
   },
   "outputs": [],
   "source": [
    "soup = BeautifulSoup(book_ranking.content, \"html.parser\")"
   ]
  },
  {
   "cell_type": "code",
   "execution_count": 11,
   "metadata": {
    "ExecuteTime": {
     "end_time": "2021-03-18T06:02:03.881006Z",
     "start_time": "2021-03-18T06:02:03.736393Z"
    }
   },
   "outputs": [
    {
     "name": "stdout",
     "output_type": "stream",
     "text": [
      " 1. 흔한남매가 선사하는 유쾌한 우애 흔한남매 원저/백난도 글/유난희 그림/흔한컴퍼니 감수 | 미래엔아이세움 10,800원 \n",
      " 2. 돌아온 피터슨, 다시 인생 법칙을 말하다  조던 B. 피터슨 저/김한영 역 | 웅진지식하우스 16,020원 \n",
      " 3. 잠들면 열리는 비밀상점, 그곳에서 펼쳐지는 힐링 판타지 이미예 저 | 팩토리나인 12,420원 \n",
      " 4. 주린이들을 위한 안전판! 염블리표 투자 바이블 염승환 저 | 메이트북스 16,200원 \n",
      " 5. 전천당에 행운의 손님이 등장했다! 히로시마 레이코 글/쟈쟈 그림/김정화 역 | 길벗스쿨 10,800원 \n",
      " 6. 우리 땅 독도를 지켜낸 빛나는 영웅들 설민석,스토리박스 글/정현희 그림/태건 역사 연구소 감수 | 아이휴먼 10,800원 \n",
      " 7. 흔한남매의 초등 어휘력 학습만화 !  흔한남매 원저/한은호 글/유희석 그림/흔한컴퍼니 감수 | 다산어린이 11,700원 \n",
      " 8. 국민 육아멘토 오은영 박사의 현실밀착 육아회화 오은영 저/차상미 그림 | 김영사 15,750원 \n",
      " 9. 한국어능력검정시험 압도적 1위 최태성 저 | 이투스북  13,500원 \n",
      "10. 2021년도 한국사능력검정시험 합격을 위해! 최태성 저 | 이투스북  12,600원 \n",
      "11. 취득부터 임대, 양도, 증여까지. 주택 세금의 모든 것! 국세청 저 | 국세청 7,000원 \n",
      "12. 10년 후, 지금보다 더 거대한 변화가 우리 앞에 온다 마우로 기옌 저/우진하 역 | 리더스북 16,200원 \n",
      "13. 수학이 어려운 엄마를 위한 전략적 학습 로드맵! 류승재 저 | 블루무스 15,120원 \n",
      "14. '인더숲 BTS편'에서 슈가, RM이 읽은 그 책! 손원평 저 | 창비 10,800원 \n",
      "15. 일론 머스크가 자문하는 두뇌 전문가 '짐 퀵'의 책! 짐 퀵 저/김미정 역 | 비즈니스북스 15,120원 \n",
      "16. 워런 버핏과 함께 \"세계의 위대한 투자가 99인\"에 선정! 강방천 저 | 한국경제신문사(한경비피) 22,500원 \n",
      "17. 박완서 작가 10주기 에세이  박완서 저 | 세계사 14,400원 \n",
      "18. 비상! 나무 집에 ‘미확인 비행 눈알’이 나타났다! 앤디 그리피스 글/테리 덴톤 그림/신수진 역 | 시공주니어 10,800원 \n",
      "19. 2020 최신판으로 토익 기출 보카 업그레이드 데이비드 조 저 | 해커스어학연구소 11,610원 \n",
      "20. 마이클 샌델, 기울어진 사회구조를 논하다 마이클 샌델 저/함규진 역 | 와이즈베리 16,200원 \n",
      "21. 슈퍼개미 김정환이 딸에게 전한 투자 비책! 마인드편 김정환,김이안 저 | 트러스트북스 15,300원 \n",
      "22. 2021년 한국사능력검정시험 준비는 큰별쌤과 함께 최태성 저 | 이투스북  17,100원 \n",
      "23. ‘사랑할 때 알아야 할 것들’ 김재식 작가의 관계 처방전  김재식 저 | 위즈덤하우스 13,320원 \n",
      "24. 평화를 되찾기 위한 사자 와니니와 친구들의 모험 이현 글/오윤화 그림 | 창비 9,720원 \n",
      "25. 박원순 사건의 진상  손병관 편 | 왕의서재 15,750원 \n",
      "26. 그림 유튜버 이연의 첫 번째 책 이연 저 | 미술문화 13,500원 \n",
      "27. 슈퍼개미 김정환이 딸에게 전한 실전! 투자 비책 김이안,김정환 저 | 트러스트북스 15,300원 \n",
      "28. 크게 성공하거나, 파산하거나. 운명을 가른 부의 비밀 모건 하우절 저/이지연 역 | 인플루엔셜 17,820원 \n",
      "29. 임경선 작가, 결혼에 관한 가장 사적인 고백 임경선 저 | 토스트 13,500원 \n",
      "30. 토익 만점 잡는 기출 ver.2 ETS 저 | YBM(와이비엠) 16,020원 \n",
      "31. 국가직 시험 실전감각 완벽 준비! 이선재 편저 | 에스티유니타스 18,900원 \n",
      "32. 우리 곁의, 내 안의, 세상 속의 어린이 김소영 저 | 사계절 13,500원 \n",
      "33. 토익엔 빠르고 확실한 기출로! ETS 저 | YBM(와이비엠) 16,020원 \n",
      "34. 드라마 〈파친코〉 원작 소설 이민진 저/이미정 역 | 문학사상 13,050원 \n",
      "35. 드라마 〈파친코〉 원작 소설 이민진 저/이미정 역 | 문학사상 13,050원 \n",
      "36. 부모를 선택하는 시대, 누구를 고르시겠습니까? 이희영 저 | 창비 10,800원 \n",
      "37. 나는 약하지만, 우리는 강해! \"함께\"의 힘!  이현 글/오윤화 그림 | 창비 9,720원 \n",
      "38. 초등 생활 고민 해결, 학부모 백과사전! 이서윤 저 | 아울북 25,110원 \n",
      "39. \"저는 이 공부법으로 의사가 되었습니다\" 이상욱(긍정에너지토리파) 저 | 웅진지식하우스 13,950원 \n",
      "40. 98.4% 학생이 “공부하고 싶어졌다”고 응답한 바로 그 책! 박성혁 저 | 다산북스 13,500원 \n",
      "\n"
     ]
    }
   ],
   "source": [
    "title_list = soup.select(\"#bestList ol li p.copy a\")\n",
    "describe_list = soup.select(\"#bestList ol li p.aupu\")\n",
    "price_list = soup.select(\"#bestList ol li p.price strong\")\n",
    "result_list = \"\"\n",
    "for i in range(len(title_list)):\n",
    "        result = \"{:2d}. {} {} {} \".format(i+1,title_list[i].text, describe_list[i].text, price_list[i].text)\n",
    "        result_list += result+\"\\n\"\n",
    "print(result_list)"
   ]
  },
  {
   "cell_type": "code",
   "execution_count": 79,
   "metadata": {
    "ExecuteTime": {
     "end_time": "2021-03-18T03:36:54.927850Z",
     "start_time": "2021-03-18T03:36:54.923860Z"
    }
   },
   "outputs": [],
   "source": [
    "with open('data/rslt.txt','w',encoding='utf-8') as f:\n",
    "    f.write(result_list)"
   ]
  }
 ],
 "metadata": {
  "kernelspec": {
   "display_name": "Python 3",
   "language": "python",
   "name": "python3"
  },
  "language_info": {
   "codemirror_mode": {
    "name": "ipython",
    "version": 3
   },
   "file_extension": ".py",
   "mimetype": "text/x-python",
   "name": "python",
   "nbconvert_exporter": "python",
   "pygments_lexer": "ipython3",
   "version": "3.8.5"
  },
  "toc": {
   "base_numbering": 1,
   "nav_menu": {},
   "number_sections": true,
   "sideBar": true,
   "skip_h1_title": false,
   "title_cell": "Table of Contents",
   "title_sidebar": "Contents",
   "toc_cell": false,
   "toc_position": {},
   "toc_section_display": true,
   "toc_window_display": false
  },
  "varInspector": {
   "cols": {
    "lenName": 16,
    "lenType": 16,
    "lenVar": 40
   },
   "kernels_config": {
    "python": {
     "delete_cmd_postfix": "",
     "delete_cmd_prefix": "del ",
     "library": "var_list.py",
     "varRefreshCmd": "print(var_dic_list())"
    },
    "r": {
     "delete_cmd_postfix": ") ",
     "delete_cmd_prefix": "rm(",
     "library": "var_list.r",
     "varRefreshCmd": "cat(var_dic_list()) "
    }
   },
   "types_to_exclude": [
    "module",
    "function",
    "builtin_function_or_method",
    "instance",
    "_Feature"
   ],
   "window_display": false
  }
 },
 "nbformat": 4,
 "nbformat_minor": 4
}
