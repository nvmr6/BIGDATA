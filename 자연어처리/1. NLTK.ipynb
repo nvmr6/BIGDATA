{
 "cells": [
  {
   "cell_type": "code",
   "execution_count": 2,
   "metadata": {
    "ExecuteTime": {
     "end_time": "2021-03-25T05:43:11.694341Z",
     "start_time": "2021-03-25T05:43:11.676344Z"
    }
   },
   "outputs": [
    {
     "data": {
      "text/html": [
       "\n",
       "<style>\n",
       "div.container{width:80% !important;}\n"
      ],
      "text/plain": [
       "<IPython.core.display.HTML object>"
      ]
     },
     "metadata": {},
     "output_type": "display_data"
    }
   ],
   "source": [
    "from IPython.display import display, HTML\n",
    "display(HTML(\"\"\"\n",
    "<style>\n",
    "div.container{width:80% !important;}\n",
    "\"\"\"))\n"
   ]
  },
  {
   "cell_type": "markdown",
   "metadata": {},
   "source": [
    "# NLTK"
   ]
  },
  {
   "cell_type": "markdown",
   "metadata": {},
   "source": [
    "## NLTK 패키지"
   ]
  },
  {
   "cell_type": "code",
   "execution_count": 3,
   "metadata": {
    "ExecuteTime": {
     "end_time": "2021-03-25T05:52:51.429998Z",
     "start_time": "2021-03-25T05:52:40.531519Z"
    }
   },
   "outputs": [],
   "source": [
    "import nltk"
   ]
  },
  {
   "cell_type": "code",
   "execution_count": 4,
   "metadata": {
    "ExecuteTime": {
     "end_time": "2021-03-25T05:59:16.911342Z",
     "start_time": "2021-03-25T05:56:09.131199Z"
    }
   },
   "outputs": [
    {
     "name": "stdout",
     "output_type": "stream",
     "text": [
      "showing info https://raw.githubusercontent.com/nltk/nltk_data/gh-pages/index.xml\n",
      "showing info https://raw.githubusercontent.com/nltk/nltk_data/gh-pages/index.xml\n"
     ]
    },
    {
     "data": {
      "text/plain": [
       "True"
      ]
     },
     "execution_count": 4,
     "metadata": {},
     "output_type": "execute_result"
    }
   ],
   "source": [
    "nltk.download()"
   ]
  },
  {
   "cell_type": "code",
   "execution_count": 5,
   "metadata": {
    "ExecuteTime": {
     "end_time": "2021-03-25T05:59:38.301511Z",
     "start_time": "2021-03-25T05:59:30.570879Z"
    }
   },
   "outputs": [
    {
     "name": "stdout",
     "output_type": "stream",
     "text": [
      "*** Introductory Examples for the NLTK Book ***\n",
      "Loading text1, ..., text9 and sent1, ..., sent9\n",
      "Type the name of the text or sentence to view it.\n",
      "Type: 'texts()' or 'sents()' to list the materials.\n",
      "text1: Moby Dick by Herman Melville 1851\n",
      "text2: Sense and Sensibility by Jane Austen 1811\n",
      "text3: The Book of Genesis\n",
      "text4: Inaugural Address Corpus\n",
      "text5: Chat Corpus\n",
      "text6: Monty Python and the Holy Grail\n",
      "text7: Wall Street Journal\n",
      "text8: Personals Corpus\n",
      "text9: The Man Who Was Thursday by G . K . Chesterton 1908\n"
     ]
    }
   ],
   "source": [
    "from nltk.book import *"
   ]
  },
  {
   "cell_type": "code",
   "execution_count": 7,
   "metadata": {
    "ExecuteTime": {
     "end_time": "2021-03-25T06:00:57.054138Z",
     "start_time": "2021-03-25T06:00:57.042167Z"
    }
   },
   "outputs": [
    {
     "data": {
      "text/plain": [
       "['austen-emma.txt',\n",
       " 'austen-persuasion.txt',\n",
       " 'austen-sense.txt',\n",
       " 'bible-kjv.txt',\n",
       " 'blake-poems.txt',\n",
       " 'bryant-stories.txt',\n",
       " 'burgess-busterbrown.txt',\n",
       " 'carroll-alice.txt',\n",
       " 'chesterton-ball.txt',\n",
       " 'chesterton-brown.txt',\n",
       " 'chesterton-thursday.txt',\n",
       " 'edgeworth-parents.txt',\n",
       " 'melville-moby_dick.txt',\n",
       " 'milton-paradise.txt',\n",
       " 'shakespeare-caesar.txt',\n",
       " 'shakespeare-hamlet.txt',\n",
       " 'shakespeare-macbeth.txt',\n",
       " 'whitman-leaves.txt']"
      ]
     },
     "execution_count": 7,
     "metadata": {},
     "output_type": "execute_result"
    }
   ],
   "source": [
    "#말뭉치 리스트\n",
    "nltk.corpus.gutenberg.fileids()"
   ]
  },
  {
   "cell_type": "code",
   "execution_count": 10,
   "metadata": {
    "ExecuteTime": {
     "end_time": "2021-03-25T06:05:27.741655Z",
     "start_time": "2021-03-25T06:05:27.730684Z"
    }
   },
   "outputs": [
    {
     "data": {
      "text/plain": [
       "'[Emma by Jane Austen'"
      ]
     },
     "execution_count": 10,
     "metadata": {},
     "output_type": "execute_result"
    }
   ],
   "source": [
    "emma = nltk.corpus.gutenberg.raw('austen-emma.txt')\n",
    "emma[:20]"
   ]
  },
  {
   "cell_type": "code",
   "execution_count": 14,
   "metadata": {
    "ExecuteTime": {
     "end_time": "2021-03-25T06:11:15.162231Z",
     "start_time": "2021-03-25T06:11:14.905898Z"
    }
   },
   "outputs": [
    {
     "name": "stdout",
     "output_type": "stream",
     "text": [
      "7493\n",
      "'Mr. Knightley loves to find fault with me, you know--\\nin a joke--it is all a joke.'\n"
     ]
    }
   ],
   "source": [
    "# sent_tokenize(): 문장 단위로 분류\n",
    "from nltk.tokenize import sent_tokenize\n",
    "sent_tokens = sent_tokenize(emma)\n",
    "print(len(sent_tokens))\n",
    "print(\"%r\" % (sent_tokens[100]))#raw data"
   ]
  },
  {
   "cell_type": "code",
   "execution_count": 16,
   "metadata": {
    "ExecuteTime": {
     "end_time": "2021-03-25T06:11:59.968378Z",
     "start_time": "2021-03-25T06:11:58.873907Z"
    }
   },
   "outputs": [
    {
     "name": "stdout",
     "output_type": "stream",
     "text": [
      "191785\n",
      "'too'\n"
     ]
    }
   ],
   "source": [
    "# word_tokenize(): 단어 단위로 분류\n",
    "from nltk.tokenize import word_tokenize\n",
    "word_tokens = word_tokenize(emma)\n",
    "print(len(word_tokens))\n",
    "print(\"%r\" % (word_tokens[100]))#raw data"
   ]
  },
  {
   "cell_type": "code",
   "execution_count": 17,
   "metadata": {
    "ExecuteTime": {
     "end_time": "2021-03-25T06:20:07.745137Z",
     "start_time": "2021-03-25T06:20:07.737135Z"
    }
   },
   "outputs": [
    {
     "name": "stdout",
     "output_type": "stream",
     "text": [
      "['Emma', 'by', 'Jane', 'Austen', '1816', 'VOLUME', 'I', 'CHAPTER', 'I', 'Emma', 'Woodhouse', 'handsome', 'clever', 'and', 'rich', 'with', 'a', 'comfortable', 'home', 'and', 'happy', 'disposition', 'seemed', 'to', 'unite', 'some', 'of', 'the', 'best', 'blessings', 'of', 'existence', 'and', 'had', 'lived', 'nearly', 'twenty', 'one', 'years', 'in', 'the', 'world', 'with', 'very', 'little', 'to', 'distress', 'or', 'vex', 'her']\n"
     ]
    }
   ],
   "source": [
    "#토큰화할 때 정규표현식 이용: regexptokenizer\n",
    "from nltk.tokenize import RegexpTokenizer\n",
    "ret = RegexpTokenizer('[\\w]+')\n",
    "print(ret.tokenize(sent_tokens[0]))"
   ]
  },
  {
   "cell_type": "markdown",
   "metadata": {},
   "source": [
    "## 형태소(의미가 있는 가장 작은 말의 단위) 분석\n",
    "- stemming: 어간 추출\n",
    "- lemmatizing: 원형 복원\n",
    "- part of speech tagging: 품사 태깅"
   ]
  },
  {
   "cell_type": "code",
   "execution_count": 21,
   "metadata": {
    "ExecuteTime": {
     "end_time": "2021-03-25T06:42:07.544214Z",
     "start_time": "2021-03-25T06:42:07.526258Z"
    }
   },
   "outputs": [
    {
     "data": {
      "text/plain": [
       "['send', 'cook', 'file', 'live', 'cri', 'die']"
      ]
     },
     "execution_count": 21,
     "metadata": {},
     "output_type": "execute_result"
    }
   ],
   "source": [
    "words = ['sending', 'cooking', 'files', 'lives', 'crying', 'dying']\n",
    "#어간 추출1: ParterStr\n",
    "from nltk.stem import PorterStemmer\n",
    "pst = PorterStemmer()\n",
    "[pst.stem(word) for word in words] "
   ]
  },
  {
   "cell_type": "code",
   "execution_count": 22,
   "metadata": {
    "ExecuteTime": {
     "end_time": "2021-03-25T06:43:50.160064Z",
     "start_time": "2021-03-25T06:43:50.143097Z"
    }
   },
   "outputs": [
    {
     "data": {
      "text/plain": [
       "['send', 'cook', 'fil', 'liv', 'cry', 'dying']"
      ]
     },
     "execution_count": 22,
     "metadata": {},
     "output_type": "execute_result"
    }
   ],
   "source": [
    "#어간 추출2: LancasterStemmer\n",
    "from nltk.stem import LancasterStemmer\n",
    "lst = LancasterStemmer()\n",
    "[lst.stem(word) for word in words] "
   ]
  },
  {
   "cell_type": "code",
   "execution_count": 26,
   "metadata": {
    "ExecuteTime": {
     "end_time": "2021-03-25T06:44:49.261012Z",
     "start_time": "2021-03-25T06:44:49.254031Z"
    }
   },
   "outputs": [
    {
     "data": {
      "text/plain": [
       "['send', 'cook', 'files', 'lives', 'cry', 'dy']"
      ]
     },
     "execution_count": 26,
     "metadata": {},
     "output_type": "execute_result"
    }
   ],
   "source": [
    "#어간 추출3: RegexpStemmer\n",
    "from nltk.stem import RegexpStemmer\n",
    "rst = RegexpStemmer('ing')\n",
    "[rst.stem(word) for word in words] "
   ]
  },
  {
   "cell_type": "code",
   "execution_count": 31,
   "metadata": {
    "ExecuteTime": {
     "end_time": "2021-03-25T06:50:16.977091Z",
     "start_time": "2021-03-25T06:50:16.967099Z"
    }
   },
   "outputs": [
    {
     "data": {
      "text/plain": [
       "['belief', 'cooking']"
      ]
     },
     "execution_count": 31,
     "metadata": {},
     "output_type": "execute_result"
    }
   ],
   "source": [
    "#어간 추출시 의미가 달라질 수 있어 원형 복원\n",
    "words2 = ['believes', 'cooking']\n",
    "[lst.stem(word) for word in words2]\n",
    "#원형 복원\n",
    "from nltk.stem.wordnet import WordNetLemmatizer\n",
    "wl = WordNetLemmatizer()\n",
    "[wl.lemmatize(word) for word in words2]"
   ]
  },
  {
   "cell_type": "code",
   "execution_count": 32,
   "metadata": {
    "ExecuteTime": {
     "end_time": "2021-03-25T06:52:31.511079Z",
     "start_time": "2021-03-25T06:52:31.405367Z"
    }
   },
   "outputs": [
    {
     "name": "stdout",
     "output_type": "stream",
     "text": [
      "['It', 'was', 'on', 'the', 'wedding-day', 'of', 'this', 'beloved', 'friend', 'that', 'Emma', 'first', 'sat', 'in', 'mournful', 'thought', 'of', 'any', 'continuance', '.']\n",
      "품사 태깅 결과 \n",
      " [('It', 'PRP'), ('was', 'VBD'), ('on', 'IN'), ('the', 'DT'), ('wedding-day', 'NN'), ('of', 'IN'), ('this', 'DT'), ('beloved', 'VBN'), ('friend', 'NN'), ('that', 'WDT'), ('Emma', 'NNP'), ('first', 'RB'), ('sat', 'VBD'), ('in', 'IN'), ('mournful', 'JJ'), ('thought', 'NN'), ('of', 'IN'), ('any', 'DT'), ('continuance', 'NN'), ('.', '.')]\n"
     ]
    }
   ],
   "source": [
    "#품사 태깅\n",
    "from nltk.tag import pos_tag\n",
    "tagged_list = pos_tag(word_tokenize(sent_tokens[10]))\n",
    "print(word_tokenize(sent_tokens[10]))\n",
    "print(\"품사 태깅 결과 \\n\", tagged_list)"
   ]
  },
  {
   "cell_type": "code",
   "execution_count": 48,
   "metadata": {
    "ExecuteTime": {
     "end_time": "2021-03-25T07:11:48.095541Z",
     "start_time": "2021-03-25T07:11:42.084675Z"
    }
   },
   "outputs": [
    {
     "data": {
      "text/plain": [
       "[('Emma', 'NNP'),\n",
       " ('Jane', 'NNP'),\n",
       " ('Austen', 'NNP'),\n",
       " ('1816', 'CD'),\n",
       " ('VOLUME', 'NNP'),\n",
       " ('CHAPTER', 'NNP'),\n",
       " ('Emma', 'NNP'),\n",
       " ('Woodhouse', 'NNP'),\n",
       " ('handsome', 'VBD'),\n",
       " ('clever', 'NN'),\n",
       " ('and', 'CC'),\n",
       " ('rich', 'JJ'),\n",
       " ('with', 'IN'),\n",
       " ('comfortable', 'JJ'),\n",
       " ('home', 'NN'),\n",
       " ('and', 'CC'),\n",
       " ('happy', 'JJ'),\n",
       " ('disposition', 'NN'),\n",
       " ('seemed', 'VBD'),\n",
       " ('unite', 'JJ'),\n",
       " ('some', 'DT'),\n",
       " ('the', 'DT'),\n",
       " ('best', 'JJS'),\n",
       " ('blessings', 'NNS'),\n",
       " ('existence', 'NN'),\n",
       " ('and', 'CC'),\n",
       " ('had', 'VBD'),\n",
       " ('lived', 'VBN'),\n",
       " ('nearly', 'RB'),\n",
       " ('twenty', 'JJ'),\n",
       " ('one', 'CD'),\n",
       " ('years', 'NNS'),\n",
       " ('the', 'DT'),\n",
       " ('world', 'NN'),\n",
       " ('with', 'IN'),\n",
       " ('very', 'RB'),\n",
       " ('little', 'JJ'),\n",
       " ('distress', 'NN'),\n",
       " ('vex', 'IN'),\n",
       " ('her', 'PRP$'),\n",
       " ('She', 'PRP'),\n",
       " ('was', 'VBD'),\n",
       " ('the', 'DT'),\n",
       " ('youngest', 'JJS'),\n",
       " ('the', 'DT'),\n",
       " ('two', 'CD'),\n",
       " ('daughters', 'NNS'),\n",
       " ('most', 'RBS'),\n",
       " ('affectionate', 'JJ'),\n",
       " ('indulgent', 'NN'),\n",
       " ('father', 'NN'),\n",
       " ('and', 'CC'),\n",
       " ('had', 'VBD'),\n",
       " ('consequence', 'NN'),\n",
       " ('her', 'PRP$'),\n",
       " ('sister', 'JJ'),\n",
       " ('marriage', 'NN'),\n",
       " ('been', 'VBN'),\n",
       " ('mistress', 'RB'),\n",
       " ('his', 'PRP$'),\n",
       " ('house', 'NN'),\n",
       " ('from', 'IN'),\n",
       " ('very', 'RB'),\n",
       " ('early', 'JJ'),\n",
       " ('period', 'NN'),\n",
       " ('Her', 'PRP$'),\n",
       " ('mother', 'NN'),\n",
       " ('had', 'VBD'),\n",
       " ('died', 'VBN'),\n",
       " ('too', 'RB'),\n",
       " ('long', 'RB'),\n",
       " ('ago', 'RB'),\n",
       " ('for', 'IN'),\n",
       " ('her', 'PRP$'),\n",
       " ('have', 'VBP'),\n",
       " ('more', 'JJR'),\n",
       " ('than', 'IN'),\n",
       " ('indistinct', 'JJ'),\n",
       " ('remembrance', 'NN'),\n",
       " ('her', 'PRP$'),\n",
       " ('caresses', 'NNS'),\n",
       " ('and', 'CC'),\n",
       " ('her', 'PRP$'),\n",
       " ('place', 'NN'),\n",
       " ('had', 'VBD'),\n",
       " ('been', 'VBN'),\n",
       " ('supplied', 'VBN'),\n",
       " ('excellent', 'JJ'),\n",
       " ('woman', 'NN'),\n",
       " ('governess', 'NN'),\n",
       " ('who', 'WP'),\n",
       " ('had', 'VBD'),\n",
       " ('fallen', 'VBN'),\n",
       " ('little', 'JJ'),\n",
       " ('short', 'JJ'),\n",
       " ('mother', 'NN'),\n",
       " ('affection', 'NN'),\n",
       " ('Sixteen', 'NNP'),\n",
       " ('years', 'NNS'),\n",
       " ('had', 'VBD'),\n",
       " ('Miss', 'NNP'),\n",
       " ('Taylor', 'NNP'),\n",
       " ('been', 'VBN'),\n",
       " ('Woodhouse', 'NNP'),\n",
       " ('family', 'NN'),\n",
       " ('less', 'JJR'),\n",
       " ('governess', 'JJ'),\n",
       " ('than', 'IN'),\n",
       " ('friend', 'VBP'),\n",
       " ('very', 'RB'),\n",
       " ('fond', 'JJ'),\n",
       " ('both', 'DT'),\n",
       " ('daughters', 'NNS'),\n",
       " ('but', 'CC'),\n",
       " ('particularly', 'RB'),\n",
       " ('Emma', 'NNP'),\n",
       " ('Between', 'NNP'),\n",
       " ('_them_', 'NNP'),\n",
       " ('was', 'VBD'),\n",
       " ('more', 'RBR'),\n",
       " ('the', 'DT'),\n",
       " ('intimacy', 'NN'),\n",
       " ('sisters', 'NNS'),\n",
       " ('Even', 'RB'),\n",
       " ('before', 'IN'),\n",
       " ('Miss', 'NNP'),\n",
       " ('Taylor', 'NNP'),\n",
       " ('had', 'VBD'),\n",
       " ('ceased', 'VBN'),\n",
       " ('hold', 'VB'),\n",
       " ('the', 'DT'),\n",
       " ('nominal', 'JJ'),\n",
       " ('office', 'NN'),\n",
       " ('governess', 'NN'),\n",
       " ('the', 'DT'),\n",
       " ('mildness', 'NN'),\n",
       " ('her', 'PRP$'),\n",
       " ('temper', 'NN'),\n",
       " ('had', 'VBD'),\n",
       " ('hardly', 'RB'),\n",
       " ('allowed', 'VBN'),\n",
       " ('her', 'PRP$'),\n",
       " ('impose', 'JJ'),\n",
       " ('any', 'DT'),\n",
       " ('restraint', 'NN'),\n",
       " ('and', 'CC'),\n",
       " ('the', 'DT'),\n",
       " ('shadow', 'JJ'),\n",
       " ('authority', 'NN'),\n",
       " ('being', 'VBG'),\n",
       " ('now', 'RB'),\n",
       " ('long', 'RB'),\n",
       " ('passed', 'VBN'),\n",
       " ('away', 'RB'),\n",
       " ('they', 'PRP'),\n",
       " ('had', 'VBD'),\n",
       " ('been', 'VBN'),\n",
       " ('living', 'VBG'),\n",
       " ('together', 'RB'),\n",
       " ('friend', 'NN'),\n",
       " ('and', 'CC'),\n",
       " ('friend', 'VB'),\n",
       " ('very', 'RB'),\n",
       " ('mutually', 'RB'),\n",
       " ('attached', 'VBN'),\n",
       " ('and', 'CC'),\n",
       " ('Emma', 'NNP'),\n",
       " ('doing', 'VBG'),\n",
       " ('just', 'RB'),\n",
       " ('what', 'WP'),\n",
       " ('she', 'PRP'),\n",
       " ('liked', 'VBD'),\n",
       " ('highly', 'RB'),\n",
       " ('esteeming', 'VBG'),\n",
       " ('Miss', 'NNP'),\n",
       " ('Taylor', 'NNP'),\n",
       " ('judgment', 'NN'),\n",
       " ('but', 'CC'),\n",
       " ('directed', 'VBD'),\n",
       " ('chiefly', 'NN'),\n",
       " ('her', 'PRP$'),\n",
       " ('own', 'JJ'),\n",
       " ('The', 'DT'),\n",
       " ('real', 'JJ'),\n",
       " ('evils', 'NNS'),\n",
       " ('indeed', 'RB'),\n",
       " ('Emma', 'NNP'),\n",
       " ('situation', 'NN'),\n",
       " ('were', 'VBD'),\n",
       " ('the', 'DT'),\n",
       " ('power', 'NN'),\n",
       " ('having', 'VBG'),\n",
       " ('rather', 'RB'),\n",
       " ('too', 'RB'),\n",
       " ('much', 'JJ'),\n",
       " ('her', 'PRP$'),\n",
       " ('own', 'JJ'),\n",
       " ('way', 'NN'),\n",
       " ('and', 'CC'),\n",
       " ('disposition', 'NN'),\n",
       " ('think', 'VBP'),\n",
       " ('little', 'RB'),\n",
       " ('too', 'RB'),\n",
       " ('well', 'RB'),\n",
       " ('herself', 'PRP'),\n",
       " ('these', 'DT'),\n",
       " ('were', 'VBD'),\n",
       " ('the', 'DT'),\n",
       " ('disadvantages', 'NNS'),\n",
       " ('which', 'WDT'),\n",
       " ('threatened', 'VBD'),\n",
       " ('alloy', 'RP'),\n",
       " ('her', 'PRP$'),\n",
       " ('many', 'JJ'),\n",
       " ('enjoyments', 'NNS'),\n",
       " ('The', 'DT'),\n",
       " ('danger', 'NN'),\n",
       " ('however', 'RB'),\n",
       " ('was', 'VBD'),\n",
       " ('present', 'JJ'),\n",
       " ('unperceived', 'JJ'),\n",
       " ('that', 'IN'),\n",
       " ('they', 'PRP'),\n",
       " ('did', 'VBD'),\n",
       " ('not', 'RB'),\n",
       " ('any', 'DT'),\n",
       " ('means', 'NNS'),\n",
       " ('rank', 'VBP'),\n",
       " ('misfortunes', 'NNS'),\n",
       " ('with', 'IN'),\n",
       " ('her', 'PRP$'),\n",
       " ('Sorrow', 'NNP'),\n",
       " ('came', 'VBD'),\n",
       " ('gentle', 'JJ'),\n",
       " ('sorrow', 'NN'),\n",
       " ('but', 'CC'),\n",
       " ('not', 'RB'),\n",
       " ('all', 'PDT'),\n",
       " ('the', 'DT'),\n",
       " ('shape', 'NN'),\n",
       " ('any', 'DT'),\n",
       " ('disagreeable', 'JJ'),\n",
       " ('consciousness', 'NN'),\n",
       " ('Miss', 'NNP'),\n",
       " ('Taylor', 'NNP'),\n",
       " ('married', 'VBD'),\n",
       " ('was', 'VBD'),\n",
       " ('Miss', 'NNP'),\n",
       " ('Taylor', 'NNP'),\n",
       " ('loss', 'NN'),\n",
       " ('which', 'WDT'),\n",
       " ('first', 'RB'),\n",
       " ('brought', 'VBD'),\n",
       " ('grief', 'NN'),\n",
       " ('was', 'VBD'),\n",
       " ('the', 'DT'),\n",
       " ('wedding', 'NN'),\n",
       " ('day', 'NN'),\n",
       " ('this', 'DT'),\n",
       " ('beloved', 'VBD'),\n",
       " ('friend', 'NN'),\n",
       " ('that', 'IN'),\n",
       " ('Emma', 'NNP'),\n",
       " ('first', 'RB'),\n",
       " ('sat', 'VBD'),\n",
       " ('mournful', 'JJ'),\n",
       " ('thought', 'VBD'),\n",
       " ('any', 'DT'),\n",
       " ('continuance', 'NN'),\n",
       " ('The', 'DT'),\n",
       " ('wedding', 'NN'),\n",
       " ('over', 'IN'),\n",
       " ('and', 'CC'),\n",
       " ('the', 'DT'),\n",
       " ('bride', 'JJ'),\n",
       " ('people', 'NNS'),\n",
       " ('gone', 'VBN'),\n",
       " ('her', 'PRP$'),\n",
       " ('father', 'NN'),\n",
       " ('and', 'CC'),\n",
       " ('herself', 'PRP'),\n",
       " ('were', 'VBD'),\n",
       " ('left', 'VBN'),\n",
       " ('dine', 'NN'),\n",
       " ('together', 'RB'),\n",
       " ('with', 'IN'),\n",
       " ('prospect', 'JJ'),\n",
       " ('third', 'JJ'),\n",
       " ('cheer', 'NN'),\n",
       " ('long', 'RB'),\n",
       " ('evening', 'VBG'),\n",
       " ('Her', 'PRP$'),\n",
       " ('father', 'NN'),\n",
       " ('composed', 'VBD'),\n",
       " ('himself', 'PRP'),\n",
       " ('sleep', 'VBP'),\n",
       " ('after', 'IN'),\n",
       " ('dinner', 'NN'),\n",
       " ('usual', 'JJ'),\n",
       " ('and', 'CC'),\n",
       " ('she', 'PRP'),\n",
       " ('had', 'VBD'),\n",
       " ('then', 'RB'),\n",
       " ('only', 'RB'),\n",
       " ('sit', 'NN'),\n",
       " ('and', 'CC'),\n",
       " ('think', 'VB'),\n",
       " ('what', 'WP'),\n",
       " ('she', 'PRP'),\n",
       " ('had', 'VBD'),\n",
       " ('lost', 'VBN'),\n",
       " ('The', 'DT'),\n",
       " ('event', 'NN'),\n",
       " ('had', 'VBD'),\n",
       " ('every', 'DT'),\n",
       " ('promise', 'NN'),\n",
       " ('happiness', 'NN'),\n",
       " ('for', 'IN'),\n",
       " ('her', 'PRP$'),\n",
       " ('friend', 'NN'),\n",
       " ('Weston', 'NNP'),\n",
       " ('was', 'VBD'),\n",
       " ('man', 'NN'),\n",
       " ('unexceptionable', 'JJ'),\n",
       " ('character', 'NN'),\n",
       " ('easy', 'JJ'),\n",
       " ('fortune', 'NN'),\n",
       " ('suitable', 'JJ'),\n",
       " ('age', 'NN'),\n",
       " ('and', 'CC'),\n",
       " ('pleasant', 'JJ'),\n",
       " ('manners', 'NNS'),\n",
       " ('and', 'CC'),\n",
       " ('there', 'EX'),\n",
       " ('was', 'VBD'),\n",
       " ('some', 'DT'),\n",
       " ('satisfaction', 'NN'),\n",
       " ('considering', 'VBG'),\n",
       " ('with', 'IN'),\n",
       " ('what', 'WP'),\n",
       " ('self', 'VBD'),\n",
       " ('denying', 'VBG'),\n",
       " ('generous', 'JJ'),\n",
       " ('friendship', 'NN'),\n",
       " ('she', 'PRP'),\n",
       " ('had', 'VBD'),\n",
       " ('always', 'RB'),\n",
       " ('wished', 'VBN'),\n",
       " ('and', 'CC'),\n",
       " ('promoted', 'VBN'),\n",
       " ('the', 'DT'),\n",
       " ('match', 'NN'),\n",
       " ('but', 'CC'),\n",
       " ('was', 'VBD'),\n",
       " ('black', 'JJ'),\n",
       " ('morning', 'NN'),\n",
       " ('work', 'NN'),\n",
       " ('for', 'IN'),\n",
       " ('her', 'PRP$'),\n",
       " ('The', 'DT'),\n",
       " ('want', 'NN'),\n",
       " ('Miss', 'NNP'),\n",
       " ('Taylor', 'NNP'),\n",
       " ('would', 'MD'),\n",
       " ('felt', 'VB'),\n",
       " ('every', 'DT'),\n",
       " ('hour', 'NN'),\n",
       " ('every', 'DT'),\n",
       " ('day', 'NN'),\n",
       " ('She', 'PRP'),\n",
       " ('recalled', 'VBD'),\n",
       " ('her', 'PRP'),\n",
       " ('past', 'JJ'),\n",
       " ('kindness', 'NN'),\n",
       " ('the', 'DT'),\n",
       " ('kindness', 'NN'),\n",
       " ('the', 'DT'),\n",
       " ('affection', 'NN'),\n",
       " ('sixteen', 'JJ'),\n",
       " ('years', 'NNS'),\n",
       " ('how', 'WRB'),\n",
       " ('she', 'PRP'),\n",
       " ('had', 'VBD'),\n",
       " ('taught', 'VBN'),\n",
       " ('and', 'CC'),\n",
       " ('how', 'WRB'),\n",
       " ('she', 'PRP'),\n",
       " ('had', 'VBD'),\n",
       " ('played', 'VBN'),\n",
       " ('with', 'IN'),\n",
       " ('her', 'PRP'),\n",
       " ('from', 'IN'),\n",
       " ('five', 'CD'),\n",
       " ('years', 'NNS'),\n",
       " ('old', 'JJ'),\n",
       " ('how', 'WRB'),\n",
       " ('she', 'PRP'),\n",
       " ('had', 'VBD'),\n",
       " ('devoted', 'VBN'),\n",
       " ('all', 'DT'),\n",
       " ('her', 'PRP$'),\n",
       " ('powers', 'NNS'),\n",
       " ('attach', 'VBP'),\n",
       " ('and', 'CC'),\n",
       " ('amuse', 'VBP'),\n",
       " ('her', 'PRP$'),\n",
       " ('health', 'NN'),\n",
       " ('and', 'CC'),\n",
       " ('how', 'WRB'),\n",
       " ('nursed', 'JJ'),\n",
       " ('her', 'PRP$'),\n",
       " ('through', 'IN'),\n",
       " ('the', 'DT'),\n",
       " ('various', 'JJ'),\n",
       " ('illnesses', 'NNS'),\n",
       " ('childhood', 'VBD'),\n",
       " ('large', 'JJ'),\n",
       " ('debt', 'NN'),\n",
       " ('gratitude', 'NN'),\n",
       " ('was', 'VBD'),\n",
       " ('owing', 'VBG'),\n",
       " ('here', 'RB'),\n",
       " ('but', 'CC'),\n",
       " ('the', 'DT'),\n",
       " ('intercourse', 'NN'),\n",
       " ('the', 'DT'),\n",
       " ('last', 'JJ'),\n",
       " ('seven', 'CD'),\n",
       " ('years', 'NNS'),\n",
       " ('the', 'DT'),\n",
       " ('equal', 'JJ'),\n",
       " ('footing', 'NN'),\n",
       " ('and', 'CC'),\n",
       " ('perfect', 'NN'),\n",
       " ('unreserve', 'NN'),\n",
       " ('which', 'WDT'),\n",
       " ('had', 'VBD'),\n",
       " ('soon', 'RB'),\n",
       " ('followed', 'VBN'),\n",
       " ('Isabella', 'NNP'),\n",
       " ('marriage', 'VB'),\n",
       " ('their', 'PRP$'),\n",
       " ('being', 'VBG'),\n",
       " ('left', 'VBN'),\n",
       " ('each', 'DT'),\n",
       " ('other', 'JJ'),\n",
       " ('was', 'VBD'),\n",
       " ('yet', 'RB'),\n",
       " ('dearer', 'JJ'),\n",
       " ('tenderer', 'NN'),\n",
       " ('recollection', 'NN'),\n",
       " ('She', 'PRP'),\n",
       " ('had', 'VBD'),\n",
       " ('been', 'VBN'),\n",
       " ('friend', 'VBN'),\n",
       " ('and', 'CC'),\n",
       " ('companion', 'NN'),\n",
       " ('such', 'JJ'),\n",
       " ('few', 'JJ'),\n",
       " ('possessed', 'VBN'),\n",
       " ('intelligent', 'NN'),\n",
       " ('well', 'RB'),\n",
       " ('informed', 'VBN'),\n",
       " ('useful', 'JJ'),\n",
       " ('gentle', 'JJ'),\n",
       " ('knowing', 'VBG'),\n",
       " ('all', 'PDT'),\n",
       " ('the', 'DT'),\n",
       " ('ways', 'NNS'),\n",
       " ('the', 'DT'),\n",
       " ('family', 'NN'),\n",
       " ('interested', 'VBD'),\n",
       " ('all', 'PDT'),\n",
       " ('its', 'PRP$'),\n",
       " ('concerns', 'NNS'),\n",
       " ('and', 'CC'),\n",
       " ('peculiarly', 'RB'),\n",
       " ('interested', 'JJ'),\n",
       " ('herself', 'PRP'),\n",
       " ('every', 'DT'),\n",
       " ('pleasure', 'NN'),\n",
       " ('every', 'DT'),\n",
       " ('scheme', 'NN'),\n",
       " ('hers', 'VBZ'),\n",
       " ('one', 'CD'),\n",
       " ('whom', 'WP'),\n",
       " ('she', 'PRP'),\n",
       " ('could', 'MD'),\n",
       " ('speak', 'VB'),\n",
       " ('every', 'DT'),\n",
       " ('thought', 'NN'),\n",
       " ('arose', 'RB'),\n",
       " ('and', 'CC'),\n",
       " ('who', 'WP'),\n",
       " ('had', 'VBD'),\n",
       " ('such', 'JJ'),\n",
       " ('affection', 'NN'),\n",
       " ('for', 'IN'),\n",
       " ('her', 'PRP$'),\n",
       " ('could', 'MD'),\n",
       " ('never', 'RB'),\n",
       " ('find', 'VB'),\n",
       " ('fault', 'NN'),\n",
       " ('How', 'NNP'),\n",
       " ('was', 'VBD'),\n",
       " ('she', 'PRP'),\n",
       " ('bear', 'IN'),\n",
       " ('the', 'DT'),\n",
       " ('change', 'NN'),\n",
       " ('was', 'VBD'),\n",
       " ('true', 'JJ'),\n",
       " ('that', 'IN'),\n",
       " ('her', 'PRP$'),\n",
       " ('friend', 'NN'),\n",
       " ('was', 'VBD'),\n",
       " ('going', 'VBG'),\n",
       " ('only', 'RB'),\n",
       " ('half', 'RB'),\n",
       " ('mile', 'JJ'),\n",
       " ('from', 'IN'),\n",
       " ('them', 'PRP'),\n",
       " ('but', 'CC'),\n",
       " ('Emma', 'NNP'),\n",
       " ('was', 'VBD'),\n",
       " ('aware', 'JJ'),\n",
       " ('that', 'IN'),\n",
       " ('great', 'JJ'),\n",
       " ('must', 'MD'),\n",
       " ('the', 'DT'),\n",
       " ('difference', 'NN'),\n",
       " ('between', 'IN'),\n",
       " ('Mrs', 'NNP'),\n",
       " ('Weston', 'NNP'),\n",
       " ('only', 'RB'),\n",
       " ('half', 'RB'),\n",
       " ('mile', 'JJ'),\n",
       " ('from', 'IN'),\n",
       " ('them', 'PRP'),\n",
       " ('and', 'CC'),\n",
       " ('Miss', 'NNP'),\n",
       " ('Taylor', 'NNP'),\n",
       " ('the', 'DT'),\n",
       " ('house', 'NN'),\n",
       " ('and', 'CC'),\n",
       " ('with', 'IN'),\n",
       " ('all', 'DT'),\n",
       " ('her', 'PRP$'),\n",
       " ('advantages', 'NNS'),\n",
       " ('natural', 'JJ'),\n",
       " ('and', 'CC'),\n",
       " ('domestic', 'JJ'),\n",
       " ('she', 'PRP'),\n",
       " ('was', 'VBD'),\n",
       " ('now', 'RB'),\n",
       " ('great', 'JJ'),\n",
       " ('danger', 'NN'),\n",
       " ('suffering', 'VBG'),\n",
       " ('from', 'IN'),\n",
       " ('intellectual', 'JJ'),\n",
       " ('solitude', 'NN'),\n",
       " ('She', 'PRP'),\n",
       " ('dearly', 'RB'),\n",
       " ('loved', 'VBD'),\n",
       " ('her', 'PRP'),\n",
       " ('father', 'NN'),\n",
       " ('but', 'CC'),\n",
       " ('was', 'VBD'),\n",
       " ('companion', 'NN'),\n",
       " ('for', 'IN'),\n",
       " ('her', 'PRP$'),\n",
       " ('could', 'MD'),\n",
       " ('not', 'RB'),\n",
       " ('meet', 'VB'),\n",
       " ('her', 'PRP$'),\n",
       " ('conversation', 'NN'),\n",
       " ('rational', 'JJ'),\n",
       " ('playful', 'NN'),\n",
       " ('The', 'DT'),\n",
       " ('evil', 'JJ'),\n",
       " ('the', 'DT'),\n",
       " ('actual', 'JJ'),\n",
       " ('disparity', 'NN'),\n",
       " ('their', 'PRP$'),\n",
       " ('ages', 'NNS'),\n",
       " ('and', 'CC'),\n",
       " ('Woodhouse', 'NNP'),\n",
       " ('had', 'VBD'),\n",
       " ('not', 'RB'),\n",
       " ('married', 'VBN'),\n",
       " ('early', 'RB'),\n",
       " ('was', 'VBD'),\n",
       " ('much', 'RB'),\n",
       " ('increased', 'VBN'),\n",
       " ('his', 'PRP$'),\n",
       " ('constitution', 'NN'),\n",
       " ('and', 'CC'),\n",
       " ('habits', 'NNS'),\n",
       " ('for', 'IN'),\n",
       " ('having', 'VBG'),\n",
       " ('been', 'VBN'),\n",
       " ('valetudinarian', 'JJ'),\n",
       " ('all', 'DT'),\n",
       " ('his', 'PRP$'),\n",
       " ('life', 'NN'),\n",
       " ('without', 'IN'),\n",
       " ('activity', 'NN'),\n",
       " ('mind', 'NN'),\n",
       " ('body', 'NN'),\n",
       " ('was', 'VBD'),\n",
       " ('much', 'JJ'),\n",
       " ('older', 'JJR'),\n",
       " ('man', 'NN'),\n",
       " ('ways', 'NNS'),\n",
       " ('than', 'IN'),\n",
       " ('years', 'NNS'),\n",
       " ('and', 'CC'),\n",
       " ('though', 'IN'),\n",
       " ('everywhere', 'RB'),\n",
       " ('beloved', 'VBN'),\n",
       " ('for', 'IN'),\n",
       " ('the', 'DT'),\n",
       " ('friendliness', 'NN'),\n",
       " ('his', 'PRP$'),\n",
       " ('heart', 'NN'),\n",
       " ('and', 'CC'),\n",
       " ('his', 'PRP$'),\n",
       " ('amiable', 'JJ'),\n",
       " ('temper', 'IN'),\n",
       " ('his', 'PRP$'),\n",
       " ('talents', 'NNS'),\n",
       " ('could', 'MD'),\n",
       " ('not', 'RB'),\n",
       " ('have', 'VB'),\n",
       " ('recommended', 'VBN'),\n",
       " ('him', 'PRP'),\n",
       " ('any', 'DT'),\n",
       " ('time', 'NN'),\n",
       " ('Her', 'NNP'),\n",
       " ('sister', 'NN'),\n",
       " ('though', 'IN'),\n",
       " ('comparatively', 'RB'),\n",
       " ('but', 'CC'),\n",
       " ('little', 'JJ'),\n",
       " ('removed', 'JJ'),\n",
       " ('matrimony', 'NN'),\n",
       " ('being', 'VBG'),\n",
       " ('settled', 'VBN'),\n",
       " ('London', 'NNP'),\n",
       " ('only', 'RB'),\n",
       " ('sixteen', 'VBD'),\n",
       " ('miles', 'NNS'),\n",
       " ('off', 'RP'),\n",
       " ('was', 'VBD'),\n",
       " ('much', 'JJ'),\n",
       " ('beyond', 'IN'),\n",
       " ('her', 'PRP$'),\n",
       " ('daily', 'JJ'),\n",
       " ('reach', 'NN'),\n",
       " ('and', 'CC'),\n",
       " ('many', 'JJ'),\n",
       " ('long', 'JJ'),\n",
       " ('October', 'NNP'),\n",
       " ('and', 'CC'),\n",
       " ('November', 'NNP'),\n",
       " ('evening', 'NN'),\n",
       " ('must', 'MD'),\n",
       " ('struggled', 'VB'),\n",
       " ('through', 'IN'),\n",
       " ('Hartfield', 'NNP'),\n",
       " ('before', 'IN'),\n",
       " ('Christmas', 'NNP'),\n",
       " ('brought', 'VBD'),\n",
       " ('the', 'DT'),\n",
       " ('next', 'JJ'),\n",
       " ('visit', 'NN'),\n",
       " ('from', 'IN'),\n",
       " ('Isabella', 'NNP'),\n",
       " ('and', 'CC'),\n",
       " ('her', 'PRP$'),\n",
       " ('husband', 'NN'),\n",
       " ('and', 'CC'),\n",
       " ('their', 'PRP$'),\n",
       " ('little', 'JJ'),\n",
       " ('children', 'NNS'),\n",
       " ('fill', 'VBP'),\n",
       " ('the', 'DT'),\n",
       " ('house', 'NN'),\n",
       " ('and', 'CC'),\n",
       " ('give', 'VB'),\n",
       " ('her', 'PRP$'),\n",
       " ('pleasant', 'JJ'),\n",
       " ('society', 'NN'),\n",
       " ('again', 'RB'),\n",
       " ('Highbury', 'NNP'),\n",
       " ('the', 'DT'),\n",
       " ('large', 'JJ'),\n",
       " ('and', 'CC'),\n",
       " ('populous', 'JJ'),\n",
       " ('village', 'NN'),\n",
       " ('almost', 'RB'),\n",
       " ('amounting', 'VBG'),\n",
       " ('town', 'NN'),\n",
       " ('which', 'WDT'),\n",
       " ('Hartfield', 'NNP'),\n",
       " ('spite', 'VBD'),\n",
       " ('its', 'PRP$'),\n",
       " ('separate', 'JJ'),\n",
       " ('lawn', 'NN'),\n",
       " ('and', 'CC'),\n",
       " ('shrubberies', 'NNS'),\n",
       " ('and', 'CC'),\n",
       " ('name', 'NN'),\n",
       " ('did', 'VBD'),\n",
       " ('really', 'RB'),\n",
       " ('belong', 'VB'),\n",
       " ('afforded', 'VBD'),\n",
       " ('her', 'PRP'),\n",
       " ('equals', 'VBZ'),\n",
       " ('The', 'DT'),\n",
       " ('Woodhouses', 'NNS'),\n",
       " ('were', 'VBD'),\n",
       " ('first', 'JJ'),\n",
       " ('consequence', 'NN'),\n",
       " ('there', 'RB'),\n",
       " ('All', 'DT'),\n",
       " ('looked', 'VBD'),\n",
       " ('them', 'PRP'),\n",
       " ('She', 'PRP'),\n",
       " ('had', 'VBD'),\n",
       " ('many', 'JJ'),\n",
       " ('acquaintance', 'RB'),\n",
       " ('the', 'DT'),\n",
       " ('place', 'NN'),\n",
       " ('for', 'IN'),\n",
       " ('her', 'PRP$'),\n",
       " ('father', 'NN'),\n",
       " ('was', 'VBD'),\n",
       " ('universally', 'RB'),\n",
       " ('civil', 'JJ'),\n",
       " ('but', 'CC'),\n",
       " ('not', 'RB'),\n",
       " ('one', 'CD'),\n",
       " ('among', 'IN'),\n",
       " ('them', 'PRP'),\n",
       " ('who', 'WP'),\n",
       " ('could', 'MD'),\n",
       " ('accepted', 'VB'),\n",
       " ('lieu', 'JJ'),\n",
       " ('Miss', 'NNP'),\n",
       " ('Taylor', 'NNP'),\n",
       " ('for', 'IN'),\n",
       " ('even', 'RB'),\n",
       " ('half', 'DT'),\n",
       " ('day', 'NN'),\n",
       " ('was', 'VBD'),\n",
       " ('melancholy', 'JJ'),\n",
       " ('change', 'NN'),\n",
       " ('and', 'CC'),\n",
       " ('Emma', 'NNP'),\n",
       " ('could', 'MD'),\n",
       " ('not', 'RB'),\n",
       " ('but', 'CC'),\n",
       " ('sigh', 'RB'),\n",
       " ('over', 'IN'),\n",
       " ('and', 'CC'),\n",
       " ('wish', 'VB'),\n",
       " ('for', 'IN'),\n",
       " ('impossible', 'JJ'),\n",
       " ('things', 'NNS'),\n",
       " ('till', 'IN'),\n",
       " ('her', 'PRP$'),\n",
       " ('father', 'NN'),\n",
       " ('awoke', 'NN'),\n",
       " ('and', 'CC'),\n",
       " ('made', 'VBD'),\n",
       " ('necessary', 'JJ'),\n",
       " ('cheerful', 'JJ'),\n",
       " ('His', 'PRP$'),\n",
       " ('spirits', 'NNS'),\n",
       " ('required', 'VBN'),\n",
       " ('support', 'NN'),\n",
       " ('was', 'VBD'),\n",
       " ('nervous', 'JJ'),\n",
       " ('man', 'NN'),\n",
       " ('easily', 'RB'),\n",
       " ('depressed', 'VBD'),\n",
       " ('fond', 'NN'),\n",
       " ('every', 'DT'),\n",
       " ('body', 'NN'),\n",
       " ('that', 'WDT'),\n",
       " ('was', 'VBD'),\n",
       " ('used', 'VBN'),\n",
       " ('and', 'CC'),\n",
       " ('hating', 'VBG'),\n",
       " ('part', 'NN'),\n",
       " ('with', 'IN'),\n",
       " ('them', 'PRP'),\n",
       " ('hating', 'VBG'),\n",
       " ('change', 'NN'),\n",
       " ('every', 'DT'),\n",
       " ('kind', 'NN'),\n",
       " ('Matrimony', 'NNP'),\n",
       " ('the', 'DT'),\n",
       " ('origin', 'NN'),\n",
       " ('change', 'NN'),\n",
       " ('was', 'VBD'),\n",
       " ('always', 'RB'),\n",
       " ('disagreeable', 'JJ'),\n",
       " ('and', 'CC'),\n",
       " ('was', 'VBD'),\n",
       " ('means', 'NNS'),\n",
       " ('yet', 'RB'),\n",
       " ('reconciled', 'VBN'),\n",
       " ('his', 'PRP$'),\n",
       " ('own', 'JJ'),\n",
       " ('daughter', 'NN'),\n",
       " ('marrying', 'VBG'),\n",
       " ('nor', 'CC'),\n",
       " ('could', 'MD'),\n",
       " ('ever', 'RB'),\n",
       " ('speak', 'VB'),\n",
       " ('her', 'PRP$'),\n",
       " ('but', 'CC'),\n",
       " ('with', 'IN'),\n",
       " ('compassion', 'NN'),\n",
       " ('though', 'IN'),\n",
       " ('had', 'VBD'),\n",
       " ('been', 'VBN'),\n",
       " ('entirely', 'RB'),\n",
       " ('match', 'JJ'),\n",
       " ('affection', 'NN'),\n",
       " ('when', 'WRB'),\n",
       " ('was', 'VBD'),\n",
       " ('now', 'RB'),\n",
       " ('obliged', 'VBN'),\n",
       " ('part', 'NN'),\n",
       " ('with', 'IN'),\n",
       " ('Miss', 'NNP'),\n",
       " ('Taylor', 'NNP'),\n",
       " ('too', 'RB'),\n",
       " ('and', 'CC'),\n",
       " ('from', 'IN'),\n",
       " ('his', 'PRP$'),\n",
       " ('habits', 'NNS'),\n",
       " ('gentle', 'JJ'),\n",
       " ('selfishness', 'NN'),\n",
       " ('and', 'CC'),\n",
       " ('being', 'VBG'),\n",
       " ('never', 'RB'),\n",
       " ('able', 'JJ'),\n",
       " ('suppose', 'NN'),\n",
       " ('that', 'IN'),\n",
       " ('other', 'JJ'),\n",
       " ('people', 'NNS'),\n",
       " ('could', 'MD'),\n",
       " ('feel', 'VB'),\n",
       " ('differently', 'RB'),\n",
       " ('from', 'IN'),\n",
       " ('himself', 'PRP'),\n",
       " ('was', 'VBD'),\n",
       " ('very', 'RB'),\n",
       " ('much', 'JJ'),\n",
       " ('disposed', 'VBN'),\n",
       " ('think', 'VBP'),\n",
       " ('Miss', 'NNP'),\n",
       " ('Taylor', 'NNP'),\n",
       " ('had', 'VBD'),\n",
       " ('done', 'VBN'),\n",
       " ('sad', 'JJ'),\n",
       " ('thing', 'NN'),\n",
       " ('for', 'IN'),\n",
       " ('herself', 'NN'),\n",
       " ('for', 'IN'),\n",
       " ('them', 'PRP'),\n",
       " ('and', 'CC'),\n",
       " ('would', 'MD'),\n",
       " ('have', 'VB'),\n",
       " ('been', 'VBN'),\n",
       " ('great', 'JJ'),\n",
       " ('deal', 'NN'),\n",
       " ('happier', 'NN'),\n",
       " ('she', 'PRP'),\n",
       " ('had', 'VBD'),\n",
       " ('spent', 'VBN'),\n",
       " ('all', 'PDT'),\n",
       " ('the', 'DT'),\n",
       " ('rest', 'NN'),\n",
       " ('her', 'PRP$'),\n",
       " ('life', 'NN'),\n",
       " ('Hartfield', 'NNP'),\n",
       " ('Emma', 'NNP'),\n",
       " ('smiled', 'VBD'),\n",
       " ('and', 'CC'),\n",
       " ('chatted', 'VBD'),\n",
       " ('cheerfully', 'RB'),\n",
       " ('she', 'PRP'),\n",
       " ('could', 'MD'),\n",
       " ('keep', 'VB'),\n",
       " ('him', 'PRP'),\n",
       " ('from', 'IN'),\n",
       " ('such', 'JJ'),\n",
       " ('thoughts', 'NNS'),\n",
       " ('but', 'CC'),\n",
       " ('when', 'WRB'),\n",
       " ('tea', 'NN'),\n",
       " ('came', 'VBD'),\n",
       " ('was', 'VBD'),\n",
       " ('impossible', 'JJ'),\n",
       " ('for', 'IN'),\n",
       " ('him', 'PRP'),\n",
       " ('not', 'RB'),\n",
       " ('say', 'VB'),\n",
       " ('exactly', 'RB'),\n",
       " ('had', 'VBD'),\n",
       " ('said', 'VBD'),\n",
       " ('dinner', 'NN'),\n",
       " ('Poor', 'NNP'),\n",
       " ('Miss', 'NNP'),\n",
       " ('Taylor', 'NNP'),\n",
       " ('wish', 'JJ'),\n",
       " ('she', 'PRP'),\n",
       " ('were', 'VBD'),\n",
       " ('here', 'RB'),\n",
       " ('again', 'RB'),\n",
       " ('What', 'WP'),\n",
       " ('pity', 'NN'),\n",
       " ('that', 'IN'),\n",
       " ('Weston', 'NNP'),\n",
       " ('ever', 'RB'),\n",
       " ('thought', 'VBD'),\n",
       " ('her', 'PRP'),\n",
       " ('cannot', 'NN'),\n",
       " ('agree', 'VB'),\n",
       " ('with', 'IN'),\n",
       " ('you', 'PRP'),\n",
       " ('papa', 'VBP'),\n",
       " ('you', 'PRP'),\n",
       " ('know', 'VBP'),\n",
       " ('cannot', 'JJ'),\n",
       " ('Weston', 'NNP'),\n",
       " ('such', 'JJ'),\n",
       " ('good', 'JJ'),\n",
       " ('humoured', 'VBN'),\n",
       " ('pleasant', 'JJ'),\n",
       " ('excellent', 'JJ'),\n",
       " ('man', 'NN'),\n",
       " ('that', 'WDT'),\n",
       " ('thoroughly', 'RB'),\n",
       " ('deserves', 'VBZ'),\n",
       " ('good', 'JJ'),\n",
       " ('wife', 'NN'),\n",
       " ('and', 'CC'),\n",
       " ('you', 'PRP'),\n",
       " ('would', 'MD'),\n",
       " ('not', 'RB'),\n",
       " ('have', 'VB'),\n",
       " ('had', 'VBN'),\n",
       " ('Miss', 'NNP'),\n",
       " ('Taylor', 'NNP'),\n",
       " ('live', 'VBP'),\n",
       " ('with', 'IN'),\n",
       " ('for', 'IN'),\n",
       " ('ever', 'RB'),\n",
       " ('and', 'CC'),\n",
       " ('bear', 'VB'),\n",
       " ('all', 'DT'),\n",
       " ('odd', 'JJ'),\n",
       " ('humours', 'NNS'),\n",
       " ('when', 'WRB'),\n",
       " ('she', 'PRP'),\n",
       " ('might', 'MD'),\n",
       " ('have', 'VB'),\n",
       " ('house', 'NN'),\n",
       " ('her', 'PRP$'),\n",
       " ('own', 'JJ'),\n",
       " ('house', 'NN'),\n",
       " ('her', 'PRP$'),\n",
       " ('own', 'JJ'),\n",
       " ('But', 'CC'),\n",
       " ('where', 'WRB'),\n",
       " ('the', 'DT'),\n",
       " ('advantage', 'NN'),\n",
       " ('house', 'NN'),\n",
       " ('her', 'PRP$'),\n",
       " ('own', 'JJ'),\n",
       " ('This', 'DT'),\n",
       " ('three', 'CD'),\n",
       " ('times', 'NNS'),\n",
       " ('large', 'JJ'),\n",
       " ('And', 'CC'),\n",
       " ('you', 'PRP'),\n",
       " ('have', 'VBP'),\n",
       " ('never', 'RB'),\n",
       " ('any', 'DT'),\n",
       " ('odd', 'JJ'),\n",
       " ('humours', 'NNS'),\n",
       " ('dear', 'VBP'),\n",
       " ('How', 'WRB'),\n",
       " ('often', 'RB'),\n",
       " ('shall', 'MD'),\n",
       " ...]"
      ]
     },
     "execution_count": 48,
     "metadata": {},
     "output_type": "execute_result"
    }
   ],
   "source": [
    "#EX\n",
    "#1. 특수문자가 들어가지 않은 3글자 이상의 단어만 추출해서 품사 태깅을 하시오\n",
    "ret = RegexpTokenizer('[\\w]{3,}')\n",
    "emma_tags = pos_tag(ret.tokenize(emma))\n",
    "emma_tags"
   ]
  },
  {
   "cell_type": "code",
   "execution_count": 54,
   "metadata": {
    "ExecuteTime": {
     "end_time": "2021-03-25T07:16:03.628246Z",
     "start_time": "2021-03-25T07:16:03.604330Z"
    }
   },
   "outputs": [
    {
     "name": "stdout",
     "output_type": "stream",
     "text": [
      "865\n",
      "{'VBN', 'NNPS', 'VBD', 'NNP', 'NN', 'VBP', 'NNS', 'JJ', 'RB', 'VB'}\n"
     ]
    }
   ],
   "source": [
    "#2. emma 단어의 품사 태깅이 어떤 품사들로 되어 있는지 출력\n",
    "pos = set()\n",
    "cnt=0\n",
    "for emma_t in emma_tags:\n",
    "    if emma_t[0] == 'Emma':\n",
    "        cnt += 1\n",
    "        pos.add(emma_t[1])\n",
    "print(cnt)\n",
    "print(pos)"
   ]
  },
  {
   "cell_type": "code",
   "execution_count": 58,
   "metadata": {
    "ExecuteTime": {
     "end_time": "2021-03-25T07:21:08.397815Z",
     "start_time": "2021-03-25T07:21:08.356945Z"
    }
   },
   "outputs": [
    {
     "data": {
      "text/plain": [
       "VBN       1\n",
       "NNPS      2\n",
       "VBD       1\n",
       "NNP     838\n",
       "NN        7\n",
       "VBP       4\n",
       "NNS       2\n",
       "JJ        4\n",
       "RB        1\n",
       "VB        5\n",
       "dtype: int64"
      ]
     },
     "execution_count": 58,
     "metadata": {},
     "output_type": "execute_result"
    }
   ],
   "source": [
    "import pandas as pd\n",
    "pos_cnt = pd.Series([0]*len(pos), index=list(pos))\n",
    "for emma_t in emma_tags:\n",
    "    if emma_t[0] == 'Emma':\n",
    "        pos_cnt[emma_t[1]] += 1\n",
    "pos_cnt"
   ]
  },
  {
   "cell_type": "code",
   "execution_count": 61,
   "metadata": {
    "ExecuteTime": {
     "end_time": "2021-03-25T07:37:55.060397Z",
     "start_time": "2021-03-25T07:37:55.042425Z"
    }
   },
   "outputs": [
    {
     "name": "stdout",
     "output_type": "stream",
     "text": [
      "18554\n",
      "2738\n"
     ]
    }
   ],
   "source": [
    "#3. 원하는 품사만 뽑아 출력\n",
    "nouns_list = [emma_t[0] for emma_t in emma_tags if emma_t[1]=='NN']\n",
    "print(len(nouns_list))\n",
    "print(len(set(nouns_list)))#중복 제거\n"
   ]
  },
  {
   "cell_type": "code",
   "execution_count": 62,
   "metadata": {
    "ExecuteTime": {
     "end_time": "2021-03-25T07:41:12.193139Z",
     "start_time": "2021-03-25T07:41:12.138142Z"
    }
   },
   "outputs": [],
   "source": [
    "words = ret.tokenize(emma)"
   ]
  },
  {
   "cell_type": "code",
   "execution_count": 66,
   "metadata": {
    "ExecuteTime": {
     "end_time": "2021-03-25T07:42:55.580713Z",
     "start_time": "2021-03-25T07:42:55.249683Z"
    }
   },
   "outputs": [
    {
     "data": {
      "image/png": "[encoded data removed]",
      "text/plain": [
       "<Figure size 432x288 with 1 Axes>"
      ]
     },
     "metadata": {
      "needs_background": "light"
     },
     "output_type": "display_data"
    }
   ],
   "source": [
    "from nltk import Text\n",
    "emma_test = Text(words)\n",
    "emma_test.plot(20)"
   ]
  },
  {
   "cell_type": "code",
   "execution_count": null,
   "metadata": {},
   "outputs": [],
   "source": []
  },
  {
   "cell_type": "code",
   "execution_count": null,
   "metadata": {},
   "outputs": [],
   "source": []
  },
  {
   "cell_type": "code",
   "execution_count": null,
   "metadata": {},
   "outputs": [],
   "source": []
  },
  {
   "cell_type": "code",
   "execution_count": null,
   "metadata": {},
   "outputs": [],
   "source": []
  },
  {
   "cell_type": "code",
   "execution_count": null,
   "metadata": {},
   "outputs": [],
   "source": []
  },
  {
   "cell_type": "code",
   "execution_count": null,
   "metadata": {},
   "outputs": [],
   "source": []
  },
  {
   "cell_type": "code",
   "execution_count": null,
   "metadata": {},
   "outputs": [],
   "source": []
  },
  {
   "cell_type": "code",
   "execution_count": null,
   "metadata": {},
   "outputs": [],
   "source": []
  },
  {
   "cell_type": "code",
   "execution_count": null,
   "metadata": {},
   "outputs": [],
   "source": []
  },
  {
   "cell_type": "code",
   "execution_count": null,
   "metadata": {},
   "outputs": [],
   "source": []
  },
  {
   "cell_type": "code",
   "execution_count": null,
   "metadata": {},
   "outputs": [],
   "source": []
  },
  {
   "cell_type": "code",
   "execution_count": null,
   "metadata": {},
   "outputs": [],
   "source": []
  },
  {
   "cell_type": "code",
   "execution_count": null,
   "metadata": {},
   "outputs": [],
   "source": []
  },
  {
   "cell_type": "code",
   "execution_count": null,
   "metadata": {},
   "outputs": [],
   "source": []
  },
  {
   "cell_type": "code",
   "execution_count": null,
   "metadata": {},
   "outputs": [],
   "source": []
  },
  {
   "cell_type": "code",
   "execution_count": null,
   "metadata": {},
   "outputs": [],
   "source": []
  },
  {
   "cell_type": "code",
   "execution_count": null,
   "metadata": {},
   "outputs": [],
   "source": []
  },
  {
   "cell_type": "code",
   "execution_count": null,
   "metadata": {},
   "outputs": [],
   "source": []
  },
  {
   "cell_type": "code",
   "execution_count": null,
   "metadata": {},
   "outputs": [],
   "source": []
  }
 ],
 "metadata": {
  "kernelspec": {
   "display_name": "Python 3",
   "language": "python",
   "name": "python3"
  },
  "language_info": {
   "codemirror_mode": {
    "name": "ipython",
    "version": 3
   },
   "file_extension": ".py",
   "mimetype": "text/x-python",
   "name": "python",
   "nbconvert_exporter": "python",
   "pygments_lexer": "ipython3",
   "version": "3.8.5"
  },
  "toc": {
   "base_numbering": 1,
   "nav_menu": {},
   "number_sections": false,
   "sideBar": false,
   "skip_h1_title": false,
   "title_cell": "Table of Contents",
   "title_sidebar": "Contents",
   "toc_cell": false,
   "toc_position": {
    "height": "748px",
    "left": "1690px",
    "top": "90px",
    "width": "176px"
   },
   "toc_section_display": true,
   "toc_window_display": true
  },
  "varInspector": {
   "cols": {
    "lenName": 16,
    "lenType": 16,
    "lenVar": 40
   },
   "kernels_config": {
    "python": {
     "delete_cmd_postfix": "",
     "delete_cmd_prefix": "del ",
     "library": "var_list.py",
     "varRefreshCmd": "print(var_dic_list())"
    },
    "r": {
     "delete_cmd_postfix": ") ",
     "delete_cmd_prefix": "rm(",
     "library": "var_list.r",
     "varRefreshCmd": "cat(var_dic_list()) "
    }
   },
   "types_to_exclude": [
    "module",
    "function",
    "builtin_function_or_method",
    "instance",
    "_Feature"
   ],
   "window_display": false
  }
 },
 "nbformat": 4,
 "nbformat_minor": 4
}
