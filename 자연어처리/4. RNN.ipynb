{
 "cells": [
  {
   "cell_type": "code",
   "execution_count": 1,
   "metadata": {
    "ExecuteTime": {
     "end_time": "2021-03-29T03:48:58.420566Z",
     "start_time": "2021-03-29T03:48:58.406604Z"
    }
   },
   "outputs": [
    {
     "data": {
      "text/html": [
       "\n",
       "<style>\n",
       "div.container{width:80% !important;}\n"
      ],
      "text/plain": [
       "<IPython.core.display.HTML object>"
      ]
     },
     "metadata": {},
     "output_type": "display_data"
    }
   ],
   "source": [
    "from IPython.display import display, HTML\n",
    "display(HTML(\"\"\"\n",
    "<style>\n",
    "div.container{width:80% !important;}\n",
    "\"\"\"))"
   ]
  },
  {
   "cell_type": "markdown",
   "metadata": {},
   "source": [
    "# RNN"
   ]
  },
  {
   "cell_type": "markdown",
   "metadata": {},
   "source": [
    "## 문맥을 이용하여 모델 만들기"
   ]
  },
  {
   "cell_type": "code",
   "execution_count": 2,
   "metadata": {
    "ExecuteTime": {
     "end_time": "2021-03-29T03:48:58.484396Z",
     "start_time": "2021-03-29T03:48:58.422561Z"
    }
   },
   "outputs": [],
   "source": [
    "text = \"\"\"경마장에 있는 말이 뛰고 싶다\n",
    "그의 말이 법이다\n",
    "가는 말이 고와야 오는 말이 곱다\"\"\""
   ]
  },
  {
   "cell_type": "code",
   "execution_count": 3,
   "metadata": {
    "ExecuteTime": {
     "end_time": "2021-03-29T03:48:58.688749Z",
     "start_time": "2021-03-29T03:48:58.487389Z"
    }
   },
   "outputs": [],
   "source": [
    "from keras_preprocessing.text import Tokenizer"
   ]
  },
  {
   "cell_type": "code",
   "execution_count": 4,
   "metadata": {
    "ExecuteTime": {
     "end_time": "2021-03-29T03:48:58.704701Z",
     "start_time": "2021-03-29T03:48:58.690718Z"
    }
   },
   "outputs": [
    {
     "data": {
      "text/plain": [
       "[[2, 3, 1, 4, 5, 6, 1, 7, 8, 1, 9, 10, 1, 11]]"
      ]
     },
     "execution_count": 4,
     "metadata": {},
     "output_type": "execute_result"
    }
   ],
   "source": [
    "t = Tokenizer()\n",
    "t.fit_on_texts([text])\n",
    "encoded = t.texts_to_sequences([text])\n",
    "encoded"
   ]
  },
  {
   "cell_type": "code",
   "execution_count": 5,
   "metadata": {
    "ExecuteTime": {
     "end_time": "2021-03-29T03:48:58.800923Z",
     "start_time": "2021-03-29T03:48:58.705678Z"
    }
   },
   "outputs": [
    {
     "name": "stdout",
     "output_type": "stream",
     "text": [
      "{'말이': 1, '경마장에': 2, '있는': 3, '뛰고': 4, '싶다': 5, '그의': 6, '법이다': 7, '가는': 8, '고와야': 9, '오는': 10, '곱다': 11}\n"
     ]
    }
   ],
   "source": [
    "print(t.word_index)"
   ]
  },
  {
   "cell_type": "code",
   "execution_count": 6,
   "metadata": {
    "ExecuteTime": {
     "end_time": "2021-03-29T03:48:58.893868Z",
     "start_time": "2021-03-29T03:48:58.803916Z"
    }
   },
   "outputs": [
    {
     "data": {
      "text/plain": [
       "[11]"
      ]
     },
     "execution_count": 6,
     "metadata": {},
     "output_type": "execute_result"
    }
   ],
   "source": [
    "t.texts_to_sequences(['곱다'])[0]"
   ]
  },
  {
   "cell_type": "code",
   "execution_count": 7,
   "metadata": {
    "ExecuteTime": {
     "end_time": "2021-03-29T03:48:58.956922Z",
     "start_time": "2021-03-29T03:48:58.897838Z"
    }
   },
   "outputs": [
    {
     "name": "stdout",
     "output_type": "stream",
     "text": [
      "원래 문장 : 경마장에 있는 말이 뛰고 싶다\n",
      "encoed 문장 : [2, 3, 1, 4, 5]\n",
      "원래 문장 : 그의 말이 법이다\n",
      "encoed 문장 : [6, 1, 7]\n",
      "원래 문장 : 가는 말이 고와야 오는 말이 곱다\n",
      "encoed 문장 : [8, 1, 9, 10, 1, 11]\n",
      "\n",
      "[2:경마장에  3:있는  ]\n",
      "[2:경마장에  3:있는  1:말이  ]\n",
      "[2:경마장에  3:있는  1:말이  4:뛰고  ]\n",
      "[2:경마장에  3:있는  1:말이  4:뛰고  5:싶다  ]\n",
      "[3:있는  1:말이  ]\n",
      "[3:있는  1:말이  4:뛰고  ]\n",
      "[3:있는  1:말이  4:뛰고  5:싶다  ]\n",
      "[1:말이  4:뛰고  ]\n",
      "[1:말이  4:뛰고  5:싶다  ]\n",
      "[4:뛰고  5:싶다  ]\n",
      "[6:그의  1:말이  ]\n",
      "[6:그의  1:말이  7:법이다  ]\n",
      "[1:말이  7:법이다  ]\n",
      "[8:가는  1:말이  ]\n",
      "[8:가는  1:말이  9:고와야  ]\n",
      "[8:가는  1:말이  9:고와야  10:오는  ]\n",
      "[8:가는  1:말이  9:고와야  10:오는  1:말이  ]\n",
      "[8:가는  1:말이  9:고와야  10:오는  1:말이  11:곱다  ]\n",
      "[1:말이  9:고와야  ]\n",
      "[1:말이  9:고와야  10:오는  ]\n",
      "[1:말이  9:고와야  10:오는  1:말이  ]\n",
      "[1:말이  9:고와야  10:오는  1:말이  11:곱다  ]\n",
      "[9:고와야  10:오는  ]\n",
      "[9:고와야  10:오는  1:말이  ]\n",
      "[9:고와야  10:오는  1:말이  11:곱다  ]\n",
      "[10:오는  1:말이  ]\n",
      "[10:오는  1:말이  11:곱다  ]\n",
      "[1:말이  11:곱다  ]\n"
     ]
    }
   ],
   "source": [
    "sequences = []\n",
    "for line in text.split('\\n'):\n",
    "    encoded = t.texts_to_sequences([line])[0]\n",
    "    print('원래 문장 :',line)\n",
    "    print('encoed 문장 :', encoded)\n",
    "    for i in range(0, len(encoded)-1):\n",
    "        for j in range(i+2, len(encoded)+1):\n",
    "            sequences.append(encoded[i:j])\n",
    "print()\n",
    "for sequence in sequences:\n",
    "    print('[', end='')\n",
    "    for word_seq in sequence:\n",
    "        for key, value in t.word_index.items():\n",
    "            if value==word_seq:\n",
    "                print(\"{}:{}\".format(value, key), end='  ')\n",
    "    print(']')"
   ]
  },
  {
   "cell_type": "code",
   "execution_count": 8,
   "metadata": {
    "ExecuteTime": {
     "end_time": "2021-03-29T03:48:59.020487Z",
     "start_time": "2021-03-29T03:48:58.960913Z"
    }
   },
   "outputs": [
    {
     "data": {
      "text/plain": [
       "[[2, 3],\n",
       " [2, 3, 1],\n",
       " [2, 3, 1, 4],\n",
       " [2, 3, 1, 4, 5],\n",
       " [3, 1],\n",
       " [3, 1, 4],\n",
       " [3, 1, 4, 5],\n",
       " [1, 4],\n",
       " [1, 4, 5],\n",
       " [4, 5],\n",
       " [6, 1],\n",
       " [6, 1, 7],\n",
       " [1, 7],\n",
       " [8, 1],\n",
       " [8, 1, 9],\n",
       " [8, 1, 9, 10],\n",
       " [8, 1, 9, 10, 1],\n",
       " [8, 1, 9, 10, 1, 11],\n",
       " [1, 9],\n",
       " [1, 9, 10],\n",
       " [1, 9, 10, 1],\n",
       " [1, 9, 10, 1, 11],\n",
       " [9, 10],\n",
       " [9, 10, 1],\n",
       " [9, 10, 1, 11],\n",
       " [10, 1],\n",
       " [10, 1, 11],\n",
       " [1, 11]]"
      ]
     },
     "execution_count": 8,
     "metadata": {},
     "output_type": "execute_result"
    }
   ],
   "source": [
    "sequences"
   ]
  },
  {
   "cell_type": "code",
   "execution_count": 9,
   "metadata": {
    "ExecuteTime": {
     "end_time": "2021-03-29T03:48:59.081076Z",
     "start_time": "2021-03-29T03:48:59.021464Z"
    }
   },
   "outputs": [
    {
     "name": "stdout",
     "output_type": "stream",
     "text": [
      "[2, 3, 4, 5, 2, 3, 4, 2, 3, 2, 2, 3, 2, 2, 3, 4, 5, 6, 2, 3, 4, 5, 2, 3, 4, 2, 3, 2]\n"
     ]
    }
   ],
   "source": [
    "print([len(s) for s in sequences])"
   ]
  },
  {
   "cell_type": "code",
   "execution_count": 10,
   "metadata": {
    "ExecuteTime": {
     "end_time": "2021-03-29T03:48:59.143657Z",
     "start_time": "2021-03-29T03:48:59.083047Z"
    }
   },
   "outputs": [
    {
     "data": {
      "text/plain": [
       "6"
      ]
     },
     "execution_count": 10,
     "metadata": {},
     "output_type": "execute_result"
    }
   ],
   "source": [
    "# sequences에 제일 많은 단어가 들어 있는 갯수# sequences에 제일 많은 단어가 들어 있는 갯수\n",
    "maxlen = max([len(s) for s in sequences])\n",
    "maxlen"
   ]
  },
  {
   "cell_type": "code",
   "execution_count": 11,
   "metadata": {
    "ExecuteTime": {
     "end_time": "2021-03-29T03:48:59.191519Z",
     "start_time": "2021-03-29T03:48:59.144635Z"
    }
   },
   "outputs": [
    {
     "data": {
      "text/plain": [
       "(list, 28)"
      ]
     },
     "execution_count": 11,
     "metadata": {},
     "output_type": "execute_result"
    }
   ],
   "source": [
    "type(sequences), len(sequences)"
   ]
  },
  {
   "cell_type": "code",
   "execution_count": 12,
   "metadata": {
    "ExecuteTime": {
     "end_time": "2021-03-29T03:49:02.409866Z",
     "start_time": "2021-03-29T03:48:59.198500Z"
    }
   },
   "outputs": [
    {
     "data": {
      "text/plain": [
       "(numpy.ndarray,\n",
       " 28,\n",
       " array([[ 0,  0,  0,  0,  2,  3],\n",
       "        [ 0,  0,  0,  2,  3,  1],\n",
       "        [ 0,  0,  2,  3,  1,  4],\n",
       "        [ 0,  2,  3,  1,  4,  5],\n",
       "        [ 0,  0,  0,  0,  3,  1],\n",
       "        [ 0,  0,  0,  3,  1,  4],\n",
       "        [ 0,  0,  3,  1,  4,  5],\n",
       "        [ 0,  0,  0,  0,  1,  4],\n",
       "        [ 0,  0,  0,  1,  4,  5],\n",
       "        [ 0,  0,  0,  0,  4,  5],\n",
       "        [ 0,  0,  0,  0,  6,  1],\n",
       "        [ 0,  0,  0,  6,  1,  7],\n",
       "        [ 0,  0,  0,  0,  1,  7],\n",
       "        [ 0,  0,  0,  0,  8,  1],\n",
       "        [ 0,  0,  0,  8,  1,  9],\n",
       "        [ 0,  0,  8,  1,  9, 10],\n",
       "        [ 0,  8,  1,  9, 10,  1],\n",
       "        [ 8,  1,  9, 10,  1, 11],\n",
       "        [ 0,  0,  0,  0,  1,  9],\n",
       "        [ 0,  0,  0,  1,  9, 10],\n",
       "        [ 0,  0,  1,  9, 10,  1],\n",
       "        [ 0,  1,  9, 10,  1, 11],\n",
       "        [ 0,  0,  0,  0,  9, 10],\n",
       "        [ 0,  0,  0,  9, 10,  1],\n",
       "        [ 0,  0,  9, 10,  1, 11],\n",
       "        [ 0,  0,  0,  0, 10,  1],\n",
       "        [ 0,  0,  0, 10,  1, 11],\n",
       "        [ 0,  0,  0,  0,  1, 11]]))"
      ]
     },
     "execution_count": 12,
     "metadata": {},
     "output_type": "execute_result"
    }
   ],
   "source": [
    "# sequences를 훈련가능한 데이터로 만들기\n",
    "from tensorflow.keras.preprocessing.sequence import pad_sequences\n",
    "sequences = pad_sequences(sequences=sequences, \n",
    "                         maxlen=maxlen, \n",
    "                         padding='pre')\n",
    "type(sequences), len(sequences), sequences"
   ]
  },
  {
   "cell_type": "code",
   "execution_count": 13,
   "metadata": {
    "ExecuteTime": {
     "end_time": "2021-03-29T03:49:02.425823Z",
     "start_time": "2021-03-29T03:49:02.410863Z"
    }
   },
   "outputs": [
    {
     "data": {
      "text/plain": [
       "array([ 3,  1,  4,  5,  1,  4,  5,  4,  5,  5,  1,  7,  7,  1,  9, 10,  1,\n",
       "       11,  9, 10,  1, 11, 10,  1, 11,  1, 11, 11])"
      ]
     },
     "execution_count": 13,
     "metadata": {},
     "output_type": "execute_result"
    }
   ],
   "source": [
    "# 독립변수(X)와 종속변수(Y) 분리\n",
    "X = sequences[:, :-1]\n",
    "Y = sequences[:, -1]\n",
    "Y"
   ]
  },
  {
   "cell_type": "code",
   "execution_count": 14,
   "metadata": {
    "ExecuteTime": {
     "end_time": "2021-03-29T03:49:02.487751Z",
     "start_time": "2021-03-29T03:49:02.427818Z"
    }
   },
   "outputs": [
    {
     "name": "stdout",
     "output_type": "stream",
     "text": [
      "{'말이': 1, '경마장에': 2, '있는': 3, '뛰고': 4, '싶다': 5, '그의': 6, '법이다': 7, '가는': 8, '고와야': 9, '오는': 10, '곱다': 11}\n"
     ]
    }
   ],
   "source": [
    "print(t.word_index)"
   ]
  },
  {
   "cell_type": "code",
   "execution_count": 15,
   "metadata": {
    "ExecuteTime": {
     "end_time": "2021-03-29T03:49:02.565578Z",
     "start_time": "2021-03-29T03:49:02.488748Z"
    }
   },
   "outputs": [
    {
     "data": {
      "text/plain": [
       "12"
      ]
     },
     "execution_count": 15,
     "metadata": {},
     "output_type": "execute_result"
    }
   ],
   "source": [
    "vocab_size = len(t.word_index)+1\n",
    "vocab_size"
   ]
  },
  {
   "cell_type": "code",
   "execution_count": 16,
   "metadata": {
    "ExecuteTime": {
     "end_time": "2021-03-29T03:49:02.705648Z",
     "start_time": "2021-03-29T03:49:02.567547Z"
    }
   },
   "outputs": [
    {
     "data": {
      "text/plain": [
       "array([[0., 0., 0., 1., 0., 0., 0., 0., 0., 0., 0., 0.],\n",
       "       [0., 1., 0., 0., 0., 0., 0., 0., 0., 0., 0., 0.],\n",
       "       [0., 0., 0., 0., 1., 0., 0., 0., 0., 0., 0., 0.],\n",
       "       [0., 0., 0., 0., 0., 1., 0., 0., 0., 0., 0., 0.],\n",
       "       [0., 1., 0., 0., 0., 0., 0., 0., 0., 0., 0., 0.],\n",
       "       [0., 0., 0., 0., 1., 0., 0., 0., 0., 0., 0., 0.],\n",
       "       [0., 0., 0., 0., 0., 1., 0., 0., 0., 0., 0., 0.],\n",
       "       [0., 0., 0., 0., 1., 0., 0., 0., 0., 0., 0., 0.],\n",
       "       [0., 0., 0., 0., 0., 1., 0., 0., 0., 0., 0., 0.],\n",
       "       [0., 0., 0., 0., 0., 1., 0., 0., 0., 0., 0., 0.],\n",
       "       [0., 1., 0., 0., 0., 0., 0., 0., 0., 0., 0., 0.],\n",
       "       [0., 0., 0., 0., 0., 0., 0., 1., 0., 0., 0., 0.],\n",
       "       [0., 0., 0., 0., 0., 0., 0., 1., 0., 0., 0., 0.],\n",
       "       [0., 1., 0., 0., 0., 0., 0., 0., 0., 0., 0., 0.],\n",
       "       [0., 0., 0., 0., 0., 0., 0., 0., 0., 1., 0., 0.],\n",
       "       [0., 0., 0., 0., 0., 0., 0., 0., 0., 0., 1., 0.],\n",
       "       [0., 1., 0., 0., 0., 0., 0., 0., 0., 0., 0., 0.],\n",
       "       [0., 0., 0., 0., 0., 0., 0., 0., 0., 0., 0., 1.],\n",
       "       [0., 0., 0., 0., 0., 0., 0., 0., 0., 1., 0., 0.],\n",
       "       [0., 0., 0., 0., 0., 0., 0., 0., 0., 0., 1., 0.],\n",
       "       [0., 1., 0., 0., 0., 0., 0., 0., 0., 0., 0., 0.],\n",
       "       [0., 0., 0., 0., 0., 0., 0., 0., 0., 0., 0., 1.],\n",
       "       [0., 0., 0., 0., 0., 0., 0., 0., 0., 0., 1., 0.],\n",
       "       [0., 1., 0., 0., 0., 0., 0., 0., 0., 0., 0., 0.],\n",
       "       [0., 0., 0., 0., 0., 0., 0., 0., 0., 0., 0., 1.],\n",
       "       [0., 1., 0., 0., 0., 0., 0., 0., 0., 0., 0., 0.],\n",
       "       [0., 0., 0., 0., 0., 0., 0., 0., 0., 0., 0., 1.],\n",
       "       [0., 0., 0., 0., 0., 0., 0., 0., 0., 0., 0., 1.]], dtype=float32)"
      ]
     },
     "execution_count": 16,
     "metadata": {},
     "output_type": "execute_result"
    }
   ],
   "source": [
    "# Y 원핫인코딩\n",
    "from tensorflow.keras.utils import to_categorical\n",
    "Y = to_categorical(Y, num_classes=vocab_size)\n",
    "Y"
   ]
  },
  {
   "cell_type": "code",
   "execution_count": 17,
   "metadata": {
    "ExecuteTime": {
     "end_time": "2021-03-29T03:49:02.813272Z",
     "start_time": "2021-03-29T03:49:02.707644Z"
    }
   },
   "outputs": [
    {
     "data": {
      "text/plain": [
       "5"
      ]
     },
     "execution_count": 17,
     "metadata": {},
     "output_type": "execute_result"
    }
   ],
   "source": [
    "X.shape[1]"
   ]
  },
  {
   "cell_type": "code",
   "execution_count": 18,
   "metadata": {
    "ExecuteTime": {
     "end_time": "2021-03-29T03:49:05.187994Z",
     "start_time": "2021-03-29T03:49:02.814270Z"
    }
   },
   "outputs": [
    {
     "name": "stdout",
     "output_type": "stream",
     "text": [
      "Epoch 1/300\n",
      "1/1 - 1s - loss: 2.4678 - accuracy: 0.0714\n",
      "Epoch 2/300\n",
      "1/1 - 0s - loss: 2.4558 - accuracy: 0.0714\n",
      "Epoch 3/300\n",
      "1/1 - 0s - loss: 2.4439 - accuracy: 0.1429\n",
      "Epoch 4/300\n",
      "1/1 - 0s - loss: 2.4318 - accuracy: 0.1429\n",
      "Epoch 5/300\n",
      "1/1 - 0s - loss: 2.4196 - accuracy: 0.1071\n",
      "Epoch 6/300\n",
      "1/1 - 0s - loss: 2.4071 - accuracy: 0.1071\n",
      "Epoch 7/300\n",
      "1/1 - 0s - loss: 2.3942 - accuracy: 0.1071\n",
      "Epoch 8/300\n",
      "1/1 - 0s - loss: 2.3810 - accuracy: 0.1071\n",
      "Epoch 9/300\n",
      "1/1 - 0s - loss: 2.3672 - accuracy: 0.0714\n",
      "Epoch 10/300\n",
      "1/1 - 0s - loss: 2.3530 - accuracy: 0.1071\n",
      "Epoch 11/300\n",
      "1/1 - 0s - loss: 2.3383 - accuracy: 0.1071\n",
      "Epoch 12/300\n",
      "1/1 - 0s - loss: 2.3230 - accuracy: 0.1071\n",
      "Epoch 13/300\n",
      "1/1 - 0s - loss: 2.3071 - accuracy: 0.1071\n",
      "Epoch 14/300\n",
      "1/1 - 0s - loss: 2.2906 - accuracy: 0.1071\n",
      "Epoch 15/300\n",
      "1/1 - 0s - loss: 2.2735 - accuracy: 0.1071\n",
      "Epoch 16/300\n",
      "1/1 - 0s - loss: 2.2559 - accuracy: 0.1071\n",
      "Epoch 17/300\n",
      "1/1 - 0s - loss: 2.2379 - accuracy: 0.1071\n",
      "Epoch 18/300\n",
      "1/1 - 0s - loss: 2.2194 - accuracy: 0.1071\n",
      "Epoch 19/300\n",
      "1/1 - 0s - loss: 2.2006 - accuracy: 0.1071\n",
      "Epoch 20/300\n",
      "1/1 - 0s - loss: 2.1817 - accuracy: 0.1071\n",
      "Epoch 21/300\n",
      "1/1 - 0s - loss: 2.1627 - accuracy: 0.1071\n",
      "Epoch 22/300\n",
      "1/1 - 0s - loss: 2.1438 - accuracy: 0.1071\n",
      "Epoch 23/300\n",
      "1/1 - 0s - loss: 2.1251 - accuracy: 0.1071\n",
      "Epoch 24/300\n",
      "1/1 - 0s - loss: 2.1067 - accuracy: 0.1071\n",
      "Epoch 25/300\n",
      "1/1 - 0s - loss: 2.0888 - accuracy: 0.1071\n",
      "Epoch 26/300\n",
      "1/1 - 0s - loss: 2.0714 - accuracy: 0.1429\n",
      "Epoch 27/300\n",
      "1/1 - 0s - loss: 2.0546 - accuracy: 0.1429\n",
      "Epoch 28/300\n",
      "1/1 - 0s - loss: 2.0385 - accuracy: 0.1429\n",
      "Epoch 29/300\n",
      "1/1 - 0s - loss: 2.0230 - accuracy: 0.3929\n",
      "Epoch 30/300\n",
      "1/1 - 0s - loss: 2.0082 - accuracy: 0.4643\n",
      "Epoch 31/300\n",
      "1/1 - 0s - loss: 1.9941 - accuracy: 0.4643\n",
      "Epoch 32/300\n",
      "1/1 - 0s - loss: 1.9807 - accuracy: 0.4286\n",
      "Epoch 33/300\n",
      "1/1 - 0s - loss: 1.9680 - accuracy: 0.3214\n",
      "Epoch 34/300\n",
      "1/1 - 0s - loss: 1.9561 - accuracy: 0.3214\n",
      "Epoch 35/300\n",
      "1/1 - 0s - loss: 1.9449 - accuracy: 0.3214\n",
      "Epoch 36/300\n",
      "1/1 - 0s - loss: 1.9344 - accuracy: 0.3214\n",
      "Epoch 37/300\n",
      "1/1 - 0s - loss: 1.9246 - accuracy: 0.3214\n",
      "Epoch 38/300\n",
      "1/1 - 0s - loss: 1.9154 - accuracy: 0.3214\n",
      "Epoch 39/300\n",
      "1/1 - 0s - loss: 1.9068 - accuracy: 0.3214\n",
      "Epoch 40/300\n",
      "1/1 - 0s - loss: 1.8988 - accuracy: 0.3214\n",
      "Epoch 41/300\n",
      "1/1 - 0s - loss: 1.8912 - accuracy: 0.3214\n",
      "Epoch 42/300\n",
      "1/1 - 0s - loss: 1.8839 - accuracy: 0.3214\n",
      "Epoch 43/300\n",
      "1/1 - 0s - loss: 1.8770 - accuracy: 0.3214\n",
      "Epoch 44/300\n",
      "1/1 - 0s - loss: 1.8701 - accuracy: 0.3214\n",
      "Epoch 45/300\n",
      "1/1 - 0s - loss: 1.8633 - accuracy: 0.3214\n",
      "Epoch 46/300\n",
      "1/1 - 0s - loss: 1.8565 - accuracy: 0.3214\n",
      "Epoch 47/300\n",
      "1/1 - 0s - loss: 1.8495 - accuracy: 0.3214\n",
      "Epoch 48/300\n",
      "1/1 - 0s - loss: 1.8423 - accuracy: 0.3214\n",
      "Epoch 49/300\n",
      "1/1 - 0s - loss: 1.8349 - accuracy: 0.3214\n",
      "Epoch 50/300\n",
      "1/1 - 0s - loss: 1.8272 - accuracy: 0.3214\n",
      "Epoch 51/300\n",
      "1/1 - 0s - loss: 1.8192 - accuracy: 0.3214\n",
      "Epoch 52/300\n",
      "1/1 - 0s - loss: 1.8109 - accuracy: 0.3214\n",
      "Epoch 53/300\n",
      "1/1 - 0s - loss: 1.8022 - accuracy: 0.3571\n",
      "Epoch 54/300\n",
      "1/1 - 0s - loss: 1.7932 - accuracy: 0.3571\n",
      "Epoch 55/300\n",
      "1/1 - 0s - loss: 1.7839 - accuracy: 0.3571\n",
      "Epoch 56/300\n",
      "1/1 - 0s - loss: 1.7742 - accuracy: 0.3571\n",
      "Epoch 57/300\n",
      "1/1 - 0s - loss: 1.7643 - accuracy: 0.3929\n",
      "Epoch 58/300\n",
      "1/1 - 0s - loss: 1.7540 - accuracy: 0.4286\n",
      "Epoch 59/300\n",
      "1/1 - 0s - loss: 1.7435 - accuracy: 0.4286\n",
      "Epoch 60/300\n",
      "1/1 - 0s - loss: 1.7326 - accuracy: 0.4286\n",
      "Epoch 61/300\n",
      "1/1 - 0s - loss: 1.7215 - accuracy: 0.4286\n",
      "Epoch 62/300\n",
      "1/1 - 0s - loss: 1.7100 - accuracy: 0.4643\n",
      "Epoch 63/300\n",
      "1/1 - 0s - loss: 1.6983 - accuracy: 0.5000\n",
      "Epoch 64/300\n",
      "1/1 - 0s - loss: 1.6863 - accuracy: 0.5000\n",
      "Epoch 65/300\n",
      "1/1 - 0s - loss: 1.6741 - accuracy: 0.5000\n",
      "Epoch 66/300\n",
      "1/1 - 0s - loss: 1.6615 - accuracy: 0.5000\n",
      "Epoch 67/300\n",
      "1/1 - 0s - loss: 1.6487 - accuracy: 0.5357\n",
      "Epoch 68/300\n",
      "1/1 - 0s - loss: 1.6356 - accuracy: 0.5357\n",
      "Epoch 69/300\n",
      "1/1 - 0s - loss: 1.6223 - accuracy: 0.5357\n",
      "Epoch 70/300\n",
      "1/1 - 0s - loss: 1.6087 - accuracy: 0.5357\n",
      "Epoch 71/300\n",
      "1/1 - 0s - loss: 1.5949 - accuracy: 0.5357\n",
      "Epoch 72/300\n",
      "1/1 - 0s - loss: 1.5810 - accuracy: 0.5357\n",
      "Epoch 73/300\n",
      "1/1 - 0s - loss: 1.5668 - accuracy: 0.5357\n",
      "Epoch 74/300\n",
      "1/1 - 0s - loss: 1.5525 - accuracy: 0.5357\n",
      "Epoch 75/300\n",
      "1/1 - 0s - loss: 1.5381 - accuracy: 0.5714\n",
      "Epoch 76/300\n",
      "1/1 - 0s - loss: 1.5235 - accuracy: 0.5714\n",
      "Epoch 77/300\n",
      "1/1 - 0s - loss: 1.5089 - accuracy: 0.5714\n",
      "Epoch 78/300\n",
      "1/1 - 0s - loss: 1.4943 - accuracy: 0.5714\n",
      "Epoch 79/300\n",
      "1/1 - 0s - loss: 1.4796 - accuracy: 0.5714\n",
      "Epoch 80/300\n",
      "1/1 - 0s - loss: 1.4650 - accuracy: 0.6071\n",
      "Epoch 81/300\n",
      "1/1 - 0s - loss: 1.4503 - accuracy: 0.6071\n",
      "Epoch 82/300\n",
      "1/1 - 0s - loss: 1.4357 - accuracy: 0.6071\n",
      "Epoch 83/300\n",
      "1/1 - 0s - loss: 1.4211 - accuracy: 0.6071\n",
      "Epoch 84/300\n",
      "1/1 - 0s - loss: 1.4065 - accuracy: 0.6071\n",
      "Epoch 85/300\n",
      "1/1 - 0s - loss: 1.3921 - accuracy: 0.6071\n",
      "Epoch 86/300\n",
      "1/1 - 0s - loss: 1.3777 - accuracy: 0.6071\n",
      "Epoch 87/300\n",
      "1/1 - 0s - loss: 1.3634 - accuracy: 0.6071\n",
      "Epoch 88/300\n",
      "1/1 - 0s - loss: 1.3493 - accuracy: 0.6071\n",
      "Epoch 89/300\n",
      "1/1 - 0s - loss: 1.3352 - accuracy: 0.6071\n",
      "Epoch 90/300\n",
      "1/1 - 0s - loss: 1.3213 - accuracy: 0.6071\n",
      "Epoch 91/300\n",
      "1/1 - 0s - loss: 1.3076 - accuracy: 0.6071\n",
      "Epoch 92/300\n",
      "1/1 - 0s - loss: 1.2939 - accuracy: 0.6071\n",
      "Epoch 93/300\n",
      "1/1 - 0s - loss: 1.2805 - accuracy: 0.6071\n",
      "Epoch 94/300\n",
      "1/1 - 0s - loss: 1.2672 - accuracy: 0.6071\n",
      "Epoch 95/300\n",
      "1/1 - 0s - loss: 1.2540 - accuracy: 0.6071\n",
      "Epoch 96/300\n",
      "1/1 - 0s - loss: 1.2411 - accuracy: 0.6071\n",
      "Epoch 97/300\n",
      "1/1 - 0s - loss: 1.2283 - accuracy: 0.6071\n",
      "Epoch 98/300\n",
      "1/1 - 0s - loss: 1.2156 - accuracy: 0.6071\n",
      "Epoch 99/300\n",
      "1/1 - 0s - loss: 1.2031 - accuracy: 0.6071\n",
      "Epoch 100/300\n",
      "1/1 - 0s - loss: 1.1908 - accuracy: 0.6071\n",
      "Epoch 101/300\n",
      "1/1 - 0s - loss: 1.1787 - accuracy: 0.6429\n",
      "Epoch 102/300\n",
      "1/1 - 0s - loss: 1.1667 - accuracy: 0.6429\n",
      "Epoch 103/300\n",
      "1/1 - 0s - loss: 1.1548 - accuracy: 0.6429\n",
      "Epoch 104/300\n",
      "1/1 - 0s - loss: 1.1432 - accuracy: 0.6429\n",
      "Epoch 105/300\n",
      "1/1 - 0s - loss: 1.1316 - accuracy: 0.6429\n",
      "Epoch 106/300\n",
      "1/1 - 0s - loss: 1.1203 - accuracy: 0.6429\n",
      "Epoch 107/300\n",
      "1/1 - 0s - loss: 1.1090 - accuracy: 0.6429\n",
      "Epoch 108/300\n",
      "1/1 - 0s - loss: 1.0980 - accuracy: 0.6429\n",
      "Epoch 109/300\n",
      "1/1 - 0s - loss: 1.0870 - accuracy: 0.6429\n",
      "Epoch 110/300\n",
      "1/1 - 0s - loss: 1.0763 - accuracy: 0.6429\n",
      "Epoch 111/300\n",
      "1/1 - 0s - loss: 1.0657 - accuracy: 0.6429\n",
      "Epoch 112/300\n",
      "1/1 - 0s - loss: 1.0552 - accuracy: 0.6429\n",
      "Epoch 113/300\n",
      "1/1 - 0s - loss: 1.0448 - accuracy: 0.6429\n",
      "Epoch 114/300\n",
      "1/1 - 0s - loss: 1.0347 - accuracy: 0.6429\n",
      "Epoch 115/300\n",
      "1/1 - 0s - loss: 1.0246 - accuracy: 0.6429\n",
      "Epoch 116/300\n",
      "1/1 - 0s - loss: 1.0147 - accuracy: 0.6429\n",
      "Epoch 117/300\n",
      "1/1 - 0s - loss: 1.0049 - accuracy: 0.6786\n",
      "Epoch 118/300\n",
      "1/1 - 0s - loss: 0.9953 - accuracy: 0.6786\n",
      "Epoch 119/300\n",
      "1/1 - 0s - loss: 0.9857 - accuracy: 0.6786\n",
      "Epoch 120/300\n",
      "1/1 - 0s - loss: 0.9764 - accuracy: 0.6786\n",
      "Epoch 121/300\n",
      "1/1 - 0s - loss: 0.9671 - accuracy: 0.6786\n",
      "Epoch 122/300\n",
      "1/1 - 0s - loss: 0.9580 - accuracy: 0.7143\n",
      "Epoch 123/300\n",
      "1/1 - 0s - loss: 0.9489 - accuracy: 0.7143\n",
      "Epoch 124/300\n",
      "1/1 - 0s - loss: 0.9400 - accuracy: 0.7143\n",
      "Epoch 125/300\n",
      "1/1 - 0s - loss: 0.9313 - accuracy: 0.7143\n",
      "Epoch 126/300\n",
      "1/1 - 0s - loss: 0.9226 - accuracy: 0.7143\n",
      "Epoch 127/300\n",
      "1/1 - 0s - loss: 0.9141 - accuracy: 0.7143\n",
      "Epoch 128/300\n",
      "1/1 - 0s - loss: 0.9056 - accuracy: 0.7143\n",
      "Epoch 129/300\n",
      "1/1 - 0s - loss: 0.8973 - accuracy: 0.7143\n",
      "Epoch 130/300\n",
      "1/1 - 0s - loss: 0.8891 - accuracy: 0.7143\n",
      "Epoch 131/300\n",
      "1/1 - 0s - loss: 0.8810 - accuracy: 0.7143\n",
      "Epoch 132/300\n",
      "1/1 - 0s - loss: 0.8729 - accuracy: 0.7143\n",
      "Epoch 133/300\n",
      "1/1 - 0s - loss: 0.8650 - accuracy: 0.7143\n",
      "Epoch 134/300\n",
      "1/1 - 0s - loss: 0.8572 - accuracy: 0.7143\n",
      "Epoch 135/300\n",
      "1/1 - 0s - loss: 0.8495 - accuracy: 0.7143\n",
      "Epoch 136/300\n",
      "1/1 - 0s - loss: 0.8419 - accuracy: 0.7500\n",
      "Epoch 137/300\n",
      "1/1 - 0s - loss: 0.8344 - accuracy: 0.7500\n",
      "Epoch 138/300\n",
      "1/1 - 0s - loss: 0.8270 - accuracy: 0.7500\n",
      "Epoch 139/300\n",
      "1/1 - 0s - loss: 0.8196 - accuracy: 0.7500\n",
      "Epoch 140/300\n",
      "1/1 - 0s - loss: 0.8124 - accuracy: 0.7857\n",
      "Epoch 141/300\n",
      "1/1 - 0s - loss: 0.8052 - accuracy: 0.7857\n",
      "Epoch 142/300\n",
      "1/1 - 0s - loss: 0.7982 - accuracy: 0.8214\n",
      "Epoch 143/300\n",
      "1/1 - 0s - loss: 0.7912 - accuracy: 0.8214\n",
      "Epoch 144/300\n",
      "1/1 - 0s - loss: 0.7843 - accuracy: 0.8214\n",
      "Epoch 145/300\n",
      "1/1 - 0s - loss: 0.7775 - accuracy: 0.8214\n",
      "Epoch 146/300\n",
      "1/1 - 0s - loss: 0.7708 - accuracy: 0.8214\n"
     ]
    },
    {
     "name": "stdout",
     "output_type": "stream",
     "text": [
      "Epoch 147/300\n",
      "1/1 - 0s - loss: 0.7641 - accuracy: 0.8214\n",
      "Epoch 148/300\n",
      "1/1 - 0s - loss: 0.7576 - accuracy: 0.8214\n",
      "Epoch 149/300\n",
      "1/1 - 0s - loss: 0.7511 - accuracy: 0.8214\n",
      "Epoch 150/300\n",
      "1/1 - 0s - loss: 0.7447 - accuracy: 0.8214\n",
      "Epoch 151/300\n",
      "1/1 - 0s - loss: 0.7384 - accuracy: 0.8214\n",
      "Epoch 152/300\n",
      "1/1 - 0s - loss: 0.7321 - accuracy: 0.8214\n",
      "Epoch 153/300\n",
      "1/1 - 0s - loss: 0.7260 - accuracy: 0.8214\n",
      "Epoch 154/300\n",
      "1/1 - 0s - loss: 0.7199 - accuracy: 0.8214\n",
      "Epoch 155/300\n",
      "1/1 - 0s - loss: 0.7139 - accuracy: 0.8214\n",
      "Epoch 156/300\n",
      "1/1 - 0s - loss: 0.7079 - accuracy: 0.8214\n",
      "Epoch 157/300\n",
      "1/1 - 0s - loss: 0.7020 - accuracy: 0.8214\n",
      "Epoch 158/300\n",
      "1/1 - 0s - loss: 0.6962 - accuracy: 0.8214\n",
      "Epoch 159/300\n",
      "1/1 - 0s - loss: 0.6905 - accuracy: 0.8214\n",
      "Epoch 160/300\n",
      "1/1 - 0s - loss: 0.6848 - accuracy: 0.8214\n",
      "Epoch 161/300\n",
      "1/1 - 0s - loss: 0.6792 - accuracy: 0.8214\n",
      "Epoch 162/300\n",
      "1/1 - 0s - loss: 0.6736 - accuracy: 0.8214\n",
      "Epoch 163/300\n",
      "1/1 - 0s - loss: 0.6682 - accuracy: 0.8214\n",
      "Epoch 164/300\n",
      "1/1 - 0s - loss: 0.6628 - accuracy: 0.8214\n",
      "Epoch 165/300\n",
      "1/1 - 0s - loss: 0.6574 - accuracy: 0.8214\n",
      "Epoch 166/300\n",
      "1/1 - 0s - loss: 0.6521 - accuracy: 0.8214\n",
      "Epoch 167/300\n",
      "1/1 - 0s - loss: 0.6469 - accuracy: 0.8214\n",
      "Epoch 168/300\n",
      "1/1 - 0s - loss: 0.6417 - accuracy: 0.8214\n",
      "Epoch 169/300\n",
      "1/1 - 0s - loss: 0.6366 - accuracy: 0.8214\n",
      "Epoch 170/300\n",
      "1/1 - 0s - loss: 0.6316 - accuracy: 0.8214\n",
      "Epoch 171/300\n",
      "1/1 - 0s - loss: 0.6266 - accuracy: 0.8214\n",
      "Epoch 172/300\n",
      "1/1 - 0s - loss: 0.6217 - accuracy: 0.8214\n",
      "Epoch 173/300\n",
      "1/1 - 0s - loss: 0.6168 - accuracy: 0.8214\n",
      "Epoch 174/300\n",
      "1/1 - 0s - loss: 0.6120 - accuracy: 0.8214\n",
      "Epoch 175/300\n",
      "1/1 - 0s - loss: 0.6072 - accuracy: 0.8214\n",
      "Epoch 176/300\n",
      "1/1 - 0s - loss: 0.6025 - accuracy: 0.8214\n",
      "Epoch 177/300\n",
      "1/1 - 0s - loss: 0.5979 - accuracy: 0.8214\n",
      "Epoch 178/300\n",
      "1/1 - 0s - loss: 0.5933 - accuracy: 0.8214\n",
      "Epoch 179/300\n",
      "1/1 - 0s - loss: 0.5887 - accuracy: 0.8214\n",
      "Epoch 180/300\n",
      "1/1 - 0s - loss: 0.5842 - accuracy: 0.8214\n",
      "Epoch 181/300\n",
      "1/1 - 0s - loss: 0.5798 - accuracy: 0.8214\n",
      "Epoch 182/300\n",
      "1/1 - 0s - loss: 0.5754 - accuracy: 0.8214\n",
      "Epoch 183/300\n",
      "1/1 - 0s - loss: 0.5710 - accuracy: 0.8214\n",
      "Epoch 184/300\n",
      "1/1 - 0s - loss: 0.5667 - accuracy: 0.8214\n",
      "Epoch 185/300\n",
      "1/1 - 0s - loss: 0.5625 - accuracy: 0.8214\n",
      "Epoch 186/300\n",
      "1/1 - 0s - loss: 0.5583 - accuracy: 0.8214\n",
      "Epoch 187/300\n",
      "1/1 - 0s - loss: 0.5541 - accuracy: 0.8214\n",
      "Epoch 188/300\n",
      "1/1 - 0s - loss: 0.5500 - accuracy: 0.8214\n",
      "Epoch 189/300\n",
      "1/1 - 0s - loss: 0.5460 - accuracy: 0.8214\n",
      "Epoch 190/300\n",
      "1/1 - 0s - loss: 0.5420 - accuracy: 0.8214\n",
      "Epoch 191/300\n",
      "1/1 - 0s - loss: 0.5380 - accuracy: 0.8214\n",
      "Epoch 192/300\n",
      "1/1 - 0s - loss: 0.5341 - accuracy: 0.8214\n",
      "Epoch 193/300\n",
      "1/1 - 0s - loss: 0.5302 - accuracy: 0.8571\n",
      "Epoch 194/300\n",
      "1/1 - 0s - loss: 0.5263 - accuracy: 0.8571\n",
      "Epoch 195/300\n",
      "1/1 - 0s - loss: 0.5225 - accuracy: 0.8571\n",
      "Epoch 196/300\n",
      "1/1 - 0s - loss: 0.5188 - accuracy: 0.8571\n",
      "Epoch 197/300\n",
      "1/1 - 0s - loss: 0.5150 - accuracy: 0.8571\n",
      "Epoch 198/300\n",
      "1/1 - 0s - loss: 0.5114 - accuracy: 0.8571\n",
      "Epoch 199/300\n",
      "1/1 - 0s - loss: 0.5077 - accuracy: 0.8571\n",
      "Epoch 200/300\n",
      "1/1 - 0s - loss: 0.5041 - accuracy: 0.8571\n",
      "Epoch 201/300\n",
      "1/1 - 0s - loss: 0.5006 - accuracy: 0.8571\n",
      "Epoch 202/300\n",
      "1/1 - 0s - loss: 0.4970 - accuracy: 0.8571\n",
      "Epoch 203/300\n",
      "1/1 - 0s - loss: 0.4936 - accuracy: 0.8571\n",
      "Epoch 204/300\n",
      "1/1 - 0s - loss: 0.4901 - accuracy: 0.8571\n",
      "Epoch 205/300\n",
      "1/1 - 0s - loss: 0.4867 - accuracy: 0.8571\n",
      "Epoch 206/300\n",
      "1/1 - 0s - loss: 0.4833 - accuracy: 0.8571\n",
      "Epoch 207/300\n",
      "1/1 - 0s - loss: 0.4800 - accuracy: 0.8571\n",
      "Epoch 208/300\n",
      "1/1 - 0s - loss: 0.4767 - accuracy: 0.8571\n",
      "Epoch 209/300\n",
      "1/1 - 0s - loss: 0.4734 - accuracy: 0.8571\n",
      "Epoch 210/300\n",
      "1/1 - 0s - loss: 0.4702 - accuracy: 0.8571\n",
      "Epoch 211/300\n",
      "1/1 - 0s - loss: 0.4670 - accuracy: 0.8571\n",
      "Epoch 212/300\n",
      "1/1 - 0s - loss: 0.4638 - accuracy: 0.8571\n",
      "Epoch 213/300\n",
      "1/1 - 0s - loss: 0.4607 - accuracy: 0.8571\n",
      "Epoch 214/300\n",
      "1/1 - 0s - loss: 0.4576 - accuracy: 0.8571\n",
      "Epoch 215/300\n",
      "1/1 - 0s - loss: 0.4545 - accuracy: 0.8571\n",
      "Epoch 216/300\n",
      "1/1 - 0s - loss: 0.4515 - accuracy: 0.8571\n",
      "Epoch 217/300\n",
      "1/1 - 0s - loss: 0.4485 - accuracy: 0.8571\n",
      "Epoch 218/300\n",
      "1/1 - 0s - loss: 0.4455 - accuracy: 0.8929\n",
      "Epoch 219/300\n",
      "1/1 - 0s - loss: 0.4426 - accuracy: 0.8929\n",
      "Epoch 220/300\n",
      "1/1 - 0s - loss: 0.4397 - accuracy: 0.8929\n",
      "Epoch 221/300\n",
      "1/1 - 0s - loss: 0.4368 - accuracy: 0.8929\n",
      "Epoch 222/300\n",
      "1/1 - 0s - loss: 0.4339 - accuracy: 0.8929\n",
      "Epoch 223/300\n",
      "1/1 - 0s - loss: 0.4311 - accuracy: 0.8929\n",
      "Epoch 224/300\n",
      "1/1 - 0s - loss: 0.4283 - accuracy: 0.8929\n",
      "Epoch 225/300\n",
      "1/1 - 0s - loss: 0.4256 - accuracy: 0.8929\n",
      "Epoch 226/300\n",
      "1/1 - 0s - loss: 0.4229 - accuracy: 0.8929\n",
      "Epoch 227/300\n",
      "1/1 - 0s - loss: 0.4202 - accuracy: 0.8929\n",
      "Epoch 228/300\n",
      "1/1 - 0s - loss: 0.4175 - accuracy: 0.8929\n",
      "Epoch 229/300\n",
      "1/1 - 0s - loss: 0.4149 - accuracy: 0.8929\n",
      "Epoch 230/300\n",
      "1/1 - 0s - loss: 0.4122 - accuracy: 0.8929\n",
      "Epoch 231/300\n",
      "1/1 - 0s - loss: 0.4097 - accuracy: 0.8929\n",
      "Epoch 232/300\n",
      "1/1 - 0s - loss: 0.4071 - accuracy: 0.8929\n",
      "Epoch 233/300\n",
      "1/1 - 0s - loss: 0.4046 - accuracy: 0.8929\n",
      "Epoch 234/300\n",
      "1/1 - 0s - loss: 0.4021 - accuracy: 0.8929\n",
      "Epoch 235/300\n",
      "1/1 - 0s - loss: 0.3996 - accuracy: 0.8929\n",
      "Epoch 236/300\n",
      "1/1 - 0s - loss: 0.3972 - accuracy: 0.8929\n",
      "Epoch 237/300\n",
      "1/1 - 0s - loss: 0.3948 - accuracy: 0.8929\n",
      "Epoch 238/300\n",
      "1/1 - 0s - loss: 0.3924 - accuracy: 0.8929\n",
      "Epoch 239/300\n",
      "1/1 - 0s - loss: 0.3900 - accuracy: 0.8929\n",
      "Epoch 240/300\n",
      "1/1 - 0s - loss: 0.3877 - accuracy: 0.8929\n",
      "Epoch 241/300\n",
      "1/1 - 0s - loss: 0.3854 - accuracy: 0.8929\n",
      "Epoch 242/300\n",
      "1/1 - 0s - loss: 0.3831 - accuracy: 0.8929\n",
      "Epoch 243/300\n",
      "1/1 - 0s - loss: 0.3809 - accuracy: 0.8929\n",
      "Epoch 244/300\n",
      "1/1 - 0s - loss: 0.3786 - accuracy: 0.8929\n",
      "Epoch 245/300\n",
      "1/1 - 0s - loss: 0.3764 - accuracy: 0.8929\n",
      "Epoch 246/300\n",
      "1/1 - 0s - loss: 0.3743 - accuracy: 0.8929\n",
      "Epoch 247/300\n",
      "1/1 - 0s - loss: 0.3721 - accuracy: 0.8929\n",
      "Epoch 248/300\n",
      "1/1 - 0s - loss: 0.3700 - accuracy: 0.8929\n",
      "Epoch 249/300\n",
      "1/1 - 0s - loss: 0.3679 - accuracy: 0.8929\n",
      "Epoch 250/300\n",
      "1/1 - 0s - loss: 0.3658 - accuracy: 0.8929\n",
      "Epoch 251/300\n",
      "1/1 - 0s - loss: 0.3638 - accuracy: 0.8929\n",
      "Epoch 252/300\n",
      "1/1 - 0s - loss: 0.3618 - accuracy: 0.8929\n",
      "Epoch 253/300\n",
      "1/1 - 0s - loss: 0.3598 - accuracy: 0.8929\n",
      "Epoch 254/300\n",
      "1/1 - 0s - loss: 0.3578 - accuracy: 0.8929\n",
      "Epoch 255/300\n",
      "1/1 - 0s - loss: 0.3559 - accuracy: 0.8929\n",
      "Epoch 256/300\n",
      "1/1 - 0s - loss: 0.3539 - accuracy: 0.8929\n",
      "Epoch 257/300\n",
      "1/1 - 0s - loss: 0.3521 - accuracy: 0.8929\n",
      "Epoch 258/300\n",
      "1/1 - 0s - loss: 0.3502 - accuracy: 0.8929\n",
      "Epoch 259/300\n",
      "1/1 - 0s - loss: 0.3483 - accuracy: 0.8929\n",
      "Epoch 260/300\n",
      "1/1 - 0s - loss: 0.3465 - accuracy: 0.8929\n",
      "Epoch 261/300\n",
      "1/1 - 0s - loss: 0.3447 - accuracy: 0.8929\n",
      "Epoch 262/300\n",
      "1/1 - 0s - loss: 0.3429 - accuracy: 0.8929\n",
      "Epoch 263/300\n",
      "1/1 - 0s - loss: 0.3412 - accuracy: 0.8929\n",
      "Epoch 264/300\n",
      "1/1 - 0s - loss: 0.3394 - accuracy: 0.8929\n",
      "Epoch 265/300\n",
      "1/1 - 0s - loss: 0.3377 - accuracy: 0.8929\n",
      "Epoch 266/300\n",
      "1/1 - 0s - loss: 0.3361 - accuracy: 0.8929\n",
      "Epoch 267/300\n",
      "1/1 - 0s - loss: 0.3344 - accuracy: 0.8929\n",
      "Epoch 268/300\n",
      "1/1 - 0s - loss: 0.3328 - accuracy: 0.8929\n",
      "Epoch 269/300\n",
      "1/1 - 0s - loss: 0.3311 - accuracy: 0.8929\n",
      "Epoch 270/300\n",
      "1/1 - 0s - loss: 0.3295 - accuracy: 0.8929\n",
      "Epoch 271/300\n",
      "1/1 - 0s - loss: 0.3280 - accuracy: 0.8929\n",
      "Epoch 272/300\n",
      "1/1 - 0s - loss: 0.3264 - accuracy: 0.8929\n",
      "Epoch 273/300\n",
      "1/1 - 0s - loss: 0.3249 - accuracy: 0.8929\n",
      "Epoch 274/300\n",
      "1/1 - 0s - loss: 0.3234 - accuracy: 0.8929\n",
      "Epoch 275/300\n",
      "1/1 - 0s - loss: 0.3219 - accuracy: 0.8929\n",
      "Epoch 276/300\n",
      "1/1 - 0s - loss: 0.3204 - accuracy: 0.8929\n",
      "Epoch 277/300\n",
      "1/1 - 0s - loss: 0.3190 - accuracy: 0.8929\n",
      "Epoch 278/300\n",
      "1/1 - 0s - loss: 0.3175 - accuracy: 0.8929\n",
      "Epoch 279/300\n",
      "1/1 - 0s - loss: 0.3161 - accuracy: 0.8929\n",
      "Epoch 280/300\n",
      "1/1 - 0s - loss: 0.3147 - accuracy: 0.8929\n",
      "Epoch 281/300\n",
      "1/1 - 0s - loss: 0.3134 - accuracy: 0.8929\n",
      "Epoch 282/300\n",
      "1/1 - 0s - loss: 0.3120 - accuracy: 0.8929\n",
      "Epoch 283/300\n",
      "1/1 - 0s - loss: 0.3107 - accuracy: 0.8929\n",
      "Epoch 284/300\n",
      "1/1 - 0s - loss: 0.3094 - accuracy: 0.8929\n",
      "Epoch 285/300\n",
      "1/1 - 0s - loss: 0.3081 - accuracy: 0.8929\n",
      "Epoch 286/300\n",
      "1/1 - 0s - loss: 0.3068 - accuracy: 0.8929\n",
      "Epoch 287/300\n",
      "1/1 - 0s - loss: 0.3055 - accuracy: 0.8929\n",
      "Epoch 288/300\n",
      "1/1 - 0s - loss: 0.3043 - accuracy: 0.8929\n",
      "Epoch 289/300\n",
      "1/1 - 0s - loss: 0.3031 - accuracy: 0.8929\n",
      "Epoch 290/300\n",
      "1/1 - 0s - loss: 0.3019 - accuracy: 0.8929\n"
     ]
    },
    {
     "name": "stdout",
     "output_type": "stream",
     "text": [
      "Epoch 291/300\n",
      "1/1 - 0s - loss: 0.3007 - accuracy: 0.8929\n",
      "Epoch 292/300\n",
      "1/1 - 0s - loss: 0.2995 - accuracy: 0.8929\n",
      "Epoch 293/300\n",
      "1/1 - 0s - loss: 0.2983 - accuracy: 0.8929\n",
      "Epoch 294/300\n",
      "1/1 - 0s - loss: 0.2972 - accuracy: 0.8929\n",
      "Epoch 295/300\n",
      "1/1 - 0s - loss: 0.2961 - accuracy: 0.8929\n",
      "Epoch 296/300\n",
      "1/1 - 0s - loss: 0.2950 - accuracy: 0.8929\n",
      "Epoch 297/300\n",
      "1/1 - 0s - loss: 0.2939 - accuracy: 0.8929\n",
      "Epoch 298/300\n",
      "1/1 - 0s - loss: 0.2928 - accuracy: 0.8929\n",
      "Epoch 299/300\n",
      "1/1 - 0s - loss: 0.2918 - accuracy: 0.8929\n",
      "Epoch 300/300\n",
      "1/1 - 0s - loss: 0.2907 - accuracy: 0.8929\n"
     ]
    }
   ],
   "source": [
    "from tensorflow.keras.models import Sequential\n",
    "from tensorflow.keras.layers import SimpleRNN, Dense, Embedding\n",
    "\n",
    "# RNN 모델 생성\n",
    "model = Sequential()\n",
    "# 희소행렬로 변환 (10:벡터)\n",
    "model.add(Embedding(vocab_size, 10, input_length=X.shape[1]))\n",
    "model.add(SimpleRNN(32))\n",
    "model.add(Dense(vocab_size, activation=\"softmax\"))\n",
    "\n",
    "# 모델 학습과정 설정\n",
    "model.compile(loss=\"categorical_crossentropy\", optimizer=\"adam\", \n",
    "              metrics=['accuracy'])\n",
    "\n",
    "# 학습시키기\n",
    "hist = model.fit(X, Y, epochs=300, verbose=2)"
   ]
  },
  {
   "cell_type": "code",
   "execution_count": 19,
   "metadata": {
    "ExecuteTime": {
     "end_time": "2021-03-29T03:49:05.470821Z",
     "start_time": "2021-03-29T03:49:05.188991Z"
    }
   },
   "outputs": [
    {
     "name": "stdout",
     "output_type": "stream",
     "text": [
      "1/1 [==============================] - 0s 241ms/step - loss: 0.2897 - accuracy: 0.8929\n"
     ]
    },
    {
     "data": {
      "text/plain": [
       "[0.28968507051467896, 0.8928571343421936]"
      ]
     },
     "execution_count": 19,
     "metadata": {},
     "output_type": "execute_result"
    }
   ],
   "source": [
    "# 모델 평가\n",
    "model.evaluate(X, Y)"
   ]
  },
  {
   "cell_type": "code",
   "execution_count": 20,
   "metadata": {
    "ExecuteTime": {
     "end_time": "2021-03-29T03:49:05.486804Z",
     "start_time": "2021-03-29T03:49:05.472815Z"
    }
   },
   "outputs": [
    {
     "data": {
      "text/plain": [
       "dict_keys(['loss', 'accuracy'])"
      ]
     },
     "execution_count": 20,
     "metadata": {},
     "output_type": "execute_result"
    }
   ],
   "source": [
    "hist.history.keys()"
   ]
  },
  {
   "cell_type": "code",
   "execution_count": 21,
   "metadata": {
    "ExecuteTime": {
     "end_time": "2021-03-29T03:49:06.087767Z",
     "start_time": "2021-03-29T03:49:05.488792Z"
    }
   },
   "outputs": [
    {
     "data": {
      "text/plain": [
       "<matplotlib.legend.Legend at 0x2c3345517f0>"
      ]
     },
     "execution_count": 21,
     "metadata": {},
     "output_type": "execute_result"
    },
    {
     "data": {
      "image/png": "[encoded data removed]",
      "text/plain": [
       "<Figure size 432x288 with 1 Axes>"
      ]
     },
     "metadata": {
      "needs_background": "light"
     },
     "output_type": "display_data"
    }
   ],
   "source": [
    "# 학습과정 보기\n",
    "import matplotlib.pyplot as plt\n",
    "plt.plot(hist.history['loss'], color='r', label=\"loss\")\n",
    "plt.plot(hist.history['accuracy'], color='g', label='accuracy')\n",
    "plt.legend()"
   ]
  },
  {
   "cell_type": "code",
   "execution_count": 22,
   "metadata": {
    "ExecuteTime": {
     "end_time": "2021-03-29T03:49:06.294989Z",
     "start_time": "2021-03-29T03:49:06.088739Z"
    }
   },
   "outputs": [
    {
     "name": "stdout",
     "output_type": "stream",
     "text": [
      "예측결과값:  3\n",
      "예측된 단어:  있는\n"
     ]
    },
    {
     "name": "stderr",
     "output_type": "stream",
     "text": [
      "C:\\Users\\tjoeun\\anaconda3\\lib\\site-packages\\tensorflow\\python\\keras\\engine\\sequential.py:450: UserWarning: `model.predict_classes()` is deprecated and will be removed after 2021-01-01. Please use instead:* `np.argmax(model.predict(x), axis=-1)`,   if your model does multi-class classification   (e.g. if it uses a `softmax` last-layer activation).* `(model.predict(x) > 0.5).astype(\"int32\")`,   if your model does binary classification   (e.g. if it uses a `sigmoid` last-layer activation).\n",
      "  warnings.warn('`model.predict_classes()` is deprecated and '\n"
     ]
    }
   ],
   "source": [
    "#'경마장에' 뒤에 나오는 단어를 모델에 의해 추측\n",
    "encoded = t.texts_to_sequences(['경마장에'])[0]\n",
    "encoded = pad_sequences([encoded], maxlen=5, padding='pre')\n",
    "result = model.predict_classes(encoded)\n",
    "print('예측결과값: ', result[0])\n",
    "for key, value in t.word_index.items():\n",
    "    if value==result[0]:\n",
    "        print(\"예측된 단어: \", key)\n",
    "        break"
   ]
  },
  {
   "cell_type": "code",
   "execution_count": 23,
   "metadata": {
    "ExecuteTime": {
     "end_time": "2021-03-29T03:49:10.277153Z",
     "start_time": "2021-03-29T03:49:06.295944Z"
    }
   },
   "outputs": [
    {
     "name": "stdout",
     "output_type": "stream",
     "text": [
      "입력 단어: 말이\n",
      "예측결과값:  7\n",
      "예측된 단어:  법이다\n"
     ]
    }
   ],
   "source": [
    "#입력받은 단어를 모델에 의해 추측\n",
    "word = input('입력 단어: ')\n",
    "encoded = t.texts_to_sequences([word])[0]\n",
    "encoded = pad_sequences([encoded], maxlen=5, padding='pre')\n",
    "result = model.predict_classes(encoded)\n",
    "print('예측결과값: ', result[0])\n",
    "for key, value in t.word_index.items():\n",
    "    if value==result[0]:\n",
    "        print(\"예측된 단어: \", key)\n",
    "        break"
   ]
  },
  {
   "cell_type": "markdown",
   "metadata": {},
   "source": [
    "## 다음 문맥 예측해보기"
   ]
  },
  {
   "cell_type": "code",
   "execution_count": 26,
   "metadata": {
    "ExecuteTime": {
     "end_time": "2021-03-29T03:49:39.276456Z",
     "start_time": "2021-03-29T03:49:39.259501Z"
    }
   },
   "outputs": [],
   "source": [
    "# \"경마장에\" 이후에 올 단어  4개 예측 => 경마장에 있는 말이 뛰고\n",
    "#  -----                   --\n",
    "import numpy as np\n",
    "def sentence_generation(model, t, current_word, n):\n",
    "    init_word = current_word\n",
    "    print(\"입력 단어 :\", init_word)\n",
    "    setence = \"\"\n",
    "    for i in range(1,n+1):\n",
    "        encoded = t.texts_to_sequences([current_word])[0]\n",
    "        encoded = pad_sequences([encoded], maxlen=5, padding='pre')\n",
    "        result = np.argmax(model.predict(encoded))\n",
    "        for word, index in t.word_index.items():\n",
    "            if index==result:\n",
    "                print(\"{}번째 : {}:{}\".format(i, word, result))\n",
    "                current_word = current_word + ' ' + word\n",
    "                break;\n",
    "    return current_word"
   ]
  },
  {
   "cell_type": "code",
   "execution_count": 27,
   "metadata": {
    "ExecuteTime": {
     "end_time": "2021-03-29T03:49:41.194322Z",
     "start_time": "2021-03-29T03:49:41.028035Z"
    }
   },
   "outputs": [
    {
     "name": "stdout",
     "output_type": "stream",
     "text": [
      "입력 단어 : 경마장에\n",
      "1번째 : 있는:3\n",
      "2번째 : 말이:1\n",
      "3번째 : 뛰고:4\n",
      "4번째 : 싶다:5\n"
     ]
    },
    {
     "data": {
      "text/plain": [
       "'경마장에 있는 말이 뛰고 싶다'"
      ]
     },
     "execution_count": 27,
     "metadata": {},
     "output_type": "execute_result"
    }
   ],
   "source": [
    "sentence_generation(model, t, \"경마장에\", 4)"
   ]
  },
  {
   "cell_type": "code",
   "execution_count": 28,
   "metadata": {
    "ExecuteTime": {
     "end_time": "2021-03-29T03:49:42.211035Z",
     "start_time": "2021-03-29T03:49:42.051498Z"
    }
   },
   "outputs": [
    {
     "name": "stdout",
     "output_type": "stream",
     "text": [
      "입력 단어 : 가는 말이\n",
      "1번째 : 고와야:9\n",
      "2번째 : 오는:10\n",
      "3번째 : 말이:1\n",
      "4번째 : 곱다:11\n"
     ]
    },
    {
     "data": {
      "text/plain": [
       "'가는 말이 고와야 오는 말이 곱다'"
      ]
     },
     "execution_count": 28,
     "metadata": {},
     "output_type": "execute_result"
    }
   ],
   "source": [
    "sentence_generation(model, t, \"가는 말이\", 4)"
   ]
  },
  {
   "cell_type": "markdown",
   "metadata": {},
   "source": [
    "## LSTM"
   ]
  },
  {
   "cell_type": "code",
   "execution_count": 29,
   "metadata": {
    "ExecuteTime": {
     "end_time": "2021-03-29T03:49:45.085995Z",
     "start_time": "2021-03-29T03:49:42.915685Z"
    }
   },
   "outputs": [
    {
     "name": "stdout",
     "output_type": "stream",
     "text": [
      "Epoch 1/300\n",
      "1/1 - 1s - loss: 2.5018 - accuracy: 0.0357\n",
      "Epoch 2/300\n",
      "1/1 - 0s - loss: 2.4873 - accuracy: 0.1071\n",
      "Epoch 3/300\n",
      "1/1 - 0s - loss: 2.4731 - accuracy: 0.1071\n",
      "Epoch 4/300\n",
      "1/1 - 0s - loss: 2.4590 - accuracy: 0.1429\n",
      "Epoch 5/300\n",
      "1/1 - 0s - loss: 2.4450 - accuracy: 0.1429\n",
      "Epoch 6/300\n",
      "1/1 - 0s - loss: 2.4309 - accuracy: 0.1071\n",
      "Epoch 7/300\n",
      "1/1 - 0s - loss: 2.4165 - accuracy: 0.1071\n",
      "Epoch 8/300\n",
      "1/1 - 0s - loss: 2.4018 - accuracy: 0.1429\n",
      "Epoch 9/300\n",
      "1/1 - 0s - loss: 2.3866 - accuracy: 0.1786\n",
      "Epoch 10/300\n",
      "1/1 - 0s - loss: 2.3709 - accuracy: 0.1786\n",
      "Epoch 11/300\n",
      "1/1 - 0s - loss: 2.3546 - accuracy: 0.1786\n",
      "Epoch 12/300\n",
      "1/1 - 0s - loss: 2.3377 - accuracy: 0.2143\n",
      "Epoch 13/300\n",
      "1/1 - 0s - loss: 2.3200 - accuracy: 0.2143\n",
      "Epoch 14/300\n",
      "1/1 - 0s - loss: 2.3016 - accuracy: 0.2857\n",
      "Epoch 15/300\n",
      "1/1 - 0s - loss: 2.2825 - accuracy: 0.3214\n",
      "Epoch 16/300\n",
      "1/1 - 0s - loss: 2.2627 - accuracy: 0.3571\n",
      "Epoch 17/300\n",
      "1/1 - 0s - loss: 2.2423 - accuracy: 0.3571\n",
      "Epoch 18/300\n",
      "1/1 - 0s - loss: 2.2213 - accuracy: 0.3929\n",
      "Epoch 19/300\n",
      "1/1 - 0s - loss: 2.2000 - accuracy: 0.3929\n",
      "Epoch 20/300\n",
      "1/1 - 0s - loss: 2.1784 - accuracy: 0.3929\n",
      "Epoch 21/300\n",
      "1/1 - 0s - loss: 2.1569 - accuracy: 0.3571\n",
      "Epoch 22/300\n",
      "1/1 - 0s - loss: 2.1358 - accuracy: 0.3571\n",
      "Epoch 23/300\n",
      "1/1 - 0s - loss: 2.1153 - accuracy: 0.3571\n",
      "Epoch 24/300\n",
      "1/1 - 0s - loss: 2.0957 - accuracy: 0.3214\n",
      "Epoch 25/300\n",
      "1/1 - 0s - loss: 2.0774 - accuracy: 0.2857\n",
      "Epoch 26/300\n",
      "1/1 - 0s - loss: 2.0606 - accuracy: 0.2857\n",
      "Epoch 27/300\n",
      "1/1 - 0s - loss: 2.0455 - accuracy: 0.2857\n",
      "Epoch 28/300\n",
      "1/1 - 0s - loss: 2.0321 - accuracy: 0.2857\n",
      "Epoch 29/300\n",
      "1/1 - 0s - loss: 2.0205 - accuracy: 0.2857\n",
      "Epoch 30/300\n",
      "1/1 - 0s - loss: 2.0102 - accuracy: 0.2857\n",
      "Epoch 31/300\n",
      "1/1 - 0s - loss: 2.0010 - accuracy: 0.2857\n",
      "Epoch 32/300\n",
      "1/1 - 0s - loss: 1.9924 - accuracy: 0.2857\n",
      "Epoch 33/300\n",
      "1/1 - 0s - loss: 1.9839 - accuracy: 0.2857\n",
      "Epoch 34/300\n",
      "1/1 - 0s - loss: 1.9752 - accuracy: 0.2857\n",
      "Epoch 35/300\n",
      "1/1 - 0s - loss: 1.9661 - accuracy: 0.2857\n",
      "Epoch 36/300\n",
      "1/1 - 0s - loss: 1.9565 - accuracy: 0.2857\n",
      "Epoch 37/300\n",
      "1/1 - 0s - loss: 1.9464 - accuracy: 0.2857\n",
      "Epoch 38/300\n",
      "1/1 - 0s - loss: 1.9360 - accuracy: 0.2857\n",
      "Epoch 39/300\n",
      "1/1 - 0s - loss: 1.9255 - accuracy: 0.2857\n",
      "Epoch 40/300\n",
      "1/1 - 0s - loss: 1.9150 - accuracy: 0.2857\n",
      "Epoch 41/300\n",
      "1/1 - 0s - loss: 1.9048 - accuracy: 0.2857\n",
      "Epoch 42/300\n",
      "1/1 - 0s - loss: 1.8949 - accuracy: 0.2857\n",
      "Epoch 43/300\n",
      "1/1 - 0s - loss: 1.8855 - accuracy: 0.2857\n",
      "Epoch 44/300\n",
      "1/1 - 0s - loss: 1.8766 - accuracy: 0.2857\n",
      "Epoch 45/300\n",
      "1/1 - 0s - loss: 1.8680 - accuracy: 0.2857\n",
      "Epoch 46/300\n",
      "1/1 - 0s - loss: 1.8598 - accuracy: 0.3214\n",
      "Epoch 47/300\n",
      "1/1 - 0s - loss: 1.8519 - accuracy: 0.3214\n",
      "Epoch 48/300\n",
      "1/1 - 0s - loss: 1.8440 - accuracy: 0.3571\n",
      "Epoch 49/300\n",
      "1/1 - 0s - loss: 1.8362 - accuracy: 0.3929\n",
      "Epoch 50/300\n",
      "1/1 - 0s - loss: 1.8283 - accuracy: 0.3929\n",
      "Epoch 51/300\n",
      "1/1 - 0s - loss: 1.8203 - accuracy: 0.3929\n",
      "Epoch 52/300\n",
      "1/1 - 0s - loss: 1.8122 - accuracy: 0.3929\n",
      "Epoch 53/300\n",
      "1/1 - 0s - loss: 1.8039 - accuracy: 0.3929\n",
      "Epoch 54/300\n",
      "1/1 - 0s - loss: 1.7954 - accuracy: 0.3929\n",
      "Epoch 55/300\n",
      "1/1 - 0s - loss: 1.7868 - accuracy: 0.3929\n",
      "Epoch 56/300\n",
      "1/1 - 0s - loss: 1.7781 - accuracy: 0.3929\n",
      "Epoch 57/300\n",
      "1/1 - 0s - loss: 1.7692 - accuracy: 0.3929\n",
      "Epoch 58/300\n",
      "1/1 - 0s - loss: 1.7602 - accuracy: 0.3929\n",
      "Epoch 59/300\n",
      "1/1 - 0s - loss: 1.7511 - accuracy: 0.3929\n",
      "Epoch 60/300\n",
      "1/1 - 0s - loss: 1.7418 - accuracy: 0.4286\n",
      "Epoch 61/300\n",
      "1/1 - 0s - loss: 1.7324 - accuracy: 0.4286\n",
      "Epoch 62/300\n",
      "1/1 - 0s - loss: 1.7228 - accuracy: 0.4286\n",
      "Epoch 63/300\n",
      "1/1 - 0s - loss: 1.7130 - accuracy: 0.4643\n",
      "Epoch 64/300\n",
      "1/1 - 0s - loss: 1.7030 - accuracy: 0.4643\n",
      "Epoch 65/300\n",
      "1/1 - 0s - loss: 1.6927 - accuracy: 0.4643\n",
      "Epoch 66/300\n",
      "1/1 - 0s - loss: 1.6822 - accuracy: 0.4643\n",
      "Epoch 67/300\n",
      "1/1 - 0s - loss: 1.6713 - accuracy: 0.4643\n",
      "Epoch 68/300\n",
      "1/1 - 0s - loss: 1.6602 - accuracy: 0.4643\n",
      "Epoch 69/300\n",
      "1/1 - 0s - loss: 1.6488 - accuracy: 0.4643\n",
      "Epoch 70/300\n",
      "1/1 - 0s - loss: 1.6371 - accuracy: 0.4643\n",
      "Epoch 71/300\n",
      "1/1 - 0s - loss: 1.6252 - accuracy: 0.4643\n",
      "Epoch 72/300\n",
      "1/1 - 0s - loss: 1.6130 - accuracy: 0.4643\n",
      "Epoch 73/300\n",
      "1/1 - 0s - loss: 1.6006 - accuracy: 0.4643\n",
      "Epoch 74/300\n",
      "1/1 - 0s - loss: 1.5879 - accuracy: 0.4643\n",
      "Epoch 75/300\n",
      "1/1 - 0s - loss: 1.5752 - accuracy: 0.4643\n",
      "Epoch 76/300\n",
      "1/1 - 0s - loss: 1.5622 - accuracy: 0.4643\n",
      "Epoch 77/300\n",
      "1/1 - 0s - loss: 1.5492 - accuracy: 0.5000\n",
      "Epoch 78/300\n",
      "1/1 - 0s - loss: 1.5360 - accuracy: 0.5000\n",
      "Epoch 79/300\n",
      "1/1 - 0s - loss: 1.5227 - accuracy: 0.5357\n",
      "Epoch 80/300\n",
      "1/1 - 0s - loss: 1.5094 - accuracy: 0.5357\n",
      "Epoch 81/300\n",
      "1/1 - 0s - loss: 1.4960 - accuracy: 0.5357\n",
      "Epoch 82/300\n",
      "1/1 - 0s - loss: 1.4826 - accuracy: 0.5357\n",
      "Epoch 83/300\n",
      "1/1 - 0s - loss: 1.4691 - accuracy: 0.5357\n",
      "Epoch 84/300\n",
      "1/1 - 0s - loss: 1.4556 - accuracy: 0.5357\n",
      "Epoch 85/300\n",
      "1/1 - 0s - loss: 1.4420 - accuracy: 0.5714\n",
      "Epoch 86/300\n",
      "1/1 - 0s - loss: 1.4285 - accuracy: 0.5714\n",
      "Epoch 87/300\n",
      "1/1 - 0s - loss: 1.4149 - accuracy: 0.5714\n",
      "Epoch 88/300\n",
      "1/1 - 0s - loss: 1.4014 - accuracy: 0.5714\n",
      "Epoch 89/300\n",
      "1/1 - 0s - loss: 1.3878 - accuracy: 0.6071\n",
      "Epoch 90/300\n",
      "1/1 - 0s - loss: 1.3743 - accuracy: 0.6071\n",
      "Epoch 91/300\n",
      "1/1 - 0s - loss: 1.3607 - accuracy: 0.6429\n",
      "Epoch 92/300\n",
      "1/1 - 0s - loss: 1.3472 - accuracy: 0.6429\n",
      "Epoch 93/300\n",
      "1/1 - 0s - loss: 1.3338 - accuracy: 0.6429\n",
      "Epoch 94/300\n",
      "1/1 - 0s - loss: 1.3204 - accuracy: 0.6429\n",
      "Epoch 95/300\n",
      "1/1 - 0s - loss: 1.3070 - accuracy: 0.6429\n",
      "Epoch 96/300\n",
      "1/1 - 0s - loss: 1.2937 - accuracy: 0.6429\n",
      "Epoch 97/300\n",
      "1/1 - 0s - loss: 1.2804 - accuracy: 0.6429\n",
      "Epoch 98/300\n",
      "1/1 - 0s - loss: 1.2672 - accuracy: 0.6429\n",
      "Epoch 99/300\n",
      "1/1 - 0s - loss: 1.2541 - accuracy: 0.6429\n",
      "Epoch 100/300\n",
      "1/1 - 0s - loss: 1.2411 - accuracy: 0.6429\n",
      "Epoch 101/300\n",
      "1/1 - 0s - loss: 1.2282 - accuracy: 0.6429\n",
      "Epoch 102/300\n",
      "1/1 - 0s - loss: 1.2153 - accuracy: 0.6429\n",
      "Epoch 103/300\n",
      "1/1 - 0s - loss: 1.2025 - accuracy: 0.6429\n",
      "Epoch 104/300\n",
      "1/1 - 0s - loss: 1.1899 - accuracy: 0.6429\n",
      "Epoch 105/300\n",
      "1/1 - 0s - loss: 1.1774 - accuracy: 0.6786\n",
      "Epoch 106/300\n",
      "1/1 - 0s - loss: 1.1649 - accuracy: 0.6786\n",
      "Epoch 107/300\n",
      "1/1 - 0s - loss: 1.1526 - accuracy: 0.6786\n",
      "Epoch 108/300\n",
      "1/1 - 0s - loss: 1.1404 - accuracy: 0.6786\n",
      "Epoch 109/300\n",
      "1/1 - 0s - loss: 1.1283 - accuracy: 0.6786\n",
      "Epoch 110/300\n",
      "1/1 - 0s - loss: 1.1164 - accuracy: 0.6786\n",
      "Epoch 111/300\n",
      "1/1 - 0s - loss: 1.1045 - accuracy: 0.7143\n",
      "Epoch 112/300\n",
      "1/1 - 0s - loss: 1.0928 - accuracy: 0.7143\n",
      "Epoch 113/300\n",
      "1/1 - 0s - loss: 1.0812 - accuracy: 0.7143\n",
      "Epoch 114/300\n",
      "1/1 - 0s - loss: 1.0698 - accuracy: 0.7143\n",
      "Epoch 115/300\n",
      "1/1 - 0s - loss: 1.0585 - accuracy: 0.7143\n",
      "Epoch 116/300\n",
      "1/1 - 0s - loss: 1.0473 - accuracy: 0.7143\n",
      "Epoch 117/300\n",
      "1/1 - 0s - loss: 1.0362 - accuracy: 0.7500\n",
      "Epoch 118/300\n",
      "1/1 - 0s - loss: 1.0253 - accuracy: 0.7500\n",
      "Epoch 119/300\n",
      "1/1 - 0s - loss: 1.0145 - accuracy: 0.7500\n",
      "Epoch 120/300\n",
      "1/1 - 0s - loss: 1.0039 - accuracy: 0.7500\n",
      "Epoch 121/300\n",
      "1/1 - 0s - loss: 0.9934 - accuracy: 0.7500\n",
      "Epoch 122/300\n",
      "1/1 - 0s - loss: 0.9830 - accuracy: 0.7500\n",
      "Epoch 123/300\n",
      "1/1 - 0s - loss: 0.9728 - accuracy: 0.7500\n",
      "Epoch 124/300\n",
      "1/1 - 0s - loss: 0.9627 - accuracy: 0.7500\n",
      "Epoch 125/300\n",
      "1/1 - 0s - loss: 0.9527 - accuracy: 0.7857\n",
      "Epoch 126/300\n",
      "1/1 - 0s - loss: 0.9429 - accuracy: 0.7857\n",
      "Epoch 127/300\n",
      "1/1 - 0s - loss: 0.9332 - accuracy: 0.7857\n",
      "Epoch 128/300\n",
      "1/1 - 0s - loss: 0.9237 - accuracy: 0.7857\n",
      "Epoch 129/300\n",
      "1/1 - 0s - loss: 0.9142 - accuracy: 0.7857\n",
      "Epoch 130/300\n",
      "1/1 - 0s - loss: 0.9049 - accuracy: 0.7857\n",
      "Epoch 131/300\n",
      "1/1 - 0s - loss: 0.8958 - accuracy: 0.7857\n",
      "Epoch 132/300\n",
      "1/1 - 0s - loss: 0.8867 - accuracy: 0.7857\n",
      "Epoch 133/300\n",
      "1/1 - 0s - loss: 0.8778 - accuracy: 0.7857\n",
      "Epoch 134/300\n",
      "1/1 - 0s - loss: 0.8690 - accuracy: 0.7857\n",
      "Epoch 135/300\n",
      "1/1 - 0s - loss: 0.8604 - accuracy: 0.7857\n",
      "Epoch 136/300\n",
      "1/1 - 0s - loss: 0.8518 - accuracy: 0.7857\n",
      "Epoch 137/300\n",
      "1/1 - 0s - loss: 0.8434 - accuracy: 0.7857\n",
      "Epoch 138/300\n",
      "1/1 - 0s - loss: 0.8351 - accuracy: 0.7857\n",
      "Epoch 139/300\n",
      "1/1 - 0s - loss: 0.8269 - accuracy: 0.7857\n",
      "Epoch 140/300\n",
      "1/1 - 0s - loss: 0.8188 - accuracy: 0.7857\n",
      "Epoch 141/300\n",
      "1/1 - 0s - loss: 0.8108 - accuracy: 0.7857\n",
      "Epoch 142/300\n",
      "1/1 - 0s - loss: 0.8029 - accuracy: 0.7857\n",
      "Epoch 143/300\n",
      "1/1 - 0s - loss: 0.7952 - accuracy: 0.7857\n",
      "Epoch 144/300\n",
      "1/1 - 0s - loss: 0.7875 - accuracy: 0.7857\n",
      "Epoch 145/300\n",
      "1/1 - 0s - loss: 0.7800 - accuracy: 0.7857\n",
      "Epoch 146/300\n",
      "1/1 - 0s - loss: 0.7725 - accuracy: 0.7857\n"
     ]
    },
    {
     "name": "stdout",
     "output_type": "stream",
     "text": [
      "Epoch 147/300\n",
      "1/1 - 0s - loss: 0.7652 - accuracy: 0.7857\n",
      "Epoch 148/300\n",
      "1/1 - 0s - loss: 0.7579 - accuracy: 0.7857\n",
      "Epoch 149/300\n",
      "1/1 - 0s - loss: 0.7507 - accuracy: 0.7857\n",
      "Epoch 150/300\n",
      "1/1 - 0s - loss: 0.7437 - accuracy: 0.7857\n",
      "Epoch 151/300\n",
      "1/1 - 0s - loss: 0.7367 - accuracy: 0.7857\n",
      "Epoch 152/300\n",
      "1/1 - 0s - loss: 0.7298 - accuracy: 0.7857\n",
      "Epoch 153/300\n",
      "1/1 - 0s - loss: 0.7230 - accuracy: 0.7857\n",
      "Epoch 154/300\n",
      "1/1 - 0s - loss: 0.7163 - accuracy: 0.7857\n",
      "Epoch 155/300\n",
      "1/1 - 0s - loss: 0.7097 - accuracy: 0.7857\n",
      "Epoch 156/300\n",
      "1/1 - 0s - loss: 0.7031 - accuracy: 0.7857\n",
      "Epoch 157/300\n",
      "1/1 - 0s - loss: 0.6967 - accuracy: 0.7857\n",
      "Epoch 158/300\n",
      "1/1 - 0s - loss: 0.6903 - accuracy: 0.7857\n",
      "Epoch 159/300\n",
      "1/1 - 0s - loss: 0.6840 - accuracy: 0.7857\n",
      "Epoch 160/300\n",
      "1/1 - 0s - loss: 0.6778 - accuracy: 0.7857\n",
      "Epoch 161/300\n",
      "1/1 - 0s - loss: 0.6716 - accuracy: 0.7857\n",
      "Epoch 162/300\n",
      "1/1 - 0s - loss: 0.6656 - accuracy: 0.7857\n",
      "Epoch 163/300\n",
      "1/1 - 0s - loss: 0.6596 - accuracy: 0.7857\n",
      "Epoch 164/300\n",
      "1/1 - 0s - loss: 0.6537 - accuracy: 0.7857\n",
      "Epoch 165/300\n",
      "1/1 - 0s - loss: 0.6478 - accuracy: 0.7857\n",
      "Epoch 166/300\n",
      "1/1 - 0s - loss: 0.6421 - accuracy: 0.7857\n",
      "Epoch 167/300\n",
      "1/1 - 0s - loss: 0.6364 - accuracy: 0.7857\n",
      "Epoch 168/300\n",
      "1/1 - 0s - loss: 0.6308 - accuracy: 0.8214\n",
      "Epoch 169/300\n",
      "1/1 - 0s - loss: 0.6252 - accuracy: 0.8214\n",
      "Epoch 170/300\n",
      "1/1 - 0s - loss: 0.6197 - accuracy: 0.8214\n",
      "Epoch 171/300\n",
      "1/1 - 0s - loss: 0.6143 - accuracy: 0.8214\n",
      "Epoch 172/300\n",
      "1/1 - 0s - loss: 0.6090 - accuracy: 0.8214\n",
      "Epoch 173/300\n",
      "1/1 - 0s - loss: 0.6037 - accuracy: 0.8214\n",
      "Epoch 174/300\n",
      "1/1 - 0s - loss: 0.5985 - accuracy: 0.8214\n",
      "Epoch 175/300\n",
      "1/1 - 0s - loss: 0.5933 - accuracy: 0.8214\n",
      "Epoch 176/300\n",
      "1/1 - 0s - loss: 0.5882 - accuracy: 0.8214\n",
      "Epoch 177/300\n",
      "1/1 - 0s - loss: 0.5832 - accuracy: 0.8214\n",
      "Epoch 178/300\n",
      "1/1 - 0s - loss: 0.5782 - accuracy: 0.8214\n",
      "Epoch 179/300\n",
      "1/1 - 0s - loss: 0.5733 - accuracy: 0.8214\n",
      "Epoch 180/300\n",
      "1/1 - 0s - loss: 0.5685 - accuracy: 0.8214\n",
      "Epoch 181/300\n",
      "1/1 - 0s - loss: 0.5637 - accuracy: 0.8571\n",
      "Epoch 182/300\n",
      "1/1 - 0s - loss: 0.5590 - accuracy: 0.8571\n",
      "Epoch 183/300\n",
      "1/1 - 0s - loss: 0.5543 - accuracy: 0.8571\n",
      "Epoch 184/300\n",
      "1/1 - 0s - loss: 0.5497 - accuracy: 0.8571\n",
      "Epoch 185/300\n",
      "1/1 - 0s - loss: 0.5452 - accuracy: 0.8571\n",
      "Epoch 186/300\n",
      "1/1 - 0s - loss: 0.5407 - accuracy: 0.8571\n",
      "Epoch 187/300\n",
      "1/1 - 0s - loss: 0.5362 - accuracy: 0.8571\n",
      "Epoch 188/300\n",
      "1/1 - 0s - loss: 0.5318 - accuracy: 0.8571\n",
      "Epoch 189/300\n",
      "1/1 - 0s - loss: 0.5275 - accuracy: 0.8571\n",
      "Epoch 190/300\n",
      "1/1 - 0s - loss: 0.5232 - accuracy: 0.8571\n",
      "Epoch 191/300\n",
      "1/1 - 0s - loss: 0.5190 - accuracy: 0.8929\n",
      "Epoch 192/300\n",
      "1/1 - 0s - loss: 0.5148 - accuracy: 0.8929\n",
      "Epoch 193/300\n",
      "1/1 - 0s - loss: 0.5107 - accuracy: 0.8929\n",
      "Epoch 194/300\n",
      "1/1 - 0s - loss: 0.5066 - accuracy: 0.8929\n",
      "Epoch 195/300\n",
      "1/1 - 0s - loss: 0.5026 - accuracy: 0.8929\n",
      "Epoch 196/300\n",
      "1/1 - 0s - loss: 0.4986 - accuracy: 0.8929\n",
      "Epoch 197/300\n",
      "1/1 - 0s - loss: 0.4947 - accuracy: 0.8929\n",
      "Epoch 198/300\n",
      "1/1 - 0s - loss: 0.4908 - accuracy: 0.8929\n",
      "Epoch 199/300\n",
      "1/1 - 0s - loss: 0.4870 - accuracy: 0.8929\n",
      "Epoch 200/300\n",
      "1/1 - 0s - loss: 0.4832 - accuracy: 0.8929\n",
      "Epoch 201/300\n",
      "1/1 - 0s - loss: 0.4795 - accuracy: 0.8929\n",
      "Epoch 202/300\n",
      "1/1 - 0s - loss: 0.4758 - accuracy: 0.8929\n",
      "Epoch 203/300\n",
      "1/1 - 0s - loss: 0.4722 - accuracy: 0.8929\n",
      "Epoch 204/300\n",
      "1/1 - 0s - loss: 0.4686 - accuracy: 0.8929\n",
      "Epoch 205/300\n",
      "1/1 - 0s - loss: 0.4650 - accuracy: 0.8929\n",
      "Epoch 206/300\n",
      "1/1 - 0s - loss: 0.4615 - accuracy: 0.8929\n",
      "Epoch 207/300\n",
      "1/1 - 0s - loss: 0.4581 - accuracy: 0.8929\n",
      "Epoch 208/300\n",
      "1/1 - 0s - loss: 0.4546 - accuracy: 0.8929\n",
      "Epoch 209/300\n",
      "1/1 - 0s - loss: 0.4513 - accuracy: 0.8929\n",
      "Epoch 210/300\n",
      "1/1 - 0s - loss: 0.4479 - accuracy: 0.8929\n",
      "Epoch 211/300\n",
      "1/1 - 0s - loss: 0.4447 - accuracy: 0.8929\n",
      "Epoch 212/300\n",
      "1/1 - 0s - loss: 0.4414 - accuracy: 0.8929\n",
      "Epoch 213/300\n",
      "1/1 - 0s - loss: 0.4382 - accuracy: 0.8929\n",
      "Epoch 214/300\n",
      "1/1 - 0s - loss: 0.4351 - accuracy: 0.8929\n",
      "Epoch 215/300\n",
      "1/1 - 0s - loss: 0.4319 - accuracy: 0.8929\n",
      "Epoch 216/300\n",
      "1/1 - 0s - loss: 0.4289 - accuracy: 0.8929\n",
      "Epoch 217/300\n",
      "1/1 - 0s - loss: 0.4258 - accuracy: 0.8929\n",
      "Epoch 218/300\n",
      "1/1 - 0s - loss: 0.4228 - accuracy: 0.8929\n",
      "Epoch 219/300\n",
      "1/1 - 0s - loss: 0.4199 - accuracy: 0.8929\n",
      "Epoch 220/300\n",
      "1/1 - 0s - loss: 0.4169 - accuracy: 0.8929\n",
      "Epoch 221/300\n",
      "1/1 - 0s - loss: 0.4141 - accuracy: 0.8929\n",
      "Epoch 222/300\n",
      "1/1 - 0s - loss: 0.4112 - accuracy: 0.8929\n",
      "Epoch 223/300\n",
      "1/1 - 0s - loss: 0.4084 - accuracy: 0.8929\n",
      "Epoch 224/300\n",
      "1/1 - 0s - loss: 0.4056 - accuracy: 0.8929\n",
      "Epoch 225/300\n",
      "1/1 - 0s - loss: 0.4029 - accuracy: 0.8929\n",
      "Epoch 226/300\n",
      "1/1 - 0s - loss: 0.4002 - accuracy: 0.8929\n",
      "Epoch 227/300\n",
      "1/1 - 0s - loss: 0.3975 - accuracy: 0.8929\n",
      "Epoch 228/300\n",
      "1/1 - 0s - loss: 0.3949 - accuracy: 0.8929\n",
      "Epoch 229/300\n",
      "1/1 - 0s - loss: 0.3923 - accuracy: 0.8929\n",
      "Epoch 230/300\n",
      "1/1 - 0s - loss: 0.3898 - accuracy: 0.8929\n",
      "Epoch 231/300\n",
      "1/1 - 0s - loss: 0.3873 - accuracy: 0.8929\n",
      "Epoch 232/300\n",
      "1/1 - 0s - loss: 0.3848 - accuracy: 0.8929\n",
      "Epoch 233/300\n",
      "1/1 - 0s - loss: 0.3823 - accuracy: 0.8929\n",
      "Epoch 234/300\n",
      "1/1 - 0s - loss: 0.3799 - accuracy: 0.8929\n",
      "Epoch 235/300\n",
      "1/1 - 0s - loss: 0.3775 - accuracy: 0.8929\n",
      "Epoch 236/300\n",
      "1/1 - 0s - loss: 0.3752 - accuracy: 0.8929\n",
      "Epoch 237/300\n",
      "1/1 - 0s - loss: 0.3729 - accuracy: 0.8929\n",
      "Epoch 238/300\n",
      "1/1 - 0s - loss: 0.3706 - accuracy: 0.8929\n",
      "Epoch 239/300\n",
      "1/1 - 0s - loss: 0.3683 - accuracy: 0.8929\n",
      "Epoch 240/300\n",
      "1/1 - 0s - loss: 0.3661 - accuracy: 0.8929\n",
      "Epoch 241/300\n",
      "1/1 - 0s - loss: 0.3639 - accuracy: 0.8929\n",
      "Epoch 242/300\n",
      "1/1 - 0s - loss: 0.3618 - accuracy: 0.8929\n",
      "Epoch 243/300\n",
      "1/1 - 0s - loss: 0.3596 - accuracy: 0.8929\n",
      "Epoch 244/300\n",
      "1/1 - 0s - loss: 0.3575 - accuracy: 0.8929\n",
      "Epoch 245/300\n",
      "1/1 - 0s - loss: 0.3555 - accuracy: 0.8929\n",
      "Epoch 246/300\n",
      "1/1 - 0s - loss: 0.3534 - accuracy: 0.8929\n",
      "Epoch 247/300\n",
      "1/1 - 0s - loss: 0.3514 - accuracy: 0.8929\n",
      "Epoch 248/300\n",
      "1/1 - 0s - loss: 0.3495 - accuracy: 0.8929\n",
      "Epoch 249/300\n",
      "1/1 - 0s - loss: 0.3475 - accuracy: 0.8929\n",
      "Epoch 250/300\n",
      "1/1 - 0s - loss: 0.3456 - accuracy: 0.8929\n",
      "Epoch 251/300\n",
      "1/1 - 0s - loss: 0.3437 - accuracy: 0.8929\n",
      "Epoch 252/300\n",
      "1/1 - 0s - loss: 0.3418 - accuracy: 0.8929\n",
      "Epoch 253/300\n",
      "1/1 - 0s - loss: 0.3400 - accuracy: 0.8929\n",
      "Epoch 254/300\n",
      "1/1 - 0s - loss: 0.3382 - accuracy: 0.8929\n",
      "Epoch 255/300\n",
      "1/1 - 0s - loss: 0.3364 - accuracy: 0.8929\n",
      "Epoch 256/300\n",
      "1/1 - 0s - loss: 0.3347 - accuracy: 0.8929\n",
      "Epoch 257/300\n",
      "1/1 - 0s - loss: 0.3329 - accuracy: 0.8929\n",
      "Epoch 258/300\n",
      "1/1 - 0s - loss: 0.3312 - accuracy: 0.8929\n",
      "Epoch 259/300\n",
      "1/1 - 0s - loss: 0.3295 - accuracy: 0.8929\n",
      "Epoch 260/300\n",
      "1/1 - 0s - loss: 0.3279 - accuracy: 0.8929\n",
      "Epoch 261/300\n",
      "1/1 - 0s - loss: 0.3263 - accuracy: 0.8929\n",
      "Epoch 262/300\n",
      "1/1 - 0s - loss: 0.3246 - accuracy: 0.8929\n",
      "Epoch 263/300\n",
      "1/1 - 0s - loss: 0.3231 - accuracy: 0.8929\n",
      "Epoch 264/300\n",
      "1/1 - 0s - loss: 0.3215 - accuracy: 0.8929\n",
      "Epoch 265/300\n",
      "1/1 - 0s - loss: 0.3200 - accuracy: 0.8929\n",
      "Epoch 266/300\n",
      "1/1 - 0s - loss: 0.3185 - accuracy: 0.8929\n",
      "Epoch 267/300\n",
      "1/1 - 0s - loss: 0.3170 - accuracy: 0.8929\n",
      "Epoch 268/300\n",
      "1/1 - 0s - loss: 0.3155 - accuracy: 0.8929\n",
      "Epoch 269/300\n",
      "1/1 - 0s - loss: 0.3141 - accuracy: 0.8929\n",
      "Epoch 270/300\n",
      "1/1 - 0s - loss: 0.3127 - accuracy: 0.8929\n",
      "Epoch 271/300\n",
      "1/1 - 0s - loss: 0.3113 - accuracy: 0.8929\n",
      "Epoch 272/300\n",
      "1/1 - 0s - loss: 0.3099 - accuracy: 0.8929\n",
      "Epoch 273/300\n",
      "1/1 - 0s - loss: 0.3085 - accuracy: 0.8929\n",
      "Epoch 274/300\n",
      "1/1 - 0s - loss: 0.3072 - accuracy: 0.8929\n",
      "Epoch 275/300\n",
      "1/1 - 0s - loss: 0.3059 - accuracy: 0.8929\n",
      "Epoch 276/300\n",
      "1/1 - 0s - loss: 0.3046 - accuracy: 0.8929\n",
      "Epoch 277/300\n",
      "1/1 - 0s - loss: 0.3033 - accuracy: 0.8929\n",
      "Epoch 278/300\n",
      "1/1 - 0s - loss: 0.3020 - accuracy: 0.8929\n",
      "Epoch 279/300\n",
      "1/1 - 0s - loss: 0.3008 - accuracy: 0.8929\n",
      "Epoch 280/300\n",
      "1/1 - 0s - loss: 0.2996 - accuracy: 0.8929\n",
      "Epoch 281/300\n",
      "1/1 - 0s - loss: 0.2984 - accuracy: 0.8929\n",
      "Epoch 282/300\n",
      "1/1 - 0s - loss: 0.2972 - accuracy: 0.8929\n",
      "Epoch 283/300\n",
      "1/1 - 0s - loss: 0.2960 - accuracy: 0.8929\n",
      "Epoch 284/300\n",
      "1/1 - 0s - loss: 0.2949 - accuracy: 0.8929\n",
      "Epoch 285/300\n",
      "1/1 - 0s - loss: 0.2938 - accuracy: 0.8929\n",
      "Epoch 286/300\n",
      "1/1 - 0s - loss: 0.2927 - accuracy: 0.8929\n",
      "Epoch 287/300\n",
      "1/1 - 0s - loss: 0.2916 - accuracy: 0.8929\n",
      "Epoch 288/300\n",
      "1/1 - 0s - loss: 0.2905 - accuracy: 0.8929\n",
      "Epoch 289/300\n",
      "1/1 - 0s - loss: 0.2894 - accuracy: 0.8929\n",
      "Epoch 290/300\n",
      "1/1 - 0s - loss: 0.2884 - accuracy: 0.8929\n"
     ]
    },
    {
     "name": "stdout",
     "output_type": "stream",
     "text": [
      "Epoch 291/300\n",
      "1/1 - 0s - loss: 0.2874 - accuracy: 0.8929\n",
      "Epoch 292/300\n",
      "1/1 - 0s - loss: 0.2863 - accuracy: 0.8929\n",
      "Epoch 293/300\n",
      "1/1 - 0s - loss: 0.2853 - accuracy: 0.8929\n",
      "Epoch 294/300\n",
      "1/1 - 0s - loss: 0.2844 - accuracy: 0.8929\n",
      "Epoch 295/300\n",
      "1/1 - 0s - loss: 0.2834 - accuracy: 0.8929\n",
      "Epoch 296/300\n",
      "1/1 - 0s - loss: 0.2824 - accuracy: 0.8929\n",
      "Epoch 297/300\n",
      "1/1 - 0s - loss: 0.2815 - accuracy: 0.8929\n",
      "Epoch 298/300\n",
      "1/1 - 0s - loss: 0.2806 - accuracy: 0.8929\n",
      "Epoch 299/300\n",
      "1/1 - 0s - loss: 0.2797 - accuracy: 0.8929\n",
      "Epoch 300/300\n",
      "1/1 - 0s - loss: 0.2788 - accuracy: 0.8929\n"
     ]
    }
   ],
   "source": [
    "from tensorflow.keras.models import Sequential\n",
    "from tensorflow.keras.layers import SimpleRNN, Dense, Embedding\n",
    "\n",
    "# RNN 모델 생성\n",
    "model = Sequential()\n",
    "# 희소행렬로 변환 (10:벡터)\n",
    "model.add(Embedding(vocab_size, 10, input_length=X.shape[1]))\n",
    "model.add(SimpleRNN(32))\n",
    "model.add(Dense(vocab_size, activation=\"softmax\"))\n",
    "\n",
    "# 모델 학습과정 설정\n",
    "model.compile(loss=\"categorical_crossentropy\", optimizer=\"adam\", \n",
    "              metrics=['accuracy'])\n",
    "\n",
    "# 학습시키기\n",
    "hist = model.fit(X, Y, epochs=300, verbose=2)"
   ]
  },
  {
   "cell_type": "code",
   "execution_count": null,
   "metadata": {},
   "outputs": [],
   "source": []
  },
  {
   "cell_type": "code",
   "execution_count": null,
   "metadata": {},
   "outputs": [],
   "source": []
  },
  {
   "cell_type": "code",
   "execution_count": null,
   "metadata": {},
   "outputs": [],
   "source": []
  },
  {
   "cell_type": "code",
   "execution_count": null,
   "metadata": {},
   "outputs": [],
   "source": []
  },
  {
   "cell_type": "code",
   "execution_count": null,
   "metadata": {},
   "outputs": [],
   "source": []
  },
  {
   "cell_type": "code",
   "execution_count": null,
   "metadata": {},
   "outputs": [],
   "source": []
  },
  {
   "cell_type": "code",
   "execution_count": null,
   "metadata": {},
   "outputs": [],
   "source": []
  }
 ],
 "metadata": {
  "kernelspec": {
   "display_name": "Python 3",
   "language": "python",
   "name": "python3"
  },
  "language_info": {
   "codemirror_mode": {
    "name": "ipython",
    "version": 3
   },
   "file_extension": ".py",
   "mimetype": "text/x-python",
   "name": "python",
   "nbconvert_exporter": "python",
   "pygments_lexer": "ipython3",
   "version": "3.8.5"
  },
  "toc": {
   "base_numbering": 1,
   "nav_menu": {},
   "number_sections": true,
   "sideBar": true,
   "skip_h1_title": false,
   "title_cell": "Table of Contents",
   "title_sidebar": "Contents",
   "toc_cell": false,
   "toc_position": {},
   "toc_section_display": true,
   "toc_window_display": false
  },
  "varInspector": {
   "cols": {
    "lenName": 16,
    "lenType": 16,
    "lenVar": 40
   },
   "kernels_config": {
    "python": {
     "delete_cmd_postfix": "",
     "delete_cmd_prefix": "del ",
     "library": "var_list.py",
     "varRefreshCmd": "print(var_dic_list())"
    },
    "r": {
     "delete_cmd_postfix": ") ",
     "delete_cmd_prefix": "rm(",
     "library": "var_list.r",
     "varRefreshCmd": "cat(var_dic_list()) "
    }
   },
   "types_to_exclude": [
    "module",
    "function",
    "builtin_function_or_method",
    "instance",
    "_Feature"
   ],
   "window_display": false
  }
 },
 "nbformat": 4,
 "nbformat_minor": 4
}
